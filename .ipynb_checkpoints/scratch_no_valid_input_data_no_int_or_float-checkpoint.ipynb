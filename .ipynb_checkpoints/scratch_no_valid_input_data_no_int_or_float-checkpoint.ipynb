{
 "cells": [
  {
   "cell_type": "code",
   "execution_count": 1,
   "metadata": {
    "collapsed": true,
    "ExecuteTime": {
     "end_time": "2023-06-12T10:18:30.829074400Z",
     "start_time": "2023-06-12T10:18:19.497255900Z"
    }
   },
   "outputs": [
    {
     "name": "stdout",
     "output_type": "stream",
     "text": [
      "Unexpected exception formatting exception. Falling back to standard exception\n"
     ]
    }
   ],
   "source": [
    "# from data_classes import OwnColors, FillType\n",
    "# from excel_manager import ExcelManager\n",
    "# from nice_functions import NiceExcelFunction\n",
    "# from validate_input_data import validate_if_there_is_a_float_or_integer_in_cell, style_color_cells_with_given_indexes"
   ]
  },
  {
   "cell_type": "code",
   "execution_count": null,
   "outputs": [],
   "source": [
    "\n",
    "path = r\"C:\\Users\\robbe\\Downloads\\python\\checking validate input sheets\\python_plain_data_wrong_input_cells_like_no_float_or_int - Copy.xlsx\""
   ],
   "metadata": {
    "collapsed": false,
    "is_executing": true
   }
  },
  {
   "cell_type": "code",
   "execution_count": null,
   "outputs": [],
   "source": [
    "from excel_manager import ExcelManager\n",
    "\n",
    "#make instance of excel manger\n",
    "manager = ExcelManager(path)\n",
    "\n",
    "# load the workbook in\n",
    "manager.load_workbook()\n",
    "\n",
    "# check the sheet names\n",
    "sheet_names = manager.get_sheet_names()\n",
    "print(sheet_names)"
   ],
   "metadata": {
    "collapsed": false,
    "is_executing": true
   }
  },
  {
   "cell_type": "code",
   "execution_count": null,
   "outputs": [],
   "source": [
    "start_row_table = 13\n",
    "column_end = NiceExcelFunction.get_column_index_from_letter(column_letter=\"O\")\n",
    "\n",
    "\n",
    "sheet_names_samples = sheet_names[:1]\n",
    "for sheet_name in sheet_names_samples:\n",
    "    print(f\"started with sheet: {sheet_name}\")\n",
    "    # loading the data frame\n",
    "    data_frame = manager.load_sheet_table(sheet_name=sheet_name, start_row=start_row_table, end_column=column_end)\n",
    "\n",
    "    manager.fill_dict_panda_data_frames(data_frame=data_frame, sheets=[sheet_name])"
   ],
   "metadata": {
    "collapsed": false
   }
  },
  {
   "cell_type": "code",
   "execution_count": null,
   "outputs": [],
   "source": [
    "dict_data_frames = manager.get_dict_panda_data_frames()"
   ],
   "metadata": {
    "collapsed": false
   }
  },
  {
   "cell_type": "markdown",
   "source": [],
   "metadata": {
    "collapsed": false
   }
  },
  {
   "cell_type": "code",
   "execution_count": null,
   "outputs": [],
   "source": [
    "dict_sheet_name_column_names_indexes = {}\n",
    "list_column_names_to_be_checked = ['P atm [hPa]', 'P sample before gc [hPa]', 'P sample after gc [hPa]', 'CH4 [%]', 'CO2 [%]', 'O2 [%]', 'N2 [%]', 'Flush (1=yes; 0=no)']\n",
    "\n",
    "for sheet_name in sheet_names_samples:\n",
    "    dict_sheet_name_column_names_indexes[sheet_name]= {}\n",
    "    data_frame = dict_data_frames[sheet_name]\n",
    "    for column_name in list_column_names_to_be_checked:\n",
    "        indexes = validate_if_there_is_a_float_or_integer_in_cell(data_frame=data_frame, column_name=column_name)\n",
    "        dict_sheet_name_column_names_indexes[sheet_name][column_name] = indexes[1]\n",
    "\n",
    "print(dict_sheet_name_column_names_indexes)"
   ],
   "metadata": {
    "collapsed": false
   }
  },
  {
   "cell_type": "code",
   "execution_count": null,
   "outputs": [],
   "source": [
    "workbook = manager.workbook_values\n",
    "# workbook = load_workbook(filename=path, data_only=True)\n",
    "\n",
    "for sheet_name in sheet_names_samples:\n",
    "    data_frame = dict_data_frames\n",
    "    style_color_cells_with_given_indexes(workbook=workbook, dict_sheet_name_column_names_indexes=dict_sheet_name_column_names_indexes,\n",
    "                                         header_row=start_row_table, color=OwnColors.yellow, fill_type=FillType.solid, start_row_values_table_in_excel=start_row_table+1)\n",
    "\n"
   ],
   "metadata": {
    "collapsed": false
   }
  },
  {
   "cell_type": "code",
   "execution_count": null,
   "outputs": [],
   "source": [],
   "metadata": {
    "collapsed": false
   }
  }
 ],
 "metadata": {
  "kernelspec": {
   "display_name": "Python 3",
   "language": "python",
   "name": "python3"
  },
  "language_info": {
   "codemirror_mode": {
    "name": "ipython",
    "version": 2
   },
   "file_extension": ".py",
   "mimetype": "text/x-python",
   "name": "python",
   "nbconvert_exporter": "python",
   "pygments_lexer": "ipython2",
   "version": "2.7.6"
  }
 },
 "nbformat": 4,
 "nbformat_minor": 0
}
