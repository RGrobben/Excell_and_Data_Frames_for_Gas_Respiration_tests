{
 "cells": [
  {
   "cell_type": "code",
   "execution_count": 1,
   "metadata": {
    "collapsed": true,
    "ExecuteTime": {
     "start_time": "2023-06-05T13:07:20.147129Z",
     "end_time": "2023-06-05T13:07:21.340647Z"
    }
   },
   "outputs": [],
   "source": [
    "from openpyxl.chart import BarChart, Reference\n",
    "\n",
    "from excel_manager import ExcelManager, NiceExcelFunction, NicePandaFrameFunctions\n",
    "from run_data_frame_calculations import RunDataFrameCalculationsForOneDataFrame\n",
    "import pandas as pd\n",
    "import matplotlib.pyplot as plt\n",
    "import plotly.express as px\n",
    "\n"
   ]
  },
  {
   "cell_type": "code",
   "execution_count": 2,
   "outputs": [],
   "source": [
    "\n",
    "path_input_excel = r\"C:\\Users\\robbe\\Downloads\\Gas_production_KRA_BEP_R.Grobben_final_RESULTS.xlsx\"\n",
    "\n",
    "#make instance of excel manger\n",
    "manager = ExcelManager(path_input_excel)\n",
    "\n",
    "# load the workbook in\n",
    "manager.load_workbook()"
   ],
   "metadata": {
    "collapsed": false,
    "ExecuteTime": {
     "start_time": "2023-06-05T13:07:21.344115Z",
     "end_time": "2023-06-05T13:07:22.961922Z"
    }
   }
  },
  {
   "cell_type": "code",
   "execution_count": 3,
   "outputs": [
    {
     "name": "stdout",
     "output_type": "stream",
     "text": [
      "['Notes', 'GT1.1', 'GT1.2', 'GT2.1', 'GT2.2', 'GT3.1', 'GT3.2', 'GT4.1', 'GT4.2', 'GT5.1', 'GT5.2', 'GT6.1', 'GT6.2', 'GT7.1', 'GT7.2', 'GT8.1', 'GT8.2', 'Blad1']\n"
     ]
    }
   ],
   "source": [
    "# check the sheet names\n",
    "sheet_names = manager.get_sheet_names()\n",
    "print(sheet_names)"
   ],
   "metadata": {
    "collapsed": false,
    "ExecuteTime": {
     "start_time": "2023-06-05T13:07:22.963883Z",
     "end_time": "2023-06-05T13:07:22.977844Z"
    }
   }
  },
  {
   "cell_type": "code",
   "execution_count": 4,
   "outputs": [
    {
     "data": {
      "text/plain": "         None  constant                 Rgas      8314.5 Lpa/Kmol   \n0        None  constant              expTemp      293.15        K  \\\n1        None      None        Vol headspace       0.961      l     \n2        None  constant                 MM_C          12    g/mol   \n3        None      None        Water volume        0.098      l     \n4        None      None      Dry mass sample  153.607785      g     \n5        None  constant       Henryeff 20 °C     0.00523     None   \n6        None      None                 None        None     None   \n7    Raw data      None                 None        None     None   \n8        None      None                 None        None     None   \n9   Sample ID  Parallel                 Date        Time    P atm   \n10       None      None                 None        None      hPa   \n11  Sample ID  Parallel                 Date        Time    P atm   \n12        GT1         1  2023-04-19 00:00:00    14:42:00   1023.1   \n13        GT1         1  2023-04-24 00:00:00    10:20:00   1002.3   \n14        GT1         1  2023-04-24 00:00:00    11:25:00   1003.3   \n15        GT1         1  2023-04-26 00:00:00    08:52:00     1017   \n16        GT1         1  2023-04-26 00:00:00    09:53:00   1017.2   \n17        GT1         1  2023-04-28 00:00:00    09:45:00   1006.8   \n18        GT1         1  2023-05-01 00:00:00    13:50:00   1013.1   \n19        GT1         1  2023-05-01 00:00:00    14:49:00   1013.3   \n20        GT1         1  2023-05-04 00:00:00    09:26:00   1017.9   \n21        GT1         1  2023-05-04 00:00:00    10:46:00   1017.2   \n22        GT1         1  2023-05-08 00:00:00    08:40:00   1018.7   \n23        GT1         1  2023-05-08 00:00:00    09:47:00   1018.7   \n24        GT1         1  2023-05-10 00:00:00    09:35:00   1007.5   \n25        GT1         1  2023-05-10 00:00:00    10:40:00     1008   \n26        GT1         1  2023-05-12 00:00:00    09:09:00   1014.4   \n27        GT1         1  2023-05-12 00:00:00    10:10:00   1014.9   \n28        GT1         1  2023-05-15 00:00:00    09:30:00   1012.5   \n29        GT1         1  2023-05-15 00:00:00    10:38:00   1012.8   \n30        GT1         1  2023-05-17 00:00:00    08:52:00     1025   \n31        GT1         1  2023-05-17 00:00:00    09:57:00   1025.6   \n32        GT1         1  2023-05-22 00:00:00    14:11:00   1013.1   \n33        GT1         1  2023-05-22 00:00:00    15:08:00   1013.6   \n\n                  None               None          None  None   None  ...   \n0                 None               None          None  None   None  ...  \\\n1                 None               None          None  None   None  ...   \n2                 None                  ?  Molar Mass C  None   None  ...   \n3                 None               None          None  None   None  ...   \n4                 None               None          None  None   None  ...   \n5                 None  for which liquid?          None  None   None  ...   \n6                 None               None          None  None   None  ...   \n7                 None               None          None  None   None  ...   \n8                 None               None          None  None   None  ...   \n9   P sample before gc  P sample after gc           CH4   CO2     O2  ...   \n10                 hPa                hPa             %     %      %  ...   \n11  P sample before gc  P sample after gc           CH4   CO2     O2  ...   \n12                 960              958.1          0.12  1.53   2.21  ...   \n13               962.2              959.8          0.25  2.41   1.59  ...   \n14              1104.6             1085.8             0  0.74  19.79  ...   \n15                 954                951          0.03  2.72   8.46  ...   \n16              1120.8             1105.6             0  0.63  20.51  ...   \n17              1029.2             1025.8             0  4.52  11.77  ...   \n18              1042.7             1039.9             0  5.74   9.74  ...   \n19              1114.6             1110.6             0  0.78   20.5  ...   \n20              1050.6             1046.6             0  5.34  12.97  ...   \n21              1122.1             1119.1             0   0.5  20.32  ...   \n22              1037.5             1035.2             0  6.98   8.07  ...   \n23              1123.2             1120.3             0  0.57  20.11  ...   \n24                1073             1070.6             0  4.77  15.79  ...   \n25              1112.4             1109.9             0   0.4  20.24  ...   \n26              1068.8             1066.2             0   3.7  15.45  ...   \n27              1118.6             1115.3             0  0.41  20.26  ...   \n28              1068.2             1061.9             0  4.43  15.52  ...   \n29              1117.1             1113.5             0  0.42  20.54  ...   \n30              1088.6             1086.7             0  3.02  18.61  ...   \n31                1129             1125.8             0  0.29  20.55  ...   \n32              1074.8             1072.5             0  7.08  12.54  ...   \n33                1112             1108.6             0  0.64  20.31  ...   \n\n                  None                None          None   \n0                 None                None          None  \\\n1                 None                None          None   \n2                 None                None          None   \n3                 None                None          None   \n4                 None                None          None   \n5                 None                None          None   \n6                 None                None     ? Why DM?   \n7                 None                None          None   \n8                 None                None          None   \n9   CO2 produced_ cum   mCTot_produced_cum  Cgas_DM_cum    \n10               mol                 mol        mg C/gDW   \n11                None                None          None   \n12                None                None          None   \n13                None                None          None   \n14                None                None          None   \n15                None                None          None   \n16                None                None          None   \n17                None                None          None   \n18                None                None          None   \n19                None                None          None   \n20                None                None          None   \n21                None                None          None   \n22                None                None          None   \n23                None                None          None   \n24                None                None          None   \n25                None                None          None   \n26                None                None          None   \n27                None                None          None   \n28                None                None          None   \n29                None                None          None   \n30                None                None          None   \n31                None                None          None   \n32                None                None          None   \n33                None                None          None   \n\n                      None     None     None                   None      None   \n0                     None     None     None                   None      None  \\\n1                     None     None     None                  DIC=?      None   \n2                     None     None     None  Dissolved Inorganic C      None   \n3                     None     None     None                   None      None   \n4                     None     None     None                   None      None   \n5       Partial Pressure..     None     None                   None      None   \n6                     PP ?     None     None                   None      None   \n7                     None     None     None                   None      None   \n8   C in the aqueous phase     None     None                   None      None   \n9                PP CO2_b   CO2_aq   CO2_aq        CO2_produced_aq    DIC_cum   \n10                      Pa   mol/m3      mol                    mol  mg C/gDW   \n11                    None     None     None                   None      None   \n12                    None     None     None                   None      None   \n13                    None     None     None                   None      None   \n14                    None     None     None                   None      None   \n15                    None     None     None                   None      None   \n16                    None     None     None                   None      None   \n17                    None     None     None                   None      None   \n18                    None     None     None                   None      None   \n19                    None     None     None                   None      None   \n20                    None     None     None                   None      None   \n21                    None     None     None                   None      None   \n22                    None     None     None                   None      None   \n23                    None     None     None                   None      None   \n24                    None     None     None                   None      None   \n25                    None     None     None                   None      None   \n26                    None     None     None                   None      None   \n27                    None     None     None                   None      None   \n28                    None     None     None                   None      None   \n29                    None     None     None                   None      None   \n30                    None     None     None                   None      None   \n31                    None     None     None                   None      None   \n32                    None     None     None                   None      None   \n33                    None     None     None                   None      None   \n\n        None          None  \n0       None          None  \n1       None          DM ?  \n2       None      Dry Mass  \n3       None          None  \n4       None          None  \n5       None          None  \n6       None          None  \n7       None          None  \n8       None          None  \n9   Ctot_DM   Ratio O2/CO2  \n10  mg C/gDW             -  \n11      None          None  \n12      None          None  \n13      None          None  \n14      None          None  \n15      None          None  \n16      None          None  \n17      None          None  \n18      None          None  \n19      None          None  \n20      None          None  \n21      None          None  \n22      None          None  \n23      None          None  \n24      None          None  \n25      None          None  \n26      None          None  \n27      None          None  \n28      None          None  \n29      None          None  \n30      None          None  \n31      None          None  \n32      None          None  \n33      None          None  \n\n[34 rows x 49 columns]",
      "text/html": "<div>\n<style scoped>\n    .dataframe tbody tr th:only-of-type {\n        vertical-align: middle;\n    }\n\n    .dataframe tbody tr th {\n        vertical-align: top;\n    }\n\n    .dataframe thead th {\n        text-align: right;\n    }\n</style>\n<table border=\"1\" class=\"dataframe\">\n  <thead>\n    <tr style=\"text-align: right;\">\n      <th></th>\n      <th>None</th>\n      <th>constant</th>\n      <th>Rgas</th>\n      <th>8314.5</th>\n      <th>Lpa/Kmol</th>\n      <th>None</th>\n      <th>None</th>\n      <th>None</th>\n      <th>None</th>\n      <th>None</th>\n      <th>...</th>\n      <th>None</th>\n      <th>None</th>\n      <th>None</th>\n      <th>None</th>\n      <th>None</th>\n      <th>None</th>\n      <th>None</th>\n      <th>None</th>\n      <th>None</th>\n      <th>None</th>\n    </tr>\n  </thead>\n  <tbody>\n    <tr>\n      <th>0</th>\n      <td>None</td>\n      <td>constant</td>\n      <td>expTemp</td>\n      <td>293.15</td>\n      <td>K</td>\n      <td>None</td>\n      <td>None</td>\n      <td>None</td>\n      <td>None</td>\n      <td>None</td>\n      <td>...</td>\n      <td>None</td>\n      <td>None</td>\n      <td>None</td>\n      <td>None</td>\n      <td>None</td>\n      <td>None</td>\n      <td>None</td>\n      <td>None</td>\n      <td>None</td>\n      <td>None</td>\n    </tr>\n    <tr>\n      <th>1</th>\n      <td>None</td>\n      <td>None</td>\n      <td>Vol headspace</td>\n      <td>0.961</td>\n      <td>l</td>\n      <td>None</td>\n      <td>None</td>\n      <td>None</td>\n      <td>None</td>\n      <td>None</td>\n      <td>...</td>\n      <td>None</td>\n      <td>None</td>\n      <td>None</td>\n      <td>None</td>\n      <td>None</td>\n      <td>None</td>\n      <td>DIC=?</td>\n      <td>None</td>\n      <td>None</td>\n      <td>DM ?</td>\n    </tr>\n    <tr>\n      <th>2</th>\n      <td>None</td>\n      <td>constant</td>\n      <td>MM_C</td>\n      <td>12</td>\n      <td>g/mol</td>\n      <td>None</td>\n      <td>?</td>\n      <td>Molar Mass C</td>\n      <td>None</td>\n      <td>None</td>\n      <td>...</td>\n      <td>None</td>\n      <td>None</td>\n      <td>None</td>\n      <td>None</td>\n      <td>None</td>\n      <td>None</td>\n      <td>Dissolved Inorganic C</td>\n      <td>None</td>\n      <td>None</td>\n      <td>Dry Mass</td>\n    </tr>\n    <tr>\n      <th>3</th>\n      <td>None</td>\n      <td>None</td>\n      <td>Water volume</td>\n      <td>0.098</td>\n      <td>l</td>\n      <td>None</td>\n      <td>None</td>\n      <td>None</td>\n      <td>None</td>\n      <td>None</td>\n      <td>...</td>\n      <td>None</td>\n      <td>None</td>\n      <td>None</td>\n      <td>None</td>\n      <td>None</td>\n      <td>None</td>\n      <td>None</td>\n      <td>None</td>\n      <td>None</td>\n      <td>None</td>\n    </tr>\n    <tr>\n      <th>4</th>\n      <td>None</td>\n      <td>None</td>\n      <td>Dry mass sample</td>\n      <td>153.607785</td>\n      <td>g</td>\n      <td>None</td>\n      <td>None</td>\n      <td>None</td>\n      <td>None</td>\n      <td>None</td>\n      <td>...</td>\n      <td>None</td>\n      <td>None</td>\n      <td>None</td>\n      <td>None</td>\n      <td>None</td>\n      <td>None</td>\n      <td>None</td>\n      <td>None</td>\n      <td>None</td>\n      <td>None</td>\n    </tr>\n    <tr>\n      <th>5</th>\n      <td>None</td>\n      <td>constant</td>\n      <td>Henryeff 20 °C</td>\n      <td>0.00523</td>\n      <td>None</td>\n      <td>None</td>\n      <td>for which liquid?</td>\n      <td>None</td>\n      <td>None</td>\n      <td>None</td>\n      <td>...</td>\n      <td>None</td>\n      <td>None</td>\n      <td>None</td>\n      <td>Partial Pressure..</td>\n      <td>None</td>\n      <td>None</td>\n      <td>None</td>\n      <td>None</td>\n      <td>None</td>\n      <td>None</td>\n    </tr>\n    <tr>\n      <th>6</th>\n      <td>None</td>\n      <td>None</td>\n      <td>None</td>\n      <td>None</td>\n      <td>None</td>\n      <td>None</td>\n      <td>None</td>\n      <td>None</td>\n      <td>None</td>\n      <td>None</td>\n      <td>...</td>\n      <td>None</td>\n      <td>None</td>\n      <td>? Why DM?</td>\n      <td>PP ?</td>\n      <td>None</td>\n      <td>None</td>\n      <td>None</td>\n      <td>None</td>\n      <td>None</td>\n      <td>None</td>\n    </tr>\n    <tr>\n      <th>7</th>\n      <td>Raw data</td>\n      <td>None</td>\n      <td>None</td>\n      <td>None</td>\n      <td>None</td>\n      <td>None</td>\n      <td>None</td>\n      <td>None</td>\n      <td>None</td>\n      <td>None</td>\n      <td>...</td>\n      <td>None</td>\n      <td>None</td>\n      <td>None</td>\n      <td>None</td>\n      <td>None</td>\n      <td>None</td>\n      <td>None</td>\n      <td>None</td>\n      <td>None</td>\n      <td>None</td>\n    </tr>\n    <tr>\n      <th>8</th>\n      <td>None</td>\n      <td>None</td>\n      <td>None</td>\n      <td>None</td>\n      <td>None</td>\n      <td>None</td>\n      <td>None</td>\n      <td>None</td>\n      <td>None</td>\n      <td>None</td>\n      <td>...</td>\n      <td>None</td>\n      <td>None</td>\n      <td>None</td>\n      <td>C in the aqueous phase</td>\n      <td>None</td>\n      <td>None</td>\n      <td>None</td>\n      <td>None</td>\n      <td>None</td>\n      <td>None</td>\n    </tr>\n    <tr>\n      <th>9</th>\n      <td>Sample ID</td>\n      <td>Parallel</td>\n      <td>Date</td>\n      <td>Time</td>\n      <td>P atm</td>\n      <td>P sample before gc</td>\n      <td>P sample after gc</td>\n      <td>CH4</td>\n      <td>CO2</td>\n      <td>O2</td>\n      <td>...</td>\n      <td>CO2 produced_ cum</td>\n      <td>mCTot_produced_cum</td>\n      <td>Cgas_DM_cum</td>\n      <td>PP CO2_b</td>\n      <td>CO2_aq</td>\n      <td>CO2_aq</td>\n      <td>CO2_produced_aq</td>\n      <td>DIC_cum</td>\n      <td>Ctot_DM</td>\n      <td>Ratio O2/CO2</td>\n    </tr>\n    <tr>\n      <th>10</th>\n      <td>None</td>\n      <td>None</td>\n      <td>None</td>\n      <td>None</td>\n      <td>hPa</td>\n      <td>hPa</td>\n      <td>hPa</td>\n      <td>%</td>\n      <td>%</td>\n      <td>%</td>\n      <td>...</td>\n      <td>mol</td>\n      <td>mol</td>\n      <td>mg C/gDW</td>\n      <td>Pa</td>\n      <td>mol/m3</td>\n      <td>mol</td>\n      <td>mol</td>\n      <td>mg C/gDW</td>\n      <td>mg C/gDW</td>\n      <td>-</td>\n    </tr>\n    <tr>\n      <th>11</th>\n      <td>Sample ID</td>\n      <td>Parallel</td>\n      <td>Date</td>\n      <td>Time</td>\n      <td>P atm</td>\n      <td>P sample before gc</td>\n      <td>P sample after gc</td>\n      <td>CH4</td>\n      <td>CO2</td>\n      <td>O2</td>\n      <td>...</td>\n      <td>None</td>\n      <td>None</td>\n      <td>None</td>\n      <td>None</td>\n      <td>None</td>\n      <td>None</td>\n      <td>None</td>\n      <td>None</td>\n      <td>None</td>\n      <td>None</td>\n    </tr>\n    <tr>\n      <th>12</th>\n      <td>GT1</td>\n      <td>1</td>\n      <td>2023-04-19 00:00:00</td>\n      <td>14:42:00</td>\n      <td>1023.1</td>\n      <td>960</td>\n      <td>958.1</td>\n      <td>0.12</td>\n      <td>1.53</td>\n      <td>2.21</td>\n      <td>...</td>\n      <td>None</td>\n      <td>None</td>\n      <td>None</td>\n      <td>None</td>\n      <td>None</td>\n      <td>None</td>\n      <td>None</td>\n      <td>None</td>\n      <td>None</td>\n      <td>None</td>\n    </tr>\n    <tr>\n      <th>13</th>\n      <td>GT1</td>\n      <td>1</td>\n      <td>2023-04-24 00:00:00</td>\n      <td>10:20:00</td>\n      <td>1002.3</td>\n      <td>962.2</td>\n      <td>959.8</td>\n      <td>0.25</td>\n      <td>2.41</td>\n      <td>1.59</td>\n      <td>...</td>\n      <td>None</td>\n      <td>None</td>\n      <td>None</td>\n      <td>None</td>\n      <td>None</td>\n      <td>None</td>\n      <td>None</td>\n      <td>None</td>\n      <td>None</td>\n      <td>None</td>\n    </tr>\n    <tr>\n      <th>14</th>\n      <td>GT1</td>\n      <td>1</td>\n      <td>2023-04-24 00:00:00</td>\n      <td>11:25:00</td>\n      <td>1003.3</td>\n      <td>1104.6</td>\n      <td>1085.8</td>\n      <td>0</td>\n      <td>0.74</td>\n      <td>19.79</td>\n      <td>...</td>\n      <td>None</td>\n      <td>None</td>\n      <td>None</td>\n      <td>None</td>\n      <td>None</td>\n      <td>None</td>\n      <td>None</td>\n      <td>None</td>\n      <td>None</td>\n      <td>None</td>\n    </tr>\n    <tr>\n      <th>15</th>\n      <td>GT1</td>\n      <td>1</td>\n      <td>2023-04-26 00:00:00</td>\n      <td>08:52:00</td>\n      <td>1017</td>\n      <td>954</td>\n      <td>951</td>\n      <td>0.03</td>\n      <td>2.72</td>\n      <td>8.46</td>\n      <td>...</td>\n      <td>None</td>\n      <td>None</td>\n      <td>None</td>\n      <td>None</td>\n      <td>None</td>\n      <td>None</td>\n      <td>None</td>\n      <td>None</td>\n      <td>None</td>\n      <td>None</td>\n    </tr>\n    <tr>\n      <th>16</th>\n      <td>GT1</td>\n      <td>1</td>\n      <td>2023-04-26 00:00:00</td>\n      <td>09:53:00</td>\n      <td>1017.2</td>\n      <td>1120.8</td>\n      <td>1105.6</td>\n      <td>0</td>\n      <td>0.63</td>\n      <td>20.51</td>\n      <td>...</td>\n      <td>None</td>\n      <td>None</td>\n      <td>None</td>\n      <td>None</td>\n      <td>None</td>\n      <td>None</td>\n      <td>None</td>\n      <td>None</td>\n      <td>None</td>\n      <td>None</td>\n    </tr>\n    <tr>\n      <th>17</th>\n      <td>GT1</td>\n      <td>1</td>\n      <td>2023-04-28 00:00:00</td>\n      <td>09:45:00</td>\n      <td>1006.8</td>\n      <td>1029.2</td>\n      <td>1025.8</td>\n      <td>0</td>\n      <td>4.52</td>\n      <td>11.77</td>\n      <td>...</td>\n      <td>None</td>\n      <td>None</td>\n      <td>None</td>\n      <td>None</td>\n      <td>None</td>\n      <td>None</td>\n      <td>None</td>\n      <td>None</td>\n      <td>None</td>\n      <td>None</td>\n    </tr>\n    <tr>\n      <th>18</th>\n      <td>GT1</td>\n      <td>1</td>\n      <td>2023-05-01 00:00:00</td>\n      <td>13:50:00</td>\n      <td>1013.1</td>\n      <td>1042.7</td>\n      <td>1039.9</td>\n      <td>0</td>\n      <td>5.74</td>\n      <td>9.74</td>\n      <td>...</td>\n      <td>None</td>\n      <td>None</td>\n      <td>None</td>\n      <td>None</td>\n      <td>None</td>\n      <td>None</td>\n      <td>None</td>\n      <td>None</td>\n      <td>None</td>\n      <td>None</td>\n    </tr>\n    <tr>\n      <th>19</th>\n      <td>GT1</td>\n      <td>1</td>\n      <td>2023-05-01 00:00:00</td>\n      <td>14:49:00</td>\n      <td>1013.3</td>\n      <td>1114.6</td>\n      <td>1110.6</td>\n      <td>0</td>\n      <td>0.78</td>\n      <td>20.5</td>\n      <td>...</td>\n      <td>None</td>\n      <td>None</td>\n      <td>None</td>\n      <td>None</td>\n      <td>None</td>\n      <td>None</td>\n      <td>None</td>\n      <td>None</td>\n      <td>None</td>\n      <td>None</td>\n    </tr>\n    <tr>\n      <th>20</th>\n      <td>GT1</td>\n      <td>1</td>\n      <td>2023-05-04 00:00:00</td>\n      <td>09:26:00</td>\n      <td>1017.9</td>\n      <td>1050.6</td>\n      <td>1046.6</td>\n      <td>0</td>\n      <td>5.34</td>\n      <td>12.97</td>\n      <td>...</td>\n      <td>None</td>\n      <td>None</td>\n      <td>None</td>\n      <td>None</td>\n      <td>None</td>\n      <td>None</td>\n      <td>None</td>\n      <td>None</td>\n      <td>None</td>\n      <td>None</td>\n    </tr>\n    <tr>\n      <th>21</th>\n      <td>GT1</td>\n      <td>1</td>\n      <td>2023-05-04 00:00:00</td>\n      <td>10:46:00</td>\n      <td>1017.2</td>\n      <td>1122.1</td>\n      <td>1119.1</td>\n      <td>0</td>\n      <td>0.5</td>\n      <td>20.32</td>\n      <td>...</td>\n      <td>None</td>\n      <td>None</td>\n      <td>None</td>\n      <td>None</td>\n      <td>None</td>\n      <td>None</td>\n      <td>None</td>\n      <td>None</td>\n      <td>None</td>\n      <td>None</td>\n    </tr>\n    <tr>\n      <th>22</th>\n      <td>GT1</td>\n      <td>1</td>\n      <td>2023-05-08 00:00:00</td>\n      <td>08:40:00</td>\n      <td>1018.7</td>\n      <td>1037.5</td>\n      <td>1035.2</td>\n      <td>0</td>\n      <td>6.98</td>\n      <td>8.07</td>\n      <td>...</td>\n      <td>None</td>\n      <td>None</td>\n      <td>None</td>\n      <td>None</td>\n      <td>None</td>\n      <td>None</td>\n      <td>None</td>\n      <td>None</td>\n      <td>None</td>\n      <td>None</td>\n    </tr>\n    <tr>\n      <th>23</th>\n      <td>GT1</td>\n      <td>1</td>\n      <td>2023-05-08 00:00:00</td>\n      <td>09:47:00</td>\n      <td>1018.7</td>\n      <td>1123.2</td>\n      <td>1120.3</td>\n      <td>0</td>\n      <td>0.57</td>\n      <td>20.11</td>\n      <td>...</td>\n      <td>None</td>\n      <td>None</td>\n      <td>None</td>\n      <td>None</td>\n      <td>None</td>\n      <td>None</td>\n      <td>None</td>\n      <td>None</td>\n      <td>None</td>\n      <td>None</td>\n    </tr>\n    <tr>\n      <th>24</th>\n      <td>GT1</td>\n      <td>1</td>\n      <td>2023-05-10 00:00:00</td>\n      <td>09:35:00</td>\n      <td>1007.5</td>\n      <td>1073</td>\n      <td>1070.6</td>\n      <td>0</td>\n      <td>4.77</td>\n      <td>15.79</td>\n      <td>...</td>\n      <td>None</td>\n      <td>None</td>\n      <td>None</td>\n      <td>None</td>\n      <td>None</td>\n      <td>None</td>\n      <td>None</td>\n      <td>None</td>\n      <td>None</td>\n      <td>None</td>\n    </tr>\n    <tr>\n      <th>25</th>\n      <td>GT1</td>\n      <td>1</td>\n      <td>2023-05-10 00:00:00</td>\n      <td>10:40:00</td>\n      <td>1008</td>\n      <td>1112.4</td>\n      <td>1109.9</td>\n      <td>0</td>\n      <td>0.4</td>\n      <td>20.24</td>\n      <td>...</td>\n      <td>None</td>\n      <td>None</td>\n      <td>None</td>\n      <td>None</td>\n      <td>None</td>\n      <td>None</td>\n      <td>None</td>\n      <td>None</td>\n      <td>None</td>\n      <td>None</td>\n    </tr>\n    <tr>\n      <th>26</th>\n      <td>GT1</td>\n      <td>1</td>\n      <td>2023-05-12 00:00:00</td>\n      <td>09:09:00</td>\n      <td>1014.4</td>\n      <td>1068.8</td>\n      <td>1066.2</td>\n      <td>0</td>\n      <td>3.7</td>\n      <td>15.45</td>\n      <td>...</td>\n      <td>None</td>\n      <td>None</td>\n      <td>None</td>\n      <td>None</td>\n      <td>None</td>\n      <td>None</td>\n      <td>None</td>\n      <td>None</td>\n      <td>None</td>\n      <td>None</td>\n    </tr>\n    <tr>\n      <th>27</th>\n      <td>GT1</td>\n      <td>1</td>\n      <td>2023-05-12 00:00:00</td>\n      <td>10:10:00</td>\n      <td>1014.9</td>\n      <td>1118.6</td>\n      <td>1115.3</td>\n      <td>0</td>\n      <td>0.41</td>\n      <td>20.26</td>\n      <td>...</td>\n      <td>None</td>\n      <td>None</td>\n      <td>None</td>\n      <td>None</td>\n      <td>None</td>\n      <td>None</td>\n      <td>None</td>\n      <td>None</td>\n      <td>None</td>\n      <td>None</td>\n    </tr>\n    <tr>\n      <th>28</th>\n      <td>GT1</td>\n      <td>1</td>\n      <td>2023-05-15 00:00:00</td>\n      <td>09:30:00</td>\n      <td>1012.5</td>\n      <td>1068.2</td>\n      <td>1061.9</td>\n      <td>0</td>\n      <td>4.43</td>\n      <td>15.52</td>\n      <td>...</td>\n      <td>None</td>\n      <td>None</td>\n      <td>None</td>\n      <td>None</td>\n      <td>None</td>\n      <td>None</td>\n      <td>None</td>\n      <td>None</td>\n      <td>None</td>\n      <td>None</td>\n    </tr>\n    <tr>\n      <th>29</th>\n      <td>GT1</td>\n      <td>1</td>\n      <td>2023-05-15 00:00:00</td>\n      <td>10:38:00</td>\n      <td>1012.8</td>\n      <td>1117.1</td>\n      <td>1113.5</td>\n      <td>0</td>\n      <td>0.42</td>\n      <td>20.54</td>\n      <td>...</td>\n      <td>None</td>\n      <td>None</td>\n      <td>None</td>\n      <td>None</td>\n      <td>None</td>\n      <td>None</td>\n      <td>None</td>\n      <td>None</td>\n      <td>None</td>\n      <td>None</td>\n    </tr>\n    <tr>\n      <th>30</th>\n      <td>GT1</td>\n      <td>1</td>\n      <td>2023-05-17 00:00:00</td>\n      <td>08:52:00</td>\n      <td>1025</td>\n      <td>1088.6</td>\n      <td>1086.7</td>\n      <td>0</td>\n      <td>3.02</td>\n      <td>18.61</td>\n      <td>...</td>\n      <td>None</td>\n      <td>None</td>\n      <td>None</td>\n      <td>None</td>\n      <td>None</td>\n      <td>None</td>\n      <td>None</td>\n      <td>None</td>\n      <td>None</td>\n      <td>None</td>\n    </tr>\n    <tr>\n      <th>31</th>\n      <td>GT1</td>\n      <td>1</td>\n      <td>2023-05-17 00:00:00</td>\n      <td>09:57:00</td>\n      <td>1025.6</td>\n      <td>1129</td>\n      <td>1125.8</td>\n      <td>0</td>\n      <td>0.29</td>\n      <td>20.55</td>\n      <td>...</td>\n      <td>None</td>\n      <td>None</td>\n      <td>None</td>\n      <td>None</td>\n      <td>None</td>\n      <td>None</td>\n      <td>None</td>\n      <td>None</td>\n      <td>None</td>\n      <td>None</td>\n    </tr>\n    <tr>\n      <th>32</th>\n      <td>GT1</td>\n      <td>1</td>\n      <td>2023-05-22 00:00:00</td>\n      <td>14:11:00</td>\n      <td>1013.1</td>\n      <td>1074.8</td>\n      <td>1072.5</td>\n      <td>0</td>\n      <td>7.08</td>\n      <td>12.54</td>\n      <td>...</td>\n      <td>None</td>\n      <td>None</td>\n      <td>None</td>\n      <td>None</td>\n      <td>None</td>\n      <td>None</td>\n      <td>None</td>\n      <td>None</td>\n      <td>None</td>\n      <td>None</td>\n    </tr>\n    <tr>\n      <th>33</th>\n      <td>GT1</td>\n      <td>1</td>\n      <td>2023-05-22 00:00:00</td>\n      <td>15:08:00</td>\n      <td>1013.6</td>\n      <td>1112</td>\n      <td>1108.6</td>\n      <td>0</td>\n      <td>0.64</td>\n      <td>20.31</td>\n      <td>...</td>\n      <td>None</td>\n      <td>None</td>\n      <td>None</td>\n      <td>None</td>\n      <td>None</td>\n      <td>None</td>\n      <td>None</td>\n      <td>None</td>\n      <td>None</td>\n      <td>None</td>\n    </tr>\n  </tbody>\n</table>\n<p>34 rows × 49 columns</p>\n</div>"
     },
     "metadata": {},
     "output_type": "display_data"
    },
    {
     "name": "stdout",
     "output_type": "stream",
     "text": [
      " As you can see now the full sheet is shown\n"
     ]
    }
   ],
   "source": [
    "# check if you can see the data_frame\n",
    "full_sheet = manager.load_sheet_table(sheet_name=\"GT1.1\", start_row=0)\n",
    "\n",
    "display(full_sheet)\n",
    "print(f' As you can see now the full sheet is shown')"
   ],
   "metadata": {
    "collapsed": false,
    "ExecuteTime": {
     "start_time": "2023-06-05T13:07:22.979838Z",
     "end_time": "2023-06-05T13:07:23.045863Z"
    }
   }
  },
  {
   "cell_type": "code",
   "execution_count": 5,
   "outputs": [],
   "source": [
    "column_names = ['Sample ID', 'Parallel', 'Date', 'Time', 'P atm', 'P sample before gc', 'P sample after gc', 'CH4', 'CO2', 'O2', 'N2', 'Flush (1=yes; 0=no)', 'Comments', 'GC method', 'Weight', 'Date + Time', 'Day', 'Sum', 'CH4-corr', 'CO2-corr', 'O2-corr', 'N2-corr', 'Sum-corr', 'mg_bs', 'mCO2_b', 'mCH4_b', 'mO2_b', 'mN2_b', 'mCTot_b', 'mg_as', 'mCO2_a', 'mCH4_a', 'mO2_a', 'mN2_a', 'mCTot_a', 'mCTot_produced', 'O2 consumed', 'CO2 produced', 'O2 consumed_cum', 'CO2 produced_cum', 'mCTot_produced_cum', 'Cgas_DM_cum', 'PP CO2_b', 'CO2_aq [mol/m3]', 'CO2_aq [mol]', 'CO2_produced_aq', 'DIC_cum', 'Ctot_DM', 'Ratio O2/CO2']\n",
    "\n",
    "basic_column_names = ['Sample ID', 'Parallel', 'Date', 'Time', 'P atm', 'P sample before gc', 'P sample after gc', 'CH4', 'CO2', 'O2', 'N2', 'Flush (1=yes; 0=no)', 'Comments', 'GC method', 'Weight']"
   ],
   "metadata": {
    "collapsed": false,
    "ExecuteTime": {
     "start_time": "2023-06-05T13:07:23.028319Z",
     "end_time": "2023-06-05T13:07:23.045863Z"
    }
   }
  },
  {
   "cell_type": "code",
   "execution_count": 6,
   "outputs": [
    {
     "data": {
      "text/plain": "    Sample ID  Parallel                 Date      Time   P atm   \n0   Sample ID  Parallel                 Date      Time   P atm  \\\n1         GT1         1  2023-04-19 00:00:00  14:42:00  1023.1   \n2         GT1         1  2023-04-24 00:00:00  10:20:00  1002.3   \n3         GT1         1  2023-04-24 00:00:00  11:25:00  1003.3   \n4         GT1         1  2023-04-26 00:00:00  08:52:00    1017   \n5         GT1         1  2023-04-26 00:00:00  09:53:00  1017.2   \n6         GT1         1  2023-04-28 00:00:00  09:45:00  1006.8   \n7         GT1         1  2023-05-01 00:00:00  13:50:00  1013.1   \n8         GT1         1  2023-05-01 00:00:00  14:49:00  1013.3   \n9         GT1         1  2023-05-04 00:00:00  09:26:00  1017.9   \n10        GT1         1  2023-05-04 00:00:00  10:46:00  1017.2   \n11        GT1         1  2023-05-08 00:00:00  08:40:00  1018.7   \n12        GT1         1  2023-05-08 00:00:00  09:47:00  1018.7   \n13        GT1         1  2023-05-10 00:00:00  09:35:00  1007.5   \n14        GT1         1  2023-05-10 00:00:00  10:40:00    1008   \n15        GT1         1  2023-05-12 00:00:00  09:09:00  1014.4   \n16        GT1         1  2023-05-12 00:00:00  10:10:00  1014.9   \n17        GT1         1  2023-05-15 00:00:00  09:30:00  1012.5   \n18        GT1         1  2023-05-15 00:00:00  10:38:00  1012.8   \n19        GT1         1  2023-05-17 00:00:00  08:52:00    1025   \n20        GT1         1  2023-05-17 00:00:00  09:57:00  1025.6   \n21        GT1         1  2023-05-22 00:00:00  14:11:00  1013.1   \n22        GT1         1  2023-05-22 00:00:00  15:08:00  1013.6   \n\n    P sample before gc  P sample after gc   CH4   CO2     O2  ...   \n0   P sample before gc  P sample after gc   CH4   CO2     O2  ...  \\\n1                  960              958.1  0.12  1.53   2.21  ...   \n2                962.2              959.8  0.25  2.41   1.59  ...   \n3               1104.6             1085.8     0  0.74  19.79  ...   \n4                  954                951  0.03  2.72   8.46  ...   \n5               1120.8             1105.6     0  0.63  20.51  ...   \n6               1029.2             1025.8     0  4.52  11.77  ...   \n7               1042.7             1039.9     0  5.74   9.74  ...   \n8               1114.6             1110.6     0  0.78   20.5  ...   \n9               1050.6             1046.6     0  5.34  12.97  ...   \n10              1122.1             1119.1     0   0.5  20.32  ...   \n11              1037.5             1035.2     0  6.98   8.07  ...   \n12              1123.2             1120.3     0  0.57  20.11  ...   \n13                1073             1070.6     0  4.77  15.79  ...   \n14              1112.4             1109.9     0   0.4  20.24  ...   \n15              1068.8             1066.2     0   3.7  15.45  ...   \n16              1118.6             1115.3     0  0.41  20.26  ...   \n17              1068.2             1061.9     0  4.43  15.52  ...   \n18              1117.1             1113.5     0  0.42  20.54  ...   \n19              1088.6             1086.7     0  3.02  18.61  ...   \n20                1129             1125.8     0  0.29  20.55  ...   \n21              1074.8             1072.5     0  7.08  12.54  ...   \n22                1112             1108.6     0  0.64  20.31  ...   \n\n   CO2 produced_cum mCTot_produced_cum Cgas_DM_cum PP CO2_b CO2_aq [mol/m3]   \n0              None               None        None     None            None  \\\n1              None               None        None     None            None   \n2              None               None        None     None            None   \n3              None               None        None     None            None   \n4              None               None        None     None            None   \n5              None               None        None     None            None   \n6              None               None        None     None            None   \n7              None               None        None     None            None   \n8              None               None        None     None            None   \n9              None               None        None     None            None   \n10             None               None        None     None            None   \n11             None               None        None     None            None   \n12             None               None        None     None            None   \n13             None               None        None     None            None   \n14             None               None        None     None            None   \n15             None               None        None     None            None   \n16             None               None        None     None            None   \n17             None               None        None     None            None   \n18             None               None        None     None            None   \n19             None               None        None     None            None   \n20             None               None        None     None            None   \n21             None               None        None     None            None   \n22             None               None        None     None            None   \n\n   CO2_aq [mol] CO2_produced_aq DIC_cum Ctot_DM Ratio O2/CO2  \n0          None            None    None    None         None  \n1          None            None    None    None         None  \n2          None            None    None    None         None  \n3          None            None    None    None         None  \n4          None            None    None    None         None  \n5          None            None    None    None         None  \n6          None            None    None    None         None  \n7          None            None    None    None         None  \n8          None            None    None    None         None  \n9          None            None    None    None         None  \n10         None            None    None    None         None  \n11         None            None    None    None         None  \n12         None            None    None    None         None  \n13         None            None    None    None         None  \n14         None            None    None    None         None  \n15         None            None    None    None         None  \n16         None            None    None    None         None  \n17         None            None    None    None         None  \n18         None            None    None    None         None  \n19         None            None    None    None         None  \n20         None            None    None    None         None  \n21         None            None    None    None         None  \n22         None            None    None    None         None  \n\n[23 rows x 49 columns]",
      "text/html": "<div>\n<style scoped>\n    .dataframe tbody tr th:only-of-type {\n        vertical-align: middle;\n    }\n\n    .dataframe tbody tr th {\n        vertical-align: top;\n    }\n\n    .dataframe thead th {\n        text-align: right;\n    }\n</style>\n<table border=\"1\" class=\"dataframe\">\n  <thead>\n    <tr style=\"text-align: right;\">\n      <th></th>\n      <th>Sample ID</th>\n      <th>Parallel</th>\n      <th>Date</th>\n      <th>Time</th>\n      <th>P atm</th>\n      <th>P sample before gc</th>\n      <th>P sample after gc</th>\n      <th>CH4</th>\n      <th>CO2</th>\n      <th>O2</th>\n      <th>...</th>\n      <th>CO2 produced_cum</th>\n      <th>mCTot_produced_cum</th>\n      <th>Cgas_DM_cum</th>\n      <th>PP CO2_b</th>\n      <th>CO2_aq [mol/m3]</th>\n      <th>CO2_aq [mol]</th>\n      <th>CO2_produced_aq</th>\n      <th>DIC_cum</th>\n      <th>Ctot_DM</th>\n      <th>Ratio O2/CO2</th>\n    </tr>\n  </thead>\n  <tbody>\n    <tr>\n      <th>0</th>\n      <td>Sample ID</td>\n      <td>Parallel</td>\n      <td>Date</td>\n      <td>Time</td>\n      <td>P atm</td>\n      <td>P sample before gc</td>\n      <td>P sample after gc</td>\n      <td>CH4</td>\n      <td>CO2</td>\n      <td>O2</td>\n      <td>...</td>\n      <td>None</td>\n      <td>None</td>\n      <td>None</td>\n      <td>None</td>\n      <td>None</td>\n      <td>None</td>\n      <td>None</td>\n      <td>None</td>\n      <td>None</td>\n      <td>None</td>\n    </tr>\n    <tr>\n      <th>1</th>\n      <td>GT1</td>\n      <td>1</td>\n      <td>2023-04-19 00:00:00</td>\n      <td>14:42:00</td>\n      <td>1023.1</td>\n      <td>960</td>\n      <td>958.1</td>\n      <td>0.12</td>\n      <td>1.53</td>\n      <td>2.21</td>\n      <td>...</td>\n      <td>None</td>\n      <td>None</td>\n      <td>None</td>\n      <td>None</td>\n      <td>None</td>\n      <td>None</td>\n      <td>None</td>\n      <td>None</td>\n      <td>None</td>\n      <td>None</td>\n    </tr>\n    <tr>\n      <th>2</th>\n      <td>GT1</td>\n      <td>1</td>\n      <td>2023-04-24 00:00:00</td>\n      <td>10:20:00</td>\n      <td>1002.3</td>\n      <td>962.2</td>\n      <td>959.8</td>\n      <td>0.25</td>\n      <td>2.41</td>\n      <td>1.59</td>\n      <td>...</td>\n      <td>None</td>\n      <td>None</td>\n      <td>None</td>\n      <td>None</td>\n      <td>None</td>\n      <td>None</td>\n      <td>None</td>\n      <td>None</td>\n      <td>None</td>\n      <td>None</td>\n    </tr>\n    <tr>\n      <th>3</th>\n      <td>GT1</td>\n      <td>1</td>\n      <td>2023-04-24 00:00:00</td>\n      <td>11:25:00</td>\n      <td>1003.3</td>\n      <td>1104.6</td>\n      <td>1085.8</td>\n      <td>0</td>\n      <td>0.74</td>\n      <td>19.79</td>\n      <td>...</td>\n      <td>None</td>\n      <td>None</td>\n      <td>None</td>\n      <td>None</td>\n      <td>None</td>\n      <td>None</td>\n      <td>None</td>\n      <td>None</td>\n      <td>None</td>\n      <td>None</td>\n    </tr>\n    <tr>\n      <th>4</th>\n      <td>GT1</td>\n      <td>1</td>\n      <td>2023-04-26 00:00:00</td>\n      <td>08:52:00</td>\n      <td>1017</td>\n      <td>954</td>\n      <td>951</td>\n      <td>0.03</td>\n      <td>2.72</td>\n      <td>8.46</td>\n      <td>...</td>\n      <td>None</td>\n      <td>None</td>\n      <td>None</td>\n      <td>None</td>\n      <td>None</td>\n      <td>None</td>\n      <td>None</td>\n      <td>None</td>\n      <td>None</td>\n      <td>None</td>\n    </tr>\n    <tr>\n      <th>5</th>\n      <td>GT1</td>\n      <td>1</td>\n      <td>2023-04-26 00:00:00</td>\n      <td>09:53:00</td>\n      <td>1017.2</td>\n      <td>1120.8</td>\n      <td>1105.6</td>\n      <td>0</td>\n      <td>0.63</td>\n      <td>20.51</td>\n      <td>...</td>\n      <td>None</td>\n      <td>None</td>\n      <td>None</td>\n      <td>None</td>\n      <td>None</td>\n      <td>None</td>\n      <td>None</td>\n      <td>None</td>\n      <td>None</td>\n      <td>None</td>\n    </tr>\n    <tr>\n      <th>6</th>\n      <td>GT1</td>\n      <td>1</td>\n      <td>2023-04-28 00:00:00</td>\n      <td>09:45:00</td>\n      <td>1006.8</td>\n      <td>1029.2</td>\n      <td>1025.8</td>\n      <td>0</td>\n      <td>4.52</td>\n      <td>11.77</td>\n      <td>...</td>\n      <td>None</td>\n      <td>None</td>\n      <td>None</td>\n      <td>None</td>\n      <td>None</td>\n      <td>None</td>\n      <td>None</td>\n      <td>None</td>\n      <td>None</td>\n      <td>None</td>\n    </tr>\n    <tr>\n      <th>7</th>\n      <td>GT1</td>\n      <td>1</td>\n      <td>2023-05-01 00:00:00</td>\n      <td>13:50:00</td>\n      <td>1013.1</td>\n      <td>1042.7</td>\n      <td>1039.9</td>\n      <td>0</td>\n      <td>5.74</td>\n      <td>9.74</td>\n      <td>...</td>\n      <td>None</td>\n      <td>None</td>\n      <td>None</td>\n      <td>None</td>\n      <td>None</td>\n      <td>None</td>\n      <td>None</td>\n      <td>None</td>\n      <td>None</td>\n      <td>None</td>\n    </tr>\n    <tr>\n      <th>8</th>\n      <td>GT1</td>\n      <td>1</td>\n      <td>2023-05-01 00:00:00</td>\n      <td>14:49:00</td>\n      <td>1013.3</td>\n      <td>1114.6</td>\n      <td>1110.6</td>\n      <td>0</td>\n      <td>0.78</td>\n      <td>20.5</td>\n      <td>...</td>\n      <td>None</td>\n      <td>None</td>\n      <td>None</td>\n      <td>None</td>\n      <td>None</td>\n      <td>None</td>\n      <td>None</td>\n      <td>None</td>\n      <td>None</td>\n      <td>None</td>\n    </tr>\n    <tr>\n      <th>9</th>\n      <td>GT1</td>\n      <td>1</td>\n      <td>2023-05-04 00:00:00</td>\n      <td>09:26:00</td>\n      <td>1017.9</td>\n      <td>1050.6</td>\n      <td>1046.6</td>\n      <td>0</td>\n      <td>5.34</td>\n      <td>12.97</td>\n      <td>...</td>\n      <td>None</td>\n      <td>None</td>\n      <td>None</td>\n      <td>None</td>\n      <td>None</td>\n      <td>None</td>\n      <td>None</td>\n      <td>None</td>\n      <td>None</td>\n      <td>None</td>\n    </tr>\n    <tr>\n      <th>10</th>\n      <td>GT1</td>\n      <td>1</td>\n      <td>2023-05-04 00:00:00</td>\n      <td>10:46:00</td>\n      <td>1017.2</td>\n      <td>1122.1</td>\n      <td>1119.1</td>\n      <td>0</td>\n      <td>0.5</td>\n      <td>20.32</td>\n      <td>...</td>\n      <td>None</td>\n      <td>None</td>\n      <td>None</td>\n      <td>None</td>\n      <td>None</td>\n      <td>None</td>\n      <td>None</td>\n      <td>None</td>\n      <td>None</td>\n      <td>None</td>\n    </tr>\n    <tr>\n      <th>11</th>\n      <td>GT1</td>\n      <td>1</td>\n      <td>2023-05-08 00:00:00</td>\n      <td>08:40:00</td>\n      <td>1018.7</td>\n      <td>1037.5</td>\n      <td>1035.2</td>\n      <td>0</td>\n      <td>6.98</td>\n      <td>8.07</td>\n      <td>...</td>\n      <td>None</td>\n      <td>None</td>\n      <td>None</td>\n      <td>None</td>\n      <td>None</td>\n      <td>None</td>\n      <td>None</td>\n      <td>None</td>\n      <td>None</td>\n      <td>None</td>\n    </tr>\n    <tr>\n      <th>12</th>\n      <td>GT1</td>\n      <td>1</td>\n      <td>2023-05-08 00:00:00</td>\n      <td>09:47:00</td>\n      <td>1018.7</td>\n      <td>1123.2</td>\n      <td>1120.3</td>\n      <td>0</td>\n      <td>0.57</td>\n      <td>20.11</td>\n      <td>...</td>\n      <td>None</td>\n      <td>None</td>\n      <td>None</td>\n      <td>None</td>\n      <td>None</td>\n      <td>None</td>\n      <td>None</td>\n      <td>None</td>\n      <td>None</td>\n      <td>None</td>\n    </tr>\n    <tr>\n      <th>13</th>\n      <td>GT1</td>\n      <td>1</td>\n      <td>2023-05-10 00:00:00</td>\n      <td>09:35:00</td>\n      <td>1007.5</td>\n      <td>1073</td>\n      <td>1070.6</td>\n      <td>0</td>\n      <td>4.77</td>\n      <td>15.79</td>\n      <td>...</td>\n      <td>None</td>\n      <td>None</td>\n      <td>None</td>\n      <td>None</td>\n      <td>None</td>\n      <td>None</td>\n      <td>None</td>\n      <td>None</td>\n      <td>None</td>\n      <td>None</td>\n    </tr>\n    <tr>\n      <th>14</th>\n      <td>GT1</td>\n      <td>1</td>\n      <td>2023-05-10 00:00:00</td>\n      <td>10:40:00</td>\n      <td>1008</td>\n      <td>1112.4</td>\n      <td>1109.9</td>\n      <td>0</td>\n      <td>0.4</td>\n      <td>20.24</td>\n      <td>...</td>\n      <td>None</td>\n      <td>None</td>\n      <td>None</td>\n      <td>None</td>\n      <td>None</td>\n      <td>None</td>\n      <td>None</td>\n      <td>None</td>\n      <td>None</td>\n      <td>None</td>\n    </tr>\n    <tr>\n      <th>15</th>\n      <td>GT1</td>\n      <td>1</td>\n      <td>2023-05-12 00:00:00</td>\n      <td>09:09:00</td>\n      <td>1014.4</td>\n      <td>1068.8</td>\n      <td>1066.2</td>\n      <td>0</td>\n      <td>3.7</td>\n      <td>15.45</td>\n      <td>...</td>\n      <td>None</td>\n      <td>None</td>\n      <td>None</td>\n      <td>None</td>\n      <td>None</td>\n      <td>None</td>\n      <td>None</td>\n      <td>None</td>\n      <td>None</td>\n      <td>None</td>\n    </tr>\n    <tr>\n      <th>16</th>\n      <td>GT1</td>\n      <td>1</td>\n      <td>2023-05-12 00:00:00</td>\n      <td>10:10:00</td>\n      <td>1014.9</td>\n      <td>1118.6</td>\n      <td>1115.3</td>\n      <td>0</td>\n      <td>0.41</td>\n      <td>20.26</td>\n      <td>...</td>\n      <td>None</td>\n      <td>None</td>\n      <td>None</td>\n      <td>None</td>\n      <td>None</td>\n      <td>None</td>\n      <td>None</td>\n      <td>None</td>\n      <td>None</td>\n      <td>None</td>\n    </tr>\n    <tr>\n      <th>17</th>\n      <td>GT1</td>\n      <td>1</td>\n      <td>2023-05-15 00:00:00</td>\n      <td>09:30:00</td>\n      <td>1012.5</td>\n      <td>1068.2</td>\n      <td>1061.9</td>\n      <td>0</td>\n      <td>4.43</td>\n      <td>15.52</td>\n      <td>...</td>\n      <td>None</td>\n      <td>None</td>\n      <td>None</td>\n      <td>None</td>\n      <td>None</td>\n      <td>None</td>\n      <td>None</td>\n      <td>None</td>\n      <td>None</td>\n      <td>None</td>\n    </tr>\n    <tr>\n      <th>18</th>\n      <td>GT1</td>\n      <td>1</td>\n      <td>2023-05-15 00:00:00</td>\n      <td>10:38:00</td>\n      <td>1012.8</td>\n      <td>1117.1</td>\n      <td>1113.5</td>\n      <td>0</td>\n      <td>0.42</td>\n      <td>20.54</td>\n      <td>...</td>\n      <td>None</td>\n      <td>None</td>\n      <td>None</td>\n      <td>None</td>\n      <td>None</td>\n      <td>None</td>\n      <td>None</td>\n      <td>None</td>\n      <td>None</td>\n      <td>None</td>\n    </tr>\n    <tr>\n      <th>19</th>\n      <td>GT1</td>\n      <td>1</td>\n      <td>2023-05-17 00:00:00</td>\n      <td>08:52:00</td>\n      <td>1025</td>\n      <td>1088.6</td>\n      <td>1086.7</td>\n      <td>0</td>\n      <td>3.02</td>\n      <td>18.61</td>\n      <td>...</td>\n      <td>None</td>\n      <td>None</td>\n      <td>None</td>\n      <td>None</td>\n      <td>None</td>\n      <td>None</td>\n      <td>None</td>\n      <td>None</td>\n      <td>None</td>\n      <td>None</td>\n    </tr>\n    <tr>\n      <th>20</th>\n      <td>GT1</td>\n      <td>1</td>\n      <td>2023-05-17 00:00:00</td>\n      <td>09:57:00</td>\n      <td>1025.6</td>\n      <td>1129</td>\n      <td>1125.8</td>\n      <td>0</td>\n      <td>0.29</td>\n      <td>20.55</td>\n      <td>...</td>\n      <td>None</td>\n      <td>None</td>\n      <td>None</td>\n      <td>None</td>\n      <td>None</td>\n      <td>None</td>\n      <td>None</td>\n      <td>None</td>\n      <td>None</td>\n      <td>None</td>\n    </tr>\n    <tr>\n      <th>21</th>\n      <td>GT1</td>\n      <td>1</td>\n      <td>2023-05-22 00:00:00</td>\n      <td>14:11:00</td>\n      <td>1013.1</td>\n      <td>1074.8</td>\n      <td>1072.5</td>\n      <td>0</td>\n      <td>7.08</td>\n      <td>12.54</td>\n      <td>...</td>\n      <td>None</td>\n      <td>None</td>\n      <td>None</td>\n      <td>None</td>\n      <td>None</td>\n      <td>None</td>\n      <td>None</td>\n      <td>None</td>\n      <td>None</td>\n      <td>None</td>\n    </tr>\n    <tr>\n      <th>22</th>\n      <td>GT1</td>\n      <td>1</td>\n      <td>2023-05-22 00:00:00</td>\n      <td>15:08:00</td>\n      <td>1013.6</td>\n      <td>1112</td>\n      <td>1108.6</td>\n      <td>0</td>\n      <td>0.64</td>\n      <td>20.31</td>\n      <td>...</td>\n      <td>None</td>\n      <td>None</td>\n      <td>None</td>\n      <td>None</td>\n      <td>None</td>\n      <td>None</td>\n      <td>None</td>\n      <td>None</td>\n      <td>None</td>\n      <td>None</td>\n    </tr>\n  </tbody>\n</table>\n<p>23 rows × 49 columns</p>\n</div>"
     },
     "metadata": {},
     "output_type": "display_data"
    },
    {
     "name": "stdout",
     "output_type": "stream",
     "text": [
      "as you can see the starting row is set on 10. that is the index value of the excel sheet where the table starts. So the column name row.\n"
     ]
    }
   ],
   "source": [
    "data_table = manager.load_sheet_table_with_input_header(sheet_name=\"GT1.1\", start_row=12, end_column=49, column_names=column_names)\n",
    "display(data_table)\n",
    "print(f'as you can see the starting row is set on 10. that is the index value of the excel sheet where the table starts. So the column name row.')"
   ],
   "metadata": {
    "collapsed": false,
    "ExecuteTime": {
     "start_time": "2023-06-05T13:07:23.041843Z",
     "end_time": "2023-06-05T13:07:23.102298Z"
    }
   }
  },
  {
   "cell_type": "markdown",
   "source": [],
   "metadata": {
    "collapsed": false
   }
  },
  {
   "cell_type": "code",
   "execution_count": 7,
   "outputs": [
    {
     "name": "stdout",
     "output_type": "stream",
     "text": [
      "finished calculations GT1.1\n",
      "Show process: GT1.1 is done\n",
      "filled dictionary for GT1.1\n",
      "replaced table for GT1.1\n",
      "finished calculations GT1.2\n",
      "Show process: GT1.2 is done\n",
      "filled dictionary for GT1.2\n",
      "replaced table for GT1.2\n",
      "finished calculations GT2.1\n",
      "Show process: GT2.1 is done\n",
      "filled dictionary for GT2.1\n",
      "replaced table for GT2.1\n",
      "finished calculations GT2.2\n",
      "Show process: GT2.2 is done\n",
      "filled dictionary for GT2.2\n",
      "replaced table for GT2.2\n",
      "finished calculations GT3.1\n",
      "Show process: GT3.1 is done\n",
      "filled dictionary for GT3.1\n",
      "replaced table for GT3.1\n",
      "finished calculations GT3.2\n",
      "Show process: GT3.2 is done\n",
      "filled dictionary for GT3.2\n",
      "replaced table for GT3.2\n",
      "finished calculations GT4.1\n",
      "Show process: GT4.1 is done\n",
      "filled dictionary for GT4.1\n",
      "replaced table for GT4.1\n",
      "finished calculations GT4.2\n",
      "Show process: GT4.2 is done\n",
      "filled dictionary for GT4.2\n",
      "replaced table for GT4.2\n",
      "finished calculations GT5.1\n",
      "Show process: GT5.1 is done\n",
      "filled dictionary for GT5.1\n",
      "replaced table for GT5.1\n",
      "finished calculations GT5.2\n",
      "Show process: GT5.2 is done\n",
      "filled dictionary for GT5.2\n",
      "replaced table for GT5.2\n",
      "finished calculations GT6.1\n",
      "Show process: GT6.1 is done\n",
      "filled dictionary for GT6.1\n",
      "replaced table for GT6.1\n",
      "finished calculations GT6.2\n",
      "Show process: GT6.2 is done\n",
      "filled dictionary for GT6.2\n",
      "replaced table for GT6.2\n",
      "finished calculations GT7.1\n",
      "Show process: GT7.1 is done\n",
      "filled dictionary for GT7.1\n",
      "replaced table for GT7.1\n",
      "finished calculations GT7.2\n",
      "Show process: GT7.2 is done\n",
      "filled dictionary for GT7.2\n",
      "replaced table for GT7.2\n",
      "finished calculations GT8.1\n",
      "Show process: GT8.1 is done\n",
      "filled dictionary for GT8.1\n",
      "replaced table for GT8.1\n",
      "finished calculations GT8.2\n",
      "Show process: GT8.2 is done\n",
      "filled dictionary for GT8.2\n",
      "replaced table for GT8.2\n"
     ]
    },
    {
     "ename": "KeyError",
     "evalue": "0",
     "output_type": "error",
     "traceback": [
      "\u001B[1;31m---------------------------------------------------------------------------\u001B[0m",
      "\u001B[1;31mValueError\u001B[0m                                Traceback (most recent call last)",
      "File \u001B[1;32m~\\Desktop\\Q4 2022-2023\\Bachelor Eind Werk\\Geotechnical\\Python-tool\\openpyxl Code\\venv\\lib\\site-packages\\pandas\\core\\indexes\\range.py:345\u001B[0m, in \u001B[0;36mRangeIndex.get_loc\u001B[1;34m(self, key)\u001B[0m\n\u001B[0;32m    344\u001B[0m \u001B[38;5;28;01mtry\u001B[39;00m:\n\u001B[1;32m--> 345\u001B[0m     \u001B[38;5;28;01mreturn\u001B[39;00m \u001B[38;5;28;43mself\u001B[39;49m\u001B[38;5;241;43m.\u001B[39;49m\u001B[43m_range\u001B[49m\u001B[38;5;241;43m.\u001B[39;49m\u001B[43mindex\u001B[49m\u001B[43m(\u001B[49m\u001B[43mnew_key\u001B[49m\u001B[43m)\u001B[49m\n\u001B[0;32m    346\u001B[0m \u001B[38;5;28;01mexcept\u001B[39;00m \u001B[38;5;167;01mValueError\u001B[39;00m \u001B[38;5;28;01mas\u001B[39;00m err:\n",
      "\u001B[1;31mValueError\u001B[0m: 0 is not in range",
      "\nThe above exception was the direct cause of the following exception:\n",
      "\u001B[1;31mKeyError\u001B[0m                                  Traceback (most recent call last)",
      "Cell \u001B[1;32mIn[7], line 11\u001B[0m\n\u001B[0;32m      9\u001B[0m column_end \u001B[38;5;241m=\u001B[39m NiceExcelFunction\u001B[38;5;241m.\u001B[39mget_column_index(column_letter\u001B[38;5;241m=\u001B[39m\u001B[38;5;124m\"\u001B[39m\u001B[38;5;124mO\u001B[39m\u001B[38;5;124m\"\u001B[39m)\n\u001B[0;32m     10\u001B[0m data_frame \u001B[38;5;241m=\u001B[39m manager\u001B[38;5;241m.\u001B[39mload_sheet_table_with_input_header(sheet_name\u001B[38;5;241m=\u001B[39msheet_name, start_row\u001B[38;5;241m=\u001B[39m\u001B[38;5;241m13\u001B[39m, end_column\u001B[38;5;241m=\u001B[39mcolumn_end,                                                                           column_names\u001B[38;5;241m=\u001B[39mbasic_column_names)\n\u001B[1;32m---> 11\u001B[0m \u001B[43mRunDataFrameCalculationsForOneDataFrame\u001B[49m\u001B[43m(\u001B[49m\u001B[43mdata_frame\u001B[49m\u001B[38;5;241;43m=\u001B[39;49m\u001B[43mdata_frame\u001B[49m\u001B[43m)\u001B[49m\u001B[38;5;241;43m.\u001B[39;49m\u001B[43mrun_all_calculations\u001B[49m\u001B[43m(\u001B[49m\u001B[43mfraction_to_time\u001B[49m\u001B[38;5;241;43m=\u001B[39;49m\u001B[38;5;28;43;01mFalse\u001B[39;49;00m\u001B[43m)\u001B[49m\n\u001B[0;32m     12\u001B[0m \u001B[38;5;28mprint\u001B[39m(\u001B[38;5;124mf\u001B[39m\u001B[38;5;124m\"\u001B[39m\u001B[38;5;124mfinished calculations \u001B[39m\u001B[38;5;132;01m{\u001B[39;00msheet_name\u001B[38;5;132;01m}\u001B[39;00m\u001B[38;5;124m\"\u001B[39m)\n\u001B[0;32m     14\u001B[0m manager\u001B[38;5;241m.\u001B[39mfill_dict_panda_data_frames(data_frame\u001B[38;5;241m=\u001B[39mdata_frame, sheets\u001B[38;5;241m=\u001B[39m[sheet_name])\n",
      "File \u001B[1;32m~\\Desktop\\Q4 2022-2023\\Bachelor Eind Werk\\Geotechnical\\Python-tool\\openpyxl Code\\run_data_frame_calculations.py:11\u001B[0m, in \u001B[0;36mRunDataFrameCalculationsForOneDataFrame.run_all_calculations\u001B[1;34m(self, fraction_to_time)\u001B[0m\n\u001B[0;32m     10\u001B[0m \u001B[38;5;28;01mdef\u001B[39;00m \u001B[38;5;21mrun_all_calculations\u001B[39m(\u001B[38;5;28mself\u001B[39m, fraction_to_time: \u001B[38;5;28mbool\u001B[39m \u001B[38;5;241m=\u001B[39m \u001B[38;5;28;01mFalse\u001B[39;00m):\n\u001B[1;32m---> 11\u001B[0m     \u001B[38;5;28;43mself\u001B[39;49m\u001B[38;5;241;43m.\u001B[39;49m\u001B[43mrun_data_frame_processor_calculations\u001B[49m\u001B[43m(\u001B[49m\u001B[43mfraction_to_time\u001B[49m\u001B[38;5;241;43m=\u001B[39;49m\u001B[43mfraction_to_time\u001B[49m\u001B[43m)\u001B[49m\n\u001B[0;32m     12\u001B[0m     \u001B[38;5;28mself\u001B[39m\u001B[38;5;241m.\u001B[39mrun_gas_composition_calculations()\n\u001B[0;32m     13\u001B[0m     \u001B[38;5;28mself\u001B[39m\u001B[38;5;241m.\u001B[39mrun_percentage_o2_consumed_and_co2_produced_and_ratio_calculations()\n",
      "File \u001B[1;32m~\\Desktop\\Q4 2022-2023\\Bachelor Eind Werk\\Geotechnical\\Python-tool\\openpyxl Code\\run_data_frame_calculations.py:17\u001B[0m, in \u001B[0;36mRunDataFrameCalculationsForOneDataFrame.run_data_frame_processor_calculations\u001B[1;34m(self, fraction_to_time)\u001B[0m\n\u001B[0;32m     15\u001B[0m \u001B[38;5;28;01mdef\u001B[39;00m \u001B[38;5;21mrun_data_frame_processor_calculations\u001B[39m(\u001B[38;5;28mself\u001B[39m, fraction_to_time: \u001B[38;5;28mbool\u001B[39m \u001B[38;5;241m=\u001B[39m \u001B[38;5;28;01mFalse\u001B[39;00m):\n\u001B[0;32m     16\u001B[0m     DataFrameProcessor\u001B[38;5;241m.\u001B[39mfill_nan_values(data_frame\u001B[38;5;241m=\u001B[39m\u001B[38;5;28mself\u001B[39m\u001B[38;5;241m.\u001B[39mdata_frame, column_name\u001B[38;5;241m=\u001B[39m\u001B[38;5;124m\"\u001B[39m\u001B[38;5;124mTime\u001B[39m\u001B[38;5;124m\"\u001B[39m, value\u001B[38;5;241m=\u001B[39m\u001B[38;5;124m\"\u001B[39m\u001B[38;5;124m00:00:00\u001B[39m\u001B[38;5;124m\"\u001B[39m)\n\u001B[1;32m---> 17\u001B[0m     \u001B[43mDataFrameProcessor\u001B[49m\u001B[38;5;241;43m.\u001B[39;49m\u001B[43madd_day_column\u001B[49m\u001B[43m(\u001B[49m\u001B[43mdata_frame\u001B[49m\u001B[38;5;241;43m=\u001B[39;49m\u001B[38;5;28;43mself\u001B[39;49m\u001B[38;5;241;43m.\u001B[39;49m\u001B[43mdata_frame\u001B[49m\u001B[43m,\u001B[49m\u001B[43m \u001B[49m\u001B[43mdate_column_name\u001B[49m\u001B[38;5;241;43m=\u001B[39;49m\u001B[38;5;124;43m\"\u001B[39;49m\u001B[38;5;124;43mDate\u001B[39;49m\u001B[38;5;124;43m\"\u001B[39;49m\u001B[43m,\u001B[49m\u001B[43m \u001B[49m\u001B[43mtime_column_name\u001B[49m\u001B[38;5;241;43m=\u001B[39;49m\u001B[38;5;124;43m\"\u001B[39;49m\u001B[38;5;124;43mTime\u001B[39;49m\u001B[38;5;124;43m\"\u001B[39;49m\u001B[43m,\u001B[49m\n\u001B[0;32m     18\u001B[0m \u001B[43m                                      \u001B[49m\u001B[43mfraction_to_time\u001B[49m\u001B[38;5;241;43m=\u001B[39;49m\u001B[43mfraction_to_time\u001B[49m\u001B[43m)\u001B[49m\n",
      "File \u001B[1;32m~\\Desktop\\Q4 2022-2023\\Bachelor Eind Werk\\Geotechnical\\Python-tool\\openpyxl Code\\data_frame_processor.py:83\u001B[0m, in \u001B[0;36mDataFrameProcessor.add_day_column\u001B[1;34m(data_frame, date_column_name, time_column_name, day_column_name, fraction_to_time)\u001B[0m\n\u001B[0;32m     79\u001B[0m data_frame[day_column_name] \u001B[38;5;241m=\u001B[39m pd\u001B[38;5;241m.\u001B[39mto_datetime(\n\u001B[0;32m     80\u001B[0m     data_frame[date_column_name]\u001B[38;5;241m.\u001B[39mdt\u001B[38;5;241m.\u001B[39mstrftime(\u001B[38;5;124m'\u001B[39m\u001B[38;5;124m%\u001B[39m\u001B[38;5;124mY-\u001B[39m\u001B[38;5;124m%\u001B[39m\u001B[38;5;124mm-\u001B[39m\u001B[38;5;132;01m%d\u001B[39;00m\u001B[38;5;124m'\u001B[39m) \u001B[38;5;241m+\u001B[39m \u001B[38;5;124m'\u001B[39m\u001B[38;5;124m \u001B[39m\u001B[38;5;124m'\u001B[39m \u001B[38;5;241m+\u001B[39m data_frame[time_column_name])\n\u001B[0;32m     82\u001B[0m \u001B[38;5;66;03m# Set the \"Day\" column with the start point at the first row. So row zero is day zero\u001B[39;00m\n\u001B[1;32m---> 83\u001B[0m data_frame[day_column_name] \u001B[38;5;241m=\u001B[39m data_frame[day_column_name] \u001B[38;5;241m-\u001B[39m \u001B[43mdata_frame\u001B[49m\u001B[38;5;241;43m.\u001B[39;49m\u001B[43mat\u001B[49m\u001B[43m[\u001B[49m\u001B[38;5;241;43m0\u001B[39;49m\u001B[43m,\u001B[49m\u001B[43m \u001B[49m\u001B[43mday_column_name\u001B[49m\u001B[43m]\u001B[49m\n",
      "File \u001B[1;32m~\\Desktop\\Q4 2022-2023\\Bachelor Eind Werk\\Geotechnical\\Python-tool\\openpyxl Code\\venv\\lib\\site-packages\\pandas\\core\\indexing.py:2412\u001B[0m, in \u001B[0;36m_AtIndexer.__getitem__\u001B[1;34m(self, key)\u001B[0m\n\u001B[0;32m   2409\u001B[0m         \u001B[38;5;28;01mraise\u001B[39;00m \u001B[38;5;167;01mValueError\u001B[39;00m(\u001B[38;5;124m\"\u001B[39m\u001B[38;5;124mInvalid call for scalar access (getting)!\u001B[39m\u001B[38;5;124m\"\u001B[39m)\n\u001B[0;32m   2410\u001B[0m     \u001B[38;5;28;01mreturn\u001B[39;00m \u001B[38;5;28mself\u001B[39m\u001B[38;5;241m.\u001B[39mobj\u001B[38;5;241m.\u001B[39mloc[key]\n\u001B[1;32m-> 2412\u001B[0m \u001B[38;5;28;01mreturn\u001B[39;00m \u001B[38;5;28;43msuper\u001B[39;49m\u001B[43m(\u001B[49m\u001B[43m)\u001B[49m\u001B[38;5;241;43m.\u001B[39;49m\u001B[38;5;21;43m__getitem__\u001B[39;49m\u001B[43m(\u001B[49m\u001B[43mkey\u001B[49m\u001B[43m)\u001B[49m\n",
      "File \u001B[1;32m~\\Desktop\\Q4 2022-2023\\Bachelor Eind Werk\\Geotechnical\\Python-tool\\openpyxl Code\\venv\\lib\\site-packages\\pandas\\core\\indexing.py:2364\u001B[0m, in \u001B[0;36m_ScalarAccessIndexer.__getitem__\u001B[1;34m(self, key)\u001B[0m\n\u001B[0;32m   2361\u001B[0m         \u001B[38;5;28;01mraise\u001B[39;00m \u001B[38;5;167;01mValueError\u001B[39;00m(\u001B[38;5;124m\"\u001B[39m\u001B[38;5;124mInvalid call for scalar access (getting)!\u001B[39m\u001B[38;5;124m\"\u001B[39m)\n\u001B[0;32m   2363\u001B[0m key \u001B[38;5;241m=\u001B[39m \u001B[38;5;28mself\u001B[39m\u001B[38;5;241m.\u001B[39m_convert_key(key)\n\u001B[1;32m-> 2364\u001B[0m \u001B[38;5;28;01mreturn\u001B[39;00m \u001B[38;5;28;43mself\u001B[39;49m\u001B[38;5;241;43m.\u001B[39;49m\u001B[43mobj\u001B[49m\u001B[38;5;241;43m.\u001B[39;49m\u001B[43m_get_value\u001B[49m\u001B[43m(\u001B[49m\u001B[38;5;241;43m*\u001B[39;49m\u001B[43mkey\u001B[49m\u001B[43m,\u001B[49m\u001B[43m \u001B[49m\u001B[43mtakeable\u001B[49m\u001B[38;5;241;43m=\u001B[39;49m\u001B[38;5;28;43mself\u001B[39;49m\u001B[38;5;241;43m.\u001B[39;49m\u001B[43m_takeable\u001B[49m\u001B[43m)\u001B[49m\n",
      "File \u001B[1;32m~\\Desktop\\Q4 2022-2023\\Bachelor Eind Werk\\Geotechnical\\Python-tool\\openpyxl Code\\venv\\lib\\site-packages\\pandas\\core\\frame.py:3887\u001B[0m, in \u001B[0;36mDataFrame._get_value\u001B[1;34m(self, index, col, takeable)\u001B[0m\n\u001B[0;32m   3881\u001B[0m engine \u001B[38;5;241m=\u001B[39m \u001B[38;5;28mself\u001B[39m\u001B[38;5;241m.\u001B[39mindex\u001B[38;5;241m.\u001B[39m_engine\n\u001B[0;32m   3883\u001B[0m \u001B[38;5;28;01mif\u001B[39;00m \u001B[38;5;129;01mnot\u001B[39;00m \u001B[38;5;28misinstance\u001B[39m(\u001B[38;5;28mself\u001B[39m\u001B[38;5;241m.\u001B[39mindex, MultiIndex):\n\u001B[0;32m   3884\u001B[0m     \u001B[38;5;66;03m# CategoricalIndex: Trying to use the engine fastpath may give incorrect\u001B[39;00m\n\u001B[0;32m   3885\u001B[0m     \u001B[38;5;66;03m#  results if our categories are integers that dont match our codes\u001B[39;00m\n\u001B[0;32m   3886\u001B[0m     \u001B[38;5;66;03m# IntervalIndex: IntervalTree has no get_loc\u001B[39;00m\n\u001B[1;32m-> 3887\u001B[0m     row \u001B[38;5;241m=\u001B[39m \u001B[38;5;28;43mself\u001B[39;49m\u001B[38;5;241;43m.\u001B[39;49m\u001B[43mindex\u001B[49m\u001B[38;5;241;43m.\u001B[39;49m\u001B[43mget_loc\u001B[49m\u001B[43m(\u001B[49m\u001B[43mindex\u001B[49m\u001B[43m)\u001B[49m\n\u001B[0;32m   3888\u001B[0m     \u001B[38;5;28;01mreturn\u001B[39;00m series\u001B[38;5;241m.\u001B[39m_values[row]\n\u001B[0;32m   3890\u001B[0m \u001B[38;5;66;03m# For MultiIndex going through engine effectively restricts us to\u001B[39;00m\n\u001B[0;32m   3891\u001B[0m \u001B[38;5;66;03m#  same-length tuples; see test_get_set_value_no_partial_indexing\u001B[39;00m\n",
      "File \u001B[1;32m~\\Desktop\\Q4 2022-2023\\Bachelor Eind Werk\\Geotechnical\\Python-tool\\openpyxl Code\\venv\\lib\\site-packages\\pandas\\core\\indexes\\range.py:347\u001B[0m, in \u001B[0;36mRangeIndex.get_loc\u001B[1;34m(self, key)\u001B[0m\n\u001B[0;32m    345\u001B[0m         \u001B[38;5;28;01mreturn\u001B[39;00m \u001B[38;5;28mself\u001B[39m\u001B[38;5;241m.\u001B[39m_range\u001B[38;5;241m.\u001B[39mindex(new_key)\n\u001B[0;32m    346\u001B[0m     \u001B[38;5;28;01mexcept\u001B[39;00m \u001B[38;5;167;01mValueError\u001B[39;00m \u001B[38;5;28;01mas\u001B[39;00m err:\n\u001B[1;32m--> 347\u001B[0m         \u001B[38;5;28;01mraise\u001B[39;00m \u001B[38;5;167;01mKeyError\u001B[39;00m(key) \u001B[38;5;28;01mfrom\u001B[39;00m \u001B[38;5;21;01merr\u001B[39;00m\n\u001B[0;32m    348\u001B[0m \u001B[38;5;28;01mif\u001B[39;00m \u001B[38;5;28misinstance\u001B[39m(key, Hashable):\n\u001B[0;32m    349\u001B[0m     \u001B[38;5;28;01mraise\u001B[39;00m \u001B[38;5;167;01mKeyError\u001B[39;00m(key)\n",
      "\u001B[1;31mKeyError\u001B[0m: 0"
     ]
    }
   ],
   "source": [
    "# Now all the data frames are read in, calculated and returned in to the excell_file\n",
    "sheet_names_samples = sheet_names[1:]\n",
    "for sheet_name in sheet_names_samples:\n",
    "    # start_row = NiceExcelFunction.find_string_index(excel_file_path=path_input_excel,\n",
    "    #                                                 sheet_name=sheet_name,\n",
    "    #                                                 search_string=\"Sample ID\")[0]\n",
    "    # print(start_row)\n",
    "\n",
    "    column_end = NiceExcelFunction.get_column_index(column_letter=\"O\")\n",
    "    data_frame = manager.load_sheet_table_with_input_header(sheet_name=sheet_name, start_row=13, end_column=column_end,                                                                           column_names=basic_column_names)\n",
    "    RunDataFrameCalculationsForOneDataFrame(data_frame=data_frame).run_all_calculations(fraction_to_time=False)\n",
    "    print(f\"finished calculations {sheet_name}\")\n",
    "\n",
    "    manager.fill_dict_panda_data_frames(data_frame=data_frame, sheets=[sheet_name])\n",
    "    print(f\"filled dictionary for {sheet_name}\")\n",
    "\n",
    "    manager.replace_table_in_specific_sheet_with_data_frame(excel_file_path=path_input_excel,\n",
    "                                                            sheet_name=sheet_name,\n",
    "                                                            start_row=13,\n",
    "                                                            data_frame=data_frame,\n",
    "                                                            header=True\n",
    "                                                            )\n",
    "    print(f\"replaced table for {sheet_name}\")\n"
   ],
   "metadata": {
    "collapsed": false,
    "ExecuteTime": {
     "start_time": "2023-06-05T12:03:15.498470Z",
     "end_time": "2023-06-05T12:03:52.132350Z"
    }
   }
  },
  {
   "cell_type": "code",
   "execution_count": null,
   "outputs": [],
   "source": [
    "dict_dataframes = manager.get_dict_panda_data_frames()\n",
    "display(dict_dataframes[\"GT1.1\"][\"Date + Time\"])"
   ],
   "metadata": {
    "collapsed": false,
    "ExecuteTime": {
     "start_time": "2023-06-05T12:25:08.669290Z",
     "end_time": "2023-06-05T12:25:08.695084Z"
    }
   }
  },
  {
   "cell_type": "code",
   "execution_count": null,
   "outputs": [],
   "source": [],
   "metadata": {
    "collapsed": false,
    "ExecuteTime": {
     "start_time": "2023-06-05T12:04:48.623252Z",
     "end_time": "2023-06-05T12:04:48.668848Z"
    }
   }
  },
  {
   "cell_type": "code",
   "execution_count": null,
   "outputs": [],
   "source": [],
   "metadata": {
    "collapsed": false,
    "ExecuteTime": {
     "start_time": "2023-06-05T12:04:50.375877Z",
     "end_time": "2023-06-05T12:04:50.399022Z"
    }
   }
  },
  {
   "cell_type": "code",
   "execution_count": null,
   "outputs": [],
   "source": [
    "def get_cell_value_pandas_df(dataframe: pd.DataFrame, row: int, column:int) -> str | float:\n",
    "    value = dataframe.loc[row][column]\n",
    "    return value"
   ],
   "metadata": {
    "collapsed": false,
    "ExecuteTime": {
     "start_time": "2023-06-05T11:15:59.461823Z",
     "end_time": "2023-06-05T11:15:59.484084Z"
    }
   }
  },
  {
   "cell_type": "code",
   "execution_count": null,
   "outputs": [],
   "source": [
    "value = get_cell_value_pandas_df(dataframe=data_frame_sheet_GT1_1, row=0, column=2)\n",
    "print(value)"
   ],
   "metadata": {
    "collapsed": false,
    "ExecuteTime": {
     "start_time": "2023-06-05T11:16:00.306960Z",
     "end_time": "2023-06-05T11:16:00.328173Z"
    }
   }
  },
  {
   "cell_type": "code",
   "execution_count": null,
   "outputs": [],
   "source": [],
   "metadata": {
    "collapsed": false,
    "ExecuteTime": {
     "start_time": "2023-05-22T11:36:07.479646Z",
     "end_time": "2023-05-22T11:36:07.749501Z"
    }
   }
  },
  {
   "cell_type": "code",
   "execution_count": null,
   "outputs": [],
   "source": [],
   "metadata": {
    "collapsed": false,
    "ExecuteTime": {
     "start_time": "2023-05-22T11:36:07.498119Z",
     "end_time": "2023-05-22T11:36:07.749501Z"
    }
   }
  },
  {
   "cell_type": "code",
   "execution_count": null,
   "outputs": [],
   "source": [],
   "metadata": {
    "collapsed": false,
    "ExecuteTime": {
     "start_time": "2023-05-22T11:36:07.563091Z",
     "end_time": "2023-05-22T11:36:07.749501Z"
    }
   }
  }
 ],
 "metadata": {
  "kernelspec": {
   "display_name": "Python 3",
   "language": "python",
   "name": "python3"
  },
  "language_info": {
   "codemirror_mode": {
    "name": "ipython",
    "version": 2
   },
   "file_extension": ".py",
   "mimetype": "text/x-python",
   "name": "python",
   "nbconvert_exporter": "python",
   "pygments_lexer": "ipython2",
   "version": "2.7.6"
  }
 },
 "nbformat": 4,
 "nbformat_minor": 0
}
