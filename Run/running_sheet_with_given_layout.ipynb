{
 "cells": [
  {
   "cell_type": "code",
   "execution_count": 1,
   "metadata": {
    "collapsed": true,
    "ExecuteTime": {
     "end_time": "2023-07-02T09:46:00.430050100Z",
     "start_time": "2023-07-02T09:45:59.860335100Z"
    }
   },
   "outputs": [],
   "source": [
    "import pandas as pd\n",
    "from excel_manager import ExcelManager\n",
    "from run_data_frame_calculations import RunDataFrameCalculationsForOneDataFrame\n",
    "from data_frame_calculations_standard_for_gas_respiration_tests import GasComposition\n",
    "from nice_functions import NiceExcelFunction\n"
   ]
  },
  {
   "cell_type": "markdown",
   "source": [
    "# Make a COPY before you run the script"
   ],
   "metadata": {
    "collapsed": false
   }
  },
  {
   "cell_type": "markdown",
   "source": [],
   "metadata": {
    "collapsed": false
   }
  },
  {
   "cell_type": "code",
   "execution_count": 2,
   "outputs": [],
   "source": [
    "path_input_excel = r\"C:\\Users\\robbe\\Downloads\\Gas_production_KRA_BEP_R.Grobben_final_01_run_File.xlsx\"\n",
    "\n",
    "#make instance of excel manger\n",
    "manager = ExcelManager(path_input_excel)\n",
    "\n",
    "# load the workbook in\n",
    "manager.load_workbook()"
   ],
   "metadata": {
    "collapsed": false,
    "ExecuteTime": {
     "end_time": "2023-07-02T09:46:02.774155200Z",
     "start_time": "2023-07-02T09:46:00.434006600Z"
    }
   }
  },
  {
   "cell_type": "markdown",
   "source": [
    "### You can see the sheet names"
   ],
   "metadata": {
    "collapsed": false
   }
  },
  {
   "cell_type": "code",
   "execution_count": 3,
   "outputs": [
    {
     "name": "stdout",
     "output_type": "stream",
     "text": [
      "['Notes', 'GT1.1', 'GT1.2', 'GT2.1', 'GT2.2', 'GT3.1', 'GT3.2', 'GT4.1', 'GT4.2', 'GT5.1', 'GT5.2', 'GT6.1', 'GT6.2', 'GT7.1', 'GT7.2', 'GT8.1', 'GT8.2']\n"
     ]
    }
   ],
   "source": [
    "# check the sheet names\n",
    "sheet_names = manager.get_sheet_names()\n",
    "print(sheet_names)"
   ],
   "metadata": {
    "collapsed": false,
    "ExecuteTime": {
     "end_time": "2023-07-02T09:46:02.792711700Z",
     "start_time": "2023-07-02T09:46:02.775503300Z"
    }
   }
  },
  {
   "cell_type": "markdown",
   "source": [
    "#### input names of table if needed"
   ],
   "metadata": {
    "collapsed": false
   }
  },
  {
   "cell_type": "code",
   "execution_count": 4,
   "outputs": [],
   "source": [
    "# column_names = ['Sample ID', 'Parallel', 'Date', 'Time', 'P atm', 'P sample before gc', 'P sample after gc', 'CH4', 'CO2', 'O2', 'N2', 'Flush (1=yes; 0=no)', 'Comments', 'GC method', 'Weight', 'Date + Time', 'Day', 'Sum', 'CH4-corr', 'CO2-corr', 'O2-corr', 'N2-corr', 'Sum-corr', 'mg_bs', 'mCO2_b', 'mCH4_b', 'mO2_b', 'mN2_b', 'mCTot_b', 'mg_as', 'mCO2_a', 'mCH4_a', 'mO2_a', 'mN2_a', 'mCTot_a', 'mCTot_produced', 'O2 consumed', 'CO2 produced', 'O2 consumed_cum', 'CO2 produced_cum', 'mCTot_produced_cum', 'Cgas_DM_cum', 'PP CO2_b', 'CO2_aq [mol/m3]', 'CO2_aq [mol]', 'CO2_produced_aq', 'DIC_cum', 'Ctot_DM', 'Ratio O2/CO2']\n",
    "#\n",
    "basic_column_names = ['Sample ID', 'Parallel', 'Date', 'Time', 'P atm [hPa]', 'P sample before gc [hPa]', 'P sample after gc [hPa]', 'CH4 [%]', 'CO2 [%]', 'O2 [%]', 'N2 [%]', 'Flush (1=yes; 0=no)', 'Comments', 'GC method', 'Weight [g]']\n",
    "\n"
   ],
   "metadata": {
    "collapsed": false,
    "ExecuteTime": {
     "end_time": "2023-07-02T09:46:02.849348400Z",
     "start_time": "2023-07-02T09:46:02.795702400Z"
    }
   }
  },
  {
   "cell_type": "markdown",
   "source": [
    "##### you can check if the sheets are in the instance of the excell manager class."
   ],
   "metadata": {
    "collapsed": false
   }
  },
  {
   "cell_type": "code",
   "execution_count": 5,
   "outputs": [
    {
     "data": {
      "text/plain": "         None      None                 None      None    None   \n0        None      None                 None      None    None  \\\n1   Sample ID  Parallel                 Date      Time   P atm   \n2        None      None                 None      None     hPa   \n3         GT5         2  2023-04-17 00:00:00  15:19:00  1025.4   \n4         GT5         2  2023-04-19 00:00:00  15:40:00  1022.6   \n5         GT5         2  2023-04-19 00:00:00  17:49:00  1021.4   \n6         GT5         2  2023-04-24 00:00:00  11:02:00  1003.2   \n7         GT5         2  2023-04-24 00:00:00  12:15:00    1004   \n8         GT5         2  2023-04-26 00:00:00  09:27:00  1017.2   \n9         GT5         2  2023-04-28 00:00:00  10:17:00  1007.1   \n10        GT5         2  2023-04-28 00:00:00  10:18:00  1007.1   \n11        GT5         2  2023-05-01 00:00:00  14:17:00  1013.3   \n12        GT5         2  2023-05-04 00:00:00  10:15:00  1017.6   \n13        GT5         2  2023-05-04 00:00:00  11:25:00  1016.8   \n14        GT5         2  2023-05-08 00:00:00  09:22:00  1018.7   \n15        GT5         2  2023-05-10 00:00:00  10:06:00  1007.7   \n16        GT5         2  2023-05-10 00:00:00  10:50:00  1008.2   \n17        GT5         2  2023-05-12 00:00:00  09:38:00  1014.7   \n18        GT5         2  2023-05-15 00:00:00  10:17:00  1012.8   \n19        GT5         2  2023-05-15 00:00:00  11:00:00  1012.8   \n20        GT5         2  2023-05-17 00:00:00  09:19:00  1025.4   \n21        GT5         2  2023-05-22 00:00:00  14:40:00  1013.4   \n22        GT5         2  2023-05-22 00:00:00  15:33:00  1013.5   \n\n                  None               None  None      None       None  ...   \n0                 None               None  None      None       None  ...  \\\n1   P sample before gc  P sample after gc   CH4       CO2         O2  ...   \n2                  hPa                hPa     %         %          %  ...   \n3          1229.193137               None  None      None       None  ...   \n4               1103.8             1101.4     0      2.99      17.43  ...   \n5               1128.2               1125     0      0.26      20.62  ...   \n6               1085.4             1082.3     0      2.79      15.69  ...   \n7               1104.6             1101.4     0       0.3      20.58  ...   \n8               1090.1               1086     0      1.58      18.83  ...   \n9               1072.5             1069.2     0      2.29      17.33  ...   \n10         1115.383333        1112.333333     0  0.271667  20.463333  ...   \n11              1098.2               1095     0      1.83      17.99  ...   \n12                1075             1072.2     0      2.75      15.98  ...   \n13              1120.4             1116.8     0      0.29      20.45  ...   \n14              1102.4             1099.9     0      2.19      17.55  ...   \n15              1088.4             1085.7     0      2.84      16.19  ...   \n16                1107             1105.2     0      0.24      20.33  ...   \n17              1097.4             1094.8     0      1.56       18.9  ...   \n18              1079.7             1076.8     0      2.76      17.21  ...   \n19              1115.1               1112     0       0.2      20.49  ...   \n20              1108.2             1105.4     0      1.49      19.48  ...   \n21              1087.5             1085.6     0      3.65      16.06  ...   \n22                1117             1113.6     0      0.34      20.31  ...   \n\n         None       None                                 None        None   \n0        None       None                                 None        None  \\\n1   CO2_a_aq   CO2_a_aq   CO2_dissolved between timesteps_aq   CO2_cum_aq   \n2      mol/m3        mol                                  mol         mol   \n3           0          0                             0.000019    0.000019   \n4   17.632435   0.001728                             0.001732    0.001751   \n5     1.57045   0.000154                            -0.001574    0.000177   \n6   16.105035   0.001578                             0.001429    0.001606   \n7     1.77605   0.000174                            -0.001404    0.000202   \n8    9.175923   0.000899                             0.000729    0.000931   \n9   12.947915   0.001269                             0.000374    0.001304   \n10   1.634778    0.00016                            -0.001108    0.000196   \n11  10.722463   0.001051                             0.000894     0.00109   \n12  15.793647   0.001548                             0.000501    0.001591   \n13   1.753287   0.000172                            -0.001375    0.000215   \n14   12.98889   0.001273                             0.001104    0.001319   \n15   16.59578   0.001626                             0.000358    0.001677   \n16   1.448217   0.000142                            -0.001484    0.000193   \n17    9.26967   0.000908                             0.000769    0.000961   \n18  15.775289   0.001546                             0.000642    0.001603   \n19   1.201107   0.000118                            -0.001428    0.000175   \n20   8.723089   0.000855                             0.000739    0.000914   \n21  20.998643   0.002058                             0.001207    0.002121   \n22   2.060566   0.000202                            -0.001855    0.000266   \n\n        None      None          None  None  None  None  \n0       None      None          None  None  None  None  \n1    DIC_cum  Ctot_DM   Ratio O2/CO2  None  None  None  \n2   mg C/gDW  mg C/gDW          None  None  None  None  \n3   0.001477         0             0  None  None  None  \n4   0.136762  0.239695      0.933933  None  None  None  \n5   0.013828      None             0  None  None  None  \n6   0.125456  0.314259      1.005519  None  None  None  \n7   0.015795      None             0  None  None  None  \n8   0.072712    0.3053      0.705773  None  None  None  \n9   0.101896  0.356933      1.262402  None  None  None  \n10  0.015319      None             0  None  None  None  \n11  0.085133  0.393874      0.830748  None  None  None  \n12  0.124273  0.463123      1.139029  None  None  None  \n13  0.016825      None             0  None  None  None  \n14  0.103069  0.508263      0.745342  None  None  None  \n15  0.130999  0.557678      1.101961  None  None  None  \n16  0.015049      None             0  None  None  None  \n17  0.075098   0.54797      0.560083  None  None  None  \n18  0.125229  0.636665       0.90793  None  None  None  \n19  0.013677      None             0  None  None  None  \n20  0.071433  0.627298      0.502585  None  None  None  \n21  0.165695   0.79407       0.75883  None  None  None  \n22  0.020756      None             0  None  None  None  \n\n[23 rows x 56 columns]",
      "text/html": "<div>\n<style scoped>\n    .dataframe tbody tr th:only-of-type {\n        vertical-align: middle;\n    }\n\n    .dataframe tbody tr th {\n        vertical-align: top;\n    }\n\n    .dataframe thead th {\n        text-align: right;\n    }\n</style>\n<table border=\"1\" class=\"dataframe\">\n  <thead>\n    <tr style=\"text-align: right;\">\n      <th></th>\n      <th>None</th>\n      <th>None</th>\n      <th>None</th>\n      <th>None</th>\n      <th>None</th>\n      <th>None</th>\n      <th>None</th>\n      <th>None</th>\n      <th>None</th>\n      <th>None</th>\n      <th>...</th>\n      <th>None</th>\n      <th>None</th>\n      <th>None</th>\n      <th>None</th>\n      <th>None</th>\n      <th>None</th>\n      <th>None</th>\n      <th>None</th>\n      <th>None</th>\n      <th>None</th>\n    </tr>\n  </thead>\n  <tbody>\n    <tr>\n      <th>0</th>\n      <td>None</td>\n      <td>None</td>\n      <td>None</td>\n      <td>None</td>\n      <td>None</td>\n      <td>None</td>\n      <td>None</td>\n      <td>None</td>\n      <td>None</td>\n      <td>None</td>\n      <td>...</td>\n      <td>None</td>\n      <td>None</td>\n      <td>None</td>\n      <td>None</td>\n      <td>None</td>\n      <td>None</td>\n      <td>None</td>\n      <td>None</td>\n      <td>None</td>\n      <td>None</td>\n    </tr>\n    <tr>\n      <th>1</th>\n      <td>Sample ID</td>\n      <td>Parallel</td>\n      <td>Date</td>\n      <td>Time</td>\n      <td>P atm</td>\n      <td>P sample before gc</td>\n      <td>P sample after gc</td>\n      <td>CH4</td>\n      <td>CO2</td>\n      <td>O2</td>\n      <td>...</td>\n      <td>CO2_a_aq</td>\n      <td>CO2_a_aq</td>\n      <td>CO2_dissolved between timesteps_aq</td>\n      <td>CO2_cum_aq</td>\n      <td>DIC_cum</td>\n      <td>Ctot_DM</td>\n      <td>Ratio O2/CO2</td>\n      <td>None</td>\n      <td>None</td>\n      <td>None</td>\n    </tr>\n    <tr>\n      <th>2</th>\n      <td>None</td>\n      <td>None</td>\n      <td>None</td>\n      <td>None</td>\n      <td>hPa</td>\n      <td>hPa</td>\n      <td>hPa</td>\n      <td>%</td>\n      <td>%</td>\n      <td>%</td>\n      <td>...</td>\n      <td>mol/m3</td>\n      <td>mol</td>\n      <td>mol</td>\n      <td>mol</td>\n      <td>mg C/gDW</td>\n      <td>mg C/gDW</td>\n      <td>None</td>\n      <td>None</td>\n      <td>None</td>\n      <td>None</td>\n    </tr>\n    <tr>\n      <th>3</th>\n      <td>GT5</td>\n      <td>2</td>\n      <td>2023-04-17 00:00:00</td>\n      <td>15:19:00</td>\n      <td>1025.4</td>\n      <td>1229.193137</td>\n      <td>None</td>\n      <td>None</td>\n      <td>None</td>\n      <td>None</td>\n      <td>...</td>\n      <td>0</td>\n      <td>0</td>\n      <td>0.000019</td>\n      <td>0.000019</td>\n      <td>0.001477</td>\n      <td>0</td>\n      <td>0</td>\n      <td>None</td>\n      <td>None</td>\n      <td>None</td>\n    </tr>\n    <tr>\n      <th>4</th>\n      <td>GT5</td>\n      <td>2</td>\n      <td>2023-04-19 00:00:00</td>\n      <td>15:40:00</td>\n      <td>1022.6</td>\n      <td>1103.8</td>\n      <td>1101.4</td>\n      <td>0</td>\n      <td>2.99</td>\n      <td>17.43</td>\n      <td>...</td>\n      <td>17.632435</td>\n      <td>0.001728</td>\n      <td>0.001732</td>\n      <td>0.001751</td>\n      <td>0.136762</td>\n      <td>0.239695</td>\n      <td>0.933933</td>\n      <td>None</td>\n      <td>None</td>\n      <td>None</td>\n    </tr>\n    <tr>\n      <th>5</th>\n      <td>GT5</td>\n      <td>2</td>\n      <td>2023-04-19 00:00:00</td>\n      <td>17:49:00</td>\n      <td>1021.4</td>\n      <td>1128.2</td>\n      <td>1125</td>\n      <td>0</td>\n      <td>0.26</td>\n      <td>20.62</td>\n      <td>...</td>\n      <td>1.57045</td>\n      <td>0.000154</td>\n      <td>-0.001574</td>\n      <td>0.000177</td>\n      <td>0.013828</td>\n      <td>None</td>\n      <td>0</td>\n      <td>None</td>\n      <td>None</td>\n      <td>None</td>\n    </tr>\n    <tr>\n      <th>6</th>\n      <td>GT5</td>\n      <td>2</td>\n      <td>2023-04-24 00:00:00</td>\n      <td>11:02:00</td>\n      <td>1003.2</td>\n      <td>1085.4</td>\n      <td>1082.3</td>\n      <td>0</td>\n      <td>2.79</td>\n      <td>15.69</td>\n      <td>...</td>\n      <td>16.105035</td>\n      <td>0.001578</td>\n      <td>0.001429</td>\n      <td>0.001606</td>\n      <td>0.125456</td>\n      <td>0.314259</td>\n      <td>1.005519</td>\n      <td>None</td>\n      <td>None</td>\n      <td>None</td>\n    </tr>\n    <tr>\n      <th>7</th>\n      <td>GT5</td>\n      <td>2</td>\n      <td>2023-04-24 00:00:00</td>\n      <td>12:15:00</td>\n      <td>1004</td>\n      <td>1104.6</td>\n      <td>1101.4</td>\n      <td>0</td>\n      <td>0.3</td>\n      <td>20.58</td>\n      <td>...</td>\n      <td>1.77605</td>\n      <td>0.000174</td>\n      <td>-0.001404</td>\n      <td>0.000202</td>\n      <td>0.015795</td>\n      <td>None</td>\n      <td>0</td>\n      <td>None</td>\n      <td>None</td>\n      <td>None</td>\n    </tr>\n    <tr>\n      <th>8</th>\n      <td>GT5</td>\n      <td>2</td>\n      <td>2023-04-26 00:00:00</td>\n      <td>09:27:00</td>\n      <td>1017.2</td>\n      <td>1090.1</td>\n      <td>1086</td>\n      <td>0</td>\n      <td>1.58</td>\n      <td>18.83</td>\n      <td>...</td>\n      <td>9.175923</td>\n      <td>0.000899</td>\n      <td>0.000729</td>\n      <td>0.000931</td>\n      <td>0.072712</td>\n      <td>0.3053</td>\n      <td>0.705773</td>\n      <td>None</td>\n      <td>None</td>\n      <td>None</td>\n    </tr>\n    <tr>\n      <th>9</th>\n      <td>GT5</td>\n      <td>2</td>\n      <td>2023-04-28 00:00:00</td>\n      <td>10:17:00</td>\n      <td>1007.1</td>\n      <td>1072.5</td>\n      <td>1069.2</td>\n      <td>0</td>\n      <td>2.29</td>\n      <td>17.33</td>\n      <td>...</td>\n      <td>12.947915</td>\n      <td>0.001269</td>\n      <td>0.000374</td>\n      <td>0.001304</td>\n      <td>0.101896</td>\n      <td>0.356933</td>\n      <td>1.262402</td>\n      <td>None</td>\n      <td>None</td>\n      <td>None</td>\n    </tr>\n    <tr>\n      <th>10</th>\n      <td>GT5</td>\n      <td>2</td>\n      <td>2023-04-28 00:00:00</td>\n      <td>10:18:00</td>\n      <td>1007.1</td>\n      <td>1115.383333</td>\n      <td>1112.333333</td>\n      <td>0</td>\n      <td>0.271667</td>\n      <td>20.463333</td>\n      <td>...</td>\n      <td>1.634778</td>\n      <td>0.00016</td>\n      <td>-0.001108</td>\n      <td>0.000196</td>\n      <td>0.015319</td>\n      <td>None</td>\n      <td>0</td>\n      <td>None</td>\n      <td>None</td>\n      <td>None</td>\n    </tr>\n    <tr>\n      <th>11</th>\n      <td>GT5</td>\n      <td>2</td>\n      <td>2023-05-01 00:00:00</td>\n      <td>14:17:00</td>\n      <td>1013.3</td>\n      <td>1098.2</td>\n      <td>1095</td>\n      <td>0</td>\n      <td>1.83</td>\n      <td>17.99</td>\n      <td>...</td>\n      <td>10.722463</td>\n      <td>0.001051</td>\n      <td>0.000894</td>\n      <td>0.00109</td>\n      <td>0.085133</td>\n      <td>0.393874</td>\n      <td>0.830748</td>\n      <td>None</td>\n      <td>None</td>\n      <td>None</td>\n    </tr>\n    <tr>\n      <th>12</th>\n      <td>GT5</td>\n      <td>2</td>\n      <td>2023-05-04 00:00:00</td>\n      <td>10:15:00</td>\n      <td>1017.6</td>\n      <td>1075</td>\n      <td>1072.2</td>\n      <td>0</td>\n      <td>2.75</td>\n      <td>15.98</td>\n      <td>...</td>\n      <td>15.793647</td>\n      <td>0.001548</td>\n      <td>0.000501</td>\n      <td>0.001591</td>\n      <td>0.124273</td>\n      <td>0.463123</td>\n      <td>1.139029</td>\n      <td>None</td>\n      <td>None</td>\n      <td>None</td>\n    </tr>\n    <tr>\n      <th>13</th>\n      <td>GT5</td>\n      <td>2</td>\n      <td>2023-05-04 00:00:00</td>\n      <td>11:25:00</td>\n      <td>1016.8</td>\n      <td>1120.4</td>\n      <td>1116.8</td>\n      <td>0</td>\n      <td>0.29</td>\n      <td>20.45</td>\n      <td>...</td>\n      <td>1.753287</td>\n      <td>0.000172</td>\n      <td>-0.001375</td>\n      <td>0.000215</td>\n      <td>0.016825</td>\n      <td>None</td>\n      <td>0</td>\n      <td>None</td>\n      <td>None</td>\n      <td>None</td>\n    </tr>\n    <tr>\n      <th>14</th>\n      <td>GT5</td>\n      <td>2</td>\n      <td>2023-05-08 00:00:00</td>\n      <td>09:22:00</td>\n      <td>1018.7</td>\n      <td>1102.4</td>\n      <td>1099.9</td>\n      <td>0</td>\n      <td>2.19</td>\n      <td>17.55</td>\n      <td>...</td>\n      <td>12.98889</td>\n      <td>0.001273</td>\n      <td>0.001104</td>\n      <td>0.001319</td>\n      <td>0.103069</td>\n      <td>0.508263</td>\n      <td>0.745342</td>\n      <td>None</td>\n      <td>None</td>\n      <td>None</td>\n    </tr>\n    <tr>\n      <th>15</th>\n      <td>GT5</td>\n      <td>2</td>\n      <td>2023-05-10 00:00:00</td>\n      <td>10:06:00</td>\n      <td>1007.7</td>\n      <td>1088.4</td>\n      <td>1085.7</td>\n      <td>0</td>\n      <td>2.84</td>\n      <td>16.19</td>\n      <td>...</td>\n      <td>16.59578</td>\n      <td>0.001626</td>\n      <td>0.000358</td>\n      <td>0.001677</td>\n      <td>0.130999</td>\n      <td>0.557678</td>\n      <td>1.101961</td>\n      <td>None</td>\n      <td>None</td>\n      <td>None</td>\n    </tr>\n    <tr>\n      <th>16</th>\n      <td>GT5</td>\n      <td>2</td>\n      <td>2023-05-10 00:00:00</td>\n      <td>10:50:00</td>\n      <td>1008.2</td>\n      <td>1107</td>\n      <td>1105.2</td>\n      <td>0</td>\n      <td>0.24</td>\n      <td>20.33</td>\n      <td>...</td>\n      <td>1.448217</td>\n      <td>0.000142</td>\n      <td>-0.001484</td>\n      <td>0.000193</td>\n      <td>0.015049</td>\n      <td>None</td>\n      <td>0</td>\n      <td>None</td>\n      <td>None</td>\n      <td>None</td>\n    </tr>\n    <tr>\n      <th>17</th>\n      <td>GT5</td>\n      <td>2</td>\n      <td>2023-05-12 00:00:00</td>\n      <td>09:38:00</td>\n      <td>1014.7</td>\n      <td>1097.4</td>\n      <td>1094.8</td>\n      <td>0</td>\n      <td>1.56</td>\n      <td>18.9</td>\n      <td>...</td>\n      <td>9.26967</td>\n      <td>0.000908</td>\n      <td>0.000769</td>\n      <td>0.000961</td>\n      <td>0.075098</td>\n      <td>0.54797</td>\n      <td>0.560083</td>\n      <td>None</td>\n      <td>None</td>\n      <td>None</td>\n    </tr>\n    <tr>\n      <th>18</th>\n      <td>GT5</td>\n      <td>2</td>\n      <td>2023-05-15 00:00:00</td>\n      <td>10:17:00</td>\n      <td>1012.8</td>\n      <td>1079.7</td>\n      <td>1076.8</td>\n      <td>0</td>\n      <td>2.76</td>\n      <td>17.21</td>\n      <td>...</td>\n      <td>15.775289</td>\n      <td>0.001546</td>\n      <td>0.000642</td>\n      <td>0.001603</td>\n      <td>0.125229</td>\n      <td>0.636665</td>\n      <td>0.90793</td>\n      <td>None</td>\n      <td>None</td>\n      <td>None</td>\n    </tr>\n    <tr>\n      <th>19</th>\n      <td>GT5</td>\n      <td>2</td>\n      <td>2023-05-15 00:00:00</td>\n      <td>11:00:00</td>\n      <td>1012.8</td>\n      <td>1115.1</td>\n      <td>1112</td>\n      <td>0</td>\n      <td>0.2</td>\n      <td>20.49</td>\n      <td>...</td>\n      <td>1.201107</td>\n      <td>0.000118</td>\n      <td>-0.001428</td>\n      <td>0.000175</td>\n      <td>0.013677</td>\n      <td>None</td>\n      <td>0</td>\n      <td>None</td>\n      <td>None</td>\n      <td>None</td>\n    </tr>\n    <tr>\n      <th>20</th>\n      <td>GT5</td>\n      <td>2</td>\n      <td>2023-05-17 00:00:00</td>\n      <td>09:19:00</td>\n      <td>1025.4</td>\n      <td>1108.2</td>\n      <td>1105.4</td>\n      <td>0</td>\n      <td>1.49</td>\n      <td>19.48</td>\n      <td>...</td>\n      <td>8.723089</td>\n      <td>0.000855</td>\n      <td>0.000739</td>\n      <td>0.000914</td>\n      <td>0.071433</td>\n      <td>0.627298</td>\n      <td>0.502585</td>\n      <td>None</td>\n      <td>None</td>\n      <td>None</td>\n    </tr>\n    <tr>\n      <th>21</th>\n      <td>GT5</td>\n      <td>2</td>\n      <td>2023-05-22 00:00:00</td>\n      <td>14:40:00</td>\n      <td>1013.4</td>\n      <td>1087.5</td>\n      <td>1085.6</td>\n      <td>0</td>\n      <td>3.65</td>\n      <td>16.06</td>\n      <td>...</td>\n      <td>20.998643</td>\n      <td>0.002058</td>\n      <td>0.001207</td>\n      <td>0.002121</td>\n      <td>0.165695</td>\n      <td>0.79407</td>\n      <td>0.75883</td>\n      <td>None</td>\n      <td>None</td>\n      <td>None</td>\n    </tr>\n    <tr>\n      <th>22</th>\n      <td>GT5</td>\n      <td>2</td>\n      <td>2023-05-22 00:00:00</td>\n      <td>15:33:00</td>\n      <td>1013.5</td>\n      <td>1117</td>\n      <td>1113.6</td>\n      <td>0</td>\n      <td>0.34</td>\n      <td>20.31</td>\n      <td>...</td>\n      <td>2.060566</td>\n      <td>0.000202</td>\n      <td>-0.001855</td>\n      <td>0.000266</td>\n      <td>0.020756</td>\n      <td>None</td>\n      <td>0</td>\n      <td>None</td>\n      <td>None</td>\n      <td>None</td>\n    </tr>\n  </tbody>\n</table>\n<p>23 rows × 56 columns</p>\n</div>"
     },
     "metadata": {},
     "output_type": "display_data"
    },
    {
     "name": "stdout",
     "output_type": "stream",
     "text": [
      " As you can see now the full sheet is shown\n"
     ]
    }
   ],
   "source": [
    "# check if you can see the data_frame\n",
    "full_sheet = manager.load_sheet_table(sheet_name=\"GT5.2\", start_row=9)\n",
    "\n",
    "display(full_sheet)\n",
    "print(f' As you can see now the full sheet is shown')"
   ],
   "metadata": {
    "collapsed": false,
    "ExecuteTime": {
     "end_time": "2023-07-02T09:46:02.865308400Z",
     "start_time": "2023-07-02T09:46:02.818642200Z"
    }
   }
  },
  {
   "cell_type": "markdown",
   "source": [
    "### Filling th dictionary for the constants of the samples  in the instance of hte excel manager class"
   ],
   "metadata": {
    "collapsed": false
   }
  },
  {
   "cell_type": "code",
   "execution_count": 6,
   "outputs": [
    {
     "name": "stdout",
     "output_type": "stream",
     "text": [
      "loading Notes is done\n",
      "loading GT1.1 is done\n",
      "loading GT1.2 is done\n",
      "loading GT2.1 is done\n",
      "loading GT2.2 is done\n",
      "loading GT3.1 is done\n",
      "loading GT3.2 is done\n",
      "loading GT4.1 is done\n",
      "loading GT4.2 is done\n",
      "loading GT5.1 is done\n",
      "loading GT5.2 is done\n",
      "loading GT6.1 is done\n",
      "loading GT6.2 is done\n",
      "loading GT7.1 is done\n",
      "loading GT7.2 is done\n",
      "loading GT8.1 is done\n",
      "loading GT8.2 is done\n"
     ]
    }
   ],
   "source": [
    "# fil in the dict with constants for the samples\n",
    "sheet_names_samples = manager.get_sheet_names()\n",
    "for sheet_name in sheet_names_samples:\n",
    "    # loading the panda data frame for the sample\n",
    "    constants_data_frame = manager.load_constants_as_data_frame(sheet_name=sheet_name, start_row=1, end_row=7, start_col=3)\n",
    "\n",
    "    constants_data_class = manager.load_constants_as_data_class(sheet_name=sheet_name, start_row=1, end_row=7, start_col=3)\n",
    "\n",
    "    # fill the dictionary\n",
    "    manager.fill_dict_constants_data_frames(data_frame=constants_data_frame, sheets=[sheet_name])\n",
    "\n",
    "    manager.fill_dict_constants_data_classes(data_class=constants_data_class, sheets=[sheet_name])\n",
    "\n",
    "    print(f\"loading {sheet_name} is done\")\n",
    "\n",
    "dict_constants = manager.get_dict_constants_data_frames()\n",
    "dict_constants_data_classes = manager.get_dict_constants_data_classes()"
   ],
   "metadata": {
    "collapsed": false,
    "ExecuteTime": {
     "end_time": "2023-07-02T09:46:02.926638800Z",
     "start_time": "2023-07-02T09:46:02.863313200Z"
    }
   }
  },
  {
   "cell_type": "markdown",
   "source": [
    "# Validate Input data (TODO!)"
   ],
   "metadata": {
    "collapsed": false
   }
  },
  {
   "cell_type": "markdown",
   "source": [
    "#### running all the calculations for each data frame (sammple)"
   ],
   "metadata": {
    "collapsed": false
   }
  },
  {
   "cell_type": "code",
   "execution_count": 7,
   "outputs": [
    {
     "name": "stdout",
     "output_type": "stream",
     "text": [
      "started with sheet: GT1.1\n"
     ]
    },
    {
     "ename": "KeyError",
     "evalue": "'CO2-corr [%]'",
     "output_type": "error",
     "traceback": [
      "\u001B[1;31m---------------------------------------------------------------------------\u001B[0m",
      "\u001B[1;31mKeyError\u001B[0m                                  Traceback (most recent call last)",
      "File \u001B[1;32m~\\Desktop\\Q4 2022-2023\\Bachelor Eind Werk\\Geotechnical\\Python-tool\\openpyxl Code\\venv\\lib\\site-packages\\pandas\\core\\indexes\\base.py:3652\u001B[0m, in \u001B[0;36mIndex.get_loc\u001B[1;34m(self, key)\u001B[0m\n\u001B[0;32m   3651\u001B[0m \u001B[38;5;28;01mtry\u001B[39;00m:\n\u001B[1;32m-> 3652\u001B[0m     \u001B[38;5;28;01mreturn\u001B[39;00m \u001B[38;5;28;43mself\u001B[39;49m\u001B[38;5;241;43m.\u001B[39;49m\u001B[43m_engine\u001B[49m\u001B[38;5;241;43m.\u001B[39;49m\u001B[43mget_loc\u001B[49m\u001B[43m(\u001B[49m\u001B[43mcasted_key\u001B[49m\u001B[43m)\u001B[49m\n\u001B[0;32m   3653\u001B[0m \u001B[38;5;28;01mexcept\u001B[39;00m \u001B[38;5;167;01mKeyError\u001B[39;00m \u001B[38;5;28;01mas\u001B[39;00m err:\n",
      "File \u001B[1;32m~\\Desktop\\Q4 2022-2023\\Bachelor Eind Werk\\Geotechnical\\Python-tool\\openpyxl Code\\venv\\lib\\site-packages\\pandas\\_libs\\index.pyx:147\u001B[0m, in \u001B[0;36mpandas._libs.index.IndexEngine.get_loc\u001B[1;34m()\u001B[0m\n",
      "File \u001B[1;32m~\\Desktop\\Q4 2022-2023\\Bachelor Eind Werk\\Geotechnical\\Python-tool\\openpyxl Code\\venv\\lib\\site-packages\\pandas\\_libs\\index.pyx:176\u001B[0m, in \u001B[0;36mpandas._libs.index.IndexEngine.get_loc\u001B[1;34m()\u001B[0m\n",
      "File \u001B[1;32mpandas\\_libs\\hashtable_class_helper.pxi:7080\u001B[0m, in \u001B[0;36mpandas._libs.hashtable.PyObjectHashTable.get_item\u001B[1;34m()\u001B[0m\n",
      "File \u001B[1;32mpandas\\_libs\\hashtable_class_helper.pxi:7088\u001B[0m, in \u001B[0;36mpandas._libs.hashtable.PyObjectHashTable.get_item\u001B[1;34m()\u001B[0m\n",
      "\u001B[1;31mKeyError\u001B[0m: 'CO2-corr [%]'",
      "\nThe above exception was the direct cause of the following exception:\n",
      "\u001B[1;31mKeyError\u001B[0m                                  Traceback (most recent call last)",
      "Cell \u001B[1;32mIn[7], line 33\u001B[0m\n\u001B[0;32m     29\u001B[0m RunDataFrameCalculationsForOneDataFrame(data_frame\u001B[38;5;241m=\u001B[39mdata_frame)\u001B[38;5;241m.\u001B[39mrun_cumulative_production_in_the_gas_phase(molar_mass_carbon\u001B[38;5;241m=\u001B[39mconstants_data_class\u001B[38;5;241m.\u001B[39mmolar_mass_carbon,\n\u001B[0;32m     30\u001B[0m                                                                                                           dry_mass_sample\u001B[38;5;241m=\u001B[39mconstants_data_class\u001B[38;5;241m.\u001B[39mdry_mass_sample)\n\u001B[0;32m     32\u001B[0m \u001B[38;5;66;03m# run calculation carbon in the aqueous phase\u001B[39;00m\n\u001B[1;32m---> 33\u001B[0m \u001B[43mRunDataFrameCalculationsForOneDataFrame\u001B[49m\u001B[43m(\u001B[49m\u001B[43mdata_frame\u001B[49m\u001B[38;5;241;43m=\u001B[39;49m\u001B[43mdata_frame\u001B[49m\u001B[43m)\u001B[49m\u001B[38;5;241;43m.\u001B[39;49m\u001B[43mrun_carbon_in_aqueous_phase\u001B[49m\u001B[43m(\u001B[49m\u001B[43mwater_volume_in_liters\u001B[49m\u001B[38;5;241;43m=\u001B[39;49m\u001B[43mconstants_data_class\u001B[49m\u001B[38;5;241;43m.\u001B[39;49m\u001B[43mwater_volume\u001B[49m\u001B[43m,\u001B[49m\n\u001B[0;32m     34\u001B[0m \u001B[43m                                                                                \u001B[49m\u001B[43mdry_mass_sample\u001B[49m\u001B[38;5;241;43m=\u001B[39;49m\u001B[43mconstants_data_class\u001B[49m\u001B[38;5;241;43m.\u001B[39;49m\u001B[43mdry_mass_sample\u001B[49m\u001B[43m)\u001B[49m\n\u001B[0;32m     36\u001B[0m \u001B[38;5;66;03m# run results interpretations\u001B[39;00m\n\u001B[0;32m     37\u001B[0m RunDataFrameCalculationsForOneDataFrame(data_frame\u001B[38;5;241m=\u001B[39mdata_frame)\u001B[38;5;241m.\u001B[39mrun_results_Interpretations()\n",
      "File \u001B[1;32m~\\Desktop\\Q4 2022-2023\\Bachelor Eind Werk\\Geotechnical\\Python-tool\\openpyxl Code\\run_data_frame_calculations.py:262\u001B[0m, in \u001B[0;36mRunDataFrameCalculationsForOneDataFrame.run_carbon_in_aqueous_phase\u001B[1;34m(self, water_volume_in_liters, dry_mass_sample, name_column_PP_CO2_bs, column_name_pressure_before_sampling, column_name_corrected_carbon_dioxide_in_percentage, name_column_CO2_before_aq_mol_per_m3, name_column_CO2_before_aq_mol, name_column_PP_CO2_as, column_name_pressure_after_sampling, name_column_CO2_after_aq_mol_per_m3, name_column_CO2_after_aq_mol, name_column_CO2_dissolved_between_time_steps_aq, name_column_CO2_produced_aq_cum, name_column_DIC_cum)\u001B[0m\n\u001B[0;32m    244\u001B[0m \u001B[38;5;28;01mdef\u001B[39;00m \u001B[38;5;21mrun_carbon_in_aqueous_phase\u001B[39m(\u001B[38;5;28mself\u001B[39m,\n\u001B[0;32m    245\u001B[0m                                 water_volume_in_liters: \u001B[38;5;28mfloat\u001B[39m,\n\u001B[0;32m    246\u001B[0m                                 dry_mass_sample: \u001B[38;5;28mfloat\u001B[39m,\n\u001B[1;32m   (...)\u001B[0m\n\u001B[0;32m    260\u001B[0m                                 ):\n\u001B[0;32m    261\u001B[0m     \u001B[38;5;66;03m# before sampling\u001B[39;00m\n\u001B[1;32m--> 262\u001B[0m     \u001B[43mCarbonInAqueousPhase\u001B[49m\u001B[38;5;241;43m.\u001B[39;49m\u001B[43mpartial_pressure_carbon_dioxide\u001B[49m\u001B[43m(\u001B[49m\n\u001B[0;32m    263\u001B[0m \u001B[43m        \u001B[49m\u001B[43mdata_frame\u001B[49m\u001B[38;5;241;43m=\u001B[39;49m\u001B[38;5;28;43mself\u001B[39;49m\u001B[38;5;241;43m.\u001B[39;49m\u001B[43mdata_frame\u001B[49m\u001B[43m,\u001B[49m\n\u001B[0;32m    264\u001B[0m \u001B[43m        \u001B[49m\u001B[43mname_column\u001B[49m\u001B[38;5;241;43m=\u001B[39;49m\u001B[43mname_column_PP_CO2_bs\u001B[49m\u001B[43m,\u001B[49m\n\u001B[0;32m    265\u001B[0m \u001B[43m        \u001B[49m\u001B[43mcolumn_name_pressure_sampling\u001B[49m\u001B[38;5;241;43m=\u001B[39;49m\u001B[43mcolumn_name_pressure_before_sampling\u001B[49m\u001B[43m,\u001B[49m\n\u001B[0;32m    266\u001B[0m \u001B[43m        \u001B[49m\u001B[43mcolumn_name_corrected_carbon_dioxide_in_percentage\u001B[49m\u001B[38;5;241;43m=\u001B[39;49m\u001B[43mcolumn_name_corrected_carbon_dioxide_in_percentage\u001B[49m\n\u001B[0;32m    267\u001B[0m \u001B[43m    \u001B[49m\u001B[43m)\u001B[49m\n\u001B[0;32m    268\u001B[0m     CarbonInAqueousPhase\u001B[38;5;241m.\u001B[39mcarbon_dioxide_in_aqueous_phase_mol_per_m3(\n\u001B[0;32m    269\u001B[0m         data_frame\u001B[38;5;241m=\u001B[39m\u001B[38;5;28mself\u001B[39m\u001B[38;5;241m.\u001B[39mdata_frame,\n\u001B[0;32m    270\u001B[0m         name_column\u001B[38;5;241m=\u001B[39mname_column_CO2_before_aq_mol_per_m3,\n\u001B[0;32m    271\u001B[0m         column_name_PP_CO2\u001B[38;5;241m=\u001B[39mname_column_PP_CO2_bs\n\u001B[0;32m    272\u001B[0m     )\n\u001B[0;32m    273\u001B[0m     CarbonInAqueousPhase\u001B[38;5;241m.\u001B[39mcarbon_dioxide_in_aqueous_phase_mol(\n\u001B[0;32m    274\u001B[0m         data_frame\u001B[38;5;241m=\u001B[39m\u001B[38;5;28mself\u001B[39m\u001B[38;5;241m.\u001B[39mdata_frame,\n\u001B[0;32m    275\u001B[0m         name_column\u001B[38;5;241m=\u001B[39mname_column_CO2_before_aq_mol,\n\u001B[0;32m    276\u001B[0m         column_name_CO2_aq_in_mol_per_m3\u001B[38;5;241m=\u001B[39mname_column_CO2_before_aq_mol_per_m3,\n\u001B[0;32m    277\u001B[0m         water_volume_in_liters\u001B[38;5;241m=\u001B[39mwater_volume_in_liters\n\u001B[0;32m    278\u001B[0m     )\n",
      "File \u001B[1;32m~\\Desktop\\Q4 2022-2023\\Bachelor Eind Werk\\Geotechnical\\Python-tool\\openpyxl Code\\data_frame_calculations.py:178\u001B[0m, in \u001B[0;36mCarbonInAqueousPhase.partial_pressure_carbon_dioxide\u001B[1;34m(data_frame, name_column, column_name_pressure_sampling, column_name_corrected_carbon_dioxide_in_percentage)\u001B[0m\n\u001B[0;32m    172\u001B[0m \u001B[38;5;129m@staticmethod\u001B[39m\n\u001B[0;32m    173\u001B[0m \u001B[38;5;28;01mdef\u001B[39;00m \u001B[38;5;21mpartial_pressure_carbon_dioxide\u001B[39m(data_frame: pd\u001B[38;5;241m.\u001B[39mDataFrame, name_column,\n\u001B[0;32m    174\u001B[0m                                     column_name_pressure_sampling: \u001B[38;5;28mstr\u001B[39m,\n\u001B[0;32m    175\u001B[0m                                     column_name_corrected_carbon_dioxide_in_percentage: \u001B[38;5;28mstr\u001B[39m\n\u001B[0;32m    176\u001B[0m                                     ) \u001B[38;5;241m-\u001B[39m\u001B[38;5;241m>\u001B[39m \u001B[38;5;28;01mNone\u001B[39;00m:\n\u001B[0;32m    177\u001B[0m     data_frame[name_column] \u001B[38;5;241m=\u001B[39m data_frame[column_name_pressure_sampling] \u001B[38;5;241m*\u001B[39m \u001B[38;5;241m100\u001B[39m \u001B[38;5;241m*\u001B[39m \\\n\u001B[1;32m--> 178\u001B[0m                               \u001B[43mdata_frame\u001B[49m\u001B[43m[\u001B[49m\u001B[43mcolumn_name_corrected_carbon_dioxide_in_percentage\u001B[49m\u001B[43m]\u001B[49m \u001B[38;5;241m/\u001B[39m \u001B[38;5;241m100\u001B[39m\n",
      "File \u001B[1;32m~\\Desktop\\Q4 2022-2023\\Bachelor Eind Werk\\Geotechnical\\Python-tool\\openpyxl Code\\venv\\lib\\site-packages\\pandas\\core\\frame.py:3761\u001B[0m, in \u001B[0;36mDataFrame.__getitem__\u001B[1;34m(self, key)\u001B[0m\n\u001B[0;32m   3759\u001B[0m \u001B[38;5;28;01mif\u001B[39;00m \u001B[38;5;28mself\u001B[39m\u001B[38;5;241m.\u001B[39mcolumns\u001B[38;5;241m.\u001B[39mnlevels \u001B[38;5;241m>\u001B[39m \u001B[38;5;241m1\u001B[39m:\n\u001B[0;32m   3760\u001B[0m     \u001B[38;5;28;01mreturn\u001B[39;00m \u001B[38;5;28mself\u001B[39m\u001B[38;5;241m.\u001B[39m_getitem_multilevel(key)\n\u001B[1;32m-> 3761\u001B[0m indexer \u001B[38;5;241m=\u001B[39m \u001B[38;5;28;43mself\u001B[39;49m\u001B[38;5;241;43m.\u001B[39;49m\u001B[43mcolumns\u001B[49m\u001B[38;5;241;43m.\u001B[39;49m\u001B[43mget_loc\u001B[49m\u001B[43m(\u001B[49m\u001B[43mkey\u001B[49m\u001B[43m)\u001B[49m\n\u001B[0;32m   3762\u001B[0m \u001B[38;5;28;01mif\u001B[39;00m is_integer(indexer):\n\u001B[0;32m   3763\u001B[0m     indexer \u001B[38;5;241m=\u001B[39m [indexer]\n",
      "File \u001B[1;32m~\\Desktop\\Q4 2022-2023\\Bachelor Eind Werk\\Geotechnical\\Python-tool\\openpyxl Code\\venv\\lib\\site-packages\\pandas\\core\\indexes\\base.py:3654\u001B[0m, in \u001B[0;36mIndex.get_loc\u001B[1;34m(self, key)\u001B[0m\n\u001B[0;32m   3652\u001B[0m     \u001B[38;5;28;01mreturn\u001B[39;00m \u001B[38;5;28mself\u001B[39m\u001B[38;5;241m.\u001B[39m_engine\u001B[38;5;241m.\u001B[39mget_loc(casted_key)\n\u001B[0;32m   3653\u001B[0m \u001B[38;5;28;01mexcept\u001B[39;00m \u001B[38;5;167;01mKeyError\u001B[39;00m \u001B[38;5;28;01mas\u001B[39;00m err:\n\u001B[1;32m-> 3654\u001B[0m     \u001B[38;5;28;01mraise\u001B[39;00m \u001B[38;5;167;01mKeyError\u001B[39;00m(key) \u001B[38;5;28;01mfrom\u001B[39;00m \u001B[38;5;21;01merr\u001B[39;00m\n\u001B[0;32m   3655\u001B[0m \u001B[38;5;28;01mexcept\u001B[39;00m \u001B[38;5;167;01mTypeError\u001B[39;00m:\n\u001B[0;32m   3656\u001B[0m     \u001B[38;5;66;03m# If we have a listlike key, _check_indexing_error will raise\u001B[39;00m\n\u001B[0;32m   3657\u001B[0m     \u001B[38;5;66;03m#  InvalidIndexError. Otherwise we fall through and re-raise\u001B[39;00m\n\u001B[0;32m   3658\u001B[0m     \u001B[38;5;66;03m#  the TypeError.\u001B[39;00m\n\u001B[0;32m   3659\u001B[0m     \u001B[38;5;28mself\u001B[39m\u001B[38;5;241m.\u001B[39m_check_indexing_error(key)\n",
      "\u001B[1;31mKeyError\u001B[0m: 'CO2-corr [%]'"
     ]
    }
   ],
   "source": [
    "# Now all the data frames are read in, calculated and returned in to the excell_file\n",
    "sheet_names_samples = sheet_names[1:]\n",
    "for sheet_name in sheet_names_samples:\n",
    "    print(f\"started with sheet: {sheet_name}\")\n",
    "    # loading the data frame\n",
    "    column_end = NiceExcelFunction.get_column_index_from_letter(column_letter=\"O\")\n",
    "    data_frame = manager.load_sheet_table_with_input_header(sheet_name=sheet_name, column_names=basic_column_names, start_row=13, end_column=column_end)\n",
    "\n",
    "    # loading the data class with the constants for the sample\n",
    "    constants_data_class = dict_constants_data_classes[sheet_name]\n",
    "\n",
    "    # adding date and do the gas composition corrections.\n",
    "    RunDataFrameCalculationsForOneDataFrame(data_frame=data_frame).run_data_frame_processor_calculations()\n",
    "    RunDataFrameCalculationsForOneDataFrame(data_frame=data_frame).run_gas_composition_calculations(set_values_gas_composition_first_row=True,\n",
    "                                                                                                    ch4=0, co2=0.03, o2=21.90, n2=78.07)\n",
    "\n",
    "    # calculations for moles before and after sampling\n",
    "    RunDataFrameCalculationsForOneDataFrame(data_frame=data_frame).run_mol_gases_before_and_after_sampling(Rgas=constants_data_class.Rgas,\n",
    "                                                                                                           exp_temperature=constants_data_class.expTemp,\n",
    "                                                                                                           volume_headspace=constants_data_class.volume_headspace)\n",
    "    # correcting the mg_bs for the first measurement\n",
    "    data_frame.loc[0, \"mg_as\"] = data_frame.loc[0, \"mg_bs\"]\n",
    "\n",
    "    # run mol gas composition\n",
    "    RunDataFrameCalculationsForOneDataFrame(data_frame=data_frame).run_mol_gas_composition_calculation()\n",
    "    # run moles produced\n",
    "    RunDataFrameCalculationsForOneDataFrame(data_frame=data_frame).run_moles_produced()\n",
    "    # run cumulative calculations carbon in gas phase\n",
    "    RunDataFrameCalculationsForOneDataFrame(data_frame=data_frame).run_cumulative_production_in_the_gas_phase(molar_mass_carbon=constants_data_class.molar_mass_carbon,\n",
    "                                                                                                              dry_mass_sample=constants_data_class.dry_mass_sample)\n",
    "\n",
    "    # run calculation carbon in the aqueous phase\n",
    "    RunDataFrameCalculationsForOneDataFrame(data_frame=data_frame).run_carbon_in_aqueous_phase(water_volume_in_liters=constants_data_class.water_volume,\n",
    "                                                                                    dry_mass_sample=constants_data_class.dry_mass_sample)\n",
    "\n",
    "    # run results interpretations\n",
    "    RunDataFrameCalculationsForOneDataFrame(data_frame=data_frame).run_results_Interpretations()\n",
    "\n",
    "    # print to see the process\n",
    "    print(f\"finished calculations {sheet_name}\")\n",
    "\n",
    "    # overwrite the old data frame or fill with the new data frame which has calculations\n",
    "    manager.fill_dict_panda_data_frames(data_frame=data_frame, sheets=[sheet_name])\n",
    "\n",
    "    # print to see the process\n",
    "    print(f\"filled dictionary for {sheet_name}\")"
   ],
   "metadata": {
    "collapsed": false,
    "ExecuteTime": {
     "end_time": "2023-07-02T09:46:04.623384100Z",
     "start_time": "2023-07-02T09:46:02.884751300Z"
    }
   }
  },
  {
   "cell_type": "markdown",
   "source": [
    "#### you can see the data frame below. Please fill the name of the tab below:"
   ],
   "metadata": {
    "collapsed": false
   }
  },
  {
   "cell_type": "code",
   "execution_count": null,
   "outputs": [],
   "source": [
    "sheet_tab_name = \"GT1.1\"\n",
    "\n",
    "\n",
    "dict_data_frames = manager.get_dict_panda_data_frames()\n",
    "display(dict_data_frames[sheet_tab_name])\n",
    "# Set the display options\n",
    "pd.set_option('display.max_rows', None)  # Display all rows\n",
    "pd.set_option('display.max_columns', None)  # Display all columns\n",
    "pd.set_option('display.width', None)  # Automatically adjust the column width to fit the contents"
   ],
   "metadata": {
    "collapsed": false
   }
  },
  {
   "cell_type": "markdown",
   "source": [
    "# OVERWRITING the excel file. Did you made a copy before?"
   ],
   "metadata": {
    "collapsed": false
   }
  },
  {
   "cell_type": "code",
   "execution_count": null,
   "outputs": [],
   "source": [
    "for sheet_name in sheet_names_samples:\n",
    " # replace the table (overwrite) in the Excel file.\n",
    "    data_frame = manager.get_dict_panda_data_frames()[sheet_name]\n",
    "    manager.replace_table_in_specific_sheet_with_data_frame(excel_file_path=path_input_excel,\n",
    "                                                            sheet_name=sheet_name,\n",
    "                                                            start_row=13,\n",
    "                                                            data_frame=data_frame,\n",
    "                                                            header=False\n",
    "                                                            )\n",
    "    print(f\"replaced table in Excel for {sheet_name}\")"
   ],
   "metadata": {
    "collapsed": false
   }
  },
  {
   "cell_type": "code",
   "execution_count": null,
   "outputs": [],
   "source": [],
   "metadata": {
    "collapsed": false
   }
  }
 ],
 "metadata": {
  "kernelspec": {
   "display_name": "Python 3",
   "language": "python",
   "name": "python3"
  },
  "language_info": {
   "codemirror_mode": {
    "name": "ipython",
    "version": 2
   },
   "file_extension": ".py",
   "mimetype": "text/x-python",
   "name": "python",
   "nbconvert_exporter": "python",
   "pygments_lexer": "ipython2",
   "version": "2.7.6"
  }
 },
 "nbformat": 4,
 "nbformat_minor": 0
}
