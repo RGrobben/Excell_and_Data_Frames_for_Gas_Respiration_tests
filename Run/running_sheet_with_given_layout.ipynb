{
 "cells": [
  {
   "cell_type": "code",
   "execution_count": 1,
   "metadata": {
    "collapsed": true,
    "ExecuteTime": {
     "end_time": "2023-07-02T12:05:00.693457400Z",
     "start_time": "2023-07-02T12:04:59.874028900Z"
    }
   },
   "outputs": [],
   "source": [
    "import pandas as pd\n",
    "from excel_manager import ExcelManager\n",
    "from run_data_frame_calculations import RunDataFrameCalculationsForOneDataFrame\n",
    "from data_frame_calculations_standard_for_gas_respiration_tests import GasComposition\n",
    "from nice_functions import NiceExcelFunction\n"
   ]
  },
  {
   "cell_type": "markdown",
   "source": [
    "# Make a COPY before you run the script"
   ],
   "metadata": {
    "collapsed": false
   }
  },
  {
   "cell_type": "markdown",
   "source": [],
   "metadata": {
    "collapsed": false
   }
  },
  {
   "cell_type": "code",
   "execution_count": 2,
   "outputs": [],
   "source": [
    "path_input_excel = r\"C:\\Users\\robbe\\Downloads\\Gas_production_KRA_BEP_R.Grobben_final_01_run_File.xlsx\"\n",
    "\n",
    "#make instance of excel manger\n",
    "manager = ExcelManager(path_input_excel)\n",
    "\n",
    "# load the workbook in\n",
    "manager.load_workbook()"
   ],
   "metadata": {
    "collapsed": false,
    "ExecuteTime": {
     "end_time": "2023-07-02T12:05:03.746628900Z",
     "start_time": "2023-07-02T12:05:00.697938600Z"
    }
   }
  },
  {
   "cell_type": "markdown",
   "source": [
    "### You can see the sheet names"
   ],
   "metadata": {
    "collapsed": false
   }
  },
  {
   "cell_type": "code",
   "execution_count": 3,
   "outputs": [
    {
     "name": "stdout",
     "output_type": "stream",
     "text": [
      "['Notes', 'GT1.1', 'GT1.2', 'GT2.1', 'GT2.2', 'GT3.1', 'GT3.2', 'GT4.1', 'GT4.2', 'GT5.1', 'GT5.2', 'GT6.1', 'GT6.2', 'GT7.1', 'GT7.2', 'GT8.1', 'GT8.2']\n"
     ]
    }
   ],
   "source": [
    "# check the sheet names\n",
    "sheet_names = manager.get_sheet_names()\n",
    "print(sheet_names)"
   ],
   "metadata": {
    "collapsed": false,
    "ExecuteTime": {
     "end_time": "2023-07-02T12:05:03.764913300Z",
     "start_time": "2023-07-02T12:05:03.754057100Z"
    }
   }
  },
  {
   "cell_type": "markdown",
   "source": [
    "#### input names of table if needed"
   ],
   "metadata": {
    "collapsed": false
   }
  },
  {
   "cell_type": "code",
   "execution_count": 4,
   "outputs": [],
   "source": [
    "# column_names = ['Sample ID', 'Parallel', 'Date', 'Time', 'P atm', 'P sample before gc', 'P sample after gc', 'CH4', 'CO2', 'O2', 'N2', 'Flush (1=yes; 0=no)', 'Comments', 'GC method', 'Weight', 'Date + Time', 'Day', 'Sum', 'CH4-corr', 'CO2-corr', 'O2-corr', 'N2-corr', 'Sum-corr', 'mg_bs', 'mCO2_b', 'mCH4_b', 'mO2_b', 'mN2_b', 'mCTot_b', 'mg_as', 'mCO2_a', 'mCH4_a', 'mO2_a', 'mN2_a', 'mCTot_a', 'mCTot_produced', 'O2 consumed', 'CO2 produced', 'O2 consumed_cum', 'CO2 produced_cum', 'mCTot_produced_cum', 'Cgas_DM_cum', 'PP CO2_b', 'CO2_aq [mol/m3]', 'CO2_aq [mol]', 'CO2_produced_aq', 'DIC_cum', 'Ctot_DM', 'Ratio O2/CO2']\n",
    "#\n",
    "basic_column_names = ['Sample ID', 'Parallel', 'Date', 'Time', 'P atm [hPa]', 'P sample before gc [hPa]', 'P sample after gc [hPa]', 'CH4 [%]', 'CO2 [%]', 'O2 [%]', 'N2 [%]', 'Flush (1=yes; 0=no)', 'Comments', 'GC method', 'Weight [g]']\n",
    "\n"
   ],
   "metadata": {
    "collapsed": false,
    "ExecuteTime": {
     "end_time": "2023-07-02T12:05:03.818755100Z",
     "start_time": "2023-07-02T12:05:03.764913300Z"
    }
   }
  },
  {
   "cell_type": "markdown",
   "source": [
    "##### you can check if the sheets are in the instance of the excell manager class."
   ],
   "metadata": {
    "collapsed": false
   }
  },
  {
   "cell_type": "code",
   "execution_count": 5,
   "outputs": [
    {
     "data": {
      "text/plain": "         None      None                 None      None    None   \n0        None      None                 None      None    None  \\\n1   Sample ID  Parallel                 Date      Time   P atm   \n2        None      None                 None      None     hPa   \n3         GT1         1  2023-04-17 00:00:00  14:42:00  1025.1   \n4         GT1         1  2023-04-19 00:00:00  14:42:00  1023.1   \n5         GT1         1  2023-04-24 00:00:00  10:20:00  1002.3   \n6         GT1         1  2023-04-24 00:00:00  11:25:00  1003.3   \n7         GT1         1  2023-04-26 00:00:00  08:52:00    1017   \n8         GT1         1  2023-04-26 00:00:00  09:53:00  1017.2   \n9         GT1         1  2023-04-28 00:00:00  09:45:00  1006.8   \n10        GT1         1  2023-04-28 00:00:00  09:46:00  1006.8   \n11        GT1         1  2023-05-01 00:00:00  13:50:00  1013.1   \n12        GT1         1  2023-05-01 00:00:00  14:49:00  1013.3   \n13        GT1         1  2023-05-04 00:00:00  09:26:00  1017.9   \n14        GT1         1  2023-05-04 00:00:00  10:46:00  1017.2   \n15        GT1         1  2023-05-08 00:00:00  08:40:00  1018.7   \n16        GT1         1  2023-05-08 00:00:00  09:47:00  1018.7   \n17        GT1         1  2023-05-10 00:00:00  09:35:00  1007.5   \n18        GT1         1  2023-05-10 00:00:00  10:40:00    1008   \n19        GT1         1  2023-05-12 00:00:00  09:09:00  1014.4   \n20        GT1         1  2023-05-12 00:00:00  10:10:00  1014.9   \n21        GT1         1  2023-05-15 00:00:00  09:30:00  1012.5   \n22        GT1         1  2023-05-15 00:00:00  10:38:00  1012.8   \n23        GT1         1  2023-05-17 00:00:00  08:52:00    1025   \n24        GT1         1  2023-05-17 00:00:00  09:57:00  1025.6   \n25        GT1         1  2023-05-22 00:00:00  14:11:00  1013.1   \n26        GT1         1  2023-05-22 00:00:00  15:08:00  1013.6   \n\n                  None               None  None   None    None  ...   \n0                 None               None  None   None    None  ...  \\\n1   P sample before gc  P sample after gc   CH4    CO2      O2  ...   \n2                  hPa                hPa     %      %       %  ...   \n3              1117.44               None     0   0.03    21.9  ...   \n4                  960              958.1  0.12   1.53    2.21  ...   \n5                962.2              959.8  0.25   2.41    1.59  ...   \n6               1104.6             1085.8     0   0.74   19.79  ...   \n7                  954                951  0.03   2.72    8.46  ...   \n8               1120.8             1105.6     0   0.63   20.51  ...   \n9               1029.2             1025.8     0   4.52   11.77  ...   \n10             1117.44            1111.45     0  0.538  20.313  ...   \n11              1042.7             1039.9     0   5.74    9.74  ...   \n12              1114.6             1110.6     0   0.78    20.5  ...   \n13              1050.6             1046.6     0   5.34   12.97  ...   \n14              1122.1             1119.1     0    0.5   20.32  ...   \n15              1037.5             1035.2     0   6.98    8.07  ...   \n16              1123.2             1120.3     0   0.57   20.11  ...   \n17                1073             1070.6     0   4.77   15.79  ...   \n18              1112.4             1109.9     0    0.4   20.24  ...   \n19              1068.8             1066.2     0    3.7   15.45  ...   \n20              1118.6             1115.3     0   0.41   20.26  ...   \n21              1068.2             1061.9     0   4.43   15.52  ...   \n22              1117.1             1113.5     0   0.42   20.54  ...   \n23              1088.6             1086.7     0   3.02   18.61  ...   \n24                1129             1125.8     0   0.29   20.55  ...   \n25              1074.8             1072.5     0   7.08   12.54  ...   \n26                1112             1108.6     0   0.64   20.31  ...   \n\n         None       None                                 None         None   \n0        None       None                                 None         None  \\\n1   CO2_a_aq   CO2_a_aq   CO2_dissolved between timesteps_aq   CO2_cum_aq    \n2      mol/m3        mol                                  mol       mol/m3   \n3           0          0                             0.000017     0.000017   \n4    7.628478   0.000748                             0.000749     0.000766   \n5   11.700945   0.001147                             0.000402     0.001168   \n6    4.313996   0.000423                            -0.000717     0.000452   \n7   13.060963    0.00128                             0.000861     0.001313   \n8    3.730508   0.000366                            -0.000909     0.000404   \n9   22.771623   0.002232                             0.001873     0.002277   \n10   3.233788   0.000317                            -0.001913     0.000364   \n11  31.597172   0.003097                             0.002788     0.003152   \n12   4.645321   0.000455                             -0.00264     0.000512   \n13  27.856337    0.00273                             0.002285     0.002797   \n14   3.036363   0.000298                            -0.002432     0.000366   \n15   37.64733   0.003689                               0.0034     0.003766   \n16   3.493438   0.000342                            -0.003346      0.00042   \n17  24.005362   0.002353                             0.002015     0.002435   \n18   2.421684   0.000237                            -0.002115      0.00032   \n19  20.021384   0.001962                              0.00173      0.00205   \n20   2.494043   0.000244                            -0.001717     0.000333   \n21  22.350159    0.00219                             0.001959     0.002292   \n22   2.516631   0.000247                            -0.001943     0.000349   \n23  15.699252   0.001539                             0.001295     0.001644   \n24   1.759403   0.000172                            -0.001366     0.000278   \n25  35.486515   0.003478                             0.003313     0.003591   \n26   3.845291   0.000377                              -0.0031     0.000491   \n\n        None      None          None  None  None  None  \n0       None      None          None  None  None  None  \n1    DIC_cum  Ctot_DM   Ratio O2/CO2  None  None  None  \n2   mg C/gDW  mg C/gDW          None  None  None  None  \n3   0.001342         0             0  None  None  None  \n4   0.059861  0.107374      6.719315  None  None  None  \n5   0.091263  0.166575      0.347675  None  None  None  \n6   0.035281      None             0  None  None  None  \n7   0.102562  0.230482      3.691717  None  None  None  \n8   0.031522      None             0  None  None  None  \n9   0.177876  0.418379      1.409119  None  None  None  \n10  0.028431      None             0  None  None  None  \n11  0.246228  0.654273      1.044409  None  None  None  \n12  0.040017      None             0  None  None  None  \n13  0.218532    0.7639      1.010109  None  None  None  \n14  0.028576      None             0  None  None  None  \n15  0.294193  1.043888       0.99973  None  None  None  \n16  0.032785      None             0  None  None  None  \n17  0.190233  1.061046      0.921948  None  None  None  \n18  0.025034      None             0  None  None  None  \n19  0.160148  1.134899      0.954168  None  None  None  \n20  0.026018      None             0  None  None  None  \n21  0.179049  1.271519      0.967441  None  None  None  \n22  0.027268      None             0  None  None  None  \n23  0.128403  1.298671      0.861129  None  None  None  \n24  0.021719      None             0  None  None  None  \n25  0.280512  1.649857      0.793441  None  None  None  \n26  0.038362      None             0  None  None  None  \n\n[27 rows x 56 columns]",
      "text/html": "<div>\n<style scoped>\n    .dataframe tbody tr th:only-of-type {\n        vertical-align: middle;\n    }\n\n    .dataframe tbody tr th {\n        vertical-align: top;\n    }\n\n    .dataframe thead th {\n        text-align: right;\n    }\n</style>\n<table border=\"1\" class=\"dataframe\">\n  <thead>\n    <tr style=\"text-align: right;\">\n      <th></th>\n      <th>None</th>\n      <th>None</th>\n      <th>None</th>\n      <th>None</th>\n      <th>None</th>\n      <th>None</th>\n      <th>None</th>\n      <th>None</th>\n      <th>None</th>\n      <th>None</th>\n      <th>...</th>\n      <th>None</th>\n      <th>None</th>\n      <th>None</th>\n      <th>None</th>\n      <th>None</th>\n      <th>None</th>\n      <th>None</th>\n      <th>None</th>\n      <th>None</th>\n      <th>None</th>\n    </tr>\n  </thead>\n  <tbody>\n    <tr>\n      <th>0</th>\n      <td>None</td>\n      <td>None</td>\n      <td>None</td>\n      <td>None</td>\n      <td>None</td>\n      <td>None</td>\n      <td>None</td>\n      <td>None</td>\n      <td>None</td>\n      <td>None</td>\n      <td>...</td>\n      <td>None</td>\n      <td>None</td>\n      <td>None</td>\n      <td>None</td>\n      <td>None</td>\n      <td>None</td>\n      <td>None</td>\n      <td>None</td>\n      <td>None</td>\n      <td>None</td>\n    </tr>\n    <tr>\n      <th>1</th>\n      <td>Sample ID</td>\n      <td>Parallel</td>\n      <td>Date</td>\n      <td>Time</td>\n      <td>P atm</td>\n      <td>P sample before gc</td>\n      <td>P sample after gc</td>\n      <td>CH4</td>\n      <td>CO2</td>\n      <td>O2</td>\n      <td>...</td>\n      <td>CO2_a_aq</td>\n      <td>CO2_a_aq</td>\n      <td>CO2_dissolved between timesteps_aq</td>\n      <td>CO2_cum_aq</td>\n      <td>DIC_cum</td>\n      <td>Ctot_DM</td>\n      <td>Ratio O2/CO2</td>\n      <td>None</td>\n      <td>None</td>\n      <td>None</td>\n    </tr>\n    <tr>\n      <th>2</th>\n      <td>None</td>\n      <td>None</td>\n      <td>None</td>\n      <td>None</td>\n      <td>hPa</td>\n      <td>hPa</td>\n      <td>hPa</td>\n      <td>%</td>\n      <td>%</td>\n      <td>%</td>\n      <td>...</td>\n      <td>mol/m3</td>\n      <td>mol</td>\n      <td>mol</td>\n      <td>mol/m3</td>\n      <td>mg C/gDW</td>\n      <td>mg C/gDW</td>\n      <td>None</td>\n      <td>None</td>\n      <td>None</td>\n      <td>None</td>\n    </tr>\n    <tr>\n      <th>3</th>\n      <td>GT1</td>\n      <td>1</td>\n      <td>2023-04-17 00:00:00</td>\n      <td>14:42:00</td>\n      <td>1025.1</td>\n      <td>1117.44</td>\n      <td>None</td>\n      <td>0</td>\n      <td>0.03</td>\n      <td>21.9</td>\n      <td>...</td>\n      <td>0</td>\n      <td>0</td>\n      <td>0.000017</td>\n      <td>0.000017</td>\n      <td>0.001342</td>\n      <td>0</td>\n      <td>0</td>\n      <td>None</td>\n      <td>None</td>\n      <td>None</td>\n    </tr>\n    <tr>\n      <th>4</th>\n      <td>GT1</td>\n      <td>1</td>\n      <td>2023-04-19 00:00:00</td>\n      <td>14:42:00</td>\n      <td>1023.1</td>\n      <td>960</td>\n      <td>958.1</td>\n      <td>0.12</td>\n      <td>1.53</td>\n      <td>2.21</td>\n      <td>...</td>\n      <td>7.628478</td>\n      <td>0.000748</td>\n      <td>0.000749</td>\n      <td>0.000766</td>\n      <td>0.059861</td>\n      <td>0.107374</td>\n      <td>6.719315</td>\n      <td>None</td>\n      <td>None</td>\n      <td>None</td>\n    </tr>\n    <tr>\n      <th>5</th>\n      <td>GT1</td>\n      <td>1</td>\n      <td>2023-04-24 00:00:00</td>\n      <td>10:20:00</td>\n      <td>1002.3</td>\n      <td>962.2</td>\n      <td>959.8</td>\n      <td>0.25</td>\n      <td>2.41</td>\n      <td>1.59</td>\n      <td>...</td>\n      <td>11.700945</td>\n      <td>0.001147</td>\n      <td>0.000402</td>\n      <td>0.001168</td>\n      <td>0.091263</td>\n      <td>0.166575</td>\n      <td>0.347675</td>\n      <td>None</td>\n      <td>None</td>\n      <td>None</td>\n    </tr>\n    <tr>\n      <th>6</th>\n      <td>GT1</td>\n      <td>1</td>\n      <td>2023-04-24 00:00:00</td>\n      <td>11:25:00</td>\n      <td>1003.3</td>\n      <td>1104.6</td>\n      <td>1085.8</td>\n      <td>0</td>\n      <td>0.74</td>\n      <td>19.79</td>\n      <td>...</td>\n      <td>4.313996</td>\n      <td>0.000423</td>\n      <td>-0.000717</td>\n      <td>0.000452</td>\n      <td>0.035281</td>\n      <td>None</td>\n      <td>0</td>\n      <td>None</td>\n      <td>None</td>\n      <td>None</td>\n    </tr>\n    <tr>\n      <th>7</th>\n      <td>GT1</td>\n      <td>1</td>\n      <td>2023-04-26 00:00:00</td>\n      <td>08:52:00</td>\n      <td>1017</td>\n      <td>954</td>\n      <td>951</td>\n      <td>0.03</td>\n      <td>2.72</td>\n      <td>8.46</td>\n      <td>...</td>\n      <td>13.060963</td>\n      <td>0.00128</td>\n      <td>0.000861</td>\n      <td>0.001313</td>\n      <td>0.102562</td>\n      <td>0.230482</td>\n      <td>3.691717</td>\n      <td>None</td>\n      <td>None</td>\n      <td>None</td>\n    </tr>\n    <tr>\n      <th>8</th>\n      <td>GT1</td>\n      <td>1</td>\n      <td>2023-04-26 00:00:00</td>\n      <td>09:53:00</td>\n      <td>1017.2</td>\n      <td>1120.8</td>\n      <td>1105.6</td>\n      <td>0</td>\n      <td>0.63</td>\n      <td>20.51</td>\n      <td>...</td>\n      <td>3.730508</td>\n      <td>0.000366</td>\n      <td>-0.000909</td>\n      <td>0.000404</td>\n      <td>0.031522</td>\n      <td>None</td>\n      <td>0</td>\n      <td>None</td>\n      <td>None</td>\n      <td>None</td>\n    </tr>\n    <tr>\n      <th>9</th>\n      <td>GT1</td>\n      <td>1</td>\n      <td>2023-04-28 00:00:00</td>\n      <td>09:45:00</td>\n      <td>1006.8</td>\n      <td>1029.2</td>\n      <td>1025.8</td>\n      <td>0</td>\n      <td>4.52</td>\n      <td>11.77</td>\n      <td>...</td>\n      <td>22.771623</td>\n      <td>0.002232</td>\n      <td>0.001873</td>\n      <td>0.002277</td>\n      <td>0.177876</td>\n      <td>0.418379</td>\n      <td>1.409119</td>\n      <td>None</td>\n      <td>None</td>\n      <td>None</td>\n    </tr>\n    <tr>\n      <th>10</th>\n      <td>GT1</td>\n      <td>1</td>\n      <td>2023-04-28 00:00:00</td>\n      <td>09:46:00</td>\n      <td>1006.8</td>\n      <td>1117.44</td>\n      <td>1111.45</td>\n      <td>0</td>\n      <td>0.538</td>\n      <td>20.313</td>\n      <td>...</td>\n      <td>3.233788</td>\n      <td>0.000317</td>\n      <td>-0.001913</td>\n      <td>0.000364</td>\n      <td>0.028431</td>\n      <td>None</td>\n      <td>0</td>\n      <td>None</td>\n      <td>None</td>\n      <td>None</td>\n    </tr>\n    <tr>\n      <th>11</th>\n      <td>GT1</td>\n      <td>1</td>\n      <td>2023-05-01 00:00:00</td>\n      <td>13:50:00</td>\n      <td>1013.1</td>\n      <td>1042.7</td>\n      <td>1039.9</td>\n      <td>0</td>\n      <td>5.74</td>\n      <td>9.74</td>\n      <td>...</td>\n      <td>31.597172</td>\n      <td>0.003097</td>\n      <td>0.002788</td>\n      <td>0.003152</td>\n      <td>0.246228</td>\n      <td>0.654273</td>\n      <td>1.044409</td>\n      <td>None</td>\n      <td>None</td>\n      <td>None</td>\n    </tr>\n    <tr>\n      <th>12</th>\n      <td>GT1</td>\n      <td>1</td>\n      <td>2023-05-01 00:00:00</td>\n      <td>14:49:00</td>\n      <td>1013.3</td>\n      <td>1114.6</td>\n      <td>1110.6</td>\n      <td>0</td>\n      <td>0.78</td>\n      <td>20.5</td>\n      <td>...</td>\n      <td>4.645321</td>\n      <td>0.000455</td>\n      <td>-0.00264</td>\n      <td>0.000512</td>\n      <td>0.040017</td>\n      <td>None</td>\n      <td>0</td>\n      <td>None</td>\n      <td>None</td>\n      <td>None</td>\n    </tr>\n    <tr>\n      <th>13</th>\n      <td>GT1</td>\n      <td>1</td>\n      <td>2023-05-04 00:00:00</td>\n      <td>09:26:00</td>\n      <td>1017.9</td>\n      <td>1050.6</td>\n      <td>1046.6</td>\n      <td>0</td>\n      <td>5.34</td>\n      <td>12.97</td>\n      <td>...</td>\n      <td>27.856337</td>\n      <td>0.00273</td>\n      <td>0.002285</td>\n      <td>0.002797</td>\n      <td>0.218532</td>\n      <td>0.7639</td>\n      <td>1.010109</td>\n      <td>None</td>\n      <td>None</td>\n      <td>None</td>\n    </tr>\n    <tr>\n      <th>14</th>\n      <td>GT1</td>\n      <td>1</td>\n      <td>2023-05-04 00:00:00</td>\n      <td>10:46:00</td>\n      <td>1017.2</td>\n      <td>1122.1</td>\n      <td>1119.1</td>\n      <td>0</td>\n      <td>0.5</td>\n      <td>20.32</td>\n      <td>...</td>\n      <td>3.036363</td>\n      <td>0.000298</td>\n      <td>-0.002432</td>\n      <td>0.000366</td>\n      <td>0.028576</td>\n      <td>None</td>\n      <td>0</td>\n      <td>None</td>\n      <td>None</td>\n      <td>None</td>\n    </tr>\n    <tr>\n      <th>15</th>\n      <td>GT1</td>\n      <td>1</td>\n      <td>2023-05-08 00:00:00</td>\n      <td>08:40:00</td>\n      <td>1018.7</td>\n      <td>1037.5</td>\n      <td>1035.2</td>\n      <td>0</td>\n      <td>6.98</td>\n      <td>8.07</td>\n      <td>...</td>\n      <td>37.64733</td>\n      <td>0.003689</td>\n      <td>0.0034</td>\n      <td>0.003766</td>\n      <td>0.294193</td>\n      <td>1.043888</td>\n      <td>0.99973</td>\n      <td>None</td>\n      <td>None</td>\n      <td>None</td>\n    </tr>\n    <tr>\n      <th>16</th>\n      <td>GT1</td>\n      <td>1</td>\n      <td>2023-05-08 00:00:00</td>\n      <td>09:47:00</td>\n      <td>1018.7</td>\n      <td>1123.2</td>\n      <td>1120.3</td>\n      <td>0</td>\n      <td>0.57</td>\n      <td>20.11</td>\n      <td>...</td>\n      <td>3.493438</td>\n      <td>0.000342</td>\n      <td>-0.003346</td>\n      <td>0.00042</td>\n      <td>0.032785</td>\n      <td>None</td>\n      <td>0</td>\n      <td>None</td>\n      <td>None</td>\n      <td>None</td>\n    </tr>\n    <tr>\n      <th>17</th>\n      <td>GT1</td>\n      <td>1</td>\n      <td>2023-05-10 00:00:00</td>\n      <td>09:35:00</td>\n      <td>1007.5</td>\n      <td>1073</td>\n      <td>1070.6</td>\n      <td>0</td>\n      <td>4.77</td>\n      <td>15.79</td>\n      <td>...</td>\n      <td>24.005362</td>\n      <td>0.002353</td>\n      <td>0.002015</td>\n      <td>0.002435</td>\n      <td>0.190233</td>\n      <td>1.061046</td>\n      <td>0.921948</td>\n      <td>None</td>\n      <td>None</td>\n      <td>None</td>\n    </tr>\n    <tr>\n      <th>18</th>\n      <td>GT1</td>\n      <td>1</td>\n      <td>2023-05-10 00:00:00</td>\n      <td>10:40:00</td>\n      <td>1008</td>\n      <td>1112.4</td>\n      <td>1109.9</td>\n      <td>0</td>\n      <td>0.4</td>\n      <td>20.24</td>\n      <td>...</td>\n      <td>2.421684</td>\n      <td>0.000237</td>\n      <td>-0.002115</td>\n      <td>0.00032</td>\n      <td>0.025034</td>\n      <td>None</td>\n      <td>0</td>\n      <td>None</td>\n      <td>None</td>\n      <td>None</td>\n    </tr>\n    <tr>\n      <th>19</th>\n      <td>GT1</td>\n      <td>1</td>\n      <td>2023-05-12 00:00:00</td>\n      <td>09:09:00</td>\n      <td>1014.4</td>\n      <td>1068.8</td>\n      <td>1066.2</td>\n      <td>0</td>\n      <td>3.7</td>\n      <td>15.45</td>\n      <td>...</td>\n      <td>20.021384</td>\n      <td>0.001962</td>\n      <td>0.00173</td>\n      <td>0.00205</td>\n      <td>0.160148</td>\n      <td>1.134899</td>\n      <td>0.954168</td>\n      <td>None</td>\n      <td>None</td>\n      <td>None</td>\n    </tr>\n    <tr>\n      <th>20</th>\n      <td>GT1</td>\n      <td>1</td>\n      <td>2023-05-12 00:00:00</td>\n      <td>10:10:00</td>\n      <td>1014.9</td>\n      <td>1118.6</td>\n      <td>1115.3</td>\n      <td>0</td>\n      <td>0.41</td>\n      <td>20.26</td>\n      <td>...</td>\n      <td>2.494043</td>\n      <td>0.000244</td>\n      <td>-0.001717</td>\n      <td>0.000333</td>\n      <td>0.026018</td>\n      <td>None</td>\n      <td>0</td>\n      <td>None</td>\n      <td>None</td>\n      <td>None</td>\n    </tr>\n    <tr>\n      <th>21</th>\n      <td>GT1</td>\n      <td>1</td>\n      <td>2023-05-15 00:00:00</td>\n      <td>09:30:00</td>\n      <td>1012.5</td>\n      <td>1068.2</td>\n      <td>1061.9</td>\n      <td>0</td>\n      <td>4.43</td>\n      <td>15.52</td>\n      <td>...</td>\n      <td>22.350159</td>\n      <td>0.00219</td>\n      <td>0.001959</td>\n      <td>0.002292</td>\n      <td>0.179049</td>\n      <td>1.271519</td>\n      <td>0.967441</td>\n      <td>None</td>\n      <td>None</td>\n      <td>None</td>\n    </tr>\n    <tr>\n      <th>22</th>\n      <td>GT1</td>\n      <td>1</td>\n      <td>2023-05-15 00:00:00</td>\n      <td>10:38:00</td>\n      <td>1012.8</td>\n      <td>1117.1</td>\n      <td>1113.5</td>\n      <td>0</td>\n      <td>0.42</td>\n      <td>20.54</td>\n      <td>...</td>\n      <td>2.516631</td>\n      <td>0.000247</td>\n      <td>-0.001943</td>\n      <td>0.000349</td>\n      <td>0.027268</td>\n      <td>None</td>\n      <td>0</td>\n      <td>None</td>\n      <td>None</td>\n      <td>None</td>\n    </tr>\n    <tr>\n      <th>23</th>\n      <td>GT1</td>\n      <td>1</td>\n      <td>2023-05-17 00:00:00</td>\n      <td>08:52:00</td>\n      <td>1025</td>\n      <td>1088.6</td>\n      <td>1086.7</td>\n      <td>0</td>\n      <td>3.02</td>\n      <td>18.61</td>\n      <td>...</td>\n      <td>15.699252</td>\n      <td>0.001539</td>\n      <td>0.001295</td>\n      <td>0.001644</td>\n      <td>0.128403</td>\n      <td>1.298671</td>\n      <td>0.861129</td>\n      <td>None</td>\n      <td>None</td>\n      <td>None</td>\n    </tr>\n    <tr>\n      <th>24</th>\n      <td>GT1</td>\n      <td>1</td>\n      <td>2023-05-17 00:00:00</td>\n      <td>09:57:00</td>\n      <td>1025.6</td>\n      <td>1129</td>\n      <td>1125.8</td>\n      <td>0</td>\n      <td>0.29</td>\n      <td>20.55</td>\n      <td>...</td>\n      <td>1.759403</td>\n      <td>0.000172</td>\n      <td>-0.001366</td>\n      <td>0.000278</td>\n      <td>0.021719</td>\n      <td>None</td>\n      <td>0</td>\n      <td>None</td>\n      <td>None</td>\n      <td>None</td>\n    </tr>\n    <tr>\n      <th>25</th>\n      <td>GT1</td>\n      <td>1</td>\n      <td>2023-05-22 00:00:00</td>\n      <td>14:11:00</td>\n      <td>1013.1</td>\n      <td>1074.8</td>\n      <td>1072.5</td>\n      <td>0</td>\n      <td>7.08</td>\n      <td>12.54</td>\n      <td>...</td>\n      <td>35.486515</td>\n      <td>0.003478</td>\n      <td>0.003313</td>\n      <td>0.003591</td>\n      <td>0.280512</td>\n      <td>1.649857</td>\n      <td>0.793441</td>\n      <td>None</td>\n      <td>None</td>\n      <td>None</td>\n    </tr>\n    <tr>\n      <th>26</th>\n      <td>GT1</td>\n      <td>1</td>\n      <td>2023-05-22 00:00:00</td>\n      <td>15:08:00</td>\n      <td>1013.6</td>\n      <td>1112</td>\n      <td>1108.6</td>\n      <td>0</td>\n      <td>0.64</td>\n      <td>20.31</td>\n      <td>...</td>\n      <td>3.845291</td>\n      <td>0.000377</td>\n      <td>-0.0031</td>\n      <td>0.000491</td>\n      <td>0.038362</td>\n      <td>None</td>\n      <td>0</td>\n      <td>None</td>\n      <td>None</td>\n      <td>None</td>\n    </tr>\n  </tbody>\n</table>\n<p>27 rows × 56 columns</p>\n</div>"
     },
     "metadata": {},
     "output_type": "display_data"
    },
    {
     "name": "stdout",
     "output_type": "stream",
     "text": [
      " As you can see now the full sheet is shown\n"
     ]
    }
   ],
   "source": [
    "# check if you can see the data_frame\n",
    "full_sheet = manager.load_sheet_table(sheet_name=\"GT1.1\", start_row=9)\n",
    "\n",
    "display(full_sheet)\n",
    "print(f' As you can see now the full sheet is shown')"
   ],
   "metadata": {
    "collapsed": false,
    "ExecuteTime": {
     "end_time": "2023-07-02T12:05:03.836882200Z",
     "start_time": "2023-07-02T12:05:03.783159Z"
    }
   }
  },
  {
   "cell_type": "markdown",
   "source": [
    "### Filling th dictionary for the constants of the samples  in the instance of hte excel manager class"
   ],
   "metadata": {
    "collapsed": false
   }
  },
  {
   "cell_type": "code",
   "execution_count": 6,
   "outputs": [
    {
     "name": "stdout",
     "output_type": "stream",
     "text": [
      "loading Notes is done\n",
      "loading GT1.1 is done\n",
      "loading GT1.2 is done\n",
      "loading GT2.1 is done\n",
      "loading GT2.2 is done\n",
      "loading GT3.1 is done\n",
      "loading GT3.2 is done\n",
      "loading GT4.1 is done\n",
      "loading GT4.2 is done\n",
      "loading GT5.1 is done\n",
      "loading GT5.2 is done\n",
      "loading GT6.1 is done\n",
      "loading GT6.2 is done\n",
      "loading GT7.1 is done\n",
      "loading GT7.2 is done\n",
      "loading GT8.1 is done\n",
      "loading GT8.2 is done\n",
      "153.60778531406666\n"
     ]
    }
   ],
   "source": [
    "# fil in the dict with constants for the samples\n",
    "sheet_names_samples = manager.get_sheet_names()\n",
    "for sheet_name in sheet_names_samples:\n",
    "    # loading the panda data frame for the sample\n",
    "    constants_data_frame = manager.load_constants_as_data_frame(sheet_name=sheet_name, start_row=1, end_row=7, start_col=3)\n",
    "\n",
    "    constants_data_class = manager.load_constants_as_data_class(sheet_name=sheet_name, start_row=1, end_row=7, start_col=3)\n",
    "\n",
    "    # fill the dictionary\n",
    "    manager.fill_dict_constants_data_frames(data_frame=constants_data_frame, sheets=[sheet_name])\n",
    "\n",
    "    manager.fill_dict_constants_data_classes(data_class=constants_data_class, sheets=[sheet_name])\n",
    "\n",
    "    print(f\"loading {sheet_name} is done\")\n",
    "\n",
    "dict_constants = manager.get_dict_constants_data_frames()\n",
    "dict_constants_data_classes = manager.get_dict_constants_data_classes()\n",
    "\n",
    "a = dict_constants_data_classes[\"GT1.1\"]\n",
    "print(a.dry_mass_sample)"
   ],
   "metadata": {
    "collapsed": false,
    "ExecuteTime": {
     "end_time": "2023-07-02T12:05:03.942667600Z",
     "start_time": "2023-07-02T12:05:03.853088300Z"
    }
   }
  },
  {
   "cell_type": "markdown",
   "source": [
    "# Validate Input data (TODO!)"
   ],
   "metadata": {
    "collapsed": false
   }
  },
  {
   "cell_type": "markdown",
   "source": [
    "#### running all the calculations for each data frame (sammple)"
   ],
   "metadata": {
    "collapsed": false
   }
  },
  {
   "cell_type": "code",
   "execution_count": 7,
   "outputs": [
    {
     "name": "stdout",
     "output_type": "stream",
     "text": [
      "started with sheet: GT1.1\n",
      "finished calculations GT1.1\n",
      "filled dictionary for GT1.1\n",
      "started with sheet: GT1.2\n",
      "finished calculations GT1.2\n",
      "filled dictionary for GT1.2\n",
      "started with sheet: GT2.1\n",
      "finished calculations GT2.1\n",
      "filled dictionary for GT2.1\n",
      "started with sheet: GT2.2\n",
      "finished calculations GT2.2\n",
      "filled dictionary for GT2.2\n",
      "started with sheet: GT3.1\n",
      "finished calculations GT3.1\n",
      "filled dictionary for GT3.1\n",
      "started with sheet: GT3.2\n",
      "finished calculations GT3.2\n",
      "filled dictionary for GT3.2\n",
      "started with sheet: GT4.1\n",
      "finished calculations GT4.1\n",
      "filled dictionary for GT4.1\n",
      "started with sheet: GT4.2\n",
      "finished calculations GT4.2\n",
      "filled dictionary for GT4.2\n",
      "started with sheet: GT5.1\n",
      "finished calculations GT5.1\n",
      "filled dictionary for GT5.1\n",
      "started with sheet: GT5.2\n",
      "finished calculations GT5.2\n",
      "filled dictionary for GT5.2\n",
      "started with sheet: GT6.1\n",
      "finished calculations GT6.1\n",
      "filled dictionary for GT6.1\n",
      "started with sheet: GT6.2\n",
      "finished calculations GT6.2\n",
      "filled dictionary for GT6.2\n",
      "started with sheet: GT7.1\n",
      "finished calculations GT7.1\n",
      "filled dictionary for GT7.1\n",
      "started with sheet: GT7.2\n",
      "finished calculations GT7.2\n",
      "filled dictionary for GT7.2\n",
      "started with sheet: GT8.1\n",
      "finished calculations GT8.1\n",
      "filled dictionary for GT8.1\n",
      "started with sheet: GT8.2\n",
      "finished calculations GT8.2\n",
      "filled dictionary for GT8.2\n"
     ]
    }
   ],
   "source": [
    "# Now all the data frames are read in, calculated and returned in to the excell_file\n",
    "sheet_names_samples = sheet_names[1:]\n",
    "for sheet_name in sheet_names_samples:\n",
    "    print(f\"started with sheet: {sheet_name}\")\n",
    "    # loading the data frame\n",
    "    column_end = NiceExcelFunction.get_column_index_from_letter(column_letter=\"O\")\n",
    "    data_frame = manager.load_sheet_table_with_input_header(sheet_name=sheet_name, column_names=basic_column_names, start_row=12, end_column=column_end)\n",
    "\n",
    "    # loading the data class with the constants for the sample\n",
    "    constants_data_class = dict_constants_data_classes[sheet_name]\n",
    "\n",
    "    # adding date and do the gas composition corrections.\n",
    "    RunDataFrameCalculationsForOneDataFrame(data_frame=data_frame).run_data_frame_processor_calculations()\n",
    "    RunDataFrameCalculationsForOneDataFrame(data_frame=data_frame).run_gas_composition_calculations(set_values_gas_composition_first_row=True,\n",
    "                                                                                                    ch4=0, co2=0.03, o2=21.90, n2=78.07)\n",
    "\n",
    "    # calculations for moles before and after sampling\n",
    "    RunDataFrameCalculationsForOneDataFrame(data_frame=data_frame).run_mol_gases_before_and_after_sampling(Rgas=constants_data_class.Rgas,\n",
    "                                                                                                           exp_temperature=constants_data_class.expTemp,\n",
    "                                                                                                           volume_headspace=constants_data_class.volume_headspace)\n",
    "    # correcting the mg_bs for the first measurement\n",
    "    data_frame.loc[0, \"mg_as\"] = data_frame.loc[0, \"mg_bs\"]\n",
    "\n",
    "    # run mol gas composition\n",
    "    RunDataFrameCalculationsForOneDataFrame(data_frame=data_frame).run_mol_gas_composition_calculation()\n",
    "    # run moles produced\n",
    "    RunDataFrameCalculationsForOneDataFrame(data_frame=data_frame).run_moles_produced()\n",
    "    # run cumulative calculations carbon in gas phase\n",
    "    RunDataFrameCalculationsForOneDataFrame(data_frame=data_frame).run_cumulative_production_in_the_gas_phase(molar_mass_carbon=constants_data_class.molar_mass_carbon,\n",
    "                                                                                                              dry_mass_sample=constants_data_class.dry_mass_sample)\n",
    "\n",
    "    # run calculation carbon in the aqueous phase\n",
    "    RunDataFrameCalculationsForOneDataFrame(data_frame=data_frame).run_carbon_in_aqueous_phase(water_volume_in_liters=constants_data_class.water_volume, dry_mass_sample=constants_data_class.dry_mass_sample)\n",
    "\n",
    "    # run results interpretations\n",
    "    RunDataFrameCalculationsForOneDataFrame(data_frame=data_frame).run_results_Interpretations()\n",
    "\n",
    "    # print to see the process\n",
    "    print(f\"finished calculations {sheet_name}\")\n",
    "\n",
    "    # overwrite the old data frame or fill with the new data frame which has calculations\n",
    "    manager.fill_dict_panda_data_frames(data_frame=data_frame, sheets=[sheet_name])\n",
    "\n",
    "    # print to see the process\n",
    "    print(f\"filled dictionary for {sheet_name}\")"
   ],
   "metadata": {
    "collapsed": false,
    "ExecuteTime": {
     "end_time": "2023-07-02T12:05:04.598837700Z",
     "start_time": "2023-07-02T12:05:03.881191200Z"
    }
   }
  },
  {
   "cell_type": "markdown",
   "source": [
    "#### you can see the data frame below. Please fill the name of the tab below:"
   ],
   "metadata": {
    "collapsed": false
   }
  },
  {
   "cell_type": "code",
   "execution_count": 8,
   "outputs": [
    {
     "data": {
      "text/plain": "   Sample ID  Parallel        Date      Time  P atm [hPa]   \n0        GT1         1  2023-04-17  14:42:00       1025.1  \\\n1        GT1         1  2023-04-19  14:42:00       1023.1   \n2        GT1         1  2023-04-24  10:20:00       1002.3   \n3        GT1         1  2023-04-24  11:25:00       1003.3   \n4        GT1         1  2023-04-26  08:52:00       1017.0   \n5        GT1         1  2023-04-26  09:53:00       1017.2   \n6        GT1         1  2023-04-28  09:45:00       1006.8   \n7        GT1         1  2023-04-28  09:46:00       1006.8   \n8        GT1         1  2023-05-01  13:50:00       1013.1   \n9        GT1         1  2023-05-01  14:49:00       1013.3   \n10       GT1         1  2023-05-04  09:26:00       1017.9   \n11       GT1         1  2023-05-04  10:46:00       1017.2   \n12       GT1         1  2023-05-08  08:40:00       1018.7   \n13       GT1         1  2023-05-08  09:47:00       1018.7   \n14       GT1         1  2023-05-10  09:35:00       1007.5   \n15       GT1         1  2023-05-10  10:40:00       1008.0   \n16       GT1         1  2023-05-12  09:09:00       1014.4   \n17       GT1         1  2023-05-12  10:10:00       1014.9   \n18       GT1         1  2023-05-15  09:30:00       1012.5   \n19       GT1         1  2023-05-15  10:38:00       1012.8   \n20       GT1         1  2023-05-17  08:52:00       1025.0   \n21       GT1         1  2023-05-17  09:57:00       1025.6   \n22       GT1         1  2023-05-22  14:11:00       1013.1   \n23       GT1         1  2023-05-22  15:08:00       1013.6   \n\n    P sample before gc [hPa]  P sample after gc [hPa]  CH4 [%]  CO2 [%]   \n0                    1117.44                     0.00     0.00    0.030  \\\n1                     960.00                   958.10     0.12    1.530   \n2                     962.20                   959.80     0.25    2.410   \n3                    1104.60                  1085.80     0.00    0.740   \n4                     954.00                   951.00     0.03    2.720   \n5                    1120.80                  1105.60     0.00    0.630   \n6                    1029.20                  1025.80     0.00    4.520   \n7                    1117.44                  1111.45     0.00    0.538   \n8                    1042.70                  1039.90     0.00    5.740   \n9                    1114.60                  1110.60     0.00    0.780   \n10                   1050.60                  1046.60     0.00    5.340   \n11                   1122.10                  1119.10     0.00    0.500   \n12                   1037.50                  1035.20     0.00    6.980   \n13                   1123.20                  1120.30     0.00    0.570   \n14                   1073.00                  1070.60     0.00    4.770   \n15                   1112.40                  1109.90     0.00    0.400   \n16                   1068.80                  1066.20     0.00    3.700   \n17                   1118.60                  1115.30     0.00    0.410   \n18                   1068.20                  1061.90     0.00    4.430   \n19                   1117.10                  1113.50     0.00    0.420   \n20                   1088.60                  1086.70     0.00    3.020   \n21                   1129.00                  1125.80     0.00    0.290   \n22                   1074.80                  1072.50     0.00    7.080   \n23                   1112.00                  1108.60     0.00    0.640   \n\n    O2 [%]  ...  CO2_b_aq [mol/m3]  CO2_b_aq [mol]    PP CO2_a    \n0   21.900  ...           0.175326        0.000017     0.000000  \\\n1    2.210  ...           7.643606        0.000749  1458.600000   \n2    1.590  ...          11.730204        0.001150  2237.274398   \n3   19.790  ...           4.388690        0.000430   824.855764   \n4    8.460  ...          13.102165        0.001284  2497.316084   \n5   20.510  ...           3.781796        0.000371   713.290323   \n6   11.770  ...          22.847100        0.002239  4354.038877   \n7   20.313  ...           3.251216        0.000319   618.315031   \n8    9.740  ...          31.682250        0.003105  6041.524291   \n9   20.500  ...           4.662052        0.000457   888.206706   \n10  12.970  ...          27.962801        0.002740  5326.259411   \n11  20.320  ...           3.044502        0.000298   580.566508   \n12   8.070  ...          37.730975        0.003698  7198.342299   \n13  20.110  ...           3.502481        0.000343   667.961297   \n14  15.790  ...          24.059175        0.002358  4589.935287   \n15  20.240  ...           2.427139        0.000238   463.037130   \n16  15.450  ...          20.070207        0.001967  3828.180495   \n17  20.260  ...           2.501422        0.000245   476.872458   \n18  15.520  ...          22.482757        0.002203  4273.452943   \n19  20.540  ...           2.524768        0.000247   481.191481   \n20  18.610  ...          15.726700        0.001541  3001.768956   \n21  20.550  ...           1.764404        0.000173   336.405976   \n22  12.540  ...          35.562617        0.003485  6785.184523   \n23  20.310  ...           3.857084        0.000378   735.237306   \n\n   CO2_a_aq [mol/m3]  CO2_a_aq [mol] CO2_dissolved_between_time_steps_aq   \n0           0.000000        0.000000                            0.000017  \\\n1           7.628478        0.000748                            0.000749   \n2          11.700945        0.001147                            0.000402   \n3           4.313996        0.000423                           -0.000717   \n4          13.060963        0.001280                            0.000861   \n5           3.730508        0.000366                           -0.000909   \n6          22.771623        0.002232                            0.001873   \n7           3.233788        0.000317                           -0.001913   \n8          31.597172        0.003097                            0.002788   \n9           4.645321        0.000455                           -0.002640   \n10         27.856337        0.002730                            0.002285   \n11          3.036363        0.000298                           -0.002432   \n12         37.647330        0.003689                            0.003400   \n13          3.493438        0.000342                           -0.003346   \n14         24.005362        0.002353                            0.002015   \n15          2.421684        0.000237                           -0.002115   \n16         20.021384        0.001962                            0.001730   \n17          2.494043        0.000244                           -0.001717   \n18         22.350159        0.002190                            0.001959   \n19          2.516631        0.000247                           -0.001943   \n20         15.699252        0.001539                            0.001295   \n21          1.759403        0.000172                           -0.001366   \n22         35.486515        0.003478                            0.003313   \n23          3.845291        0.000377                           -0.003100   \n\n    CO2_produced_aq_cum   DIC_cum  Ctot_DM [mg C/gDW]  Ratio O2/CO2  \n0              0.000017  0.001342            0.000000      0.000000  \n1              0.000766  0.059861            0.107374      6.719315  \n2              0.001168  0.091263            0.166575      0.347675  \n3              0.000452  0.035281                 NaN           NaN  \n4              0.001313  0.102562            0.230482      3.691717  \n5              0.000404  0.031522                 NaN           NaN  \n6              0.002277  0.177876            0.418379      1.409119  \n7              0.000364  0.028431                 NaN           NaN  \n8              0.003152  0.246228            0.654273      1.044409  \n9              0.000512  0.040017                 NaN           NaN  \n10             0.002797  0.218532            0.763900      1.010109  \n11             0.000366  0.028576                 NaN           NaN  \n12             0.003766  0.294193            1.043888      0.999730  \n13             0.000420  0.032785                 NaN           NaN  \n14             0.002435  0.190233            1.061046      0.921948  \n15             0.000320  0.025034                 NaN           NaN  \n16             0.002050  0.160148            1.134899      0.954168  \n17             0.000333  0.026018                 NaN           NaN  \n18             0.002292  0.179049            1.271519      0.967441  \n19             0.000349  0.027268                 NaN           NaN  \n20             0.001644  0.128403            1.298671      0.861129  \n21             0.000278  0.021719                 NaN           NaN  \n22             0.003591  0.280512            1.649857      0.793441  \n23             0.000491  0.038362                 NaN           NaN  \n\n[24 rows x 53 columns]",
      "text/html": "<div>\n<style scoped>\n    .dataframe tbody tr th:only-of-type {\n        vertical-align: middle;\n    }\n\n    .dataframe tbody tr th {\n        vertical-align: top;\n    }\n\n    .dataframe thead th {\n        text-align: right;\n    }\n</style>\n<table border=\"1\" class=\"dataframe\">\n  <thead>\n    <tr style=\"text-align: right;\">\n      <th></th>\n      <th>Sample ID</th>\n      <th>Parallel</th>\n      <th>Date</th>\n      <th>Time</th>\n      <th>P atm [hPa]</th>\n      <th>P sample before gc [hPa]</th>\n      <th>P sample after gc [hPa]</th>\n      <th>CH4 [%]</th>\n      <th>CO2 [%]</th>\n      <th>O2 [%]</th>\n      <th>...</th>\n      <th>CO2_b_aq [mol/m3]</th>\n      <th>CO2_b_aq [mol]</th>\n      <th>PP CO2_a</th>\n      <th>CO2_a_aq [mol/m3]</th>\n      <th>CO2_a_aq [mol]</th>\n      <th>CO2_dissolved_between_time_steps_aq</th>\n      <th>CO2_produced_aq_cum</th>\n      <th>DIC_cum</th>\n      <th>Ctot_DM [mg C/gDW]</th>\n      <th>Ratio O2/CO2</th>\n    </tr>\n  </thead>\n  <tbody>\n    <tr>\n      <th>0</th>\n      <td>GT1</td>\n      <td>1</td>\n      <td>2023-04-17</td>\n      <td>14:42:00</td>\n      <td>1025.1</td>\n      <td>1117.44</td>\n      <td>0.00</td>\n      <td>0.00</td>\n      <td>0.030</td>\n      <td>21.900</td>\n      <td>...</td>\n      <td>0.175326</td>\n      <td>0.000017</td>\n      <td>0.000000</td>\n      <td>0.000000</td>\n      <td>0.000000</td>\n      <td>0.000017</td>\n      <td>0.000017</td>\n      <td>0.001342</td>\n      <td>0.000000</td>\n      <td>0.000000</td>\n    </tr>\n    <tr>\n      <th>1</th>\n      <td>GT1</td>\n      <td>1</td>\n      <td>2023-04-19</td>\n      <td>14:42:00</td>\n      <td>1023.1</td>\n      <td>960.00</td>\n      <td>958.10</td>\n      <td>0.12</td>\n      <td>1.530</td>\n      <td>2.210</td>\n      <td>...</td>\n      <td>7.643606</td>\n      <td>0.000749</td>\n      <td>1458.600000</td>\n      <td>7.628478</td>\n      <td>0.000748</td>\n      <td>0.000749</td>\n      <td>0.000766</td>\n      <td>0.059861</td>\n      <td>0.107374</td>\n      <td>6.719315</td>\n    </tr>\n    <tr>\n      <th>2</th>\n      <td>GT1</td>\n      <td>1</td>\n      <td>2023-04-24</td>\n      <td>10:20:00</td>\n      <td>1002.3</td>\n      <td>962.20</td>\n      <td>959.80</td>\n      <td>0.25</td>\n      <td>2.410</td>\n      <td>1.590</td>\n      <td>...</td>\n      <td>11.730204</td>\n      <td>0.001150</td>\n      <td>2237.274398</td>\n      <td>11.700945</td>\n      <td>0.001147</td>\n      <td>0.000402</td>\n      <td>0.001168</td>\n      <td>0.091263</td>\n      <td>0.166575</td>\n      <td>0.347675</td>\n    </tr>\n    <tr>\n      <th>3</th>\n      <td>GT1</td>\n      <td>1</td>\n      <td>2023-04-24</td>\n      <td>11:25:00</td>\n      <td>1003.3</td>\n      <td>1104.60</td>\n      <td>1085.80</td>\n      <td>0.00</td>\n      <td>0.740</td>\n      <td>19.790</td>\n      <td>...</td>\n      <td>4.388690</td>\n      <td>0.000430</td>\n      <td>824.855764</td>\n      <td>4.313996</td>\n      <td>0.000423</td>\n      <td>-0.000717</td>\n      <td>0.000452</td>\n      <td>0.035281</td>\n      <td>NaN</td>\n      <td>NaN</td>\n    </tr>\n    <tr>\n      <th>4</th>\n      <td>GT1</td>\n      <td>1</td>\n      <td>2023-04-26</td>\n      <td>08:52:00</td>\n      <td>1017.0</td>\n      <td>954.00</td>\n      <td>951.00</td>\n      <td>0.03</td>\n      <td>2.720</td>\n      <td>8.460</td>\n      <td>...</td>\n      <td>13.102165</td>\n      <td>0.001284</td>\n      <td>2497.316084</td>\n      <td>13.060963</td>\n      <td>0.001280</td>\n      <td>0.000861</td>\n      <td>0.001313</td>\n      <td>0.102562</td>\n      <td>0.230482</td>\n      <td>3.691717</td>\n    </tr>\n    <tr>\n      <th>5</th>\n      <td>GT1</td>\n      <td>1</td>\n      <td>2023-04-26</td>\n      <td>09:53:00</td>\n      <td>1017.2</td>\n      <td>1120.80</td>\n      <td>1105.60</td>\n      <td>0.00</td>\n      <td>0.630</td>\n      <td>20.510</td>\n      <td>...</td>\n      <td>3.781796</td>\n      <td>0.000371</td>\n      <td>713.290323</td>\n      <td>3.730508</td>\n      <td>0.000366</td>\n      <td>-0.000909</td>\n      <td>0.000404</td>\n      <td>0.031522</td>\n      <td>NaN</td>\n      <td>NaN</td>\n    </tr>\n    <tr>\n      <th>6</th>\n      <td>GT1</td>\n      <td>1</td>\n      <td>2023-04-28</td>\n      <td>09:45:00</td>\n      <td>1006.8</td>\n      <td>1029.20</td>\n      <td>1025.80</td>\n      <td>0.00</td>\n      <td>4.520</td>\n      <td>11.770</td>\n      <td>...</td>\n      <td>22.847100</td>\n      <td>0.002239</td>\n      <td>4354.038877</td>\n      <td>22.771623</td>\n      <td>0.002232</td>\n      <td>0.001873</td>\n      <td>0.002277</td>\n      <td>0.177876</td>\n      <td>0.418379</td>\n      <td>1.409119</td>\n    </tr>\n    <tr>\n      <th>7</th>\n      <td>GT1</td>\n      <td>1</td>\n      <td>2023-04-28</td>\n      <td>09:46:00</td>\n      <td>1006.8</td>\n      <td>1117.44</td>\n      <td>1111.45</td>\n      <td>0.00</td>\n      <td>0.538</td>\n      <td>20.313</td>\n      <td>...</td>\n      <td>3.251216</td>\n      <td>0.000319</td>\n      <td>618.315031</td>\n      <td>3.233788</td>\n      <td>0.000317</td>\n      <td>-0.001913</td>\n      <td>0.000364</td>\n      <td>0.028431</td>\n      <td>NaN</td>\n      <td>NaN</td>\n    </tr>\n    <tr>\n      <th>8</th>\n      <td>GT1</td>\n      <td>1</td>\n      <td>2023-05-01</td>\n      <td>13:50:00</td>\n      <td>1013.1</td>\n      <td>1042.70</td>\n      <td>1039.90</td>\n      <td>0.00</td>\n      <td>5.740</td>\n      <td>9.740</td>\n      <td>...</td>\n      <td>31.682250</td>\n      <td>0.003105</td>\n      <td>6041.524291</td>\n      <td>31.597172</td>\n      <td>0.003097</td>\n      <td>0.002788</td>\n      <td>0.003152</td>\n      <td>0.246228</td>\n      <td>0.654273</td>\n      <td>1.044409</td>\n    </tr>\n    <tr>\n      <th>9</th>\n      <td>GT1</td>\n      <td>1</td>\n      <td>2023-05-01</td>\n      <td>14:49:00</td>\n      <td>1013.3</td>\n      <td>1114.60</td>\n      <td>1110.60</td>\n      <td>0.00</td>\n      <td>0.780</td>\n      <td>20.500</td>\n      <td>...</td>\n      <td>4.662052</td>\n      <td>0.000457</td>\n      <td>888.206706</td>\n      <td>4.645321</td>\n      <td>0.000455</td>\n      <td>-0.002640</td>\n      <td>0.000512</td>\n      <td>0.040017</td>\n      <td>NaN</td>\n      <td>NaN</td>\n    </tr>\n    <tr>\n      <th>10</th>\n      <td>GT1</td>\n      <td>1</td>\n      <td>2023-05-04</td>\n      <td>09:26:00</td>\n      <td>1017.9</td>\n      <td>1050.60</td>\n      <td>1046.60</td>\n      <td>0.00</td>\n      <td>5.340</td>\n      <td>12.970</td>\n      <td>...</td>\n      <td>27.962801</td>\n      <td>0.002740</td>\n      <td>5326.259411</td>\n      <td>27.856337</td>\n      <td>0.002730</td>\n      <td>0.002285</td>\n      <td>0.002797</td>\n      <td>0.218532</td>\n      <td>0.763900</td>\n      <td>1.010109</td>\n    </tr>\n    <tr>\n      <th>11</th>\n      <td>GT1</td>\n      <td>1</td>\n      <td>2023-05-04</td>\n      <td>10:46:00</td>\n      <td>1017.2</td>\n      <td>1122.10</td>\n      <td>1119.10</td>\n      <td>0.00</td>\n      <td>0.500</td>\n      <td>20.320</td>\n      <td>...</td>\n      <td>3.044502</td>\n      <td>0.000298</td>\n      <td>580.566508</td>\n      <td>3.036363</td>\n      <td>0.000298</td>\n      <td>-0.002432</td>\n      <td>0.000366</td>\n      <td>0.028576</td>\n      <td>NaN</td>\n      <td>NaN</td>\n    </tr>\n    <tr>\n      <th>12</th>\n      <td>GT1</td>\n      <td>1</td>\n      <td>2023-05-08</td>\n      <td>08:40:00</td>\n      <td>1018.7</td>\n      <td>1037.50</td>\n      <td>1035.20</td>\n      <td>0.00</td>\n      <td>6.980</td>\n      <td>8.070</td>\n      <td>...</td>\n      <td>37.730975</td>\n      <td>0.003698</td>\n      <td>7198.342299</td>\n      <td>37.647330</td>\n      <td>0.003689</td>\n      <td>0.003400</td>\n      <td>0.003766</td>\n      <td>0.294193</td>\n      <td>1.043888</td>\n      <td>0.999730</td>\n    </tr>\n    <tr>\n      <th>13</th>\n      <td>GT1</td>\n      <td>1</td>\n      <td>2023-05-08</td>\n      <td>09:47:00</td>\n      <td>1018.7</td>\n      <td>1123.20</td>\n      <td>1120.30</td>\n      <td>0.00</td>\n      <td>0.570</td>\n      <td>20.110</td>\n      <td>...</td>\n      <td>3.502481</td>\n      <td>0.000343</td>\n      <td>667.961297</td>\n      <td>3.493438</td>\n      <td>0.000342</td>\n      <td>-0.003346</td>\n      <td>0.000420</td>\n      <td>0.032785</td>\n      <td>NaN</td>\n      <td>NaN</td>\n    </tr>\n    <tr>\n      <th>14</th>\n      <td>GT1</td>\n      <td>1</td>\n      <td>2023-05-10</td>\n      <td>09:35:00</td>\n      <td>1007.5</td>\n      <td>1073.00</td>\n      <td>1070.60</td>\n      <td>0.00</td>\n      <td>4.770</td>\n      <td>15.790</td>\n      <td>...</td>\n      <td>24.059175</td>\n      <td>0.002358</td>\n      <td>4589.935287</td>\n      <td>24.005362</td>\n      <td>0.002353</td>\n      <td>0.002015</td>\n      <td>0.002435</td>\n      <td>0.190233</td>\n      <td>1.061046</td>\n      <td>0.921948</td>\n    </tr>\n    <tr>\n      <th>15</th>\n      <td>GT1</td>\n      <td>1</td>\n      <td>2023-05-10</td>\n      <td>10:40:00</td>\n      <td>1008.0</td>\n      <td>1112.40</td>\n      <td>1109.90</td>\n      <td>0.00</td>\n      <td>0.400</td>\n      <td>20.240</td>\n      <td>...</td>\n      <td>2.427139</td>\n      <td>0.000238</td>\n      <td>463.037130</td>\n      <td>2.421684</td>\n      <td>0.000237</td>\n      <td>-0.002115</td>\n      <td>0.000320</td>\n      <td>0.025034</td>\n      <td>NaN</td>\n      <td>NaN</td>\n    </tr>\n    <tr>\n      <th>16</th>\n      <td>GT1</td>\n      <td>1</td>\n      <td>2023-05-12</td>\n      <td>09:09:00</td>\n      <td>1014.4</td>\n      <td>1068.80</td>\n      <td>1066.20</td>\n      <td>0.00</td>\n      <td>3.700</td>\n      <td>15.450</td>\n      <td>...</td>\n      <td>20.070207</td>\n      <td>0.001967</td>\n      <td>3828.180495</td>\n      <td>20.021384</td>\n      <td>0.001962</td>\n      <td>0.001730</td>\n      <td>0.002050</td>\n      <td>0.160148</td>\n      <td>1.134899</td>\n      <td>0.954168</td>\n    </tr>\n    <tr>\n      <th>17</th>\n      <td>GT1</td>\n      <td>1</td>\n      <td>2023-05-12</td>\n      <td>10:10:00</td>\n      <td>1014.9</td>\n      <td>1118.60</td>\n      <td>1115.30</td>\n      <td>0.00</td>\n      <td>0.410</td>\n      <td>20.260</td>\n      <td>...</td>\n      <td>2.501422</td>\n      <td>0.000245</td>\n      <td>476.872458</td>\n      <td>2.494043</td>\n      <td>0.000244</td>\n      <td>-0.001717</td>\n      <td>0.000333</td>\n      <td>0.026018</td>\n      <td>NaN</td>\n      <td>NaN</td>\n    </tr>\n    <tr>\n      <th>18</th>\n      <td>GT1</td>\n      <td>1</td>\n      <td>2023-05-15</td>\n      <td>09:30:00</td>\n      <td>1012.5</td>\n      <td>1068.20</td>\n      <td>1061.90</td>\n      <td>0.00</td>\n      <td>4.430</td>\n      <td>15.520</td>\n      <td>...</td>\n      <td>22.482757</td>\n      <td>0.002203</td>\n      <td>4273.452943</td>\n      <td>22.350159</td>\n      <td>0.002190</td>\n      <td>0.001959</td>\n      <td>0.002292</td>\n      <td>0.179049</td>\n      <td>1.271519</td>\n      <td>0.967441</td>\n    </tr>\n    <tr>\n      <th>19</th>\n      <td>GT1</td>\n      <td>1</td>\n      <td>2023-05-15</td>\n      <td>10:38:00</td>\n      <td>1012.8</td>\n      <td>1117.10</td>\n      <td>1113.50</td>\n      <td>0.00</td>\n      <td>0.420</td>\n      <td>20.540</td>\n      <td>...</td>\n      <td>2.524768</td>\n      <td>0.000247</td>\n      <td>481.191481</td>\n      <td>2.516631</td>\n      <td>0.000247</td>\n      <td>-0.001943</td>\n      <td>0.000349</td>\n      <td>0.027268</td>\n      <td>NaN</td>\n      <td>NaN</td>\n    </tr>\n    <tr>\n      <th>20</th>\n      <td>GT1</td>\n      <td>1</td>\n      <td>2023-05-17</td>\n      <td>08:52:00</td>\n      <td>1025.0</td>\n      <td>1088.60</td>\n      <td>1086.70</td>\n      <td>0.00</td>\n      <td>3.020</td>\n      <td>18.610</td>\n      <td>...</td>\n      <td>15.726700</td>\n      <td>0.001541</td>\n      <td>3001.768956</td>\n      <td>15.699252</td>\n      <td>0.001539</td>\n      <td>0.001295</td>\n      <td>0.001644</td>\n      <td>0.128403</td>\n      <td>1.298671</td>\n      <td>0.861129</td>\n    </tr>\n    <tr>\n      <th>21</th>\n      <td>GT1</td>\n      <td>1</td>\n      <td>2023-05-17</td>\n      <td>09:57:00</td>\n      <td>1025.6</td>\n      <td>1129.00</td>\n      <td>1125.80</td>\n      <td>0.00</td>\n      <td>0.290</td>\n      <td>20.550</td>\n      <td>...</td>\n      <td>1.764404</td>\n      <td>0.000173</td>\n      <td>336.405976</td>\n      <td>1.759403</td>\n      <td>0.000172</td>\n      <td>-0.001366</td>\n      <td>0.000278</td>\n      <td>0.021719</td>\n      <td>NaN</td>\n      <td>NaN</td>\n    </tr>\n    <tr>\n      <th>22</th>\n      <td>GT1</td>\n      <td>1</td>\n      <td>2023-05-22</td>\n      <td>14:11:00</td>\n      <td>1013.1</td>\n      <td>1074.80</td>\n      <td>1072.50</td>\n      <td>0.00</td>\n      <td>7.080</td>\n      <td>12.540</td>\n      <td>...</td>\n      <td>35.562617</td>\n      <td>0.003485</td>\n      <td>6785.184523</td>\n      <td>35.486515</td>\n      <td>0.003478</td>\n      <td>0.003313</td>\n      <td>0.003591</td>\n      <td>0.280512</td>\n      <td>1.649857</td>\n      <td>0.793441</td>\n    </tr>\n    <tr>\n      <th>23</th>\n      <td>GT1</td>\n      <td>1</td>\n      <td>2023-05-22</td>\n      <td>15:08:00</td>\n      <td>1013.6</td>\n      <td>1112.00</td>\n      <td>1108.60</td>\n      <td>0.00</td>\n      <td>0.640</td>\n      <td>20.310</td>\n      <td>...</td>\n      <td>3.857084</td>\n      <td>0.000378</td>\n      <td>735.237306</td>\n      <td>3.845291</td>\n      <td>0.000377</td>\n      <td>-0.003100</td>\n      <td>0.000491</td>\n      <td>0.038362</td>\n      <td>NaN</td>\n      <td>NaN</td>\n    </tr>\n  </tbody>\n</table>\n<p>24 rows × 53 columns</p>\n</div>"
     },
     "metadata": {},
     "output_type": "display_data"
    }
   ],
   "source": [
    "sheet_tab_name = \"GT1.1\"\n",
    "\n",
    "\n",
    "dict_data_frames = manager.get_dict_panda_data_frames()\n",
    "display(dict_data_frames[sheet_tab_name])\n",
    "# Set the display options\n",
    "pd.set_option('display.max_rows', None)  # Display all rows\n",
    "pd.set_option('display.max_columns', None)  # Display all columns\n",
    "pd.set_option('display.width', None)  # Automatically adjust the column width to fit the contents"
   ],
   "metadata": {
    "collapsed": false,
    "ExecuteTime": {
     "end_time": "2023-07-02T12:05:04.645360800Z",
     "start_time": "2023-07-02T12:05:04.635199100Z"
    }
   }
  },
  {
   "cell_type": "markdown",
   "source": [
    "# OVERWRITING the excel file. Did you made a copy before?"
   ],
   "metadata": {
    "collapsed": false
   }
  },
  {
   "cell_type": "code",
   "execution_count": 9,
   "outputs": [
    {
     "ename": "PermissionError",
     "evalue": "[Errno 13] Permission denied: 'C:\\\\Users\\\\robbe\\\\Downloads\\\\Gas_production_KRA_BEP_R.Grobben_final_01_run_File.xlsx'",
     "output_type": "error",
     "traceback": [
      "\u001B[1;31m---------------------------------------------------------------------------\u001B[0m",
      "\u001B[1;31mPermissionError\u001B[0m                           Traceback (most recent call last)",
      "Cell \u001B[1;32mIn[9], line 4\u001B[0m\n\u001B[0;32m      1\u001B[0m \u001B[38;5;28;01mfor\u001B[39;00m sheet_name \u001B[38;5;129;01min\u001B[39;00m sheet_names_samples:\n\u001B[0;32m      2\u001B[0m  \u001B[38;5;66;03m# replace the table (overwrite) in the Excel file.\u001B[39;00m\n\u001B[0;32m      3\u001B[0m     data_frame \u001B[38;5;241m=\u001B[39m manager\u001B[38;5;241m.\u001B[39mget_dict_panda_data_frames()[sheet_name]\n\u001B[1;32m----> 4\u001B[0m     \u001B[43mmanager\u001B[49m\u001B[38;5;241;43m.\u001B[39;49m\u001B[43mreplace_table_in_specific_sheet_with_data_frame\u001B[49m\u001B[43m(\u001B[49m\u001B[43mexcel_file_path\u001B[49m\u001B[38;5;241;43m=\u001B[39;49m\u001B[43mpath_input_excel\u001B[49m\u001B[43m,\u001B[49m\n\u001B[0;32m      5\u001B[0m \u001B[43m                                                            \u001B[49m\u001B[43msheet_name\u001B[49m\u001B[38;5;241;43m=\u001B[39;49m\u001B[43msheet_name\u001B[49m\u001B[43m,\u001B[49m\n\u001B[0;32m      6\u001B[0m \u001B[43m                                                            \u001B[49m\u001B[43mstart_row\u001B[49m\u001B[38;5;241;43m=\u001B[39;49m\u001B[38;5;241;43m13\u001B[39;49m\u001B[43m,\u001B[49m\n\u001B[0;32m      7\u001B[0m \u001B[43m                                                            \u001B[49m\u001B[43mdata_frame\u001B[49m\u001B[38;5;241;43m=\u001B[39;49m\u001B[43mdata_frame\u001B[49m\u001B[43m,\u001B[49m\n\u001B[0;32m      8\u001B[0m \u001B[43m                                                            \u001B[49m\u001B[43mheader\u001B[49m\u001B[38;5;241;43m=\u001B[39;49m\u001B[38;5;28;43;01mFalse\u001B[39;49;00m\n\u001B[0;32m      9\u001B[0m \u001B[43m                                                            \u001B[49m\u001B[43m)\u001B[49m\n\u001B[0;32m     10\u001B[0m     \u001B[38;5;28mprint\u001B[39m(\u001B[38;5;124mf\u001B[39m\u001B[38;5;124m\"\u001B[39m\u001B[38;5;124mreplaced table in Excel for \u001B[39m\u001B[38;5;132;01m{\u001B[39;00msheet_name\u001B[38;5;132;01m}\u001B[39;00m\u001B[38;5;124m\"\u001B[39m)\n",
      "File \u001B[1;32m~\\Desktop\\Q4 2022-2023\\Bachelor Eind Werk\\Geotechnical\\Python-tool\\openpyxl Code\\excel_manager.py:289\u001B[0m, in \u001B[0;36mExcelManager.replace_table_in_specific_sheet_with_data_frame\u001B[1;34m(excel_file_path, sheet_name, start_row, header, data_frame, start_column)\u001B[0m\n\u001B[0;32m    286\u001B[0m         sheet\u001B[38;5;241m.\u001B[39mcell(row\u001B[38;5;241m=\u001B[39mr_idx \u001B[38;5;241m+\u001B[39m start_row, column\u001B[38;5;241m=\u001B[39mc_idx \u001B[38;5;241m+\u001B[39m start_column, value\u001B[38;5;241m=\u001B[39mvalue)\n\u001B[0;32m    288\u001B[0m \u001B[38;5;66;03m# save copy\u001B[39;00m\n\u001B[1;32m--> 289\u001B[0m \u001B[43mworkbook\u001B[49m\u001B[38;5;241;43m.\u001B[39;49m\u001B[43msave\u001B[49m\u001B[43m(\u001B[49m\u001B[43mexcel_file_path\u001B[49m\u001B[43m)\u001B[49m\n",
      "File \u001B[1;32m~\\Desktop\\Q4 2022-2023\\Bachelor Eind Werk\\Geotechnical\\Python-tool\\openpyxl Code\\venv\\lib\\site-packages\\openpyxl\\workbook\\workbook.py:386\u001B[0m, in \u001B[0;36mWorkbook.save\u001B[1;34m(self, filename)\u001B[0m\n\u001B[0;32m    384\u001B[0m \u001B[38;5;28;01mif\u001B[39;00m \u001B[38;5;28mself\u001B[39m\u001B[38;5;241m.\u001B[39mwrite_only \u001B[38;5;129;01mand\u001B[39;00m \u001B[38;5;129;01mnot\u001B[39;00m \u001B[38;5;28mself\u001B[39m\u001B[38;5;241m.\u001B[39mworksheets:\n\u001B[0;32m    385\u001B[0m     \u001B[38;5;28mself\u001B[39m\u001B[38;5;241m.\u001B[39mcreate_sheet()\n\u001B[1;32m--> 386\u001B[0m \u001B[43msave_workbook\u001B[49m\u001B[43m(\u001B[49m\u001B[38;5;28;43mself\u001B[39;49m\u001B[43m,\u001B[49m\u001B[43m \u001B[49m\u001B[43mfilename\u001B[49m\u001B[43m)\u001B[49m\n",
      "File \u001B[1;32m~\\Desktop\\Q4 2022-2023\\Bachelor Eind Werk\\Geotechnical\\Python-tool\\openpyxl Code\\venv\\lib\\site-packages\\openpyxl\\writer\\excel.py:291\u001B[0m, in \u001B[0;36msave_workbook\u001B[1;34m(workbook, filename)\u001B[0m\n\u001B[0;32m    279\u001B[0m \u001B[38;5;28;01mdef\u001B[39;00m \u001B[38;5;21msave_workbook\u001B[39m(workbook, filename):\n\u001B[0;32m    280\u001B[0m \u001B[38;5;250m    \u001B[39m\u001B[38;5;124;03m\"\"\"Save the given workbook on the filesystem under the name filename.\u001B[39;00m\n\u001B[0;32m    281\u001B[0m \n\u001B[0;32m    282\u001B[0m \u001B[38;5;124;03m    :param workbook: the workbook to save\u001B[39;00m\n\u001B[1;32m   (...)\u001B[0m\n\u001B[0;32m    289\u001B[0m \n\u001B[0;32m    290\u001B[0m \u001B[38;5;124;03m    \"\"\"\u001B[39;00m\n\u001B[1;32m--> 291\u001B[0m     archive \u001B[38;5;241m=\u001B[39m \u001B[43mZipFile\u001B[49m\u001B[43m(\u001B[49m\u001B[43mfilename\u001B[49m\u001B[43m,\u001B[49m\u001B[43m \u001B[49m\u001B[38;5;124;43m'\u001B[39;49m\u001B[38;5;124;43mw\u001B[39;49m\u001B[38;5;124;43m'\u001B[39;49m\u001B[43m,\u001B[49m\u001B[43m \u001B[49m\u001B[43mZIP_DEFLATED\u001B[49m\u001B[43m,\u001B[49m\u001B[43m \u001B[49m\u001B[43mallowZip64\u001B[49m\u001B[38;5;241;43m=\u001B[39;49m\u001B[38;5;28;43;01mTrue\u001B[39;49;00m\u001B[43m)\u001B[49m\n\u001B[0;32m    292\u001B[0m     workbook\u001B[38;5;241m.\u001B[39mproperties\u001B[38;5;241m.\u001B[39mmodified \u001B[38;5;241m=\u001B[39m datetime\u001B[38;5;241m.\u001B[39mdatetime\u001B[38;5;241m.\u001B[39mutcnow()\n\u001B[0;32m    293\u001B[0m     writer \u001B[38;5;241m=\u001B[39m ExcelWriter(workbook, archive)\n",
      "File \u001B[1;32m~\\AppData\\Local\\Programs\\Python\\Python310\\lib\\zipfile.py:1249\u001B[0m, in \u001B[0;36mZipFile.__init__\u001B[1;34m(self, file, mode, compression, allowZip64, compresslevel, strict_timestamps)\u001B[0m\n\u001B[0;32m   1247\u001B[0m \u001B[38;5;28;01mwhile\u001B[39;00m \u001B[38;5;28;01mTrue\u001B[39;00m:\n\u001B[0;32m   1248\u001B[0m     \u001B[38;5;28;01mtry\u001B[39;00m:\n\u001B[1;32m-> 1249\u001B[0m         \u001B[38;5;28mself\u001B[39m\u001B[38;5;241m.\u001B[39mfp \u001B[38;5;241m=\u001B[39m \u001B[43mio\u001B[49m\u001B[38;5;241;43m.\u001B[39;49m\u001B[43mopen\u001B[49m\u001B[43m(\u001B[49m\u001B[43mfile\u001B[49m\u001B[43m,\u001B[49m\u001B[43m \u001B[49m\u001B[43mfilemode\u001B[49m\u001B[43m)\u001B[49m\n\u001B[0;32m   1250\u001B[0m     \u001B[38;5;28;01mexcept\u001B[39;00m \u001B[38;5;167;01mOSError\u001B[39;00m:\n\u001B[0;32m   1251\u001B[0m         \u001B[38;5;28;01mif\u001B[39;00m filemode \u001B[38;5;129;01min\u001B[39;00m modeDict:\n",
      "\u001B[1;31mPermissionError\u001B[0m: [Errno 13] Permission denied: 'C:\\\\Users\\\\robbe\\\\Downloads\\\\Gas_production_KRA_BEP_R.Grobben_final_01_run_File.xlsx'"
     ]
    }
   ],
   "source": [
    "# for sheet_name in sheet_names_samples:\n",
    "#  # replace the table (overwrite) in the Excel file.\n",
    "#     data_frame = manager.get_dict_panda_data_frames()[sheet_name]\n",
    "#     manager.replace_table_in_specific_sheet_with_data_frame(excel_file_path=path_input_excel,\n",
    "#                                                             sheet_name=sheet_name,\n",
    "#                                                             start_row=13,\n",
    "#                                                             data_frame=data_frame,\n",
    "#                                                             header=False\n",
    "#                                                             )\n",
    "#     print(f\"replaced table in Excel for {sheet_name}\")"
   ],
   "metadata": {
    "collapsed": false,
    "ExecuteTime": {
     "end_time": "2023-07-02T12:05:07.795972400Z",
     "start_time": "2023-07-02T12:05:04.649356900Z"
    }
   }
  },
  {
   "cell_type": "code",
   "execution_count": null,
   "outputs": [],
   "source": [],
   "metadata": {
    "collapsed": false
   }
  }
 ],
 "metadata": {
  "kernelspec": {
   "display_name": "Python 3",
   "language": "python",
   "name": "python3"
  },
  "language_info": {
   "codemirror_mode": {
    "name": "ipython",
    "version": 2
   },
   "file_extension": ".py",
   "mimetype": "text/x-python",
   "name": "python",
   "nbconvert_exporter": "python",
   "pygments_lexer": "ipython2",
   "version": "2.7.6"
  }
 },
 "nbformat": 4,
 "nbformat_minor": 0
}
