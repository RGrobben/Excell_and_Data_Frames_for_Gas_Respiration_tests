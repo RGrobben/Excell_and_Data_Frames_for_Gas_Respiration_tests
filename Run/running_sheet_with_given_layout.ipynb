{
 "cells": [
  {
   "cell_type": "code",
   "execution_count": 1,
   "metadata": {
    "collapsed": true,
    "ExecuteTime": {
     "end_time": "2023-06-12T14:06:24.850708400Z",
     "start_time": "2023-06-12T14:06:24.071857300Z"
    }
   },
   "outputs": [],
   "source": [
    "import pandas as pd\n",
    "from excel_manager import ExcelManager\n",
    "from run_data_frame_calculations import RunDataFrameCalculationsForOneDataFrame\n"
   ]
  },
  {
   "cell_type": "markdown",
   "source": [
    "# Make a COPY before you run the script"
   ],
   "metadata": {
    "collapsed": false
   }
  },
  {
   "cell_type": "markdown",
   "source": [],
   "metadata": {
    "collapsed": false
   }
  },
  {
   "cell_type": "code",
   "execution_count": 2,
   "outputs": [],
   "source": [
    "path_input_excel = r\"C:\\Users\\robbe\\Downloads\\python\\given layout sheet\\given_layout_sheet_02.xlsx\"\n",
    "\n",
    "#make instance of excel manger\n",
    "manager = ExcelManager(path_input_excel)\n",
    "\n",
    "# load the workbook in\n",
    "manager.load_workbook()"
   ],
   "metadata": {
    "collapsed": false,
    "ExecuteTime": {
     "end_time": "2023-06-12T14:06:26.959626200Z",
     "start_time": "2023-06-12T14:06:24.853699800Z"
    }
   }
  },
  {
   "cell_type": "markdown",
   "source": [
    "### You can see the sheet names"
   ],
   "metadata": {
    "collapsed": false
   }
  },
  {
   "cell_type": "code",
   "execution_count": 3,
   "outputs": [
    {
     "name": "stdout",
     "output_type": "stream",
     "text": [
      "['Notes', 'GT1.1', 'GT1.2', 'GT2.1', 'GT2.2', 'GT3.1', 'GT3.2', 'GT4.1', 'GT4.2', 'GT5.1', 'GT5.2', 'GT6.1', 'GT6.2', 'GT7.1', 'GT7.2', 'GT8.1', 'GT8.2']\n"
     ]
    }
   ],
   "source": [
    "# check the sheet names\n",
    "sheet_names = manager.get_sheet_names()\n",
    "print(sheet_names)"
   ],
   "metadata": {
    "collapsed": false,
    "ExecuteTime": {
     "end_time": "2023-06-12T14:06:27.045980900Z",
     "start_time": "2023-06-12T14:06:26.963052600Z"
    }
   }
  },
  {
   "cell_type": "markdown",
   "source": [
    "#### input names of table if needed"
   ],
   "metadata": {
    "collapsed": false
   }
  },
  {
   "cell_type": "code",
   "execution_count": 4,
   "outputs": [],
   "source": [
    "# column_names = ['Sample ID', 'Parallel', 'Date', 'Time', 'P atm', 'P sample before gc', 'P sample after gc', 'CH4', 'CO2', 'O2', 'N2', 'Flush (1=yes; 0=no)', 'Comments', 'GC method', 'Weight', 'Date + Time', 'Day', 'Sum', 'CH4-corr', 'CO2-corr', 'O2-corr', 'N2-corr', 'Sum-corr', 'mg_bs', 'mCO2_b', 'mCH4_b', 'mO2_b', 'mN2_b', 'mCTot_b', 'mg_as', 'mCO2_a', 'mCH4_a', 'mO2_a', 'mN2_a', 'mCTot_a', 'mCTot_produced', 'O2 consumed', 'CO2 produced', 'O2 consumed_cum', 'CO2 produced_cum', 'mCTot_produced_cum', 'Cgas_DM_cum', 'PP CO2_b', 'CO2_aq [mol/m3]', 'CO2_aq [mol]', 'CO2_produced_aq', 'DIC_cum', 'Ctot_DM', 'Ratio O2/CO2']\n",
    "#\n",
    "basic_column_names = ['Sample ID', 'Parallel', 'Date', 'Time', 'P atm [hPa]', 'P sample before gc [hPa]', 'P sample after gc [hPa]', 'CH4 [%]', 'CO2 [%]', 'O2 [%]', 'N2 [%]', 'Flush (1=yes; 0=no)', 'Comments', 'GC method', 'Weight [g]']\n",
    "\n"
   ],
   "metadata": {
    "collapsed": false,
    "ExecuteTime": {
     "end_time": "2023-06-12T14:06:27.061935900Z",
     "start_time": "2023-06-12T14:06:26.997677500Z"
    }
   }
  },
  {
   "cell_type": "markdown",
   "source": [
    "##### you can check if the sheets are in the instance of the excell manager class."
   ],
   "metadata": {
    "collapsed": false
   }
  },
  {
   "cell_type": "code",
   "execution_count": 16,
   "outputs": [
    {
     "data": {
      "text/plain": "         None      None                 None      None    None   \n0        None      None                 None      None    None  \\\n1   Sample ID  Parallel                 Date      Time   P atm   \n2        None      None                 None      None     hPa   \n3         GT5         2  2023-04-17 00:00:00  15:19:00  1025.4   \n4         GT5         2  2023-04-19 00:00:00  15:40:00  1022.6   \n5         GT5         2  2023-04-19 00:00:00  17:49:00  1021.4   \n6         GT5         2  2023-04-24 00:00:00  11:02:00  1003.2   \n7         GT5         2  2023-04-24 00:00:00  12:15:00    1004   \n8         GT5         2  2023-04-26 00:00:00  09:27:00  1017.2   \n9         GT5         2  2023-04-28 00:00:00  10:17:00  1007.1   \n10        GT5         2  2023-05-01 00:00:00  14:17:00  1013.3   \n11        GT5         2  2023-05-04 00:00:00  10:15:00  1017.6   \n12        GT5         2  2023-05-04 00:00:00  11:25:00  1016.8   \n13        GT5         2  2023-05-08 00:00:00  09:22:00  1018.7   \n14        GT5         2  2023-05-10 00:00:00  10:06:00  1007.7   \n15        GT5         2  2023-05-10 00:00:00  10:50:00  1008.2   \n16        GT5         2  2023-05-12 00:00:00  09:38:00  1014.7   \n17        GT5         2  2023-05-15 00:00:00  10:17:00  1012.8   \n18        GT5         2  2023-05-15 00:00:00  11:00:00  1012.8   \n19        GT5         2  2023-05-17 00:00:00  09:19:00  1025.4   \n20        GT5         2  2023-05-22 00:00:00  14:40:00  1013.4   \n21        GT5         2  2023-05-22 00:00:00  15:33:00  1013.5   \n\n                  None               None  None  None   None   None   \n0                 None               None  None  None   None   None  \\\n1   P sample before gc  P sample after gc   CH4   CO2     O2     N2   \n2                  hPa                hPa     %     %      %      %   \n3          1163.582353               None  None  None   None   None   \n4               1103.8             1101.4     0  2.99  17.43  77.26   \n5               1128.2               1125     0  0.26  20.62  76.53   \n6               1085.4             1082.3     0  2.79  15.69  79.58   \n7               1104.6             1101.4     0   0.3  20.58  76.42   \n8               1090.1               1086     0  1.58  18.83  77.39   \n9               1072.5             1069.2     0  2.29  17.33  79.28   \n10              1098.2               1095     0  1.83  17.99  77.92   \n11                1075             1072.2     0  2.75  15.98  78.91   \n12              1120.4             1116.8     0  0.29  20.45  75.87   \n13              1102.4             1099.9     0  2.19  17.55  77.25   \n14              1088.4             1085.7     0  2.84  16.19  78.14   \n15                1107             1105.2     0  0.24  20.33  75.22   \n16              1097.4             1094.8     0  1.56   18.9   75.9   \n17              1079.7             1076.8     0  2.76  17.21  78.56   \n18              1115.1               1112     0   0.2  20.49  76.15   \n19              1108.2             1105.4     0  1.49  19.48  77.78   \n20              1087.5             1085.6     0  3.65  16.06  78.98   \n21                1117             1113.6     0  0.34  20.31  75.45   \n\n                   None               None       None    None Calculations   \n0                  None               None       None    None         Time  \\\n1   Flush (1=yes; 0=no)           Comments  GC method  Weight  Date + Time   \n2                  None               None       None       g         None   \n3                  None  start expiriment        None  806.78         None   \n4                     0               None         LM    None         None   \n5                     1               None         LM  806.64         None   \n6                     0               None         LM    None         None   \n7                     1               None         LM  806.52         None   \n8                     0               None         LM    None         None   \n9                     0               None         LM    None         None   \n10                    0               None         LM    None         None   \n11                    0               None         LM    None         None   \n12                    1               None         LM  806.36         None   \n13                    0               None         LM    None         None   \n14                    0               None         LM    None         None   \n15                    1               None         LM  806.28         None   \n16                    0               None         LM    None         None   \n17                    0               None         LM    None         None   \n18                    1               None         LM  806.19         None   \n19                    0               None         LM    None         None   \n20                    0               None         LM    None         None   \n21                    1               None         LM  806.11         None   \n\n    None                   None      None      None     None     None   \n0   None  Correct concentration      None      None     None     None  \\\n1    Day                    Sum  CH4-corr  CO2-corr  O2-corr  N2-corr   \n2   None                      %         %         %        %        %   \n3   None                   None      None      None     None     None   \n4   None                   None      None      None     None     None   \n5   None                   None      None      None     None     None   \n6   None                   None      None      None     None     None   \n7   None                   None      None      None     None     None   \n8   None                   None      None      None     None     None   \n9   None                   None      None      None     None     None   \n10  None                   None      None      None     None     None   \n11  None                   None      None      None     None     None   \n12  None                   None      None      None     None     None   \n13  None                   None      None      None     None     None   \n14  None                   None      None      None     None     None   \n15  None                   None      None      None     None     None   \n16  None                   None      None      None     None     None   \n17  None                   None      None      None     None     None   \n18  None                   None      None      None     None     None   \n19  None                   None      None      None     None     None   \n20  None                   None      None      None     None     None   \n21  None                   None      None      None     None     None   \n\n        None                   None    None     None    None    None   \n0       None  Moles before sampling    None     None    None    None  \\\n1   Sum-corr                  mg_bs  mCO2_b  mCH4_b   mO2_b   mN2_b    \n2          %                  mol     mol      mol     mol     mol     \n3       None                   None    None     None    None    None   \n4       None                   None    None     None    None    None   \n5       None                   None    None     None    None    None   \n6       None                   None    None     None    None    None   \n7       None                   None    None     None    None    None   \n8       None                   None    None     None    None    None   \n9       None                   None    None     None    None    None   \n10      None                   None    None     None    None    None   \n11      None                   None    None     None    None    None   \n12      None                   None    None     None    None    None   \n13      None                   None    None     None    None    None   \n14      None                   None    None     None    None    None   \n15      None                   None    None     None    None    None   \n16      None                   None    None     None    None    None   \n17      None                   None    None     None    None    None   \n18      None                   None    None     None    None    None   \n19      None                   None    None     None    None    None   \n20      None                   None    None     None    None    None   \n21      None                   None    None     None    None    None   \n\n        None                  None     None     None    None   None      None   \n0       None  Moles after sampling     None     None    None   None      None  \\\n1   mCTot_b                 mg_as   mCO2_a   mCH4_a   mO2_a   mN2_a  mCTot_a    \n2      mol                   mol      mol      mol     mol    mol       mol     \n3       None                  None     None     None    None   None      None   \n4       None                  None     None     None    None   None      None   \n5       None                  None     None     None    None   None      None   \n6       None                  None     None     None    None   None      None   \n7       None                  None     None     None    None   None      None   \n8       None                  None     None     None    None   None      None   \n9       None                  None     None     None    None   None      None   \n10      None                  None     None     None    None   None      None   \n11      None                  None     None     None    None   None      None   \n12      None                  None     None     None    None   None      None   \n13      None                  None     None     None    None   None      None   \n14      None                  None     None     None    None   None      None   \n15      None                  None     None     None    None   None      None   \n16      None                  None     None     None    None   None      None   \n17      None                  None     None     None    None   None      None   \n18      None                  None     None     None    None   None      None   \n19      None                  None     None     None    None   None      None   \n20      None                  None     None     None    None   None      None   \n21      None                  None     None     None    None   None      None   \n\n               None          None           None   \n0    Moles produced          None           None  \\\n1   mCTot_produced   O2 consumed   CO2 produced    \n2             mol           mol            mol     \n3              None          None           None   \n4              None          None           None   \n5              None          None           None   \n6              None          None           None   \n7              None          None           None   \n8              None          None           None   \n9              None          None           None   \n10             None          None           None   \n11             None          None           None   \n12             None          None           None   \n13             None          None           None   \n14             None          None           None   \n15             None          None           None   \n16             None          None           None   \n17             None          None           None   \n18             None          None           None   \n19             None          None           None   \n20             None          None           None   \n21             None          None           None   \n\n                                      None                None   \n0   Cumulative production in the gas phase                None  \\\n1                          O2 consumed_cum  CO2 produced_ cum    \n2                                    mol                 mol     \n3                                     None                None   \n4                                     None                None   \n5                                     None                None   \n6                                     None                None   \n7                                     None                None   \n8                                     None                None   \n9                                     None                None   \n10                                    None                None   \n11                                    None                None   \n12                                    None                None   \n13                                    None                None   \n14                                    None                None   \n15                                    None                None   \n16                                    None                None   \n17                                    None                None   \n18                                    None                None   \n19                                    None                None   \n20                                    None                None   \n21                                    None                None   \n\n                  None      None                    None         None   \n0                 None      None  C in the aqueous phase         None  \\\n1   mCTot_produced_cum  Cgas_DM            PP CO2_b (Pa)  CO2_cum_aq    \n2                mol    mg C/gDW                      Pa       mol/m3   \n3                 None      None                    None         None   \n4                 None      None                    None         None   \n5                 None      None                    None         None   \n6                 None      None                    None         None   \n7                 None      None                    None         None   \n8                 None      None                    None         None   \n9                 None      None                    None         None   \n10                None      None                    None         None   \n11                None      None                    None         None   \n12                None      None                    None         None   \n13                None      None                    None         None   \n14                None      None                    None         None   \n15                None      None                    None         None   \n16                None      None                    None         None   \n17                None      None                    None         None   \n18                None      None                    None         None   \n19                None      None                    None         None   \n20                None      None                    None         None   \n21                None      None                    None         None   \n\n           None              None      None      None          None  None   \n0          None              None      None      None          None  None  \\\n1   CO2_cum_aq   CO2_produced_aq    DIC_cum  Ctot_DM   Ratio O2/CO2  None   \n2           mol               mol  mg C/gDW  mg C/gDW          None  None   \n3          None              None      None      None          None  None   \n4          None              None      None      None          None  None   \n5          None              None      None      None          None  None   \n6          None              None      None      None          None  None   \n7          None              None      None      None          None  None   \n8          None              None      None      None          None  None   \n9          None              None      None      None          None  None   \n10         None              None      None      None          None  None   \n11         None              None      None      None          None  None   \n12         None              None      None      None          None  None   \n13         None              None      None      None          None  None   \n14         None              None      None      None          None  None   \n15         None              None      None      None          None  None   \n16         None              None      None      None          None  None   \n17         None              None      None      None          None  None   \n18         None              None      None      None          None  None   \n19         None              None      None      None          None  None   \n20         None              None      None      None          None  None   \n21         None              None      None      None          None  None   \n\n    None  None  None  None  None  None  \n0   None  None  None  None  None  None  \n1   None  None  None  None  None  None  \n2   None  None  None  None  None  None  \n3   None  None  None  None  None  None  \n4   None  None  None  None  None  None  \n5   None  None  None  None  None  None  \n6   None  None  None  None  None  None  \n7   None  None  None  None  None  None  \n8   None  None  None  None  None  None  \n9   None  None  None  None  None  None  \n10  None  None  None  None  None  None  \n11  None  None  None  None  None  None  \n12  None  None  None  None  None  None  \n13  None  None  None  None  None  None  \n14  None  None  None  None  None  None  \n15  None  None  None  None  None  None  \n16  None  None  None  None  None  None  \n17  None  None  None  None  None  None  \n18  None  None  None  None  None  None  \n19  None  None  None  None  None  None  \n20  None  None  None  None  None  None  \n21  None  None  None  None  None  None  ",
      "text/html": "<div>\n<style scoped>\n    .dataframe tbody tr th:only-of-type {\n        vertical-align: middle;\n    }\n\n    .dataframe tbody tr th {\n        vertical-align: top;\n    }\n\n    .dataframe thead th {\n        text-align: right;\n    }\n</style>\n<table border=\"1\" class=\"dataframe\">\n  <thead>\n    <tr style=\"text-align: right;\">\n      <th></th>\n      <th>None</th>\n      <th>None</th>\n      <th>None</th>\n      <th>None</th>\n      <th>None</th>\n      <th>None</th>\n      <th>None</th>\n      <th>None</th>\n      <th>None</th>\n      <th>None</th>\n      <th>None</th>\n      <th>None</th>\n      <th>None</th>\n      <th>None</th>\n      <th>None</th>\n      <th>Calculations</th>\n      <th>None</th>\n      <th>None</th>\n      <th>None</th>\n      <th>None</th>\n      <th>None</th>\n      <th>None</th>\n      <th>None</th>\n      <th>None</th>\n      <th>None</th>\n      <th>None</th>\n      <th>None</th>\n      <th>None</th>\n      <th>None</th>\n      <th>None</th>\n      <th>None</th>\n      <th>None</th>\n      <th>None</th>\n      <th>None</th>\n      <th>None</th>\n      <th>None</th>\n      <th>None</th>\n      <th>None</th>\n      <th>None</th>\n      <th>None</th>\n      <th>None</th>\n      <th>None</th>\n      <th>None</th>\n      <th>None</th>\n      <th>None</th>\n      <th>None</th>\n      <th>None</th>\n      <th>None</th>\n      <th>None</th>\n      <th>None</th>\n      <th>None</th>\n      <th>None</th>\n      <th>None</th>\n      <th>None</th>\n      <th>None</th>\n      <th>None</th>\n    </tr>\n  </thead>\n  <tbody>\n    <tr>\n      <th>0</th>\n      <td>None</td>\n      <td>None</td>\n      <td>None</td>\n      <td>None</td>\n      <td>None</td>\n      <td>None</td>\n      <td>None</td>\n      <td>None</td>\n      <td>None</td>\n      <td>None</td>\n      <td>None</td>\n      <td>None</td>\n      <td>None</td>\n      <td>None</td>\n      <td>None</td>\n      <td>Time</td>\n      <td>None</td>\n      <td>Correct concentration</td>\n      <td>None</td>\n      <td>None</td>\n      <td>None</td>\n      <td>None</td>\n      <td>None</td>\n      <td>Moles before sampling</td>\n      <td>None</td>\n      <td>None</td>\n      <td>None</td>\n      <td>None</td>\n      <td>None</td>\n      <td>Moles after sampling</td>\n      <td>None</td>\n      <td>None</td>\n      <td>None</td>\n      <td>None</td>\n      <td>None</td>\n      <td>Moles produced</td>\n      <td>None</td>\n      <td>None</td>\n      <td>Cumulative production in the gas phase</td>\n      <td>None</td>\n      <td>None</td>\n      <td>None</td>\n      <td>C in the aqueous phase</td>\n      <td>None</td>\n      <td>None</td>\n      <td>None</td>\n      <td>None</td>\n      <td>None</td>\n      <td>None</td>\n      <td>None</td>\n      <td>None</td>\n      <td>None</td>\n      <td>None</td>\n      <td>None</td>\n      <td>None</td>\n      <td>None</td>\n    </tr>\n    <tr>\n      <th>1</th>\n      <td>Sample ID</td>\n      <td>Parallel</td>\n      <td>Date</td>\n      <td>Time</td>\n      <td>P atm</td>\n      <td>P sample before gc</td>\n      <td>P sample after gc</td>\n      <td>CH4</td>\n      <td>CO2</td>\n      <td>O2</td>\n      <td>N2</td>\n      <td>Flush (1=yes; 0=no)</td>\n      <td>Comments</td>\n      <td>GC method</td>\n      <td>Weight</td>\n      <td>Date + Time</td>\n      <td>Day</td>\n      <td>Sum</td>\n      <td>CH4-corr</td>\n      <td>CO2-corr</td>\n      <td>O2-corr</td>\n      <td>N2-corr</td>\n      <td>Sum-corr</td>\n      <td>mg_bs</td>\n      <td>mCO2_b</td>\n      <td>mCH4_b</td>\n      <td>mO2_b</td>\n      <td>mN2_b</td>\n      <td>mCTot_b</td>\n      <td>mg_as</td>\n      <td>mCO2_a</td>\n      <td>mCH4_a</td>\n      <td>mO2_a</td>\n      <td>mN2_a</td>\n      <td>mCTot_a</td>\n      <td>mCTot_produced</td>\n      <td>O2 consumed</td>\n      <td>CO2 produced</td>\n      <td>O2 consumed_cum</td>\n      <td>CO2 produced_ cum</td>\n      <td>mCTot_produced_cum</td>\n      <td>Cgas_DM</td>\n      <td>PP CO2_b (Pa)</td>\n      <td>CO2_cum_aq</td>\n      <td>CO2_cum_aq</td>\n      <td>CO2_produced_aq</td>\n      <td>DIC_cum</td>\n      <td>Ctot_DM</td>\n      <td>Ratio O2/CO2</td>\n      <td>None</td>\n      <td>None</td>\n      <td>None</td>\n      <td>None</td>\n      <td>None</td>\n      <td>None</td>\n      <td>None</td>\n    </tr>\n    <tr>\n      <th>2</th>\n      <td>None</td>\n      <td>None</td>\n      <td>None</td>\n      <td>None</td>\n      <td>hPa</td>\n      <td>hPa</td>\n      <td>hPa</td>\n      <td>%</td>\n      <td>%</td>\n      <td>%</td>\n      <td>%</td>\n      <td>None</td>\n      <td>None</td>\n      <td>None</td>\n      <td>g</td>\n      <td>None</td>\n      <td>None</td>\n      <td>%</td>\n      <td>%</td>\n      <td>%</td>\n      <td>%</td>\n      <td>%</td>\n      <td>%</td>\n      <td>mol</td>\n      <td>mol</td>\n      <td>mol</td>\n      <td>mol</td>\n      <td>mol</td>\n      <td>mol</td>\n      <td>mol</td>\n      <td>mol</td>\n      <td>mol</td>\n      <td>mol</td>\n      <td>mol</td>\n      <td>mol</td>\n      <td>mol</td>\n      <td>mol</td>\n      <td>mol</td>\n      <td>mol</td>\n      <td>mol</td>\n      <td>mol</td>\n      <td>mg C/gDW</td>\n      <td>Pa</td>\n      <td>mol/m3</td>\n      <td>mol</td>\n      <td>mol</td>\n      <td>mg C/gDW</td>\n      <td>mg C/gDW</td>\n      <td>None</td>\n      <td>None</td>\n      <td>None</td>\n      <td>None</td>\n      <td>None</td>\n      <td>None</td>\n      <td>None</td>\n      <td>None</td>\n    </tr>\n    <tr>\n      <th>3</th>\n      <td>GT5</td>\n      <td>2</td>\n      <td>2023-04-17 00:00:00</td>\n      <td>15:19:00</td>\n      <td>1025.4</td>\n      <td>1163.582353</td>\n      <td>None</td>\n      <td>None</td>\n      <td>None</td>\n      <td>None</td>\n      <td>None</td>\n      <td>None</td>\n      <td>start expiriment</td>\n      <td>None</td>\n      <td>806.78</td>\n      <td>None</td>\n      <td>None</td>\n      <td>None</td>\n      <td>None</td>\n      <td>None</td>\n      <td>None</td>\n      <td>None</td>\n      <td>None</td>\n      <td>None</td>\n      <td>None</td>\n      <td>None</td>\n      <td>None</td>\n      <td>None</td>\n      <td>None</td>\n      <td>None</td>\n      <td>None</td>\n      <td>None</td>\n      <td>None</td>\n      <td>None</td>\n      <td>None</td>\n      <td>None</td>\n      <td>None</td>\n      <td>None</td>\n      <td>None</td>\n      <td>None</td>\n      <td>None</td>\n      <td>None</td>\n      <td>None</td>\n      <td>None</td>\n      <td>None</td>\n      <td>None</td>\n      <td>None</td>\n      <td>None</td>\n      <td>None</td>\n      <td>None</td>\n      <td>None</td>\n      <td>None</td>\n      <td>None</td>\n      <td>None</td>\n      <td>None</td>\n      <td>None</td>\n    </tr>\n    <tr>\n      <th>4</th>\n      <td>GT5</td>\n      <td>2</td>\n      <td>2023-04-19 00:00:00</td>\n      <td>15:40:00</td>\n      <td>1022.6</td>\n      <td>1103.8</td>\n      <td>1101.4</td>\n      <td>0</td>\n      <td>2.99</td>\n      <td>17.43</td>\n      <td>77.26</td>\n      <td>0</td>\n      <td>None</td>\n      <td>LM</td>\n      <td>None</td>\n      <td>None</td>\n      <td>None</td>\n      <td>None</td>\n      <td>None</td>\n      <td>None</td>\n      <td>None</td>\n      <td>None</td>\n      <td>None</td>\n      <td>None</td>\n      <td>None</td>\n      <td>None</td>\n      <td>None</td>\n      <td>None</td>\n      <td>None</td>\n      <td>None</td>\n      <td>None</td>\n      <td>None</td>\n      <td>None</td>\n      <td>None</td>\n      <td>None</td>\n      <td>None</td>\n      <td>None</td>\n      <td>None</td>\n      <td>None</td>\n      <td>None</td>\n      <td>None</td>\n      <td>None</td>\n      <td>None</td>\n      <td>None</td>\n      <td>None</td>\n      <td>None</td>\n      <td>None</td>\n      <td>None</td>\n      <td>None</td>\n      <td>None</td>\n      <td>None</td>\n      <td>None</td>\n      <td>None</td>\n      <td>None</td>\n      <td>None</td>\n      <td>None</td>\n    </tr>\n    <tr>\n      <th>5</th>\n      <td>GT5</td>\n      <td>2</td>\n      <td>2023-04-19 00:00:00</td>\n      <td>17:49:00</td>\n      <td>1021.4</td>\n      <td>1128.2</td>\n      <td>1125</td>\n      <td>0</td>\n      <td>0.26</td>\n      <td>20.62</td>\n      <td>76.53</td>\n      <td>1</td>\n      <td>None</td>\n      <td>LM</td>\n      <td>806.64</td>\n      <td>None</td>\n      <td>None</td>\n      <td>None</td>\n      <td>None</td>\n      <td>None</td>\n      <td>None</td>\n      <td>None</td>\n      <td>None</td>\n      <td>None</td>\n      <td>None</td>\n      <td>None</td>\n      <td>None</td>\n      <td>None</td>\n      <td>None</td>\n      <td>None</td>\n      <td>None</td>\n      <td>None</td>\n      <td>None</td>\n      <td>None</td>\n      <td>None</td>\n      <td>None</td>\n      <td>None</td>\n      <td>None</td>\n      <td>None</td>\n      <td>None</td>\n      <td>None</td>\n      <td>None</td>\n      <td>None</td>\n      <td>None</td>\n      <td>None</td>\n      <td>None</td>\n      <td>None</td>\n      <td>None</td>\n      <td>None</td>\n      <td>None</td>\n      <td>None</td>\n      <td>None</td>\n      <td>None</td>\n      <td>None</td>\n      <td>None</td>\n      <td>None</td>\n    </tr>\n    <tr>\n      <th>6</th>\n      <td>GT5</td>\n      <td>2</td>\n      <td>2023-04-24 00:00:00</td>\n      <td>11:02:00</td>\n      <td>1003.2</td>\n      <td>1085.4</td>\n      <td>1082.3</td>\n      <td>0</td>\n      <td>2.79</td>\n      <td>15.69</td>\n      <td>79.58</td>\n      <td>0</td>\n      <td>None</td>\n      <td>LM</td>\n      <td>None</td>\n      <td>None</td>\n      <td>None</td>\n      <td>None</td>\n      <td>None</td>\n      <td>None</td>\n      <td>None</td>\n      <td>None</td>\n      <td>None</td>\n      <td>None</td>\n      <td>None</td>\n      <td>None</td>\n      <td>None</td>\n      <td>None</td>\n      <td>None</td>\n      <td>None</td>\n      <td>None</td>\n      <td>None</td>\n      <td>None</td>\n      <td>None</td>\n      <td>None</td>\n      <td>None</td>\n      <td>None</td>\n      <td>None</td>\n      <td>None</td>\n      <td>None</td>\n      <td>None</td>\n      <td>None</td>\n      <td>None</td>\n      <td>None</td>\n      <td>None</td>\n      <td>None</td>\n      <td>None</td>\n      <td>None</td>\n      <td>None</td>\n      <td>None</td>\n      <td>None</td>\n      <td>None</td>\n      <td>None</td>\n      <td>None</td>\n      <td>None</td>\n      <td>None</td>\n    </tr>\n    <tr>\n      <th>7</th>\n      <td>GT5</td>\n      <td>2</td>\n      <td>2023-04-24 00:00:00</td>\n      <td>12:15:00</td>\n      <td>1004</td>\n      <td>1104.6</td>\n      <td>1101.4</td>\n      <td>0</td>\n      <td>0.3</td>\n      <td>20.58</td>\n      <td>76.42</td>\n      <td>1</td>\n      <td>None</td>\n      <td>LM</td>\n      <td>806.52</td>\n      <td>None</td>\n      <td>None</td>\n      <td>None</td>\n      <td>None</td>\n      <td>None</td>\n      <td>None</td>\n      <td>None</td>\n      <td>None</td>\n      <td>None</td>\n      <td>None</td>\n      <td>None</td>\n      <td>None</td>\n      <td>None</td>\n      <td>None</td>\n      <td>None</td>\n      <td>None</td>\n      <td>None</td>\n      <td>None</td>\n      <td>None</td>\n      <td>None</td>\n      <td>None</td>\n      <td>None</td>\n      <td>None</td>\n      <td>None</td>\n      <td>None</td>\n      <td>None</td>\n      <td>None</td>\n      <td>None</td>\n      <td>None</td>\n      <td>None</td>\n      <td>None</td>\n      <td>None</td>\n      <td>None</td>\n      <td>None</td>\n      <td>None</td>\n      <td>None</td>\n      <td>None</td>\n      <td>None</td>\n      <td>None</td>\n      <td>None</td>\n      <td>None</td>\n    </tr>\n    <tr>\n      <th>8</th>\n      <td>GT5</td>\n      <td>2</td>\n      <td>2023-04-26 00:00:00</td>\n      <td>09:27:00</td>\n      <td>1017.2</td>\n      <td>1090.1</td>\n      <td>1086</td>\n      <td>0</td>\n      <td>1.58</td>\n      <td>18.83</td>\n      <td>77.39</td>\n      <td>0</td>\n      <td>None</td>\n      <td>LM</td>\n      <td>None</td>\n      <td>None</td>\n      <td>None</td>\n      <td>None</td>\n      <td>None</td>\n      <td>None</td>\n      <td>None</td>\n      <td>None</td>\n      <td>None</td>\n      <td>None</td>\n      <td>None</td>\n      <td>None</td>\n      <td>None</td>\n      <td>None</td>\n      <td>None</td>\n      <td>None</td>\n      <td>None</td>\n      <td>None</td>\n      <td>None</td>\n      <td>None</td>\n      <td>None</td>\n      <td>None</td>\n      <td>None</td>\n      <td>None</td>\n      <td>None</td>\n      <td>None</td>\n      <td>None</td>\n      <td>None</td>\n      <td>None</td>\n      <td>None</td>\n      <td>None</td>\n      <td>None</td>\n      <td>None</td>\n      <td>None</td>\n      <td>None</td>\n      <td>None</td>\n      <td>None</td>\n      <td>None</td>\n      <td>None</td>\n      <td>None</td>\n      <td>None</td>\n      <td>None</td>\n    </tr>\n    <tr>\n      <th>9</th>\n      <td>GT5</td>\n      <td>2</td>\n      <td>2023-04-28 00:00:00</td>\n      <td>10:17:00</td>\n      <td>1007.1</td>\n      <td>1072.5</td>\n      <td>1069.2</td>\n      <td>0</td>\n      <td>2.29</td>\n      <td>17.33</td>\n      <td>79.28</td>\n      <td>0</td>\n      <td>None</td>\n      <td>LM</td>\n      <td>None</td>\n      <td>None</td>\n      <td>None</td>\n      <td>None</td>\n      <td>None</td>\n      <td>None</td>\n      <td>None</td>\n      <td>None</td>\n      <td>None</td>\n      <td>None</td>\n      <td>None</td>\n      <td>None</td>\n      <td>None</td>\n      <td>None</td>\n      <td>None</td>\n      <td>None</td>\n      <td>None</td>\n      <td>None</td>\n      <td>None</td>\n      <td>None</td>\n      <td>None</td>\n      <td>None</td>\n      <td>None</td>\n      <td>None</td>\n      <td>None</td>\n      <td>None</td>\n      <td>None</td>\n      <td>None</td>\n      <td>None</td>\n      <td>None</td>\n      <td>None</td>\n      <td>None</td>\n      <td>None</td>\n      <td>None</td>\n      <td>None</td>\n      <td>None</td>\n      <td>None</td>\n      <td>None</td>\n      <td>None</td>\n      <td>None</td>\n      <td>None</td>\n      <td>None</td>\n    </tr>\n    <tr>\n      <th>10</th>\n      <td>GT5</td>\n      <td>2</td>\n      <td>2023-05-01 00:00:00</td>\n      <td>14:17:00</td>\n      <td>1013.3</td>\n      <td>1098.2</td>\n      <td>1095</td>\n      <td>0</td>\n      <td>1.83</td>\n      <td>17.99</td>\n      <td>77.92</td>\n      <td>0</td>\n      <td>None</td>\n      <td>LM</td>\n      <td>None</td>\n      <td>None</td>\n      <td>None</td>\n      <td>None</td>\n      <td>None</td>\n      <td>None</td>\n      <td>None</td>\n      <td>None</td>\n      <td>None</td>\n      <td>None</td>\n      <td>None</td>\n      <td>None</td>\n      <td>None</td>\n      <td>None</td>\n      <td>None</td>\n      <td>None</td>\n      <td>None</td>\n      <td>None</td>\n      <td>None</td>\n      <td>None</td>\n      <td>None</td>\n      <td>None</td>\n      <td>None</td>\n      <td>None</td>\n      <td>None</td>\n      <td>None</td>\n      <td>None</td>\n      <td>None</td>\n      <td>None</td>\n      <td>None</td>\n      <td>None</td>\n      <td>None</td>\n      <td>None</td>\n      <td>None</td>\n      <td>None</td>\n      <td>None</td>\n      <td>None</td>\n      <td>None</td>\n      <td>None</td>\n      <td>None</td>\n      <td>None</td>\n      <td>None</td>\n    </tr>\n    <tr>\n      <th>11</th>\n      <td>GT5</td>\n      <td>2</td>\n      <td>2023-05-04 00:00:00</td>\n      <td>10:15:00</td>\n      <td>1017.6</td>\n      <td>1075</td>\n      <td>1072.2</td>\n      <td>0</td>\n      <td>2.75</td>\n      <td>15.98</td>\n      <td>78.91</td>\n      <td>0</td>\n      <td>None</td>\n      <td>LM</td>\n      <td>None</td>\n      <td>None</td>\n      <td>None</td>\n      <td>None</td>\n      <td>None</td>\n      <td>None</td>\n      <td>None</td>\n      <td>None</td>\n      <td>None</td>\n      <td>None</td>\n      <td>None</td>\n      <td>None</td>\n      <td>None</td>\n      <td>None</td>\n      <td>None</td>\n      <td>None</td>\n      <td>None</td>\n      <td>None</td>\n      <td>None</td>\n      <td>None</td>\n      <td>None</td>\n      <td>None</td>\n      <td>None</td>\n      <td>None</td>\n      <td>None</td>\n      <td>None</td>\n      <td>None</td>\n      <td>None</td>\n      <td>None</td>\n      <td>None</td>\n      <td>None</td>\n      <td>None</td>\n      <td>None</td>\n      <td>None</td>\n      <td>None</td>\n      <td>None</td>\n      <td>None</td>\n      <td>None</td>\n      <td>None</td>\n      <td>None</td>\n      <td>None</td>\n      <td>None</td>\n    </tr>\n    <tr>\n      <th>12</th>\n      <td>GT5</td>\n      <td>2</td>\n      <td>2023-05-04 00:00:00</td>\n      <td>11:25:00</td>\n      <td>1016.8</td>\n      <td>1120.4</td>\n      <td>1116.8</td>\n      <td>0</td>\n      <td>0.29</td>\n      <td>20.45</td>\n      <td>75.87</td>\n      <td>1</td>\n      <td>None</td>\n      <td>LM</td>\n      <td>806.36</td>\n      <td>None</td>\n      <td>None</td>\n      <td>None</td>\n      <td>None</td>\n      <td>None</td>\n      <td>None</td>\n      <td>None</td>\n      <td>None</td>\n      <td>None</td>\n      <td>None</td>\n      <td>None</td>\n      <td>None</td>\n      <td>None</td>\n      <td>None</td>\n      <td>None</td>\n      <td>None</td>\n      <td>None</td>\n      <td>None</td>\n      <td>None</td>\n      <td>None</td>\n      <td>None</td>\n      <td>None</td>\n      <td>None</td>\n      <td>None</td>\n      <td>None</td>\n      <td>None</td>\n      <td>None</td>\n      <td>None</td>\n      <td>None</td>\n      <td>None</td>\n      <td>None</td>\n      <td>None</td>\n      <td>None</td>\n      <td>None</td>\n      <td>None</td>\n      <td>None</td>\n      <td>None</td>\n      <td>None</td>\n      <td>None</td>\n      <td>None</td>\n      <td>None</td>\n    </tr>\n    <tr>\n      <th>13</th>\n      <td>GT5</td>\n      <td>2</td>\n      <td>2023-05-08 00:00:00</td>\n      <td>09:22:00</td>\n      <td>1018.7</td>\n      <td>1102.4</td>\n      <td>1099.9</td>\n      <td>0</td>\n      <td>2.19</td>\n      <td>17.55</td>\n      <td>77.25</td>\n      <td>0</td>\n      <td>None</td>\n      <td>LM</td>\n      <td>None</td>\n      <td>None</td>\n      <td>None</td>\n      <td>None</td>\n      <td>None</td>\n      <td>None</td>\n      <td>None</td>\n      <td>None</td>\n      <td>None</td>\n      <td>None</td>\n      <td>None</td>\n      <td>None</td>\n      <td>None</td>\n      <td>None</td>\n      <td>None</td>\n      <td>None</td>\n      <td>None</td>\n      <td>None</td>\n      <td>None</td>\n      <td>None</td>\n      <td>None</td>\n      <td>None</td>\n      <td>None</td>\n      <td>None</td>\n      <td>None</td>\n      <td>None</td>\n      <td>None</td>\n      <td>None</td>\n      <td>None</td>\n      <td>None</td>\n      <td>None</td>\n      <td>None</td>\n      <td>None</td>\n      <td>None</td>\n      <td>None</td>\n      <td>None</td>\n      <td>None</td>\n      <td>None</td>\n      <td>None</td>\n      <td>None</td>\n      <td>None</td>\n      <td>None</td>\n    </tr>\n    <tr>\n      <th>14</th>\n      <td>GT5</td>\n      <td>2</td>\n      <td>2023-05-10 00:00:00</td>\n      <td>10:06:00</td>\n      <td>1007.7</td>\n      <td>1088.4</td>\n      <td>1085.7</td>\n      <td>0</td>\n      <td>2.84</td>\n      <td>16.19</td>\n      <td>78.14</td>\n      <td>0</td>\n      <td>None</td>\n      <td>LM</td>\n      <td>None</td>\n      <td>None</td>\n      <td>None</td>\n      <td>None</td>\n      <td>None</td>\n      <td>None</td>\n      <td>None</td>\n      <td>None</td>\n      <td>None</td>\n      <td>None</td>\n      <td>None</td>\n      <td>None</td>\n      <td>None</td>\n      <td>None</td>\n      <td>None</td>\n      <td>None</td>\n      <td>None</td>\n      <td>None</td>\n      <td>None</td>\n      <td>None</td>\n      <td>None</td>\n      <td>None</td>\n      <td>None</td>\n      <td>None</td>\n      <td>None</td>\n      <td>None</td>\n      <td>None</td>\n      <td>None</td>\n      <td>None</td>\n      <td>None</td>\n      <td>None</td>\n      <td>None</td>\n      <td>None</td>\n      <td>None</td>\n      <td>None</td>\n      <td>None</td>\n      <td>None</td>\n      <td>None</td>\n      <td>None</td>\n      <td>None</td>\n      <td>None</td>\n      <td>None</td>\n    </tr>\n    <tr>\n      <th>15</th>\n      <td>GT5</td>\n      <td>2</td>\n      <td>2023-05-10 00:00:00</td>\n      <td>10:50:00</td>\n      <td>1008.2</td>\n      <td>1107</td>\n      <td>1105.2</td>\n      <td>0</td>\n      <td>0.24</td>\n      <td>20.33</td>\n      <td>75.22</td>\n      <td>1</td>\n      <td>None</td>\n      <td>LM</td>\n      <td>806.28</td>\n      <td>None</td>\n      <td>None</td>\n      <td>None</td>\n      <td>None</td>\n      <td>None</td>\n      <td>None</td>\n      <td>None</td>\n      <td>None</td>\n      <td>None</td>\n      <td>None</td>\n      <td>None</td>\n      <td>None</td>\n      <td>None</td>\n      <td>None</td>\n      <td>None</td>\n      <td>None</td>\n      <td>None</td>\n      <td>None</td>\n      <td>None</td>\n      <td>None</td>\n      <td>None</td>\n      <td>None</td>\n      <td>None</td>\n      <td>None</td>\n      <td>None</td>\n      <td>None</td>\n      <td>None</td>\n      <td>None</td>\n      <td>None</td>\n      <td>None</td>\n      <td>None</td>\n      <td>None</td>\n      <td>None</td>\n      <td>None</td>\n      <td>None</td>\n      <td>None</td>\n      <td>None</td>\n      <td>None</td>\n      <td>None</td>\n      <td>None</td>\n      <td>None</td>\n    </tr>\n    <tr>\n      <th>16</th>\n      <td>GT5</td>\n      <td>2</td>\n      <td>2023-05-12 00:00:00</td>\n      <td>09:38:00</td>\n      <td>1014.7</td>\n      <td>1097.4</td>\n      <td>1094.8</td>\n      <td>0</td>\n      <td>1.56</td>\n      <td>18.9</td>\n      <td>75.9</td>\n      <td>0</td>\n      <td>None</td>\n      <td>LM</td>\n      <td>None</td>\n      <td>None</td>\n      <td>None</td>\n      <td>None</td>\n      <td>None</td>\n      <td>None</td>\n      <td>None</td>\n      <td>None</td>\n      <td>None</td>\n      <td>None</td>\n      <td>None</td>\n      <td>None</td>\n      <td>None</td>\n      <td>None</td>\n      <td>None</td>\n      <td>None</td>\n      <td>None</td>\n      <td>None</td>\n      <td>None</td>\n      <td>None</td>\n      <td>None</td>\n      <td>None</td>\n      <td>None</td>\n      <td>None</td>\n      <td>None</td>\n      <td>None</td>\n      <td>None</td>\n      <td>None</td>\n      <td>None</td>\n      <td>None</td>\n      <td>None</td>\n      <td>None</td>\n      <td>None</td>\n      <td>None</td>\n      <td>None</td>\n      <td>None</td>\n      <td>None</td>\n      <td>None</td>\n      <td>None</td>\n      <td>None</td>\n      <td>None</td>\n      <td>None</td>\n    </tr>\n    <tr>\n      <th>17</th>\n      <td>GT5</td>\n      <td>2</td>\n      <td>2023-05-15 00:00:00</td>\n      <td>10:17:00</td>\n      <td>1012.8</td>\n      <td>1079.7</td>\n      <td>1076.8</td>\n      <td>0</td>\n      <td>2.76</td>\n      <td>17.21</td>\n      <td>78.56</td>\n      <td>0</td>\n      <td>None</td>\n      <td>LM</td>\n      <td>None</td>\n      <td>None</td>\n      <td>None</td>\n      <td>None</td>\n      <td>None</td>\n      <td>None</td>\n      <td>None</td>\n      <td>None</td>\n      <td>None</td>\n      <td>None</td>\n      <td>None</td>\n      <td>None</td>\n      <td>None</td>\n      <td>None</td>\n      <td>None</td>\n      <td>None</td>\n      <td>None</td>\n      <td>None</td>\n      <td>None</td>\n      <td>None</td>\n      <td>None</td>\n      <td>None</td>\n      <td>None</td>\n      <td>None</td>\n      <td>None</td>\n      <td>None</td>\n      <td>None</td>\n      <td>None</td>\n      <td>None</td>\n      <td>None</td>\n      <td>None</td>\n      <td>None</td>\n      <td>None</td>\n      <td>None</td>\n      <td>None</td>\n      <td>None</td>\n      <td>None</td>\n      <td>None</td>\n      <td>None</td>\n      <td>None</td>\n      <td>None</td>\n      <td>None</td>\n    </tr>\n    <tr>\n      <th>18</th>\n      <td>GT5</td>\n      <td>2</td>\n      <td>2023-05-15 00:00:00</td>\n      <td>11:00:00</td>\n      <td>1012.8</td>\n      <td>1115.1</td>\n      <td>1112</td>\n      <td>0</td>\n      <td>0.2</td>\n      <td>20.49</td>\n      <td>76.15</td>\n      <td>1</td>\n      <td>None</td>\n      <td>LM</td>\n      <td>806.19</td>\n      <td>None</td>\n      <td>None</td>\n      <td>None</td>\n      <td>None</td>\n      <td>None</td>\n      <td>None</td>\n      <td>None</td>\n      <td>None</td>\n      <td>None</td>\n      <td>None</td>\n      <td>None</td>\n      <td>None</td>\n      <td>None</td>\n      <td>None</td>\n      <td>None</td>\n      <td>None</td>\n      <td>None</td>\n      <td>None</td>\n      <td>None</td>\n      <td>None</td>\n      <td>None</td>\n      <td>None</td>\n      <td>None</td>\n      <td>None</td>\n      <td>None</td>\n      <td>None</td>\n      <td>None</td>\n      <td>None</td>\n      <td>None</td>\n      <td>None</td>\n      <td>None</td>\n      <td>None</td>\n      <td>None</td>\n      <td>None</td>\n      <td>None</td>\n      <td>None</td>\n      <td>None</td>\n      <td>None</td>\n      <td>None</td>\n      <td>None</td>\n      <td>None</td>\n    </tr>\n    <tr>\n      <th>19</th>\n      <td>GT5</td>\n      <td>2</td>\n      <td>2023-05-17 00:00:00</td>\n      <td>09:19:00</td>\n      <td>1025.4</td>\n      <td>1108.2</td>\n      <td>1105.4</td>\n      <td>0</td>\n      <td>1.49</td>\n      <td>19.48</td>\n      <td>77.78</td>\n      <td>0</td>\n      <td>None</td>\n      <td>LM</td>\n      <td>None</td>\n      <td>None</td>\n      <td>None</td>\n      <td>None</td>\n      <td>None</td>\n      <td>None</td>\n      <td>None</td>\n      <td>None</td>\n      <td>None</td>\n      <td>None</td>\n      <td>None</td>\n      <td>None</td>\n      <td>None</td>\n      <td>None</td>\n      <td>None</td>\n      <td>None</td>\n      <td>None</td>\n      <td>None</td>\n      <td>None</td>\n      <td>None</td>\n      <td>None</td>\n      <td>None</td>\n      <td>None</td>\n      <td>None</td>\n      <td>None</td>\n      <td>None</td>\n      <td>None</td>\n      <td>None</td>\n      <td>None</td>\n      <td>None</td>\n      <td>None</td>\n      <td>None</td>\n      <td>None</td>\n      <td>None</td>\n      <td>None</td>\n      <td>None</td>\n      <td>None</td>\n      <td>None</td>\n      <td>None</td>\n      <td>None</td>\n      <td>None</td>\n      <td>None</td>\n    </tr>\n    <tr>\n      <th>20</th>\n      <td>GT5</td>\n      <td>2</td>\n      <td>2023-05-22 00:00:00</td>\n      <td>14:40:00</td>\n      <td>1013.4</td>\n      <td>1087.5</td>\n      <td>1085.6</td>\n      <td>0</td>\n      <td>3.65</td>\n      <td>16.06</td>\n      <td>78.98</td>\n      <td>0</td>\n      <td>None</td>\n      <td>LM</td>\n      <td>None</td>\n      <td>None</td>\n      <td>None</td>\n      <td>None</td>\n      <td>None</td>\n      <td>None</td>\n      <td>None</td>\n      <td>None</td>\n      <td>None</td>\n      <td>None</td>\n      <td>None</td>\n      <td>None</td>\n      <td>None</td>\n      <td>None</td>\n      <td>None</td>\n      <td>None</td>\n      <td>None</td>\n      <td>None</td>\n      <td>None</td>\n      <td>None</td>\n      <td>None</td>\n      <td>None</td>\n      <td>None</td>\n      <td>None</td>\n      <td>None</td>\n      <td>None</td>\n      <td>None</td>\n      <td>None</td>\n      <td>None</td>\n      <td>None</td>\n      <td>None</td>\n      <td>None</td>\n      <td>None</td>\n      <td>None</td>\n      <td>None</td>\n      <td>None</td>\n      <td>None</td>\n      <td>None</td>\n      <td>None</td>\n      <td>None</td>\n      <td>None</td>\n      <td>None</td>\n    </tr>\n    <tr>\n      <th>21</th>\n      <td>GT5</td>\n      <td>2</td>\n      <td>2023-05-22 00:00:00</td>\n      <td>15:33:00</td>\n      <td>1013.5</td>\n      <td>1117</td>\n      <td>1113.6</td>\n      <td>0</td>\n      <td>0.34</td>\n      <td>20.31</td>\n      <td>75.45</td>\n      <td>1</td>\n      <td>None</td>\n      <td>LM</td>\n      <td>806.11</td>\n      <td>None</td>\n      <td>None</td>\n      <td>None</td>\n      <td>None</td>\n      <td>None</td>\n      <td>None</td>\n      <td>None</td>\n      <td>None</td>\n      <td>None</td>\n      <td>None</td>\n      <td>None</td>\n      <td>None</td>\n      <td>None</td>\n      <td>None</td>\n      <td>None</td>\n      <td>None</td>\n      <td>None</td>\n      <td>None</td>\n      <td>None</td>\n      <td>None</td>\n      <td>None</td>\n      <td>None</td>\n      <td>None</td>\n      <td>None</td>\n      <td>None</td>\n      <td>None</td>\n      <td>None</td>\n      <td>None</td>\n      <td>None</td>\n      <td>None</td>\n      <td>None</td>\n      <td>None</td>\n      <td>None</td>\n      <td>None</td>\n      <td>None</td>\n      <td>None</td>\n      <td>None</td>\n      <td>None</td>\n      <td>None</td>\n      <td>None</td>\n      <td>None</td>\n    </tr>\n  </tbody>\n</table>\n</div>"
     },
     "metadata": {},
     "output_type": "display_data"
    },
    {
     "name": "stdout",
     "output_type": "stream",
     "text": [
      " As you can see now the full sheet is shown\n"
     ]
    }
   ],
   "source": [
    "# check if you can see the data_frame\n",
    "full_sheet = manager.load_sheet_table(sheet_name=\"GT5.2\", start_row=9)\n",
    "\n",
    "display(full_sheet)\n",
    "print(f' As you can see now the full sheet is shown')"
   ],
   "metadata": {
    "collapsed": false,
    "ExecuteTime": {
     "end_time": "2023-06-12T14:32:29.294091900Z",
     "start_time": "2023-06-12T14:32:29.229417800Z"
    }
   }
  },
  {
   "cell_type": "markdown",
   "source": [
    "### Filling th dictionary for the constants of the samples  in the instance of hte excel manager class"
   ],
   "metadata": {
    "collapsed": false
   }
  },
  {
   "cell_type": "code",
   "execution_count": 13,
   "outputs": [
    {
     "name": "stdout",
     "output_type": "stream",
     "text": [
      "loading Notes is done\n",
      "loading GT1.1 is done\n",
      "loading GT1.2 is done\n",
      "loading GT2.1 is done\n",
      "loading GT2.2 is done\n",
      "loading GT3.1 is done\n",
      "loading GT3.2 is done\n",
      "loading GT4.1 is done\n",
      "loading GT4.2 is done\n",
      "loading GT5.1 is done\n",
      "loading GT5.2 is done\n",
      "loading GT6.1 is done\n",
      "loading GT6.2 is done\n",
      "loading GT7.1 is done\n",
      "loading GT7.2 is done\n",
      "loading GT8.1 is done\n",
      "loading GT8.2 is done\n"
     ]
    }
   ],
   "source": [
    "# fil in the dict with constants for the samples\n",
    "sheet_names_samples = manager.get_sheet_names()\n",
    "for sheet_name in sheet_names_samples:\n",
    "    # loading the panda data frame for the sample\n",
    "    constants_data_frame = manager.load_constants_as_data_frame(sheet_name=sheet_name, start_row=1, end_row=7, start_col=3)\n",
    "\n",
    "    constants_data_class = manager.load_constants_as_data_class(sheet_name=sheet_name, start_row=1, end_row=7, start_col=3)\n",
    "\n",
    "    # fill the dictionary\n",
    "    manager.fill_dict_constants_data_frames(data_frame=constants_data_frame, sheets=[sheet_name])\n",
    "\n",
    "    manager.fill_dict_constants_data_classes(data_class=constants_data_class, sheets=[sheet_name])\n",
    "\n",
    "    print(f\"loading {sheet_name} is done\")\n",
    "\n",
    "dict_constants = manager.get_dict_constants_data_frames()\n",
    "dict_constants_data_classes = manager.get_dict_constants_data_classes()"
   ],
   "metadata": {
    "collapsed": false,
    "ExecuteTime": {
     "end_time": "2023-06-12T14:27:23.744129800Z",
     "start_time": "2023-06-12T14:27:23.689044100Z"
    }
   }
  },
  {
   "cell_type": "markdown",
   "source": [
    "#### running all the calculations for each data frame (sammple)"
   ],
   "metadata": {
    "collapsed": false
   }
  },
  {
   "cell_type": "code",
   "execution_count": 7,
   "outputs": [
    {
     "name": "stdout",
     "output_type": "stream",
     "text": [
      "started with sheet: GT1.1\n",
      "finished calculations GT1.1\n",
      "filled dictionary for GT1.1\n",
      "started with sheet: GT1.2\n",
      "finished calculations GT1.2\n",
      "filled dictionary for GT1.2\n",
      "started with sheet: GT2.1\n",
      "finished calculations GT2.1\n",
      "filled dictionary for GT2.1\n",
      "started with sheet: GT2.2\n",
      "finished calculations GT2.2\n",
      "filled dictionary for GT2.2\n",
      "started with sheet: GT3.1\n",
      "finished calculations GT3.1\n",
      "filled dictionary for GT3.1\n",
      "started with sheet: GT3.2\n",
      "finished calculations GT3.2\n",
      "filled dictionary for GT3.2\n",
      "started with sheet: GT4.1\n",
      "finished calculations GT4.1\n",
      "filled dictionary for GT4.1\n",
      "started with sheet: GT4.2\n",
      "finished calculations GT4.2\n",
      "filled dictionary for GT4.2\n",
      "started with sheet: GT5.1\n",
      "finished calculations GT5.1\n",
      "filled dictionary for GT5.1\n",
      "started with sheet: GT5.2\n",
      "finished calculations GT5.2\n",
      "filled dictionary for GT5.2\n",
      "started with sheet: GT6.1\n",
      "finished calculations GT6.1\n",
      "filled dictionary for GT6.1\n",
      "started with sheet: GT6.2\n",
      "finished calculations GT6.2\n",
      "filled dictionary for GT6.2\n",
      "started with sheet: GT7.1\n",
      "finished calculations GT7.1\n",
      "filled dictionary for GT7.1\n",
      "started with sheet: GT7.2\n",
      "finished calculations GT7.2\n",
      "filled dictionary for GT7.2\n",
      "started with sheet: GT8.1\n",
      "finished calculations GT8.1\n",
      "filled dictionary for GT8.1\n",
      "started with sheet: GT8.2\n",
      "finished calculations GT8.2\n",
      "filled dictionary for GT8.2\n"
     ]
    }
   ],
   "source": [
    "from nice_functions import NiceExcelFunction\n",
    "\n",
    "# Now all the data frames are read in, calculated and returned in to the excell_file\n",
    "sheet_names_samples = sheet_names[1:]\n",
    "for sheet_name in sheet_names_samples:\n",
    "    print(f\"started with sheet: {sheet_name}\")\n",
    "    # loading the data frame\n",
    "    column_end = NiceExcelFunction.get_column_index_from_letter(column_letter=\"O\")\n",
    "    data_frame = manager.load_sheet_table_with_input_header(sheet_name=sheet_name, column_names=basic_column_names, start_row=13, end_column=column_end)\n",
    "\n",
    "    # loading the data class with the constants for the sample\n",
    "    constants_data_class = dict_constants_data_classes[sheet_name]\n",
    "\n",
    "    # adding date and do the gas composition corrections.\n",
    "    RunDataFrameCalculationsForOneDataFrame(data_frame=data_frame).run_data_frame_processor_calculations()\n",
    "    RunDataFrameCalculationsForOneDataFrame(data_frame=data_frame).run_gas_composition_calculations()\n",
    "\n",
    "    # calculations for moles before and after sampling\n",
    "    RunDataFrameCalculationsForOneDataFrame(data_frame=data_frame).run_mol_gases_before_and_after_sampling(Rgas=constants_data_class.Rgas,\n",
    "                                                                                                           exp_temperature=constants_data_class.expTemp,\n",
    "                                                                                                           volume_headspace=constants_data_class.volume_headspace)\n",
    "\n",
    "    # correcting the mg_bs for the first measurement\n",
    "    data_frame.loc[0, \"mg_as\"] = data_frame.loc[0, \"mg_bs\"]\n",
    "\n",
    "    # run mol gas composition\n",
    "    RunDataFrameCalculationsForOneDataFrame(data_frame=data_frame).run_mol_gas_composition_calculation()\n",
    "    # run moles produced\n",
    "    RunDataFrameCalculationsForOneDataFrame(data_frame=data_frame).run_moles_produced()\n",
    "    # run cumulative calculations carbon in gas phase\n",
    "    RunDataFrameCalculationsForOneDataFrame(data_frame=data_frame).run_cumulative_production_in_the_gas_phase(molar_mass_carbon=constants_data_class.molar_mass_carbon,\n",
    "                                                                                                              dry_mass_sample=constants_data_class.dry_mass_sample)\n",
    "\n",
    "    # run calculation carbon in the aqueous phase\n",
    "    RunDataFrameCalculationsForOneDataFrame(data_frame=data_frame).run_carbon_in_aqueous_phase(water_volume_in_liters=constants_data_class.water_volume,\n",
    "                                                                                    dry_mass_sample=constants_data_class.dry_mass_sample)\n",
    "\n",
    "    # run results interpretations\n",
    "    RunDataFrameCalculationsForOneDataFrame(data_frame=data_frame).run_results_Interpretations()\n",
    "\n",
    "    # print to see the process\n",
    "    print(f\"finished calculations {sheet_name}\")\n",
    "\n",
    "    # overwrite the old data frame or fill with the new data frame which has calculations\n",
    "    manager.fill_dict_panda_data_frames(data_frame=data_frame, sheets=[sheet_name])\n",
    "\n",
    "    # print to see the process\n",
    "    print(f\"filled dictionary for {sheet_name}\")"
   ],
   "metadata": {
    "collapsed": false,
    "ExecuteTime": {
     "end_time": "2023-06-12T14:06:28.169914Z",
     "start_time": "2023-06-12T14:06:27.104124100Z"
    }
   }
  },
  {
   "cell_type": "markdown",
   "source": [
    "#### you can see the data frame below. Please fill the name of the tab below:"
   ],
   "metadata": {
    "collapsed": false
   }
  },
  {
   "cell_type": "code",
   "execution_count": 8,
   "outputs": [
    {
     "data": {
      "text/plain": "   Sample ID  Parallel        Date      Time  P atm [hPa]   \n0        GT1         1  2023-04-19  14:42:00       1023.1  \\\n1        GT1         1  2023-04-24  10:20:00       1002.3   \n2        GT1         1  2023-04-24  11:25:00       1003.3   \n3        GT1         1  2023-04-26  08:52:00       1017.0   \n4        GT1         1  2023-04-26  09:53:00       1017.2   \n5        GT1         1  2023-04-28  09:45:00       1006.8   \n6        GT1         1  2023-05-01  13:50:00       1013.1   \n7        GT1         1  2023-05-01  14:49:00       1013.3   \n8        GT1         1  2023-05-04  09:26:00       1017.9   \n9        GT1         1  2023-05-04  10:46:00       1017.2   \n10       GT1         1  2023-05-08  08:40:00       1018.7   \n11       GT1         1  2023-05-08  09:47:00       1018.7   \n12       GT1         1  2023-05-10  09:35:00       1007.5   \n13       GT1         1  2023-05-10  10:40:00       1008.0   \n14       GT1         1  2023-05-12  09:09:00       1014.4   \n15       GT1         1  2023-05-12  10:10:00       1014.9   \n16       GT1         1  2023-05-15  09:30:00       1012.5   \n17       GT1         1  2023-05-15  10:38:00       1012.8   \n18       GT1         1  2023-05-17  08:52:00       1025.0   \n19       GT1         1  2023-05-17  09:57:00       1025.6   \n20       GT1         1  2023-05-22  14:11:00       1013.1   \n21       GT1         1  2023-05-22  15:08:00       1013.6   \n\n    P sample before gc [hPa]  P sample after gc [hPa]  CH4 [%]  CO2 [%]   \n0                      960.0                    958.1     0.00     0.03  \\\n1                      962.2                    959.8     0.25     2.41   \n2                     1104.6                   1085.8     0.00     0.74   \n3                      954.0                    951.0     0.03     2.72   \n4                     1120.8                   1105.6     0.00     0.63   \n5                     1029.2                   1025.8     0.00     4.52   \n6                     1042.7                   1039.9     0.00     5.74   \n7                     1114.6                   1110.6     0.00     0.78   \n8                     1050.6                   1046.6     0.00     5.34   \n9                     1122.1                   1119.1     0.00     0.50   \n10                    1037.5                   1035.2     0.00     6.98   \n11                    1123.2                   1120.3     0.00     0.57   \n12                    1073.0                   1070.6     0.00     4.77   \n13                    1112.4                   1109.9     0.00     0.40   \n14                    1068.8                   1066.2     0.00     3.70   \n15                    1118.6                   1115.3     0.00     0.41   \n16                    1068.2                   1061.9     0.00     4.43   \n17                    1117.1                   1113.5     0.00     0.42   \n18                    1088.6                   1086.7     0.00     3.02   \n19                    1129.0                   1125.8     0.00     0.29   \n20                    1074.8                   1072.5     0.00     7.08   \n21                    1112.0                   1108.6     0.00     0.64   \n\n    O2 [%]  ...  CO2 produced_cum  mCTot_produced_cum Cgas_DM_cum    \n0    21.90  ...          0.000000            0.000000     0.000000  \\\n1     1.59  ...          0.000873            0.000965     0.075362   \n2    19.79  ...               NaN                 NaN          NaN   \n3     8.46  ...          0.001535            0.001638     0.127969   \n4    20.51  ...               NaN                 NaN          NaN   \n5    11.77  ...          0.002977            0.003079     0.240552   \n6     9.74  ...          0.003648            0.003751     0.293030   \n7    20.50  ...               NaN                 NaN          NaN   \n8    12.97  ...          0.005406            0.005509     0.430353   \n9    20.32  ...               NaN                 NaN          NaN   \n10    8.07  ...          0.008022            0.008124     0.634680   \n11   20.11  ...               NaN                 NaN          NaN   \n12   15.79  ...          0.009572            0.009675     0.755798   \n13   20.24  ...               NaN                 NaN          NaN   \n14   15.45  ...          0.010903            0.011005     0.859736   \n15   20.26  ...               NaN                 NaN          NaN   \n16   15.52  ...          0.012409            0.012512     0.977455   \n17   20.54  ...               NaN                 NaN          NaN   \n18   18.61  ...          0.013405            0.013508     1.055253   \n19   20.55  ...               NaN                 NaN          NaN   \n20   12.54  ...          0.015954            0.016056     1.254331   \n21   20.31  ...               NaN                 NaN          NaN   \n\n      PP CO2_b   CO2_aq [mol/m3] CO2_aq [mol]  CO2_produced_aq   DIC_cum   \n0     28.800000         0.150624     0.000015         0.000000  0.001153  \\\n1   2242.868749        11.730204     0.001150         0.001135  0.088652   \n2    839.137666         4.388690     0.000430        -0.000719  0.032446   \n3   2505.194053        13.102165     0.001284         0.000854  0.099155   \n4    723.096774         3.781796     0.000371        -0.000913  0.027800   \n5   4368.470279        22.847100     0.002239         0.001868  0.173761   \n6   6057.791498        31.682250     0.003105         0.000866  0.241402   \n7    891.405721         4.662052     0.000457        -0.002648  0.034539   \n8   5346.615839        27.962801     0.002740         0.002283  0.212926   \n9    582.122847         3.044502     0.000298        -0.002442  0.022155   \n10  7214.335525        37.730975     0.003698         0.003399  0.287710   \n11   669.690377         3.502481     0.000343        -0.003354  0.025661   \n12  4600.224699        24.059175     0.002358         0.002015  0.183041   \n13   464.080100         2.427139     0.000238        -0.002120  0.017429   \n14  3837.515769        20.070207     0.001967         0.001729  0.152502   \n15   478.283450         2.501422     0.000245        -0.001722  0.017997   \n16  4298.806323        22.482757     0.002203         0.001958  0.170972   \n17   482.747196         2.524768     0.000247        -0.001956  0.018176   \n18  3007.017287        15.726700     0.001541         0.001294  0.119248   \n19   337.362184         1.764404     0.000173        -0.001368  0.012355   \n20  6799.735502        35.562617     0.003485         0.003312  0.271109   \n21   737.492228         3.857084     0.000378        -0.003107  0.028376   \n\n    Ctot_DM [mg C/gDW]  Ratio O2/CO2  \n0             0.000000      0.000000  \n1             0.164014      3.838024  \n2                  NaN           NaN  \n3             0.227124      3.709538  \n4                  NaN           NaN  \n5             0.414314      1.411259  \n6             0.534432      0.271447  \n7                  NaN           NaN  \n8             0.643280      1.010519  \n9                  NaN           NaN  \n10            0.922390      0.999863  \n11                 NaN           NaN  \n12            0.938839      0.922177  \n13                 NaN           NaN  \n14            1.012237      0.954334  \n15                 NaN           NaN  \n16            1.148427      0.967643  \n17                 NaN           NaN  \n18            1.174502      0.861429  \n19                 NaN           NaN  \n20            1.525440      0.793507  \n21                 NaN           NaN  \n\n[22 rows x 49 columns]",
      "text/html": "<div>\n<style scoped>\n    .dataframe tbody tr th:only-of-type {\n        vertical-align: middle;\n    }\n\n    .dataframe tbody tr th {\n        vertical-align: top;\n    }\n\n    .dataframe thead th {\n        text-align: right;\n    }\n</style>\n<table border=\"1\" class=\"dataframe\">\n  <thead>\n    <tr style=\"text-align: right;\">\n      <th></th>\n      <th>Sample ID</th>\n      <th>Parallel</th>\n      <th>Date</th>\n      <th>Time</th>\n      <th>P atm [hPa]</th>\n      <th>P sample before gc [hPa]</th>\n      <th>P sample after gc [hPa]</th>\n      <th>CH4 [%]</th>\n      <th>CO2 [%]</th>\n      <th>O2 [%]</th>\n      <th>...</th>\n      <th>CO2 produced_cum</th>\n      <th>mCTot_produced_cum</th>\n      <th>Cgas_DM_cum</th>\n      <th>PP CO2_b</th>\n      <th>CO2_aq [mol/m3]</th>\n      <th>CO2_aq [mol]</th>\n      <th>CO2_produced_aq</th>\n      <th>DIC_cum</th>\n      <th>Ctot_DM [mg C/gDW]</th>\n      <th>Ratio O2/CO2</th>\n    </tr>\n  </thead>\n  <tbody>\n    <tr>\n      <th>0</th>\n      <td>GT1</td>\n      <td>1</td>\n      <td>2023-04-19</td>\n      <td>14:42:00</td>\n      <td>1023.1</td>\n      <td>960.0</td>\n      <td>958.1</td>\n      <td>0.00</td>\n      <td>0.03</td>\n      <td>21.90</td>\n      <td>...</td>\n      <td>0.000000</td>\n      <td>0.000000</td>\n      <td>0.000000</td>\n      <td>28.800000</td>\n      <td>0.150624</td>\n      <td>0.000015</td>\n      <td>0.000000</td>\n      <td>0.001153</td>\n      <td>0.000000</td>\n      <td>0.000000</td>\n    </tr>\n    <tr>\n      <th>1</th>\n      <td>GT1</td>\n      <td>1</td>\n      <td>2023-04-24</td>\n      <td>10:20:00</td>\n      <td>1002.3</td>\n      <td>962.2</td>\n      <td>959.8</td>\n      <td>0.25</td>\n      <td>2.41</td>\n      <td>1.59</td>\n      <td>...</td>\n      <td>0.000873</td>\n      <td>0.000965</td>\n      <td>0.075362</td>\n      <td>2242.868749</td>\n      <td>11.730204</td>\n      <td>0.001150</td>\n      <td>0.001135</td>\n      <td>0.088652</td>\n      <td>0.164014</td>\n      <td>3.838024</td>\n    </tr>\n    <tr>\n      <th>2</th>\n      <td>GT1</td>\n      <td>1</td>\n      <td>2023-04-24</td>\n      <td>11:25:00</td>\n      <td>1003.3</td>\n      <td>1104.6</td>\n      <td>1085.8</td>\n      <td>0.00</td>\n      <td>0.74</td>\n      <td>19.79</td>\n      <td>...</td>\n      <td>NaN</td>\n      <td>NaN</td>\n      <td>NaN</td>\n      <td>839.137666</td>\n      <td>4.388690</td>\n      <td>0.000430</td>\n      <td>-0.000719</td>\n      <td>0.032446</td>\n      <td>NaN</td>\n      <td>NaN</td>\n    </tr>\n    <tr>\n      <th>3</th>\n      <td>GT1</td>\n      <td>1</td>\n      <td>2023-04-26</td>\n      <td>08:52:00</td>\n      <td>1017.0</td>\n      <td>954.0</td>\n      <td>951.0</td>\n      <td>0.03</td>\n      <td>2.72</td>\n      <td>8.46</td>\n      <td>...</td>\n      <td>0.001535</td>\n      <td>0.001638</td>\n      <td>0.127969</td>\n      <td>2505.194053</td>\n      <td>13.102165</td>\n      <td>0.001284</td>\n      <td>0.000854</td>\n      <td>0.099155</td>\n      <td>0.227124</td>\n      <td>3.709538</td>\n    </tr>\n    <tr>\n      <th>4</th>\n      <td>GT1</td>\n      <td>1</td>\n      <td>2023-04-26</td>\n      <td>09:53:00</td>\n      <td>1017.2</td>\n      <td>1120.8</td>\n      <td>1105.6</td>\n      <td>0.00</td>\n      <td>0.63</td>\n      <td>20.51</td>\n      <td>...</td>\n      <td>NaN</td>\n      <td>NaN</td>\n      <td>NaN</td>\n      <td>723.096774</td>\n      <td>3.781796</td>\n      <td>0.000371</td>\n      <td>-0.000913</td>\n      <td>0.027800</td>\n      <td>NaN</td>\n      <td>NaN</td>\n    </tr>\n    <tr>\n      <th>5</th>\n      <td>GT1</td>\n      <td>1</td>\n      <td>2023-04-28</td>\n      <td>09:45:00</td>\n      <td>1006.8</td>\n      <td>1029.2</td>\n      <td>1025.8</td>\n      <td>0.00</td>\n      <td>4.52</td>\n      <td>11.77</td>\n      <td>...</td>\n      <td>0.002977</td>\n      <td>0.003079</td>\n      <td>0.240552</td>\n      <td>4368.470279</td>\n      <td>22.847100</td>\n      <td>0.002239</td>\n      <td>0.001868</td>\n      <td>0.173761</td>\n      <td>0.414314</td>\n      <td>1.411259</td>\n    </tr>\n    <tr>\n      <th>6</th>\n      <td>GT1</td>\n      <td>1</td>\n      <td>2023-05-01</td>\n      <td>13:50:00</td>\n      <td>1013.1</td>\n      <td>1042.7</td>\n      <td>1039.9</td>\n      <td>0.00</td>\n      <td>5.74</td>\n      <td>9.74</td>\n      <td>...</td>\n      <td>0.003648</td>\n      <td>0.003751</td>\n      <td>0.293030</td>\n      <td>6057.791498</td>\n      <td>31.682250</td>\n      <td>0.003105</td>\n      <td>0.000866</td>\n      <td>0.241402</td>\n      <td>0.534432</td>\n      <td>0.271447</td>\n    </tr>\n    <tr>\n      <th>7</th>\n      <td>GT1</td>\n      <td>1</td>\n      <td>2023-05-01</td>\n      <td>14:49:00</td>\n      <td>1013.3</td>\n      <td>1114.6</td>\n      <td>1110.6</td>\n      <td>0.00</td>\n      <td>0.78</td>\n      <td>20.50</td>\n      <td>...</td>\n      <td>NaN</td>\n      <td>NaN</td>\n      <td>NaN</td>\n      <td>891.405721</td>\n      <td>4.662052</td>\n      <td>0.000457</td>\n      <td>-0.002648</td>\n      <td>0.034539</td>\n      <td>NaN</td>\n      <td>NaN</td>\n    </tr>\n    <tr>\n      <th>8</th>\n      <td>GT1</td>\n      <td>1</td>\n      <td>2023-05-04</td>\n      <td>09:26:00</td>\n      <td>1017.9</td>\n      <td>1050.6</td>\n      <td>1046.6</td>\n      <td>0.00</td>\n      <td>5.34</td>\n      <td>12.97</td>\n      <td>...</td>\n      <td>0.005406</td>\n      <td>0.005509</td>\n      <td>0.430353</td>\n      <td>5346.615839</td>\n      <td>27.962801</td>\n      <td>0.002740</td>\n      <td>0.002283</td>\n      <td>0.212926</td>\n      <td>0.643280</td>\n      <td>1.010519</td>\n    </tr>\n    <tr>\n      <th>9</th>\n      <td>GT1</td>\n      <td>1</td>\n      <td>2023-05-04</td>\n      <td>10:46:00</td>\n      <td>1017.2</td>\n      <td>1122.1</td>\n      <td>1119.1</td>\n      <td>0.00</td>\n      <td>0.50</td>\n      <td>20.32</td>\n      <td>...</td>\n      <td>NaN</td>\n      <td>NaN</td>\n      <td>NaN</td>\n      <td>582.122847</td>\n      <td>3.044502</td>\n      <td>0.000298</td>\n      <td>-0.002442</td>\n      <td>0.022155</td>\n      <td>NaN</td>\n      <td>NaN</td>\n    </tr>\n    <tr>\n      <th>10</th>\n      <td>GT1</td>\n      <td>1</td>\n      <td>2023-05-08</td>\n      <td>08:40:00</td>\n      <td>1018.7</td>\n      <td>1037.5</td>\n      <td>1035.2</td>\n      <td>0.00</td>\n      <td>6.98</td>\n      <td>8.07</td>\n      <td>...</td>\n      <td>0.008022</td>\n      <td>0.008124</td>\n      <td>0.634680</td>\n      <td>7214.335525</td>\n      <td>37.730975</td>\n      <td>0.003698</td>\n      <td>0.003399</td>\n      <td>0.287710</td>\n      <td>0.922390</td>\n      <td>0.999863</td>\n    </tr>\n    <tr>\n      <th>11</th>\n      <td>GT1</td>\n      <td>1</td>\n      <td>2023-05-08</td>\n      <td>09:47:00</td>\n      <td>1018.7</td>\n      <td>1123.2</td>\n      <td>1120.3</td>\n      <td>0.00</td>\n      <td>0.57</td>\n      <td>20.11</td>\n      <td>...</td>\n      <td>NaN</td>\n      <td>NaN</td>\n      <td>NaN</td>\n      <td>669.690377</td>\n      <td>3.502481</td>\n      <td>0.000343</td>\n      <td>-0.003354</td>\n      <td>0.025661</td>\n      <td>NaN</td>\n      <td>NaN</td>\n    </tr>\n    <tr>\n      <th>12</th>\n      <td>GT1</td>\n      <td>1</td>\n      <td>2023-05-10</td>\n      <td>09:35:00</td>\n      <td>1007.5</td>\n      <td>1073.0</td>\n      <td>1070.6</td>\n      <td>0.00</td>\n      <td>4.77</td>\n      <td>15.79</td>\n      <td>...</td>\n      <td>0.009572</td>\n      <td>0.009675</td>\n      <td>0.755798</td>\n      <td>4600.224699</td>\n      <td>24.059175</td>\n      <td>0.002358</td>\n      <td>0.002015</td>\n      <td>0.183041</td>\n      <td>0.938839</td>\n      <td>0.922177</td>\n    </tr>\n    <tr>\n      <th>13</th>\n      <td>GT1</td>\n      <td>1</td>\n      <td>2023-05-10</td>\n      <td>10:40:00</td>\n      <td>1008.0</td>\n      <td>1112.4</td>\n      <td>1109.9</td>\n      <td>0.00</td>\n      <td>0.40</td>\n      <td>20.24</td>\n      <td>...</td>\n      <td>NaN</td>\n      <td>NaN</td>\n      <td>NaN</td>\n      <td>464.080100</td>\n      <td>2.427139</td>\n      <td>0.000238</td>\n      <td>-0.002120</td>\n      <td>0.017429</td>\n      <td>NaN</td>\n      <td>NaN</td>\n    </tr>\n    <tr>\n      <th>14</th>\n      <td>GT1</td>\n      <td>1</td>\n      <td>2023-05-12</td>\n      <td>09:09:00</td>\n      <td>1014.4</td>\n      <td>1068.8</td>\n      <td>1066.2</td>\n      <td>0.00</td>\n      <td>3.70</td>\n      <td>15.45</td>\n      <td>...</td>\n      <td>0.010903</td>\n      <td>0.011005</td>\n      <td>0.859736</td>\n      <td>3837.515769</td>\n      <td>20.070207</td>\n      <td>0.001967</td>\n      <td>0.001729</td>\n      <td>0.152502</td>\n      <td>1.012237</td>\n      <td>0.954334</td>\n    </tr>\n    <tr>\n      <th>15</th>\n      <td>GT1</td>\n      <td>1</td>\n      <td>2023-05-12</td>\n      <td>10:10:00</td>\n      <td>1014.9</td>\n      <td>1118.6</td>\n      <td>1115.3</td>\n      <td>0.00</td>\n      <td>0.41</td>\n      <td>20.26</td>\n      <td>...</td>\n      <td>NaN</td>\n      <td>NaN</td>\n      <td>NaN</td>\n      <td>478.283450</td>\n      <td>2.501422</td>\n      <td>0.000245</td>\n      <td>-0.001722</td>\n      <td>0.017997</td>\n      <td>NaN</td>\n      <td>NaN</td>\n    </tr>\n    <tr>\n      <th>16</th>\n      <td>GT1</td>\n      <td>1</td>\n      <td>2023-05-15</td>\n      <td>09:30:00</td>\n      <td>1012.5</td>\n      <td>1068.2</td>\n      <td>1061.9</td>\n      <td>0.00</td>\n      <td>4.43</td>\n      <td>15.52</td>\n      <td>...</td>\n      <td>0.012409</td>\n      <td>0.012512</td>\n      <td>0.977455</td>\n      <td>4298.806323</td>\n      <td>22.482757</td>\n      <td>0.002203</td>\n      <td>0.001958</td>\n      <td>0.170972</td>\n      <td>1.148427</td>\n      <td>0.967643</td>\n    </tr>\n    <tr>\n      <th>17</th>\n      <td>GT1</td>\n      <td>1</td>\n      <td>2023-05-15</td>\n      <td>10:38:00</td>\n      <td>1012.8</td>\n      <td>1117.1</td>\n      <td>1113.5</td>\n      <td>0.00</td>\n      <td>0.42</td>\n      <td>20.54</td>\n      <td>...</td>\n      <td>NaN</td>\n      <td>NaN</td>\n      <td>NaN</td>\n      <td>482.747196</td>\n      <td>2.524768</td>\n      <td>0.000247</td>\n      <td>-0.001956</td>\n      <td>0.018176</td>\n      <td>NaN</td>\n      <td>NaN</td>\n    </tr>\n    <tr>\n      <th>18</th>\n      <td>GT1</td>\n      <td>1</td>\n      <td>2023-05-17</td>\n      <td>08:52:00</td>\n      <td>1025.0</td>\n      <td>1088.6</td>\n      <td>1086.7</td>\n      <td>0.00</td>\n      <td>3.02</td>\n      <td>18.61</td>\n      <td>...</td>\n      <td>0.013405</td>\n      <td>0.013508</td>\n      <td>1.055253</td>\n      <td>3007.017287</td>\n      <td>15.726700</td>\n      <td>0.001541</td>\n      <td>0.001294</td>\n      <td>0.119248</td>\n      <td>1.174502</td>\n      <td>0.861429</td>\n    </tr>\n    <tr>\n      <th>19</th>\n      <td>GT1</td>\n      <td>1</td>\n      <td>2023-05-17</td>\n      <td>09:57:00</td>\n      <td>1025.6</td>\n      <td>1129.0</td>\n      <td>1125.8</td>\n      <td>0.00</td>\n      <td>0.29</td>\n      <td>20.55</td>\n      <td>...</td>\n      <td>NaN</td>\n      <td>NaN</td>\n      <td>NaN</td>\n      <td>337.362184</td>\n      <td>1.764404</td>\n      <td>0.000173</td>\n      <td>-0.001368</td>\n      <td>0.012355</td>\n      <td>NaN</td>\n      <td>NaN</td>\n    </tr>\n    <tr>\n      <th>20</th>\n      <td>GT1</td>\n      <td>1</td>\n      <td>2023-05-22</td>\n      <td>14:11:00</td>\n      <td>1013.1</td>\n      <td>1074.8</td>\n      <td>1072.5</td>\n      <td>0.00</td>\n      <td>7.08</td>\n      <td>12.54</td>\n      <td>...</td>\n      <td>0.015954</td>\n      <td>0.016056</td>\n      <td>1.254331</td>\n      <td>6799.735502</td>\n      <td>35.562617</td>\n      <td>0.003485</td>\n      <td>0.003312</td>\n      <td>0.271109</td>\n      <td>1.525440</td>\n      <td>0.793507</td>\n    </tr>\n    <tr>\n      <th>21</th>\n      <td>GT1</td>\n      <td>1</td>\n      <td>2023-05-22</td>\n      <td>15:08:00</td>\n      <td>1013.6</td>\n      <td>1112.0</td>\n      <td>1108.6</td>\n      <td>0.00</td>\n      <td>0.64</td>\n      <td>20.31</td>\n      <td>...</td>\n      <td>NaN</td>\n      <td>NaN</td>\n      <td>NaN</td>\n      <td>737.492228</td>\n      <td>3.857084</td>\n      <td>0.000378</td>\n      <td>-0.003107</td>\n      <td>0.028376</td>\n      <td>NaN</td>\n      <td>NaN</td>\n    </tr>\n  </tbody>\n</table>\n<p>22 rows × 49 columns</p>\n</div>"
     },
     "metadata": {},
     "output_type": "display_data"
    }
   ],
   "source": [
    "sheet_tab_name = \"GT1.1\"\n",
    "\n",
    "\n",
    "dict_data_frames = manager.get_dict_panda_data_frames()\n",
    "display(dict_data_frames[sheet_tab_name])\n",
    "# Set the display options\n",
    "pd.set_option('display.max_rows', None)  # Display all rows\n",
    "pd.set_option('display.max_columns', None)  # Display all columns\n",
    "pd.set_option('display.width', None)  # Automatically adjust the column width to fit the contents"
   ],
   "metadata": {
    "collapsed": false,
    "ExecuteTime": {
     "end_time": "2023-06-12T14:06:28.169914Z",
     "start_time": "2023-06-12T14:06:27.791831200Z"
    }
   }
  },
  {
   "cell_type": "markdown",
   "source": [
    "# OVERWRITING the excel file. Do you made a copy before?"
   ],
   "metadata": {
    "collapsed": false
   }
  },
  {
   "cell_type": "code",
   "execution_count": 9,
   "outputs": [],
   "source": [
    "# for sheet_name in sheet_names_samples:\n",
    "#  # replace the table (overwrite) in the Excel file.\n",
    "#     data_frame = manager.get_dict_panda_data_frames()[sheet_name]\n",
    "#     manager.replace_table_in_specific_sheet_with_data_frame(excel_file_path=path_input_excel,\n",
    "#                                                             sheet_name=sheet_name,\n",
    "#                                                             start_row=13,\n",
    "#                                                             data_frame=data_frame,\n",
    "#                                                             header=False\n",
    "#                                                             )\n",
    "#     print(f\"replaced table in Excel for {sheet_name}\")"
   ],
   "metadata": {
    "collapsed": false,
    "ExecuteTime": {
     "end_time": "2023-06-12T14:06:28.169914Z",
     "start_time": "2023-06-12T14:06:27.834606500Z"
    }
   }
  },
  {
   "cell_type": "code",
   "execution_count": 9,
   "outputs": [],
   "source": [],
   "metadata": {
    "collapsed": false,
    "ExecuteTime": {
     "end_time": "2023-06-12T14:06:28.171399Z",
     "start_time": "2023-06-12T14:06:27.851590500Z"
    }
   }
  }
 ],
 "metadata": {
  "kernelspec": {
   "display_name": "Python 3",
   "language": "python",
   "name": "python3"
  },
  "language_info": {
   "codemirror_mode": {
    "name": "ipython",
    "version": 2
   },
   "file_extension": ".py",
   "mimetype": "text/x-python",
   "name": "python",
   "nbconvert_exporter": "python",
   "pygments_lexer": "ipython2",
   "version": "2.7.6"
  }
 },
 "nbformat": 4,
 "nbformat_minor": 0
}
