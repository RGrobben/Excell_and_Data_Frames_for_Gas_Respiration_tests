{
 "cells": [
  {
   "cell_type": "code",
   "execution_count": 1,
   "metadata": {
    "collapsed": true,
    "ExecuteTime": {
     "end_time": "2023-07-02T08:25:55.433004900Z",
     "start_time": "2023-07-02T08:25:54.847537900Z"
    }
   },
   "outputs": [],
   "source": [
    "import pandas as pd\n",
    "from excel_manager import ExcelManager\n",
    "from run_data_frame_calculations import RunDataFrameCalculationsForOneDataFrame\n"
   ]
  },
  {
   "cell_type": "markdown",
   "source": [
    "# Make a COPY before you run the script"
   ],
   "metadata": {
    "collapsed": false
   }
  },
  {
   "cell_type": "markdown",
   "source": [],
   "metadata": {
    "collapsed": false
   }
  },
  {
   "cell_type": "code",
   "execution_count": 2,
   "outputs": [],
   "source": [
    "path_input_excel = r\"C:\\Users\\robbe\\Downloads\\Gas_production_KRA_BEP_R.Grobben_final_01_run_File.xlsx\"\n",
    "\n",
    "#make instance of excel manger\n",
    "manager = ExcelManager(path_input_excel)\n",
    "\n",
    "# load the workbook in\n",
    "manager.load_workbook()"
   ],
   "metadata": {
    "collapsed": false,
    "ExecuteTime": {
     "end_time": "2023-07-02T08:25:57.603509100Z",
     "start_time": "2023-07-02T08:25:55.427787300Z"
    }
   }
  },
  {
   "cell_type": "markdown",
   "source": [
    "### You can see the sheet names"
   ],
   "metadata": {
    "collapsed": false
   }
  },
  {
   "cell_type": "code",
   "execution_count": 3,
   "outputs": [
    {
     "name": "stdout",
     "output_type": "stream",
     "text": [
      "['Notes', 'GT1.1', 'GT1.2', 'GT2.1', 'GT2.2', 'GT3.1', 'GT3.2', 'GT4.1', 'GT4.2', 'GT5.1', 'GT5.2', 'GT6.1', 'GT6.2', 'GT7.1', 'GT7.2', 'GT8.1', 'GT8.2']\n"
     ]
    }
   ],
   "source": [
    "# check the sheet names\n",
    "sheet_names = manager.get_sheet_names()\n",
    "print(sheet_names)"
   ],
   "metadata": {
    "collapsed": false,
    "ExecuteTime": {
     "end_time": "2023-07-02T08:25:57.617476200Z",
     "start_time": "2023-07-02T08:25:57.604507600Z"
    }
   }
  },
  {
   "cell_type": "markdown",
   "source": [
    "#### input names of table if needed"
   ],
   "metadata": {
    "collapsed": false
   }
  },
  {
   "cell_type": "code",
   "execution_count": 4,
   "outputs": [],
   "source": [
    "# column_names = ['Sample ID', 'Parallel', 'Date', 'Time', 'P atm', 'P sample before gc', 'P sample after gc', 'CH4', 'CO2', 'O2', 'N2', 'Flush (1=yes; 0=no)', 'Comments', 'GC method', 'Weight', 'Date + Time', 'Day', 'Sum', 'CH4-corr', 'CO2-corr', 'O2-corr', 'N2-corr', 'Sum-corr', 'mg_bs', 'mCO2_b', 'mCH4_b', 'mO2_b', 'mN2_b', 'mCTot_b', 'mg_as', 'mCO2_a', 'mCH4_a', 'mO2_a', 'mN2_a', 'mCTot_a', 'mCTot_produced', 'O2 consumed', 'CO2 produced', 'O2 consumed_cum', 'CO2 produced_cum', 'mCTot_produced_cum', 'Cgas_DM_cum', 'PP CO2_b', 'CO2_aq [mol/m3]', 'CO2_aq [mol]', 'CO2_produced_aq', 'DIC_cum', 'Ctot_DM', 'Ratio O2/CO2']\n",
    "#\n",
    "basic_column_names = ['Sample ID', 'Parallel', 'Date', 'Time', 'P atm [hPa]', 'P sample before gc [hPa]', 'P sample after gc [hPa]', 'CH4 [%]', 'CO2 [%]', 'O2 [%]', 'N2 [%]', 'Flush (1=yes; 0=no)', 'Comments', 'GC method', 'Weight [g]']\n",
    "\n"
   ],
   "metadata": {
    "collapsed": false,
    "ExecuteTime": {
     "end_time": "2023-07-02T08:25:57.677330600Z",
     "start_time": "2023-07-02T08:25:57.620468800Z"
    }
   }
  },
  {
   "cell_type": "markdown",
   "source": [
    "##### you can check if the sheets are in the instance of the excell manager class."
   ],
   "metadata": {
    "collapsed": false
   }
  },
  {
   "cell_type": "code",
   "execution_count": 5,
   "outputs": [
    {
     "data": {
      "text/plain": "         None      None                 None      None    None   \n0        None      None                 None      None    None  \\\n1   Sample ID  Parallel                 Date      Time   P atm   \n2        None      None                 None      None     hPa   \n3         GT5         2  2023-04-17 00:00:00  15:19:00  1025.4   \n4         GT5         2  2023-04-19 00:00:00  15:40:00  1022.6   \n5         GT5         2  2023-04-19 00:00:00  17:49:00  1021.4   \n6         GT5         2  2023-04-24 00:00:00  11:02:00  1003.2   \n7         GT5         2  2023-04-24 00:00:00  12:15:00    1004   \n8         GT5         2  2023-04-26 00:00:00  09:27:00  1017.2   \n9         GT5         2  2023-04-28 00:00:00  10:17:00  1007.1   \n10        GT5         2  2023-04-28 00:00:00  10:18:00  1007.1   \n11        GT5         2  2023-05-01 00:00:00  14:17:00  1013.3   \n12        GT5         2  2023-05-04 00:00:00  10:15:00  1017.6   \n13        GT5         2  2023-05-04 00:00:00  11:25:00  1016.8   \n14        GT5         2  2023-05-08 00:00:00  09:22:00  1018.7   \n15        GT5         2  2023-05-10 00:00:00  10:06:00  1007.7   \n16        GT5         2  2023-05-10 00:00:00  10:50:00  1008.2   \n17        GT5         2  2023-05-12 00:00:00  09:38:00  1014.7   \n18        GT5         2  2023-05-15 00:00:00  10:17:00  1012.8   \n19        GT5         2  2023-05-15 00:00:00  11:00:00  1012.8   \n20        GT5         2  2023-05-17 00:00:00  09:19:00  1025.4   \n21        GT5         2  2023-05-22 00:00:00  14:40:00  1013.4   \n22        GT5         2  2023-05-22 00:00:00  15:33:00  1013.5   \n\n                  None               None  None      None       None  ...   \n0                 None               None  None      None       None  ...  \\\n1   P sample before gc  P sample after gc   CH4       CO2         O2  ...   \n2                  hPa                hPa     %         %          %  ...   \n3          1229.193137               None  None      None       None  ...   \n4               1103.8             1101.4     0      2.99      17.43  ...   \n5               1128.2               1125     0      0.26      20.62  ...   \n6               1085.4             1082.3     0      2.79      15.69  ...   \n7               1104.6             1101.4     0       0.3      20.58  ...   \n8               1090.1               1086     0      1.58      18.83  ...   \n9               1072.5             1069.2     0      2.29      17.33  ...   \n10         1115.383333        1112.333333     0  0.271667  20.463333  ...   \n11              1098.2               1095     0      1.83      17.99  ...   \n12                1075             1072.2     0      2.75      15.98  ...   \n13              1120.4             1116.8     0      0.29      20.45  ...   \n14              1102.4             1099.9     0      2.19      17.55  ...   \n15              1088.4             1085.7     0      2.84      16.19  ...   \n16                1107             1105.2     0      0.24      20.33  ...   \n17              1097.4             1094.8     0      1.56       18.9  ...   \n18              1079.7             1076.8     0      2.76      17.21  ...   \n19              1115.1               1112     0       0.2      20.49  ...   \n20              1108.2             1105.4     0      1.49      19.48  ...   \n21              1087.5             1085.6     0      3.65      16.06  ...   \n22                1117             1113.6     0      0.34      20.31  ...   \n\n         None       None                                 None        None   \n0        None       None                                 None        None  \\\n1   CO2_a_aq   CO2_a_aq   CO2_dissolved between timesteps_aq   CO2_cum_aq   \n2      mol/m3        mol                                  mol         mol   \n3           0          0                             0.000019    0.000019   \n4   17.632435   0.001728                             0.001732    0.001751   \n5     1.57045   0.000154                            -0.001574    0.000177   \n6   16.105035   0.001578                             0.001429    0.001606   \n7     1.77605   0.000174                            -0.001404    0.000202   \n8    9.175923   0.000899                             0.000729    0.000931   \n9   12.947915   0.001269                             0.000374    0.001304   \n10   1.634778    0.00016                            -0.001108    0.000196   \n11  10.722463   0.001051                             0.000894     0.00109   \n12  15.793647   0.001548                             0.000501    0.001591   \n13   1.753287   0.000172                            -0.001375    0.000215   \n14   12.98889   0.001273                             0.001104    0.001319   \n15   16.59578   0.001626                             0.000358    0.001677   \n16   1.448217   0.000142                            -0.001484    0.000193   \n17    9.26967   0.000908                             0.000769    0.000961   \n18  15.775289   0.001546                             0.000642    0.001603   \n19   1.201107   0.000118                            -0.001428    0.000175   \n20   8.723089   0.000855                             0.000739    0.000914   \n21  20.998643   0.002058                             0.001207    0.002121   \n22   2.060566   0.000202                            -0.001855    0.000266   \n\n        None      None          None  None  None  None  \n0       None      None          None  None  None  None  \n1    DIC_cum  Ctot_DM   Ratio O2/CO2  None  None  None  \n2   mg C/gDW  mg C/gDW          None  None  None  None  \n3   0.001477         0             0  None  None  None  \n4   0.136762  0.239695      0.933933  None  None  None  \n5   0.013828      None             0  None  None  None  \n6   0.125456  0.314259      1.005519  None  None  None  \n7   0.015795      None             0  None  None  None  \n8   0.072712    0.3053      0.705773  None  None  None  \n9   0.101896  0.356933      1.262402  None  None  None  \n10  0.015319      None             0  None  None  None  \n11  0.085133  0.393874      0.830748  None  None  None  \n12  0.124273  0.463123      1.139029  None  None  None  \n13  0.016825      None             0  None  None  None  \n14  0.103069  0.508263      0.745342  None  None  None  \n15  0.130999  0.557678      1.101961  None  None  None  \n16  0.015049      None             0  None  None  None  \n17  0.075098   0.54797      0.560083  None  None  None  \n18  0.125229  0.636665       0.90793  None  None  None  \n19  0.013677      None             0  None  None  None  \n20  0.071433  0.627298      0.502585  None  None  None  \n21  0.165695   0.79407       0.75883  None  None  None  \n22  0.020756      None             0  None  None  None  \n\n[23 rows x 56 columns]",
      "text/html": "<div>\n<style scoped>\n    .dataframe tbody tr th:only-of-type {\n        vertical-align: middle;\n    }\n\n    .dataframe tbody tr th {\n        vertical-align: top;\n    }\n\n    .dataframe thead th {\n        text-align: right;\n    }\n</style>\n<table border=\"1\" class=\"dataframe\">\n  <thead>\n    <tr style=\"text-align: right;\">\n      <th></th>\n      <th>None</th>\n      <th>None</th>\n      <th>None</th>\n      <th>None</th>\n      <th>None</th>\n      <th>None</th>\n      <th>None</th>\n      <th>None</th>\n      <th>None</th>\n      <th>None</th>\n      <th>...</th>\n      <th>None</th>\n      <th>None</th>\n      <th>None</th>\n      <th>None</th>\n      <th>None</th>\n      <th>None</th>\n      <th>None</th>\n      <th>None</th>\n      <th>None</th>\n      <th>None</th>\n    </tr>\n  </thead>\n  <tbody>\n    <tr>\n      <th>0</th>\n      <td>None</td>\n      <td>None</td>\n      <td>None</td>\n      <td>None</td>\n      <td>None</td>\n      <td>None</td>\n      <td>None</td>\n      <td>None</td>\n      <td>None</td>\n      <td>None</td>\n      <td>...</td>\n      <td>None</td>\n      <td>None</td>\n      <td>None</td>\n      <td>None</td>\n      <td>None</td>\n      <td>None</td>\n      <td>None</td>\n      <td>None</td>\n      <td>None</td>\n      <td>None</td>\n    </tr>\n    <tr>\n      <th>1</th>\n      <td>Sample ID</td>\n      <td>Parallel</td>\n      <td>Date</td>\n      <td>Time</td>\n      <td>P atm</td>\n      <td>P sample before gc</td>\n      <td>P sample after gc</td>\n      <td>CH4</td>\n      <td>CO2</td>\n      <td>O2</td>\n      <td>...</td>\n      <td>CO2_a_aq</td>\n      <td>CO2_a_aq</td>\n      <td>CO2_dissolved between timesteps_aq</td>\n      <td>CO2_cum_aq</td>\n      <td>DIC_cum</td>\n      <td>Ctot_DM</td>\n      <td>Ratio O2/CO2</td>\n      <td>None</td>\n      <td>None</td>\n      <td>None</td>\n    </tr>\n    <tr>\n      <th>2</th>\n      <td>None</td>\n      <td>None</td>\n      <td>None</td>\n      <td>None</td>\n      <td>hPa</td>\n      <td>hPa</td>\n      <td>hPa</td>\n      <td>%</td>\n      <td>%</td>\n      <td>%</td>\n      <td>...</td>\n      <td>mol/m3</td>\n      <td>mol</td>\n      <td>mol</td>\n      <td>mol</td>\n      <td>mg C/gDW</td>\n      <td>mg C/gDW</td>\n      <td>None</td>\n      <td>None</td>\n      <td>None</td>\n      <td>None</td>\n    </tr>\n    <tr>\n      <th>3</th>\n      <td>GT5</td>\n      <td>2</td>\n      <td>2023-04-17 00:00:00</td>\n      <td>15:19:00</td>\n      <td>1025.4</td>\n      <td>1229.193137</td>\n      <td>None</td>\n      <td>None</td>\n      <td>None</td>\n      <td>None</td>\n      <td>...</td>\n      <td>0</td>\n      <td>0</td>\n      <td>0.000019</td>\n      <td>0.000019</td>\n      <td>0.001477</td>\n      <td>0</td>\n      <td>0</td>\n      <td>None</td>\n      <td>None</td>\n      <td>None</td>\n    </tr>\n    <tr>\n      <th>4</th>\n      <td>GT5</td>\n      <td>2</td>\n      <td>2023-04-19 00:00:00</td>\n      <td>15:40:00</td>\n      <td>1022.6</td>\n      <td>1103.8</td>\n      <td>1101.4</td>\n      <td>0</td>\n      <td>2.99</td>\n      <td>17.43</td>\n      <td>...</td>\n      <td>17.632435</td>\n      <td>0.001728</td>\n      <td>0.001732</td>\n      <td>0.001751</td>\n      <td>0.136762</td>\n      <td>0.239695</td>\n      <td>0.933933</td>\n      <td>None</td>\n      <td>None</td>\n      <td>None</td>\n    </tr>\n    <tr>\n      <th>5</th>\n      <td>GT5</td>\n      <td>2</td>\n      <td>2023-04-19 00:00:00</td>\n      <td>17:49:00</td>\n      <td>1021.4</td>\n      <td>1128.2</td>\n      <td>1125</td>\n      <td>0</td>\n      <td>0.26</td>\n      <td>20.62</td>\n      <td>...</td>\n      <td>1.57045</td>\n      <td>0.000154</td>\n      <td>-0.001574</td>\n      <td>0.000177</td>\n      <td>0.013828</td>\n      <td>None</td>\n      <td>0</td>\n      <td>None</td>\n      <td>None</td>\n      <td>None</td>\n    </tr>\n    <tr>\n      <th>6</th>\n      <td>GT5</td>\n      <td>2</td>\n      <td>2023-04-24 00:00:00</td>\n      <td>11:02:00</td>\n      <td>1003.2</td>\n      <td>1085.4</td>\n      <td>1082.3</td>\n      <td>0</td>\n      <td>2.79</td>\n      <td>15.69</td>\n      <td>...</td>\n      <td>16.105035</td>\n      <td>0.001578</td>\n      <td>0.001429</td>\n      <td>0.001606</td>\n      <td>0.125456</td>\n      <td>0.314259</td>\n      <td>1.005519</td>\n      <td>None</td>\n      <td>None</td>\n      <td>None</td>\n    </tr>\n    <tr>\n      <th>7</th>\n      <td>GT5</td>\n      <td>2</td>\n      <td>2023-04-24 00:00:00</td>\n      <td>12:15:00</td>\n      <td>1004</td>\n      <td>1104.6</td>\n      <td>1101.4</td>\n      <td>0</td>\n      <td>0.3</td>\n      <td>20.58</td>\n      <td>...</td>\n      <td>1.77605</td>\n      <td>0.000174</td>\n      <td>-0.001404</td>\n      <td>0.000202</td>\n      <td>0.015795</td>\n      <td>None</td>\n      <td>0</td>\n      <td>None</td>\n      <td>None</td>\n      <td>None</td>\n    </tr>\n    <tr>\n      <th>8</th>\n      <td>GT5</td>\n      <td>2</td>\n      <td>2023-04-26 00:00:00</td>\n      <td>09:27:00</td>\n      <td>1017.2</td>\n      <td>1090.1</td>\n      <td>1086</td>\n      <td>0</td>\n      <td>1.58</td>\n      <td>18.83</td>\n      <td>...</td>\n      <td>9.175923</td>\n      <td>0.000899</td>\n      <td>0.000729</td>\n      <td>0.000931</td>\n      <td>0.072712</td>\n      <td>0.3053</td>\n      <td>0.705773</td>\n      <td>None</td>\n      <td>None</td>\n      <td>None</td>\n    </tr>\n    <tr>\n      <th>9</th>\n      <td>GT5</td>\n      <td>2</td>\n      <td>2023-04-28 00:00:00</td>\n      <td>10:17:00</td>\n      <td>1007.1</td>\n      <td>1072.5</td>\n      <td>1069.2</td>\n      <td>0</td>\n      <td>2.29</td>\n      <td>17.33</td>\n      <td>...</td>\n      <td>12.947915</td>\n      <td>0.001269</td>\n      <td>0.000374</td>\n      <td>0.001304</td>\n      <td>0.101896</td>\n      <td>0.356933</td>\n      <td>1.262402</td>\n      <td>None</td>\n      <td>None</td>\n      <td>None</td>\n    </tr>\n    <tr>\n      <th>10</th>\n      <td>GT5</td>\n      <td>2</td>\n      <td>2023-04-28 00:00:00</td>\n      <td>10:18:00</td>\n      <td>1007.1</td>\n      <td>1115.383333</td>\n      <td>1112.333333</td>\n      <td>0</td>\n      <td>0.271667</td>\n      <td>20.463333</td>\n      <td>...</td>\n      <td>1.634778</td>\n      <td>0.00016</td>\n      <td>-0.001108</td>\n      <td>0.000196</td>\n      <td>0.015319</td>\n      <td>None</td>\n      <td>0</td>\n      <td>None</td>\n      <td>None</td>\n      <td>None</td>\n    </tr>\n    <tr>\n      <th>11</th>\n      <td>GT5</td>\n      <td>2</td>\n      <td>2023-05-01 00:00:00</td>\n      <td>14:17:00</td>\n      <td>1013.3</td>\n      <td>1098.2</td>\n      <td>1095</td>\n      <td>0</td>\n      <td>1.83</td>\n      <td>17.99</td>\n      <td>...</td>\n      <td>10.722463</td>\n      <td>0.001051</td>\n      <td>0.000894</td>\n      <td>0.00109</td>\n      <td>0.085133</td>\n      <td>0.393874</td>\n      <td>0.830748</td>\n      <td>None</td>\n      <td>None</td>\n      <td>None</td>\n    </tr>\n    <tr>\n      <th>12</th>\n      <td>GT5</td>\n      <td>2</td>\n      <td>2023-05-04 00:00:00</td>\n      <td>10:15:00</td>\n      <td>1017.6</td>\n      <td>1075</td>\n      <td>1072.2</td>\n      <td>0</td>\n      <td>2.75</td>\n      <td>15.98</td>\n      <td>...</td>\n      <td>15.793647</td>\n      <td>0.001548</td>\n      <td>0.000501</td>\n      <td>0.001591</td>\n      <td>0.124273</td>\n      <td>0.463123</td>\n      <td>1.139029</td>\n      <td>None</td>\n      <td>None</td>\n      <td>None</td>\n    </tr>\n    <tr>\n      <th>13</th>\n      <td>GT5</td>\n      <td>2</td>\n      <td>2023-05-04 00:00:00</td>\n      <td>11:25:00</td>\n      <td>1016.8</td>\n      <td>1120.4</td>\n      <td>1116.8</td>\n      <td>0</td>\n      <td>0.29</td>\n      <td>20.45</td>\n      <td>...</td>\n      <td>1.753287</td>\n      <td>0.000172</td>\n      <td>-0.001375</td>\n      <td>0.000215</td>\n      <td>0.016825</td>\n      <td>None</td>\n      <td>0</td>\n      <td>None</td>\n      <td>None</td>\n      <td>None</td>\n    </tr>\n    <tr>\n      <th>14</th>\n      <td>GT5</td>\n      <td>2</td>\n      <td>2023-05-08 00:00:00</td>\n      <td>09:22:00</td>\n      <td>1018.7</td>\n      <td>1102.4</td>\n      <td>1099.9</td>\n      <td>0</td>\n      <td>2.19</td>\n      <td>17.55</td>\n      <td>...</td>\n      <td>12.98889</td>\n      <td>0.001273</td>\n      <td>0.001104</td>\n      <td>0.001319</td>\n      <td>0.103069</td>\n      <td>0.508263</td>\n      <td>0.745342</td>\n      <td>None</td>\n      <td>None</td>\n      <td>None</td>\n    </tr>\n    <tr>\n      <th>15</th>\n      <td>GT5</td>\n      <td>2</td>\n      <td>2023-05-10 00:00:00</td>\n      <td>10:06:00</td>\n      <td>1007.7</td>\n      <td>1088.4</td>\n      <td>1085.7</td>\n      <td>0</td>\n      <td>2.84</td>\n      <td>16.19</td>\n      <td>...</td>\n      <td>16.59578</td>\n      <td>0.001626</td>\n      <td>0.000358</td>\n      <td>0.001677</td>\n      <td>0.130999</td>\n      <td>0.557678</td>\n      <td>1.101961</td>\n      <td>None</td>\n      <td>None</td>\n      <td>None</td>\n    </tr>\n    <tr>\n      <th>16</th>\n      <td>GT5</td>\n      <td>2</td>\n      <td>2023-05-10 00:00:00</td>\n      <td>10:50:00</td>\n      <td>1008.2</td>\n      <td>1107</td>\n      <td>1105.2</td>\n      <td>0</td>\n      <td>0.24</td>\n      <td>20.33</td>\n      <td>...</td>\n      <td>1.448217</td>\n      <td>0.000142</td>\n      <td>-0.001484</td>\n      <td>0.000193</td>\n      <td>0.015049</td>\n      <td>None</td>\n      <td>0</td>\n      <td>None</td>\n      <td>None</td>\n      <td>None</td>\n    </tr>\n    <tr>\n      <th>17</th>\n      <td>GT5</td>\n      <td>2</td>\n      <td>2023-05-12 00:00:00</td>\n      <td>09:38:00</td>\n      <td>1014.7</td>\n      <td>1097.4</td>\n      <td>1094.8</td>\n      <td>0</td>\n      <td>1.56</td>\n      <td>18.9</td>\n      <td>...</td>\n      <td>9.26967</td>\n      <td>0.000908</td>\n      <td>0.000769</td>\n      <td>0.000961</td>\n      <td>0.075098</td>\n      <td>0.54797</td>\n      <td>0.560083</td>\n      <td>None</td>\n      <td>None</td>\n      <td>None</td>\n    </tr>\n    <tr>\n      <th>18</th>\n      <td>GT5</td>\n      <td>2</td>\n      <td>2023-05-15 00:00:00</td>\n      <td>10:17:00</td>\n      <td>1012.8</td>\n      <td>1079.7</td>\n      <td>1076.8</td>\n      <td>0</td>\n      <td>2.76</td>\n      <td>17.21</td>\n      <td>...</td>\n      <td>15.775289</td>\n      <td>0.001546</td>\n      <td>0.000642</td>\n      <td>0.001603</td>\n      <td>0.125229</td>\n      <td>0.636665</td>\n      <td>0.90793</td>\n      <td>None</td>\n      <td>None</td>\n      <td>None</td>\n    </tr>\n    <tr>\n      <th>19</th>\n      <td>GT5</td>\n      <td>2</td>\n      <td>2023-05-15 00:00:00</td>\n      <td>11:00:00</td>\n      <td>1012.8</td>\n      <td>1115.1</td>\n      <td>1112</td>\n      <td>0</td>\n      <td>0.2</td>\n      <td>20.49</td>\n      <td>...</td>\n      <td>1.201107</td>\n      <td>0.000118</td>\n      <td>-0.001428</td>\n      <td>0.000175</td>\n      <td>0.013677</td>\n      <td>None</td>\n      <td>0</td>\n      <td>None</td>\n      <td>None</td>\n      <td>None</td>\n    </tr>\n    <tr>\n      <th>20</th>\n      <td>GT5</td>\n      <td>2</td>\n      <td>2023-05-17 00:00:00</td>\n      <td>09:19:00</td>\n      <td>1025.4</td>\n      <td>1108.2</td>\n      <td>1105.4</td>\n      <td>0</td>\n      <td>1.49</td>\n      <td>19.48</td>\n      <td>...</td>\n      <td>8.723089</td>\n      <td>0.000855</td>\n      <td>0.000739</td>\n      <td>0.000914</td>\n      <td>0.071433</td>\n      <td>0.627298</td>\n      <td>0.502585</td>\n      <td>None</td>\n      <td>None</td>\n      <td>None</td>\n    </tr>\n    <tr>\n      <th>21</th>\n      <td>GT5</td>\n      <td>2</td>\n      <td>2023-05-22 00:00:00</td>\n      <td>14:40:00</td>\n      <td>1013.4</td>\n      <td>1087.5</td>\n      <td>1085.6</td>\n      <td>0</td>\n      <td>3.65</td>\n      <td>16.06</td>\n      <td>...</td>\n      <td>20.998643</td>\n      <td>0.002058</td>\n      <td>0.001207</td>\n      <td>0.002121</td>\n      <td>0.165695</td>\n      <td>0.79407</td>\n      <td>0.75883</td>\n      <td>None</td>\n      <td>None</td>\n      <td>None</td>\n    </tr>\n    <tr>\n      <th>22</th>\n      <td>GT5</td>\n      <td>2</td>\n      <td>2023-05-22 00:00:00</td>\n      <td>15:33:00</td>\n      <td>1013.5</td>\n      <td>1117</td>\n      <td>1113.6</td>\n      <td>0</td>\n      <td>0.34</td>\n      <td>20.31</td>\n      <td>...</td>\n      <td>2.060566</td>\n      <td>0.000202</td>\n      <td>-0.001855</td>\n      <td>0.000266</td>\n      <td>0.020756</td>\n      <td>None</td>\n      <td>0</td>\n      <td>None</td>\n      <td>None</td>\n      <td>None</td>\n    </tr>\n  </tbody>\n</table>\n<p>23 rows × 56 columns</p>\n</div>"
     },
     "metadata": {},
     "output_type": "display_data"
    },
    {
     "name": "stdout",
     "output_type": "stream",
     "text": [
      " As you can see now the full sheet is shown\n"
     ]
    }
   ],
   "source": [
    "# check if you can see the data_frame\n",
    "full_sheet = manager.load_sheet_table(sheet_name=\"GT5.2\", start_row=9)\n",
    "\n",
    "display(full_sheet)\n",
    "print(f' As you can see now the full sheet is shown')"
   ],
   "metadata": {
    "collapsed": false,
    "ExecuteTime": {
     "end_time": "2023-07-02T08:25:57.683120600Z",
     "start_time": "2023-07-02T08:25:57.634966200Z"
    }
   }
  },
  {
   "cell_type": "markdown",
   "source": [
    "### Filling th dictionary for the constants of the samples  in the instance of hte excel manager class"
   ],
   "metadata": {
    "collapsed": false
   }
  },
  {
   "cell_type": "code",
   "execution_count": 6,
   "outputs": [
    {
     "name": "stdout",
     "output_type": "stream",
     "text": [
      "loading Notes is done\n",
      "loading GT1.1 is done\n",
      "loading GT1.2 is done\n",
      "loading GT2.1 is done\n",
      "loading GT2.2 is done\n",
      "loading GT3.1 is done\n",
      "loading GT3.2 is done\n",
      "loading GT4.1 is done\n",
      "loading GT4.2 is done\n",
      "loading GT5.1 is done\n",
      "loading GT5.2 is done\n",
      "loading GT6.1 is done\n",
      "loading GT6.2 is done\n",
      "loading GT7.1 is done\n",
      "loading GT7.2 is done\n",
      "loading GT8.1 is done\n",
      "loading GT8.2 is done\n"
     ]
    }
   ],
   "source": [
    "# fil in the dict with constants for the samples\n",
    "sheet_names_samples = manager.get_sheet_names()\n",
    "for sheet_name in sheet_names_samples:\n",
    "    # loading the panda data frame for the sample\n",
    "    constants_data_frame = manager.load_constants_as_data_frame(sheet_name=sheet_name, start_row=1, end_row=7, start_col=3)\n",
    "\n",
    "    constants_data_class = manager.load_constants_as_data_class(sheet_name=sheet_name, start_row=1, end_row=7, start_col=3)\n",
    "\n",
    "    # fill the dictionary\n",
    "    manager.fill_dict_constants_data_frames(data_frame=constants_data_frame, sheets=[sheet_name])\n",
    "\n",
    "    manager.fill_dict_constants_data_classes(data_class=constants_data_class, sheets=[sheet_name])\n",
    "\n",
    "    print(f\"loading {sheet_name} is done\")\n",
    "\n",
    "dict_constants = manager.get_dict_constants_data_frames()\n",
    "dict_constants_data_classes = manager.get_dict_constants_data_classes()"
   ],
   "metadata": {
    "collapsed": false,
    "ExecuteTime": {
     "end_time": "2023-07-02T08:25:57.697086Z",
     "start_time": "2023-07-02T08:25:57.684124400Z"
    }
   }
  },
  {
   "cell_type": "markdown",
   "source": [
    "# Validate Input data (TODO!)"
   ],
   "metadata": {
    "collapsed": false
   }
  },
  {
   "cell_type": "markdown",
   "source": [
    "#### running all the calculations for each data frame (sammple)"
   ],
   "metadata": {
    "collapsed": false
   }
  },
  {
   "cell_type": "code",
   "execution_count": 7,
   "outputs": [
    {
     "name": "stdout",
     "output_type": "stream",
     "text": [
      "started with sheet: GT1.1\n",
      "finished calculations GT1.1\n",
      "filled dictionary for GT1.1\n",
      "started with sheet: GT1.2\n",
      "finished calculations GT1.2\n",
      "filled dictionary for GT1.2\n",
      "started with sheet: GT2.1\n",
      "finished calculations GT2.1\n",
      "filled dictionary for GT2.1\n",
      "started with sheet: GT2.2\n",
      "finished calculations GT2.2\n",
      "filled dictionary for GT2.2\n",
      "started with sheet: GT3.1\n",
      "finished calculations GT3.1\n",
      "filled dictionary for GT3.1\n",
      "started with sheet: GT3.2\n",
      "finished calculations GT3.2\n",
      "filled dictionary for GT3.2\n",
      "started with sheet: GT4.1\n",
      "finished calculations GT4.1\n",
      "filled dictionary for GT4.1\n",
      "started with sheet: GT4.2\n",
      "finished calculations GT4.2\n",
      "filled dictionary for GT4.2\n",
      "started with sheet: GT5.1\n",
      "finished calculations GT5.1\n",
      "filled dictionary for GT5.1\n",
      "started with sheet: GT5.2\n",
      "finished calculations GT5.2\n",
      "filled dictionary for GT5.2\n",
      "started with sheet: GT6.1\n",
      "finished calculations GT6.1\n",
      "filled dictionary for GT6.1\n",
      "started with sheet: GT6.2\n",
      "finished calculations GT6.2\n",
      "filled dictionary for GT6.2\n",
      "started with sheet: GT7.1\n",
      "finished calculations GT7.1\n",
      "filled dictionary for GT7.1\n",
      "started with sheet: GT7.2\n",
      "finished calculations GT7.2\n",
      "filled dictionary for GT7.2\n",
      "started with sheet: GT8.1\n",
      "finished calculations GT8.1\n",
      "filled dictionary for GT8.1\n",
      "started with sheet: GT8.2\n",
      "finished calculations GT8.2\n",
      "filled dictionary for GT8.2\n"
     ]
    }
   ],
   "source": [
    "from data_frame_calculations import GasComposition\n",
    "from nice_functions import NiceExcelFunction\n",
    "\n",
    "# Now all the data frames are read in, calculated and returned in to the excell_file\n",
    "sheet_names_samples = sheet_names[1:]\n",
    "for sheet_name in sheet_names_samples:\n",
    "    print(f\"started with sheet: {sheet_name}\")\n",
    "    # loading the data frame\n",
    "    column_end = NiceExcelFunction.get_column_index_from_letter(column_letter=\"O\")\n",
    "    data_frame = manager.load_sheet_table_with_input_header(sheet_name=sheet_name, column_names=basic_column_names, start_row=13, end_column=column_end)\n",
    "\n",
    "    # loading the data class with the constants for the sample\n",
    "    constants_data_class = dict_constants_data_classes[sheet_name]\n",
    "\n",
    "    # adding date and do the gas composition corrections.\n",
    "    RunDataFrameCalculationsForOneDataFrame(data_frame=data_frame).run_data_frame_processor_calculations()\n",
    "    RunDataFrameCalculationsForOneDataFrame(data_frame=data_frame).run_gas_composition_calculations()\n",
    "\n",
    "    # calculations for moles before and after sampling\n",
    "    RunDataFrameCalculationsForOneDataFrame(data_frame=data_frame).run_mol_gases_before_and_after_sampling(Rgas=constants_data_class.Rgas,\n",
    "                                                                                                           exp_temperature=constants_data_class.expTemp,\n",
    "                                                                                                           volume_headspace=constants_data_class.volume_headspace)\n",
    "    # correcting the mg_bs for the first measurement\n",
    "    data_frame.loc[0, \"mg_as\"] = data_frame.loc[0, \"mg_bs\"]\n",
    "\n",
    "    # run mol gas composition\n",
    "    RunDataFrameCalculationsForOneDataFrame(data_frame=data_frame).run_mol_gas_composition_calculation()\n",
    "    # run moles produced\n",
    "    RunDataFrameCalculationsForOneDataFrame(data_frame=data_frame).run_moles_produced()\n",
    "    # run cumulative calculations carbon in gas phase\n",
    "    RunDataFrameCalculationsForOneDataFrame(data_frame=data_frame).run_cumulative_production_in_the_gas_phase(molar_mass_carbon=constants_data_class.molar_mass_carbon,\n",
    "                                                                                                              dry_mass_sample=constants_data_class.dry_mass_sample)\n",
    "\n",
    "    # run calculation carbon in the aqueous phase\n",
    "    RunDataFrameCalculationsForOneDataFrame(data_frame=data_frame).run_carbon_in_aqueous_phase(water_volume_in_liters=constants_data_class.water_volume,\n",
    "                                                                                    dry_mass_sample=constants_data_class.dry_mass_sample)\n",
    "\n",
    "    # run results interpretations\n",
    "    RunDataFrameCalculationsForOneDataFrame(data_frame=data_frame).run_results_Interpretations()\n",
    "\n",
    "    # print to see the process\n",
    "    print(f\"finished calculations {sheet_name}\")\n",
    "\n",
    "    # overwrite the old data frame or fill with the new data frame which has calculations\n",
    "    manager.fill_dict_panda_data_frames(data_frame=data_frame, sheets=[sheet_name])\n",
    "\n",
    "    # print to see the process\n",
    "    print(f\"filled dictionary for {sheet_name}\")"
   ],
   "metadata": {
    "collapsed": false,
    "ExecuteTime": {
     "end_time": "2023-07-02T08:25:58.244567100Z",
     "start_time": "2023-07-02T08:25:57.784931700Z"
    }
   }
  },
  {
   "cell_type": "markdown",
   "source": [
    "#### you can see the data frame below. Please fill the name of the tab below:"
   ],
   "metadata": {
    "collapsed": false
   }
  },
  {
   "cell_type": "code",
   "execution_count": 8,
   "outputs": [
    {
     "data": {
      "text/plain": "   Sample ID  Parallel        Date      Time  P atm [hPa]   \n0        GT1         1  2023-04-19  14:42:00       1023.1  \\\n1        GT1         1  2023-04-24  10:20:00       1002.3   \n2        GT1         1  2023-04-24  11:25:00       1003.3   \n3        GT1         1  2023-04-26  08:52:00       1017.0   \n4        GT1         1  2023-04-26  09:53:00       1017.2   \n5        GT1         1  2023-04-28  09:45:00       1006.8   \n6        GT1         1  2023-04-28  09:46:00       1006.8   \n7        GT1         1  2023-05-01  13:50:00       1013.1   \n8        GT1         1  2023-05-01  14:49:00       1013.3   \n9        GT1         1  2023-05-04  09:26:00       1017.9   \n10       GT1         1  2023-05-04  10:46:00       1017.2   \n11       GT1         1  2023-05-08  08:40:00       1018.7   \n12       GT1         1  2023-05-08  09:47:00       1018.7   \n13       GT1         1  2023-05-10  09:35:00       1007.5   \n14       GT1         1  2023-05-10  10:40:00       1008.0   \n15       GT1         1  2023-05-12  09:09:00       1014.4   \n16       GT1         1  2023-05-12  10:10:00       1014.9   \n17       GT1         1  2023-05-15  09:30:00       1012.5   \n18       GT1         1  2023-05-15  10:38:00       1012.8   \n19       GT1         1  2023-05-17  08:52:00       1025.0   \n20       GT1         1  2023-05-17  09:57:00       1025.6   \n21       GT1         1  2023-05-22  14:11:00       1013.1   \n22       GT1         1  2023-05-22  15:08:00       1013.6   \n\n    P sample before gc [hPa]  P sample after gc [hPa]  CH4 [%]  CO2 [%]   \n0                     960.00                   958.10     0.00    0.030  \\\n1                     962.20                   959.80     0.25    2.410   \n2                    1104.60                  1085.80     0.00    0.740   \n3                     954.00                   951.00     0.03    2.720   \n4                    1120.80                  1105.60     0.00    0.630   \n5                    1029.20                  1025.80     0.00    4.520   \n6                    1117.44                  1111.45     0.00    0.538   \n7                    1042.70                  1039.90     0.00    5.740   \n8                    1114.60                  1110.60     0.00    0.780   \n9                    1050.60                  1046.60     0.00    5.340   \n10                   1122.10                  1119.10     0.00    0.500   \n11                   1037.50                  1035.20     0.00    6.980   \n12                   1123.20                  1120.30     0.00    0.570   \n13                   1073.00                  1070.60     0.00    4.770   \n14                   1112.40                  1109.90     0.00    0.400   \n15                   1068.80                  1066.20     0.00    3.700   \n16                   1118.60                  1115.30     0.00    0.410   \n17                   1068.20                  1061.90     0.00    4.430   \n18                   1117.10                  1113.50     0.00    0.420   \n19                   1088.60                  1086.70     0.00    3.020   \n20                   1129.00                  1125.80     0.00    0.290   \n21                   1074.80                  1072.50     0.00    7.080   \n22                   1112.00                  1108.60     0.00    0.640   \n\n    O2 [%]  ...  CO2_b_aq [mol/m3]  CO2_b_aq [mol]    PP CO2_a    \n0   21.900  ...           0.150624        0.000015    28.800000  \\\n1    1.590  ...          11.730204        0.001150  2242.868749   \n2   19.790  ...           4.388690        0.000430   839.137666   \n3    8.460  ...          13.102165        0.001284  2505.194053   \n4   20.510  ...           3.781796        0.000371   723.096774   \n5   11.770  ...          22.847100        0.002239  4368.470279   \n6   20.313  ...           3.251216        0.000319   621.647351   \n7    9.740  ...          31.682250        0.003105  6057.791498   \n8   20.500  ...           4.662052        0.000457   891.405721   \n9   12.970  ...          27.962801        0.002740  5346.615839   \n10  20.320  ...           3.044502        0.000298   582.122847   \n11   8.070  ...          37.730975        0.003698  7214.335525   \n12  20.110  ...           3.502481        0.000343   669.690377   \n13  15.790  ...          24.059175        0.002358  4600.224699   \n14  20.240  ...           2.427139        0.000238   464.080100   \n15  15.450  ...          20.070207        0.001967  3837.515769   \n16  20.260  ...           2.501422        0.000245   478.283450   \n17  15.520  ...          22.482757        0.002203  4298.806323   \n18  20.540  ...           2.524768        0.000247   482.747196   \n19  18.610  ...          15.726700        0.001541  3007.017287   \n20  20.550  ...           1.764404        0.000173   337.362184   \n21  12.540  ...          35.562617        0.003485  6799.735502   \n22  20.310  ...           3.857084        0.000378   737.492228   \n\n   CO2_a_aq [mol/m3]  CO2_a_aq [mol] CO2_dissolved_between_time_steps_aq   \n0           0.150624        0.000015                            0.000000  \\\n1          11.730204        0.001150                            0.001135   \n2           4.388690        0.000430                           -0.000719   \n3          13.102165        0.001284                            0.000854   \n4           3.781796        0.000371                           -0.000913   \n5          22.847100        0.002239                            0.001868   \n6           3.251216        0.000319                           -0.001920   \n7          31.682250        0.003105                            0.002786   \n8           4.662052        0.000457                           -0.002648   \n9          27.962801        0.002740                            0.002283   \n10          3.044502        0.000298                           -0.002442   \n11         37.730975        0.003698                            0.003399   \n12          3.502481        0.000343                           -0.003354   \n13         24.059175        0.002358                            0.002015   \n14          2.427139        0.000238                           -0.002120   \n15         20.070207        0.001967                            0.001729   \n16          2.501422        0.000245                           -0.001722   \n17         22.482757        0.002203                            0.001958   \n18          2.524768        0.000247                           -0.001956   \n19         15.726700        0.001541                            0.001294   \n20          1.764404        0.000173                           -0.001368   \n21         35.562617        0.003485                            0.003312   \n22          3.857084        0.000378                           -0.003107   \n\n    CO2_produced_aq_cum   DIC_cum  Ctot_DM [mg C/gDW]  Ratio O2/CO2  \n0              0.000000  0.001153            0.000000      0.000000  \n1              0.001135  0.089805            0.165167      3.838024  \n2              0.000415  0.033599                 NaN           NaN  \n3              0.001269  0.100308            0.228277      3.709538  \n4              0.000356  0.028953                 NaN           NaN  \n5              0.002224  0.174914            0.415467      1.411259  \n6              0.000304  0.024891                 NaN           NaN  \n7              0.003090  0.242555            0.650649      1.044771  \n8              0.000442  0.035692                 NaN           NaN  \n9              0.002726  0.214079            0.759497      1.010519  \n10             0.000284  0.023308                 NaN           NaN  \n11             0.003683  0.288863            1.038608      0.999863  \n12             0.000328  0.026815                 NaN           NaN  \n13             0.002343  0.184194            1.055056      0.922177  \n14             0.000223  0.018582                 NaN           NaN  \n15             0.001952  0.153655            1.128455      0.954334  \n16             0.000230  0.019151                 NaN           NaN  \n17             0.002189  0.172125            1.264644      0.967643  \n18             0.000233  0.019329                 NaN           NaN  \n19             0.001526  0.120401            1.290719      0.861429  \n20             0.000158  0.013508                 NaN           NaN  \n21             0.003470  0.272262            1.641657      0.793507  \n22             0.000363  0.029529                 NaN           NaN  \n\n[23 rows x 53 columns]",
      "text/html": "<div>\n<style scoped>\n    .dataframe tbody tr th:only-of-type {\n        vertical-align: middle;\n    }\n\n    .dataframe tbody tr th {\n        vertical-align: top;\n    }\n\n    .dataframe thead th {\n        text-align: right;\n    }\n</style>\n<table border=\"1\" class=\"dataframe\">\n  <thead>\n    <tr style=\"text-align: right;\">\n      <th></th>\n      <th>Sample ID</th>\n      <th>Parallel</th>\n      <th>Date</th>\n      <th>Time</th>\n      <th>P atm [hPa]</th>\n      <th>P sample before gc [hPa]</th>\n      <th>P sample after gc [hPa]</th>\n      <th>CH4 [%]</th>\n      <th>CO2 [%]</th>\n      <th>O2 [%]</th>\n      <th>...</th>\n      <th>CO2_b_aq [mol/m3]</th>\n      <th>CO2_b_aq [mol]</th>\n      <th>PP CO2_a</th>\n      <th>CO2_a_aq [mol/m3]</th>\n      <th>CO2_a_aq [mol]</th>\n      <th>CO2_dissolved_between_time_steps_aq</th>\n      <th>CO2_produced_aq_cum</th>\n      <th>DIC_cum</th>\n      <th>Ctot_DM [mg C/gDW]</th>\n      <th>Ratio O2/CO2</th>\n    </tr>\n  </thead>\n  <tbody>\n    <tr>\n      <th>0</th>\n      <td>GT1</td>\n      <td>1</td>\n      <td>2023-04-19</td>\n      <td>14:42:00</td>\n      <td>1023.1</td>\n      <td>960.00</td>\n      <td>958.10</td>\n      <td>0.00</td>\n      <td>0.030</td>\n      <td>21.900</td>\n      <td>...</td>\n      <td>0.150624</td>\n      <td>0.000015</td>\n      <td>28.800000</td>\n      <td>0.150624</td>\n      <td>0.000015</td>\n      <td>0.000000</td>\n      <td>0.000000</td>\n      <td>0.001153</td>\n      <td>0.000000</td>\n      <td>0.000000</td>\n    </tr>\n    <tr>\n      <th>1</th>\n      <td>GT1</td>\n      <td>1</td>\n      <td>2023-04-24</td>\n      <td>10:20:00</td>\n      <td>1002.3</td>\n      <td>962.20</td>\n      <td>959.80</td>\n      <td>0.25</td>\n      <td>2.410</td>\n      <td>1.590</td>\n      <td>...</td>\n      <td>11.730204</td>\n      <td>0.001150</td>\n      <td>2242.868749</td>\n      <td>11.730204</td>\n      <td>0.001150</td>\n      <td>0.001135</td>\n      <td>0.001135</td>\n      <td>0.089805</td>\n      <td>0.165167</td>\n      <td>3.838024</td>\n    </tr>\n    <tr>\n      <th>2</th>\n      <td>GT1</td>\n      <td>1</td>\n      <td>2023-04-24</td>\n      <td>11:25:00</td>\n      <td>1003.3</td>\n      <td>1104.60</td>\n      <td>1085.80</td>\n      <td>0.00</td>\n      <td>0.740</td>\n      <td>19.790</td>\n      <td>...</td>\n      <td>4.388690</td>\n      <td>0.000430</td>\n      <td>839.137666</td>\n      <td>4.388690</td>\n      <td>0.000430</td>\n      <td>-0.000719</td>\n      <td>0.000415</td>\n      <td>0.033599</td>\n      <td>NaN</td>\n      <td>NaN</td>\n    </tr>\n    <tr>\n      <th>3</th>\n      <td>GT1</td>\n      <td>1</td>\n      <td>2023-04-26</td>\n      <td>08:52:00</td>\n      <td>1017.0</td>\n      <td>954.00</td>\n      <td>951.00</td>\n      <td>0.03</td>\n      <td>2.720</td>\n      <td>8.460</td>\n      <td>...</td>\n      <td>13.102165</td>\n      <td>0.001284</td>\n      <td>2505.194053</td>\n      <td>13.102165</td>\n      <td>0.001284</td>\n      <td>0.000854</td>\n      <td>0.001269</td>\n      <td>0.100308</td>\n      <td>0.228277</td>\n      <td>3.709538</td>\n    </tr>\n    <tr>\n      <th>4</th>\n      <td>GT1</td>\n      <td>1</td>\n      <td>2023-04-26</td>\n      <td>09:53:00</td>\n      <td>1017.2</td>\n      <td>1120.80</td>\n      <td>1105.60</td>\n      <td>0.00</td>\n      <td>0.630</td>\n      <td>20.510</td>\n      <td>...</td>\n      <td>3.781796</td>\n      <td>0.000371</td>\n      <td>723.096774</td>\n      <td>3.781796</td>\n      <td>0.000371</td>\n      <td>-0.000913</td>\n      <td>0.000356</td>\n      <td>0.028953</td>\n      <td>NaN</td>\n      <td>NaN</td>\n    </tr>\n    <tr>\n      <th>5</th>\n      <td>GT1</td>\n      <td>1</td>\n      <td>2023-04-28</td>\n      <td>09:45:00</td>\n      <td>1006.8</td>\n      <td>1029.20</td>\n      <td>1025.80</td>\n      <td>0.00</td>\n      <td>4.520</td>\n      <td>11.770</td>\n      <td>...</td>\n      <td>22.847100</td>\n      <td>0.002239</td>\n      <td>4368.470279</td>\n      <td>22.847100</td>\n      <td>0.002239</td>\n      <td>0.001868</td>\n      <td>0.002224</td>\n      <td>0.174914</td>\n      <td>0.415467</td>\n      <td>1.411259</td>\n    </tr>\n    <tr>\n      <th>6</th>\n      <td>GT1</td>\n      <td>1</td>\n      <td>2023-04-28</td>\n      <td>09:46:00</td>\n      <td>1006.8</td>\n      <td>1117.44</td>\n      <td>1111.45</td>\n      <td>0.00</td>\n      <td>0.538</td>\n      <td>20.313</td>\n      <td>...</td>\n      <td>3.251216</td>\n      <td>0.000319</td>\n      <td>621.647351</td>\n      <td>3.251216</td>\n      <td>0.000319</td>\n      <td>-0.001920</td>\n      <td>0.000304</td>\n      <td>0.024891</td>\n      <td>NaN</td>\n      <td>NaN</td>\n    </tr>\n    <tr>\n      <th>7</th>\n      <td>GT1</td>\n      <td>1</td>\n      <td>2023-05-01</td>\n      <td>13:50:00</td>\n      <td>1013.1</td>\n      <td>1042.70</td>\n      <td>1039.90</td>\n      <td>0.00</td>\n      <td>5.740</td>\n      <td>9.740</td>\n      <td>...</td>\n      <td>31.682250</td>\n      <td>0.003105</td>\n      <td>6057.791498</td>\n      <td>31.682250</td>\n      <td>0.003105</td>\n      <td>0.002786</td>\n      <td>0.003090</td>\n      <td>0.242555</td>\n      <td>0.650649</td>\n      <td>1.044771</td>\n    </tr>\n    <tr>\n      <th>8</th>\n      <td>GT1</td>\n      <td>1</td>\n      <td>2023-05-01</td>\n      <td>14:49:00</td>\n      <td>1013.3</td>\n      <td>1114.60</td>\n      <td>1110.60</td>\n      <td>0.00</td>\n      <td>0.780</td>\n      <td>20.500</td>\n      <td>...</td>\n      <td>4.662052</td>\n      <td>0.000457</td>\n      <td>891.405721</td>\n      <td>4.662052</td>\n      <td>0.000457</td>\n      <td>-0.002648</td>\n      <td>0.000442</td>\n      <td>0.035692</td>\n      <td>NaN</td>\n      <td>NaN</td>\n    </tr>\n    <tr>\n      <th>9</th>\n      <td>GT1</td>\n      <td>1</td>\n      <td>2023-05-04</td>\n      <td>09:26:00</td>\n      <td>1017.9</td>\n      <td>1050.60</td>\n      <td>1046.60</td>\n      <td>0.00</td>\n      <td>5.340</td>\n      <td>12.970</td>\n      <td>...</td>\n      <td>27.962801</td>\n      <td>0.002740</td>\n      <td>5346.615839</td>\n      <td>27.962801</td>\n      <td>0.002740</td>\n      <td>0.002283</td>\n      <td>0.002726</td>\n      <td>0.214079</td>\n      <td>0.759497</td>\n      <td>1.010519</td>\n    </tr>\n    <tr>\n      <th>10</th>\n      <td>GT1</td>\n      <td>1</td>\n      <td>2023-05-04</td>\n      <td>10:46:00</td>\n      <td>1017.2</td>\n      <td>1122.10</td>\n      <td>1119.10</td>\n      <td>0.00</td>\n      <td>0.500</td>\n      <td>20.320</td>\n      <td>...</td>\n      <td>3.044502</td>\n      <td>0.000298</td>\n      <td>582.122847</td>\n      <td>3.044502</td>\n      <td>0.000298</td>\n      <td>-0.002442</td>\n      <td>0.000284</td>\n      <td>0.023308</td>\n      <td>NaN</td>\n      <td>NaN</td>\n    </tr>\n    <tr>\n      <th>11</th>\n      <td>GT1</td>\n      <td>1</td>\n      <td>2023-05-08</td>\n      <td>08:40:00</td>\n      <td>1018.7</td>\n      <td>1037.50</td>\n      <td>1035.20</td>\n      <td>0.00</td>\n      <td>6.980</td>\n      <td>8.070</td>\n      <td>...</td>\n      <td>37.730975</td>\n      <td>0.003698</td>\n      <td>7214.335525</td>\n      <td>37.730975</td>\n      <td>0.003698</td>\n      <td>0.003399</td>\n      <td>0.003683</td>\n      <td>0.288863</td>\n      <td>1.038608</td>\n      <td>0.999863</td>\n    </tr>\n    <tr>\n      <th>12</th>\n      <td>GT1</td>\n      <td>1</td>\n      <td>2023-05-08</td>\n      <td>09:47:00</td>\n      <td>1018.7</td>\n      <td>1123.20</td>\n      <td>1120.30</td>\n      <td>0.00</td>\n      <td>0.570</td>\n      <td>20.110</td>\n      <td>...</td>\n      <td>3.502481</td>\n      <td>0.000343</td>\n      <td>669.690377</td>\n      <td>3.502481</td>\n      <td>0.000343</td>\n      <td>-0.003354</td>\n      <td>0.000328</td>\n      <td>0.026815</td>\n      <td>NaN</td>\n      <td>NaN</td>\n    </tr>\n    <tr>\n      <th>13</th>\n      <td>GT1</td>\n      <td>1</td>\n      <td>2023-05-10</td>\n      <td>09:35:00</td>\n      <td>1007.5</td>\n      <td>1073.00</td>\n      <td>1070.60</td>\n      <td>0.00</td>\n      <td>4.770</td>\n      <td>15.790</td>\n      <td>...</td>\n      <td>24.059175</td>\n      <td>0.002358</td>\n      <td>4600.224699</td>\n      <td>24.059175</td>\n      <td>0.002358</td>\n      <td>0.002015</td>\n      <td>0.002343</td>\n      <td>0.184194</td>\n      <td>1.055056</td>\n      <td>0.922177</td>\n    </tr>\n    <tr>\n      <th>14</th>\n      <td>GT1</td>\n      <td>1</td>\n      <td>2023-05-10</td>\n      <td>10:40:00</td>\n      <td>1008.0</td>\n      <td>1112.40</td>\n      <td>1109.90</td>\n      <td>0.00</td>\n      <td>0.400</td>\n      <td>20.240</td>\n      <td>...</td>\n      <td>2.427139</td>\n      <td>0.000238</td>\n      <td>464.080100</td>\n      <td>2.427139</td>\n      <td>0.000238</td>\n      <td>-0.002120</td>\n      <td>0.000223</td>\n      <td>0.018582</td>\n      <td>NaN</td>\n      <td>NaN</td>\n    </tr>\n    <tr>\n      <th>15</th>\n      <td>GT1</td>\n      <td>1</td>\n      <td>2023-05-12</td>\n      <td>09:09:00</td>\n      <td>1014.4</td>\n      <td>1068.80</td>\n      <td>1066.20</td>\n      <td>0.00</td>\n      <td>3.700</td>\n      <td>15.450</td>\n      <td>...</td>\n      <td>20.070207</td>\n      <td>0.001967</td>\n      <td>3837.515769</td>\n      <td>20.070207</td>\n      <td>0.001967</td>\n      <td>0.001729</td>\n      <td>0.001952</td>\n      <td>0.153655</td>\n      <td>1.128455</td>\n      <td>0.954334</td>\n    </tr>\n    <tr>\n      <th>16</th>\n      <td>GT1</td>\n      <td>1</td>\n      <td>2023-05-12</td>\n      <td>10:10:00</td>\n      <td>1014.9</td>\n      <td>1118.60</td>\n      <td>1115.30</td>\n      <td>0.00</td>\n      <td>0.410</td>\n      <td>20.260</td>\n      <td>...</td>\n      <td>2.501422</td>\n      <td>0.000245</td>\n      <td>478.283450</td>\n      <td>2.501422</td>\n      <td>0.000245</td>\n      <td>-0.001722</td>\n      <td>0.000230</td>\n      <td>0.019151</td>\n      <td>NaN</td>\n      <td>NaN</td>\n    </tr>\n    <tr>\n      <th>17</th>\n      <td>GT1</td>\n      <td>1</td>\n      <td>2023-05-15</td>\n      <td>09:30:00</td>\n      <td>1012.5</td>\n      <td>1068.20</td>\n      <td>1061.90</td>\n      <td>0.00</td>\n      <td>4.430</td>\n      <td>15.520</td>\n      <td>...</td>\n      <td>22.482757</td>\n      <td>0.002203</td>\n      <td>4298.806323</td>\n      <td>22.482757</td>\n      <td>0.002203</td>\n      <td>0.001958</td>\n      <td>0.002189</td>\n      <td>0.172125</td>\n      <td>1.264644</td>\n      <td>0.967643</td>\n    </tr>\n    <tr>\n      <th>18</th>\n      <td>GT1</td>\n      <td>1</td>\n      <td>2023-05-15</td>\n      <td>10:38:00</td>\n      <td>1012.8</td>\n      <td>1117.10</td>\n      <td>1113.50</td>\n      <td>0.00</td>\n      <td>0.420</td>\n      <td>20.540</td>\n      <td>...</td>\n      <td>2.524768</td>\n      <td>0.000247</td>\n      <td>482.747196</td>\n      <td>2.524768</td>\n      <td>0.000247</td>\n      <td>-0.001956</td>\n      <td>0.000233</td>\n      <td>0.019329</td>\n      <td>NaN</td>\n      <td>NaN</td>\n    </tr>\n    <tr>\n      <th>19</th>\n      <td>GT1</td>\n      <td>1</td>\n      <td>2023-05-17</td>\n      <td>08:52:00</td>\n      <td>1025.0</td>\n      <td>1088.60</td>\n      <td>1086.70</td>\n      <td>0.00</td>\n      <td>3.020</td>\n      <td>18.610</td>\n      <td>...</td>\n      <td>15.726700</td>\n      <td>0.001541</td>\n      <td>3007.017287</td>\n      <td>15.726700</td>\n      <td>0.001541</td>\n      <td>0.001294</td>\n      <td>0.001526</td>\n      <td>0.120401</td>\n      <td>1.290719</td>\n      <td>0.861429</td>\n    </tr>\n    <tr>\n      <th>20</th>\n      <td>GT1</td>\n      <td>1</td>\n      <td>2023-05-17</td>\n      <td>09:57:00</td>\n      <td>1025.6</td>\n      <td>1129.00</td>\n      <td>1125.80</td>\n      <td>0.00</td>\n      <td>0.290</td>\n      <td>20.550</td>\n      <td>...</td>\n      <td>1.764404</td>\n      <td>0.000173</td>\n      <td>337.362184</td>\n      <td>1.764404</td>\n      <td>0.000173</td>\n      <td>-0.001368</td>\n      <td>0.000158</td>\n      <td>0.013508</td>\n      <td>NaN</td>\n      <td>NaN</td>\n    </tr>\n    <tr>\n      <th>21</th>\n      <td>GT1</td>\n      <td>1</td>\n      <td>2023-05-22</td>\n      <td>14:11:00</td>\n      <td>1013.1</td>\n      <td>1074.80</td>\n      <td>1072.50</td>\n      <td>0.00</td>\n      <td>7.080</td>\n      <td>12.540</td>\n      <td>...</td>\n      <td>35.562617</td>\n      <td>0.003485</td>\n      <td>6799.735502</td>\n      <td>35.562617</td>\n      <td>0.003485</td>\n      <td>0.003312</td>\n      <td>0.003470</td>\n      <td>0.272262</td>\n      <td>1.641657</td>\n      <td>0.793507</td>\n    </tr>\n    <tr>\n      <th>22</th>\n      <td>GT1</td>\n      <td>1</td>\n      <td>2023-05-22</td>\n      <td>15:08:00</td>\n      <td>1013.6</td>\n      <td>1112.00</td>\n      <td>1108.60</td>\n      <td>0.00</td>\n      <td>0.640</td>\n      <td>20.310</td>\n      <td>...</td>\n      <td>3.857084</td>\n      <td>0.000378</td>\n      <td>737.492228</td>\n      <td>3.857084</td>\n      <td>0.000378</td>\n      <td>-0.003107</td>\n      <td>0.000363</td>\n      <td>0.029529</td>\n      <td>NaN</td>\n      <td>NaN</td>\n    </tr>\n  </tbody>\n</table>\n<p>23 rows × 53 columns</p>\n</div>"
     },
     "metadata": {},
     "output_type": "display_data"
    }
   ],
   "source": [
    "sheet_tab_name = \"GT1.1\"\n",
    "\n",
    "\n",
    "dict_data_frames = manager.get_dict_panda_data_frames()\n",
    "display(dict_data_frames[sheet_tab_name])\n",
    "# Set the display options\n",
    "pd.set_option('display.max_rows', None)  # Display all rows\n",
    "pd.set_option('display.max_columns', None)  # Display all columns\n",
    "pd.set_option('display.width', None)  # Automatically adjust the column width to fit the contents"
   ],
   "metadata": {
    "collapsed": false,
    "ExecuteTime": {
     "end_time": "2023-07-02T08:25:58.307094300Z",
     "start_time": "2023-07-02T08:25:58.245565700Z"
    }
   }
  },
  {
   "cell_type": "markdown",
   "source": [
    "# OVERWRITING the excel file. Did you made a copy before?"
   ],
   "metadata": {
    "collapsed": false
   }
  },
  {
   "cell_type": "code",
   "execution_count": 9,
   "outputs": [],
   "source": [
    "# for sheet_name in sheet_names_samples:\n",
    "#  # replace the table (overwrite) in the Excel file.\n",
    "#     data_frame = manager.get_dict_panda_data_frames()[sheet_name]\n",
    "#     manager.replace_table_in_specific_sheet_with_data_frame(excel_file_path=path_input_excel,\n",
    "#                                                             sheet_name=sheet_name,\n",
    "#                                                             start_row=13,\n",
    "#                                                             data_frame=data_frame,\n",
    "#                                                             header=False\n",
    "#                                                             )\n",
    "#     print(f\"replaced table in Excel for {sheet_name}\")"
   ],
   "metadata": {
    "collapsed": false,
    "ExecuteTime": {
     "end_time": "2023-07-02T08:25:58.341516700Z",
     "start_time": "2023-07-02T08:25:58.308074400Z"
    }
   }
  },
  {
   "cell_type": "code",
   "execution_count": 9,
   "outputs": [],
   "source": [],
   "metadata": {
    "collapsed": false,
    "ExecuteTime": {
     "end_time": "2023-07-02T08:25:58.343510Z",
     "start_time": "2023-07-02T08:25:58.327553100Z"
    }
   }
  }
 ],
 "metadata": {
  "kernelspec": {
   "display_name": "Python 3",
   "language": "python",
   "name": "python3"
  },
  "language_info": {
   "codemirror_mode": {
    "name": "ipython",
    "version": 2
   },
   "file_extension": ".py",
   "mimetype": "text/x-python",
   "name": "python",
   "nbconvert_exporter": "python",
   "pygments_lexer": "ipython2",
   "version": "2.7.6"
  }
 },
 "nbformat": 4,
 "nbformat_minor": 0
}
