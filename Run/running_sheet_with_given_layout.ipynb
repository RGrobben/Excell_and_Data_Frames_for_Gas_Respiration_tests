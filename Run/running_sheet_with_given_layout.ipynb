{
 "cells": [
  {
   "cell_type": "code",
   "execution_count": 1,
   "metadata": {
    "collapsed": true,
    "ExecuteTime": {
     "end_time": "2023-06-12T10:35:13.240568700Z",
     "start_time": "2023-06-12T10:35:01.998008600Z"
    }
   },
   "outputs": [
    {
     "name": "stdout",
     "output_type": "stream",
     "text": [
      "Unexpected exception formatting exception. Falling back to standard exception\n"
     ]
    }
   ],
   "source": [
    "import pandas as pd\n",
    "from excel_manager import ExcelManager\n",
    "from run_data_frame_calculations import RunDataFrameCalculationsForOneDataFrame\n"
   ]
  },
  {
   "cell_type": "markdown",
   "source": [
    "# Make a COPY before you run the script"
   ],
   "metadata": {
    "collapsed": false
   }
  },
  {
   "cell_type": "markdown",
   "source": [],
   "metadata": {
    "collapsed": false
   }
  },
  {
   "cell_type": "code",
   "execution_count": null,
   "outputs": [],
   "source": [
    "path_input_excel = r\"C:\\Users\\robbe\\Downloads\\python\\given layout sheet\\given_layout_sheet_01.xlsx\"\n",
    "\n",
    "#make instance of excel manger\n",
    "manager = ExcelManager(path_input_excel)\n",
    "\n",
    "# load the workbook in\n",
    "manager.load_workbook()"
   ],
   "metadata": {
    "collapsed": false,
    "is_executing": true
   }
  },
  {
   "cell_type": "markdown",
   "source": [
    "### You can see the sheet names"
   ],
   "metadata": {
    "collapsed": false
   }
  },
  {
   "cell_type": "code",
   "execution_count": null,
   "outputs": [],
   "source": [
    "# check the sheet names\n",
    "sheet_names = manager.get_sheet_names()\n",
    "print(sheet_names)"
   ],
   "metadata": {
    "collapsed": false,
    "is_executing": true
   }
  },
  {
   "cell_type": "markdown",
   "source": [
    "#### input names of table if needed"
   ],
   "metadata": {
    "collapsed": false
   }
  },
  {
   "cell_type": "code",
   "execution_count": null,
   "outputs": [],
   "source": [
    "# column_names = ['Sample ID', 'Parallel', 'Date', 'Time', 'P atm', 'P sample before gc', 'P sample after gc', 'CH4', 'CO2', 'O2', 'N2', 'Flush (1=yes; 0=no)', 'Comments', 'GC method', 'Weight', 'Date + Time', 'Day', 'Sum', 'CH4-corr', 'CO2-corr', 'O2-corr', 'N2-corr', 'Sum-corr', 'mg_bs', 'mCO2_b', 'mCH4_b', 'mO2_b', 'mN2_b', 'mCTot_b', 'mg_as', 'mCO2_a', 'mCH4_a', 'mO2_a', 'mN2_a', 'mCTot_a', 'mCTot_produced', 'O2 consumed', 'CO2 produced', 'O2 consumed_cum', 'CO2 produced_cum', 'mCTot_produced_cum', 'Cgas_DM_cum', 'PP CO2_b', 'CO2_aq [mol/m3]', 'CO2_aq [mol]', 'CO2_produced_aq', 'DIC_cum', 'Ctot_DM', 'Ratio O2/CO2']\n",
    "#\n",
    "basic_column_names = ['Sample ID', 'Parallel', 'Date', 'Time', 'P atm [hPa]', 'P sample before gc [hPa]', 'P sample after gc [hPa]', 'CH4 [%]', 'CO2 [%]', 'O2 [%]', 'N2 [%]', 'Flush (1=yes; 0=no)', 'Comments', 'GC method', 'Weight [g]']\n",
    "\n"
   ],
   "metadata": {
    "collapsed": false,
    "is_executing": true
   }
  },
  {
   "cell_type": "markdown",
   "source": [
    "##### you can check if the sheets are in the instance of the excell manager class."
   ],
   "metadata": {
    "collapsed": false
   }
  },
  {
   "cell_type": "code",
   "execution_count": null,
   "outputs": [],
   "source": [
    "# check if you can see the data_frame\n",
    "full_sheet = manager.load_sheet_table(sheet_name=\"GT1.1\", start_row=9)\n",
    "\n",
    "display(full_sheet)\n",
    "print(f' As you can see now the full sheet is shown')"
   ],
   "metadata": {
    "collapsed": false,
    "is_executing": true
   }
  },
  {
   "cell_type": "markdown",
   "source": [
    "### Filling th dictionary for the constants of the samples  in the instance of hte excel manager class"
   ],
   "metadata": {
    "collapsed": false
   }
  },
  {
   "cell_type": "code",
   "execution_count": null,
   "outputs": [],
   "source": [
    "# fil in the dict with constants for the samples\n",
    "sheet_names_samples = manager.get_sheet_names()\n",
    "for sheet_name in sheet_names_samples:\n",
    "    # loading the panda data frame for the sample\n",
    "    constants_data_frame = manager.load_constants_as_data_frame(sheet_name=sheet_name, start_row=1, end_row=7, start_col=3)\n",
    "\n",
    "    constants_data_class = manager.load_constants_as_data_class(sheet_name=sheet_name, start_row=1, end_row=7, start_col=3)\n",
    "\n",
    "    # fill the dictionary\n",
    "    manager.fill_dict_constants_data_frames(data_frame=constants_data_frame, sheets=[sheet_name])\n",
    "\n",
    "    manager.fill_dict_constants_data_classes(data_class=constants_data_class, sheets=[sheet_name])\n",
    "\n",
    "    print(f\"loading {sheet_name} is done\")\n",
    "\n",
    "dict_constants = manager.get_dict_constants_data_frames()\n",
    "dict_constants_data_classes = manager.get_dict_constants_data_classes()"
   ],
   "metadata": {
    "collapsed": false,
    "is_executing": true
   }
  },
  {
   "cell_type": "markdown",
   "source": [
    "#### running all the calculations for each data frame (sammple)"
   ],
   "metadata": {
    "collapsed": false
   }
  },
  {
   "cell_type": "code",
   "execution_count": null,
   "outputs": [],
   "source": [
    "from nice_functions import NiceExcelFunction\n",
    "\n",
    "# Now all the data frames are read in, calculated and returned in to the excell_file\n",
    "sheet_names_samples = sheet_names[1:]\n",
    "for sheet_name in sheet_names_samples:\n",
    "    print(f\"started with sheet: {sheet_name}\")\n",
    "    # loading the data frame\n",
    "    column_end = NiceExcelFunction.get_column_index_from_letter(column_letter=\"O\")\n",
    "    data_frame = manager.load_sheet_table_with_input_header(sheet_name=sheet_name, column_names=basic_column_names, start_row=13, end_column=column_end)\n",
    "\n",
    "    # loading the data class with the constants for the sample\n",
    "    constants_data_class = dict_constants_data_classes[sheet_name]\n",
    "\n",
    "    # adding date and do the gas composition corrections.\n",
    "    RunDataFrameCalculationsForOneDataFrame(data_frame=data_frame).run_data_frame_processor_calculations()\n",
    "    RunDataFrameCalculationsForOneDataFrame(data_frame=data_frame).run_gas_composition_calculations()\n",
    "\n",
    "    # calculations for moles before and after sampling\n",
    "    RunDataFrameCalculationsForOneDataFrame(data_frame=data_frame).run_mol_gases_before_and_after_sampling(Rgas=constants_data_class.Rgas,\n",
    "                                                                                                           exp_temperature=constants_data_class.expTemp,\n",
    "                                                                                                           volume_headspace=constants_data_class.volume_headspace)\n",
    "\n",
    "    # correcting the mg_bs for the first measurement\n",
    "    data_frame.loc[0, \"mg_as\"] = data_frame.loc[0, \"mg_bs\"]\n",
    "\n",
    "    # run mol gas composition\n",
    "    RunDataFrameCalculationsForOneDataFrame(data_frame=data_frame).run_mol_gas_composition_calculation()\n",
    "    # run moles produced\n",
    "    RunDataFrameCalculationsForOneDataFrame(data_frame=data_frame).run_moles_produced()\n",
    "    # run cumulative calculations carbon in gas phase\n",
    "    RunDataFrameCalculationsForOneDataFrame(data_frame=data_frame).run_cumulative_production_in_the_gas_phase(molar_mass_carbon=constants_data_class.molar_mass_carbon,\n",
    "                                                                                                              dry_mass_sample=constants_data_class.dry_mass_sample)\n",
    "\n",
    "    # run calculation carbon in the aqueous phase\n",
    "    RunDataFrameCalculationsForOneDataFrame(data_frame=data_frame).run_carbon_in_aqueous_phase(water_volume_in_liters=constants_data_class.water_volume,\n",
    "                                                                                    dry_mass_sample=constants_data_class.dry_mass_sample)\n",
    "\n",
    "    # run results interpretations\n",
    "    RunDataFrameCalculationsForOneDataFrame(data_frame=data_frame).run_results_Interpretations()\n",
    "\n",
    "    # print to see the process\n",
    "    print(f\"finished calculations {sheet_name}\")\n",
    "\n",
    "    # overwrite the old data frame or fill with the new data frame which has calculations\n",
    "    manager.fill_dict_panda_data_frames(data_frame=data_frame, sheets=[sheet_name])\n",
    "\n",
    "    # print to see the process\n",
    "    print(f\"filled dictionary for {sheet_name}\")"
   ],
   "metadata": {
    "collapsed": false,
    "is_executing": true
   }
  },
  {
   "cell_type": "markdown",
   "source": [
    "#### you can see the data frame below. Please fill the name of the tab below:"
   ],
   "metadata": {
    "collapsed": false
   }
  },
  {
   "cell_type": "code",
   "execution_count": null,
   "outputs": [],
   "source": [
    "sheet_tab_name = \"GT1.1\"\n",
    "\n",
    "\n",
    "dict_data_frames = manager.get_dict_panda_data_frames()\n",
    "display(dict_data_frames[sheet_tab_name])\n",
    "# Set the display options\n",
    "pd.set_option('display.max_rows', None)  # Display all rows\n",
    "pd.set_option('display.max_columns', None)  # Display all columns\n",
    "pd.set_option('display.width', None)  # Automatically adjust the column width to fit the contents"
   ],
   "metadata": {
    "collapsed": false,
    "is_executing": true
   }
  },
  {
   "cell_type": "markdown",
   "source": [
    "# OVERWRITING the excel file. Do you made a copy before?"
   ],
   "metadata": {
    "collapsed": false
   }
  },
  {
   "cell_type": "code",
   "execution_count": null,
   "outputs": [],
   "source": [
    "# for sheet_name in sheet_names_samples:\n",
    "#  # replace the table (overwrite) in the Excel file.\n",
    "#     data_frame = manager.get_dict_panda_data_frames()[sheet_name]\n",
    "#     manager.replace_table_in_specific_sheet_with_data_frame(excel_file_path=path_input_excel,\n",
    "#                                                             sheet_name=sheet_name,\n",
    "#                                                             start_row=13,\n",
    "#                                                             data_frame=data_frame,\n",
    "#                                                             header=False\n",
    "#                                                             )\n",
    "#     print(f\"replaced table in Excel for {sheet_name}\")"
   ],
   "metadata": {
    "collapsed": false,
    "is_executing": true
   }
  },
  {
   "cell_type": "code",
   "execution_count": null,
   "outputs": [],
   "source": [],
   "metadata": {
    "collapsed": false,
    "is_executing": true
   }
  }
 ],
 "metadata": {
  "kernelspec": {
   "display_name": "Python 3",
   "language": "python",
   "name": "python3"
  },
  "language_info": {
   "codemirror_mode": {
    "name": "ipython",
    "version": 2
   },
   "file_extension": ".py",
   "mimetype": "text/x-python",
   "name": "python",
   "nbconvert_exporter": "python",
   "pygments_lexer": "ipython2",
   "version": "2.7.6"
  }
 },
 "nbformat": 4,
 "nbformat_minor": 0
}
