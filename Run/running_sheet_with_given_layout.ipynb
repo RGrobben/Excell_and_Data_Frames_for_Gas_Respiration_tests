{
 "cells": [
  {
   "cell_type": "code",
   "execution_count": 1,
   "metadata": {
    "collapsed": true,
    "ExecuteTime": {
     "end_time": "2023-06-08T13:23:42.586927100Z",
     "start_time": "2023-06-08T13:23:42.023858600Z"
    }
   },
   "outputs": [],
   "source": [
    "import pandas as pd\n",
    "from excel_manager import ExcelManager\n",
    "from run_data_frame_calculations import RunDataFrameCalculationsForOneDataFrame\n"
   ]
  },
  {
   "cell_type": "markdown",
   "source": [
    "# Make a COPY before you run the script"
   ],
   "metadata": {
    "collapsed": false
   }
  },
  {
   "cell_type": "markdown",
   "source": [],
   "metadata": {
    "collapsed": false
   }
  },
  {
   "cell_type": "code",
   "execution_count": 2,
   "outputs": [],
   "source": [
    "path_input_excel = r\"C:\\Users\\robbe\\Downloads\\python\\given layout sheet\\given_layout_sheet_01.xlsx\"\n",
    "\n",
    "#make instance of excel manger\n",
    "manager = ExcelManager(path_input_excel)\n",
    "\n",
    "# load the workbook in\n",
    "manager.load_workbook()"
   ],
   "metadata": {
    "collapsed": false,
    "ExecuteTime": {
     "end_time": "2023-06-08T13:23:44.201242500Z",
     "start_time": "2023-06-08T13:23:42.588946700Z"
    }
   }
  },
  {
   "cell_type": "markdown",
   "source": [
    "### You can see the sheet names"
   ],
   "metadata": {
    "collapsed": false
   }
  },
  {
   "cell_type": "code",
   "execution_count": 3,
   "outputs": [
    {
     "name": "stdout",
     "output_type": "stream",
     "text": [
      "['Notes', 'GT1.1', 'GT1.2', 'GT2.1', 'GT2.2', 'GT3.1', 'GT3.2', 'GT4.1', 'GT4.2', 'GT5.1', 'GT5.2', 'GT6.1', 'GT6.2', 'GT7.1', 'GT7.2', 'GT8.1', 'GT8.2']\n"
     ]
    }
   ],
   "source": [
    "# check the sheet names\n",
    "sheet_names = manager.get_sheet_names()\n",
    "print(sheet_names)"
   ],
   "metadata": {
    "collapsed": false,
    "ExecuteTime": {
     "end_time": "2023-06-08T13:23:44.216972200Z",
     "start_time": "2023-06-08T13:23:44.204202500Z"
    }
   }
  },
  {
   "cell_type": "markdown",
   "source": [
    "#### input names of table if needed"
   ],
   "metadata": {
    "collapsed": false
   }
  },
  {
   "cell_type": "code",
   "execution_count": 4,
   "outputs": [],
   "source": [
    "# column_names = ['Sample ID', 'Parallel', 'Date', 'Time', 'P atm', 'P sample before gc', 'P sample after gc', 'CH4', 'CO2', 'O2', 'N2', 'Flush (1=yes; 0=no)', 'Comments', 'GC method', 'Weight', 'Date + Time', 'Day', 'Sum', 'CH4-corr', 'CO2-corr', 'O2-corr', 'N2-corr', 'Sum-corr', 'mg_bs', 'mCO2_b', 'mCH4_b', 'mO2_b', 'mN2_b', 'mCTot_b', 'mg_as', 'mCO2_a', 'mCH4_a', 'mO2_a', 'mN2_a', 'mCTot_a', 'mCTot_produced', 'O2 consumed', 'CO2 produced', 'O2 consumed_cum', 'CO2 produced_cum', 'mCTot_produced_cum', 'Cgas_DM_cum', 'PP CO2_b', 'CO2_aq [mol/m3]', 'CO2_aq [mol]', 'CO2_produced_aq', 'DIC_cum', 'Ctot_DM', 'Ratio O2/CO2']\n",
    "#\n",
    "basic_column_names = ['Sample ID', 'Parallel', 'Date', 'Time', 'P atm [hPa]', 'P sample before gc [hPa]', 'P sample after gc [hPa]', 'CH4 [%]', 'CO2 [%]', 'O2 [%]', 'N2 [%]', 'Flush (1=yes; 0=no)', 'Comments', 'GC method', 'Weight [g]']\n",
    "\n"
   ],
   "metadata": {
    "collapsed": false,
    "ExecuteTime": {
     "end_time": "2023-06-08T13:23:44.262472700Z",
     "start_time": "2023-06-08T13:23:44.218953800Z"
    }
   }
  },
  {
   "cell_type": "markdown",
   "source": [
    "##### you can check if the sheets are in the instance of the excell manager class."
   ],
   "metadata": {
    "collapsed": false
   }
  },
  {
   "cell_type": "code",
   "execution_count": 5,
   "outputs": [
    {
     "data": {
      "text/plain": "     Raw data      None        None      None    None                None   \n0        None      None        None      None    None                None  \\\n1   Sample ID  Parallel        Date      Time   P atm  P sample before gc   \n2        None      None        None      None     hPa                 hPa   \n3         GT1         1  2023-04-19  14:42:00  1023.1                 960   \n4         GT1         1  2023-04-24  10:20:00  1002.3               962.2   \n5         GT1         1  2023-04-24  11:25:00  1003.3              1104.6   \n6         GT1         1  2023-04-26  08:52:00    1017                 954   \n7         GT1         1  2023-04-26  09:53:00  1017.2              1120.8   \n8         GT1         1  2023-04-28  09:45:00  1006.8              1029.2   \n9         GT1         1  2023-05-01  13:50:00  1013.1              1042.7   \n10        GT1         1  2023-05-01  14:49:00  1013.3              1114.6   \n11        GT1         1  2023-05-04  09:26:00  1017.9              1050.6   \n12        GT1         1  2023-05-04  10:46:00  1017.2              1122.1   \n13        GT1         1  2023-05-08  08:40:00  1018.7              1037.5   \n14        GT1         1  2023-05-08  09:47:00  1018.7              1123.2   \n15        GT1         1  2023-05-10  09:35:00  1007.5                1073   \n16        GT1         1  2023-05-10  10:40:00    1008              1112.4   \n17        GT1         1  2023-05-12  09:09:00  1014.4              1068.8   \n18        GT1         1  2023-05-12  10:10:00  1014.9              1118.6   \n19        GT1         1  2023-05-15  09:30:00  1012.5              1068.2   \n20        GT1         1  2023-05-15  10:38:00  1012.8              1117.1   \n21        GT1         1  2023-05-17  08:52:00    1025              1088.6   \n22        GT1         1  2023-05-17  09:57:00  1025.6                1129   \n23        GT1         1  2023-05-22  14:11:00  1013.1              1074.8   \n24        GT1         1  2023-05-22  15:08:00  1013.6                1112   \n25       None      None        None      None    None                None   \n\n                 None  None  None   None  ...                None   \n0                None  None  None   None  ...                None  \\\n1   P sample after gc   CH4   CO2     O2  ...  CO2 produced_ cum    \n2                 hPa     %     %      %  ...               mol     \n3               958.1     0  0.03   21.9  ...                   0   \n4               959.8  0.25  2.41   1.59  ...            0.000873   \n5              1085.8     0  0.74  19.79  ...                None   \n6                 951  0.03  2.72   8.46  ...            0.001535   \n7              1105.6     0  0.63  20.51  ...                None   \n8              1025.8     0  4.52  11.77  ...            0.002977   \n9              1039.9     0  5.74   9.74  ...            0.003648   \n10             1110.6     0  0.78   20.5  ...                None   \n11             1046.6     0  5.34  12.97  ...            0.005406   \n12             1119.1     0   0.5  20.32  ...                None   \n13             1035.2     0  6.98   8.07  ...            0.008022   \n14             1120.3     0  0.57  20.11  ...                None   \n15             1070.6     0  4.77  15.79  ...            0.009572   \n16             1109.9     0   0.4  20.24  ...                None   \n17             1066.2     0   3.7  15.45  ...            0.010903   \n18             1115.3     0  0.41  20.26  ...                None   \n19             1061.9     0  4.43  15.52  ...            0.012409   \n20             1113.5     0  0.42  20.54  ...                None   \n21             1086.7     0  3.02  18.61  ...            0.013405   \n22             1125.8     0  0.29  20.55  ...                None   \n23             1072.5     0  7.08  12.54  ...            0.015954   \n24             1108.6     0  0.64  20.31  ...                None   \n25               None  None  None   None  ...                None   \n\n                  None          None                    None       None   \n0                 None          None  C in the aqueous phase       None  \\\n1   mCTot_produced_cum  Cgas_DM_cum                PP CO2_b     CO2_aq    \n2                mol        mg C/gDW                      Pa     mol/m3   \n3                    0             0                    28.8   0.150624   \n4             0.000965      0.075362             2242.868749  11.730204   \n5                 None          None              839.137666    4.38869   \n6             0.001638      0.127969             2505.194053  13.102165   \n7                 None          None              723.096774   3.781796   \n8             0.003079      0.240552             4368.470279    22.8471   \n9             0.003751       0.29303             6057.791498   31.68225   \n10                None          None              891.405721   4.662052   \n11            0.005509      0.430353             5346.615839  27.962801   \n12                None          None              582.122847   3.044502   \n13            0.008124       0.63468             7214.335525  37.730975   \n14                None          None              669.690377   3.502481   \n15            0.009675      0.755798             4600.224699  24.059175   \n16                None          None                464.0801   2.427139   \n17            0.011005      0.859736             3837.515769  20.070207   \n18                None          None               478.28345   2.501422   \n19            0.012512      0.977455             4298.806323  22.482757   \n20                None          None              482.747196   2.524768   \n21            0.013508      1.055253             3007.017287    15.7267   \n22                None          None              337.362184   1.764404   \n23            0.016056      1.254331             6799.735502  35.562617   \n24                None          None              737.492228   3.857084   \n25                None          None                    None       None   \n\n        None              None      None      None          None  \n0       None              None      None      None          None  \n1    CO2_aq   CO2_produced_aq    DIC_cum  Ctot_DM   Ratio O2/CO2  \n2        mol               mol  mg C/gDW  mg C/gDW             -  \n3   0.000015                 0  0.001153         0             0  \n4    0.00115          0.001135  0.088652  0.164014      3.838024  \n5    0.00043         -0.000719  0.032446      None          None  \n6   0.001284          0.000854  0.099155  0.227124      3.709538  \n7   0.000371         -0.000913    0.0278      None          None  \n8   0.002239          0.001868  0.173761  0.414314      1.411259  \n9   0.003105          0.000866  0.241402  0.534432      0.271447  \n10  0.000457         -0.002648  0.034539      None          None  \n11   0.00274          0.002283  0.212926   0.64328      1.010519  \n12  0.000298         -0.002442  0.022155      None          None  \n13  0.003698          0.003399   0.28771   0.92239      0.999863  \n14  0.000343         -0.003354  0.025661      None          None  \n15  0.002358          0.002015  0.183041  0.938839      0.922177  \n16  0.000238          -0.00212  0.017429      None          None  \n17  0.001967          0.001729  0.152502  1.012237      0.954334  \n18  0.000245         -0.001722  0.017997      None          None  \n19  0.002203          0.001958  0.170972  1.148427      0.967643  \n20  0.000247         -0.001956  0.018176      None          None  \n21  0.001541          0.001294  0.119248  1.174502      0.861429  \n22  0.000173         -0.001368  0.012355      None          None  \n23  0.003485          0.003312  0.271109   1.52544      0.793507  \n24  0.000378         -0.003107  0.028376      None          None  \n25      None              None      None      None          None  \n\n[26 rows x 49 columns]",
      "text/html": "<div>\n<style scoped>\n    .dataframe tbody tr th:only-of-type {\n        vertical-align: middle;\n    }\n\n    .dataframe tbody tr th {\n        vertical-align: top;\n    }\n\n    .dataframe thead th {\n        text-align: right;\n    }\n</style>\n<table border=\"1\" class=\"dataframe\">\n  <thead>\n    <tr style=\"text-align: right;\">\n      <th></th>\n      <th>Raw data</th>\n      <th>None</th>\n      <th>None</th>\n      <th>None</th>\n      <th>None</th>\n      <th>None</th>\n      <th>None</th>\n      <th>None</th>\n      <th>None</th>\n      <th>None</th>\n      <th>...</th>\n      <th>None</th>\n      <th>None</th>\n      <th>None</th>\n      <th>None</th>\n      <th>None</th>\n      <th>None</th>\n      <th>None</th>\n      <th>None</th>\n      <th>None</th>\n      <th>None</th>\n    </tr>\n  </thead>\n  <tbody>\n    <tr>\n      <th>0</th>\n      <td>None</td>\n      <td>None</td>\n      <td>None</td>\n      <td>None</td>\n      <td>None</td>\n      <td>None</td>\n      <td>None</td>\n      <td>None</td>\n      <td>None</td>\n      <td>None</td>\n      <td>...</td>\n      <td>None</td>\n      <td>None</td>\n      <td>None</td>\n      <td>C in the aqueous phase</td>\n      <td>None</td>\n      <td>None</td>\n      <td>None</td>\n      <td>None</td>\n      <td>None</td>\n      <td>None</td>\n    </tr>\n    <tr>\n      <th>1</th>\n      <td>Sample ID</td>\n      <td>Parallel</td>\n      <td>Date</td>\n      <td>Time</td>\n      <td>P atm</td>\n      <td>P sample before gc</td>\n      <td>P sample after gc</td>\n      <td>CH4</td>\n      <td>CO2</td>\n      <td>O2</td>\n      <td>...</td>\n      <td>CO2 produced_ cum</td>\n      <td>mCTot_produced_cum</td>\n      <td>Cgas_DM_cum</td>\n      <td>PP CO2_b</td>\n      <td>CO2_aq</td>\n      <td>CO2_aq</td>\n      <td>CO2_produced_aq</td>\n      <td>DIC_cum</td>\n      <td>Ctot_DM</td>\n      <td>Ratio O2/CO2</td>\n    </tr>\n    <tr>\n      <th>2</th>\n      <td>None</td>\n      <td>None</td>\n      <td>None</td>\n      <td>None</td>\n      <td>hPa</td>\n      <td>hPa</td>\n      <td>hPa</td>\n      <td>%</td>\n      <td>%</td>\n      <td>%</td>\n      <td>...</td>\n      <td>mol</td>\n      <td>mol</td>\n      <td>mg C/gDW</td>\n      <td>Pa</td>\n      <td>mol/m3</td>\n      <td>mol</td>\n      <td>mol</td>\n      <td>mg C/gDW</td>\n      <td>mg C/gDW</td>\n      <td>-</td>\n    </tr>\n    <tr>\n      <th>3</th>\n      <td>GT1</td>\n      <td>1</td>\n      <td>2023-04-19</td>\n      <td>14:42:00</td>\n      <td>1023.1</td>\n      <td>960</td>\n      <td>958.1</td>\n      <td>0</td>\n      <td>0.03</td>\n      <td>21.9</td>\n      <td>...</td>\n      <td>0</td>\n      <td>0</td>\n      <td>0</td>\n      <td>28.8</td>\n      <td>0.150624</td>\n      <td>0.000015</td>\n      <td>0</td>\n      <td>0.001153</td>\n      <td>0</td>\n      <td>0</td>\n    </tr>\n    <tr>\n      <th>4</th>\n      <td>GT1</td>\n      <td>1</td>\n      <td>2023-04-24</td>\n      <td>10:20:00</td>\n      <td>1002.3</td>\n      <td>962.2</td>\n      <td>959.8</td>\n      <td>0.25</td>\n      <td>2.41</td>\n      <td>1.59</td>\n      <td>...</td>\n      <td>0.000873</td>\n      <td>0.000965</td>\n      <td>0.075362</td>\n      <td>2242.868749</td>\n      <td>11.730204</td>\n      <td>0.00115</td>\n      <td>0.001135</td>\n      <td>0.088652</td>\n      <td>0.164014</td>\n      <td>3.838024</td>\n    </tr>\n    <tr>\n      <th>5</th>\n      <td>GT1</td>\n      <td>1</td>\n      <td>2023-04-24</td>\n      <td>11:25:00</td>\n      <td>1003.3</td>\n      <td>1104.6</td>\n      <td>1085.8</td>\n      <td>0</td>\n      <td>0.74</td>\n      <td>19.79</td>\n      <td>...</td>\n      <td>None</td>\n      <td>None</td>\n      <td>None</td>\n      <td>839.137666</td>\n      <td>4.38869</td>\n      <td>0.00043</td>\n      <td>-0.000719</td>\n      <td>0.032446</td>\n      <td>None</td>\n      <td>None</td>\n    </tr>\n    <tr>\n      <th>6</th>\n      <td>GT1</td>\n      <td>1</td>\n      <td>2023-04-26</td>\n      <td>08:52:00</td>\n      <td>1017</td>\n      <td>954</td>\n      <td>951</td>\n      <td>0.03</td>\n      <td>2.72</td>\n      <td>8.46</td>\n      <td>...</td>\n      <td>0.001535</td>\n      <td>0.001638</td>\n      <td>0.127969</td>\n      <td>2505.194053</td>\n      <td>13.102165</td>\n      <td>0.001284</td>\n      <td>0.000854</td>\n      <td>0.099155</td>\n      <td>0.227124</td>\n      <td>3.709538</td>\n    </tr>\n    <tr>\n      <th>7</th>\n      <td>GT1</td>\n      <td>1</td>\n      <td>2023-04-26</td>\n      <td>09:53:00</td>\n      <td>1017.2</td>\n      <td>1120.8</td>\n      <td>1105.6</td>\n      <td>0</td>\n      <td>0.63</td>\n      <td>20.51</td>\n      <td>...</td>\n      <td>None</td>\n      <td>None</td>\n      <td>None</td>\n      <td>723.096774</td>\n      <td>3.781796</td>\n      <td>0.000371</td>\n      <td>-0.000913</td>\n      <td>0.0278</td>\n      <td>None</td>\n      <td>None</td>\n    </tr>\n    <tr>\n      <th>8</th>\n      <td>GT1</td>\n      <td>1</td>\n      <td>2023-04-28</td>\n      <td>09:45:00</td>\n      <td>1006.8</td>\n      <td>1029.2</td>\n      <td>1025.8</td>\n      <td>0</td>\n      <td>4.52</td>\n      <td>11.77</td>\n      <td>...</td>\n      <td>0.002977</td>\n      <td>0.003079</td>\n      <td>0.240552</td>\n      <td>4368.470279</td>\n      <td>22.8471</td>\n      <td>0.002239</td>\n      <td>0.001868</td>\n      <td>0.173761</td>\n      <td>0.414314</td>\n      <td>1.411259</td>\n    </tr>\n    <tr>\n      <th>9</th>\n      <td>GT1</td>\n      <td>1</td>\n      <td>2023-05-01</td>\n      <td>13:50:00</td>\n      <td>1013.1</td>\n      <td>1042.7</td>\n      <td>1039.9</td>\n      <td>0</td>\n      <td>5.74</td>\n      <td>9.74</td>\n      <td>...</td>\n      <td>0.003648</td>\n      <td>0.003751</td>\n      <td>0.29303</td>\n      <td>6057.791498</td>\n      <td>31.68225</td>\n      <td>0.003105</td>\n      <td>0.000866</td>\n      <td>0.241402</td>\n      <td>0.534432</td>\n      <td>0.271447</td>\n    </tr>\n    <tr>\n      <th>10</th>\n      <td>GT1</td>\n      <td>1</td>\n      <td>2023-05-01</td>\n      <td>14:49:00</td>\n      <td>1013.3</td>\n      <td>1114.6</td>\n      <td>1110.6</td>\n      <td>0</td>\n      <td>0.78</td>\n      <td>20.5</td>\n      <td>...</td>\n      <td>None</td>\n      <td>None</td>\n      <td>None</td>\n      <td>891.405721</td>\n      <td>4.662052</td>\n      <td>0.000457</td>\n      <td>-0.002648</td>\n      <td>0.034539</td>\n      <td>None</td>\n      <td>None</td>\n    </tr>\n    <tr>\n      <th>11</th>\n      <td>GT1</td>\n      <td>1</td>\n      <td>2023-05-04</td>\n      <td>09:26:00</td>\n      <td>1017.9</td>\n      <td>1050.6</td>\n      <td>1046.6</td>\n      <td>0</td>\n      <td>5.34</td>\n      <td>12.97</td>\n      <td>...</td>\n      <td>0.005406</td>\n      <td>0.005509</td>\n      <td>0.430353</td>\n      <td>5346.615839</td>\n      <td>27.962801</td>\n      <td>0.00274</td>\n      <td>0.002283</td>\n      <td>0.212926</td>\n      <td>0.64328</td>\n      <td>1.010519</td>\n    </tr>\n    <tr>\n      <th>12</th>\n      <td>GT1</td>\n      <td>1</td>\n      <td>2023-05-04</td>\n      <td>10:46:00</td>\n      <td>1017.2</td>\n      <td>1122.1</td>\n      <td>1119.1</td>\n      <td>0</td>\n      <td>0.5</td>\n      <td>20.32</td>\n      <td>...</td>\n      <td>None</td>\n      <td>None</td>\n      <td>None</td>\n      <td>582.122847</td>\n      <td>3.044502</td>\n      <td>0.000298</td>\n      <td>-0.002442</td>\n      <td>0.022155</td>\n      <td>None</td>\n      <td>None</td>\n    </tr>\n    <tr>\n      <th>13</th>\n      <td>GT1</td>\n      <td>1</td>\n      <td>2023-05-08</td>\n      <td>08:40:00</td>\n      <td>1018.7</td>\n      <td>1037.5</td>\n      <td>1035.2</td>\n      <td>0</td>\n      <td>6.98</td>\n      <td>8.07</td>\n      <td>...</td>\n      <td>0.008022</td>\n      <td>0.008124</td>\n      <td>0.63468</td>\n      <td>7214.335525</td>\n      <td>37.730975</td>\n      <td>0.003698</td>\n      <td>0.003399</td>\n      <td>0.28771</td>\n      <td>0.92239</td>\n      <td>0.999863</td>\n    </tr>\n    <tr>\n      <th>14</th>\n      <td>GT1</td>\n      <td>1</td>\n      <td>2023-05-08</td>\n      <td>09:47:00</td>\n      <td>1018.7</td>\n      <td>1123.2</td>\n      <td>1120.3</td>\n      <td>0</td>\n      <td>0.57</td>\n      <td>20.11</td>\n      <td>...</td>\n      <td>None</td>\n      <td>None</td>\n      <td>None</td>\n      <td>669.690377</td>\n      <td>3.502481</td>\n      <td>0.000343</td>\n      <td>-0.003354</td>\n      <td>0.025661</td>\n      <td>None</td>\n      <td>None</td>\n    </tr>\n    <tr>\n      <th>15</th>\n      <td>GT1</td>\n      <td>1</td>\n      <td>2023-05-10</td>\n      <td>09:35:00</td>\n      <td>1007.5</td>\n      <td>1073</td>\n      <td>1070.6</td>\n      <td>0</td>\n      <td>4.77</td>\n      <td>15.79</td>\n      <td>...</td>\n      <td>0.009572</td>\n      <td>0.009675</td>\n      <td>0.755798</td>\n      <td>4600.224699</td>\n      <td>24.059175</td>\n      <td>0.002358</td>\n      <td>0.002015</td>\n      <td>0.183041</td>\n      <td>0.938839</td>\n      <td>0.922177</td>\n    </tr>\n    <tr>\n      <th>16</th>\n      <td>GT1</td>\n      <td>1</td>\n      <td>2023-05-10</td>\n      <td>10:40:00</td>\n      <td>1008</td>\n      <td>1112.4</td>\n      <td>1109.9</td>\n      <td>0</td>\n      <td>0.4</td>\n      <td>20.24</td>\n      <td>...</td>\n      <td>None</td>\n      <td>None</td>\n      <td>None</td>\n      <td>464.0801</td>\n      <td>2.427139</td>\n      <td>0.000238</td>\n      <td>-0.00212</td>\n      <td>0.017429</td>\n      <td>None</td>\n      <td>None</td>\n    </tr>\n    <tr>\n      <th>17</th>\n      <td>GT1</td>\n      <td>1</td>\n      <td>2023-05-12</td>\n      <td>09:09:00</td>\n      <td>1014.4</td>\n      <td>1068.8</td>\n      <td>1066.2</td>\n      <td>0</td>\n      <td>3.7</td>\n      <td>15.45</td>\n      <td>...</td>\n      <td>0.010903</td>\n      <td>0.011005</td>\n      <td>0.859736</td>\n      <td>3837.515769</td>\n      <td>20.070207</td>\n      <td>0.001967</td>\n      <td>0.001729</td>\n      <td>0.152502</td>\n      <td>1.012237</td>\n      <td>0.954334</td>\n    </tr>\n    <tr>\n      <th>18</th>\n      <td>GT1</td>\n      <td>1</td>\n      <td>2023-05-12</td>\n      <td>10:10:00</td>\n      <td>1014.9</td>\n      <td>1118.6</td>\n      <td>1115.3</td>\n      <td>0</td>\n      <td>0.41</td>\n      <td>20.26</td>\n      <td>...</td>\n      <td>None</td>\n      <td>None</td>\n      <td>None</td>\n      <td>478.28345</td>\n      <td>2.501422</td>\n      <td>0.000245</td>\n      <td>-0.001722</td>\n      <td>0.017997</td>\n      <td>None</td>\n      <td>None</td>\n    </tr>\n    <tr>\n      <th>19</th>\n      <td>GT1</td>\n      <td>1</td>\n      <td>2023-05-15</td>\n      <td>09:30:00</td>\n      <td>1012.5</td>\n      <td>1068.2</td>\n      <td>1061.9</td>\n      <td>0</td>\n      <td>4.43</td>\n      <td>15.52</td>\n      <td>...</td>\n      <td>0.012409</td>\n      <td>0.012512</td>\n      <td>0.977455</td>\n      <td>4298.806323</td>\n      <td>22.482757</td>\n      <td>0.002203</td>\n      <td>0.001958</td>\n      <td>0.170972</td>\n      <td>1.148427</td>\n      <td>0.967643</td>\n    </tr>\n    <tr>\n      <th>20</th>\n      <td>GT1</td>\n      <td>1</td>\n      <td>2023-05-15</td>\n      <td>10:38:00</td>\n      <td>1012.8</td>\n      <td>1117.1</td>\n      <td>1113.5</td>\n      <td>0</td>\n      <td>0.42</td>\n      <td>20.54</td>\n      <td>...</td>\n      <td>None</td>\n      <td>None</td>\n      <td>None</td>\n      <td>482.747196</td>\n      <td>2.524768</td>\n      <td>0.000247</td>\n      <td>-0.001956</td>\n      <td>0.018176</td>\n      <td>None</td>\n      <td>None</td>\n    </tr>\n    <tr>\n      <th>21</th>\n      <td>GT1</td>\n      <td>1</td>\n      <td>2023-05-17</td>\n      <td>08:52:00</td>\n      <td>1025</td>\n      <td>1088.6</td>\n      <td>1086.7</td>\n      <td>0</td>\n      <td>3.02</td>\n      <td>18.61</td>\n      <td>...</td>\n      <td>0.013405</td>\n      <td>0.013508</td>\n      <td>1.055253</td>\n      <td>3007.017287</td>\n      <td>15.7267</td>\n      <td>0.001541</td>\n      <td>0.001294</td>\n      <td>0.119248</td>\n      <td>1.174502</td>\n      <td>0.861429</td>\n    </tr>\n    <tr>\n      <th>22</th>\n      <td>GT1</td>\n      <td>1</td>\n      <td>2023-05-17</td>\n      <td>09:57:00</td>\n      <td>1025.6</td>\n      <td>1129</td>\n      <td>1125.8</td>\n      <td>0</td>\n      <td>0.29</td>\n      <td>20.55</td>\n      <td>...</td>\n      <td>None</td>\n      <td>None</td>\n      <td>None</td>\n      <td>337.362184</td>\n      <td>1.764404</td>\n      <td>0.000173</td>\n      <td>-0.001368</td>\n      <td>0.012355</td>\n      <td>None</td>\n      <td>None</td>\n    </tr>\n    <tr>\n      <th>23</th>\n      <td>GT1</td>\n      <td>1</td>\n      <td>2023-05-22</td>\n      <td>14:11:00</td>\n      <td>1013.1</td>\n      <td>1074.8</td>\n      <td>1072.5</td>\n      <td>0</td>\n      <td>7.08</td>\n      <td>12.54</td>\n      <td>...</td>\n      <td>0.015954</td>\n      <td>0.016056</td>\n      <td>1.254331</td>\n      <td>6799.735502</td>\n      <td>35.562617</td>\n      <td>0.003485</td>\n      <td>0.003312</td>\n      <td>0.271109</td>\n      <td>1.52544</td>\n      <td>0.793507</td>\n    </tr>\n    <tr>\n      <th>24</th>\n      <td>GT1</td>\n      <td>1</td>\n      <td>2023-05-22</td>\n      <td>15:08:00</td>\n      <td>1013.6</td>\n      <td>1112</td>\n      <td>1108.6</td>\n      <td>0</td>\n      <td>0.64</td>\n      <td>20.31</td>\n      <td>...</td>\n      <td>None</td>\n      <td>None</td>\n      <td>None</td>\n      <td>737.492228</td>\n      <td>3.857084</td>\n      <td>0.000378</td>\n      <td>-0.003107</td>\n      <td>0.028376</td>\n      <td>None</td>\n      <td>None</td>\n    </tr>\n    <tr>\n      <th>25</th>\n      <td>None</td>\n      <td>None</td>\n      <td>None</td>\n      <td>None</td>\n      <td>None</td>\n      <td>None</td>\n      <td>None</td>\n      <td>None</td>\n      <td>None</td>\n      <td>None</td>\n      <td>...</td>\n      <td>None</td>\n      <td>None</td>\n      <td>None</td>\n      <td>None</td>\n      <td>None</td>\n      <td>None</td>\n      <td>None</td>\n      <td>None</td>\n      <td>None</td>\n      <td>None</td>\n    </tr>\n  </tbody>\n</table>\n<p>26 rows × 49 columns</p>\n</div>"
     },
     "metadata": {},
     "output_type": "display_data"
    },
    {
     "name": "stdout",
     "output_type": "stream",
     "text": [
      " As you can see now the full sheet is shown\n"
     ]
    }
   ],
   "source": [
    "# check if you can see the data_frame\n",
    "full_sheet = manager.load_sheet_table(sheet_name=\"GT1.1\", start_row=9)\n",
    "\n",
    "display(full_sheet)\n",
    "print(f' As you can see now the full sheet is shown')"
   ],
   "metadata": {
    "collapsed": false,
    "ExecuteTime": {
     "end_time": "2023-06-08T13:23:44.279459600Z",
     "start_time": "2023-06-08T13:23:44.236511200Z"
    }
   }
  },
  {
   "cell_type": "markdown",
   "source": [
    "### Filling th dictionary for the constants of the samples  in the instance of hte excel manager class"
   ],
   "metadata": {
    "collapsed": false
   }
  },
  {
   "cell_type": "code",
   "execution_count": 6,
   "outputs": [
    {
     "name": "stdout",
     "output_type": "stream",
     "text": [
      "loading Notes is done\n",
      "loading GT1.1 is done\n",
      "loading GT1.2 is done\n",
      "loading GT2.1 is done\n",
      "loading GT2.2 is done\n",
      "loading GT3.1 is done\n",
      "loading GT3.2 is done\n",
      "loading GT4.1 is done\n",
      "loading GT4.2 is done\n",
      "loading GT5.1 is done\n",
      "loading GT5.2 is done\n",
      "loading GT6.1 is done\n",
      "loading GT6.2 is done\n",
      "loading GT7.1 is done\n",
      "loading GT7.2 is done\n",
      "loading GT8.1 is done\n",
      "loading GT8.2 is done\n"
     ]
    }
   ],
   "source": [
    "# fil in the dict with constants for the samples\n",
    "sheet_names_samples = manager.get_sheet_names()\n",
    "for sheet_name in sheet_names_samples:\n",
    "    # loading the panda data frame for the sample\n",
    "    constants_data_frame = manager.load_constants_as_data_frame(sheet_name=sheet_name, start_row=1, end_row=7, start_col=3)\n",
    "\n",
    "    constants_data_class = manager.load_constants_as_data_class(sheet_name=sheet_name, start_row=1, end_row=7, start_col=3)\n",
    "\n",
    "    # fill the dictionary\n",
    "    manager.fill_dict_constants_data_frames(data_frame=constants_data_frame, sheets=[sheet_name])\n",
    "\n",
    "    manager.fill_dict_constants_data_classes(data_class=constants_data_class, sheets=[sheet_name])\n",
    "\n",
    "    print(f\"loading {sheet_name} is done\")\n",
    "\n",
    "dict_constants = manager.get_dict_constants_data_frames()\n",
    "dict_constants_data_classes = manager.get_dict_constants_data_classes()"
   ],
   "metadata": {
    "collapsed": false,
    "ExecuteTime": {
     "end_time": "2023-06-08T13:23:44.325797900Z",
     "start_time": "2023-06-08T13:23:44.286408700Z"
    }
   }
  },
  {
   "cell_type": "markdown",
   "source": [
    "#### running all the calculations for each data frame (sammple)"
   ],
   "metadata": {
    "collapsed": false
   }
  },
  {
   "cell_type": "code",
   "execution_count": 7,
   "outputs": [
    {
     "name": "stdout",
     "output_type": "stream",
     "text": [
      "started with sheet: GT1.1\n"
     ]
    },
    {
     "ename": "ValueError",
     "evalue": "time data \"None None\" doesn't match format \"%Y-%m-%d %H:%M:%S\", at position 21. You might want to try:\n    - passing `format` if your strings have a consistent format;\n    - passing `format='ISO8601'` if your strings are all ISO8601 but not necessarily in exactly the same format;\n    - passing `format='mixed'`, and the format will be inferred for each element individually. You might want to use `dayfirst` alongside this.",
     "output_type": "error",
     "traceback": [
      "\u001B[1;31m---------------------------------------------------------------------------\u001B[0m",
      "\u001B[1;31mValueError\u001B[0m                                Traceback (most recent call last)",
      "Cell \u001B[1;32mIn[7], line 15\u001B[0m\n\u001B[0;32m     12\u001B[0m constants_data_class \u001B[38;5;241m=\u001B[39m dict_constants_data_classes[sheet_name]\n\u001B[0;32m     14\u001B[0m \u001B[38;5;66;03m# adding date and do the gas composition corrections.\u001B[39;00m\n\u001B[1;32m---> 15\u001B[0m \u001B[43mRunDataFrameCalculationsForOneDataFrame\u001B[49m\u001B[43m(\u001B[49m\u001B[43mdata_frame\u001B[49m\u001B[38;5;241;43m=\u001B[39;49m\u001B[43mdata_frame\u001B[49m\u001B[43m)\u001B[49m\u001B[38;5;241;43m.\u001B[39;49m\u001B[43mrun_data_frame_processor_calculations\u001B[49m\u001B[43m(\u001B[49m\u001B[43m)\u001B[49m\n\u001B[0;32m     16\u001B[0m RunDataFrameCalculationsForOneDataFrame(data_frame\u001B[38;5;241m=\u001B[39mdata_frame)\u001B[38;5;241m.\u001B[39mrun_gas_composition_calculations()\n\u001B[0;32m     18\u001B[0m \u001B[38;5;66;03m# calculations for moles before and after sampling\u001B[39;00m\n",
      "File \u001B[1;32m~\\Desktop\\Q4 2022-2023\\Bachelor Eind Werk\\Geotechnical\\Python-tool\\openpyxl Code\\run_data_frame_calculations.py:16\u001B[0m, in \u001B[0;36mRunDataFrameCalculationsForOneDataFrame.run_data_frame_processor_calculations\u001B[1;34m(self, fraction_to_time)\u001B[0m\n\u001B[0;32m     15\u001B[0m \u001B[38;5;28;01mdef\u001B[39;00m \u001B[38;5;21mrun_data_frame_processor_calculations\u001B[39m(\u001B[38;5;28mself\u001B[39m, fraction_to_time: \u001B[38;5;28mbool\u001B[39m \u001B[38;5;241m=\u001B[39m \u001B[38;5;28;01mFalse\u001B[39;00m):\n\u001B[1;32m---> 16\u001B[0m     \u001B[43mDataFrameProcessor\u001B[49m\u001B[38;5;241;43m.\u001B[39;49m\u001B[43madd_day_column\u001B[49m\u001B[43m(\u001B[49m\u001B[43mdata_frame\u001B[49m\u001B[38;5;241;43m=\u001B[39;49m\u001B[38;5;28;43mself\u001B[39;49m\u001B[38;5;241;43m.\u001B[39;49m\u001B[43mdata_frame\u001B[49m\u001B[43m,\u001B[49m\u001B[43m \u001B[49m\u001B[43mdate_column_name\u001B[49m\u001B[38;5;241;43m=\u001B[39;49m\u001B[38;5;124;43m\"\u001B[39;49m\u001B[38;5;124;43mDate\u001B[39;49m\u001B[38;5;124;43m\"\u001B[39;49m\u001B[43m,\u001B[49m\u001B[43m \u001B[49m\u001B[43mtime_column_name\u001B[49m\u001B[38;5;241;43m=\u001B[39;49m\u001B[38;5;124;43m\"\u001B[39;49m\u001B[38;5;124;43mTime\u001B[39;49m\u001B[38;5;124;43m\"\u001B[39;49m\u001B[43m)\u001B[49m\n",
      "File \u001B[1;32m~\\Desktop\\Q4 2022-2023\\Bachelor Eind Werk\\Geotechnical\\Python-tool\\openpyxl Code\\data_frame_processor.py:32\u001B[0m, in \u001B[0;36mDataFrameProcessor.add_day_column\u001B[1;34m(data_frame, date_column_name, time_column_name, day_plus_time_column_name, day_column_name, dayfirst)\u001B[0m\n\u001B[0;32m     29\u001B[0m data_frame[date_column_name] \u001B[38;5;241m=\u001B[39m data_frame[date_column_name]\u001B[38;5;241m.\u001B[39mastype(\u001B[38;5;28mstr\u001B[39m)\n\u001B[0;32m     30\u001B[0m data_frame[time_column_name] \u001B[38;5;241m=\u001B[39m data_frame[time_column_name]\u001B[38;5;241m.\u001B[39mastype(\u001B[38;5;28mstr\u001B[39m)\n\u001B[1;32m---> 32\u001B[0m data_frame[day_plus_time_column_name] \u001B[38;5;241m=\u001B[39m \u001B[43mpd\u001B[49m\u001B[38;5;241;43m.\u001B[39;49m\u001B[43mto_datetime\u001B[49m\u001B[43m(\u001B[49m\u001B[43mdata_frame\u001B[49m\u001B[43m[\u001B[49m\u001B[43mdate_column_name\u001B[49m\u001B[43m]\u001B[49m\u001B[43m \u001B[49m\u001B[38;5;241;43m+\u001B[39;49m\u001B[43m \u001B[49m\u001B[38;5;124;43m'\u001B[39;49m\u001B[38;5;124;43m \u001B[39;49m\u001B[38;5;124;43m'\u001B[39;49m\u001B[43m \u001B[49m\u001B[38;5;241;43m+\u001B[39;49m\n\u001B[0;32m     33\u001B[0m \u001B[43m                                                       \u001B[49m\u001B[43mdata_frame\u001B[49m\u001B[43m[\u001B[49m\u001B[43mtime_column_name\u001B[49m\u001B[43m]\u001B[49m\u001B[43m,\u001B[49m\u001B[43m \u001B[49m\u001B[43mdayfirst\u001B[49m\u001B[38;5;241;43m=\u001B[39;49m\u001B[43mdayfirst\u001B[49m\u001B[43m)\u001B[49m\n\u001B[0;32m     35\u001B[0m data_frame[day_column_name] \u001B[38;5;241m=\u001B[39m (data_frame[day_plus_time_column_name] \u001B[38;5;241m-\u001B[39m\n\u001B[0;32m     36\u001B[0m                                data_frame[day_plus_time_column_name]\u001B[38;5;241m.\u001B[39miloc[\u001B[38;5;241m0\u001B[39m]) \u001B[38;5;241m/\u001B[39m pd\u001B[38;5;241m.\u001B[39mTimedelta(days\u001B[38;5;241m=\u001B[39m\u001B[38;5;241m1\u001B[39m)\n",
      "File \u001B[1;32m~\\Desktop\\Q4 2022-2023\\Bachelor Eind Werk\\Geotechnical\\Python-tool\\openpyxl Code\\venv\\lib\\site-packages\\pandas\\core\\tools\\datetimes.py:1050\u001B[0m, in \u001B[0;36mto_datetime\u001B[1;34m(arg, errors, dayfirst, yearfirst, utc, format, exact, unit, infer_datetime_format, origin, cache)\u001B[0m\n\u001B[0;32m   1048\u001B[0m         result \u001B[38;5;241m=\u001B[39m arg\u001B[38;5;241m.\u001B[39mmap(cache_array)\n\u001B[0;32m   1049\u001B[0m     \u001B[38;5;28;01melse\u001B[39;00m:\n\u001B[1;32m-> 1050\u001B[0m         values \u001B[38;5;241m=\u001B[39m \u001B[43mconvert_listlike\u001B[49m\u001B[43m(\u001B[49m\u001B[43marg\u001B[49m\u001B[38;5;241;43m.\u001B[39;49m\u001B[43m_values\u001B[49m\u001B[43m,\u001B[49m\u001B[43m \u001B[49m\u001B[38;5;28;43mformat\u001B[39;49m\u001B[43m)\u001B[49m\n\u001B[0;32m   1051\u001B[0m         result \u001B[38;5;241m=\u001B[39m arg\u001B[38;5;241m.\u001B[39m_constructor(values, index\u001B[38;5;241m=\u001B[39marg\u001B[38;5;241m.\u001B[39mindex, name\u001B[38;5;241m=\u001B[39marg\u001B[38;5;241m.\u001B[39mname)\n\u001B[0;32m   1052\u001B[0m \u001B[38;5;28;01melif\u001B[39;00m \u001B[38;5;28misinstance\u001B[39m(arg, (ABCDataFrame, abc\u001B[38;5;241m.\u001B[39mMutableMapping)):\n",
      "File \u001B[1;32m~\\Desktop\\Q4 2022-2023\\Bachelor Eind Werk\\Geotechnical\\Python-tool\\openpyxl Code\\venv\\lib\\site-packages\\pandas\\core\\tools\\datetimes.py:453\u001B[0m, in \u001B[0;36m_convert_listlike_datetimes\u001B[1;34m(arg, format, name, utc, unit, errors, dayfirst, yearfirst, exact)\u001B[0m\n\u001B[0;32m    451\u001B[0m \u001B[38;5;66;03m# `format` could be inferred, or user didn't ask for mixed-format parsing.\u001B[39;00m\n\u001B[0;32m    452\u001B[0m \u001B[38;5;28;01mif\u001B[39;00m \u001B[38;5;28mformat\u001B[39m \u001B[38;5;129;01mis\u001B[39;00m \u001B[38;5;129;01mnot\u001B[39;00m \u001B[38;5;28;01mNone\u001B[39;00m \u001B[38;5;129;01mand\u001B[39;00m \u001B[38;5;28mformat\u001B[39m \u001B[38;5;241m!=\u001B[39m \u001B[38;5;124m\"\u001B[39m\u001B[38;5;124mmixed\u001B[39m\u001B[38;5;124m\"\u001B[39m:\n\u001B[1;32m--> 453\u001B[0m     \u001B[38;5;28;01mreturn\u001B[39;00m \u001B[43m_array_strptime_with_fallback\u001B[49m\u001B[43m(\u001B[49m\u001B[43marg\u001B[49m\u001B[43m,\u001B[49m\u001B[43m \u001B[49m\u001B[43mname\u001B[49m\u001B[43m,\u001B[49m\u001B[43m \u001B[49m\u001B[43mutc\u001B[49m\u001B[43m,\u001B[49m\u001B[43m \u001B[49m\u001B[38;5;28;43mformat\u001B[39;49m\u001B[43m,\u001B[49m\u001B[43m \u001B[49m\u001B[43mexact\u001B[49m\u001B[43m,\u001B[49m\u001B[43m \u001B[49m\u001B[43merrors\u001B[49m\u001B[43m)\u001B[49m\n\u001B[0;32m    455\u001B[0m result, tz_parsed \u001B[38;5;241m=\u001B[39m objects_to_datetime64ns(\n\u001B[0;32m    456\u001B[0m     arg,\n\u001B[0;32m    457\u001B[0m     dayfirst\u001B[38;5;241m=\u001B[39mdayfirst,\n\u001B[1;32m   (...)\u001B[0m\n\u001B[0;32m    461\u001B[0m     allow_object\u001B[38;5;241m=\u001B[39m\u001B[38;5;28;01mTrue\u001B[39;00m,\n\u001B[0;32m    462\u001B[0m )\n\u001B[0;32m    464\u001B[0m \u001B[38;5;28;01mif\u001B[39;00m tz_parsed \u001B[38;5;129;01mis\u001B[39;00m \u001B[38;5;129;01mnot\u001B[39;00m \u001B[38;5;28;01mNone\u001B[39;00m:\n\u001B[0;32m    465\u001B[0m     \u001B[38;5;66;03m# We can take a shortcut since the datetime64 numpy array\u001B[39;00m\n\u001B[0;32m    466\u001B[0m     \u001B[38;5;66;03m# is in UTC\u001B[39;00m\n",
      "File \u001B[1;32m~\\Desktop\\Q4 2022-2023\\Bachelor Eind Werk\\Geotechnical\\Python-tool\\openpyxl Code\\venv\\lib\\site-packages\\pandas\\core\\tools\\datetimes.py:484\u001B[0m, in \u001B[0;36m_array_strptime_with_fallback\u001B[1;34m(arg, name, utc, fmt, exact, errors)\u001B[0m\n\u001B[0;32m    473\u001B[0m \u001B[38;5;28;01mdef\u001B[39;00m \u001B[38;5;21m_array_strptime_with_fallback\u001B[39m(\n\u001B[0;32m    474\u001B[0m     arg,\n\u001B[0;32m    475\u001B[0m     name,\n\u001B[1;32m   (...)\u001B[0m\n\u001B[0;32m    479\u001B[0m     errors: \u001B[38;5;28mstr\u001B[39m,\n\u001B[0;32m    480\u001B[0m ) \u001B[38;5;241m-\u001B[39m\u001B[38;5;241m>\u001B[39m Index:\n\u001B[0;32m    481\u001B[0m \u001B[38;5;250m    \u001B[39m\u001B[38;5;124;03m\"\"\"\u001B[39;00m\n\u001B[0;32m    482\u001B[0m \u001B[38;5;124;03m    Call array_strptime, with fallback behavior depending on 'errors'.\u001B[39;00m\n\u001B[0;32m    483\u001B[0m \u001B[38;5;124;03m    \"\"\"\u001B[39;00m\n\u001B[1;32m--> 484\u001B[0m     result, timezones \u001B[38;5;241m=\u001B[39m \u001B[43marray_strptime\u001B[49m\u001B[43m(\u001B[49m\u001B[43marg\u001B[49m\u001B[43m,\u001B[49m\u001B[43m \u001B[49m\u001B[43mfmt\u001B[49m\u001B[43m,\u001B[49m\u001B[43m \u001B[49m\u001B[43mexact\u001B[49m\u001B[38;5;241;43m=\u001B[39;49m\u001B[43mexact\u001B[49m\u001B[43m,\u001B[49m\u001B[43m \u001B[49m\u001B[43merrors\u001B[49m\u001B[38;5;241;43m=\u001B[39;49m\u001B[43merrors\u001B[49m\u001B[43m,\u001B[49m\u001B[43m \u001B[49m\u001B[43mutc\u001B[49m\u001B[38;5;241;43m=\u001B[39;49m\u001B[43mutc\u001B[49m\u001B[43m)\u001B[49m\n\u001B[0;32m    485\u001B[0m     \u001B[38;5;28;01mif\u001B[39;00m \u001B[38;5;28many\u001B[39m(tz \u001B[38;5;129;01mis\u001B[39;00m \u001B[38;5;129;01mnot\u001B[39;00m \u001B[38;5;28;01mNone\u001B[39;00m \u001B[38;5;28;01mfor\u001B[39;00m tz \u001B[38;5;129;01min\u001B[39;00m timezones):\n\u001B[0;32m    486\u001B[0m         \u001B[38;5;28;01mreturn\u001B[39;00m _return_parsed_timezone_results(result, timezones, utc, name)\n",
      "File \u001B[1;32m~\\Desktop\\Q4 2022-2023\\Bachelor Eind Werk\\Geotechnical\\Python-tool\\openpyxl Code\\venv\\lib\\site-packages\\pandas\\_libs\\tslibs\\strptime.pyx:530\u001B[0m, in \u001B[0;36mpandas._libs.tslibs.strptime.array_strptime\u001B[1;34m()\u001B[0m\n",
      "File \u001B[1;32m~\\Desktop\\Q4 2022-2023\\Bachelor Eind Werk\\Geotechnical\\Python-tool\\openpyxl Code\\venv\\lib\\site-packages\\pandas\\_libs\\tslibs\\strptime.pyx:351\u001B[0m, in \u001B[0;36mpandas._libs.tslibs.strptime.array_strptime\u001B[1;34m()\u001B[0m\n",
      "\u001B[1;31mValueError\u001B[0m: time data \"None None\" doesn't match format \"%Y-%m-%d %H:%M:%S\", at position 21. You might want to try:\n    - passing `format` if your strings have a consistent format;\n    - passing `format='ISO8601'` if your strings are all ISO8601 but not necessarily in exactly the same format;\n    - passing `format='mixed'`, and the format will be inferred for each element individually. You might want to use `dayfirst` alongside this."
     ]
    }
   ],
   "source": [
    "from nice_functions import NiceExcelFunction\n",
    "\n",
    "# Now all the data frames are read in, calculated and returned in to the excell_file\n",
    "sheet_names_samples = sheet_names[1:]\n",
    "for sheet_name in sheet_names_samples:\n",
    "    print(f\"started with sheet: {sheet_name}\")\n",
    "    # loading the data frame\n",
    "    column_end = NiceExcelFunction.get_column_index_from_letter(column_letter=\"O\")\n",
    "    data_frame = manager.load_sheet_table_with_input_header(sheet_name=sheet_name, column_names=basic_column_names, start_row=13, end_column=column_end)\n",
    "\n",
    "    # loading the data class with the constants for the sample\n",
    "    constants_data_class = dict_constants_data_classes[sheet_name]\n",
    "\n",
    "    # adding date and do the gas composition corrections.\n",
    "    RunDataFrameCalculationsForOneDataFrame(data_frame=data_frame).run_data_frame_processor_calculations()\n",
    "    RunDataFrameCalculationsForOneDataFrame(data_frame=data_frame).run_gas_composition_calculations()\n",
    "\n",
    "    # calculations for moles before and after sampling\n",
    "    RunDataFrameCalculationsForOneDataFrame(data_frame=data_frame).run_mol_gases_before_and_after_sampling(Rgas=constants_data_class.Rgas,\n",
    "                                                                                                           exp_temperature=constants_data_class.expTemp,\n",
    "                                                                                                           volume_headspace=constants_data_class.volume_headspace)\n",
    "\n",
    "    # correcting the mg_bs for the first measurement\n",
    "    data_frame.loc[0, \"mg_as\"] = data_frame.loc[0, \"mg_bs\"]\n",
    "\n",
    "    # run mol gas composition\n",
    "    RunDataFrameCalculationsForOneDataFrame(data_frame=data_frame).run_mol_gas_composition_calculation()\n",
    "    # run moles produced\n",
    "    RunDataFrameCalculationsForOneDataFrame(data_frame=data_frame).run_moles_produced()\n",
    "    # run cumulative calculations carbon in gas phase\n",
    "    RunDataFrameCalculationsForOneDataFrame(data_frame=data_frame).run_cumulative_production_in_the_gas_phase(molar_mass_carbon=constants_data_class.molar_mass_carbon,\n",
    "                                                                                                              dry_mass_sample=constants_data_class.dry_mass_sample)\n",
    "\n",
    "    # run calculation carbon in the aqueous phase\n",
    "    RunDataFrameCalculationsForOneDataFrame(data_frame=data_frame).run_carbon_in_aqueous_phase(water_volume_in_liters=constants_data_class.water_volume,\n",
    "                                                                                    dry_mass_sample=constants_data_class.dry_mass_sample)\n",
    "\n",
    "    # run results interpretations\n",
    "    RunDataFrameCalculationsForOneDataFrame(data_frame=data_frame).run_results_Interpretations()\n",
    "\n",
    "    # print to see the process\n",
    "    print(f\"finished calculations {sheet_name}\")\n",
    "\n",
    "    # overwrite the old data frame with the new data frame which has calculations\n",
    "    manager.fill_dict_panda_data_frames(data_frame=data_frame, sheets=[sheet_name])\n",
    "\n",
    "    # print to see the process\n",
    "    print(f\"filled dictionary for {sheet_name}\")"
   ],
   "metadata": {
    "collapsed": false,
    "ExecuteTime": {
     "end_time": "2023-06-08T13:23:45.108459500Z",
     "start_time": "2023-06-08T13:23:44.298837100Z"
    }
   }
  },
  {
   "cell_type": "markdown",
   "source": [
    "#### you can see the data frame below. Please fill the name of the tab below:"
   ],
   "metadata": {
    "collapsed": false
   }
  },
  {
   "cell_type": "code",
   "execution_count": null,
   "outputs": [],
   "source": [
    "sheet_tab_name = \"GT1.1\"\n",
    "\n",
    "\n",
    "dict_data_frames = manager.get_dict_panda_data_frames()\n",
    "display(dict_data_frames[sheet_tab_name])\n",
    "# Set the display options\n",
    "pd.set_option('display.max_rows', None)  # Display all rows\n",
    "pd.set_option('display.max_columns', None)  # Display all columns\n",
    "pd.set_option('display.width', None)  # Automatically adjust the column width to fit the contents"
   ],
   "metadata": {
    "collapsed": false
   }
  },
  {
   "cell_type": "markdown",
   "source": [
    "# OVERWRITING the excel file. Do you made a copy before?"
   ],
   "metadata": {
    "collapsed": false
   }
  },
  {
   "cell_type": "code",
   "execution_count": null,
   "outputs": [],
   "source": [
    "for sheet_name in sheet_names_samples:\n",
    " # replace the table (overwrite) in the Excel file.\n",
    "    data_frame = manager.get_dict_panda_data_frames()[sheet_name]\n",
    "    manager.replace_table_in_specific_sheet_with_data_frame(excel_file_path=path_input_excel,\n",
    "                                                            sheet_name=sheet_name,\n",
    "                                                            start_row=13,\n",
    "                                                            data_frame=data_frame,\n",
    "                                                            header=False\n",
    "                                                            )\n",
    "    print(f\"replaced table in Excel for {sheet_name}\")"
   ],
   "metadata": {
    "collapsed": false
   }
  },
  {
   "cell_type": "code",
   "execution_count": null,
   "outputs": [],
   "source": [],
   "metadata": {
    "collapsed": false
   }
  }
 ],
 "metadata": {
  "kernelspec": {
   "display_name": "Python 3",
   "language": "python",
   "name": "python3"
  },
  "language_info": {
   "codemirror_mode": {
    "name": "ipython",
    "version": 2
   },
   "file_extension": ".py",
   "mimetype": "text/x-python",
   "name": "python",
   "nbconvert_exporter": "python",
   "pygments_lexer": "ipython2",
   "version": "2.7.6"
  }
 },
 "nbformat": 4,
 "nbformat_minor": 0
}
