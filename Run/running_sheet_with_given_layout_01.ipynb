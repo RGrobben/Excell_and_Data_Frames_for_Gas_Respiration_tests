{
 "cells": [
  {
   "cell_type": "code",
   "execution_count": 1,
   "metadata": {
    "collapsed": true,
    "ExecuteTime": {
     "end_time": "2023-06-26T14:02:42.815592100Z",
     "start_time": "2023-06-26T14:02:42.264485600Z"
    }
   },
   "outputs": [],
   "source": [
    "import pandas as pd\n",
    "\n",
    "from data_frame_processor import DataFrameProcessor\n",
    "from excel_manager import ExcelManager\n",
    "from run_data_frame_calculations import RunDataFrameCalculationsForOneDataFrame\n"
   ]
  },
  {
   "cell_type": "markdown",
   "source": [
    "# Make a COPY before you run the script"
   ],
   "metadata": {
    "collapsed": false
   }
  },
  {
   "cell_type": "markdown",
   "source": [],
   "metadata": {
    "collapsed": false
   }
  },
  {
   "cell_type": "code",
   "execution_count": 2,
   "outputs": [],
   "source": [
    "path_input_excel = r\"C:\\Users\\robbe\\Downloads\\Gas_production_KRA_BEP_R.Grobben_final_01_run_File.xlsx\"\n",
    "\n",
    "#make instance of excel manger\n",
    "manager = ExcelManager(path_input_excel)\n",
    "\n",
    "# load the workbook in\n",
    "manager.load_workbook()"
   ],
   "metadata": {
    "collapsed": false,
    "ExecuteTime": {
     "end_time": "2023-06-26T14:02:44.880605600Z",
     "start_time": "2023-06-26T14:02:42.818598600Z"
    }
   }
  },
  {
   "cell_type": "markdown",
   "source": [
    "### You can see the sheet names"
   ],
   "metadata": {
    "collapsed": false
   }
  },
  {
   "cell_type": "code",
   "execution_count": 3,
   "outputs": [
    {
     "name": "stdout",
     "output_type": "stream",
     "text": [
      "['Notes', 'GT1.1', 'GT1.2', 'GT2.1', 'GT2.2', 'GT3.1', 'GT3.2', 'GT4.1', 'GT4.2', 'GT5.1', 'GT5.2', 'GT6.1', 'GT6.2', 'GT7.1', 'GT7.2', 'GT8.1', 'GT8.2']\n"
     ]
    }
   ],
   "source": [
    "# check the sheet names\n",
    "sheet_names = manager.get_sheet_names()\n",
    "print(sheet_names)"
   ],
   "metadata": {
    "collapsed": false,
    "ExecuteTime": {
     "end_time": "2023-06-26T14:02:44.895959200Z",
     "start_time": "2023-06-26T14:02:44.882584200Z"
    }
   }
  },
  {
   "cell_type": "markdown",
   "source": [
    "#### input names of table if needed"
   ],
   "metadata": {
    "collapsed": false
   }
  },
  {
   "cell_type": "code",
   "execution_count": 4,
   "outputs": [],
   "source": [
    "# column_names = ['Sample ID', 'Parallel', 'Date', 'Time', 'P atm', 'P sample before gc', 'P sample after gc', 'CH4', 'CO2', 'O2', 'N2', 'Flush (1=yes; 0=no)', 'Comments', 'GC method', 'Weight', 'Date + Time', 'Day', 'Sum', 'CH4-corr', 'CO2-corr', 'O2-corr', 'N2-corr', 'Sum-corr', 'mg_bs', 'mCO2_b', 'mCH4_b', 'mO2_b', 'mN2_b', 'mCTot_b', 'mg_as', 'mCO2_a', 'mCH4_a', 'mO2_a', 'mN2_a', 'mCTot_a', 'mCTot_produced', 'O2 consumed', 'CO2 produced', 'O2 consumed_cum', 'CO2 produced_cum', 'mCTot_produced_cum', 'Cgas_DM_cum', 'PP CO2_b', 'CO2_aq [mol/m3]', 'CO2_aq [mol]', 'CO2_produced_aq', 'DIC_cum', 'Ctot_DM', 'Ratio O2/CO2']\n",
    "#\n",
    "basic_column_names = ['Sample ID', 'Parallel', 'Date', 'Time', 'P atm [hPa]', 'P sample before gc [hPa]', 'P sample after gc [hPa]', 'CH4 [%]', 'CO2 [%]', 'O2 [%]', 'N2 [%]', 'Flush (1=yes; 0=no)', 'Comments', 'GC method', 'Weight [g]']\n",
    "\n"
   ],
   "metadata": {
    "collapsed": false,
    "ExecuteTime": {
     "end_time": "2023-06-26T14:02:44.957079800Z",
     "start_time": "2023-06-26T14:02:44.898966Z"
    }
   }
  },
  {
   "cell_type": "markdown",
   "source": [
    "##### you can check if the sheets are in the instance of the excell manager class."
   ],
   "metadata": {
    "collapsed": false
   }
  },
  {
   "cell_type": "code",
   "execution_count": 5,
   "outputs": [
    {
     "data": {
      "text/plain": "         None      None                 None      None    None   \n0        None      None                 None      None    None  \\\n1   Sample ID  Parallel                 Date      Time   P atm   \n2        None      None                 None      None     hPa   \n3         GT1         1  2023-04-17 00:00:00  14:42:00  1025.1   \n4         GT1         1  2023-04-19 00:00:00  14:42:00  1023.1   \n5         GT1         1  2023-04-24 00:00:00  10:20:00  1002.3   \n6         GT1         1  2023-04-24 00:00:00  11:25:00  1003.3   \n7         GT1         1  2023-04-26 00:00:00  08:52:00    1017   \n8         GT1         1  2023-04-26 00:00:00  09:53:00  1017.2   \n9         GT1         1  2023-04-28 00:00:00  09:45:00  1006.8   \n10        GT1         1  2023-05-01 00:00:00  13:50:00  1013.1   \n11        GT1         1  2023-05-01 00:00:00  14:49:00  1013.3   \n12        GT1         1  2023-05-04 00:00:00  09:26:00  1017.9   \n13        GT1         1  2023-05-04 00:00:00  10:46:00  1017.2   \n14        GT1         1  2023-05-08 00:00:00  08:40:00  1018.7   \n15        GT1         1  2023-05-08 00:00:00  09:47:00  1018.7   \n16        GT1         1  2023-05-10 00:00:00  09:35:00  1007.5   \n17        GT1         1  2023-05-10 00:00:00  10:40:00    1008   \n18        GT1         1  2023-05-12 00:00:00  09:09:00  1014.4   \n19        GT1         1  2023-05-12 00:00:00  10:10:00  1014.9   \n20        GT1         1  2023-05-15 00:00:00  09:30:00  1012.5   \n21        GT1         1  2023-05-15 00:00:00  10:38:00  1012.8   \n22        GT1         1  2023-05-17 00:00:00  08:52:00    1025   \n23        GT1         1  2023-05-17 00:00:00  09:57:00  1025.6   \n24        GT1         1  2023-05-22 00:00:00  14:11:00  1013.1   \n25        GT1         1  2023-05-22 00:00:00  15:08:00  1013.6   \n\n                  None               None  None  None   None  ...       None   \n0                 None               None  None  None   None  ...       None  \\\n1   P sample before gc  P sample after gc   CH4   CO2     O2  ...  CO2_a_aq    \n2                  hPa                hPa     %     %      %  ...     mol/m3   \n3              1117.44               None     0  0.03   21.9  ...          0   \n4                  960              958.1  0.12  1.53   2.21  ...   7.628478   \n5                962.2              959.8  0.25  2.41   1.59  ...  11.700945   \n6               1104.6             1085.8     0  0.74  19.79  ...   4.313996   \n7                  954                951  0.03  2.72   8.46  ...  13.060963   \n8               1120.8             1105.6     0  0.63  20.51  ...   3.730508   \n9               1029.2             1025.8     0  4.52  11.77  ...  22.771623   \n10              1042.7             1039.9     0  5.74   9.74  ...  31.597172   \n11              1114.6             1110.6     0  0.78   20.5  ...   4.645321   \n12              1050.6             1046.6     0  5.34  12.97  ...  27.856337   \n13              1122.1             1119.1     0   0.5  20.32  ...   3.036363   \n14              1037.5             1035.2     0  6.98   8.07  ...   37.64733   \n15              1123.2             1120.3     0  0.57  20.11  ...   3.493438   \n16                1073             1070.6     0  4.77  15.79  ...  24.005362   \n17              1112.4             1109.9     0   0.4  20.24  ...   2.421684   \n18              1068.8             1066.2     0   3.7  15.45  ...  20.021384   \n19              1118.6             1115.3     0  0.41  20.26  ...   2.494043   \n20              1068.2             1061.9     0  4.43  15.52  ...  22.350159   \n21              1117.1             1113.5     0  0.42  20.54  ...   2.516631   \n22              1088.6             1086.7     0  3.02  18.61  ...  15.699252   \n23                1129             1125.8     0  0.29  20.55  ...   1.759403   \n24              1074.8             1072.5     0  7.08  12.54  ...  35.486515   \n25                1112             1108.6     0  0.64  20.31  ...   3.845291   \n\n         None                                 None         None      None   \n0        None                                 None         None      None  \\\n1   CO2_a_aq   CO2_dissolved between timesteps_aq   CO2_cum_aq    DIC_cum   \n2         mol                                  mol       mol/m3  mg C/gDW   \n3           0                             0.000017     0.000017  0.001342   \n4    0.000748                             0.000749     0.000766  0.059861   \n5    0.001147                             0.000402     0.001168  0.091263   \n6    0.000423                            -0.000717     0.000452  0.035281   \n7     0.00128                             0.000861     0.001313  0.102562   \n8    0.000366                            -0.000909     0.000404  0.031522   \n9    0.002232                             0.001873     0.002277  0.177876   \n10   0.003097                             0.000873      0.00315  0.246095   \n11   0.000455                             -0.00264     0.000511  0.039883   \n12    0.00273                             0.002285     0.002796  0.218399   \n13   0.000298                            -0.002432     0.000364  0.028443   \n14   0.003689                               0.0034     0.003764   0.29406   \n15   0.000342                            -0.003346     0.000418  0.032652   \n16   0.002353                             0.002015     0.002433    0.1901   \n17   0.000237                            -0.002115     0.000319    0.0249   \n18   0.001962                              0.00173     0.002048  0.160015   \n19   0.000244                            -0.001717     0.000331  0.025884   \n20    0.00219                             0.001959      0.00229  0.178915   \n21   0.000247                            -0.001943     0.000347  0.027135   \n22   0.001539                             0.001295     0.001642  0.128269   \n23   0.000172                            -0.001366     0.000276  0.021586   \n24   0.003478                             0.003313     0.003589  0.280379   \n25   0.000377                              -0.0031     0.000489  0.038228   \n\n        None          None  None  None  None  \n0       None          None  None  None  None  \n1   Ctot_DM   Ratio O2/CO2  None  None  None  \n2   mg C/gDW          None  None  None  None  \n3          0             0  None  None  None  \n4   0.107374      6.719315  None  None  None  \n5   0.166575      0.347675  None  None  None  \n6       None             0  None  None  None  \n7   0.230482      3.691717  None  None  None  \n8       None             0  None  None  None  \n9   0.418379      1.409119  None  None  None  \n10  0.539075      0.270148  None  None  None  \n11      None             0  None  None  None  \n12  0.648703      1.010109  None  None  None  \n13      None             0  None  None  None  \n14  0.928691       0.99973  None  None  None  \n15      None             0  None  None  None  \n16  0.945849      0.921948  None  None  None  \n17      None             0  None  None  None  \n18  1.019701      0.954168  None  None  None  \n19      None             0  None  None  None  \n20  1.156321      0.967441  None  None  None  \n21      None             0  None  None  None  \n22  1.183473      0.861129  None  None  None  \n23      None             0  None  None  None  \n24   1.53466      0.793441  None  None  None  \n25      None             0  None  None  None  \n\n[26 rows x 56 columns]",
      "text/html": "<div>\n<style scoped>\n    .dataframe tbody tr th:only-of-type {\n        vertical-align: middle;\n    }\n\n    .dataframe tbody tr th {\n        vertical-align: top;\n    }\n\n    .dataframe thead th {\n        text-align: right;\n    }\n</style>\n<table border=\"1\" class=\"dataframe\">\n  <thead>\n    <tr style=\"text-align: right;\">\n      <th></th>\n      <th>None</th>\n      <th>None</th>\n      <th>None</th>\n      <th>None</th>\n      <th>None</th>\n      <th>None</th>\n      <th>None</th>\n      <th>None</th>\n      <th>None</th>\n      <th>None</th>\n      <th>...</th>\n      <th>None</th>\n      <th>None</th>\n      <th>None</th>\n      <th>None</th>\n      <th>None</th>\n      <th>None</th>\n      <th>None</th>\n      <th>None</th>\n      <th>None</th>\n      <th>None</th>\n    </tr>\n  </thead>\n  <tbody>\n    <tr>\n      <th>0</th>\n      <td>None</td>\n      <td>None</td>\n      <td>None</td>\n      <td>None</td>\n      <td>None</td>\n      <td>None</td>\n      <td>None</td>\n      <td>None</td>\n      <td>None</td>\n      <td>None</td>\n      <td>...</td>\n      <td>None</td>\n      <td>None</td>\n      <td>None</td>\n      <td>None</td>\n      <td>None</td>\n      <td>None</td>\n      <td>None</td>\n      <td>None</td>\n      <td>None</td>\n      <td>None</td>\n    </tr>\n    <tr>\n      <th>1</th>\n      <td>Sample ID</td>\n      <td>Parallel</td>\n      <td>Date</td>\n      <td>Time</td>\n      <td>P atm</td>\n      <td>P sample before gc</td>\n      <td>P sample after gc</td>\n      <td>CH4</td>\n      <td>CO2</td>\n      <td>O2</td>\n      <td>...</td>\n      <td>CO2_a_aq</td>\n      <td>CO2_a_aq</td>\n      <td>CO2_dissolved between timesteps_aq</td>\n      <td>CO2_cum_aq</td>\n      <td>DIC_cum</td>\n      <td>Ctot_DM</td>\n      <td>Ratio O2/CO2</td>\n      <td>None</td>\n      <td>None</td>\n      <td>None</td>\n    </tr>\n    <tr>\n      <th>2</th>\n      <td>None</td>\n      <td>None</td>\n      <td>None</td>\n      <td>None</td>\n      <td>hPa</td>\n      <td>hPa</td>\n      <td>hPa</td>\n      <td>%</td>\n      <td>%</td>\n      <td>%</td>\n      <td>...</td>\n      <td>mol/m3</td>\n      <td>mol</td>\n      <td>mol</td>\n      <td>mol/m3</td>\n      <td>mg C/gDW</td>\n      <td>mg C/gDW</td>\n      <td>None</td>\n      <td>None</td>\n      <td>None</td>\n      <td>None</td>\n    </tr>\n    <tr>\n      <th>3</th>\n      <td>GT1</td>\n      <td>1</td>\n      <td>2023-04-17 00:00:00</td>\n      <td>14:42:00</td>\n      <td>1025.1</td>\n      <td>1117.44</td>\n      <td>None</td>\n      <td>0</td>\n      <td>0.03</td>\n      <td>21.9</td>\n      <td>...</td>\n      <td>0</td>\n      <td>0</td>\n      <td>0.000017</td>\n      <td>0.000017</td>\n      <td>0.001342</td>\n      <td>0</td>\n      <td>0</td>\n      <td>None</td>\n      <td>None</td>\n      <td>None</td>\n    </tr>\n    <tr>\n      <th>4</th>\n      <td>GT1</td>\n      <td>1</td>\n      <td>2023-04-19 00:00:00</td>\n      <td>14:42:00</td>\n      <td>1023.1</td>\n      <td>960</td>\n      <td>958.1</td>\n      <td>0.12</td>\n      <td>1.53</td>\n      <td>2.21</td>\n      <td>...</td>\n      <td>7.628478</td>\n      <td>0.000748</td>\n      <td>0.000749</td>\n      <td>0.000766</td>\n      <td>0.059861</td>\n      <td>0.107374</td>\n      <td>6.719315</td>\n      <td>None</td>\n      <td>None</td>\n      <td>None</td>\n    </tr>\n    <tr>\n      <th>5</th>\n      <td>GT1</td>\n      <td>1</td>\n      <td>2023-04-24 00:00:00</td>\n      <td>10:20:00</td>\n      <td>1002.3</td>\n      <td>962.2</td>\n      <td>959.8</td>\n      <td>0.25</td>\n      <td>2.41</td>\n      <td>1.59</td>\n      <td>...</td>\n      <td>11.700945</td>\n      <td>0.001147</td>\n      <td>0.000402</td>\n      <td>0.001168</td>\n      <td>0.091263</td>\n      <td>0.166575</td>\n      <td>0.347675</td>\n      <td>None</td>\n      <td>None</td>\n      <td>None</td>\n    </tr>\n    <tr>\n      <th>6</th>\n      <td>GT1</td>\n      <td>1</td>\n      <td>2023-04-24 00:00:00</td>\n      <td>11:25:00</td>\n      <td>1003.3</td>\n      <td>1104.6</td>\n      <td>1085.8</td>\n      <td>0</td>\n      <td>0.74</td>\n      <td>19.79</td>\n      <td>...</td>\n      <td>4.313996</td>\n      <td>0.000423</td>\n      <td>-0.000717</td>\n      <td>0.000452</td>\n      <td>0.035281</td>\n      <td>None</td>\n      <td>0</td>\n      <td>None</td>\n      <td>None</td>\n      <td>None</td>\n    </tr>\n    <tr>\n      <th>7</th>\n      <td>GT1</td>\n      <td>1</td>\n      <td>2023-04-26 00:00:00</td>\n      <td>08:52:00</td>\n      <td>1017</td>\n      <td>954</td>\n      <td>951</td>\n      <td>0.03</td>\n      <td>2.72</td>\n      <td>8.46</td>\n      <td>...</td>\n      <td>13.060963</td>\n      <td>0.00128</td>\n      <td>0.000861</td>\n      <td>0.001313</td>\n      <td>0.102562</td>\n      <td>0.230482</td>\n      <td>3.691717</td>\n      <td>None</td>\n      <td>None</td>\n      <td>None</td>\n    </tr>\n    <tr>\n      <th>8</th>\n      <td>GT1</td>\n      <td>1</td>\n      <td>2023-04-26 00:00:00</td>\n      <td>09:53:00</td>\n      <td>1017.2</td>\n      <td>1120.8</td>\n      <td>1105.6</td>\n      <td>0</td>\n      <td>0.63</td>\n      <td>20.51</td>\n      <td>...</td>\n      <td>3.730508</td>\n      <td>0.000366</td>\n      <td>-0.000909</td>\n      <td>0.000404</td>\n      <td>0.031522</td>\n      <td>None</td>\n      <td>0</td>\n      <td>None</td>\n      <td>None</td>\n      <td>None</td>\n    </tr>\n    <tr>\n      <th>9</th>\n      <td>GT1</td>\n      <td>1</td>\n      <td>2023-04-28 00:00:00</td>\n      <td>09:45:00</td>\n      <td>1006.8</td>\n      <td>1029.2</td>\n      <td>1025.8</td>\n      <td>0</td>\n      <td>4.52</td>\n      <td>11.77</td>\n      <td>...</td>\n      <td>22.771623</td>\n      <td>0.002232</td>\n      <td>0.001873</td>\n      <td>0.002277</td>\n      <td>0.177876</td>\n      <td>0.418379</td>\n      <td>1.409119</td>\n      <td>None</td>\n      <td>None</td>\n      <td>None</td>\n    </tr>\n    <tr>\n      <th>10</th>\n      <td>GT1</td>\n      <td>1</td>\n      <td>2023-05-01 00:00:00</td>\n      <td>13:50:00</td>\n      <td>1013.1</td>\n      <td>1042.7</td>\n      <td>1039.9</td>\n      <td>0</td>\n      <td>5.74</td>\n      <td>9.74</td>\n      <td>...</td>\n      <td>31.597172</td>\n      <td>0.003097</td>\n      <td>0.000873</td>\n      <td>0.00315</td>\n      <td>0.246095</td>\n      <td>0.539075</td>\n      <td>0.270148</td>\n      <td>None</td>\n      <td>None</td>\n      <td>None</td>\n    </tr>\n    <tr>\n      <th>11</th>\n      <td>GT1</td>\n      <td>1</td>\n      <td>2023-05-01 00:00:00</td>\n      <td>14:49:00</td>\n      <td>1013.3</td>\n      <td>1114.6</td>\n      <td>1110.6</td>\n      <td>0</td>\n      <td>0.78</td>\n      <td>20.5</td>\n      <td>...</td>\n      <td>4.645321</td>\n      <td>0.000455</td>\n      <td>-0.00264</td>\n      <td>0.000511</td>\n      <td>0.039883</td>\n      <td>None</td>\n      <td>0</td>\n      <td>None</td>\n      <td>None</td>\n      <td>None</td>\n    </tr>\n    <tr>\n      <th>12</th>\n      <td>GT1</td>\n      <td>1</td>\n      <td>2023-05-04 00:00:00</td>\n      <td>09:26:00</td>\n      <td>1017.9</td>\n      <td>1050.6</td>\n      <td>1046.6</td>\n      <td>0</td>\n      <td>5.34</td>\n      <td>12.97</td>\n      <td>...</td>\n      <td>27.856337</td>\n      <td>0.00273</td>\n      <td>0.002285</td>\n      <td>0.002796</td>\n      <td>0.218399</td>\n      <td>0.648703</td>\n      <td>1.010109</td>\n      <td>None</td>\n      <td>None</td>\n      <td>None</td>\n    </tr>\n    <tr>\n      <th>13</th>\n      <td>GT1</td>\n      <td>1</td>\n      <td>2023-05-04 00:00:00</td>\n      <td>10:46:00</td>\n      <td>1017.2</td>\n      <td>1122.1</td>\n      <td>1119.1</td>\n      <td>0</td>\n      <td>0.5</td>\n      <td>20.32</td>\n      <td>...</td>\n      <td>3.036363</td>\n      <td>0.000298</td>\n      <td>-0.002432</td>\n      <td>0.000364</td>\n      <td>0.028443</td>\n      <td>None</td>\n      <td>0</td>\n      <td>None</td>\n      <td>None</td>\n      <td>None</td>\n    </tr>\n    <tr>\n      <th>14</th>\n      <td>GT1</td>\n      <td>1</td>\n      <td>2023-05-08 00:00:00</td>\n      <td>08:40:00</td>\n      <td>1018.7</td>\n      <td>1037.5</td>\n      <td>1035.2</td>\n      <td>0</td>\n      <td>6.98</td>\n      <td>8.07</td>\n      <td>...</td>\n      <td>37.64733</td>\n      <td>0.003689</td>\n      <td>0.0034</td>\n      <td>0.003764</td>\n      <td>0.29406</td>\n      <td>0.928691</td>\n      <td>0.99973</td>\n      <td>None</td>\n      <td>None</td>\n      <td>None</td>\n    </tr>\n    <tr>\n      <th>15</th>\n      <td>GT1</td>\n      <td>1</td>\n      <td>2023-05-08 00:00:00</td>\n      <td>09:47:00</td>\n      <td>1018.7</td>\n      <td>1123.2</td>\n      <td>1120.3</td>\n      <td>0</td>\n      <td>0.57</td>\n      <td>20.11</td>\n      <td>...</td>\n      <td>3.493438</td>\n      <td>0.000342</td>\n      <td>-0.003346</td>\n      <td>0.000418</td>\n      <td>0.032652</td>\n      <td>None</td>\n      <td>0</td>\n      <td>None</td>\n      <td>None</td>\n      <td>None</td>\n    </tr>\n    <tr>\n      <th>16</th>\n      <td>GT1</td>\n      <td>1</td>\n      <td>2023-05-10 00:00:00</td>\n      <td>09:35:00</td>\n      <td>1007.5</td>\n      <td>1073</td>\n      <td>1070.6</td>\n      <td>0</td>\n      <td>4.77</td>\n      <td>15.79</td>\n      <td>...</td>\n      <td>24.005362</td>\n      <td>0.002353</td>\n      <td>0.002015</td>\n      <td>0.002433</td>\n      <td>0.1901</td>\n      <td>0.945849</td>\n      <td>0.921948</td>\n      <td>None</td>\n      <td>None</td>\n      <td>None</td>\n    </tr>\n    <tr>\n      <th>17</th>\n      <td>GT1</td>\n      <td>1</td>\n      <td>2023-05-10 00:00:00</td>\n      <td>10:40:00</td>\n      <td>1008</td>\n      <td>1112.4</td>\n      <td>1109.9</td>\n      <td>0</td>\n      <td>0.4</td>\n      <td>20.24</td>\n      <td>...</td>\n      <td>2.421684</td>\n      <td>0.000237</td>\n      <td>-0.002115</td>\n      <td>0.000319</td>\n      <td>0.0249</td>\n      <td>None</td>\n      <td>0</td>\n      <td>None</td>\n      <td>None</td>\n      <td>None</td>\n    </tr>\n    <tr>\n      <th>18</th>\n      <td>GT1</td>\n      <td>1</td>\n      <td>2023-05-12 00:00:00</td>\n      <td>09:09:00</td>\n      <td>1014.4</td>\n      <td>1068.8</td>\n      <td>1066.2</td>\n      <td>0</td>\n      <td>3.7</td>\n      <td>15.45</td>\n      <td>...</td>\n      <td>20.021384</td>\n      <td>0.001962</td>\n      <td>0.00173</td>\n      <td>0.002048</td>\n      <td>0.160015</td>\n      <td>1.019701</td>\n      <td>0.954168</td>\n      <td>None</td>\n      <td>None</td>\n      <td>None</td>\n    </tr>\n    <tr>\n      <th>19</th>\n      <td>GT1</td>\n      <td>1</td>\n      <td>2023-05-12 00:00:00</td>\n      <td>10:10:00</td>\n      <td>1014.9</td>\n      <td>1118.6</td>\n      <td>1115.3</td>\n      <td>0</td>\n      <td>0.41</td>\n      <td>20.26</td>\n      <td>...</td>\n      <td>2.494043</td>\n      <td>0.000244</td>\n      <td>-0.001717</td>\n      <td>0.000331</td>\n      <td>0.025884</td>\n      <td>None</td>\n      <td>0</td>\n      <td>None</td>\n      <td>None</td>\n      <td>None</td>\n    </tr>\n    <tr>\n      <th>20</th>\n      <td>GT1</td>\n      <td>1</td>\n      <td>2023-05-15 00:00:00</td>\n      <td>09:30:00</td>\n      <td>1012.5</td>\n      <td>1068.2</td>\n      <td>1061.9</td>\n      <td>0</td>\n      <td>4.43</td>\n      <td>15.52</td>\n      <td>...</td>\n      <td>22.350159</td>\n      <td>0.00219</td>\n      <td>0.001959</td>\n      <td>0.00229</td>\n      <td>0.178915</td>\n      <td>1.156321</td>\n      <td>0.967441</td>\n      <td>None</td>\n      <td>None</td>\n      <td>None</td>\n    </tr>\n    <tr>\n      <th>21</th>\n      <td>GT1</td>\n      <td>1</td>\n      <td>2023-05-15 00:00:00</td>\n      <td>10:38:00</td>\n      <td>1012.8</td>\n      <td>1117.1</td>\n      <td>1113.5</td>\n      <td>0</td>\n      <td>0.42</td>\n      <td>20.54</td>\n      <td>...</td>\n      <td>2.516631</td>\n      <td>0.000247</td>\n      <td>-0.001943</td>\n      <td>0.000347</td>\n      <td>0.027135</td>\n      <td>None</td>\n      <td>0</td>\n      <td>None</td>\n      <td>None</td>\n      <td>None</td>\n    </tr>\n    <tr>\n      <th>22</th>\n      <td>GT1</td>\n      <td>1</td>\n      <td>2023-05-17 00:00:00</td>\n      <td>08:52:00</td>\n      <td>1025</td>\n      <td>1088.6</td>\n      <td>1086.7</td>\n      <td>0</td>\n      <td>3.02</td>\n      <td>18.61</td>\n      <td>...</td>\n      <td>15.699252</td>\n      <td>0.001539</td>\n      <td>0.001295</td>\n      <td>0.001642</td>\n      <td>0.128269</td>\n      <td>1.183473</td>\n      <td>0.861129</td>\n      <td>None</td>\n      <td>None</td>\n      <td>None</td>\n    </tr>\n    <tr>\n      <th>23</th>\n      <td>GT1</td>\n      <td>1</td>\n      <td>2023-05-17 00:00:00</td>\n      <td>09:57:00</td>\n      <td>1025.6</td>\n      <td>1129</td>\n      <td>1125.8</td>\n      <td>0</td>\n      <td>0.29</td>\n      <td>20.55</td>\n      <td>...</td>\n      <td>1.759403</td>\n      <td>0.000172</td>\n      <td>-0.001366</td>\n      <td>0.000276</td>\n      <td>0.021586</td>\n      <td>None</td>\n      <td>0</td>\n      <td>None</td>\n      <td>None</td>\n      <td>None</td>\n    </tr>\n    <tr>\n      <th>24</th>\n      <td>GT1</td>\n      <td>1</td>\n      <td>2023-05-22 00:00:00</td>\n      <td>14:11:00</td>\n      <td>1013.1</td>\n      <td>1074.8</td>\n      <td>1072.5</td>\n      <td>0</td>\n      <td>7.08</td>\n      <td>12.54</td>\n      <td>...</td>\n      <td>35.486515</td>\n      <td>0.003478</td>\n      <td>0.003313</td>\n      <td>0.003589</td>\n      <td>0.280379</td>\n      <td>1.53466</td>\n      <td>0.793441</td>\n      <td>None</td>\n      <td>None</td>\n      <td>None</td>\n    </tr>\n    <tr>\n      <th>25</th>\n      <td>GT1</td>\n      <td>1</td>\n      <td>2023-05-22 00:00:00</td>\n      <td>15:08:00</td>\n      <td>1013.6</td>\n      <td>1112</td>\n      <td>1108.6</td>\n      <td>0</td>\n      <td>0.64</td>\n      <td>20.31</td>\n      <td>...</td>\n      <td>3.845291</td>\n      <td>0.000377</td>\n      <td>-0.0031</td>\n      <td>0.000489</td>\n      <td>0.038228</td>\n      <td>None</td>\n      <td>0</td>\n      <td>None</td>\n      <td>None</td>\n      <td>None</td>\n    </tr>\n  </tbody>\n</table>\n<p>26 rows × 56 columns</p>\n</div>"
     },
     "metadata": {},
     "output_type": "display_data"
    },
    {
     "name": "stdout",
     "output_type": "stream",
     "text": [
      " As you can see now the full sheet is shown\n"
     ]
    }
   ],
   "source": [
    "# check if you can see the data_frame\n",
    "full_sheet = manager.load_sheet_table(sheet_name=\"GT1.1\", start_row=9)\n",
    "\n",
    "display(full_sheet)\n",
    "print(f' As you can see now the full sheet is shown')"
   ],
   "metadata": {
    "collapsed": false,
    "ExecuteTime": {
     "end_time": "2023-06-26T14:02:44.968652400Z",
     "start_time": "2023-06-26T14:02:44.924402300Z"
    }
   }
  },
  {
   "cell_type": "markdown",
   "source": [
    "### Filling th dictionary for the constants of the samples  in the instance of hte excel manager class"
   ],
   "metadata": {
    "collapsed": false
   }
  },
  {
   "cell_type": "code",
   "execution_count": 6,
   "outputs": [
    {
     "name": "stdout",
     "output_type": "stream",
     "text": [
      "loading Notes is done\n",
      "loading GT1.1 is done\n",
      "loading GT1.2 is done\n",
      "loading GT2.1 is done\n",
      "loading GT2.2 is done\n",
      "loading GT3.1 is done\n",
      "loading GT3.2 is done\n",
      "loading GT4.1 is done\n",
      "loading GT4.2 is done\n",
      "loading GT5.1 is done\n",
      "loading GT5.2 is done\n",
      "loading GT6.1 is done\n",
      "loading GT6.2 is done\n",
      "loading GT7.1 is done\n",
      "loading GT7.2 is done\n",
      "loading GT8.1 is done\n",
      "loading GT8.2 is done\n"
     ]
    }
   ],
   "source": [
    "# fil in the dict with constants for the samples\n",
    "sheet_names_samples = manager.get_sheet_names()\n",
    "for sheet_name in sheet_names_samples:\n",
    "    # loading the panda data frame for the sample\n",
    "    constants_data_frame = manager.load_constants_as_data_frame(sheet_name=sheet_name, start_row=1, end_row=7, start_col=3)\n",
    "\n",
    "    constants_data_class = manager.load_constants_as_data_class(sheet_name=sheet_name, start_row=1, end_row=7, start_col=3)\n",
    "\n",
    "    # fill the dictionary\n",
    "    manager.fill_dict_constants_data_frames(data_frame=constants_data_frame, sheets=[sheet_name])\n",
    "\n",
    "    manager.fill_dict_constants_data_classes(data_class=constants_data_class, sheets=[sheet_name])\n",
    "\n",
    "    print(f\"loading {sheet_name} is done\")\n",
    "\n",
    "dict_constants = manager.get_dict_constants_data_frames()\n",
    "dict_constants_data_classes = manager.get_dict_constants_data_classes()"
   ],
   "metadata": {
    "collapsed": false,
    "ExecuteTime": {
     "end_time": "2023-06-26T14:02:45.033481300Z",
     "start_time": "2023-06-26T14:02:44.971636200Z"
    }
   }
  },
  {
   "cell_type": "markdown",
   "source": [
    "# Validate Input data (TODO!)"
   ],
   "metadata": {
    "collapsed": false
   }
  },
  {
   "cell_type": "markdown",
   "source": [
    "#### running all the calculations for each data frame (sammple)"
   ],
   "metadata": {
    "collapsed": false
   }
  },
  {
   "cell_type": "code",
   "execution_count": 7,
   "outputs": [
    {
     "name": "stdout",
     "output_type": "stream",
     "text": [
      "started with sheet: GT1.1\n",
      "finished calculations GT1.1\n",
      "filled dictionary for GT1.1\n",
      "started with sheet: GT1.2\n",
      "finished calculations GT1.2\n",
      "filled dictionary for GT1.2\n",
      "started with sheet: GT2.1\n",
      "finished calculations GT2.1\n",
      "filled dictionary for GT2.1\n",
      "started with sheet: GT2.2\n",
      "finished calculations GT2.2\n",
      "filled dictionary for GT2.2\n",
      "started with sheet: GT3.1\n",
      "finished calculations GT3.1\n",
      "filled dictionary for GT3.1\n",
      "started with sheet: GT3.2\n",
      "finished calculations GT3.2\n",
      "filled dictionary for GT3.2\n",
      "started with sheet: GT4.1\n",
      "finished calculations GT4.1\n",
      "filled dictionary for GT4.1\n",
      "started with sheet: GT4.2\n",
      "finished calculations GT4.2\n",
      "filled dictionary for GT4.2\n",
      "started with sheet: GT5.1\n",
      "finished calculations GT5.1\n",
      "filled dictionary for GT5.1\n",
      "started with sheet: GT5.2\n",
      "finished calculations GT5.2\n",
      "filled dictionary for GT5.2\n",
      "started with sheet: GT6.1\n",
      "finished calculations GT6.1\n",
      "filled dictionary for GT6.1\n",
      "started with sheet: GT6.2\n",
      "finished calculations GT6.2\n",
      "filled dictionary for GT6.2\n",
      "started with sheet: GT7.1\n",
      "finished calculations GT7.1\n",
      "filled dictionary for GT7.1\n",
      "started with sheet: GT7.2\n",
      "finished calculations GT7.2\n",
      "filled dictionary for GT7.2\n",
      "started with sheet: GT8.1\n",
      "finished calculations GT8.1\n",
      "filled dictionary for GT8.1\n",
      "started with sheet: GT8.2\n",
      "finished calculations GT8.2\n",
      "filled dictionary for GT8.2\n"
     ]
    }
   ],
   "source": [
    "from data_frame_calculations import GasComposition\n",
    "from nice_functions import NiceExcelFunction\n",
    "\n",
    "# Now all the data frames are read in, calculated and returned in to the excell_file\n",
    "sheet_names_samples = sheet_names[1:]\n",
    "for sheet_name in sheet_names_samples:\n",
    "    print(f\"started with sheet: {sheet_name}\")\n",
    "    # loading the data frame\n",
    "    column_end = NiceExcelFunction.get_column_index_from_letter(column_letter=\"O\")\n",
    "    data_frame = manager.load_sheet_table_with_input_header(sheet_name=sheet_name, column_names=basic_column_names, start_row=12, end_column=column_end)\n",
    "\n",
    "    # loading the data class with the constants for the sample\n",
    "    constants_data_class = dict_constants_data_classes[sheet_name]\n",
    "\n",
    "    # adding date and do the gas composition corrections.\n",
    "    RunDataFrameCalculationsForOneDataFrame(data_frame=data_frame).run_data_frame_processor_calculations()\n",
    "    RunDataFrameCalculationsForOneDataFrame(data_frame=data_frame).run_gas_composition_calculations()\n",
    "\n",
    "    # calculations for moles before and after sampling\n",
    "    RunDataFrameCalculationsForOneDataFrame(data_frame=data_frame).run_mol_gases_before_and_after_sampling(Rgas=constants_data_class.Rgas,\n",
    "                                                                                                           exp_temperature=constants_data_class.expTemp,\n",
    "                                                                                                           volume_headspace=constants_data_class.volume_headspace)\n",
    "    # correcting the mg_bs for the first measurement\n",
    "    data_frame.loc[0, \"mg_as\"] = data_frame.loc[0, \"mg_bs\"]\n",
    "\n",
    "    # run mol gas composition\n",
    "    RunDataFrameCalculationsForOneDataFrame(data_frame=data_frame).run_mol_gas_composition_calculation()\n",
    "\n",
    "    # run moles produced\n",
    "    RunDataFrameCalculationsForOneDataFrame(data_frame=data_frame).run_moles_produced()\n",
    "    # run cumulative calculations carbon in gas phase\n",
    "    RunDataFrameCalculationsForOneDataFrame(data_frame=data_frame).run_cumulative_production_in_the_gas_phase(molar_mass_carbon=constants_data_class.molar_mass_carbon,\n",
    "                                                                                                              dry_mass_sample=constants_data_class.dry_mass_sample)\n",
    "\n",
    "    # run calculation carbon in the aqueous phase\n",
    "    RunDataFrameCalculationsForOneDataFrame(data_frame=data_frame).run_carbon_in_aqueous_phase(water_volume_in_liters=constants_data_class.water_volume,\n",
    "                                                                                    dry_mass_sample=constants_data_class.dry_mass_sample)\n",
    "\n",
    "    # run results interpretations\n",
    "    RunDataFrameCalculationsForOneDataFrame(data_frame=data_frame).run_results_Interpretations()\n",
    "\n",
    "    # print to see the process\n",
    "    print(f\"finished calculations {sheet_name}\")\n",
    "\n",
    "    # overwrite the old data frame or fill with the new data frame which has calculations\n",
    "    manager.fill_dict_panda_data_frames(data_frame=data_frame, sheets=[sheet_name])\n",
    "\n",
    "    # print to see the process\n",
    "    print(f\"filled dictionary for {sheet_name}\")"
   ],
   "metadata": {
    "collapsed": false,
    "ExecuteTime": {
     "end_time": "2023-06-26T14:02:45.569199Z",
     "start_time": "2023-06-26T14:02:44.996563200Z"
    }
   }
  },
  {
   "cell_type": "markdown",
   "source": [
    "#### you can see the data frame below. Please fill the name of the tab below:"
   ],
   "metadata": {
    "collapsed": false
   }
  },
  {
   "cell_type": "code",
   "execution_count": 8,
   "outputs": [
    {
     "data": {
      "text/plain": "   Sample ID  Parallel        Date      Time  P atm [hPa]   \n0        GT2         2  2023-04-17  15:09:00       1025.4  \\\n1        GT2         2  2023-04-19  14:58:00       1023.2   \n2        GT2         2  2023-04-24  10:38:00       1002.9   \n3        GT2         2  2023-04-24  11:41:00       1003.5   \n4        GT2         2  2023-04-26  09:01:00       1017.1   \n5        GT2         2  2023-04-26  10:06:00       1017.3   \n6        GT2         2  2023-04-28  09:53:00       1006.9   \n7        GT2         2  2023-05-01  13:57:00       1013.1   \n8        GT2         2  2023-05-01  14:57:00       1013.3   \n9        GT2         2  2023-05-04  09:55:00       1017.7   \n10       GT2         2  2023-05-08  09:00:00       1018.7   \n11       GT2         2  2023-05-08  09:56:00       1018.7   \n12       GT2         2  2023-05-10  09:45:00       1007.6   \n13       GT2         2  2023-05-12  09:15:00       1014.5   \n14       GT2         2  2023-05-12  10:42:00       1015.1   \n15       GT2         2  2023-05-15  09:47:00       1012.7   \n16       GT2         2  2023-05-17  09:01:00       1025.2   \n17       GT2         2  2023-05-17  10:05:00       1025.7   \n18       GT2         2  2023-05-22  14:18:00       1013.3   \n19       GT2         2  2023-05-22  15:15:00       1013.6   \n\n    P sample before gc [hPa]  P sample after gc [hPa]  CH4 [%]  CO2 [%]   \n0                1127.316667              1127.316667     0.00     0.03  \\\n1                 945.800000               951.000000     0.04     0.92   \n2                 967.900000               964.800000     0.14     2.47   \n3                1100.900000              1097.100000     0.00     0.76   \n4                1003.500000              1003.300000     0.01     1.66   \n5                1115.500000              1112.100000     0.00     0.51   \n6                1065.300000              1062.300000     0.00     1.51   \n7                1022.900000              1020.000000     0.01     2.78   \n8                1115.900000              1112.300000     0.00     0.69   \n9                1069.800000              1067.600000     0.00     1.69   \n10               1029.500000              1027.100000     0.00     3.13   \n11               1121.700000              1118.800000     0.00     0.88   \n12               1093.500000              1090.300000     0.00     1.52   \n13               1068.900000              1065.900000     0.00     2.24   \n14               1117.600000              1114.000000     0.00     0.55   \n15               1081.900000              1078.800000     0.03     1.79   \n16               1058.800000              1056.600000     0.00     2.70   \n17               1129.300000              1125.800000     0.00     0.58   \n18               1070.500000              1068.300000     0.17     3.48   \n19               1112.500000              1109.500000     0.00     0.75   \n\n    O2 [%]  ...  CO2_b_aq [mol/m3]  CO2_b_aq [mol]    PP CO2_a    \n0    21.90  ...           0.176876        0.000017    33.819500  \\\n1     9.75  ...           4.614491        0.000452   882.311904   \n2     1.29  ...          12.410351        0.001216  2372.916129   \n3    19.84  ...           4.491744        0.000440   858.842127   \n4    12.34  ...           8.668842        0.000850  1657.522388   \n5    20.59  ...           3.045106        0.000298   582.238256   \n6    16.44  ...           8.300931        0.000813  1587.176122   \n7    11.02  ...          15.051465        0.001475  2877.909119   \n8    20.56  ...           4.126394        0.000404   788.985552   \n9    16.81  ...           9.658469        0.000947  1846.743616   \n10   12.18  ...          17.019604        0.001668  3254.226419   \n11   20.17  ...           5.371462        0.000526  1027.048174   \n12   18.65  ...           8.659117        0.000849  1655.662915   \n13   16.08  ...          12.636102        0.001238  2416.080727   \n14   20.21  ...           3.357469        0.000329   641.963446   \n15   17.90  ...           9.908456        0.000971  1894.542164   \n16   15.41  ...          14.571011        0.001428  2786.044245   \n17   20.57  ...           3.512374        0.000344   671.582077   \n18   14.43  ...          18.844693        0.001847  3603.191798   \n19   20.28  ...           4.517840        0.000443   863.831660   \n\n   CO2_a_aq [mol/m3]  CO2_a_aq [mol] CO2_dissolved_between_time_steps_aq   \n0           0.176876        0.000017                            0.000000  \\\n1           4.614491        0.000452                            0.000435   \n2          12.410351        0.001216                            0.000764   \n3           4.491744        0.000440                           -0.000776   \n4           8.668842        0.000850                            0.000409   \n5           3.045106        0.000298                           -0.000551   \n6           8.300931        0.000813                            0.000515   \n7          15.051465        0.001475                            0.000662   \n8           4.126394        0.000404                           -0.001071   \n9           9.658469        0.000947                            0.000542   \n10         17.019604        0.001668                            0.000721   \n11          5.371462        0.000526                           -0.001142   \n12          8.659117        0.000849                            0.000322   \n13         12.636102        0.001238                            0.000390   \n14          3.357469        0.000329                           -0.000909   \n15          9.908456        0.000971                            0.000642   \n16         14.571011        0.001428                            0.000457   \n17          3.512374        0.000344                           -0.001084   \n18         18.844693        0.001847                            0.001503   \n19          4.517840        0.000443                           -0.001404   \n\n    CO2_produced_aq_cum   DIC_cum  Ctot_DM [mg C/gDW]  Ratio O2/CO2  \n0              0.000000  0.001354            0.000000      0.000000  \n1              0.000435  0.035328            0.062644      7.859416  \n2              0.001199  0.095012            0.171045      2.384328  \n3              0.000423  0.034388                 NaN           NaN  \n4              0.000832  0.066367            0.167400      5.446676  \n5              0.000281  0.023313                 NaN           NaN  \n6              0.000796  0.063551            0.195591      2.660744  \n7              0.001458  0.115232            0.287485      1.958717  \n8              0.000387  0.031591                 NaN           NaN  \n9              0.000929  0.073944            0.278855      2.079600  \n10             0.001651  0.130300            0.378680      1.748838  \n11             0.000509  0.041123                 NaN           NaN  \n12             0.000831  0.066293            0.334117      2.185104  \n13             0.001221  0.096740            0.388135      1.659899  \n14             0.000312  0.025704                 NaN           NaN  \n15             0.000954  0.075858            0.406875      1.584429  \n16             0.001411  0.111554            0.469222      1.454410  \n17             0.000327  0.026890                 NaN           NaN  \n18             0.001829  0.144272            0.597723      1.305233  \n19             0.000425  0.034588                 NaN           NaN  \n\n[20 rows x 53 columns]",
      "text/html": "<div>\n<style scoped>\n    .dataframe tbody tr th:only-of-type {\n        vertical-align: middle;\n    }\n\n    .dataframe tbody tr th {\n        vertical-align: top;\n    }\n\n    .dataframe thead th {\n        text-align: right;\n    }\n</style>\n<table border=\"1\" class=\"dataframe\">\n  <thead>\n    <tr style=\"text-align: right;\">\n      <th></th>\n      <th>Sample ID</th>\n      <th>Parallel</th>\n      <th>Date</th>\n      <th>Time</th>\n      <th>P atm [hPa]</th>\n      <th>P sample before gc [hPa]</th>\n      <th>P sample after gc [hPa]</th>\n      <th>CH4 [%]</th>\n      <th>CO2 [%]</th>\n      <th>O2 [%]</th>\n      <th>...</th>\n      <th>CO2_b_aq [mol/m3]</th>\n      <th>CO2_b_aq [mol]</th>\n      <th>PP CO2_a</th>\n      <th>CO2_a_aq [mol/m3]</th>\n      <th>CO2_a_aq [mol]</th>\n      <th>CO2_dissolved_between_time_steps_aq</th>\n      <th>CO2_produced_aq_cum</th>\n      <th>DIC_cum</th>\n      <th>Ctot_DM [mg C/gDW]</th>\n      <th>Ratio O2/CO2</th>\n    </tr>\n  </thead>\n  <tbody>\n    <tr>\n      <th>0</th>\n      <td>GT2</td>\n      <td>2</td>\n      <td>2023-04-17</td>\n      <td>15:09:00</td>\n      <td>1025.4</td>\n      <td>1127.316667</td>\n      <td>1127.316667</td>\n      <td>0.00</td>\n      <td>0.03</td>\n      <td>21.90</td>\n      <td>...</td>\n      <td>0.176876</td>\n      <td>0.000017</td>\n      <td>33.819500</td>\n      <td>0.176876</td>\n      <td>0.000017</td>\n      <td>0.000000</td>\n      <td>0.000000</td>\n      <td>0.001354</td>\n      <td>0.000000</td>\n      <td>0.000000</td>\n    </tr>\n    <tr>\n      <th>1</th>\n      <td>GT2</td>\n      <td>2</td>\n      <td>2023-04-19</td>\n      <td>14:58:00</td>\n      <td>1023.2</td>\n      <td>945.800000</td>\n      <td>951.000000</td>\n      <td>0.04</td>\n      <td>0.92</td>\n      <td>9.75</td>\n      <td>...</td>\n      <td>4.614491</td>\n      <td>0.000452</td>\n      <td>882.311904</td>\n      <td>4.614491</td>\n      <td>0.000452</td>\n      <td>0.000435</td>\n      <td>0.000435</td>\n      <td>0.035328</td>\n      <td>0.062644</td>\n      <td>7.859416</td>\n    </tr>\n    <tr>\n      <th>2</th>\n      <td>GT2</td>\n      <td>2</td>\n      <td>2023-04-24</td>\n      <td>10:38:00</td>\n      <td>1002.9</td>\n      <td>967.900000</td>\n      <td>964.800000</td>\n      <td>0.14</td>\n      <td>2.47</td>\n      <td>1.29</td>\n      <td>...</td>\n      <td>12.410351</td>\n      <td>0.001216</td>\n      <td>2372.916129</td>\n      <td>12.410351</td>\n      <td>0.001216</td>\n      <td>0.000764</td>\n      <td>0.001199</td>\n      <td>0.095012</td>\n      <td>0.171045</td>\n      <td>2.384328</td>\n    </tr>\n    <tr>\n      <th>3</th>\n      <td>GT2</td>\n      <td>2</td>\n      <td>2023-04-24</td>\n      <td>11:41:00</td>\n      <td>1003.5</td>\n      <td>1100.900000</td>\n      <td>1097.100000</td>\n      <td>0.00</td>\n      <td>0.76</td>\n      <td>19.84</td>\n      <td>...</td>\n      <td>4.491744</td>\n      <td>0.000440</td>\n      <td>858.842127</td>\n      <td>4.491744</td>\n      <td>0.000440</td>\n      <td>-0.000776</td>\n      <td>0.000423</td>\n      <td>0.034388</td>\n      <td>NaN</td>\n      <td>NaN</td>\n    </tr>\n    <tr>\n      <th>4</th>\n      <td>GT2</td>\n      <td>2</td>\n      <td>2023-04-26</td>\n      <td>09:01:00</td>\n      <td>1017.1</td>\n      <td>1003.500000</td>\n      <td>1003.300000</td>\n      <td>0.01</td>\n      <td>1.66</td>\n      <td>12.34</td>\n      <td>...</td>\n      <td>8.668842</td>\n      <td>0.000850</td>\n      <td>1657.522388</td>\n      <td>8.668842</td>\n      <td>0.000850</td>\n      <td>0.000409</td>\n      <td>0.000832</td>\n      <td>0.066367</td>\n      <td>0.167400</td>\n      <td>5.446676</td>\n    </tr>\n    <tr>\n      <th>5</th>\n      <td>GT2</td>\n      <td>2</td>\n      <td>2023-04-26</td>\n      <td>10:06:00</td>\n      <td>1017.3</td>\n      <td>1115.500000</td>\n      <td>1112.100000</td>\n      <td>0.00</td>\n      <td>0.51</td>\n      <td>20.59</td>\n      <td>...</td>\n      <td>3.045106</td>\n      <td>0.000298</td>\n      <td>582.238256</td>\n      <td>3.045106</td>\n      <td>0.000298</td>\n      <td>-0.000551</td>\n      <td>0.000281</td>\n      <td>0.023313</td>\n      <td>NaN</td>\n      <td>NaN</td>\n    </tr>\n    <tr>\n      <th>6</th>\n      <td>GT2</td>\n      <td>2</td>\n      <td>2023-04-28</td>\n      <td>09:53:00</td>\n      <td>1006.9</td>\n      <td>1065.300000</td>\n      <td>1062.300000</td>\n      <td>0.00</td>\n      <td>1.51</td>\n      <td>16.44</td>\n      <td>...</td>\n      <td>8.300931</td>\n      <td>0.000813</td>\n      <td>1587.176122</td>\n      <td>8.300931</td>\n      <td>0.000813</td>\n      <td>0.000515</td>\n      <td>0.000796</td>\n      <td>0.063551</td>\n      <td>0.195591</td>\n      <td>2.660744</td>\n    </tr>\n    <tr>\n      <th>7</th>\n      <td>GT2</td>\n      <td>2</td>\n      <td>2023-05-01</td>\n      <td>13:57:00</td>\n      <td>1013.1</td>\n      <td>1022.900000</td>\n      <td>1020.000000</td>\n      <td>0.01</td>\n      <td>2.78</td>\n      <td>11.02</td>\n      <td>...</td>\n      <td>15.051465</td>\n      <td>0.001475</td>\n      <td>2877.909119</td>\n      <td>15.051465</td>\n      <td>0.001475</td>\n      <td>0.000662</td>\n      <td>0.001458</td>\n      <td>0.115232</td>\n      <td>0.287485</td>\n      <td>1.958717</td>\n    </tr>\n    <tr>\n      <th>8</th>\n      <td>GT2</td>\n      <td>2</td>\n      <td>2023-05-01</td>\n      <td>14:57:00</td>\n      <td>1013.3</td>\n      <td>1115.900000</td>\n      <td>1112.300000</td>\n      <td>0.00</td>\n      <td>0.69</td>\n      <td>20.56</td>\n      <td>...</td>\n      <td>4.126394</td>\n      <td>0.000404</td>\n      <td>788.985552</td>\n      <td>4.126394</td>\n      <td>0.000404</td>\n      <td>-0.001071</td>\n      <td>0.000387</td>\n      <td>0.031591</td>\n      <td>NaN</td>\n      <td>NaN</td>\n    </tr>\n    <tr>\n      <th>9</th>\n      <td>GT2</td>\n      <td>2</td>\n      <td>2023-05-04</td>\n      <td>09:55:00</td>\n      <td>1017.7</td>\n      <td>1069.800000</td>\n      <td>1067.600000</td>\n      <td>0.00</td>\n      <td>1.69</td>\n      <td>16.81</td>\n      <td>...</td>\n      <td>9.658469</td>\n      <td>0.000947</td>\n      <td>1846.743616</td>\n      <td>9.658469</td>\n      <td>0.000947</td>\n      <td>0.000542</td>\n      <td>0.000929</td>\n      <td>0.073944</td>\n      <td>0.278855</td>\n      <td>2.079600</td>\n    </tr>\n    <tr>\n      <th>10</th>\n      <td>GT2</td>\n      <td>2</td>\n      <td>2023-05-08</td>\n      <td>09:00:00</td>\n      <td>1018.7</td>\n      <td>1029.500000</td>\n      <td>1027.100000</td>\n      <td>0.00</td>\n      <td>3.13</td>\n      <td>12.18</td>\n      <td>...</td>\n      <td>17.019604</td>\n      <td>0.001668</td>\n      <td>3254.226419</td>\n      <td>17.019604</td>\n      <td>0.001668</td>\n      <td>0.000721</td>\n      <td>0.001651</td>\n      <td>0.130300</td>\n      <td>0.378680</td>\n      <td>1.748838</td>\n    </tr>\n    <tr>\n      <th>11</th>\n      <td>GT2</td>\n      <td>2</td>\n      <td>2023-05-08</td>\n      <td>09:56:00</td>\n      <td>1018.7</td>\n      <td>1121.700000</td>\n      <td>1118.800000</td>\n      <td>0.00</td>\n      <td>0.88</td>\n      <td>20.17</td>\n      <td>...</td>\n      <td>5.371462</td>\n      <td>0.000526</td>\n      <td>1027.048174</td>\n      <td>5.371462</td>\n      <td>0.000526</td>\n      <td>-0.001142</td>\n      <td>0.000509</td>\n      <td>0.041123</td>\n      <td>NaN</td>\n      <td>NaN</td>\n    </tr>\n    <tr>\n      <th>12</th>\n      <td>GT2</td>\n      <td>2</td>\n      <td>2023-05-10</td>\n      <td>09:45:00</td>\n      <td>1007.6</td>\n      <td>1093.500000</td>\n      <td>1090.300000</td>\n      <td>0.00</td>\n      <td>1.52</td>\n      <td>18.65</td>\n      <td>...</td>\n      <td>8.659117</td>\n      <td>0.000849</td>\n      <td>1655.662915</td>\n      <td>8.659117</td>\n      <td>0.000849</td>\n      <td>0.000322</td>\n      <td>0.000831</td>\n      <td>0.066293</td>\n      <td>0.334117</td>\n      <td>2.185104</td>\n    </tr>\n    <tr>\n      <th>13</th>\n      <td>GT2</td>\n      <td>2</td>\n      <td>2023-05-12</td>\n      <td>09:15:00</td>\n      <td>1014.5</td>\n      <td>1068.900000</td>\n      <td>1065.900000</td>\n      <td>0.00</td>\n      <td>2.24</td>\n      <td>16.08</td>\n      <td>...</td>\n      <td>12.636102</td>\n      <td>0.001238</td>\n      <td>2416.080727</td>\n      <td>12.636102</td>\n      <td>0.001238</td>\n      <td>0.000390</td>\n      <td>0.001221</td>\n      <td>0.096740</td>\n      <td>0.388135</td>\n      <td>1.659899</td>\n    </tr>\n    <tr>\n      <th>14</th>\n      <td>GT2</td>\n      <td>2</td>\n      <td>2023-05-12</td>\n      <td>10:42:00</td>\n      <td>1015.1</td>\n      <td>1117.600000</td>\n      <td>1114.000000</td>\n      <td>0.00</td>\n      <td>0.55</td>\n      <td>20.21</td>\n      <td>...</td>\n      <td>3.357469</td>\n      <td>0.000329</td>\n      <td>641.963446</td>\n      <td>3.357469</td>\n      <td>0.000329</td>\n      <td>-0.000909</td>\n      <td>0.000312</td>\n      <td>0.025704</td>\n      <td>NaN</td>\n      <td>NaN</td>\n    </tr>\n    <tr>\n      <th>15</th>\n      <td>GT2</td>\n      <td>2</td>\n      <td>2023-05-15</td>\n      <td>09:47:00</td>\n      <td>1012.7</td>\n      <td>1081.900000</td>\n      <td>1078.800000</td>\n      <td>0.03</td>\n      <td>1.79</td>\n      <td>17.90</td>\n      <td>...</td>\n      <td>9.908456</td>\n      <td>0.000971</td>\n      <td>1894.542164</td>\n      <td>9.908456</td>\n      <td>0.000971</td>\n      <td>0.000642</td>\n      <td>0.000954</td>\n      <td>0.075858</td>\n      <td>0.406875</td>\n      <td>1.584429</td>\n    </tr>\n    <tr>\n      <th>16</th>\n      <td>GT2</td>\n      <td>2</td>\n      <td>2023-05-17</td>\n      <td>09:01:00</td>\n      <td>1025.2</td>\n      <td>1058.800000</td>\n      <td>1056.600000</td>\n      <td>0.00</td>\n      <td>2.70</td>\n      <td>15.41</td>\n      <td>...</td>\n      <td>14.571011</td>\n      <td>0.001428</td>\n      <td>2786.044245</td>\n      <td>14.571011</td>\n      <td>0.001428</td>\n      <td>0.000457</td>\n      <td>0.001411</td>\n      <td>0.111554</td>\n      <td>0.469222</td>\n      <td>1.454410</td>\n    </tr>\n    <tr>\n      <th>17</th>\n      <td>GT2</td>\n      <td>2</td>\n      <td>2023-05-17</td>\n      <td>10:05:00</td>\n      <td>1025.7</td>\n      <td>1129.300000</td>\n      <td>1125.800000</td>\n      <td>0.00</td>\n      <td>0.58</td>\n      <td>20.57</td>\n      <td>...</td>\n      <td>3.512374</td>\n      <td>0.000344</td>\n      <td>671.582077</td>\n      <td>3.512374</td>\n      <td>0.000344</td>\n      <td>-0.001084</td>\n      <td>0.000327</td>\n      <td>0.026890</td>\n      <td>NaN</td>\n      <td>NaN</td>\n    </tr>\n    <tr>\n      <th>18</th>\n      <td>GT2</td>\n      <td>2</td>\n      <td>2023-05-22</td>\n      <td>14:18:00</td>\n      <td>1013.3</td>\n      <td>1070.500000</td>\n      <td>1068.300000</td>\n      <td>0.17</td>\n      <td>3.48</td>\n      <td>14.43</td>\n      <td>...</td>\n      <td>18.844693</td>\n      <td>0.001847</td>\n      <td>3603.191798</td>\n      <td>18.844693</td>\n      <td>0.001847</td>\n      <td>0.001503</td>\n      <td>0.001829</td>\n      <td>0.144272</td>\n      <td>0.597723</td>\n      <td>1.305233</td>\n    </tr>\n    <tr>\n      <th>19</th>\n      <td>GT2</td>\n      <td>2</td>\n      <td>2023-05-22</td>\n      <td>15:15:00</td>\n      <td>1013.6</td>\n      <td>1112.500000</td>\n      <td>1109.500000</td>\n      <td>0.00</td>\n      <td>0.75</td>\n      <td>20.28</td>\n      <td>...</td>\n      <td>4.517840</td>\n      <td>0.000443</td>\n      <td>863.831660</td>\n      <td>4.517840</td>\n      <td>0.000443</td>\n      <td>-0.001404</td>\n      <td>0.000425</td>\n      <td>0.034588</td>\n      <td>NaN</td>\n      <td>NaN</td>\n    </tr>\n  </tbody>\n</table>\n<p>20 rows × 53 columns</p>\n</div>"
     },
     "metadata": {},
     "output_type": "display_data"
    }
   ],
   "source": [
    "sheet_tab_name = \"GT2.2\"\n",
    "\n",
    "\n",
    "dict_data_frames = manager.get_dict_panda_data_frames()\n",
    "display(dict_data_frames[sheet_tab_name])\n",
    "# Set the display options\n",
    "pd.set_option('display.max_rows', None)  # Display all rows\n",
    "pd.set_option('display.max_columns', None)  # Display all columns\n",
    "pd.set_option('display.width', None)  # Automatically adjust the column width to fit the contents"
   ],
   "metadata": {
    "collapsed": false,
    "ExecuteTime": {
     "end_time": "2023-06-26T14:02:45.577153200Z",
     "start_time": "2023-06-26T14:02:45.551218200Z"
    }
   }
  },
  {
   "cell_type": "markdown",
   "source": [
    "# OVERWRITING the excel file. Did you made a copy before?"
   ],
   "metadata": {
    "collapsed": false
   }
  },
  {
   "cell_type": "code",
   "execution_count": 9,
   "outputs": [],
   "source": [
    "# for sheet_name in sheet_names_samples:\n",
    "#  # replace the table (overwrite) in the Excel file.\n",
    "#     data_frame = manager.get_dict_panda_data_frames()[sheet_name]\n",
    "#     manager.replace_table_in_specific_sheet_with_data_frame(excel_file_path=path_input_excel,\n",
    "#                                                             sheet_name=sheet_name,\n",
    "#                                                             start_row=13,\n",
    "#                                                             data_frame=data_frame,\n",
    "#                                                             header=False\n",
    "#                                                             )\n",
    "#     print(f\"replaced table in Excel for {sheet_name}\")"
   ],
   "metadata": {
    "collapsed": false,
    "ExecuteTime": {
     "end_time": "2023-06-26T14:02:45.622778400Z",
     "start_time": "2023-06-26T14:02:45.572166100Z"
    }
   }
  },
  {
   "cell_type": "code",
   "execution_count": 9,
   "outputs": [],
   "source": [],
   "metadata": {
    "collapsed": false,
    "ExecuteTime": {
     "end_time": "2023-06-26T14:02:45.622778400Z",
     "start_time": "2023-06-26T14:02:45.589130600Z"
    }
   }
  }
 ],
 "metadata": {
  "kernelspec": {
   "display_name": "Python 3",
   "language": "python",
   "name": "python3"
  },
  "language_info": {
   "codemirror_mode": {
    "name": "ipython",
    "version": 2
   },
   "file_extension": ".py",
   "mimetype": "text/x-python",
   "name": "python",
   "nbconvert_exporter": "python",
   "pygments_lexer": "ipython2",
   "version": "2.7.6"
  }
 },
 "nbformat": 4,
 "nbformat_minor": 0
}
