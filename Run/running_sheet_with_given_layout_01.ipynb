{
 "cells": [
  {
   "cell_type": "code",
   "execution_count": 16,
   "metadata": {
    "collapsed": true,
    "ExecuteTime": {
     "end_time": "2023-06-27T10:21:31.901254200Z",
     "start_time": "2023-06-27T10:21:31.878158800Z"
    }
   },
   "outputs": [],
   "source": [
    "import pandas as pd\n",
    "\n",
    "from data_frame_processor import DataFrameProcessor\n",
    "from excel_manager import ExcelManager\n",
    "from run_data_frame_calculations import RunDataFrameCalculationsForOneDataFrame\n"
   ]
  },
  {
   "cell_type": "markdown",
   "source": [
    "# Make a COPY before you run the script"
   ],
   "metadata": {
    "collapsed": false
   }
  },
  {
   "cell_type": "markdown",
   "source": [],
   "metadata": {
    "collapsed": false
   }
  },
  {
   "cell_type": "code",
   "execution_count": 17,
   "outputs": [],
   "source": [
    "path_input_excel = r\"C:\\Users\\robbe\\Downloads\\Gas_production_KRA_BEP_R.Grobben_final_01_run_File.xlsx\"\n",
    "\n",
    "#make instance of excel manger\n",
    "manager = ExcelManager(path_input_excel)\n",
    "\n",
    "# load the workbook in\n",
    "manager.load_workbook()"
   ],
   "metadata": {
    "collapsed": false,
    "ExecuteTime": {
     "end_time": "2023-06-27T10:21:37.667361600Z",
     "start_time": "2023-06-27T10:21:33.234274700Z"
    }
   }
  },
  {
   "cell_type": "markdown",
   "source": [
    "### You can see the sheet names"
   ],
   "metadata": {
    "collapsed": false
   }
  },
  {
   "cell_type": "code",
   "execution_count": 18,
   "outputs": [
    {
     "name": "stdout",
     "output_type": "stream",
     "text": [
      "['Notes', 'GT1.1', 'GT1.2', 'GT2.1', 'GT2.2', 'GT3.1', 'GT3.2', 'GT4.1', 'GT4.2', 'GT5.1', 'GT5.2', 'GT6.1', 'GT6.2', 'GT7.1', 'GT7.2', 'GT8.1', 'GT8.2']\n"
     ]
    }
   ],
   "source": [
    "# check the sheet names\n",
    "sheet_names = manager.get_sheet_names()\n",
    "print(sheet_names)"
   ],
   "metadata": {
    "collapsed": false,
    "ExecuteTime": {
     "end_time": "2023-06-27T10:21:37.760397900Z",
     "start_time": "2023-06-27T10:21:37.663043800Z"
    }
   }
  },
  {
   "cell_type": "markdown",
   "source": [
    "#### input names of table if needed"
   ],
   "metadata": {
    "collapsed": false
   }
  },
  {
   "cell_type": "code",
   "execution_count": 19,
   "outputs": [],
   "source": [
    "# column_names = ['Sample ID', 'Parallel', 'Date', 'Time', 'P atm', 'P sample before gc', 'P sample after gc', 'CH4', 'CO2', 'O2', 'N2', 'Flush (1=yes; 0=no)', 'Comments', 'GC method', 'Weight', 'Date + Time', 'Day', 'Sum', 'CH4-corr', 'CO2-corr', 'O2-corr', 'N2-corr', 'Sum-corr', 'mg_bs', 'mCO2_b', 'mCH4_b', 'mO2_b', 'mN2_b', 'mCTot_b', 'mg_as', 'mCO2_a', 'mCH4_a', 'mO2_a', 'mN2_a', 'mCTot_a', 'mCTot_produced', 'O2 consumed', 'CO2 produced', 'O2 consumed_cum', 'CO2 produced_cum', 'mCTot_produced_cum', 'Cgas_DM_cum', 'PP CO2_b', 'CO2_aq [mol/m3]', 'CO2_aq [mol]', 'CO2_produced_aq', 'DIC_cum', 'Ctot_DM', 'Ratio O2/CO2']\n",
    "#\n",
    "basic_column_names = ['Sample ID', 'Parallel', 'Date', 'Time', 'P atm [hPa]', 'P sample before gc [hPa]', 'P sample after gc [hPa]', 'CH4 [%]', 'CO2 [%]', 'O2 [%]', 'N2 [%]', 'Flush (1=yes; 0=no)', 'Comments', 'GC method', 'Weight [g]']\n",
    "\n"
   ],
   "metadata": {
    "collapsed": false,
    "ExecuteTime": {
     "end_time": "2023-06-27T10:21:37.781392200Z",
     "start_time": "2023-06-27T10:21:37.678337Z"
    }
   }
  },
  {
   "cell_type": "markdown",
   "source": [
    "##### you can check if the sheets are in the instance of the excell manager class."
   ],
   "metadata": {
    "collapsed": false
   }
  },
  {
   "cell_type": "code",
   "execution_count": 20,
   "outputs": [
    {
     "data": {
      "text/plain": "         None      None                 None      None    None   \n0        None      None                 None      None    None  \\\n1   Sample ID  Parallel                 Date      Time   P atm   \n2        None      None                 None      None     hPa   \n3         GT1         1  2023-04-17 00:00:00  14:42:00  1025.1   \n4         GT1         1  2023-04-19 00:00:00  14:42:00  1023.1   \n5         GT1         1  2023-04-24 00:00:00  10:20:00  1002.3   \n6         GT1         1  2023-04-24 00:00:00  11:25:00  1003.3   \n7         GT1         1  2023-04-26 00:00:00  08:52:00    1017   \n8         GT1         1  2023-04-26 00:00:00  09:53:00  1017.2   \n9         GT1         1  2023-04-28 00:00:00  09:45:00  1006.8   \n10        GT1         1  2023-05-01 00:00:00  13:50:00  1013.1   \n11        GT1         1  2023-05-01 00:00:00  14:49:00  1013.3   \n12        GT1         1  2023-05-04 00:00:00  09:26:00  1017.9   \n13        GT1         1  2023-05-04 00:00:00  10:46:00  1017.2   \n14        GT1         1  2023-05-08 00:00:00  08:40:00  1018.7   \n15        GT1         1  2023-05-08 00:00:00  09:47:00  1018.7   \n16        GT1         1  2023-05-10 00:00:00  09:35:00  1007.5   \n17        GT1         1  2023-05-10 00:00:00  10:40:00    1008   \n18        GT1         1  2023-05-12 00:00:00  09:09:00  1014.4   \n19        GT1         1  2023-05-12 00:00:00  10:10:00  1014.9   \n20        GT1         1  2023-05-15 00:00:00  09:30:00  1012.5   \n21        GT1         1  2023-05-15 00:00:00  10:38:00  1012.8   \n22        GT1         1  2023-05-17 00:00:00  08:52:00    1025   \n23        GT1         1  2023-05-17 00:00:00  09:57:00  1025.6   \n24        GT1         1  2023-05-22 00:00:00  14:11:00  1013.1   \n25        GT1         1  2023-05-22 00:00:00  15:08:00  1013.6   \n\n                  None               None  None  None   None   None   \n0                 None               None  None  None   None   None  \\\n1   P sample before gc  P sample after gc   CH4   CO2     O2     N2   \n2                  hPa                hPa     %     %      %      %   \n3              1117.44               None     0  0.03   21.9  78.07   \n4                  960              958.1  0.12  1.53   2.21  96.64   \n5                962.2              959.8  0.25  2.41   1.59  99.14   \n6               1104.6             1085.8     0  0.74  19.79  76.88   \n7                  954                951  0.03  2.72   8.46  92.37   \n8               1120.8             1105.6     0  0.63  20.51  76.51   \n9               1029.2             1025.8     0  4.52  11.77   90.2   \n10              1042.7             1039.9     0  5.74   9.74  83.32   \n11              1114.6             1110.6     0  0.78   20.5  76.25   \n12              1050.6             1046.6     0  5.34  12.97  86.62   \n13              1122.1             1119.1     0   0.5  20.32  75.56   \n14              1037.5             1035.2     0  6.98   8.07  85.33   \n15              1123.2             1120.3     0  0.57  20.11  74.92   \n16                1073             1070.6     0  4.77  15.79   90.7   \n17              1112.4             1109.9     0   0.4  20.24  75.24   \n18              1068.8             1066.2     0   3.7  15.45   83.9   \n19              1118.6             1115.3     0  0.41  20.26  75.22   \n20              1068.2             1061.9     0  4.43  15.52  90.13   \n21              1117.1             1113.5     0  0.42  20.54  76.23   \n22              1088.6             1086.7     0  3.02  18.61   87.7   \n23                1129             1125.8     0  0.29  20.55  76.21   \n24              1074.8             1072.5     0  7.08  12.54  92.29   \n25                1112             1108.6     0  0.64  20.31  75.55   \n\n                   None              None       None    None   \n0                  None              None       None    None  \\\n1   Flush (1=yes; 0=no)          Comments  GC method  Weight   \n2                  None              None       None       g   \n3                  None  start expiriment       None  793.46   \n4                     0              None         LM    None   \n5                     0              None         LM    None   \n6                     1              None         LM  793.54   \n7                     0              None         LM    None   \n8                     1              None         LM  793.55   \n9                     0              None         LM    None   \n10                    0              None         LM    None   \n11                    1              None         LM  793.43   \n12                    0              None         LM    None   \n13                    1              None         LM  793.32   \n14                    0              None         LM    None   \n15                    1              None         LM  793.27   \n16                    0              None         LM    None   \n17                    1              None         LM   793.2   \n18                    0              None         LM    None   \n19                    1              None         LM  793.12   \n20                    0              None         LM    None   \n21                    1              None         LM  793.04   \n22                    0              None         LM    None   \n23                    1              None         Lm  792.91   \n24                    0           Funges          LM    None   \n25                    1              None         LM   792.8   \n\n           Calculations       None                   None      None      None   \n0                  Time       None  Correct concentration      None      None  \\\n1           Date + Time        Day                    Sum  CH4-corr  CO2-corr   \n2                  None       None                      %         %         %   \n3   2023-04-17 14:42:00          0                   None         0      0.03   \n4   2023-04-19 14:42:00          2                  100.5  0.119403  1.522388   \n5   2023-04-24 10:20:00   6.818056                 103.39  0.241803   2.33098   \n6   2023-04-24 11:25:00   6.863194                  97.41         0  0.759676   \n7   2023-04-26 08:52:00   8.756944                 103.58  0.028963   2.62599   \n8   2023-04-26 09:53:00   8.799306                  97.65         0  0.645161   \n9   2023-04-28 09:45:00   10.79375                 106.49         0   4.24453   \n10  2023-05-01 13:50:00  13.963889                   98.8         0  5.809717   \n11  2023-05-01 14:49:00  14.004861                  97.53         0  0.799754   \n12  2023-05-04 09:26:00  16.780556                 104.93         0  5.089107   \n13  2023-05-04 10:46:00  16.836111                  96.38         0   0.51878   \n14  2023-05-08 08:40:00  20.748611                 100.38         0  6.953576   \n15  2023-05-08 09:47:00  20.795139                   95.6         0  0.596234   \n16  2023-05-10 09:35:00  22.786806                 111.26         0  4.287255   \n17  2023-05-10 10:40:00  22.831944                  95.88         0  0.417188   \n18  2023-05-12 09:09:00   24.76875                 103.05         0   3.59049   \n19  2023-05-12 10:10:00  24.811111                  95.89         0  0.427573   \n20  2023-05-15 09:30:00  27.783333                 110.08         0  4.024346   \n21  2023-05-15 10:38:00  27.830556                  97.19         0  0.432143   \n22  2023-05-17 08:52:00  29.756944                 109.33         0  2.762279   \n23  2023-05-17 09:57:00  29.802083                  97.05         0  0.298815   \n24  2023-05-22 14:11:00  34.978472                 111.91         0  6.326512   \n25  2023-05-22 15:08:00  35.018056                   96.5         0  0.663212   \n\n         None       None      None              Gas phase      None      None   \n0        None       None      None  Moles before sampling      None      None  \\\n1     O2-corr    N2-corr  Sum-corr                  mg_bs    mCO2_b   mCH4_b    \n2           %          %         %                  mol       mol       mol     \n3        21.9      78.07       100               0.044058  0.000013         0   \n4    2.199005  96.159204       100                0.03785  0.000576  0.000045   \n5    1.537866  95.889351       100               0.037937  0.000884  0.000092   \n6   20.316189  78.924135       100               0.043551  0.000331         0   \n7      8.1676  89.177447     100.0               0.037614  0.000988  0.000011   \n8   21.003584  78.351254       100                0.04419  0.000285         0   \n9   11.052681  84.702789       100               0.040579  0.001722         0   \n10     9.8583  84.331984       100               0.041111  0.002388         0   \n11  21.019174  78.181072       100               0.043946  0.000351         0   \n12  12.360621  82.550272       100               0.041422  0.002108         0   \n13  21.083212  78.398008     100.0               0.044241   0.00023         0   \n14    8.03945  85.006974       100               0.040906  0.002844         0   \n15  21.035565  78.368201     100.0               0.044285  0.000264         0   \n16  14.191983  81.520762       100               0.042306  0.001814         0   \n17   21.10972  78.473091     100.0               0.043859  0.000183         0   \n18  14.992722  81.416788     100.0                0.04214  0.001513         0   \n19  21.128376   78.44405       100               0.044103  0.000189         0   \n20  14.098837  81.876817       100               0.042116  0.001695         0   \n21  21.133862  78.433995       100               0.044044   0.00019         0   \n22   17.02186   80.21586       100               0.042921  0.001186         0   \n23  21.174652  78.526533     100.0               0.044513  0.000133         0   \n24  11.205433  82.468055       100               0.042376  0.002681         0   \n25  21.046632  78.290155       100               0.043843  0.000291         0   \n\n        None      None      None                  None      None      None   \n0       None      None      None  Moles after sampling      None      None  \\\n1     mO2_b     mN2_b   mCTot_b                 mg_as    mCO2_a    mCH4_a    \n2      mol       mol       mol                   mol       mol       mol     \n3   0.009649  0.034396  0.000013              0.044058  0.000013         0   \n4   0.000832  0.036396  0.000621              0.037775  0.000575  0.000045   \n5   0.000583  0.036378  0.000976              0.037842  0.000882  0.000092   \n6   0.008848  0.034373  0.000331               0.04281  0.000325         0   \n7   0.003072  0.033543  0.000999              0.037495  0.000985  0.000011   \n8   0.009282  0.034624  0.000285              0.043591  0.000281         0   \n9   0.004485  0.034371  0.001722              0.040445  0.001717         0   \n10  0.004053   0.03467  0.002388                 0.041  0.002382         0   \n11  0.009237  0.034357  0.000351              0.043788   0.00035         0   \n12   0.00512  0.034194  0.002108              0.041265    0.0021         0   \n13  0.009328  0.034684   0.00023              0.044123  0.000229         0   \n14  0.003289  0.034773  0.002844              0.040815  0.002838         0   \n15  0.009316  0.034705  0.000264               0.04417  0.000263         0   \n16  0.006004  0.034488  0.001814              0.042211   0.00181         0   \n17  0.009259  0.034417  0.000183               0.04376  0.000183         0   \n18  0.006318  0.034309  0.001513              0.042037  0.001509         0   \n19  0.009318  0.034597  0.000189              0.043973  0.000188         0   \n20  0.005938  0.034483  0.001695              0.041868  0.001685         0   \n21  0.009308  0.034546   0.00019              0.043902   0.00019         0   \n22  0.007306  0.034429  0.001186              0.042846  0.001184         0   \n23  0.009426  0.034955  0.000133              0.044387  0.000133         0   \n24  0.004748  0.034947  0.002681              0.042286  0.002675         0   \n25  0.009228  0.034325  0.000291              0.043709   0.00029         0   \n\n        None      None      None             None          None   \n0       None      None      None   Moles produced          None  \\\n1     mO2_a      mN2_a  mCTot_a   mCTot_produced   O2 consumed    \n2      mol       mol       mol              mol           mol     \n3   0.009649  0.034396  0.000013                0             0   \n4   0.000831  0.036324   0.00062         0.000608      0.008816   \n5   0.000582  0.036287  0.000974         0.000356      0.000247   \n6   0.008697  0.033788  0.000325             None          None   \n7   0.003062  0.033437  0.000995         0.000673      0.005625   \n8   0.009156  0.034154  0.000281         -0.00071          None   \n9    0.00447  0.034258  0.001717         0.001441      0.004671   \n10  0.004042  0.034577  0.002382         0.000672      0.000417   \n11  0.009204  0.034234   0.00035        -0.002031          None   \n12  0.005101  0.034064    0.0021         0.001758      0.004084   \n13  0.009303  0.034592  0.000229         -0.00187          None   \n14  0.003281  0.034696  0.002838         0.002616      0.006014   \n15  0.009292  0.034616  0.000263        -0.002574          None   \n16  0.005991  0.034411   0.00181          0.00155      0.003288   \n17  0.009238   0.03434  0.000183        -0.001627          None   \n18  0.006303  0.034226  0.001509          0.00133       0.00292   \n19  0.009291  0.034494  0.000188        -0.001321          None   \n20  0.005903   0.03428  0.001685         0.001507      0.003353   \n21  0.009278  0.034434   0.00019        -0.001495          None   \n22  0.007293  0.034369  0.001184         0.000996      0.001972   \n23  0.009399  0.034856  0.000133        -0.001051          None   \n24  0.004738  0.034872  0.002675         0.002548       0.00465   \n25  0.009199   0.03422   0.00029        -0.002384          None   \n\n             None                                    None                None   \n0            None  Cumulative production in the gas phase                None  \\\n1   CO2 produced                          O2 consumed_cum  CO2 produced_ cum    \n2           mol                                     mol                 mol     \n3               0                                       0                   0   \n4        0.000563                                0.008816            0.000563   \n5        0.000309                                0.009064            0.000872   \n6            None                                    None                None   \n7        0.000663                                0.014689            0.001535   \n8            None                                    None                None   \n9        0.001441                                0.019359            0.002976   \n10       0.000672                                0.019777            0.003648   \n11           None                                    None                None   \n12       0.001758                                0.023861            0.005405   \n13           None                                    None                None   \n14       0.002616                                0.029875            0.008021   \n15           None                                    None                None   \n16        0.00155                                0.033162            0.009571   \n17           None                                    None                None   \n18        0.00133                                0.036082            0.010902   \n19           None                                    None                None   \n20       0.001507                                0.039435            0.012409   \n21           None                                    None                None   \n22       0.000996                                0.041407            0.013405   \n23           None                                    None                None   \n24       0.002548                                0.046058            0.015953   \n25           None                                    None                None   \n\n                  None          None        aqueous phase       None   \n0                 None          None  Before the sampling       None  \\\n1   mCTot_produced_cum  Cgas_DM_cum         PP CO2_b (Pa)  CO2_b_aq    \n2                mol        mg C/gDW                   Pa     mol/m3   \n3                    0             0              33.5232   0.175326   \n4             0.000608      0.047514          1461.492537   7.643606   \n5             0.000964      0.075312          2242.868749  11.730204   \n6                 None          None           839.137666    4.38869   \n7             0.001637       0.12792          2505.194053  13.102165   \n8                 None          None           723.096774   3.781796   \n9             0.003079      0.240503          4368.470279    22.8471   \n10             0.00375       0.29298          6057.791498   31.68225   \n11                None          None           891.405721   4.662052   \n12            0.005508      0.430304          5346.615839  27.962801   \n13                None          None           582.122847   3.044502   \n14            0.008124      0.634631          7214.335525  37.730975   \n15                None          None           669.690377   3.502481   \n16            0.009674      0.755749          4600.224699  24.059175   \n17                None          None             464.0801   2.427139   \n18            0.011005      0.859686          3837.515769  20.070207   \n19                None          None            478.28345   2.501422   \n20            0.012511      0.977406          4298.806323  22.482757   \n21                None          None           482.747196   2.524768   \n22            0.013507      1.055204          3007.017287    15.7267   \n23                None          None           337.362184   1.764404   \n24            0.016056      1.254281          6799.735502  35.562617   \n25                None          None           737.492228   3.857084   \n\n         None                None       None       None   \n0        None  After the sampling       None       None  \\\n1   CO2_b_aq        PP CO2_a (Pa)  CO2_a_aq   CO2_a_aq    \n2         mol                  Pa     mol/m3        mol   \n3    0.000017                   0          0          0   \n4    0.000749              1458.6   7.628478   0.000748   \n5     0.00115         2237.274398  11.700945   0.001147   \n6     0.00043          824.855764   4.313996   0.000423   \n7    0.001284         2497.316084  13.060963    0.00128   \n8    0.000371          713.290323   3.730508   0.000366   \n9    0.002239         4354.038877  22.771623   0.002232   \n10   0.003105         6041.524291  31.597172   0.003097   \n11   0.000457          888.206706   4.645321   0.000455   \n12    0.00274         5326.259411  27.856337    0.00273   \n13   0.000298          580.566508   3.036363   0.000298   \n14   0.003698         7198.342299   37.64733   0.003689   \n15   0.000343          667.961297   3.493438   0.000342   \n16   0.002358         4589.935287  24.005362   0.002353   \n17   0.000238           463.03713   2.421684   0.000237   \n18   0.001967         3828.180495  20.021384   0.001962   \n19   0.000245          476.872458   2.494043   0.000244   \n20   0.002203         4273.452943  22.350159    0.00219   \n21   0.000247          481.191481   2.516631   0.000247   \n22   0.001541         3001.768956  15.699252   0.001539   \n23   0.000173          336.405976   1.759403   0.000172   \n24   0.003485         6785.184523  35.486515   0.003478   \n25   0.000378          735.237306   3.845291   0.000377   \n\n                                   None         None      None      None   \n0                                  None         None      None      None  \\\n1   CO2_dissolved between timesteps_aq   CO2_cum_aq    DIC_cum  Ctot_DM    \n2                                   mol       mol/m3  mg C/gDW  mg C/gDW   \n3                              0.000017     0.000017  0.001342         0   \n4                              0.000749     0.000766  0.059861  0.107374   \n5                              0.000402     0.001168  0.091263  0.166575   \n6                             -0.000717     0.000452  0.035281      None   \n7                              0.000861     0.001313  0.102562  0.230482   \n8                             -0.000909     0.000404  0.031522      None   \n9                              0.001873     0.002277  0.177876  0.418379   \n10                             0.000873      0.00315  0.246095  0.539075   \n11                             -0.00264     0.000511  0.039883      None   \n12                             0.002285     0.002796  0.218399  0.648703   \n13                            -0.002432     0.000364  0.028443      None   \n14                               0.0034     0.003764   0.29406  0.928691   \n15                            -0.003346     0.000418  0.032652      None   \n16                             0.002015     0.002433    0.1901  0.945849   \n17                            -0.002115     0.000319    0.0249      None   \n18                              0.00173     0.002048  0.160015  1.019701   \n19                            -0.001717     0.000331  0.025884      None   \n20                             0.001959      0.00229  0.178915  1.156321   \n21                            -0.001943     0.000347  0.027135      None   \n22                             0.001295     0.001642  0.128269  1.183473   \n23                            -0.001366     0.000276  0.021586      None   \n24                             0.003313     0.003589  0.280379   1.53466   \n25                              -0.0031     0.000489  0.038228      None   \n\n            None  None  None  None  \n0           None  None  None  None  \n1   Ratio O2/CO2  None  None  None  \n2           None  None  None  None  \n3              0  None  None  None  \n4       6.719315  None  None  None  \n5       0.347675  None  None  None  \n6              0  None  None  None  \n7       3.691717  None  None  None  \n8              0  None  None  None  \n9       1.409119  None  None  None  \n10      0.270148  None  None  None  \n11             0  None  None  None  \n12      1.010109  None  None  None  \n13             0  None  None  None  \n14       0.99973  None  None  None  \n15             0  None  None  None  \n16      0.921948  None  None  None  \n17             0  None  None  None  \n18      0.954168  None  None  None  \n19             0  None  None  None  \n20      0.967441  None  None  None  \n21             0  None  None  None  \n22      0.861129  None  None  None  \n23             0  None  None  None  \n24      0.793441  None  None  None  \n25             0  None  None  None  ",
      "text/html": "<div>\n<style scoped>\n    .dataframe tbody tr th:only-of-type {\n        vertical-align: middle;\n    }\n\n    .dataframe tbody tr th {\n        vertical-align: top;\n    }\n\n    .dataframe thead th {\n        text-align: right;\n    }\n</style>\n<table border=\"1\" class=\"dataframe\">\n  <thead>\n    <tr style=\"text-align: right;\">\n      <th></th>\n      <th>None</th>\n      <th>None</th>\n      <th>None</th>\n      <th>None</th>\n      <th>None</th>\n      <th>None</th>\n      <th>None</th>\n      <th>None</th>\n      <th>None</th>\n      <th>None</th>\n      <th>None</th>\n      <th>None</th>\n      <th>None</th>\n      <th>None</th>\n      <th>None</th>\n      <th>Calculations</th>\n      <th>None</th>\n      <th>None</th>\n      <th>None</th>\n      <th>None</th>\n      <th>None</th>\n      <th>None</th>\n      <th>None</th>\n      <th>Gas phase</th>\n      <th>None</th>\n      <th>None</th>\n      <th>None</th>\n      <th>None</th>\n      <th>None</th>\n      <th>None</th>\n      <th>None</th>\n      <th>None</th>\n      <th>None</th>\n      <th>None</th>\n      <th>None</th>\n      <th>None</th>\n      <th>None</th>\n      <th>None</th>\n      <th>None</th>\n      <th>None</th>\n      <th>None</th>\n      <th>None</th>\n      <th>aqueous phase</th>\n      <th>None</th>\n      <th>None</th>\n      <th>None</th>\n      <th>None</th>\n      <th>None</th>\n      <th>None</th>\n      <th>None</th>\n      <th>None</th>\n      <th>None</th>\n      <th>None</th>\n      <th>None</th>\n      <th>None</th>\n      <th>None</th>\n    </tr>\n  </thead>\n  <tbody>\n    <tr>\n      <th>0</th>\n      <td>None</td>\n      <td>None</td>\n      <td>None</td>\n      <td>None</td>\n      <td>None</td>\n      <td>None</td>\n      <td>None</td>\n      <td>None</td>\n      <td>None</td>\n      <td>None</td>\n      <td>None</td>\n      <td>None</td>\n      <td>None</td>\n      <td>None</td>\n      <td>None</td>\n      <td>Time</td>\n      <td>None</td>\n      <td>Correct concentration</td>\n      <td>None</td>\n      <td>None</td>\n      <td>None</td>\n      <td>None</td>\n      <td>None</td>\n      <td>Moles before sampling</td>\n      <td>None</td>\n      <td>None</td>\n      <td>None</td>\n      <td>None</td>\n      <td>None</td>\n      <td>Moles after sampling</td>\n      <td>None</td>\n      <td>None</td>\n      <td>None</td>\n      <td>None</td>\n      <td>None</td>\n      <td>Moles produced</td>\n      <td>None</td>\n      <td>None</td>\n      <td>Cumulative production in the gas phase</td>\n      <td>None</td>\n      <td>None</td>\n      <td>None</td>\n      <td>Before the sampling</td>\n      <td>None</td>\n      <td>None</td>\n      <td>After the sampling</td>\n      <td>None</td>\n      <td>None</td>\n      <td>None</td>\n      <td>None</td>\n      <td>None</td>\n      <td>None</td>\n      <td>None</td>\n      <td>None</td>\n      <td>None</td>\n      <td>None</td>\n    </tr>\n    <tr>\n      <th>1</th>\n      <td>Sample ID</td>\n      <td>Parallel</td>\n      <td>Date</td>\n      <td>Time</td>\n      <td>P atm</td>\n      <td>P sample before gc</td>\n      <td>P sample after gc</td>\n      <td>CH4</td>\n      <td>CO2</td>\n      <td>O2</td>\n      <td>N2</td>\n      <td>Flush (1=yes; 0=no)</td>\n      <td>Comments</td>\n      <td>GC method</td>\n      <td>Weight</td>\n      <td>Date + Time</td>\n      <td>Day</td>\n      <td>Sum</td>\n      <td>CH4-corr</td>\n      <td>CO2-corr</td>\n      <td>O2-corr</td>\n      <td>N2-corr</td>\n      <td>Sum-corr</td>\n      <td>mg_bs</td>\n      <td>mCO2_b</td>\n      <td>mCH4_b</td>\n      <td>mO2_b</td>\n      <td>mN2_b</td>\n      <td>mCTot_b</td>\n      <td>mg_as</td>\n      <td>mCO2_a</td>\n      <td>mCH4_a</td>\n      <td>mO2_a</td>\n      <td>mN2_a</td>\n      <td>mCTot_a</td>\n      <td>mCTot_produced</td>\n      <td>O2 consumed</td>\n      <td>CO2 produced</td>\n      <td>O2 consumed_cum</td>\n      <td>CO2 produced_ cum</td>\n      <td>mCTot_produced_cum</td>\n      <td>Cgas_DM_cum</td>\n      <td>PP CO2_b (Pa)</td>\n      <td>CO2_b_aq</td>\n      <td>CO2_b_aq</td>\n      <td>PP CO2_a (Pa)</td>\n      <td>CO2_a_aq</td>\n      <td>CO2_a_aq</td>\n      <td>CO2_dissolved between timesteps_aq</td>\n      <td>CO2_cum_aq</td>\n      <td>DIC_cum</td>\n      <td>Ctot_DM</td>\n      <td>Ratio O2/CO2</td>\n      <td>None</td>\n      <td>None</td>\n      <td>None</td>\n    </tr>\n    <tr>\n      <th>2</th>\n      <td>None</td>\n      <td>None</td>\n      <td>None</td>\n      <td>None</td>\n      <td>hPa</td>\n      <td>hPa</td>\n      <td>hPa</td>\n      <td>%</td>\n      <td>%</td>\n      <td>%</td>\n      <td>%</td>\n      <td>None</td>\n      <td>None</td>\n      <td>None</td>\n      <td>g</td>\n      <td>None</td>\n      <td>None</td>\n      <td>%</td>\n      <td>%</td>\n      <td>%</td>\n      <td>%</td>\n      <td>%</td>\n      <td>%</td>\n      <td>mol</td>\n      <td>mol</td>\n      <td>mol</td>\n      <td>mol</td>\n      <td>mol</td>\n      <td>mol</td>\n      <td>mol</td>\n      <td>mol</td>\n      <td>mol</td>\n      <td>mol</td>\n      <td>mol</td>\n      <td>mol</td>\n      <td>mol</td>\n      <td>mol</td>\n      <td>mol</td>\n      <td>mol</td>\n      <td>mol</td>\n      <td>mol</td>\n      <td>mg C/gDW</td>\n      <td>Pa</td>\n      <td>mol/m3</td>\n      <td>mol</td>\n      <td>Pa</td>\n      <td>mol/m3</td>\n      <td>mol</td>\n      <td>mol</td>\n      <td>mol/m3</td>\n      <td>mg C/gDW</td>\n      <td>mg C/gDW</td>\n      <td>None</td>\n      <td>None</td>\n      <td>None</td>\n      <td>None</td>\n    </tr>\n    <tr>\n      <th>3</th>\n      <td>GT1</td>\n      <td>1</td>\n      <td>2023-04-17 00:00:00</td>\n      <td>14:42:00</td>\n      <td>1025.1</td>\n      <td>1117.44</td>\n      <td>None</td>\n      <td>0</td>\n      <td>0.03</td>\n      <td>21.9</td>\n      <td>78.07</td>\n      <td>None</td>\n      <td>start expiriment</td>\n      <td>None</td>\n      <td>793.46</td>\n      <td>2023-04-17 14:42:00</td>\n      <td>0</td>\n      <td>None</td>\n      <td>0</td>\n      <td>0.03</td>\n      <td>21.9</td>\n      <td>78.07</td>\n      <td>100</td>\n      <td>0.044058</td>\n      <td>0.000013</td>\n      <td>0</td>\n      <td>0.009649</td>\n      <td>0.034396</td>\n      <td>0.000013</td>\n      <td>0.044058</td>\n      <td>0.000013</td>\n      <td>0</td>\n      <td>0.009649</td>\n      <td>0.034396</td>\n      <td>0.000013</td>\n      <td>0</td>\n      <td>0</td>\n      <td>0</td>\n      <td>0</td>\n      <td>0</td>\n      <td>0</td>\n      <td>0</td>\n      <td>33.5232</td>\n      <td>0.175326</td>\n      <td>0.000017</td>\n      <td>0</td>\n      <td>0</td>\n      <td>0</td>\n      <td>0.000017</td>\n      <td>0.000017</td>\n      <td>0.001342</td>\n      <td>0</td>\n      <td>0</td>\n      <td>None</td>\n      <td>None</td>\n      <td>None</td>\n    </tr>\n    <tr>\n      <th>4</th>\n      <td>GT1</td>\n      <td>1</td>\n      <td>2023-04-19 00:00:00</td>\n      <td>14:42:00</td>\n      <td>1023.1</td>\n      <td>960</td>\n      <td>958.1</td>\n      <td>0.12</td>\n      <td>1.53</td>\n      <td>2.21</td>\n      <td>96.64</td>\n      <td>0</td>\n      <td>None</td>\n      <td>LM</td>\n      <td>None</td>\n      <td>2023-04-19 14:42:00</td>\n      <td>2</td>\n      <td>100.5</td>\n      <td>0.119403</td>\n      <td>1.522388</td>\n      <td>2.199005</td>\n      <td>96.159204</td>\n      <td>100</td>\n      <td>0.03785</td>\n      <td>0.000576</td>\n      <td>0.000045</td>\n      <td>0.000832</td>\n      <td>0.036396</td>\n      <td>0.000621</td>\n      <td>0.037775</td>\n      <td>0.000575</td>\n      <td>0.000045</td>\n      <td>0.000831</td>\n      <td>0.036324</td>\n      <td>0.00062</td>\n      <td>0.000608</td>\n      <td>0.008816</td>\n      <td>0.000563</td>\n      <td>0.008816</td>\n      <td>0.000563</td>\n      <td>0.000608</td>\n      <td>0.047514</td>\n      <td>1461.492537</td>\n      <td>7.643606</td>\n      <td>0.000749</td>\n      <td>1458.6</td>\n      <td>7.628478</td>\n      <td>0.000748</td>\n      <td>0.000749</td>\n      <td>0.000766</td>\n      <td>0.059861</td>\n      <td>0.107374</td>\n      <td>6.719315</td>\n      <td>None</td>\n      <td>None</td>\n      <td>None</td>\n    </tr>\n    <tr>\n      <th>5</th>\n      <td>GT1</td>\n      <td>1</td>\n      <td>2023-04-24 00:00:00</td>\n      <td>10:20:00</td>\n      <td>1002.3</td>\n      <td>962.2</td>\n      <td>959.8</td>\n      <td>0.25</td>\n      <td>2.41</td>\n      <td>1.59</td>\n      <td>99.14</td>\n      <td>0</td>\n      <td>None</td>\n      <td>LM</td>\n      <td>None</td>\n      <td>2023-04-24 10:20:00</td>\n      <td>6.818056</td>\n      <td>103.39</td>\n      <td>0.241803</td>\n      <td>2.33098</td>\n      <td>1.537866</td>\n      <td>95.889351</td>\n      <td>100</td>\n      <td>0.037937</td>\n      <td>0.000884</td>\n      <td>0.000092</td>\n      <td>0.000583</td>\n      <td>0.036378</td>\n      <td>0.000976</td>\n      <td>0.037842</td>\n      <td>0.000882</td>\n      <td>0.000092</td>\n      <td>0.000582</td>\n      <td>0.036287</td>\n      <td>0.000974</td>\n      <td>0.000356</td>\n      <td>0.000247</td>\n      <td>0.000309</td>\n      <td>0.009064</td>\n      <td>0.000872</td>\n      <td>0.000964</td>\n      <td>0.075312</td>\n      <td>2242.868749</td>\n      <td>11.730204</td>\n      <td>0.00115</td>\n      <td>2237.274398</td>\n      <td>11.700945</td>\n      <td>0.001147</td>\n      <td>0.000402</td>\n      <td>0.001168</td>\n      <td>0.091263</td>\n      <td>0.166575</td>\n      <td>0.347675</td>\n      <td>None</td>\n      <td>None</td>\n      <td>None</td>\n    </tr>\n    <tr>\n      <th>6</th>\n      <td>GT1</td>\n      <td>1</td>\n      <td>2023-04-24 00:00:00</td>\n      <td>11:25:00</td>\n      <td>1003.3</td>\n      <td>1104.6</td>\n      <td>1085.8</td>\n      <td>0</td>\n      <td>0.74</td>\n      <td>19.79</td>\n      <td>76.88</td>\n      <td>1</td>\n      <td>None</td>\n      <td>LM</td>\n      <td>793.54</td>\n      <td>2023-04-24 11:25:00</td>\n      <td>6.863194</td>\n      <td>97.41</td>\n      <td>0</td>\n      <td>0.759676</td>\n      <td>20.316189</td>\n      <td>78.924135</td>\n      <td>100</td>\n      <td>0.043551</td>\n      <td>0.000331</td>\n      <td>0</td>\n      <td>0.008848</td>\n      <td>0.034373</td>\n      <td>0.000331</td>\n      <td>0.04281</td>\n      <td>0.000325</td>\n      <td>0</td>\n      <td>0.008697</td>\n      <td>0.033788</td>\n      <td>0.000325</td>\n      <td>None</td>\n      <td>None</td>\n      <td>None</td>\n      <td>None</td>\n      <td>None</td>\n      <td>None</td>\n      <td>None</td>\n      <td>839.137666</td>\n      <td>4.38869</td>\n      <td>0.00043</td>\n      <td>824.855764</td>\n      <td>4.313996</td>\n      <td>0.000423</td>\n      <td>-0.000717</td>\n      <td>0.000452</td>\n      <td>0.035281</td>\n      <td>None</td>\n      <td>0</td>\n      <td>None</td>\n      <td>None</td>\n      <td>None</td>\n    </tr>\n    <tr>\n      <th>7</th>\n      <td>GT1</td>\n      <td>1</td>\n      <td>2023-04-26 00:00:00</td>\n      <td>08:52:00</td>\n      <td>1017</td>\n      <td>954</td>\n      <td>951</td>\n      <td>0.03</td>\n      <td>2.72</td>\n      <td>8.46</td>\n      <td>92.37</td>\n      <td>0</td>\n      <td>None</td>\n      <td>LM</td>\n      <td>None</td>\n      <td>2023-04-26 08:52:00</td>\n      <td>8.756944</td>\n      <td>103.58</td>\n      <td>0.028963</td>\n      <td>2.62599</td>\n      <td>8.1676</td>\n      <td>89.177447</td>\n      <td>100.0</td>\n      <td>0.037614</td>\n      <td>0.000988</td>\n      <td>0.000011</td>\n      <td>0.003072</td>\n      <td>0.033543</td>\n      <td>0.000999</td>\n      <td>0.037495</td>\n      <td>0.000985</td>\n      <td>0.000011</td>\n      <td>0.003062</td>\n      <td>0.033437</td>\n      <td>0.000995</td>\n      <td>0.000673</td>\n      <td>0.005625</td>\n      <td>0.000663</td>\n      <td>0.014689</td>\n      <td>0.001535</td>\n      <td>0.001637</td>\n      <td>0.12792</td>\n      <td>2505.194053</td>\n      <td>13.102165</td>\n      <td>0.001284</td>\n      <td>2497.316084</td>\n      <td>13.060963</td>\n      <td>0.00128</td>\n      <td>0.000861</td>\n      <td>0.001313</td>\n      <td>0.102562</td>\n      <td>0.230482</td>\n      <td>3.691717</td>\n      <td>None</td>\n      <td>None</td>\n      <td>None</td>\n    </tr>\n    <tr>\n      <th>8</th>\n      <td>GT1</td>\n      <td>1</td>\n      <td>2023-04-26 00:00:00</td>\n      <td>09:53:00</td>\n      <td>1017.2</td>\n      <td>1120.8</td>\n      <td>1105.6</td>\n      <td>0</td>\n      <td>0.63</td>\n      <td>20.51</td>\n      <td>76.51</td>\n      <td>1</td>\n      <td>None</td>\n      <td>LM</td>\n      <td>793.55</td>\n      <td>2023-04-26 09:53:00</td>\n      <td>8.799306</td>\n      <td>97.65</td>\n      <td>0</td>\n      <td>0.645161</td>\n      <td>21.003584</td>\n      <td>78.351254</td>\n      <td>100</td>\n      <td>0.04419</td>\n      <td>0.000285</td>\n      <td>0</td>\n      <td>0.009282</td>\n      <td>0.034624</td>\n      <td>0.000285</td>\n      <td>0.043591</td>\n      <td>0.000281</td>\n      <td>0</td>\n      <td>0.009156</td>\n      <td>0.034154</td>\n      <td>0.000281</td>\n      <td>-0.00071</td>\n      <td>None</td>\n      <td>None</td>\n      <td>None</td>\n      <td>None</td>\n      <td>None</td>\n      <td>None</td>\n      <td>723.096774</td>\n      <td>3.781796</td>\n      <td>0.000371</td>\n      <td>713.290323</td>\n      <td>3.730508</td>\n      <td>0.000366</td>\n      <td>-0.000909</td>\n      <td>0.000404</td>\n      <td>0.031522</td>\n      <td>None</td>\n      <td>0</td>\n      <td>None</td>\n      <td>None</td>\n      <td>None</td>\n    </tr>\n    <tr>\n      <th>9</th>\n      <td>GT1</td>\n      <td>1</td>\n      <td>2023-04-28 00:00:00</td>\n      <td>09:45:00</td>\n      <td>1006.8</td>\n      <td>1029.2</td>\n      <td>1025.8</td>\n      <td>0</td>\n      <td>4.52</td>\n      <td>11.77</td>\n      <td>90.2</td>\n      <td>0</td>\n      <td>None</td>\n      <td>LM</td>\n      <td>None</td>\n      <td>2023-04-28 09:45:00</td>\n      <td>10.79375</td>\n      <td>106.49</td>\n      <td>0</td>\n      <td>4.24453</td>\n      <td>11.052681</td>\n      <td>84.702789</td>\n      <td>100</td>\n      <td>0.040579</td>\n      <td>0.001722</td>\n      <td>0</td>\n      <td>0.004485</td>\n      <td>0.034371</td>\n      <td>0.001722</td>\n      <td>0.040445</td>\n      <td>0.001717</td>\n      <td>0</td>\n      <td>0.00447</td>\n      <td>0.034258</td>\n      <td>0.001717</td>\n      <td>0.001441</td>\n      <td>0.004671</td>\n      <td>0.001441</td>\n      <td>0.019359</td>\n      <td>0.002976</td>\n      <td>0.003079</td>\n      <td>0.240503</td>\n      <td>4368.470279</td>\n      <td>22.8471</td>\n      <td>0.002239</td>\n      <td>4354.038877</td>\n      <td>22.771623</td>\n      <td>0.002232</td>\n      <td>0.001873</td>\n      <td>0.002277</td>\n      <td>0.177876</td>\n      <td>0.418379</td>\n      <td>1.409119</td>\n      <td>None</td>\n      <td>None</td>\n      <td>None</td>\n    </tr>\n    <tr>\n      <th>10</th>\n      <td>GT1</td>\n      <td>1</td>\n      <td>2023-05-01 00:00:00</td>\n      <td>13:50:00</td>\n      <td>1013.1</td>\n      <td>1042.7</td>\n      <td>1039.9</td>\n      <td>0</td>\n      <td>5.74</td>\n      <td>9.74</td>\n      <td>83.32</td>\n      <td>0</td>\n      <td>None</td>\n      <td>LM</td>\n      <td>None</td>\n      <td>2023-05-01 13:50:00</td>\n      <td>13.963889</td>\n      <td>98.8</td>\n      <td>0</td>\n      <td>5.809717</td>\n      <td>9.8583</td>\n      <td>84.331984</td>\n      <td>100</td>\n      <td>0.041111</td>\n      <td>0.002388</td>\n      <td>0</td>\n      <td>0.004053</td>\n      <td>0.03467</td>\n      <td>0.002388</td>\n      <td>0.041</td>\n      <td>0.002382</td>\n      <td>0</td>\n      <td>0.004042</td>\n      <td>0.034577</td>\n      <td>0.002382</td>\n      <td>0.000672</td>\n      <td>0.000417</td>\n      <td>0.000672</td>\n      <td>0.019777</td>\n      <td>0.003648</td>\n      <td>0.00375</td>\n      <td>0.29298</td>\n      <td>6057.791498</td>\n      <td>31.68225</td>\n      <td>0.003105</td>\n      <td>6041.524291</td>\n      <td>31.597172</td>\n      <td>0.003097</td>\n      <td>0.000873</td>\n      <td>0.00315</td>\n      <td>0.246095</td>\n      <td>0.539075</td>\n      <td>0.270148</td>\n      <td>None</td>\n      <td>None</td>\n      <td>None</td>\n    </tr>\n    <tr>\n      <th>11</th>\n      <td>GT1</td>\n      <td>1</td>\n      <td>2023-05-01 00:00:00</td>\n      <td>14:49:00</td>\n      <td>1013.3</td>\n      <td>1114.6</td>\n      <td>1110.6</td>\n      <td>0</td>\n      <td>0.78</td>\n      <td>20.5</td>\n      <td>76.25</td>\n      <td>1</td>\n      <td>None</td>\n      <td>LM</td>\n      <td>793.43</td>\n      <td>2023-05-01 14:49:00</td>\n      <td>14.004861</td>\n      <td>97.53</td>\n      <td>0</td>\n      <td>0.799754</td>\n      <td>21.019174</td>\n      <td>78.181072</td>\n      <td>100</td>\n      <td>0.043946</td>\n      <td>0.000351</td>\n      <td>0</td>\n      <td>0.009237</td>\n      <td>0.034357</td>\n      <td>0.000351</td>\n      <td>0.043788</td>\n      <td>0.00035</td>\n      <td>0</td>\n      <td>0.009204</td>\n      <td>0.034234</td>\n      <td>0.00035</td>\n      <td>-0.002031</td>\n      <td>None</td>\n      <td>None</td>\n      <td>None</td>\n      <td>None</td>\n      <td>None</td>\n      <td>None</td>\n      <td>891.405721</td>\n      <td>4.662052</td>\n      <td>0.000457</td>\n      <td>888.206706</td>\n      <td>4.645321</td>\n      <td>0.000455</td>\n      <td>-0.00264</td>\n      <td>0.000511</td>\n      <td>0.039883</td>\n      <td>None</td>\n      <td>0</td>\n      <td>None</td>\n      <td>None</td>\n      <td>None</td>\n    </tr>\n    <tr>\n      <th>12</th>\n      <td>GT1</td>\n      <td>1</td>\n      <td>2023-05-04 00:00:00</td>\n      <td>09:26:00</td>\n      <td>1017.9</td>\n      <td>1050.6</td>\n      <td>1046.6</td>\n      <td>0</td>\n      <td>5.34</td>\n      <td>12.97</td>\n      <td>86.62</td>\n      <td>0</td>\n      <td>None</td>\n      <td>LM</td>\n      <td>None</td>\n      <td>2023-05-04 09:26:00</td>\n      <td>16.780556</td>\n      <td>104.93</td>\n      <td>0</td>\n      <td>5.089107</td>\n      <td>12.360621</td>\n      <td>82.550272</td>\n      <td>100</td>\n      <td>0.041422</td>\n      <td>0.002108</td>\n      <td>0</td>\n      <td>0.00512</td>\n      <td>0.034194</td>\n      <td>0.002108</td>\n      <td>0.041265</td>\n      <td>0.0021</td>\n      <td>0</td>\n      <td>0.005101</td>\n      <td>0.034064</td>\n      <td>0.0021</td>\n      <td>0.001758</td>\n      <td>0.004084</td>\n      <td>0.001758</td>\n      <td>0.023861</td>\n      <td>0.005405</td>\n      <td>0.005508</td>\n      <td>0.430304</td>\n      <td>5346.615839</td>\n      <td>27.962801</td>\n      <td>0.00274</td>\n      <td>5326.259411</td>\n      <td>27.856337</td>\n      <td>0.00273</td>\n      <td>0.002285</td>\n      <td>0.002796</td>\n      <td>0.218399</td>\n      <td>0.648703</td>\n      <td>1.010109</td>\n      <td>None</td>\n      <td>None</td>\n      <td>None</td>\n    </tr>\n    <tr>\n      <th>13</th>\n      <td>GT1</td>\n      <td>1</td>\n      <td>2023-05-04 00:00:00</td>\n      <td>10:46:00</td>\n      <td>1017.2</td>\n      <td>1122.1</td>\n      <td>1119.1</td>\n      <td>0</td>\n      <td>0.5</td>\n      <td>20.32</td>\n      <td>75.56</td>\n      <td>1</td>\n      <td>None</td>\n      <td>LM</td>\n      <td>793.32</td>\n      <td>2023-05-04 10:46:00</td>\n      <td>16.836111</td>\n      <td>96.38</td>\n      <td>0</td>\n      <td>0.51878</td>\n      <td>21.083212</td>\n      <td>78.398008</td>\n      <td>100.0</td>\n      <td>0.044241</td>\n      <td>0.00023</td>\n      <td>0</td>\n      <td>0.009328</td>\n      <td>0.034684</td>\n      <td>0.00023</td>\n      <td>0.044123</td>\n      <td>0.000229</td>\n      <td>0</td>\n      <td>0.009303</td>\n      <td>0.034592</td>\n      <td>0.000229</td>\n      <td>-0.00187</td>\n      <td>None</td>\n      <td>None</td>\n      <td>None</td>\n      <td>None</td>\n      <td>None</td>\n      <td>None</td>\n      <td>582.122847</td>\n      <td>3.044502</td>\n      <td>0.000298</td>\n      <td>580.566508</td>\n      <td>3.036363</td>\n      <td>0.000298</td>\n      <td>-0.002432</td>\n      <td>0.000364</td>\n      <td>0.028443</td>\n      <td>None</td>\n      <td>0</td>\n      <td>None</td>\n      <td>None</td>\n      <td>None</td>\n    </tr>\n    <tr>\n      <th>14</th>\n      <td>GT1</td>\n      <td>1</td>\n      <td>2023-05-08 00:00:00</td>\n      <td>08:40:00</td>\n      <td>1018.7</td>\n      <td>1037.5</td>\n      <td>1035.2</td>\n      <td>0</td>\n      <td>6.98</td>\n      <td>8.07</td>\n      <td>85.33</td>\n      <td>0</td>\n      <td>None</td>\n      <td>LM</td>\n      <td>None</td>\n      <td>2023-05-08 08:40:00</td>\n      <td>20.748611</td>\n      <td>100.38</td>\n      <td>0</td>\n      <td>6.953576</td>\n      <td>8.03945</td>\n      <td>85.006974</td>\n      <td>100</td>\n      <td>0.040906</td>\n      <td>0.002844</td>\n      <td>0</td>\n      <td>0.003289</td>\n      <td>0.034773</td>\n      <td>0.002844</td>\n      <td>0.040815</td>\n      <td>0.002838</td>\n      <td>0</td>\n      <td>0.003281</td>\n      <td>0.034696</td>\n      <td>0.002838</td>\n      <td>0.002616</td>\n      <td>0.006014</td>\n      <td>0.002616</td>\n      <td>0.029875</td>\n      <td>0.008021</td>\n      <td>0.008124</td>\n      <td>0.634631</td>\n      <td>7214.335525</td>\n      <td>37.730975</td>\n      <td>0.003698</td>\n      <td>7198.342299</td>\n      <td>37.64733</td>\n      <td>0.003689</td>\n      <td>0.0034</td>\n      <td>0.003764</td>\n      <td>0.29406</td>\n      <td>0.928691</td>\n      <td>0.99973</td>\n      <td>None</td>\n      <td>None</td>\n      <td>None</td>\n    </tr>\n    <tr>\n      <th>15</th>\n      <td>GT1</td>\n      <td>1</td>\n      <td>2023-05-08 00:00:00</td>\n      <td>09:47:00</td>\n      <td>1018.7</td>\n      <td>1123.2</td>\n      <td>1120.3</td>\n      <td>0</td>\n      <td>0.57</td>\n      <td>20.11</td>\n      <td>74.92</td>\n      <td>1</td>\n      <td>None</td>\n      <td>LM</td>\n      <td>793.27</td>\n      <td>2023-05-08 09:47:00</td>\n      <td>20.795139</td>\n      <td>95.6</td>\n      <td>0</td>\n      <td>0.596234</td>\n      <td>21.035565</td>\n      <td>78.368201</td>\n      <td>100.0</td>\n      <td>0.044285</td>\n      <td>0.000264</td>\n      <td>0</td>\n      <td>0.009316</td>\n      <td>0.034705</td>\n      <td>0.000264</td>\n      <td>0.04417</td>\n      <td>0.000263</td>\n      <td>0</td>\n      <td>0.009292</td>\n      <td>0.034616</td>\n      <td>0.000263</td>\n      <td>-0.002574</td>\n      <td>None</td>\n      <td>None</td>\n      <td>None</td>\n      <td>None</td>\n      <td>None</td>\n      <td>None</td>\n      <td>669.690377</td>\n      <td>3.502481</td>\n      <td>0.000343</td>\n      <td>667.961297</td>\n      <td>3.493438</td>\n      <td>0.000342</td>\n      <td>-0.003346</td>\n      <td>0.000418</td>\n      <td>0.032652</td>\n      <td>None</td>\n      <td>0</td>\n      <td>None</td>\n      <td>None</td>\n      <td>None</td>\n    </tr>\n    <tr>\n      <th>16</th>\n      <td>GT1</td>\n      <td>1</td>\n      <td>2023-05-10 00:00:00</td>\n      <td>09:35:00</td>\n      <td>1007.5</td>\n      <td>1073</td>\n      <td>1070.6</td>\n      <td>0</td>\n      <td>4.77</td>\n      <td>15.79</td>\n      <td>90.7</td>\n      <td>0</td>\n      <td>None</td>\n      <td>LM</td>\n      <td>None</td>\n      <td>2023-05-10 09:35:00</td>\n      <td>22.786806</td>\n      <td>111.26</td>\n      <td>0</td>\n      <td>4.287255</td>\n      <td>14.191983</td>\n      <td>81.520762</td>\n      <td>100</td>\n      <td>0.042306</td>\n      <td>0.001814</td>\n      <td>0</td>\n      <td>0.006004</td>\n      <td>0.034488</td>\n      <td>0.001814</td>\n      <td>0.042211</td>\n      <td>0.00181</td>\n      <td>0</td>\n      <td>0.005991</td>\n      <td>0.034411</td>\n      <td>0.00181</td>\n      <td>0.00155</td>\n      <td>0.003288</td>\n      <td>0.00155</td>\n      <td>0.033162</td>\n      <td>0.009571</td>\n      <td>0.009674</td>\n      <td>0.755749</td>\n      <td>4600.224699</td>\n      <td>24.059175</td>\n      <td>0.002358</td>\n      <td>4589.935287</td>\n      <td>24.005362</td>\n      <td>0.002353</td>\n      <td>0.002015</td>\n      <td>0.002433</td>\n      <td>0.1901</td>\n      <td>0.945849</td>\n      <td>0.921948</td>\n      <td>None</td>\n      <td>None</td>\n      <td>None</td>\n    </tr>\n    <tr>\n      <th>17</th>\n      <td>GT1</td>\n      <td>1</td>\n      <td>2023-05-10 00:00:00</td>\n      <td>10:40:00</td>\n      <td>1008</td>\n      <td>1112.4</td>\n      <td>1109.9</td>\n      <td>0</td>\n      <td>0.4</td>\n      <td>20.24</td>\n      <td>75.24</td>\n      <td>1</td>\n      <td>None</td>\n      <td>LM</td>\n      <td>793.2</td>\n      <td>2023-05-10 10:40:00</td>\n      <td>22.831944</td>\n      <td>95.88</td>\n      <td>0</td>\n      <td>0.417188</td>\n      <td>21.10972</td>\n      <td>78.473091</td>\n      <td>100.0</td>\n      <td>0.043859</td>\n      <td>0.000183</td>\n      <td>0</td>\n      <td>0.009259</td>\n      <td>0.034417</td>\n      <td>0.000183</td>\n      <td>0.04376</td>\n      <td>0.000183</td>\n      <td>0</td>\n      <td>0.009238</td>\n      <td>0.03434</td>\n      <td>0.000183</td>\n      <td>-0.001627</td>\n      <td>None</td>\n      <td>None</td>\n      <td>None</td>\n      <td>None</td>\n      <td>None</td>\n      <td>None</td>\n      <td>464.0801</td>\n      <td>2.427139</td>\n      <td>0.000238</td>\n      <td>463.03713</td>\n      <td>2.421684</td>\n      <td>0.000237</td>\n      <td>-0.002115</td>\n      <td>0.000319</td>\n      <td>0.0249</td>\n      <td>None</td>\n      <td>0</td>\n      <td>None</td>\n      <td>None</td>\n      <td>None</td>\n    </tr>\n    <tr>\n      <th>18</th>\n      <td>GT1</td>\n      <td>1</td>\n      <td>2023-05-12 00:00:00</td>\n      <td>09:09:00</td>\n      <td>1014.4</td>\n      <td>1068.8</td>\n      <td>1066.2</td>\n      <td>0</td>\n      <td>3.7</td>\n      <td>15.45</td>\n      <td>83.9</td>\n      <td>0</td>\n      <td>None</td>\n      <td>LM</td>\n      <td>None</td>\n      <td>2023-05-12 09:09:00</td>\n      <td>24.76875</td>\n      <td>103.05</td>\n      <td>0</td>\n      <td>3.59049</td>\n      <td>14.992722</td>\n      <td>81.416788</td>\n      <td>100.0</td>\n      <td>0.04214</td>\n      <td>0.001513</td>\n      <td>0</td>\n      <td>0.006318</td>\n      <td>0.034309</td>\n      <td>0.001513</td>\n      <td>0.042037</td>\n      <td>0.001509</td>\n      <td>0</td>\n      <td>0.006303</td>\n      <td>0.034226</td>\n      <td>0.001509</td>\n      <td>0.00133</td>\n      <td>0.00292</td>\n      <td>0.00133</td>\n      <td>0.036082</td>\n      <td>0.010902</td>\n      <td>0.011005</td>\n      <td>0.859686</td>\n      <td>3837.515769</td>\n      <td>20.070207</td>\n      <td>0.001967</td>\n      <td>3828.180495</td>\n      <td>20.021384</td>\n      <td>0.001962</td>\n      <td>0.00173</td>\n      <td>0.002048</td>\n      <td>0.160015</td>\n      <td>1.019701</td>\n      <td>0.954168</td>\n      <td>None</td>\n      <td>None</td>\n      <td>None</td>\n    </tr>\n    <tr>\n      <th>19</th>\n      <td>GT1</td>\n      <td>1</td>\n      <td>2023-05-12 00:00:00</td>\n      <td>10:10:00</td>\n      <td>1014.9</td>\n      <td>1118.6</td>\n      <td>1115.3</td>\n      <td>0</td>\n      <td>0.41</td>\n      <td>20.26</td>\n      <td>75.22</td>\n      <td>1</td>\n      <td>None</td>\n      <td>LM</td>\n      <td>793.12</td>\n      <td>2023-05-12 10:10:00</td>\n      <td>24.811111</td>\n      <td>95.89</td>\n      <td>0</td>\n      <td>0.427573</td>\n      <td>21.128376</td>\n      <td>78.44405</td>\n      <td>100</td>\n      <td>0.044103</td>\n      <td>0.000189</td>\n      <td>0</td>\n      <td>0.009318</td>\n      <td>0.034597</td>\n      <td>0.000189</td>\n      <td>0.043973</td>\n      <td>0.000188</td>\n      <td>0</td>\n      <td>0.009291</td>\n      <td>0.034494</td>\n      <td>0.000188</td>\n      <td>-0.001321</td>\n      <td>None</td>\n      <td>None</td>\n      <td>None</td>\n      <td>None</td>\n      <td>None</td>\n      <td>None</td>\n      <td>478.28345</td>\n      <td>2.501422</td>\n      <td>0.000245</td>\n      <td>476.872458</td>\n      <td>2.494043</td>\n      <td>0.000244</td>\n      <td>-0.001717</td>\n      <td>0.000331</td>\n      <td>0.025884</td>\n      <td>None</td>\n      <td>0</td>\n      <td>None</td>\n      <td>None</td>\n      <td>None</td>\n    </tr>\n    <tr>\n      <th>20</th>\n      <td>GT1</td>\n      <td>1</td>\n      <td>2023-05-15 00:00:00</td>\n      <td>09:30:00</td>\n      <td>1012.5</td>\n      <td>1068.2</td>\n      <td>1061.9</td>\n      <td>0</td>\n      <td>4.43</td>\n      <td>15.52</td>\n      <td>90.13</td>\n      <td>0</td>\n      <td>None</td>\n      <td>LM</td>\n      <td>None</td>\n      <td>2023-05-15 09:30:00</td>\n      <td>27.783333</td>\n      <td>110.08</td>\n      <td>0</td>\n      <td>4.024346</td>\n      <td>14.098837</td>\n      <td>81.876817</td>\n      <td>100</td>\n      <td>0.042116</td>\n      <td>0.001695</td>\n      <td>0</td>\n      <td>0.005938</td>\n      <td>0.034483</td>\n      <td>0.001695</td>\n      <td>0.041868</td>\n      <td>0.001685</td>\n      <td>0</td>\n      <td>0.005903</td>\n      <td>0.03428</td>\n      <td>0.001685</td>\n      <td>0.001507</td>\n      <td>0.003353</td>\n      <td>0.001507</td>\n      <td>0.039435</td>\n      <td>0.012409</td>\n      <td>0.012511</td>\n      <td>0.977406</td>\n      <td>4298.806323</td>\n      <td>22.482757</td>\n      <td>0.002203</td>\n      <td>4273.452943</td>\n      <td>22.350159</td>\n      <td>0.00219</td>\n      <td>0.001959</td>\n      <td>0.00229</td>\n      <td>0.178915</td>\n      <td>1.156321</td>\n      <td>0.967441</td>\n      <td>None</td>\n      <td>None</td>\n      <td>None</td>\n    </tr>\n    <tr>\n      <th>21</th>\n      <td>GT1</td>\n      <td>1</td>\n      <td>2023-05-15 00:00:00</td>\n      <td>10:38:00</td>\n      <td>1012.8</td>\n      <td>1117.1</td>\n      <td>1113.5</td>\n      <td>0</td>\n      <td>0.42</td>\n      <td>20.54</td>\n      <td>76.23</td>\n      <td>1</td>\n      <td>None</td>\n      <td>LM</td>\n      <td>793.04</td>\n      <td>2023-05-15 10:38:00</td>\n      <td>27.830556</td>\n      <td>97.19</td>\n      <td>0</td>\n      <td>0.432143</td>\n      <td>21.133862</td>\n      <td>78.433995</td>\n      <td>100</td>\n      <td>0.044044</td>\n      <td>0.00019</td>\n      <td>0</td>\n      <td>0.009308</td>\n      <td>0.034546</td>\n      <td>0.00019</td>\n      <td>0.043902</td>\n      <td>0.00019</td>\n      <td>0</td>\n      <td>0.009278</td>\n      <td>0.034434</td>\n      <td>0.00019</td>\n      <td>-0.001495</td>\n      <td>None</td>\n      <td>None</td>\n      <td>None</td>\n      <td>None</td>\n      <td>None</td>\n      <td>None</td>\n      <td>482.747196</td>\n      <td>2.524768</td>\n      <td>0.000247</td>\n      <td>481.191481</td>\n      <td>2.516631</td>\n      <td>0.000247</td>\n      <td>-0.001943</td>\n      <td>0.000347</td>\n      <td>0.027135</td>\n      <td>None</td>\n      <td>0</td>\n      <td>None</td>\n      <td>None</td>\n      <td>None</td>\n    </tr>\n    <tr>\n      <th>22</th>\n      <td>GT1</td>\n      <td>1</td>\n      <td>2023-05-17 00:00:00</td>\n      <td>08:52:00</td>\n      <td>1025</td>\n      <td>1088.6</td>\n      <td>1086.7</td>\n      <td>0</td>\n      <td>3.02</td>\n      <td>18.61</td>\n      <td>87.7</td>\n      <td>0</td>\n      <td>None</td>\n      <td>LM</td>\n      <td>None</td>\n      <td>2023-05-17 08:52:00</td>\n      <td>29.756944</td>\n      <td>109.33</td>\n      <td>0</td>\n      <td>2.762279</td>\n      <td>17.02186</td>\n      <td>80.21586</td>\n      <td>100</td>\n      <td>0.042921</td>\n      <td>0.001186</td>\n      <td>0</td>\n      <td>0.007306</td>\n      <td>0.034429</td>\n      <td>0.001186</td>\n      <td>0.042846</td>\n      <td>0.001184</td>\n      <td>0</td>\n      <td>0.007293</td>\n      <td>0.034369</td>\n      <td>0.001184</td>\n      <td>0.000996</td>\n      <td>0.001972</td>\n      <td>0.000996</td>\n      <td>0.041407</td>\n      <td>0.013405</td>\n      <td>0.013507</td>\n      <td>1.055204</td>\n      <td>3007.017287</td>\n      <td>15.7267</td>\n      <td>0.001541</td>\n      <td>3001.768956</td>\n      <td>15.699252</td>\n      <td>0.001539</td>\n      <td>0.001295</td>\n      <td>0.001642</td>\n      <td>0.128269</td>\n      <td>1.183473</td>\n      <td>0.861129</td>\n      <td>None</td>\n      <td>None</td>\n      <td>None</td>\n    </tr>\n    <tr>\n      <th>23</th>\n      <td>GT1</td>\n      <td>1</td>\n      <td>2023-05-17 00:00:00</td>\n      <td>09:57:00</td>\n      <td>1025.6</td>\n      <td>1129</td>\n      <td>1125.8</td>\n      <td>0</td>\n      <td>0.29</td>\n      <td>20.55</td>\n      <td>76.21</td>\n      <td>1</td>\n      <td>None</td>\n      <td>Lm</td>\n      <td>792.91</td>\n      <td>2023-05-17 09:57:00</td>\n      <td>29.802083</td>\n      <td>97.05</td>\n      <td>0</td>\n      <td>0.298815</td>\n      <td>21.174652</td>\n      <td>78.526533</td>\n      <td>100.0</td>\n      <td>0.044513</td>\n      <td>0.000133</td>\n      <td>0</td>\n      <td>0.009426</td>\n      <td>0.034955</td>\n      <td>0.000133</td>\n      <td>0.044387</td>\n      <td>0.000133</td>\n      <td>0</td>\n      <td>0.009399</td>\n      <td>0.034856</td>\n      <td>0.000133</td>\n      <td>-0.001051</td>\n      <td>None</td>\n      <td>None</td>\n      <td>None</td>\n      <td>None</td>\n      <td>None</td>\n      <td>None</td>\n      <td>337.362184</td>\n      <td>1.764404</td>\n      <td>0.000173</td>\n      <td>336.405976</td>\n      <td>1.759403</td>\n      <td>0.000172</td>\n      <td>-0.001366</td>\n      <td>0.000276</td>\n      <td>0.021586</td>\n      <td>None</td>\n      <td>0</td>\n      <td>None</td>\n      <td>None</td>\n      <td>None</td>\n    </tr>\n    <tr>\n      <th>24</th>\n      <td>GT1</td>\n      <td>1</td>\n      <td>2023-05-22 00:00:00</td>\n      <td>14:11:00</td>\n      <td>1013.1</td>\n      <td>1074.8</td>\n      <td>1072.5</td>\n      <td>0</td>\n      <td>7.08</td>\n      <td>12.54</td>\n      <td>92.29</td>\n      <td>0</td>\n      <td>Funges</td>\n      <td>LM</td>\n      <td>None</td>\n      <td>2023-05-22 14:11:00</td>\n      <td>34.978472</td>\n      <td>111.91</td>\n      <td>0</td>\n      <td>6.326512</td>\n      <td>11.205433</td>\n      <td>82.468055</td>\n      <td>100</td>\n      <td>0.042376</td>\n      <td>0.002681</td>\n      <td>0</td>\n      <td>0.004748</td>\n      <td>0.034947</td>\n      <td>0.002681</td>\n      <td>0.042286</td>\n      <td>0.002675</td>\n      <td>0</td>\n      <td>0.004738</td>\n      <td>0.034872</td>\n      <td>0.002675</td>\n      <td>0.002548</td>\n      <td>0.00465</td>\n      <td>0.002548</td>\n      <td>0.046058</td>\n      <td>0.015953</td>\n      <td>0.016056</td>\n      <td>1.254281</td>\n      <td>6799.735502</td>\n      <td>35.562617</td>\n      <td>0.003485</td>\n      <td>6785.184523</td>\n      <td>35.486515</td>\n      <td>0.003478</td>\n      <td>0.003313</td>\n      <td>0.003589</td>\n      <td>0.280379</td>\n      <td>1.53466</td>\n      <td>0.793441</td>\n      <td>None</td>\n      <td>None</td>\n      <td>None</td>\n    </tr>\n    <tr>\n      <th>25</th>\n      <td>GT1</td>\n      <td>1</td>\n      <td>2023-05-22 00:00:00</td>\n      <td>15:08:00</td>\n      <td>1013.6</td>\n      <td>1112</td>\n      <td>1108.6</td>\n      <td>0</td>\n      <td>0.64</td>\n      <td>20.31</td>\n      <td>75.55</td>\n      <td>1</td>\n      <td>None</td>\n      <td>LM</td>\n      <td>792.8</td>\n      <td>2023-05-22 15:08:00</td>\n      <td>35.018056</td>\n      <td>96.5</td>\n      <td>0</td>\n      <td>0.663212</td>\n      <td>21.046632</td>\n      <td>78.290155</td>\n      <td>100</td>\n      <td>0.043843</td>\n      <td>0.000291</td>\n      <td>0</td>\n      <td>0.009228</td>\n      <td>0.034325</td>\n      <td>0.000291</td>\n      <td>0.043709</td>\n      <td>0.00029</td>\n      <td>0</td>\n      <td>0.009199</td>\n      <td>0.03422</td>\n      <td>0.00029</td>\n      <td>-0.002384</td>\n      <td>None</td>\n      <td>None</td>\n      <td>None</td>\n      <td>None</td>\n      <td>None</td>\n      <td>None</td>\n      <td>737.492228</td>\n      <td>3.857084</td>\n      <td>0.000378</td>\n      <td>735.237306</td>\n      <td>3.845291</td>\n      <td>0.000377</td>\n      <td>-0.0031</td>\n      <td>0.000489</td>\n      <td>0.038228</td>\n      <td>None</td>\n      <td>0</td>\n      <td>None</td>\n      <td>None</td>\n      <td>None</td>\n    </tr>\n  </tbody>\n</table>\n</div>"
     },
     "metadata": {},
     "output_type": "display_data"
    },
    {
     "name": "stdout",
     "output_type": "stream",
     "text": [
      " As you can see now the full sheet is shown\n"
     ]
    }
   ],
   "source": [
    "# check if you can see the data_frame\n",
    "full_sheet = manager.load_sheet_table(sheet_name=\"GT1.1\", start_row=9)\n",
    "\n",
    "display(full_sheet)\n",
    "print(f' As you can see now the full sheet is shown')"
   ],
   "metadata": {
    "collapsed": false,
    "ExecuteTime": {
     "end_time": "2023-06-27T10:21:37.945779800Z",
     "start_time": "2023-06-27T10:21:37.690477Z"
    }
   }
  },
  {
   "cell_type": "markdown",
   "source": [
    "### Filling th dictionary for the constants of the samples  in the instance of hte excel manager class"
   ],
   "metadata": {
    "collapsed": false
   }
  },
  {
   "cell_type": "code",
   "execution_count": 21,
   "outputs": [
    {
     "name": "stdout",
     "output_type": "stream",
     "text": [
      "loading Notes is done\n",
      "loading GT1.1 is done\n",
      "loading GT1.2 is done\n",
      "loading GT2.1 is done\n",
      "loading GT2.2 is done\n",
      "loading GT3.1 is done\n",
      "loading GT3.2 is done\n",
      "loading GT4.1 is done\n",
      "loading GT4.2 is done\n",
      "loading GT5.1 is done\n",
      "loading GT5.2 is done\n",
      "loading GT6.1 is done\n",
      "loading GT6.2 is done\n",
      "loading GT7.1 is done\n",
      "loading GT7.2 is done\n",
      "loading GT8.1 is done\n",
      "loading GT8.2 is done\n"
     ]
    }
   ],
   "source": [
    "# fil in the dict with constants for the samples\n",
    "sheet_names_samples = manager.get_sheet_names()\n",
    "for sheet_name in sheet_names_samples:\n",
    "    # loading the panda data frame for the sample\n",
    "    constants_data_frame = manager.load_constants_as_data_frame(sheet_name=sheet_name, start_row=1, end_row=7, start_col=3)\n",
    "\n",
    "    constants_data_class = manager.load_constants_as_data_class(sheet_name=sheet_name, start_row=1, end_row=7, start_col=3)\n",
    "\n",
    "    # fill the dictionary\n",
    "    manager.fill_dict_constants_data_frames(data_frame=constants_data_frame, sheets=[sheet_name])\n",
    "\n",
    "    manager.fill_dict_constants_data_classes(data_class=constants_data_class, sheets=[sheet_name])\n",
    "\n",
    "    print(f\"loading {sheet_name} is done\")\n",
    "\n",
    "dict_constants = manager.get_dict_constants_data_frames()\n",
    "dict_constants_data_classes = manager.get_dict_constants_data_classes()"
   ],
   "metadata": {
    "collapsed": false,
    "ExecuteTime": {
     "end_time": "2023-06-27T10:21:38.085440300Z",
     "start_time": "2023-06-27T10:21:37.800767100Z"
    }
   }
  },
  {
   "cell_type": "markdown",
   "source": [
    "# Validate Input data (TODO!)"
   ],
   "metadata": {
    "collapsed": false
   }
  },
  {
   "cell_type": "markdown",
   "source": [
    "#### running all the calculations for each data frame (sammple)"
   ],
   "metadata": {
    "collapsed": false
   }
  },
  {
   "cell_type": "code",
   "execution_count": 22,
   "outputs": [
    {
     "name": "stdout",
     "output_type": "stream",
     "text": [
      "started with sheet: GT1.1\n",
      "finished calculations GT1.1\n",
      "filled dictionary for GT1.1\n",
      "started with sheet: GT1.2\n",
      "finished calculations GT1.2\n",
      "filled dictionary for GT1.2\n",
      "started with sheet: GT2.1\n",
      "finished calculations GT2.1\n",
      "filled dictionary for GT2.1\n",
      "started with sheet: GT2.2\n",
      "finished calculations GT2.2\n",
      "filled dictionary for GT2.2\n",
      "started with sheet: GT3.1\n",
      "finished calculations GT3.1\n",
      "filled dictionary for GT3.1\n",
      "started with sheet: GT3.2\n",
      "finished calculations GT3.2\n",
      "filled dictionary for GT3.2\n",
      "started with sheet: GT4.1\n",
      "finished calculations GT4.1\n",
      "filled dictionary for GT4.1\n",
      "started with sheet: GT4.2\n",
      "finished calculations GT4.2\n",
      "filled dictionary for GT4.2\n",
      "started with sheet: GT5.1\n",
      "finished calculations GT5.1\n",
      "filled dictionary for GT5.1\n",
      "started with sheet: GT5.2\n",
      "finished calculations GT5.2\n",
      "filled dictionary for GT5.2\n",
      "started with sheet: GT6.1\n",
      "finished calculations GT6.1\n",
      "filled dictionary for GT6.1\n",
      "started with sheet: GT6.2\n",
      "finished calculations GT6.2\n",
      "filled dictionary for GT6.2\n",
      "started with sheet: GT7.1\n",
      "finished calculations GT7.1\n",
      "filled dictionary for GT7.1\n",
      "started with sheet: GT7.2\n",
      "finished calculations GT7.2\n",
      "filled dictionary for GT7.2\n",
      "started with sheet: GT8.1\n",
      "finished calculations GT8.1\n",
      "filled dictionary for GT8.1\n",
      "started with sheet: GT8.2\n",
      "finished calculations GT8.2\n",
      "filled dictionary for GT8.2\n"
     ]
    }
   ],
   "source": [
    "from data_frame_calculations import GasComposition\n",
    "from nice_functions import NiceExcelFunction\n",
    "\n",
    "# Now all the data frames are read in, calculated and returned in to the excell_file\n",
    "sheet_names_samples = sheet_names[1:]\n",
    "for sheet_name in sheet_names_samples:\n",
    "    print(f\"started with sheet: {sheet_name}\")\n",
    "    # loading the data frame\n",
    "    column_end = NiceExcelFunction.get_column_index_from_letter(column_letter=\"O\")\n",
    "    data_frame = manager.load_sheet_table_with_input_header(sheet_name=sheet_name, column_names=basic_column_names, start_row=12, end_column=column_end)\n",
    "\n",
    "    # loading the data class with the constants for the sample\n",
    "    constants_data_class = dict_constants_data_classes[sheet_name]\n",
    "\n",
    "    # adding date and do the gas composition corrections.\n",
    "    RunDataFrameCalculationsForOneDataFrame(data_frame=data_frame).run_data_frame_processor_calculations()\n",
    "    RunDataFrameCalculationsForOneDataFrame(data_frame=data_frame).run_gas_composition_calculations()\n",
    "\n",
    "    # calculations for moles before and after sampling\n",
    "    RunDataFrameCalculationsForOneDataFrame(data_frame=data_frame).run_mol_gases_before_and_after_sampling(Rgas=constants_data_class.Rgas,\n",
    "                                                                                                           exp_temperature=constants_data_class.expTemp,\n",
    "                                                                                                           volume_headspace=constants_data_class.volume_headspace)\n",
    "    # correcting the mg_bs for the first measurement\n",
    "    data_frame.loc[0, \"mg_as\"] = data_frame.loc[0, \"mg_bs\"]\n",
    "\n",
    "    # run mol gas composition\n",
    "    RunDataFrameCalculationsForOneDataFrame(data_frame=data_frame).run_mol_gas_composition_calculation()\n",
    "\n",
    "    # run moles produced\n",
    "    RunDataFrameCalculationsForOneDataFrame(data_frame=data_frame).run_moles_produced()\n",
    "    # run cumulative calculations carbon in gas phase\n",
    "    RunDataFrameCalculationsForOneDataFrame(data_frame=data_frame).run_cumulative_production_in_the_gas_phase(molar_mass_carbon=constants_data_class.molar_mass_carbon,\n",
    "                                                                                                              dry_mass_sample=constants_data_class.dry_mass_sample)\n",
    "\n",
    "    # run calculation carbon in the aqueous phase\n",
    "    RunDataFrameCalculationsForOneDataFrame(data_frame=data_frame).run_carbon_in_aqueous_phase(water_volume_in_liters=constants_data_class.water_volume,\n",
    "                                                                                    dry_mass_sample=constants_data_class.dry_mass_sample)\n",
    "\n",
    "    # run results interpretations\n",
    "    RunDataFrameCalculationsForOneDataFrame(data_frame=data_frame).run_results_Interpretations()\n",
    "\n",
    "    # print to see the process\n",
    "    print(f\"finished calculations {sheet_name}\")\n",
    "\n",
    "    # overwrite the old data frame or fill with the new data frame which has calculations\n",
    "    manager.fill_dict_panda_data_frames(data_frame=data_frame, sheets=[sheet_name])\n",
    "\n",
    "    # print to see the process\n",
    "    print(f\"filled dictionary for {sheet_name}\")"
   ],
   "metadata": {
    "collapsed": false,
    "ExecuteTime": {
     "end_time": "2023-06-27T10:21:39.024121600Z",
     "start_time": "2023-06-27T10:21:37.863945200Z"
    }
   }
  },
  {
   "cell_type": "markdown",
   "source": [
    "#### you can see the data frame below. Please fill the name of the tab below:"
   ],
   "metadata": {
    "collapsed": false
   }
  },
  {
   "cell_type": "code",
   "execution_count": 23,
   "outputs": [
    {
     "data": {
      "text/plain": "   Sample ID  Parallel        Date      Time  P atm [hPa]   \n0        GT5         1  2023-04-17  15:18:00       1025.4  \\\n1        GT5         1  2023-04-19  15:37:00       1022.7   \n2        GT5         1  2023-04-19  17:41:00       1021.3   \n3        GT5         1  2023-04-24  10:59:00       1003.2   \n4        GT5         1  2023-04-24  12:13:00       1004.0   \n5        GT5         1  2023-04-26  09:24:00       1017.1   \n6        GT5         1  2023-04-28  10:15:00       1007.0   \n7        GT5         1  2023-05-01  14:15:00       1013.3   \n8        GT5         1  2023-05-01  15:13:00       1013.4   \n9        GT5         1  2023-05-04  10:12:00       1017.6   \n10       GT5         1  2023-05-04  11:05:00       1017.1   \n11       GT5         1  2023-05-08  09:21:00       1018.7   \n12       GT5         1  2023-05-10  10:00:00       1007.7   \n13       GT5         1  2023-05-12  09:29:00       1014.7   \n14       GT5         1  2023-05-12  10:28:00       1015.0   \n15       GT5         1  2023-05-15  10:09:00       1012.8   \n16       GT5         1  2023-05-17  09:17:00       1025.3   \n17       GT5         1  2023-05-22  14:37:00       1013.4   \n18       GT5         1  2023-05-22  15:31:00       1013.5   \n\n    P sample before gc [hPa]  P sample after gc [hPa]  CH4 [%]  CO2 [%]   \n0                1157.188235                      NaN     0.00     0.03  \\\n1                1061.800000                   1058.7     0.14     3.27   \n2                1127.500000                   1121.1     0.00     0.38   \n3                1062.400000                   1058.9     0.00     3.52   \n4                1102.200000                   1098.7     0.00     0.35   \n5                1086.300000                   1082.0     0.00     1.70   \n6                1060.800000                   1057.5     0.00     2.68   \n7                1077.500000                   1073.8     0.00     3.34   \n8                1113.700000                   1110.0     0.00     0.30   \n9                1075.000000                   1071.5     0.00     2.96   \n10               1118.300000                   1115.0     0.00     0.22   \n11               1104.700000                   1101.5     0.00     2.13   \n12               1092.000000                   1088.9     0.00     2.50   \n13               1079.900000                   1076.3     0.00     3.09   \n14               1115.400000                   1112.0     0.00     0.17   \n15               1105.100000                   1102.0     0.00     1.71   \n16               1095.800000                   1092.9     0.00     2.28   \n17               1079.900000                   1077.6     0.05     3.79   \n18               1113.900000                   1110.8     0.00     0.33   \n\n    O2 [%]  N2 [%]  Flush (1=yes; 0=no)          Comments GC method   \n0    21.90   78.07                  NaN  start expiriment      None  \\\n1    13.69   81.11                  0.0              None        LM   \n2    20.60   76.67                  1.0      opend bottle        LM   \n3    13.46   81.50                  0.0              None        LM   \n4    20.57   76.38                  1.0              None        LM   \n5    18.52   77.87                  0.0              None        LM   \n6    16.14   80.16                  0.0              None        LM   \n7    14.44   80.15                  0.0              None        LM   \n8    20.59   76.61                  1.0              None        LM   \n9    15.27   78.85                  0.0              None        LM   \n10   20.40   75.64                  1.0              None        LM   \n11   17.45   77.44                  0.0              None        LM   \n12   16.30   78.36                  0.0              None        LM   \n13   15.08   79.19                  0.0              None        LM   \n14   20.41   75.59                  1.0              None        LM   \n15   18.86   77.83                  0.0              None        LM   \n16   17.97   79.14                  0.0              None        LM   \n17   14.94   79.78                  0.0              None        LM   \n18   20.30   75.47                  1.0              None        LM   \n\n    Weight [g]          Day + Time        Day  Sum [%]  CH4-corr [%]   \n0       785.80 2023-04-17 15:18:00   0.000000   100.00      0.000000  \\\n1          NaN 2023-04-19 15:37:00   2.013194    98.21      0.142552   \n2       785.72 2023-04-19 17:41:00   2.099306    97.65      0.000000   \n3          NaN 2023-04-24 10:59:00   6.820139    98.48      0.000000   \n4       785.64 2023-04-24 12:13:00   6.871528    97.30      0.000000   \n5          NaN 2023-04-26 09:24:00   8.754167    98.09      0.000000   \n6          NaN 2023-04-28 10:15:00  10.789583    98.98      0.000000   \n7          NaN 2023-05-01 14:15:00  13.956250    97.93      0.000000   \n8       785.51 2023-05-01 15:13:00  13.996528    97.50      0.000000   \n9          NaN 2023-05-04 10:12:00  16.787500    97.08      0.000000   \n10      785.41 2023-05-04 11:05:00  16.824306    96.26      0.000000   \n11         NaN 2023-05-08 09:21:00  20.752083    97.02      0.000000   \n12         NaN 2023-05-10 10:00:00  22.779167    97.16      0.000000   \n13         NaN 2023-05-12 09:29:00  24.757639    97.36      0.000000   \n14      785.37 2023-05-12 10:28:00  24.798611    96.17      0.000000   \n15         NaN 2023-05-15 10:09:00  27.785417    98.40      0.000000   \n16         NaN 2023-05-17 09:17:00  29.749306    99.39      0.000000   \n17         NaN 2023-05-22 14:37:00  34.971528    98.56      0.050731   \n18      785.27 2023-05-22 15:31:00  35.009028    96.10      0.000000   \n\n    CO2-corr [%]  O2-corr [%]  N2-corr [%]  Sum-corr [%]     mg_bs    mCO2_b   \n0       0.030000    21.900000    78.070000         100.0  0.045625  0.000014  \\\n1       3.329600    13.939517    82.588331         100.0  0.041864  0.001394   \n2       0.389145    21.095750    78.515105         100.0  0.044454  0.000173   \n3       3.574330    13.667750    82.757920         100.0  0.041888  0.001497   \n4       0.359712    21.140802    78.499486         100.0  0.043457  0.000156   \n5       1.733102    18.880620    79.386278         100.0  0.042830  0.000742   \n6       2.707618    16.306325    80.986058         100.0  0.041825  0.001132   \n7       3.410599    14.745226    81.844174         100.0  0.042483  0.001449   \n8       0.307692    21.117949    78.574359         100.0  0.043910  0.000135   \n9       3.049032    15.729295    81.221673         100.0  0.042384  0.001292   \n10      0.228548    21.192603    78.578849         100.0  0.044092  0.000101   \n11      2.195424    17.985982    79.818594         100.0  0.043555  0.000956   \n12      2.573075    16.776451    80.650473         100.0  0.043055  0.001108   \n13      3.173788    15.488907    81.337305         100.0  0.042578  0.001351   \n14      0.176770    21.222835    78.600395         100.0  0.043977  0.000078   \n15      1.737805    19.166667    79.095528         100.0  0.043571  0.000757   \n16      2.293993    18.080290    79.625717         100.0  0.043204  0.000991   \n17      3.845373    15.158279    80.945617         100.0  0.042578  0.001637   \n18      0.343392    21.123829    78.532778         100.0  0.043918  0.000151   \n\n      mCH4_b     mO2_b     mN2_b   mCTot_b     mg_as    mCO2_a    mCH4_a   \n0   0.000000  0.009992  0.035619  0.000014  0.045625  0.000014  0.000000  \\\n1   0.000060  0.005836  0.034575  0.001454  0.041742  0.001390  0.000060   \n2   0.000000  0.009378  0.034903  0.000173  0.044202  0.000172  0.000000   \n3   0.000000  0.005725  0.034665  0.001497  0.041750  0.001492  0.000000   \n4   0.000000  0.009187  0.034113  0.000156  0.043319  0.000156  0.000000   \n5   0.000000  0.008087  0.034001  0.000742  0.042660  0.000739  0.000000   \n6   0.000000  0.006820  0.033872  0.001132  0.041694  0.001129  0.000000   \n7   0.000000  0.006264  0.034770  0.001449  0.042337  0.001444  0.000000   \n8   0.000000  0.009273  0.034502  0.000135  0.043764  0.000135  0.000000   \n9   0.000000  0.006667  0.034425  0.001292  0.042246  0.001288  0.000000   \n10  0.000000  0.009344  0.034647  0.000101  0.043961  0.000100  0.000000   \n11  0.000000  0.007834  0.034765  0.000956  0.043429  0.000953  0.000000   \n12  0.000000  0.007223  0.034724  0.001108  0.042932  0.001105  0.000000   \n13  0.000000  0.006595  0.034631  0.001351  0.042436  0.001347  0.000000   \n14  0.000000  0.009333  0.034566  0.000078  0.043843  0.000078  0.000000   \n15  0.000000  0.008351  0.034463  0.000757  0.043449  0.000755  0.000000   \n16  0.000000  0.007811  0.034402  0.000991  0.043090  0.000988  0.000000   \n17  0.000022  0.006454  0.034465  0.001659  0.042487  0.001634  0.000022   \n18  0.000000  0.009277  0.034490  0.000151  0.043796  0.000150  0.000000   \n\n       mO2_a     mN2_a   mCTot_a  mCTot_produced  O2 consumed  CO2 produced   \n0   0.009992  0.035619  0.000014        0.000000     0.000000      0.000000  \\\n1   0.005819  0.034474  0.001449        0.001440     0.004156      0.001380   \n2   0.009325  0.034705  0.000172             NaN          NaN           NaN   \n3   0.005706  0.034551  0.001492        0.001325     0.003600      0.001325   \n4   0.009158  0.034005  0.000156             NaN          NaN           NaN   \n5   0.008055  0.033866  0.000739        0.000586     0.001071      0.000586   \n6   0.006799  0.033767  0.001129        0.000393     0.001235      0.000393   \n7   0.006243  0.034650  0.001444        0.000320     0.000535      0.000320   \n8   0.009242  0.034388  0.000135             NaN          NaN           NaN   \n9   0.006645  0.034313  0.001288        0.001158     0.002575      0.001158   \n10  0.009317  0.034544  0.000100             NaN          NaN           NaN   \n11  0.007811  0.034665  0.000953        0.000856     0.001483      0.000856   \n12  0.007203  0.034625  0.001105        0.000154     0.000588      0.000154   \n13  0.006573  0.034516  0.001347        0.000247     0.000608      0.000247   \n14  0.009305  0.034461  0.000078             NaN          NaN           NaN   \n15  0.008328  0.034366  0.000755        0.000680     0.000954      0.000680   \n16  0.007791  0.034311  0.000988        0.000236     0.000516      0.000236   \n17  0.006440  0.034391  0.001655        0.000670     0.001337      0.000649   \n18  0.009251  0.034394  0.000150             NaN          NaN           NaN   \n\n    O2 consumed_cum  CO2 produced_cum  mCTot_produced_cum  Cgas_DM_cum   \n0          0.000000          0.000000            0.000000     0.000000  \\\n1          0.004156          0.001380            0.001440     0.112486   \n2               NaN               NaN                 NaN          NaN   \n3          0.007756          0.002705            0.002765     0.216011   \n4               NaN               NaN                 NaN          NaN   \n5          0.008827          0.003292            0.003352     0.261826   \n6          0.010062          0.003685            0.003745     0.292536   \n7          0.010596          0.004005            0.004065     0.317534   \n8               NaN               NaN                 NaN          NaN   \n9          0.013172          0.005163            0.005222     0.407971   \n10              NaN               NaN                 NaN          NaN   \n11         0.014654          0.006018            0.006078     0.474824   \n12         0.015243          0.006173            0.006232     0.486883   \n13         0.015850          0.006419            0.006479     0.506151   \n14              NaN               NaN                 NaN          NaN   \n15         0.016804          0.007099            0.007159     0.559248   \n16         0.017320          0.007335            0.007395     0.577689   \n17         0.018657          0.007984            0.008065     0.630060   \n18              NaN               NaN                 NaN          NaN   \n\n      PP CO2_b   CO2_b_aq [mol/m3]  CO2_b_aq [mol]    PP CO2_a    \n0     34.715647           0.181563        0.000018    34.715647  \\\n1   3535.369107          18.489980        0.001812  3535.369107   \n2    438.760881           2.294719        0.000225   438.760881   \n3   3797.367994          19.860235        0.001946  3797.367994   \n4    396.474820           2.073563        0.000203   396.474820   \n5   1882.668977           9.846359        0.000965  1882.668977   \n6   2872.240857          15.021820        0.001472  2872.240857   \n7   3674.920862          19.219836        0.001884  3674.920862   \n8    342.676923           1.792200        0.000176   342.676923   \n9   3277.709106          17.142419        0.001680  3277.709106   \n10   255.584874           1.336709        0.000131   255.584874   \n11  2425.284477          12.684238        0.001243  2425.284477   \n12  2809.798271          14.695245        0.001440  2809.798271   \n13  3427.373665          17.925164        0.001757  3427.373665   \n14   197.169596           1.031197        0.000101   197.169596   \n15  1920.448171          10.043944        0.000984  1920.448171   \n16  2513.757923          13.146954        0.001288  2513.757923   \n17  4152.618709          21.718196        0.002128  4152.618709   \n18   382.504683           2.000499        0.000196   382.504683   \n\n    CO2_a_aq [mol/m3]  CO2_a_aq [mol]  CO2_dissolved_between_time_steps_aq   \n0            0.181563        0.000018                             0.000000  \\\n1           18.489980        0.001812                             0.001794   \n2            2.294719        0.000225                            -0.001587   \n3           19.860235        0.001946                             0.001721   \n4            2.073563        0.000203                            -0.001743   \n5            9.846359        0.000965                             0.000762   \n6           15.021820        0.001472                             0.000507   \n7           19.219836        0.001884                             0.000411   \n8            1.792200        0.000176                            -0.001708   \n9           17.142419        0.001680                             0.001504   \n10           1.336709        0.000131                            -0.001549   \n11          12.684238        0.001243                             0.001112   \n12          14.695245        0.001440                             0.000197   \n13          17.925164        0.001757                             0.000317   \n14           1.031197        0.000101                            -0.001656   \n15          10.043944        0.000984                             0.000883   \n16          13.146954        0.001288                             0.000304   \n17          21.718196        0.002128                             0.000840   \n18           2.000499        0.000196                            -0.001932   \n\n    CO2_produced_aq_cum   DIC_cum  Ctot_DM [mg C/gDW]  Ratio O2/CO2  \n0              0.000000  0.001390            0.000000      0.000000  \n1              0.001794  0.141557            0.254043      1.309274  \n2              0.000207  0.017568                 NaN           NaN  \n3              0.001929  0.152047            0.368058      1.181525  \n4              0.000185  0.015875                 NaN           NaN  \n5              0.000947  0.075382            0.337209      0.794684  \n6              0.001454  0.115005            0.407541      1.371219  \n7              0.001866  0.147144            0.464679      0.730947  \n8              0.000158  0.013721                 NaN           NaN  \n9              0.001662  0.131240            0.539211      0.967464  \n10             0.000113  0.010234                 NaN           NaN  \n11             0.001225  0.097109            0.571932      0.753487  \n12             0.001422  0.112505            0.599388      1.673421  \n13             0.001739  0.137233            0.643384      1.079132  \n14             0.000083  0.007895                 NaN           NaN  \n15             0.000967  0.076895            0.636143      0.610157  \n16             0.001271  0.100651            0.678340      0.955699  \n17             0.002111  0.166272            0.796331      0.897921  \n18             0.000178  0.015316                 NaN           NaN  ",
      "text/html": "<div>\n<style scoped>\n    .dataframe tbody tr th:only-of-type {\n        vertical-align: middle;\n    }\n\n    .dataframe tbody tr th {\n        vertical-align: top;\n    }\n\n    .dataframe thead th {\n        text-align: right;\n    }\n</style>\n<table border=\"1\" class=\"dataframe\">\n  <thead>\n    <tr style=\"text-align: right;\">\n      <th></th>\n      <th>Sample ID</th>\n      <th>Parallel</th>\n      <th>Date</th>\n      <th>Time</th>\n      <th>P atm [hPa]</th>\n      <th>P sample before gc [hPa]</th>\n      <th>P sample after gc [hPa]</th>\n      <th>CH4 [%]</th>\n      <th>CO2 [%]</th>\n      <th>O2 [%]</th>\n      <th>N2 [%]</th>\n      <th>Flush (1=yes; 0=no)</th>\n      <th>Comments</th>\n      <th>GC method</th>\n      <th>Weight [g]</th>\n      <th>Day + Time</th>\n      <th>Day</th>\n      <th>Sum [%]</th>\n      <th>CH4-corr [%]</th>\n      <th>CO2-corr [%]</th>\n      <th>O2-corr [%]</th>\n      <th>N2-corr [%]</th>\n      <th>Sum-corr [%]</th>\n      <th>mg_bs</th>\n      <th>mCO2_b</th>\n      <th>mCH4_b</th>\n      <th>mO2_b</th>\n      <th>mN2_b</th>\n      <th>mCTot_b</th>\n      <th>mg_as</th>\n      <th>mCO2_a</th>\n      <th>mCH4_a</th>\n      <th>mO2_a</th>\n      <th>mN2_a</th>\n      <th>mCTot_a</th>\n      <th>mCTot_produced</th>\n      <th>O2 consumed</th>\n      <th>CO2 produced</th>\n      <th>O2 consumed_cum</th>\n      <th>CO2 produced_cum</th>\n      <th>mCTot_produced_cum</th>\n      <th>Cgas_DM_cum</th>\n      <th>PP CO2_b</th>\n      <th>CO2_b_aq [mol/m3]</th>\n      <th>CO2_b_aq [mol]</th>\n      <th>PP CO2_a</th>\n      <th>CO2_a_aq [mol/m3]</th>\n      <th>CO2_a_aq [mol]</th>\n      <th>CO2_dissolved_between_time_steps_aq</th>\n      <th>CO2_produced_aq_cum</th>\n      <th>DIC_cum</th>\n      <th>Ctot_DM [mg C/gDW]</th>\n      <th>Ratio O2/CO2</th>\n    </tr>\n  </thead>\n  <tbody>\n    <tr>\n      <th>0</th>\n      <td>GT5</td>\n      <td>1</td>\n      <td>2023-04-17</td>\n      <td>15:18:00</td>\n      <td>1025.4</td>\n      <td>1157.188235</td>\n      <td>NaN</td>\n      <td>0.00</td>\n      <td>0.03</td>\n      <td>21.90</td>\n      <td>78.07</td>\n      <td>NaN</td>\n      <td>start expiriment</td>\n      <td>None</td>\n      <td>785.80</td>\n      <td>2023-04-17 15:18:00</td>\n      <td>0.000000</td>\n      <td>100.00</td>\n      <td>0.000000</td>\n      <td>0.030000</td>\n      <td>21.900000</td>\n      <td>78.070000</td>\n      <td>100.0</td>\n      <td>0.045625</td>\n      <td>0.000014</td>\n      <td>0.000000</td>\n      <td>0.009992</td>\n      <td>0.035619</td>\n      <td>0.000014</td>\n      <td>0.045625</td>\n      <td>0.000014</td>\n      <td>0.000000</td>\n      <td>0.009992</td>\n      <td>0.035619</td>\n      <td>0.000014</td>\n      <td>0.000000</td>\n      <td>0.000000</td>\n      <td>0.000000</td>\n      <td>0.000000</td>\n      <td>0.000000</td>\n      <td>0.000000</td>\n      <td>0.000000</td>\n      <td>34.715647</td>\n      <td>0.181563</td>\n      <td>0.000018</td>\n      <td>34.715647</td>\n      <td>0.181563</td>\n      <td>0.000018</td>\n      <td>0.000000</td>\n      <td>0.000000</td>\n      <td>0.001390</td>\n      <td>0.000000</td>\n      <td>0.000000</td>\n    </tr>\n    <tr>\n      <th>1</th>\n      <td>GT5</td>\n      <td>1</td>\n      <td>2023-04-19</td>\n      <td>15:37:00</td>\n      <td>1022.7</td>\n      <td>1061.800000</td>\n      <td>1058.7</td>\n      <td>0.14</td>\n      <td>3.27</td>\n      <td>13.69</td>\n      <td>81.11</td>\n      <td>0.0</td>\n      <td>None</td>\n      <td>LM</td>\n      <td>NaN</td>\n      <td>2023-04-19 15:37:00</td>\n      <td>2.013194</td>\n      <td>98.21</td>\n      <td>0.142552</td>\n      <td>3.329600</td>\n      <td>13.939517</td>\n      <td>82.588331</td>\n      <td>100.0</td>\n      <td>0.041864</td>\n      <td>0.001394</td>\n      <td>0.000060</td>\n      <td>0.005836</td>\n      <td>0.034575</td>\n      <td>0.001454</td>\n      <td>0.041742</td>\n      <td>0.001390</td>\n      <td>0.000060</td>\n      <td>0.005819</td>\n      <td>0.034474</td>\n      <td>0.001449</td>\n      <td>0.001440</td>\n      <td>0.004156</td>\n      <td>0.001380</td>\n      <td>0.004156</td>\n      <td>0.001380</td>\n      <td>0.001440</td>\n      <td>0.112486</td>\n      <td>3535.369107</td>\n      <td>18.489980</td>\n      <td>0.001812</td>\n      <td>3535.369107</td>\n      <td>18.489980</td>\n      <td>0.001812</td>\n      <td>0.001794</td>\n      <td>0.001794</td>\n      <td>0.141557</td>\n      <td>0.254043</td>\n      <td>1.309274</td>\n    </tr>\n    <tr>\n      <th>2</th>\n      <td>GT5</td>\n      <td>1</td>\n      <td>2023-04-19</td>\n      <td>17:41:00</td>\n      <td>1021.3</td>\n      <td>1127.500000</td>\n      <td>1121.1</td>\n      <td>0.00</td>\n      <td>0.38</td>\n      <td>20.60</td>\n      <td>76.67</td>\n      <td>1.0</td>\n      <td>opend bottle</td>\n      <td>LM</td>\n      <td>785.72</td>\n      <td>2023-04-19 17:41:00</td>\n      <td>2.099306</td>\n      <td>97.65</td>\n      <td>0.000000</td>\n      <td>0.389145</td>\n      <td>21.095750</td>\n      <td>78.515105</td>\n      <td>100.0</td>\n      <td>0.044454</td>\n      <td>0.000173</td>\n      <td>0.000000</td>\n      <td>0.009378</td>\n      <td>0.034903</td>\n      <td>0.000173</td>\n      <td>0.044202</td>\n      <td>0.000172</td>\n      <td>0.000000</td>\n      <td>0.009325</td>\n      <td>0.034705</td>\n      <td>0.000172</td>\n      <td>NaN</td>\n      <td>NaN</td>\n      <td>NaN</td>\n      <td>NaN</td>\n      <td>NaN</td>\n      <td>NaN</td>\n      <td>NaN</td>\n      <td>438.760881</td>\n      <td>2.294719</td>\n      <td>0.000225</td>\n      <td>438.760881</td>\n      <td>2.294719</td>\n      <td>0.000225</td>\n      <td>-0.001587</td>\n      <td>0.000207</td>\n      <td>0.017568</td>\n      <td>NaN</td>\n      <td>NaN</td>\n    </tr>\n    <tr>\n      <th>3</th>\n      <td>GT5</td>\n      <td>1</td>\n      <td>2023-04-24</td>\n      <td>10:59:00</td>\n      <td>1003.2</td>\n      <td>1062.400000</td>\n      <td>1058.9</td>\n      <td>0.00</td>\n      <td>3.52</td>\n      <td>13.46</td>\n      <td>81.50</td>\n      <td>0.0</td>\n      <td>None</td>\n      <td>LM</td>\n      <td>NaN</td>\n      <td>2023-04-24 10:59:00</td>\n      <td>6.820139</td>\n      <td>98.48</td>\n      <td>0.000000</td>\n      <td>3.574330</td>\n      <td>13.667750</td>\n      <td>82.757920</td>\n      <td>100.0</td>\n      <td>0.041888</td>\n      <td>0.001497</td>\n      <td>0.000000</td>\n      <td>0.005725</td>\n      <td>0.034665</td>\n      <td>0.001497</td>\n      <td>0.041750</td>\n      <td>0.001492</td>\n      <td>0.000000</td>\n      <td>0.005706</td>\n      <td>0.034551</td>\n      <td>0.001492</td>\n      <td>0.001325</td>\n      <td>0.003600</td>\n      <td>0.001325</td>\n      <td>0.007756</td>\n      <td>0.002705</td>\n      <td>0.002765</td>\n      <td>0.216011</td>\n      <td>3797.367994</td>\n      <td>19.860235</td>\n      <td>0.001946</td>\n      <td>3797.367994</td>\n      <td>19.860235</td>\n      <td>0.001946</td>\n      <td>0.001721</td>\n      <td>0.001929</td>\n      <td>0.152047</td>\n      <td>0.368058</td>\n      <td>1.181525</td>\n    </tr>\n    <tr>\n      <th>4</th>\n      <td>GT5</td>\n      <td>1</td>\n      <td>2023-04-24</td>\n      <td>12:13:00</td>\n      <td>1004.0</td>\n      <td>1102.200000</td>\n      <td>1098.7</td>\n      <td>0.00</td>\n      <td>0.35</td>\n      <td>20.57</td>\n      <td>76.38</td>\n      <td>1.0</td>\n      <td>None</td>\n      <td>LM</td>\n      <td>785.64</td>\n      <td>2023-04-24 12:13:00</td>\n      <td>6.871528</td>\n      <td>97.30</td>\n      <td>0.000000</td>\n      <td>0.359712</td>\n      <td>21.140802</td>\n      <td>78.499486</td>\n      <td>100.0</td>\n      <td>0.043457</td>\n      <td>0.000156</td>\n      <td>0.000000</td>\n      <td>0.009187</td>\n      <td>0.034113</td>\n      <td>0.000156</td>\n      <td>0.043319</td>\n      <td>0.000156</td>\n      <td>0.000000</td>\n      <td>0.009158</td>\n      <td>0.034005</td>\n      <td>0.000156</td>\n      <td>NaN</td>\n      <td>NaN</td>\n      <td>NaN</td>\n      <td>NaN</td>\n      <td>NaN</td>\n      <td>NaN</td>\n      <td>NaN</td>\n      <td>396.474820</td>\n      <td>2.073563</td>\n      <td>0.000203</td>\n      <td>396.474820</td>\n      <td>2.073563</td>\n      <td>0.000203</td>\n      <td>-0.001743</td>\n      <td>0.000185</td>\n      <td>0.015875</td>\n      <td>NaN</td>\n      <td>NaN</td>\n    </tr>\n    <tr>\n      <th>5</th>\n      <td>GT5</td>\n      <td>1</td>\n      <td>2023-04-26</td>\n      <td>09:24:00</td>\n      <td>1017.1</td>\n      <td>1086.300000</td>\n      <td>1082.0</td>\n      <td>0.00</td>\n      <td>1.70</td>\n      <td>18.52</td>\n      <td>77.87</td>\n      <td>0.0</td>\n      <td>None</td>\n      <td>LM</td>\n      <td>NaN</td>\n      <td>2023-04-26 09:24:00</td>\n      <td>8.754167</td>\n      <td>98.09</td>\n      <td>0.000000</td>\n      <td>1.733102</td>\n      <td>18.880620</td>\n      <td>79.386278</td>\n      <td>100.0</td>\n      <td>0.042830</td>\n      <td>0.000742</td>\n      <td>0.000000</td>\n      <td>0.008087</td>\n      <td>0.034001</td>\n      <td>0.000742</td>\n      <td>0.042660</td>\n      <td>0.000739</td>\n      <td>0.000000</td>\n      <td>0.008055</td>\n      <td>0.033866</td>\n      <td>0.000739</td>\n      <td>0.000586</td>\n      <td>0.001071</td>\n      <td>0.000586</td>\n      <td>0.008827</td>\n      <td>0.003292</td>\n      <td>0.003352</td>\n      <td>0.261826</td>\n      <td>1882.668977</td>\n      <td>9.846359</td>\n      <td>0.000965</td>\n      <td>1882.668977</td>\n      <td>9.846359</td>\n      <td>0.000965</td>\n      <td>0.000762</td>\n      <td>0.000947</td>\n      <td>0.075382</td>\n      <td>0.337209</td>\n      <td>0.794684</td>\n    </tr>\n    <tr>\n      <th>6</th>\n      <td>GT5</td>\n      <td>1</td>\n      <td>2023-04-28</td>\n      <td>10:15:00</td>\n      <td>1007.0</td>\n      <td>1060.800000</td>\n      <td>1057.5</td>\n      <td>0.00</td>\n      <td>2.68</td>\n      <td>16.14</td>\n      <td>80.16</td>\n      <td>0.0</td>\n      <td>None</td>\n      <td>LM</td>\n      <td>NaN</td>\n      <td>2023-04-28 10:15:00</td>\n      <td>10.789583</td>\n      <td>98.98</td>\n      <td>0.000000</td>\n      <td>2.707618</td>\n      <td>16.306325</td>\n      <td>80.986058</td>\n      <td>100.0</td>\n      <td>0.041825</td>\n      <td>0.001132</td>\n      <td>0.000000</td>\n      <td>0.006820</td>\n      <td>0.033872</td>\n      <td>0.001132</td>\n      <td>0.041694</td>\n      <td>0.001129</td>\n      <td>0.000000</td>\n      <td>0.006799</td>\n      <td>0.033767</td>\n      <td>0.001129</td>\n      <td>0.000393</td>\n      <td>0.001235</td>\n      <td>0.000393</td>\n      <td>0.010062</td>\n      <td>0.003685</td>\n      <td>0.003745</td>\n      <td>0.292536</td>\n      <td>2872.240857</td>\n      <td>15.021820</td>\n      <td>0.001472</td>\n      <td>2872.240857</td>\n      <td>15.021820</td>\n      <td>0.001472</td>\n      <td>0.000507</td>\n      <td>0.001454</td>\n      <td>0.115005</td>\n      <td>0.407541</td>\n      <td>1.371219</td>\n    </tr>\n    <tr>\n      <th>7</th>\n      <td>GT5</td>\n      <td>1</td>\n      <td>2023-05-01</td>\n      <td>14:15:00</td>\n      <td>1013.3</td>\n      <td>1077.500000</td>\n      <td>1073.8</td>\n      <td>0.00</td>\n      <td>3.34</td>\n      <td>14.44</td>\n      <td>80.15</td>\n      <td>0.0</td>\n      <td>None</td>\n      <td>LM</td>\n      <td>NaN</td>\n      <td>2023-05-01 14:15:00</td>\n      <td>13.956250</td>\n      <td>97.93</td>\n      <td>0.000000</td>\n      <td>3.410599</td>\n      <td>14.745226</td>\n      <td>81.844174</td>\n      <td>100.0</td>\n      <td>0.042483</td>\n      <td>0.001449</td>\n      <td>0.000000</td>\n      <td>0.006264</td>\n      <td>0.034770</td>\n      <td>0.001449</td>\n      <td>0.042337</td>\n      <td>0.001444</td>\n      <td>0.000000</td>\n      <td>0.006243</td>\n      <td>0.034650</td>\n      <td>0.001444</td>\n      <td>0.000320</td>\n      <td>0.000535</td>\n      <td>0.000320</td>\n      <td>0.010596</td>\n      <td>0.004005</td>\n      <td>0.004065</td>\n      <td>0.317534</td>\n      <td>3674.920862</td>\n      <td>19.219836</td>\n      <td>0.001884</td>\n      <td>3674.920862</td>\n      <td>19.219836</td>\n      <td>0.001884</td>\n      <td>0.000411</td>\n      <td>0.001866</td>\n      <td>0.147144</td>\n      <td>0.464679</td>\n      <td>0.730947</td>\n    </tr>\n    <tr>\n      <th>8</th>\n      <td>GT5</td>\n      <td>1</td>\n      <td>2023-05-01</td>\n      <td>15:13:00</td>\n      <td>1013.4</td>\n      <td>1113.700000</td>\n      <td>1110.0</td>\n      <td>0.00</td>\n      <td>0.30</td>\n      <td>20.59</td>\n      <td>76.61</td>\n      <td>1.0</td>\n      <td>None</td>\n      <td>LM</td>\n      <td>785.51</td>\n      <td>2023-05-01 15:13:00</td>\n      <td>13.996528</td>\n      <td>97.50</td>\n      <td>0.000000</td>\n      <td>0.307692</td>\n      <td>21.117949</td>\n      <td>78.574359</td>\n      <td>100.0</td>\n      <td>0.043910</td>\n      <td>0.000135</td>\n      <td>0.000000</td>\n      <td>0.009273</td>\n      <td>0.034502</td>\n      <td>0.000135</td>\n      <td>0.043764</td>\n      <td>0.000135</td>\n      <td>0.000000</td>\n      <td>0.009242</td>\n      <td>0.034388</td>\n      <td>0.000135</td>\n      <td>NaN</td>\n      <td>NaN</td>\n      <td>NaN</td>\n      <td>NaN</td>\n      <td>NaN</td>\n      <td>NaN</td>\n      <td>NaN</td>\n      <td>342.676923</td>\n      <td>1.792200</td>\n      <td>0.000176</td>\n      <td>342.676923</td>\n      <td>1.792200</td>\n      <td>0.000176</td>\n      <td>-0.001708</td>\n      <td>0.000158</td>\n      <td>0.013721</td>\n      <td>NaN</td>\n      <td>NaN</td>\n    </tr>\n    <tr>\n      <th>9</th>\n      <td>GT5</td>\n      <td>1</td>\n      <td>2023-05-04</td>\n      <td>10:12:00</td>\n      <td>1017.6</td>\n      <td>1075.000000</td>\n      <td>1071.5</td>\n      <td>0.00</td>\n      <td>2.96</td>\n      <td>15.27</td>\n      <td>78.85</td>\n      <td>0.0</td>\n      <td>None</td>\n      <td>LM</td>\n      <td>NaN</td>\n      <td>2023-05-04 10:12:00</td>\n      <td>16.787500</td>\n      <td>97.08</td>\n      <td>0.000000</td>\n      <td>3.049032</td>\n      <td>15.729295</td>\n      <td>81.221673</td>\n      <td>100.0</td>\n      <td>0.042384</td>\n      <td>0.001292</td>\n      <td>0.000000</td>\n      <td>0.006667</td>\n      <td>0.034425</td>\n      <td>0.001292</td>\n      <td>0.042246</td>\n      <td>0.001288</td>\n      <td>0.000000</td>\n      <td>0.006645</td>\n      <td>0.034313</td>\n      <td>0.001288</td>\n      <td>0.001158</td>\n      <td>0.002575</td>\n      <td>0.001158</td>\n      <td>0.013172</td>\n      <td>0.005163</td>\n      <td>0.005222</td>\n      <td>0.407971</td>\n      <td>3277.709106</td>\n      <td>17.142419</td>\n      <td>0.001680</td>\n      <td>3277.709106</td>\n      <td>17.142419</td>\n      <td>0.001680</td>\n      <td>0.001504</td>\n      <td>0.001662</td>\n      <td>0.131240</td>\n      <td>0.539211</td>\n      <td>0.967464</td>\n    </tr>\n    <tr>\n      <th>10</th>\n      <td>GT5</td>\n      <td>1</td>\n      <td>2023-05-04</td>\n      <td>11:05:00</td>\n      <td>1017.1</td>\n      <td>1118.300000</td>\n      <td>1115.0</td>\n      <td>0.00</td>\n      <td>0.22</td>\n      <td>20.40</td>\n      <td>75.64</td>\n      <td>1.0</td>\n      <td>None</td>\n      <td>LM</td>\n      <td>785.41</td>\n      <td>2023-05-04 11:05:00</td>\n      <td>16.824306</td>\n      <td>96.26</td>\n      <td>0.000000</td>\n      <td>0.228548</td>\n      <td>21.192603</td>\n      <td>78.578849</td>\n      <td>100.0</td>\n      <td>0.044092</td>\n      <td>0.000101</td>\n      <td>0.000000</td>\n      <td>0.009344</td>\n      <td>0.034647</td>\n      <td>0.000101</td>\n      <td>0.043961</td>\n      <td>0.000100</td>\n      <td>0.000000</td>\n      <td>0.009317</td>\n      <td>0.034544</td>\n      <td>0.000100</td>\n      <td>NaN</td>\n      <td>NaN</td>\n      <td>NaN</td>\n      <td>NaN</td>\n      <td>NaN</td>\n      <td>NaN</td>\n      <td>NaN</td>\n      <td>255.584874</td>\n      <td>1.336709</td>\n      <td>0.000131</td>\n      <td>255.584874</td>\n      <td>1.336709</td>\n      <td>0.000131</td>\n      <td>-0.001549</td>\n      <td>0.000113</td>\n      <td>0.010234</td>\n      <td>NaN</td>\n      <td>NaN</td>\n    </tr>\n    <tr>\n      <th>11</th>\n      <td>GT5</td>\n      <td>1</td>\n      <td>2023-05-08</td>\n      <td>09:21:00</td>\n      <td>1018.7</td>\n      <td>1104.700000</td>\n      <td>1101.5</td>\n      <td>0.00</td>\n      <td>2.13</td>\n      <td>17.45</td>\n      <td>77.44</td>\n      <td>0.0</td>\n      <td>None</td>\n      <td>LM</td>\n      <td>NaN</td>\n      <td>2023-05-08 09:21:00</td>\n      <td>20.752083</td>\n      <td>97.02</td>\n      <td>0.000000</td>\n      <td>2.195424</td>\n      <td>17.985982</td>\n      <td>79.818594</td>\n      <td>100.0</td>\n      <td>0.043555</td>\n      <td>0.000956</td>\n      <td>0.000000</td>\n      <td>0.007834</td>\n      <td>0.034765</td>\n      <td>0.000956</td>\n      <td>0.043429</td>\n      <td>0.000953</td>\n      <td>0.000000</td>\n      <td>0.007811</td>\n      <td>0.034665</td>\n      <td>0.000953</td>\n      <td>0.000856</td>\n      <td>0.001483</td>\n      <td>0.000856</td>\n      <td>0.014654</td>\n      <td>0.006018</td>\n      <td>0.006078</td>\n      <td>0.474824</td>\n      <td>2425.284477</td>\n      <td>12.684238</td>\n      <td>0.001243</td>\n      <td>2425.284477</td>\n      <td>12.684238</td>\n      <td>0.001243</td>\n      <td>0.001112</td>\n      <td>0.001225</td>\n      <td>0.097109</td>\n      <td>0.571932</td>\n      <td>0.753487</td>\n    </tr>\n    <tr>\n      <th>12</th>\n      <td>GT5</td>\n      <td>1</td>\n      <td>2023-05-10</td>\n      <td>10:00:00</td>\n      <td>1007.7</td>\n      <td>1092.000000</td>\n      <td>1088.9</td>\n      <td>0.00</td>\n      <td>2.50</td>\n      <td>16.30</td>\n      <td>78.36</td>\n      <td>0.0</td>\n      <td>None</td>\n      <td>LM</td>\n      <td>NaN</td>\n      <td>2023-05-10 10:00:00</td>\n      <td>22.779167</td>\n      <td>97.16</td>\n      <td>0.000000</td>\n      <td>2.573075</td>\n      <td>16.776451</td>\n      <td>80.650473</td>\n      <td>100.0</td>\n      <td>0.043055</td>\n      <td>0.001108</td>\n      <td>0.000000</td>\n      <td>0.007223</td>\n      <td>0.034724</td>\n      <td>0.001108</td>\n      <td>0.042932</td>\n      <td>0.001105</td>\n      <td>0.000000</td>\n      <td>0.007203</td>\n      <td>0.034625</td>\n      <td>0.001105</td>\n      <td>0.000154</td>\n      <td>0.000588</td>\n      <td>0.000154</td>\n      <td>0.015243</td>\n      <td>0.006173</td>\n      <td>0.006232</td>\n      <td>0.486883</td>\n      <td>2809.798271</td>\n      <td>14.695245</td>\n      <td>0.001440</td>\n      <td>2809.798271</td>\n      <td>14.695245</td>\n      <td>0.001440</td>\n      <td>0.000197</td>\n      <td>0.001422</td>\n      <td>0.112505</td>\n      <td>0.599388</td>\n      <td>1.673421</td>\n    </tr>\n    <tr>\n      <th>13</th>\n      <td>GT5</td>\n      <td>1</td>\n      <td>2023-05-12</td>\n      <td>09:29:00</td>\n      <td>1014.7</td>\n      <td>1079.900000</td>\n      <td>1076.3</td>\n      <td>0.00</td>\n      <td>3.09</td>\n      <td>15.08</td>\n      <td>79.19</td>\n      <td>0.0</td>\n      <td>None</td>\n      <td>LM</td>\n      <td>NaN</td>\n      <td>2023-05-12 09:29:00</td>\n      <td>24.757639</td>\n      <td>97.36</td>\n      <td>0.000000</td>\n      <td>3.173788</td>\n      <td>15.488907</td>\n      <td>81.337305</td>\n      <td>100.0</td>\n      <td>0.042578</td>\n      <td>0.001351</td>\n      <td>0.000000</td>\n      <td>0.006595</td>\n      <td>0.034631</td>\n      <td>0.001351</td>\n      <td>0.042436</td>\n      <td>0.001347</td>\n      <td>0.000000</td>\n      <td>0.006573</td>\n      <td>0.034516</td>\n      <td>0.001347</td>\n      <td>0.000247</td>\n      <td>0.000608</td>\n      <td>0.000247</td>\n      <td>0.015850</td>\n      <td>0.006419</td>\n      <td>0.006479</td>\n      <td>0.506151</td>\n      <td>3427.373665</td>\n      <td>17.925164</td>\n      <td>0.001757</td>\n      <td>3427.373665</td>\n      <td>17.925164</td>\n      <td>0.001757</td>\n      <td>0.000317</td>\n      <td>0.001739</td>\n      <td>0.137233</td>\n      <td>0.643384</td>\n      <td>1.079132</td>\n    </tr>\n    <tr>\n      <th>14</th>\n      <td>GT5</td>\n      <td>1</td>\n      <td>2023-05-12</td>\n      <td>10:28:00</td>\n      <td>1015.0</td>\n      <td>1115.400000</td>\n      <td>1112.0</td>\n      <td>0.00</td>\n      <td>0.17</td>\n      <td>20.41</td>\n      <td>75.59</td>\n      <td>1.0</td>\n      <td>None</td>\n      <td>LM</td>\n      <td>785.37</td>\n      <td>2023-05-12 10:28:00</td>\n      <td>24.798611</td>\n      <td>96.17</td>\n      <td>0.000000</td>\n      <td>0.176770</td>\n      <td>21.222835</td>\n      <td>78.600395</td>\n      <td>100.0</td>\n      <td>0.043977</td>\n      <td>0.000078</td>\n      <td>0.000000</td>\n      <td>0.009333</td>\n      <td>0.034566</td>\n      <td>0.000078</td>\n      <td>0.043843</td>\n      <td>0.000078</td>\n      <td>0.000000</td>\n      <td>0.009305</td>\n      <td>0.034461</td>\n      <td>0.000078</td>\n      <td>NaN</td>\n      <td>NaN</td>\n      <td>NaN</td>\n      <td>NaN</td>\n      <td>NaN</td>\n      <td>NaN</td>\n      <td>NaN</td>\n      <td>197.169596</td>\n      <td>1.031197</td>\n      <td>0.000101</td>\n      <td>197.169596</td>\n      <td>1.031197</td>\n      <td>0.000101</td>\n      <td>-0.001656</td>\n      <td>0.000083</td>\n      <td>0.007895</td>\n      <td>NaN</td>\n      <td>NaN</td>\n    </tr>\n    <tr>\n      <th>15</th>\n      <td>GT5</td>\n      <td>1</td>\n      <td>2023-05-15</td>\n      <td>10:09:00</td>\n      <td>1012.8</td>\n      <td>1105.100000</td>\n      <td>1102.0</td>\n      <td>0.00</td>\n      <td>1.71</td>\n      <td>18.86</td>\n      <td>77.83</td>\n      <td>0.0</td>\n      <td>None</td>\n      <td>LM</td>\n      <td>NaN</td>\n      <td>2023-05-15 10:09:00</td>\n      <td>27.785417</td>\n      <td>98.40</td>\n      <td>0.000000</td>\n      <td>1.737805</td>\n      <td>19.166667</td>\n      <td>79.095528</td>\n      <td>100.0</td>\n      <td>0.043571</td>\n      <td>0.000757</td>\n      <td>0.000000</td>\n      <td>0.008351</td>\n      <td>0.034463</td>\n      <td>0.000757</td>\n      <td>0.043449</td>\n      <td>0.000755</td>\n      <td>0.000000</td>\n      <td>0.008328</td>\n      <td>0.034366</td>\n      <td>0.000755</td>\n      <td>0.000680</td>\n      <td>0.000954</td>\n      <td>0.000680</td>\n      <td>0.016804</td>\n      <td>0.007099</td>\n      <td>0.007159</td>\n      <td>0.559248</td>\n      <td>1920.448171</td>\n      <td>10.043944</td>\n      <td>0.000984</td>\n      <td>1920.448171</td>\n      <td>10.043944</td>\n      <td>0.000984</td>\n      <td>0.000883</td>\n      <td>0.000967</td>\n      <td>0.076895</td>\n      <td>0.636143</td>\n      <td>0.610157</td>\n    </tr>\n    <tr>\n      <th>16</th>\n      <td>GT5</td>\n      <td>1</td>\n      <td>2023-05-17</td>\n      <td>09:17:00</td>\n      <td>1025.3</td>\n      <td>1095.800000</td>\n      <td>1092.9</td>\n      <td>0.00</td>\n      <td>2.28</td>\n      <td>17.97</td>\n      <td>79.14</td>\n      <td>0.0</td>\n      <td>None</td>\n      <td>LM</td>\n      <td>NaN</td>\n      <td>2023-05-17 09:17:00</td>\n      <td>29.749306</td>\n      <td>99.39</td>\n      <td>0.000000</td>\n      <td>2.293993</td>\n      <td>18.080290</td>\n      <td>79.625717</td>\n      <td>100.0</td>\n      <td>0.043204</td>\n      <td>0.000991</td>\n      <td>0.000000</td>\n      <td>0.007811</td>\n      <td>0.034402</td>\n      <td>0.000991</td>\n      <td>0.043090</td>\n      <td>0.000988</td>\n      <td>0.000000</td>\n      <td>0.007791</td>\n      <td>0.034311</td>\n      <td>0.000988</td>\n      <td>0.000236</td>\n      <td>0.000516</td>\n      <td>0.000236</td>\n      <td>0.017320</td>\n      <td>0.007335</td>\n      <td>0.007395</td>\n      <td>0.577689</td>\n      <td>2513.757923</td>\n      <td>13.146954</td>\n      <td>0.001288</td>\n      <td>2513.757923</td>\n      <td>13.146954</td>\n      <td>0.001288</td>\n      <td>0.000304</td>\n      <td>0.001271</td>\n      <td>0.100651</td>\n      <td>0.678340</td>\n      <td>0.955699</td>\n    </tr>\n    <tr>\n      <th>17</th>\n      <td>GT5</td>\n      <td>1</td>\n      <td>2023-05-22</td>\n      <td>14:37:00</td>\n      <td>1013.4</td>\n      <td>1079.900000</td>\n      <td>1077.6</td>\n      <td>0.05</td>\n      <td>3.79</td>\n      <td>14.94</td>\n      <td>79.78</td>\n      <td>0.0</td>\n      <td>None</td>\n      <td>LM</td>\n      <td>NaN</td>\n      <td>2023-05-22 14:37:00</td>\n      <td>34.971528</td>\n      <td>98.56</td>\n      <td>0.050731</td>\n      <td>3.845373</td>\n      <td>15.158279</td>\n      <td>80.945617</td>\n      <td>100.0</td>\n      <td>0.042578</td>\n      <td>0.001637</td>\n      <td>0.000022</td>\n      <td>0.006454</td>\n      <td>0.034465</td>\n      <td>0.001659</td>\n      <td>0.042487</td>\n      <td>0.001634</td>\n      <td>0.000022</td>\n      <td>0.006440</td>\n      <td>0.034391</td>\n      <td>0.001655</td>\n      <td>0.000670</td>\n      <td>0.001337</td>\n      <td>0.000649</td>\n      <td>0.018657</td>\n      <td>0.007984</td>\n      <td>0.008065</td>\n      <td>0.630060</td>\n      <td>4152.618709</td>\n      <td>21.718196</td>\n      <td>0.002128</td>\n      <td>4152.618709</td>\n      <td>21.718196</td>\n      <td>0.002128</td>\n      <td>0.000840</td>\n      <td>0.002111</td>\n      <td>0.166272</td>\n      <td>0.796331</td>\n      <td>0.897921</td>\n    </tr>\n    <tr>\n      <th>18</th>\n      <td>GT5</td>\n      <td>1</td>\n      <td>2023-05-22</td>\n      <td>15:31:00</td>\n      <td>1013.5</td>\n      <td>1113.900000</td>\n      <td>1110.8</td>\n      <td>0.00</td>\n      <td>0.33</td>\n      <td>20.30</td>\n      <td>75.47</td>\n      <td>1.0</td>\n      <td>None</td>\n      <td>LM</td>\n      <td>785.27</td>\n      <td>2023-05-22 15:31:00</td>\n      <td>35.009028</td>\n      <td>96.10</td>\n      <td>0.000000</td>\n      <td>0.343392</td>\n      <td>21.123829</td>\n      <td>78.532778</td>\n      <td>100.0</td>\n      <td>0.043918</td>\n      <td>0.000151</td>\n      <td>0.000000</td>\n      <td>0.009277</td>\n      <td>0.034490</td>\n      <td>0.000151</td>\n      <td>0.043796</td>\n      <td>0.000150</td>\n      <td>0.000000</td>\n      <td>0.009251</td>\n      <td>0.034394</td>\n      <td>0.000150</td>\n      <td>NaN</td>\n      <td>NaN</td>\n      <td>NaN</td>\n      <td>NaN</td>\n      <td>NaN</td>\n      <td>NaN</td>\n      <td>NaN</td>\n      <td>382.504683</td>\n      <td>2.000499</td>\n      <td>0.000196</td>\n      <td>382.504683</td>\n      <td>2.000499</td>\n      <td>0.000196</td>\n      <td>-0.001932</td>\n      <td>0.000178</td>\n      <td>0.015316</td>\n      <td>NaN</td>\n      <td>NaN</td>\n    </tr>\n  </tbody>\n</table>\n</div>"
     },
     "metadata": {},
     "output_type": "display_data"
    }
   ],
   "source": [
    "sheet_tab_name = \"GT5.1\"\n",
    "\n",
    "\n",
    "dict_data_frames = manager.get_dict_panda_data_frames()\n",
    "display(dict_data_frames[sheet_tab_name])\n",
    "# Set the display options\n",
    "pd.set_option('display.max_rows', None)  # Display all rows\n",
    "pd.set_option('display.max_columns', None)  # Display all columns\n",
    "pd.set_option('display.width', None)  # Automatically adjust the column width to fit the contents"
   ],
   "metadata": {
    "collapsed": false,
    "ExecuteTime": {
     "end_time": "2023-06-27T10:21:39.098255Z",
     "start_time": "2023-06-27T10:21:39.049505300Z"
    }
   }
  },
  {
   "cell_type": "markdown",
   "source": [
    "# OVERWRITING the excel file. Did you made a copy before?"
   ],
   "metadata": {
    "collapsed": false
   }
  },
  {
   "cell_type": "code",
   "execution_count": 24,
   "outputs": [],
   "source": [
    "# for sheet_name in sheet_names_samples:\n",
    "#  # replace the table (overwrite) in the Excel file.\n",
    "#     data_frame = manager.get_dict_panda_data_frames()[sheet_name]\n",
    "#     manager.replace_table_in_specific_sheet_with_data_frame(excel_file_path=path_input_excel,\n",
    "#                                                             sheet_name=sheet_name,\n",
    "#                                                             start_row=13,\n",
    "#                                                             data_frame=data_frame,\n",
    "#                                                             header=False\n",
    "#                                                             )\n",
    "#     print(f\"replaced table in Excel for {sheet_name}\")"
   ],
   "metadata": {
    "collapsed": false,
    "ExecuteTime": {
     "end_time": "2023-06-27T10:21:39.140472400Z",
     "start_time": "2023-06-27T10:21:39.103380700Z"
    }
   }
  },
  {
   "cell_type": "markdown",
   "source": [
    "## Results"
   ],
   "metadata": {
    "collapsed": false
   }
  },
  {
   "cell_type": "code",
   "execution_count": 25,
   "outputs": [
    {
     "data": {
      "application/vnd.plotly.v1+json": {
       "data": [
        {
         "line": {
          "color": "green",
          "dash": "solid"
         },
         "mode": "lines",
         "name": "GT1.1 Cumulative Series",
         "x": [
          0.0,
          2.0,
          6.8180555555555555,
          8.756944444444445,
          10.79375,
          13.963888888888889,
          16.780555555555555,
          20.74861111111111,
          22.786805555555556,
          24.76875,
          27.783333333333335,
          29.756944444444443,
          34.97847222222222
         ],
         "y": [
          0.0,
          0.04751356616764886,
          0.07531247377571043,
          0.1279196971976888,
          0.2405030384331635,
          0.2929803897572621,
          0.43030402439163173,
          0.6346310041551407,
          0.755748803466483,
          0.8596862524238786,
          0.9774057873319802,
          1.055203847092021,
          1.2542811133760474
         ],
         "type": "scatter"
        },
        {
         "marker": {
          "color": "green"
         },
         "mode": "markers",
         "name": "GT1.1 Data Points",
         "x": [
          0.0,
          2.0,
          6.8180555555555555,
          8.756944444444445,
          10.79375,
          13.963888888888889,
          16.780555555555555,
          20.74861111111111,
          22.786805555555556,
          24.76875,
          27.783333333333335,
          29.756944444444443,
          34.97847222222222
         ],
         "y": [
          0.0,
          0.04751356616764886,
          0.07531247377571043,
          0.1279196971976888,
          0.2405030384331635,
          0.2929803897572621,
          0.43030402439163173,
          0.6346310041551407,
          0.755748803466483,
          0.8596862524238786,
          0.9774057873319802,
          1.055203847092021,
          1.2542811133760474
         ],
         "type": "scatter"
        },
        {
         "line": {
          "color": "green",
          "dash": "dot"
         },
         "mode": "lines",
         "name": "GT1.2 Cumulative Series",
         "x": [
          0.0,
          1.9902777777777778,
          6.805555555555555,
          8.745138888888889,
          10.78125,
          13.95138888888889,
          16.783333333333335,
          20.73611111111111,
          22.773611111111112,
          24.755555555555556,
          27.784027777777776,
          29.744444444444444,
          34.96597222222222
         ],
         "y": [
          0.0,
          0.016027350886936385,
          0.03170167192036989,
          0.06161440289781902,
          0.15511304343725524,
          0.19619444677693412,
          0.2918903297000633,
          0.4116862293306712,
          0.4761055666678884,
          0.5371411495398766,
          0.6417893169559681,
          0.7120038751003286,
          0.8635300891435213
         ],
         "type": "scatter"
        },
        {
         "marker": {
          "color": "green"
         },
         "mode": "markers",
         "name": "GT1.2 Data Points",
         "x": [
          0.0,
          1.9902777777777778,
          6.805555555555555,
          8.745138888888889,
          10.78125,
          13.95138888888889,
          16.783333333333335,
          20.73611111111111,
          22.773611111111112,
          24.755555555555556,
          27.784027777777776,
          29.744444444444444,
          34.96597222222222
         ],
         "y": [
          0.0,
          0.016027350886936385,
          0.03170167192036989,
          0.06161440289781902,
          0.15511304343725524,
          0.19619444677693412,
          0.2918903297000633,
          0.4116862293306712,
          0.4761055666678884,
          0.5371411495398766,
          0.6417893169559681,
          0.7120038751003286,
          0.8635300891435213
         ],
         "type": "scatter"
        },
        {
         "line": {
          "color": "orange",
          "dash": "solid"
         },
         "mode": "lines",
         "name": "GT2.1 Cumulative Series",
         "x": [
          0.0,
          1.9909722222222221,
          6.805555555555555,
          8.744444444444444,
          10.738888888888889,
          13.950694444444444,
          16.781944444444445,
          20.74375,
          22.772916666666667,
          24.754166666666666,
          27.783333333333335,
          29.743055555555557,
          34.96527777777778
         ],
         "y": [
          0.0,
          0.017697482777724618,
          0.03421029978723215,
          0.07196769268592869,
          0.14820295993835025,
          0.16815107640880872,
          0.23604619528727086,
          0.3277153692843696,
          0.38288220484705143,
          0.4385570027609818,
          0.5396283662433483,
          0.6100269926267836,
          0.7840262096480398
         ],
         "type": "scatter"
        },
        {
         "marker": {
          "color": "orange"
         },
         "mode": "markers",
         "name": "GT2.1 Data Points",
         "x": [
          0.0,
          1.9909722222222221,
          6.805555555555555,
          8.744444444444444,
          10.738888888888889,
          13.950694444444444,
          16.781944444444445,
          20.74375,
          22.772916666666667,
          24.754166666666666,
          27.783333333333335,
          29.743055555555557,
          34.96527777777778
         ],
         "y": [
          0.0,
          0.017697482777724618,
          0.03421029978723215,
          0.07196769268592869,
          0.14820295993835025,
          0.16815107640880872,
          0.23604619528727086,
          0.3277153692843696,
          0.38288220484705143,
          0.4385570027609818,
          0.5396283662433483,
          0.6100269926267836,
          0.7840262096480398
         ],
         "type": "scatter"
        },
        {
         "line": {
          "color": "orange",
          "dash": "dot"
         },
         "mode": "lines",
         "name": "GT2.2 Cumulative Series",
         "x": [
          0.0,
          1.992361111111111,
          6.811805555555556,
          8.744444444444444,
          10.780555555555555,
          13.95,
          16.781944444444445,
          20.74375,
          22.775,
          24.754166666666666,
          27.77638888888889,
          29.744444444444444,
          34.96458333333333
         ],
         "y": [
          0.0,
          0.027316018422838702,
          0.07603335239255866,
          0.10103239430479286,
          0.13204018568299408,
          0.17225263174008432,
          0.20491107857399166,
          0.24837998634025865,
          0.2678237593459569,
          0.2913946524446504,
          0.3310170694536565,
          0.3576682675986032,
          0.45345054025752923
         ],
         "type": "scatter"
        },
        {
         "marker": {
          "color": "orange"
         },
         "mode": "markers",
         "name": "GT2.2 Data Points",
         "x": [
          0.0,
          1.992361111111111,
          6.811805555555556,
          8.744444444444444,
          10.780555555555555,
          13.95,
          16.781944444444445,
          20.74375,
          22.775,
          24.754166666666666,
          27.77638888888889,
          29.744444444444444,
          34.96458333333333
         ],
         "y": [
          0.0,
          0.027316018422838702,
          0.07603335239255866,
          0.10103239430479286,
          0.13204018568299408,
          0.17225263174008432,
          0.20491107857399166,
          0.24837998634025865,
          0.2678237593459569,
          0.2913946524446504,
          0.3310170694536565,
          0.3576682675986032,
          0.45345054025752923
         ],
         "type": "scatter"
        },
        {
         "line": {
          "color": "purple",
          "dash": "solid"
         },
         "mode": "lines",
         "name": "GT3.1 Cumulative Series",
         "x": [
          0.0,
          2.0118055555555556,
          6.8125,
          8.745138888888889,
          10.78125,
          13.950694444444444,
          16.781944444444445,
          20.74375,
          22.775694444444444,
          24.75486111111111,
          27.78263888888889,
          29.744444444444444,
          34.96527777777778
         ],
         "y": [
          0.0,
          0.12440583335602175,
          0.2970348388731206,
          0.361348315832221,
          0.4130225024532185,
          0.42854102620281287,
          0.4853860735777723,
          0.5806492679489266,
          0.6237167532049571,
          0.663282012707695,
          0.7277585307417537,
          0.7663018905076368,
          0.887385743061015
         ],
         "type": "scatter"
        },
        {
         "marker": {
          "color": "purple"
         },
         "mode": "markers",
         "name": "GT3.1 Data Points",
         "x": [
          0.0,
          2.0118055555555556,
          6.8125,
          8.745138888888889,
          10.78125,
          13.950694444444444,
          16.781944444444445,
          20.74375,
          22.775694444444444,
          24.75486111111111,
          27.78263888888889,
          29.744444444444444,
          34.96527777777778
         ],
         "y": [
          0.0,
          0.12440583335602175,
          0.2970348388731206,
          0.361348315832221,
          0.4130225024532185,
          0.42854102620281287,
          0.4853860735777723,
          0.5806492679489266,
          0.6237167532049571,
          0.663282012707695,
          0.7277585307417537,
          0.7663018905076368,
          0.887385743061015
         ],
         "type": "scatter"
        },
        {
         "line": {
          "color": "purple",
          "dash": "dot"
         },
         "mode": "lines",
         "name": "GT3.2 Cumulative Series",
         "x": [
          0.0,
          2.0131944444444443,
          6.813194444444444,
          8.746527777777779,
          10.783333333333333,
          13.95138888888889,
          16.783333333333335,
          20.744444444444444,
          22.77638888888889,
          24.755555555555556,
          27.783333333333335,
          29.74513888888889,
          34.96597222222222
         ],
         "y": [
          0.0,
          0.08340326922830413,
          0.24954465085312635,
          0.3184723649463691,
          0.37425447573874077,
          0.38915444394804655,
          0.4530351093281298,
          0.5372839600639283,
          0.5842363986693069,
          0.6395915794862415,
          0.7527263112021677,
          0.8522316089795121,
          1.2583988429749131
         ],
         "type": "scatter"
        },
        {
         "marker": {
          "color": "purple"
         },
         "mode": "markers",
         "name": "GT3.2 Data Points",
         "x": [
          0.0,
          2.0131944444444443,
          6.813194444444444,
          8.746527777777779,
          10.783333333333333,
          13.95138888888889,
          16.783333333333335,
          20.744444444444444,
          22.77638888888889,
          24.755555555555556,
          27.783333333333335,
          29.74513888888889,
          34.96597222222222
         ],
         "y": [
          0.0,
          0.08340326922830413,
          0.24954465085312635,
          0.3184723649463691,
          0.37425447573874077,
          0.38915444394804655,
          0.4530351093281298,
          0.5372839600639283,
          0.5842363986693069,
          0.6395915794862415,
          0.7527263112021677,
          0.8522316089795121,
          1.2583988429749131
         ],
         "type": "scatter"
        },
        {
         "line": {
          "color": "cyan",
          "dash": "solid"
         },
         "mode": "lines",
         "name": "GT4.1 Cumulative Series",
         "x": [
          0.0,
          1.0222222222222221,
          5.81875,
          7.753472222222222,
          9.784722222222221,
          12.952777777777778,
          15.784027777777778,
          19.747916666666665,
          21.777083333333334,
          23.756944444444443,
          26.78472222222222,
          28.747916666666665,
          33.96944444444444
         ],
         "y": [
          0.0,
          0.2799391743092849,
          0.5832781777159705,
          0.7008011119422013,
          0.7916094707967563,
          0.8226040069463356,
          0.9965429344520165,
          1.254990428155502,
          1.3753543634817302,
          1.4481410698504782,
          1.5265979372474796,
          1.5803291172388896,
          1.6776626229491256
         ],
         "type": "scatter"
        },
        {
         "marker": {
          "color": "cyan"
         },
         "mode": "markers",
         "name": "GT4.1 Data Points",
         "x": [
          0.0,
          1.0222222222222221,
          5.81875,
          7.753472222222222,
          9.784722222222221,
          12.952777777777778,
          15.784027777777778,
          19.747916666666665,
          21.777083333333334,
          23.756944444444443,
          26.78472222222222,
          28.747916666666665,
          33.96944444444444
         ],
         "y": [
          0.0,
          0.2799391743092849,
          0.5832781777159705,
          0.7008011119422013,
          0.7916094707967563,
          0.8226040069463356,
          0.9965429344520165,
          1.254990428155502,
          1.3753543634817302,
          1.4481410698504782,
          1.5265979372474796,
          1.5803291172388896,
          1.6776626229491256
         ],
         "type": "scatter"
        },
        {
         "line": {
          "color": "cyan",
          "dash": "dot"
         },
         "mode": "lines",
         "name": "GT4.2 Cumulative Series",
         "x": [
          0.0,
          1.0243055555555556,
          5.820138888888889,
          7.754166666666666,
          9.785416666666666,
          12.954166666666667,
          15.78888888888889,
          19.75347222222222,
          21.779166666666665,
          23.758333333333333,
          26.78611111111111,
          28.74861111111111,
          33.96875
         ],
         "y": [
          0.0,
          0.27261107269455814,
          0.559558806984984,
          0.6734839734146908,
          0.7605959244264879,
          0.7917481849527095,
          0.9721384703642957,
          1.2354899730953017,
          1.3555887486551192,
          1.4251264456636494,
          1.500736177288511,
          1.5525500317386092,
          1.624346225617279
         ],
         "type": "scatter"
        },
        {
         "marker": {
          "color": "cyan"
         },
         "mode": "markers",
         "name": "GT4.2 Data Points",
         "x": [
          0.0,
          1.0243055555555556,
          5.820138888888889,
          7.754166666666666,
          9.785416666666666,
          12.954166666666667,
          15.78888888888889,
          19.75347222222222,
          21.779166666666665,
          23.758333333333333,
          26.78611111111111,
          28.74861111111111,
          33.96875
         ],
         "y": [
          0.0,
          0.27261107269455814,
          0.559558806984984,
          0.6734839734146908,
          0.7605959244264879,
          0.7917481849527095,
          0.9721384703642957,
          1.2354899730953017,
          1.3555887486551192,
          1.4251264456636494,
          1.500736177288511,
          1.5525500317386092,
          1.624346225617279
         ],
         "type": "scatter"
        },
        {
         "line": {
          "color": "magenta",
          "dash": "solid"
         },
         "mode": "lines",
         "name": "GT5.1 Cumulative Series",
         "x": [
          0.0,
          2.0131944444444443,
          6.820138888888889,
          8.754166666666666,
          10.789583333333333,
          13.95625,
          16.7875,
          20.752083333333335,
          22.779166666666665,
          24.757638888888888,
          27.785416666666666,
          29.749305555555555,
          34.97152777777778
         ],
         "y": [
          0.0,
          0.11248585200790066,
          0.21601115228704973,
          0.2618262551203714,
          0.2925356372039634,
          0.31753422708079276,
          0.4079713342900811,
          0.47482356725855407,
          0.4868833799497962,
          0.5061510294077219,
          0.5592483124219542,
          0.5776888005969798,
          0.63005972304894
         ],
         "type": "scatter"
        },
        {
         "marker": {
          "color": "magenta"
         },
         "mode": "markers",
         "name": "GT5.1 Data Points",
         "x": [
          0.0,
          2.0131944444444443,
          6.820138888888889,
          8.754166666666666,
          10.789583333333333,
          13.95625,
          16.7875,
          20.752083333333335,
          22.779166666666665,
          24.757638888888888,
          27.785416666666666,
          29.749305555555555,
          34.97152777777778
         ],
         "y": [
          0.0,
          0.11248585200790066,
          0.21601115228704973,
          0.2618262551203714,
          0.2925356372039634,
          0.31753422708079276,
          0.4079713342900811,
          0.47482356725855407,
          0.4868833799497962,
          0.5061510294077219,
          0.5592483124219542,
          0.5776888005969798,
          0.63005972304894
         ],
         "type": "scatter"
        },
        {
         "line": {
          "color": "magenta",
          "dash": "dot"
         },
         "mode": "lines",
         "name": "GT5.2 Cumulative Series",
         "x": [
          0.0,
          2.0145833333333334,
          6.821527777777778,
          8.755555555555556,
          10.790277777777778,
          13.956944444444444,
          16.788888888888888,
          20.752083333333335,
          22.78263888888889,
          24.763194444444444,
          27.790277777777778,
          29.75,
          34.97291666666667
         ],
         "y": [
          0.0,
          0.10299379340225137,
          0.18886399366396095,
          0.2326480821012212,
          0.25509782709715273,
          0.2421760168025609,
          0.2722846378263166,
          0.3386283456193981,
          0.36011346159445895,
          0.40630599484752616,
          0.44486974763968307,
          0.4892990863711305,
          0.5618099490450795
         ],
         "type": "scatter"
        },
        {
         "marker": {
          "color": "magenta"
         },
         "mode": "markers",
         "name": "GT5.2 Data Points",
         "x": [
          0.0,
          2.0145833333333334,
          6.821527777777778,
          8.755555555555556,
          10.790277777777778,
          13.956944444444444,
          16.788888888888888,
          20.752083333333335,
          22.78263888888889,
          24.763194444444444,
          27.790277777777778,
          29.75,
          34.97291666666667
         ],
         "y": [
          0.0,
          0.10299379340225137,
          0.18886399366396095,
          0.2326480821012212,
          0.25509782709715273,
          0.2421760168025609,
          0.2722846378263166,
          0.3386283456193981,
          0.36011346159445895,
          0.40630599484752616,
          0.44486974763968307,
          0.4892990863711305,
          0.5618099490450795
         ],
         "type": "scatter"
        },
        {
         "line": {
          "color": "lime",
          "dash": "solid"
         },
         "mode": "lines",
         "name": "GT6.1 Cumulative Series",
         "x": [
          0.0,
          1.0229166666666667,
          5.823611111111111,
          7.760416666666667,
          9.790972222222223,
          12.957638888888889,
          15.789583333333333,
          19.752777777777776,
          21.783333333333335,
          23.76388888888889,
          26.790277777777778,
          28.749305555555555,
          33.97222222222222
         ],
         "y": [
          0.0,
          0.07965718461225577,
          0.17008550957928661,
          0.3456268261017885,
          0.5413348634675669,
          0.49620456444381655,
          0.6219411841581519,
          0.7709497084473799,
          0.8487044536750074,
          0.9121294313728285,
          0.9991840957133422,
          1.0533527363119504,
          1.183801272592078
         ],
         "type": "scatter"
        },
        {
         "marker": {
          "color": "lime"
         },
         "mode": "markers",
         "name": "GT6.1 Data Points",
         "x": [
          0.0,
          1.0229166666666667,
          5.823611111111111,
          7.760416666666667,
          9.790972222222223,
          12.957638888888889,
          15.789583333333333,
          19.752777777777776,
          21.783333333333335,
          23.76388888888889,
          26.790277777777778,
          28.749305555555555,
          33.97222222222222
         ],
         "y": [
          0.0,
          0.07965718461225577,
          0.17008550957928661,
          0.3456268261017885,
          0.5413348634675669,
          0.49620456444381655,
          0.6219411841581519,
          0.7709497084473799,
          0.8487044536750074,
          0.9121294313728285,
          0.9991840957133422,
          1.0533527363119504,
          1.183801272592078
         ],
         "type": "scatter"
        },
        {
         "line": {
          "color": "lime",
          "dash": "dot"
         },
         "mode": "lines",
         "name": "GT6.2 Cumulative Series",
         "x": [
          0.0,
          1.0256944444444445,
          5.825,
          7.761805555555555,
          9.79375,
          12.959722222222222,
          15.790972222222223,
          19.75486111111111,
          21.788888888888888,
          23.76527777777778,
          26.791666666666668,
          28.75625,
          33.975
         ],
         "y": [
          0.0,
          0.12182464424499001,
          0.3902586776875465,
          0.5139640389939646,
          0.6050150798836824,
          0.6418907547367371,
          0.7608514357039795,
          0.9260625989761905,
          1.0177849185147858,
          1.1010357023529074,
          1.2230607781983067,
          1.3058467470257344,
          1.5183355362467839
         ],
         "type": "scatter"
        },
        {
         "marker": {
          "color": "lime"
         },
         "mode": "markers",
         "name": "GT6.2 Data Points",
         "x": [
          0.0,
          1.0256944444444445,
          5.825,
          7.761805555555555,
          9.79375,
          12.959722222222222,
          15.790972222222223,
          19.75486111111111,
          21.788888888888888,
          23.76527777777778,
          26.791666666666668,
          28.75625,
          33.975
         ],
         "y": [
          0.0,
          0.12182464424499001,
          0.3902586776875465,
          0.5139640389939646,
          0.6050150798836824,
          0.6418907547367371,
          0.7608514357039795,
          0.9260625989761905,
          1.0177849185147858,
          1.1010357023529074,
          1.2230607781983067,
          1.3058467470257344,
          1.5183355362467839
         ],
         "type": "scatter"
        },
        {
         "line": {
          "color": "gold",
          "dash": "solid"
         },
         "mode": "lines",
         "name": "GT7.1 Cumulative Series",
         "x": [
          0.0,
          2.0145833333333334,
          6.854166666666667,
          8.763194444444444,
          10.79513888888889,
          13.960416666666667,
          16.792361111111113,
          20.75625,
          22.789583333333333,
          24.766666666666666,
          27.793055555555554,
          29.75625,
          34.97847222222222
         ],
         "y": [
          0.0,
          0.04789998799781799,
          0.08237115066421627,
          0.11835579539310888,
          0.14632077354417938,
          0.261803097122637,
          0.4662284556425536,
          0.6152878294703957,
          0.6761154699786699,
          0.7248134876246257,
          0.7683506971152128,
          0.8099468296648603,
          0.8730873621997655
         ],
         "type": "scatter"
        },
        {
         "marker": {
          "color": "gold"
         },
         "mode": "markers",
         "name": "GT7.1 Data Points",
         "x": [
          0.0,
          2.0145833333333334,
          6.854166666666667,
          8.763194444444444,
          10.79513888888889,
          13.960416666666667,
          16.792361111111113,
          20.75625,
          22.789583333333333,
          24.766666666666666,
          27.793055555555554,
          29.75625,
          34.97847222222222
         ],
         "y": [
          0.0,
          0.04789998799781799,
          0.08237115066421627,
          0.11835579539310888,
          0.14632077354417938,
          0.261803097122637,
          0.4662284556425536,
          0.6152878294703957,
          0.6761154699786699,
          0.7248134876246257,
          0.7683506971152128,
          0.8099468296648603,
          0.8730873621997655
         ],
         "type": "scatter"
        },
        {
         "line": {
          "color": "gold",
          "dash": "dot"
         },
         "mode": "lines",
         "name": "GT7.2 Cumulative Series",
         "x": [
          0.0,
          1.0256944444444445,
          5.854166666666667,
          7.763888888888889,
          9.79513888888889,
          12.963888888888889,
          15.795833333333333,
          19.75625,
          21.790277777777778,
          23.76597222222222,
          26.79375,
          28.760416666666668,
          33.97847222222222
         ],
         "y": [
          0.0,
          0.15046800509488223,
          0.3023771848064685,
          0.3718940977392621,
          0.4268899476134545,
          0.5341081473711217,
          0.676058127164811,
          0.8909204110215084,
          1.0048965846706643,
          1.1033156947503264,
          1.2114703150115211,
          1.2756810728277284,
          1.4122988718432892
         ],
         "type": "scatter"
        },
        {
         "marker": {
          "color": "gold"
         },
         "mode": "markers",
         "name": "GT7.2 Data Points",
         "x": [
          0.0,
          1.0256944444444445,
          5.854166666666667,
          7.763888888888889,
          9.79513888888889,
          12.963888888888889,
          15.795833333333333,
          19.75625,
          21.790277777777778,
          23.76597222222222,
          26.79375,
          28.760416666666668,
          33.97847222222222
         ],
         "y": [
          0.0,
          0.15046800509488223,
          0.3023771848064685,
          0.3718940977392621,
          0.4268899476134545,
          0.5341081473711217,
          0.676058127164811,
          0.8909204110215084,
          1.0048965846706643,
          1.1033156947503264,
          1.2114703150115211,
          1.2756810728277284,
          1.4122988718432892
         ],
         "type": "scatter"
        },
        {
         "line": {
          "color": "blue",
          "dash": "solid"
         },
         "mode": "lines",
         "name": "GT8.1 Cumulative Series",
         "x": [
          0.0,
          1.0277777777777777,
          5.855555555555555,
          7.7652777777777775,
          12.965277777777779,
          15.797222222222222,
          19.761805555555554,
          21.790972222222223,
          23.76736111111111,
          26.79513888888889,
          28.761805555555554,
          33.97986111111111
         ],
         "y": [
          0.0,
          0.17256680274062172,
          0.3641423696687381,
          0.4715321700665902,
          0.663054372921951,
          0.7852470764434536,
          0.9018311725604484,
          0.9777554461132236,
          1.0255761495302067,
          1.0666996292117918,
          1.1259861562710434,
          1.2588947697438992
         ],
         "type": "scatter"
        },
        {
         "marker": {
          "color": "blue"
         },
         "mode": "markers",
         "name": "GT8.1 Data Points",
         "x": [
          0.0,
          1.0277777777777777,
          5.855555555555555,
          7.7652777777777775,
          12.965277777777779,
          15.797222222222222,
          19.761805555555554,
          21.790972222222223,
          23.76736111111111,
          26.79513888888889,
          28.761805555555554,
          33.97986111111111
         ],
         "y": [
          0.0,
          0.17256680274062172,
          0.3641423696687381,
          0.4715321700665902,
          0.663054372921951,
          0.7852470764434536,
          0.9018311725604484,
          0.9777554461132236,
          1.0255761495302067,
          1.0666996292117918,
          1.1259861562710434,
          1.2588947697438992
         ],
         "type": "scatter"
        },
        {
         "line": {
          "color": "blue",
          "dash": "dot"
         },
         "mode": "lines",
         "name": "GT8.2 Cumulative Series",
         "x": [
          0.0,
          1.0284722222222222,
          5.855555555555555,
          7.7652777777777775,
          12.965277777777779,
          15.797222222222222,
          19.761111111111113,
          21.791666666666668,
          23.768055555555556,
          26.79513888888889,
          28.76597222222222,
          33.980555555555554
         ],
         "y": [
          0.0,
          0.15461841330209175,
          0.41620143517997127,
          0.5613638770627412,
          0.7828317970623292,
          0.8956887078971596,
          1.012170598500536,
          1.0789713712394617,
          1.1221503190412443,
          1.170344029071555,
          1.2265166588105114,
          1.3038981657021456
         ],
         "type": "scatter"
        },
        {
         "marker": {
          "color": "blue"
         },
         "mode": "markers",
         "name": "GT8.2 Data Points",
         "x": [
          0.0,
          1.0284722222222222,
          5.855555555555555,
          7.7652777777777775,
          12.965277777777779,
          15.797222222222222,
          19.761111111111113,
          21.791666666666668,
          23.768055555555556,
          26.79513888888889,
          28.76597222222222,
          33.980555555555554
         ],
         "y": [
          0.0,
          0.15461841330209175,
          0.41620143517997127,
          0.5613638770627412,
          0.7828317970623292,
          0.8956887078971596,
          1.012170598500536,
          1.0789713712394617,
          1.1221503190412443,
          1.170344029071555,
          1.2265166588105114,
          1.3038981657021456
         ],
         "type": "scatter"
        }
       ],
       "layout": {
        "template": {
         "data": {
          "histogram2dcontour": [
           {
            "type": "histogram2dcontour",
            "colorbar": {
             "outlinewidth": 0,
             "ticks": ""
            },
            "colorscale": [
             [
              0.0,
              "#0d0887"
             ],
             [
              0.1111111111111111,
              "#46039f"
             ],
             [
              0.2222222222222222,
              "#7201a8"
             ],
             [
              0.3333333333333333,
              "#9c179e"
             ],
             [
              0.4444444444444444,
              "#bd3786"
             ],
             [
              0.5555555555555556,
              "#d8576b"
             ],
             [
              0.6666666666666666,
              "#ed7953"
             ],
             [
              0.7777777777777778,
              "#fb9f3a"
             ],
             [
              0.8888888888888888,
              "#fdca26"
             ],
             [
              1.0,
              "#f0f921"
             ]
            ]
           }
          ],
          "choropleth": [
           {
            "type": "choropleth",
            "colorbar": {
             "outlinewidth": 0,
             "ticks": ""
            }
           }
          ],
          "histogram2d": [
           {
            "type": "histogram2d",
            "colorbar": {
             "outlinewidth": 0,
             "ticks": ""
            },
            "colorscale": [
             [
              0.0,
              "#0d0887"
             ],
             [
              0.1111111111111111,
              "#46039f"
             ],
             [
              0.2222222222222222,
              "#7201a8"
             ],
             [
              0.3333333333333333,
              "#9c179e"
             ],
             [
              0.4444444444444444,
              "#bd3786"
             ],
             [
              0.5555555555555556,
              "#d8576b"
             ],
             [
              0.6666666666666666,
              "#ed7953"
             ],
             [
              0.7777777777777778,
              "#fb9f3a"
             ],
             [
              0.8888888888888888,
              "#fdca26"
             ],
             [
              1.0,
              "#f0f921"
             ]
            ]
           }
          ],
          "heatmap": [
           {
            "type": "heatmap",
            "colorbar": {
             "outlinewidth": 0,
             "ticks": ""
            },
            "colorscale": [
             [
              0.0,
              "#0d0887"
             ],
             [
              0.1111111111111111,
              "#46039f"
             ],
             [
              0.2222222222222222,
              "#7201a8"
             ],
             [
              0.3333333333333333,
              "#9c179e"
             ],
             [
              0.4444444444444444,
              "#bd3786"
             ],
             [
              0.5555555555555556,
              "#d8576b"
             ],
             [
              0.6666666666666666,
              "#ed7953"
             ],
             [
              0.7777777777777778,
              "#fb9f3a"
             ],
             [
              0.8888888888888888,
              "#fdca26"
             ],
             [
              1.0,
              "#f0f921"
             ]
            ]
           }
          ],
          "heatmapgl": [
           {
            "type": "heatmapgl",
            "colorbar": {
             "outlinewidth": 0,
             "ticks": ""
            },
            "colorscale": [
             [
              0.0,
              "#0d0887"
             ],
             [
              0.1111111111111111,
              "#46039f"
             ],
             [
              0.2222222222222222,
              "#7201a8"
             ],
             [
              0.3333333333333333,
              "#9c179e"
             ],
             [
              0.4444444444444444,
              "#bd3786"
             ],
             [
              0.5555555555555556,
              "#d8576b"
             ],
             [
              0.6666666666666666,
              "#ed7953"
             ],
             [
              0.7777777777777778,
              "#fb9f3a"
             ],
             [
              0.8888888888888888,
              "#fdca26"
             ],
             [
              1.0,
              "#f0f921"
             ]
            ]
           }
          ],
          "contourcarpet": [
           {
            "type": "contourcarpet",
            "colorbar": {
             "outlinewidth": 0,
             "ticks": ""
            }
           }
          ],
          "contour": [
           {
            "type": "contour",
            "colorbar": {
             "outlinewidth": 0,
             "ticks": ""
            },
            "colorscale": [
             [
              0.0,
              "#0d0887"
             ],
             [
              0.1111111111111111,
              "#46039f"
             ],
             [
              0.2222222222222222,
              "#7201a8"
             ],
             [
              0.3333333333333333,
              "#9c179e"
             ],
             [
              0.4444444444444444,
              "#bd3786"
             ],
             [
              0.5555555555555556,
              "#d8576b"
             ],
             [
              0.6666666666666666,
              "#ed7953"
             ],
             [
              0.7777777777777778,
              "#fb9f3a"
             ],
             [
              0.8888888888888888,
              "#fdca26"
             ],
             [
              1.0,
              "#f0f921"
             ]
            ]
           }
          ],
          "surface": [
           {
            "type": "surface",
            "colorbar": {
             "outlinewidth": 0,
             "ticks": ""
            },
            "colorscale": [
             [
              0.0,
              "#0d0887"
             ],
             [
              0.1111111111111111,
              "#46039f"
             ],
             [
              0.2222222222222222,
              "#7201a8"
             ],
             [
              0.3333333333333333,
              "#9c179e"
             ],
             [
              0.4444444444444444,
              "#bd3786"
             ],
             [
              0.5555555555555556,
              "#d8576b"
             ],
             [
              0.6666666666666666,
              "#ed7953"
             ],
             [
              0.7777777777777778,
              "#fb9f3a"
             ],
             [
              0.8888888888888888,
              "#fdca26"
             ],
             [
              1.0,
              "#f0f921"
             ]
            ]
           }
          ],
          "mesh3d": [
           {
            "type": "mesh3d",
            "colorbar": {
             "outlinewidth": 0,
             "ticks": ""
            }
           }
          ],
          "scatter": [
           {
            "marker": {
             "line": {
              "color": "#283442"
             }
            },
            "type": "scatter"
           }
          ],
          "parcoords": [
           {
            "type": "parcoords",
            "line": {
             "colorbar": {
              "outlinewidth": 0,
              "ticks": ""
             }
            }
           }
          ],
          "scatterpolargl": [
           {
            "type": "scatterpolargl",
            "marker": {
             "colorbar": {
              "outlinewidth": 0,
              "ticks": ""
             }
            }
           }
          ],
          "bar": [
           {
            "error_x": {
             "color": "#f2f5fa"
            },
            "error_y": {
             "color": "#f2f5fa"
            },
            "marker": {
             "line": {
              "color": "rgb(17,17,17)",
              "width": 0.5
             },
             "pattern": {
              "fillmode": "overlay",
              "size": 10,
              "solidity": 0.2
             }
            },
            "type": "bar"
           }
          ],
          "scattergeo": [
           {
            "type": "scattergeo",
            "marker": {
             "colorbar": {
              "outlinewidth": 0,
              "ticks": ""
             }
            }
           }
          ],
          "scatterpolar": [
           {
            "type": "scatterpolar",
            "marker": {
             "colorbar": {
              "outlinewidth": 0,
              "ticks": ""
             }
            }
           }
          ],
          "histogram": [
           {
            "marker": {
             "pattern": {
              "fillmode": "overlay",
              "size": 10,
              "solidity": 0.2
             }
            },
            "type": "histogram"
           }
          ],
          "scattergl": [
           {
            "marker": {
             "line": {
              "color": "#283442"
             }
            },
            "type": "scattergl"
           }
          ],
          "scatter3d": [
           {
            "type": "scatter3d",
            "line": {
             "colorbar": {
              "outlinewidth": 0,
              "ticks": ""
             }
            },
            "marker": {
             "colorbar": {
              "outlinewidth": 0,
              "ticks": ""
             }
            }
           }
          ],
          "scattermapbox": [
           {
            "type": "scattermapbox",
            "marker": {
             "colorbar": {
              "outlinewidth": 0,
              "ticks": ""
             }
            }
           }
          ],
          "scatterternary": [
           {
            "type": "scatterternary",
            "marker": {
             "colorbar": {
              "outlinewidth": 0,
              "ticks": ""
             }
            }
           }
          ],
          "scattercarpet": [
           {
            "type": "scattercarpet",
            "marker": {
             "colorbar": {
              "outlinewidth": 0,
              "ticks": ""
             }
            }
           }
          ],
          "carpet": [
           {
            "aaxis": {
             "endlinecolor": "#A2B1C6",
             "gridcolor": "#506784",
             "linecolor": "#506784",
             "minorgridcolor": "#506784",
             "startlinecolor": "#A2B1C6"
            },
            "baxis": {
             "endlinecolor": "#A2B1C6",
             "gridcolor": "#506784",
             "linecolor": "#506784",
             "minorgridcolor": "#506784",
             "startlinecolor": "#A2B1C6"
            },
            "type": "carpet"
           }
          ],
          "table": [
           {
            "cells": {
             "fill": {
              "color": "#506784"
             },
             "line": {
              "color": "rgb(17,17,17)"
             }
            },
            "header": {
             "fill": {
              "color": "#2a3f5f"
             },
             "line": {
              "color": "rgb(17,17,17)"
             }
            },
            "type": "table"
           }
          ],
          "barpolar": [
           {
            "marker": {
             "line": {
              "color": "rgb(17,17,17)",
              "width": 0.5
             },
             "pattern": {
              "fillmode": "overlay",
              "size": 10,
              "solidity": 0.2
             }
            },
            "type": "barpolar"
           }
          ],
          "pie": [
           {
            "automargin": true,
            "type": "pie"
           }
          ]
         },
         "layout": {
          "autotypenumbers": "strict",
          "colorway": [
           "#636efa",
           "#EF553B",
           "#00cc96",
           "#ab63fa",
           "#FFA15A",
           "#19d3f3",
           "#FF6692",
           "#B6E880",
           "#FF97FF",
           "#FECB52"
          ],
          "font": {
           "color": "#f2f5fa"
          },
          "hovermode": "closest",
          "hoverlabel": {
           "align": "left"
          },
          "paper_bgcolor": "rgb(17,17,17)",
          "plot_bgcolor": "rgb(17,17,17)",
          "polar": {
           "bgcolor": "rgb(17,17,17)",
           "angularaxis": {
            "gridcolor": "#506784",
            "linecolor": "#506784",
            "ticks": ""
           },
           "radialaxis": {
            "gridcolor": "#506784",
            "linecolor": "#506784",
            "ticks": ""
           }
          },
          "ternary": {
           "bgcolor": "rgb(17,17,17)",
           "aaxis": {
            "gridcolor": "#506784",
            "linecolor": "#506784",
            "ticks": ""
           },
           "baxis": {
            "gridcolor": "#506784",
            "linecolor": "#506784",
            "ticks": ""
           },
           "caxis": {
            "gridcolor": "#506784",
            "linecolor": "#506784",
            "ticks": ""
           }
          },
          "coloraxis": {
           "colorbar": {
            "outlinewidth": 0,
            "ticks": ""
           }
          },
          "colorscale": {
           "sequential": [
            [
             0.0,
             "#0d0887"
            ],
            [
             0.1111111111111111,
             "#46039f"
            ],
            [
             0.2222222222222222,
             "#7201a8"
            ],
            [
             0.3333333333333333,
             "#9c179e"
            ],
            [
             0.4444444444444444,
             "#bd3786"
            ],
            [
             0.5555555555555556,
             "#d8576b"
            ],
            [
             0.6666666666666666,
             "#ed7953"
            ],
            [
             0.7777777777777778,
             "#fb9f3a"
            ],
            [
             0.8888888888888888,
             "#fdca26"
            ],
            [
             1.0,
             "#f0f921"
            ]
           ],
           "sequentialminus": [
            [
             0.0,
             "#0d0887"
            ],
            [
             0.1111111111111111,
             "#46039f"
            ],
            [
             0.2222222222222222,
             "#7201a8"
            ],
            [
             0.3333333333333333,
             "#9c179e"
            ],
            [
             0.4444444444444444,
             "#bd3786"
            ],
            [
             0.5555555555555556,
             "#d8576b"
            ],
            [
             0.6666666666666666,
             "#ed7953"
            ],
            [
             0.7777777777777778,
             "#fb9f3a"
            ],
            [
             0.8888888888888888,
             "#fdca26"
            ],
            [
             1.0,
             "#f0f921"
            ]
           ],
           "diverging": [
            [
             0,
             "#8e0152"
            ],
            [
             0.1,
             "#c51b7d"
            ],
            [
             0.2,
             "#de77ae"
            ],
            [
             0.3,
             "#f1b6da"
            ],
            [
             0.4,
             "#fde0ef"
            ],
            [
             0.5,
             "#f7f7f7"
            ],
            [
             0.6,
             "#e6f5d0"
            ],
            [
             0.7,
             "#b8e186"
            ],
            [
             0.8,
             "#7fbc41"
            ],
            [
             0.9,
             "#4d9221"
            ],
            [
             1,
             "#276419"
            ]
           ]
          },
          "xaxis": {
           "gridcolor": "#283442",
           "linecolor": "#506784",
           "ticks": "",
           "title": {
            "standoff": 15
           },
           "zerolinecolor": "#283442",
           "automargin": true,
           "zerolinewidth": 2
          },
          "yaxis": {
           "gridcolor": "#283442",
           "linecolor": "#506784",
           "ticks": "",
           "title": {
            "standoff": 15
           },
           "zerolinecolor": "#283442",
           "automargin": true,
           "zerolinewidth": 2
          },
          "scene": {
           "xaxis": {
            "backgroundcolor": "rgb(17,17,17)",
            "gridcolor": "#506784",
            "linecolor": "#506784",
            "showbackground": true,
            "ticks": "",
            "zerolinecolor": "#C8D4E3",
            "gridwidth": 2
           },
           "yaxis": {
            "backgroundcolor": "rgb(17,17,17)",
            "gridcolor": "#506784",
            "linecolor": "#506784",
            "showbackground": true,
            "ticks": "",
            "zerolinecolor": "#C8D4E3",
            "gridwidth": 2
           },
           "zaxis": {
            "backgroundcolor": "rgb(17,17,17)",
            "gridcolor": "#506784",
            "linecolor": "#506784",
            "showbackground": true,
            "ticks": "",
            "zerolinecolor": "#C8D4E3",
            "gridwidth": 2
           }
          },
          "shapedefaults": {
           "line": {
            "color": "#f2f5fa"
           }
          },
          "annotationdefaults": {
           "arrowcolor": "#f2f5fa",
           "arrowhead": 0,
           "arrowwidth": 1
          },
          "geo": {
           "bgcolor": "rgb(17,17,17)",
           "landcolor": "rgb(17,17,17)",
           "subunitcolor": "#506784",
           "showland": true,
           "showlakes": true,
           "lakecolor": "rgb(17,17,17)"
          },
          "title": {
           "x": 0.05
          },
          "updatemenudefaults": {
           "bgcolor": "#506784",
           "borderwidth": 0
          },
          "sliderdefaults": {
           "bgcolor": "#C8D4E3",
           "borderwidth": 1,
           "bordercolor": "rgb(17,17,17)",
           "tickwidth": 0
          },
          "mapbox": {
           "style": "dark"
          }
         }
        },
        "width": 1200,
        "height": 800,
        "legend": {
         "x": 1.05,
         "y": 1,
         "orientation": "v"
        },
        "title": {
         "text": "Cgas_DM_cum"
        },
        "xaxis": {
         "title": {
          "text": "Day"
         }
        },
        "yaxis": {
         "title": {
          "text": "Ctot_DM [mg C/gDW]"
         }
        },
        "showlegend": true,
        "plot_bgcolor": "grey"
       },
       "config": {
        "plotlyServerURL": "https://plot.ly"
       }
      },
      "text/html": "<div>                            <div id=\"63750633-ee92-4eac-b410-97de826871a8\" class=\"plotly-graph-div\" style=\"height:800px; width:1200px;\"></div>            <script type=\"text/javascript\">                require([\"plotly\"], function(Plotly) {                    window.PLOTLYENV=window.PLOTLYENV || {};                                    if (document.getElementById(\"63750633-ee92-4eac-b410-97de826871a8\")) {                    Plotly.newPlot(                        \"63750633-ee92-4eac-b410-97de826871a8\",                        [{\"line\":{\"color\":\"green\",\"dash\":\"solid\"},\"mode\":\"lines\",\"name\":\"GT1.1 Cumulative Series\",\"x\":[0.0,2.0,6.8180555555555555,8.756944444444445,10.79375,13.963888888888889,16.780555555555555,20.74861111111111,22.786805555555556,24.76875,27.783333333333335,29.756944444444443,34.97847222222222],\"y\":[0.0,0.04751356616764886,0.07531247377571043,0.1279196971976888,0.2405030384331635,0.2929803897572621,0.43030402439163173,0.6346310041551407,0.755748803466483,0.8596862524238786,0.9774057873319802,1.055203847092021,1.2542811133760474],\"type\":\"scatter\"},{\"marker\":{\"color\":\"green\"},\"mode\":\"markers\",\"name\":\"GT1.1 Data Points\",\"x\":[0.0,2.0,6.8180555555555555,8.756944444444445,10.79375,13.963888888888889,16.780555555555555,20.74861111111111,22.786805555555556,24.76875,27.783333333333335,29.756944444444443,34.97847222222222],\"y\":[0.0,0.04751356616764886,0.07531247377571043,0.1279196971976888,0.2405030384331635,0.2929803897572621,0.43030402439163173,0.6346310041551407,0.755748803466483,0.8596862524238786,0.9774057873319802,1.055203847092021,1.2542811133760474],\"type\":\"scatter\"},{\"line\":{\"color\":\"green\",\"dash\":\"dot\"},\"mode\":\"lines\",\"name\":\"GT1.2 Cumulative Series\",\"x\":[0.0,1.9902777777777778,6.805555555555555,8.745138888888889,10.78125,13.95138888888889,16.783333333333335,20.73611111111111,22.773611111111112,24.755555555555556,27.784027777777776,29.744444444444444,34.96597222222222],\"y\":[0.0,0.016027350886936385,0.03170167192036989,0.06161440289781902,0.15511304343725524,0.19619444677693412,0.2918903297000633,0.4116862293306712,0.4761055666678884,0.5371411495398766,0.6417893169559681,0.7120038751003286,0.8635300891435213],\"type\":\"scatter\"},{\"marker\":{\"color\":\"green\"},\"mode\":\"markers\",\"name\":\"GT1.2 Data Points\",\"x\":[0.0,1.9902777777777778,6.805555555555555,8.745138888888889,10.78125,13.95138888888889,16.783333333333335,20.73611111111111,22.773611111111112,24.755555555555556,27.784027777777776,29.744444444444444,34.96597222222222],\"y\":[0.0,0.016027350886936385,0.03170167192036989,0.06161440289781902,0.15511304343725524,0.19619444677693412,0.2918903297000633,0.4116862293306712,0.4761055666678884,0.5371411495398766,0.6417893169559681,0.7120038751003286,0.8635300891435213],\"type\":\"scatter\"},{\"line\":{\"color\":\"orange\",\"dash\":\"solid\"},\"mode\":\"lines\",\"name\":\"GT2.1 Cumulative Series\",\"x\":[0.0,1.9909722222222221,6.805555555555555,8.744444444444444,10.738888888888889,13.950694444444444,16.781944444444445,20.74375,22.772916666666667,24.754166666666666,27.783333333333335,29.743055555555557,34.96527777777778],\"y\":[0.0,0.017697482777724618,0.03421029978723215,0.07196769268592869,0.14820295993835025,0.16815107640880872,0.23604619528727086,0.3277153692843696,0.38288220484705143,0.4385570027609818,0.5396283662433483,0.6100269926267836,0.7840262096480398],\"type\":\"scatter\"},{\"marker\":{\"color\":\"orange\"},\"mode\":\"markers\",\"name\":\"GT2.1 Data Points\",\"x\":[0.0,1.9909722222222221,6.805555555555555,8.744444444444444,10.738888888888889,13.950694444444444,16.781944444444445,20.74375,22.772916666666667,24.754166666666666,27.783333333333335,29.743055555555557,34.96527777777778],\"y\":[0.0,0.017697482777724618,0.03421029978723215,0.07196769268592869,0.14820295993835025,0.16815107640880872,0.23604619528727086,0.3277153692843696,0.38288220484705143,0.4385570027609818,0.5396283662433483,0.6100269926267836,0.7840262096480398],\"type\":\"scatter\"},{\"line\":{\"color\":\"orange\",\"dash\":\"dot\"},\"mode\":\"lines\",\"name\":\"GT2.2 Cumulative Series\",\"x\":[0.0,1.992361111111111,6.811805555555556,8.744444444444444,10.780555555555555,13.95,16.781944444444445,20.74375,22.775,24.754166666666666,27.77638888888889,29.744444444444444,34.96458333333333],\"y\":[0.0,0.027316018422838702,0.07603335239255866,0.10103239430479286,0.13204018568299408,0.17225263174008432,0.20491107857399166,0.24837998634025865,0.2678237593459569,0.2913946524446504,0.3310170694536565,0.3576682675986032,0.45345054025752923],\"type\":\"scatter\"},{\"marker\":{\"color\":\"orange\"},\"mode\":\"markers\",\"name\":\"GT2.2 Data Points\",\"x\":[0.0,1.992361111111111,6.811805555555556,8.744444444444444,10.780555555555555,13.95,16.781944444444445,20.74375,22.775,24.754166666666666,27.77638888888889,29.744444444444444,34.96458333333333],\"y\":[0.0,0.027316018422838702,0.07603335239255866,0.10103239430479286,0.13204018568299408,0.17225263174008432,0.20491107857399166,0.24837998634025865,0.2678237593459569,0.2913946524446504,0.3310170694536565,0.3576682675986032,0.45345054025752923],\"type\":\"scatter\"},{\"line\":{\"color\":\"purple\",\"dash\":\"solid\"},\"mode\":\"lines\",\"name\":\"GT3.1 Cumulative Series\",\"x\":[0.0,2.0118055555555556,6.8125,8.745138888888889,10.78125,13.950694444444444,16.781944444444445,20.74375,22.775694444444444,24.75486111111111,27.78263888888889,29.744444444444444,34.96527777777778],\"y\":[0.0,0.12440583335602175,0.2970348388731206,0.361348315832221,0.4130225024532185,0.42854102620281287,0.4853860735777723,0.5806492679489266,0.6237167532049571,0.663282012707695,0.7277585307417537,0.7663018905076368,0.887385743061015],\"type\":\"scatter\"},{\"marker\":{\"color\":\"purple\"},\"mode\":\"markers\",\"name\":\"GT3.1 Data Points\",\"x\":[0.0,2.0118055555555556,6.8125,8.745138888888889,10.78125,13.950694444444444,16.781944444444445,20.74375,22.775694444444444,24.75486111111111,27.78263888888889,29.744444444444444,34.96527777777778],\"y\":[0.0,0.12440583335602175,0.2970348388731206,0.361348315832221,0.4130225024532185,0.42854102620281287,0.4853860735777723,0.5806492679489266,0.6237167532049571,0.663282012707695,0.7277585307417537,0.7663018905076368,0.887385743061015],\"type\":\"scatter\"},{\"line\":{\"color\":\"purple\",\"dash\":\"dot\"},\"mode\":\"lines\",\"name\":\"GT3.2 Cumulative Series\",\"x\":[0.0,2.0131944444444443,6.813194444444444,8.746527777777779,10.783333333333333,13.95138888888889,16.783333333333335,20.744444444444444,22.77638888888889,24.755555555555556,27.783333333333335,29.74513888888889,34.96597222222222],\"y\":[0.0,0.08340326922830413,0.24954465085312635,0.3184723649463691,0.37425447573874077,0.38915444394804655,0.4530351093281298,0.5372839600639283,0.5842363986693069,0.6395915794862415,0.7527263112021677,0.8522316089795121,1.2583988429749131],\"type\":\"scatter\"},{\"marker\":{\"color\":\"purple\"},\"mode\":\"markers\",\"name\":\"GT3.2 Data Points\",\"x\":[0.0,2.0131944444444443,6.813194444444444,8.746527777777779,10.783333333333333,13.95138888888889,16.783333333333335,20.744444444444444,22.77638888888889,24.755555555555556,27.783333333333335,29.74513888888889,34.96597222222222],\"y\":[0.0,0.08340326922830413,0.24954465085312635,0.3184723649463691,0.37425447573874077,0.38915444394804655,0.4530351093281298,0.5372839600639283,0.5842363986693069,0.6395915794862415,0.7527263112021677,0.8522316089795121,1.2583988429749131],\"type\":\"scatter\"},{\"line\":{\"color\":\"cyan\",\"dash\":\"solid\"},\"mode\":\"lines\",\"name\":\"GT4.1 Cumulative Series\",\"x\":[0.0,1.0222222222222221,5.81875,7.753472222222222,9.784722222222221,12.952777777777778,15.784027777777778,19.747916666666665,21.777083333333334,23.756944444444443,26.78472222222222,28.747916666666665,33.96944444444444],\"y\":[0.0,0.2799391743092849,0.5832781777159705,0.7008011119422013,0.7916094707967563,0.8226040069463356,0.9965429344520165,1.254990428155502,1.3753543634817302,1.4481410698504782,1.5265979372474796,1.5803291172388896,1.6776626229491256],\"type\":\"scatter\"},{\"marker\":{\"color\":\"cyan\"},\"mode\":\"markers\",\"name\":\"GT4.1 Data Points\",\"x\":[0.0,1.0222222222222221,5.81875,7.753472222222222,9.784722222222221,12.952777777777778,15.784027777777778,19.747916666666665,21.777083333333334,23.756944444444443,26.78472222222222,28.747916666666665,33.96944444444444],\"y\":[0.0,0.2799391743092849,0.5832781777159705,0.7008011119422013,0.7916094707967563,0.8226040069463356,0.9965429344520165,1.254990428155502,1.3753543634817302,1.4481410698504782,1.5265979372474796,1.5803291172388896,1.6776626229491256],\"type\":\"scatter\"},{\"line\":{\"color\":\"cyan\",\"dash\":\"dot\"},\"mode\":\"lines\",\"name\":\"GT4.2 Cumulative Series\",\"x\":[0.0,1.0243055555555556,5.820138888888889,7.754166666666666,9.785416666666666,12.954166666666667,15.78888888888889,19.75347222222222,21.779166666666665,23.758333333333333,26.78611111111111,28.74861111111111,33.96875],\"y\":[0.0,0.27261107269455814,0.559558806984984,0.6734839734146908,0.7605959244264879,0.7917481849527095,0.9721384703642957,1.2354899730953017,1.3555887486551192,1.4251264456636494,1.500736177288511,1.5525500317386092,1.624346225617279],\"type\":\"scatter\"},{\"marker\":{\"color\":\"cyan\"},\"mode\":\"markers\",\"name\":\"GT4.2 Data Points\",\"x\":[0.0,1.0243055555555556,5.820138888888889,7.754166666666666,9.785416666666666,12.954166666666667,15.78888888888889,19.75347222222222,21.779166666666665,23.758333333333333,26.78611111111111,28.74861111111111,33.96875],\"y\":[0.0,0.27261107269455814,0.559558806984984,0.6734839734146908,0.7605959244264879,0.7917481849527095,0.9721384703642957,1.2354899730953017,1.3555887486551192,1.4251264456636494,1.500736177288511,1.5525500317386092,1.624346225617279],\"type\":\"scatter\"},{\"line\":{\"color\":\"magenta\",\"dash\":\"solid\"},\"mode\":\"lines\",\"name\":\"GT5.1 Cumulative Series\",\"x\":[0.0,2.0131944444444443,6.820138888888889,8.754166666666666,10.789583333333333,13.95625,16.7875,20.752083333333335,22.779166666666665,24.757638888888888,27.785416666666666,29.749305555555555,34.97152777777778],\"y\":[0.0,0.11248585200790066,0.21601115228704973,0.2618262551203714,0.2925356372039634,0.31753422708079276,0.4079713342900811,0.47482356725855407,0.4868833799497962,0.5061510294077219,0.5592483124219542,0.5776888005969798,0.63005972304894],\"type\":\"scatter\"},{\"marker\":{\"color\":\"magenta\"},\"mode\":\"markers\",\"name\":\"GT5.1 Data Points\",\"x\":[0.0,2.0131944444444443,6.820138888888889,8.754166666666666,10.789583333333333,13.95625,16.7875,20.752083333333335,22.779166666666665,24.757638888888888,27.785416666666666,29.749305555555555,34.97152777777778],\"y\":[0.0,0.11248585200790066,0.21601115228704973,0.2618262551203714,0.2925356372039634,0.31753422708079276,0.4079713342900811,0.47482356725855407,0.4868833799497962,0.5061510294077219,0.5592483124219542,0.5776888005969798,0.63005972304894],\"type\":\"scatter\"},{\"line\":{\"color\":\"magenta\",\"dash\":\"dot\"},\"mode\":\"lines\",\"name\":\"GT5.2 Cumulative Series\",\"x\":[0.0,2.0145833333333334,6.821527777777778,8.755555555555556,10.790277777777778,13.956944444444444,16.788888888888888,20.752083333333335,22.78263888888889,24.763194444444444,27.790277777777778,29.75,34.97291666666667],\"y\":[0.0,0.10299379340225137,0.18886399366396095,0.2326480821012212,0.25509782709715273,0.2421760168025609,0.2722846378263166,0.3386283456193981,0.36011346159445895,0.40630599484752616,0.44486974763968307,0.4892990863711305,0.5618099490450795],\"type\":\"scatter\"},{\"marker\":{\"color\":\"magenta\"},\"mode\":\"markers\",\"name\":\"GT5.2 Data Points\",\"x\":[0.0,2.0145833333333334,6.821527777777778,8.755555555555556,10.790277777777778,13.956944444444444,16.788888888888888,20.752083333333335,22.78263888888889,24.763194444444444,27.790277777777778,29.75,34.97291666666667],\"y\":[0.0,0.10299379340225137,0.18886399366396095,0.2326480821012212,0.25509782709715273,0.2421760168025609,0.2722846378263166,0.3386283456193981,0.36011346159445895,0.40630599484752616,0.44486974763968307,0.4892990863711305,0.5618099490450795],\"type\":\"scatter\"},{\"line\":{\"color\":\"lime\",\"dash\":\"solid\"},\"mode\":\"lines\",\"name\":\"GT6.1 Cumulative Series\",\"x\":[0.0,1.0229166666666667,5.823611111111111,7.760416666666667,9.790972222222223,12.957638888888889,15.789583333333333,19.752777777777776,21.783333333333335,23.76388888888889,26.790277777777778,28.749305555555555,33.97222222222222],\"y\":[0.0,0.07965718461225577,0.17008550957928661,0.3456268261017885,0.5413348634675669,0.49620456444381655,0.6219411841581519,0.7709497084473799,0.8487044536750074,0.9121294313728285,0.9991840957133422,1.0533527363119504,1.183801272592078],\"type\":\"scatter\"},{\"marker\":{\"color\":\"lime\"},\"mode\":\"markers\",\"name\":\"GT6.1 Data Points\",\"x\":[0.0,1.0229166666666667,5.823611111111111,7.760416666666667,9.790972222222223,12.957638888888889,15.789583333333333,19.752777777777776,21.783333333333335,23.76388888888889,26.790277777777778,28.749305555555555,33.97222222222222],\"y\":[0.0,0.07965718461225577,0.17008550957928661,0.3456268261017885,0.5413348634675669,0.49620456444381655,0.6219411841581519,0.7709497084473799,0.8487044536750074,0.9121294313728285,0.9991840957133422,1.0533527363119504,1.183801272592078],\"type\":\"scatter\"},{\"line\":{\"color\":\"lime\",\"dash\":\"dot\"},\"mode\":\"lines\",\"name\":\"GT6.2 Cumulative Series\",\"x\":[0.0,1.0256944444444445,5.825,7.761805555555555,9.79375,12.959722222222222,15.790972222222223,19.75486111111111,21.788888888888888,23.76527777777778,26.791666666666668,28.75625,33.975],\"y\":[0.0,0.12182464424499001,0.3902586776875465,0.5139640389939646,0.6050150798836824,0.6418907547367371,0.7608514357039795,0.9260625989761905,1.0177849185147858,1.1010357023529074,1.2230607781983067,1.3058467470257344,1.5183355362467839],\"type\":\"scatter\"},{\"marker\":{\"color\":\"lime\"},\"mode\":\"markers\",\"name\":\"GT6.2 Data Points\",\"x\":[0.0,1.0256944444444445,5.825,7.761805555555555,9.79375,12.959722222222222,15.790972222222223,19.75486111111111,21.788888888888888,23.76527777777778,26.791666666666668,28.75625,33.975],\"y\":[0.0,0.12182464424499001,0.3902586776875465,0.5139640389939646,0.6050150798836824,0.6418907547367371,0.7608514357039795,0.9260625989761905,1.0177849185147858,1.1010357023529074,1.2230607781983067,1.3058467470257344,1.5183355362467839],\"type\":\"scatter\"},{\"line\":{\"color\":\"gold\",\"dash\":\"solid\"},\"mode\":\"lines\",\"name\":\"GT7.1 Cumulative Series\",\"x\":[0.0,2.0145833333333334,6.854166666666667,8.763194444444444,10.79513888888889,13.960416666666667,16.792361111111113,20.75625,22.789583333333333,24.766666666666666,27.793055555555554,29.75625,34.97847222222222],\"y\":[0.0,0.04789998799781799,0.08237115066421627,0.11835579539310888,0.14632077354417938,0.261803097122637,0.4662284556425536,0.6152878294703957,0.6761154699786699,0.7248134876246257,0.7683506971152128,0.8099468296648603,0.8730873621997655],\"type\":\"scatter\"},{\"marker\":{\"color\":\"gold\"},\"mode\":\"markers\",\"name\":\"GT7.1 Data Points\",\"x\":[0.0,2.0145833333333334,6.854166666666667,8.763194444444444,10.79513888888889,13.960416666666667,16.792361111111113,20.75625,22.789583333333333,24.766666666666666,27.793055555555554,29.75625,34.97847222222222],\"y\":[0.0,0.04789998799781799,0.08237115066421627,0.11835579539310888,0.14632077354417938,0.261803097122637,0.4662284556425536,0.6152878294703957,0.6761154699786699,0.7248134876246257,0.7683506971152128,0.8099468296648603,0.8730873621997655],\"type\":\"scatter\"},{\"line\":{\"color\":\"gold\",\"dash\":\"dot\"},\"mode\":\"lines\",\"name\":\"GT7.2 Cumulative Series\",\"x\":[0.0,1.0256944444444445,5.854166666666667,7.763888888888889,9.79513888888889,12.963888888888889,15.795833333333333,19.75625,21.790277777777778,23.76597222222222,26.79375,28.760416666666668,33.97847222222222],\"y\":[0.0,0.15046800509488223,0.3023771848064685,0.3718940977392621,0.4268899476134545,0.5341081473711217,0.676058127164811,0.8909204110215084,1.0048965846706643,1.1033156947503264,1.2114703150115211,1.2756810728277284,1.4122988718432892],\"type\":\"scatter\"},{\"marker\":{\"color\":\"gold\"},\"mode\":\"markers\",\"name\":\"GT7.2 Data Points\",\"x\":[0.0,1.0256944444444445,5.854166666666667,7.763888888888889,9.79513888888889,12.963888888888889,15.795833333333333,19.75625,21.790277777777778,23.76597222222222,26.79375,28.760416666666668,33.97847222222222],\"y\":[0.0,0.15046800509488223,0.3023771848064685,0.3718940977392621,0.4268899476134545,0.5341081473711217,0.676058127164811,0.8909204110215084,1.0048965846706643,1.1033156947503264,1.2114703150115211,1.2756810728277284,1.4122988718432892],\"type\":\"scatter\"},{\"line\":{\"color\":\"blue\",\"dash\":\"solid\"},\"mode\":\"lines\",\"name\":\"GT8.1 Cumulative Series\",\"x\":[0.0,1.0277777777777777,5.855555555555555,7.7652777777777775,12.965277777777779,15.797222222222222,19.761805555555554,21.790972222222223,23.76736111111111,26.79513888888889,28.761805555555554,33.97986111111111],\"y\":[0.0,0.17256680274062172,0.3641423696687381,0.4715321700665902,0.663054372921951,0.7852470764434536,0.9018311725604484,0.9777554461132236,1.0255761495302067,1.0666996292117918,1.1259861562710434,1.2588947697438992],\"type\":\"scatter\"},{\"marker\":{\"color\":\"blue\"},\"mode\":\"markers\",\"name\":\"GT8.1 Data Points\",\"x\":[0.0,1.0277777777777777,5.855555555555555,7.7652777777777775,12.965277777777779,15.797222222222222,19.761805555555554,21.790972222222223,23.76736111111111,26.79513888888889,28.761805555555554,33.97986111111111],\"y\":[0.0,0.17256680274062172,0.3641423696687381,0.4715321700665902,0.663054372921951,0.7852470764434536,0.9018311725604484,0.9777554461132236,1.0255761495302067,1.0666996292117918,1.1259861562710434,1.2588947697438992],\"type\":\"scatter\"},{\"line\":{\"color\":\"blue\",\"dash\":\"dot\"},\"mode\":\"lines\",\"name\":\"GT8.2 Cumulative Series\",\"x\":[0.0,1.0284722222222222,5.855555555555555,7.7652777777777775,12.965277777777779,15.797222222222222,19.761111111111113,21.791666666666668,23.768055555555556,26.79513888888889,28.76597222222222,33.980555555555554],\"y\":[0.0,0.15461841330209175,0.41620143517997127,0.5613638770627412,0.7828317970623292,0.8956887078971596,1.012170598500536,1.0789713712394617,1.1221503190412443,1.170344029071555,1.2265166588105114,1.3038981657021456],\"type\":\"scatter\"},{\"marker\":{\"color\":\"blue\"},\"mode\":\"markers\",\"name\":\"GT8.2 Data Points\",\"x\":[0.0,1.0284722222222222,5.855555555555555,7.7652777777777775,12.965277777777779,15.797222222222222,19.761111111111113,21.791666666666668,23.768055555555556,26.79513888888889,28.76597222222222,33.980555555555554],\"y\":[0.0,0.15461841330209175,0.41620143517997127,0.5613638770627412,0.7828317970623292,0.8956887078971596,1.012170598500536,1.0789713712394617,1.1221503190412443,1.170344029071555,1.2265166588105114,1.3038981657021456],\"type\":\"scatter\"}],                        {\"template\":{\"data\":{\"histogram2dcontour\":[{\"type\":\"histogram2dcontour\",\"colorbar\":{\"outlinewidth\":0,\"ticks\":\"\"},\"colorscale\":[[0.0,\"#0d0887\"],[0.1111111111111111,\"#46039f\"],[0.2222222222222222,\"#7201a8\"],[0.3333333333333333,\"#9c179e\"],[0.4444444444444444,\"#bd3786\"],[0.5555555555555556,\"#d8576b\"],[0.6666666666666666,\"#ed7953\"],[0.7777777777777778,\"#fb9f3a\"],[0.8888888888888888,\"#fdca26\"],[1.0,\"#f0f921\"]]}],\"choropleth\":[{\"type\":\"choropleth\",\"colorbar\":{\"outlinewidth\":0,\"ticks\":\"\"}}],\"histogram2d\":[{\"type\":\"histogram2d\",\"colorbar\":{\"outlinewidth\":0,\"ticks\":\"\"},\"colorscale\":[[0.0,\"#0d0887\"],[0.1111111111111111,\"#46039f\"],[0.2222222222222222,\"#7201a8\"],[0.3333333333333333,\"#9c179e\"],[0.4444444444444444,\"#bd3786\"],[0.5555555555555556,\"#d8576b\"],[0.6666666666666666,\"#ed7953\"],[0.7777777777777778,\"#fb9f3a\"],[0.8888888888888888,\"#fdca26\"],[1.0,\"#f0f921\"]]}],\"heatmap\":[{\"type\":\"heatmap\",\"colorbar\":{\"outlinewidth\":0,\"ticks\":\"\"},\"colorscale\":[[0.0,\"#0d0887\"],[0.1111111111111111,\"#46039f\"],[0.2222222222222222,\"#7201a8\"],[0.3333333333333333,\"#9c179e\"],[0.4444444444444444,\"#bd3786\"],[0.5555555555555556,\"#d8576b\"],[0.6666666666666666,\"#ed7953\"],[0.7777777777777778,\"#fb9f3a\"],[0.8888888888888888,\"#fdca26\"],[1.0,\"#f0f921\"]]}],\"heatmapgl\":[{\"type\":\"heatmapgl\",\"colorbar\":{\"outlinewidth\":0,\"ticks\":\"\"},\"colorscale\":[[0.0,\"#0d0887\"],[0.1111111111111111,\"#46039f\"],[0.2222222222222222,\"#7201a8\"],[0.3333333333333333,\"#9c179e\"],[0.4444444444444444,\"#bd3786\"],[0.5555555555555556,\"#d8576b\"],[0.6666666666666666,\"#ed7953\"],[0.7777777777777778,\"#fb9f3a\"],[0.8888888888888888,\"#fdca26\"],[1.0,\"#f0f921\"]]}],\"contourcarpet\":[{\"type\":\"contourcarpet\",\"colorbar\":{\"outlinewidth\":0,\"ticks\":\"\"}}],\"contour\":[{\"type\":\"contour\",\"colorbar\":{\"outlinewidth\":0,\"ticks\":\"\"},\"colorscale\":[[0.0,\"#0d0887\"],[0.1111111111111111,\"#46039f\"],[0.2222222222222222,\"#7201a8\"],[0.3333333333333333,\"#9c179e\"],[0.4444444444444444,\"#bd3786\"],[0.5555555555555556,\"#d8576b\"],[0.6666666666666666,\"#ed7953\"],[0.7777777777777778,\"#fb9f3a\"],[0.8888888888888888,\"#fdca26\"],[1.0,\"#f0f921\"]]}],\"surface\":[{\"type\":\"surface\",\"colorbar\":{\"outlinewidth\":0,\"ticks\":\"\"},\"colorscale\":[[0.0,\"#0d0887\"],[0.1111111111111111,\"#46039f\"],[0.2222222222222222,\"#7201a8\"],[0.3333333333333333,\"#9c179e\"],[0.4444444444444444,\"#bd3786\"],[0.5555555555555556,\"#d8576b\"],[0.6666666666666666,\"#ed7953\"],[0.7777777777777778,\"#fb9f3a\"],[0.8888888888888888,\"#fdca26\"],[1.0,\"#f0f921\"]]}],\"mesh3d\":[{\"type\":\"mesh3d\",\"colorbar\":{\"outlinewidth\":0,\"ticks\":\"\"}}],\"scatter\":[{\"marker\":{\"line\":{\"color\":\"#283442\"}},\"type\":\"scatter\"}],\"parcoords\":[{\"type\":\"parcoords\",\"line\":{\"colorbar\":{\"outlinewidth\":0,\"ticks\":\"\"}}}],\"scatterpolargl\":[{\"type\":\"scatterpolargl\",\"marker\":{\"colorbar\":{\"outlinewidth\":0,\"ticks\":\"\"}}}],\"bar\":[{\"error_x\":{\"color\":\"#f2f5fa\"},\"error_y\":{\"color\":\"#f2f5fa\"},\"marker\":{\"line\":{\"color\":\"rgb(17,17,17)\",\"width\":0.5},\"pattern\":{\"fillmode\":\"overlay\",\"size\":10,\"solidity\":0.2}},\"type\":\"bar\"}],\"scattergeo\":[{\"type\":\"scattergeo\",\"marker\":{\"colorbar\":{\"outlinewidth\":0,\"ticks\":\"\"}}}],\"scatterpolar\":[{\"type\":\"scatterpolar\",\"marker\":{\"colorbar\":{\"outlinewidth\":0,\"ticks\":\"\"}}}],\"histogram\":[{\"marker\":{\"pattern\":{\"fillmode\":\"overlay\",\"size\":10,\"solidity\":0.2}},\"type\":\"histogram\"}],\"scattergl\":[{\"marker\":{\"line\":{\"color\":\"#283442\"}},\"type\":\"scattergl\"}],\"scatter3d\":[{\"type\":\"scatter3d\",\"line\":{\"colorbar\":{\"outlinewidth\":0,\"ticks\":\"\"}},\"marker\":{\"colorbar\":{\"outlinewidth\":0,\"ticks\":\"\"}}}],\"scattermapbox\":[{\"type\":\"scattermapbox\",\"marker\":{\"colorbar\":{\"outlinewidth\":0,\"ticks\":\"\"}}}],\"scatterternary\":[{\"type\":\"scatterternary\",\"marker\":{\"colorbar\":{\"outlinewidth\":0,\"ticks\":\"\"}}}],\"scattercarpet\":[{\"type\":\"scattercarpet\",\"marker\":{\"colorbar\":{\"outlinewidth\":0,\"ticks\":\"\"}}}],\"carpet\":[{\"aaxis\":{\"endlinecolor\":\"#A2B1C6\",\"gridcolor\":\"#506784\",\"linecolor\":\"#506784\",\"minorgridcolor\":\"#506784\",\"startlinecolor\":\"#A2B1C6\"},\"baxis\":{\"endlinecolor\":\"#A2B1C6\",\"gridcolor\":\"#506784\",\"linecolor\":\"#506784\",\"minorgridcolor\":\"#506784\",\"startlinecolor\":\"#A2B1C6\"},\"type\":\"carpet\"}],\"table\":[{\"cells\":{\"fill\":{\"color\":\"#506784\"},\"line\":{\"color\":\"rgb(17,17,17)\"}},\"header\":{\"fill\":{\"color\":\"#2a3f5f\"},\"line\":{\"color\":\"rgb(17,17,17)\"}},\"type\":\"table\"}],\"barpolar\":[{\"marker\":{\"line\":{\"color\":\"rgb(17,17,17)\",\"width\":0.5},\"pattern\":{\"fillmode\":\"overlay\",\"size\":10,\"solidity\":0.2}},\"type\":\"barpolar\"}],\"pie\":[{\"automargin\":true,\"type\":\"pie\"}]},\"layout\":{\"autotypenumbers\":\"strict\",\"colorway\":[\"#636efa\",\"#EF553B\",\"#00cc96\",\"#ab63fa\",\"#FFA15A\",\"#19d3f3\",\"#FF6692\",\"#B6E880\",\"#FF97FF\",\"#FECB52\"],\"font\":{\"color\":\"#f2f5fa\"},\"hovermode\":\"closest\",\"hoverlabel\":{\"align\":\"left\"},\"paper_bgcolor\":\"rgb(17,17,17)\",\"plot_bgcolor\":\"rgb(17,17,17)\",\"polar\":{\"bgcolor\":\"rgb(17,17,17)\",\"angularaxis\":{\"gridcolor\":\"#506784\",\"linecolor\":\"#506784\",\"ticks\":\"\"},\"radialaxis\":{\"gridcolor\":\"#506784\",\"linecolor\":\"#506784\",\"ticks\":\"\"}},\"ternary\":{\"bgcolor\":\"rgb(17,17,17)\",\"aaxis\":{\"gridcolor\":\"#506784\",\"linecolor\":\"#506784\",\"ticks\":\"\"},\"baxis\":{\"gridcolor\":\"#506784\",\"linecolor\":\"#506784\",\"ticks\":\"\"},\"caxis\":{\"gridcolor\":\"#506784\",\"linecolor\":\"#506784\",\"ticks\":\"\"}},\"coloraxis\":{\"colorbar\":{\"outlinewidth\":0,\"ticks\":\"\"}},\"colorscale\":{\"sequential\":[[0.0,\"#0d0887\"],[0.1111111111111111,\"#46039f\"],[0.2222222222222222,\"#7201a8\"],[0.3333333333333333,\"#9c179e\"],[0.4444444444444444,\"#bd3786\"],[0.5555555555555556,\"#d8576b\"],[0.6666666666666666,\"#ed7953\"],[0.7777777777777778,\"#fb9f3a\"],[0.8888888888888888,\"#fdca26\"],[1.0,\"#f0f921\"]],\"sequentialminus\":[[0.0,\"#0d0887\"],[0.1111111111111111,\"#46039f\"],[0.2222222222222222,\"#7201a8\"],[0.3333333333333333,\"#9c179e\"],[0.4444444444444444,\"#bd3786\"],[0.5555555555555556,\"#d8576b\"],[0.6666666666666666,\"#ed7953\"],[0.7777777777777778,\"#fb9f3a\"],[0.8888888888888888,\"#fdca26\"],[1.0,\"#f0f921\"]],\"diverging\":[[0,\"#8e0152\"],[0.1,\"#c51b7d\"],[0.2,\"#de77ae\"],[0.3,\"#f1b6da\"],[0.4,\"#fde0ef\"],[0.5,\"#f7f7f7\"],[0.6,\"#e6f5d0\"],[0.7,\"#b8e186\"],[0.8,\"#7fbc41\"],[0.9,\"#4d9221\"],[1,\"#276419\"]]},\"xaxis\":{\"gridcolor\":\"#283442\",\"linecolor\":\"#506784\",\"ticks\":\"\",\"title\":{\"standoff\":15},\"zerolinecolor\":\"#283442\",\"automargin\":true,\"zerolinewidth\":2},\"yaxis\":{\"gridcolor\":\"#283442\",\"linecolor\":\"#506784\",\"ticks\":\"\",\"title\":{\"standoff\":15},\"zerolinecolor\":\"#283442\",\"automargin\":true,\"zerolinewidth\":2},\"scene\":{\"xaxis\":{\"backgroundcolor\":\"rgb(17,17,17)\",\"gridcolor\":\"#506784\",\"linecolor\":\"#506784\",\"showbackground\":true,\"ticks\":\"\",\"zerolinecolor\":\"#C8D4E3\",\"gridwidth\":2},\"yaxis\":{\"backgroundcolor\":\"rgb(17,17,17)\",\"gridcolor\":\"#506784\",\"linecolor\":\"#506784\",\"showbackground\":true,\"ticks\":\"\",\"zerolinecolor\":\"#C8D4E3\",\"gridwidth\":2},\"zaxis\":{\"backgroundcolor\":\"rgb(17,17,17)\",\"gridcolor\":\"#506784\",\"linecolor\":\"#506784\",\"showbackground\":true,\"ticks\":\"\",\"zerolinecolor\":\"#C8D4E3\",\"gridwidth\":2}},\"shapedefaults\":{\"line\":{\"color\":\"#f2f5fa\"}},\"annotationdefaults\":{\"arrowcolor\":\"#f2f5fa\",\"arrowhead\":0,\"arrowwidth\":1},\"geo\":{\"bgcolor\":\"rgb(17,17,17)\",\"landcolor\":\"rgb(17,17,17)\",\"subunitcolor\":\"#506784\",\"showland\":true,\"showlakes\":true,\"lakecolor\":\"rgb(17,17,17)\"},\"title\":{\"x\":0.05},\"updatemenudefaults\":{\"bgcolor\":\"#506784\",\"borderwidth\":0},\"sliderdefaults\":{\"bgcolor\":\"#C8D4E3\",\"borderwidth\":1,\"bordercolor\":\"rgb(17,17,17)\",\"tickwidth\":0},\"mapbox\":{\"style\":\"dark\"}}},\"width\":1200,\"height\":800,\"legend\":{\"x\":1.05,\"y\":1,\"orientation\":\"v\"},\"title\":{\"text\":\"Cgas_DM_cum\"},\"xaxis\":{\"title\":{\"text\":\"Day\"}},\"yaxis\":{\"title\":{\"text\":\"Ctot_DM [mg C/gDW]\"}},\"showlegend\":true,\"plot_bgcolor\":\"grey\"},                        {\"responsive\": true}                    ).then(function(){\n                            \nvar gd = document.getElementById('63750633-ee92-4eac-b410-97de826871a8');\nvar x = new MutationObserver(function (mutations, observer) {{\n        var display = window.getComputedStyle(gd).display;\n        if (!display || display === 'none') {{\n            console.log([gd, 'removed!']);\n            Plotly.purge(gd);\n            observer.disconnect();\n        }}\n}});\n\n// Listen for the removal of the full notebook cells\nvar notebookContainer = gd.closest('#notebook-container');\nif (notebookContainer) {{\n    x.observe(notebookContainer, {childList: true});\n}}\n\n// Listen for the clearing of the current output cell\nvar outputEl = gd.closest('.output');\nif (outputEl) {{\n    x.observe(outputEl, {childList: true});\n}}\n\n                        })                };                });            </script>        </div>"
     },
     "metadata": {},
     "output_type": "display_data"
    }
   ],
   "source": [
    "import plotly.graph_objects as go\n",
    "\n",
    "colors = ['green', \"green\", 'orange', 'orange', 'purple', 'purple', 'cyan', 'cyan',\n",
    "          'magenta', 'magenta', 'lime', 'lime', 'gold', 'gold', 'blue', 'blue']\n",
    "line_styles = [\"solid\", \"dot\", \"solid\", \"dot\", \"solid\", \"dot\", \"solid\", \"dot\", \"solid\", \"dot\", \"solid\", \"dot\", \"solid\", \"dot\", \"solid\", \"dot\"]\n",
    "\n",
    "fig = go.Figure()\n",
    "\n",
    "# Modify the layout with the desired figure size\n",
    "fig.update_layout(\n",
    "    width=15*80,  # 80 pixels per unit width\n",
    "    height=10*80,  # 80 pixels per unit height\n",
    ")\n",
    "\n",
    "for color, sheet_name, line_style in zip(colors, sheet_names[1:], line_styles):\n",
    "    df = dict_data_frames[sheet_name]\n",
    "\n",
    "    # Drop the rows where 'CumulativeColumn' is NaN\n",
    "    df_dropped = df.dropna(subset=[\"Cgas_DM_cum\"])\n",
    "\n",
    "    # Plot the line\n",
    "    fig.add_trace(go.Scatter(\n",
    "        x=df_dropped['Day'],\n",
    "        y=df_dropped['Cgas_DM_cum'],\n",
    "        mode='lines',\n",
    "        line=dict(color=color, dash=line_style),\n",
    "        name=f'{sheet_name} Cumulative Series'\n",
    "    ))\n",
    "\n",
    "    # Plot the data points\n",
    "    fig.add_trace(go.Scatter(\n",
    "        x=df_dropped['Day'],\n",
    "        y=df_dropped['Cgas_DM_cum'],\n",
    "        mode='markers',\n",
    "        marker=dict(color=color),\n",
    "        name=f'{sheet_name} Data Points'\n",
    "    ))\n",
    "\n",
    "fig.update_layout(\n",
    "    title='Cgas_DM_cum',\n",
    "    xaxis=dict(title='Day'),\n",
    "    yaxis=dict(title='Ctot_DM [mg C/gDW]'),\n",
    "    legend=dict(x=1.05, y=1, orientation='v'),\n",
    "    showlegend=True,\n",
    "    plot_bgcolor='grey'  # Set the plot background color to white\n",
    ")\n",
    "\n",
    "\n",
    "fig.show()\n"
   ],
   "metadata": {
    "collapsed": false,
    "ExecuteTime": {
     "end_time": "2023-06-27T10:21:39.343073600Z",
     "start_time": "2023-06-27T10:21:39.120526300Z"
    }
   }
  },
  {
   "cell_type": "code",
   "execution_count": 25,
   "outputs": [],
   "source": [],
   "metadata": {
    "collapsed": false,
    "ExecuteTime": {
     "end_time": "2023-06-27T10:21:39.345129700Z",
     "start_time": "2023-06-27T10:21:39.228619700Z"
    }
   }
  },
  {
   "cell_type": "code",
   "execution_count": 41,
   "outputs": [
    {
     "data": {
      "application/vnd.plotly.v1+json": {
       "data": [
        {
         "line": {
          "color": "green",
          "dash": "solid"
         },
         "mode": "lines",
         "name": "GT1.1",
         "x": [
          0.0,
          2.0,
          6.8180555555555555,
          8.756944444444445,
          10.79375,
          13.963888888888889,
          16.780555555555555,
          20.74861111111111,
          22.786805555555556,
          24.76875,
          27.783333333333335,
          29.756944444444443,
          34.97847222222222
         ],
         "y": [
          0.0,
          6.808472762858926,
          0.34840115566367996,
          3.7095378263987686,
          1.4112591268049521,
          0.2714472250893865,
          1.0105185898038616,
          0.9998626567243883,
          0.9221770539090672,
          0.954334366501155,
          0.9676433296682654,
          0.8614288031856469,
          0.7935073739764299
         ],
         "type": "scatter"
        },
        {
         "marker": {
          "color": "green"
         },
         "mode": "markers",
         "name": "GT1.1 Data Points",
         "x": [
          0.0,
          2.0,
          6.8180555555555555,
          8.756944444444445,
          10.79375,
          13.963888888888889,
          16.780555555555555,
          20.74861111111111,
          22.786805555555556,
          24.76875,
          27.783333333333335,
          29.756944444444443,
          34.97847222222222
         ],
         "y": [
          0.0,
          6.808472762858926,
          0.34840115566367996,
          3.7095378263987686,
          1.4112591268049521,
          0.2714472250893865,
          1.0105185898038616,
          0.9998626567243883,
          0.9221770539090672,
          0.954334366501155,
          0.9676433296682654,
          0.8614288031856469,
          0.7935073739764299
         ],
         "type": "scatter"
        },
        {
         "line": {
          "color": "green",
          "dash": "dot"
         },
         "mode": "lines",
         "name": "GT1.2",
         "x": [
          0.0,
          1.9902777777777778,
          6.805555555555555,
          8.745138888888889,
          10.78125,
          13.95138888888889,
          16.783333333333335,
          20.73611111111111,
          22.773611111111112,
          24.755555555555556,
          27.784027777777776,
          29.744444444444444,
          34.96597222222222
         ],
         "y": [
          0.0,
          22.89847319532358,
          0.40696119473609976,
          6.110395353886036,
          1.7584083852338062,
          0.026026060261634808,
          1.150330560851035,
          1.1005835791248062,
          1.037406628331805,
          1.1116367535782528,
          1.1132284571081912,
          0.967337776962666,
          1.0452241367312187
         ],
         "type": "scatter"
        },
        {
         "marker": {
          "color": "green"
         },
         "mode": "markers",
         "name": "GT1.2 Data Points",
         "x": [
          0.0,
          1.9902777777777778,
          6.805555555555555,
          8.745138888888889,
          10.78125,
          13.95138888888889,
          16.783333333333335,
          20.73611111111111,
          22.773611111111112,
          24.755555555555556,
          27.784027777777776,
          29.744444444444444,
          34.96597222222222
         ],
         "y": [
          0.0,
          22.89847319532358,
          0.40696119473609976,
          6.110395353886036,
          1.7584083852338062,
          0.026026060261634808,
          1.150330560851035,
          1.1005835791248062,
          1.037406628331805,
          1.1116367535782528,
          1.1132284571081912,
          0.967337776962666,
          1.0452241367312187
         ],
         "type": "scatter"
        },
        {
         "line": {
          "color": "orange",
          "dash": "solid"
         },
         "mode": "lines",
         "name": "GT2.1",
         "x": [
          0.0,
          1.9909722222222221,
          6.805555555555555,
          8.744444444444444,
          10.738888888888889,
          13.950694444444444,
          16.781944444444445,
          20.74375,
          22.772916666666667,
          24.754166666666666,
          27.783333333333335,
          29.743055555555557,
          34.96527777777778
         ],
         "y": [
          0.0,
          20.38491988127941,
          0.22864667432414756,
          4.731009380605716,
          1.692564303782729,
          -0.1029663706959156,
          1.2993158794698767,
          1.1809903305963307,
          1.107216998958056,
          1.1260921909498696,
          1.0642925206009872,
          0.9978321485450524,
          0.9994234539161415
         ],
         "type": "scatter"
        },
        {
         "marker": {
          "color": "orange"
         },
         "mode": "markers",
         "name": "GT2.1 Data Points",
         "x": [
          0.0,
          1.9909722222222221,
          6.805555555555555,
          8.744444444444444,
          10.738888888888889,
          13.950694444444444,
          16.781944444444445,
          20.74375,
          22.772916666666667,
          24.754166666666666,
          27.783333333333335,
          29.743055555555557,
          34.96527777777778
         ],
         "y": [
          0.0,
          20.38491988127941,
          0.22864667432414756,
          4.731009380605716,
          1.692564303782729,
          -0.1029663706959156,
          1.2993158794698767,
          1.1809903305963307,
          1.107216998958056,
          1.1260921909498696,
          1.0642925206009872,
          0.9978321485450524,
          0.9994234539161415
         ],
         "type": "scatter"
        },
        {
         "line": {
          "color": "orange",
          "dash": "dot"
         },
         "mode": "lines",
         "name": "GT2.2",
         "x": [
          0.0,
          1.992361111111111,
          6.811805555555556,
          8.744444444444444,
          10.780555555555555,
          13.95,
          16.781944444444445,
          20.74375,
          22.775,
          24.754166666666666,
          27.77638888888889,
          29.744444444444444,
          34.96458333333333
         ],
         "y": [
          0.0,
          7.8594155797103,
          2.384327878807881,
          5.446675955497311,
          2.660743726587427,
          1.9587165391505985,
          2.0796001181576633,
          1.7488377503275792,
          2.1851037401543976,
          1.6598989885491615,
          1.5844294755190147,
          1.4544101106962504,
          1.305233017337235
         ],
         "type": "scatter"
        },
        {
         "marker": {
          "color": "orange"
         },
         "mode": "markers",
         "name": "GT2.2 Data Points",
         "x": [
          0.0,
          1.992361111111111,
          6.811805555555556,
          8.744444444444444,
          10.780555555555555,
          13.95,
          16.781944444444445,
          20.74375,
          22.775,
          24.754166666666666,
          27.77638888888889,
          29.744444444444444,
          34.96458333333333
         ],
         "y": [
          0.0,
          7.8594155797103,
          2.384327878807881,
          5.446675955497311,
          2.660743726587427,
          1.9587165391505985,
          2.0796001181576633,
          1.7488377503275792,
          2.1851037401543976,
          1.6598989885491615,
          1.5844294755190147,
          1.4544101106962504,
          1.305233017337235
         ],
         "type": "scatter"
        },
        {
         "line": {
          "color": "purple",
          "dash": "solid"
         },
         "mode": "lines",
         "name": "GT3.1",
         "x": [
          0.0,
          2.0118055555555556,
          6.8125,
          8.745138888888889,
          10.78125,
          13.950694444444444,
          16.781944444444445,
          20.74375,
          22.775694444444444,
          24.75486111111111,
          27.78263888888889,
          29.744444444444444,
          34.96527777777778
         ],
         "y": [
          0.0,
          2.5260282110272962,
          1.4558829199213434,
          1.2883518604048243,
          1.5313563951760791,
          2.0816196367882362,
          1.5844032384912206,
          1.4298582345740272,
          1.3588008522706767,
          1.9301700239352706,
          1.2615554791955568,
          1.2988208118418085,
          1.0680094910508904
         ],
         "type": "scatter"
        },
        {
         "marker": {
          "color": "purple"
         },
         "mode": "markers",
         "name": "GT3.1 Data Points",
         "x": [
          0.0,
          2.0118055555555556,
          6.8125,
          8.745138888888889,
          10.78125,
          13.950694444444444,
          16.781944444444445,
          20.74375,
          22.775694444444444,
          24.75486111111111,
          27.78263888888889,
          29.744444444444444,
          34.96527777777778
         ],
         "y": [
          0.0,
          2.5260282110272962,
          1.4558829199213434,
          1.2883518604048243,
          1.5313563951760791,
          2.0816196367882362,
          1.5844032384912206,
          1.4298582345740272,
          1.3588008522706767,
          1.9301700239352706,
          1.2615554791955568,
          1.2988208118418085,
          1.0680094910508904
         ],
         "type": "scatter"
        },
        {
         "line": {
          "color": "purple",
          "dash": "dot"
         },
         "mode": "lines",
         "name": "GT3.2",
         "x": [
          0.0,
          2.0131944444444443,
          6.813194444444444,
          8.746527777777779,
          10.783333333333333,
          13.95138888888889,
          16.783333333333335,
          20.744444444444444,
          22.77638888888889,
          24.755555555555556,
          27.783333333333335,
          29.74513888888889,
          34.96597222222222
         ],
         "y": [
          0.0,
          3.433708189922514,
          1.4678887260435307,
          1.209254210674993,
          1.3416341980331754,
          1.899908039065621,
          1.314105679132232,
          1.2611193560309046,
          1.2377717198094518,
          1.0606892909877037,
          0.9306092058223366,
          0.8315292399524445,
          0.6993949001782607
         ],
         "type": "scatter"
        },
        {
         "marker": {
          "color": "purple"
         },
         "mode": "markers",
         "name": "GT3.2 Data Points",
         "x": [
          0.0,
          2.0131944444444443,
          6.813194444444444,
          8.746527777777779,
          10.783333333333333,
          13.95138888888889,
          16.783333333333335,
          20.744444444444444,
          22.77638888888889,
          24.755555555555556,
          27.783333333333335,
          29.74513888888889,
          34.96597222222222
         ],
         "y": [
          0.0,
          3.433708189922514,
          1.4678887260435307,
          1.209254210674993,
          1.3416341980331754,
          1.899908039065621,
          1.314105679132232,
          1.2611193560309046,
          1.2377717198094518,
          1.0606892909877037,
          0.9306092058223366,
          0.8315292399524445,
          0.6993949001782607
         ],
         "type": "scatter"
        },
        {
         "line": {
          "color": "cyan",
          "dash": "solid"
         },
         "mode": "lines",
         "name": "GT4.1",
         "x": [
          0.0,
          1.0222222222222221,
          5.81875,
          7.753472222222222,
          9.784722222222221,
          12.952777777777778,
          15.784027777777778,
          19.747916666666665,
          21.777083333333334,
          23.756944444444443,
          26.78472222222222,
          28.747916666666665,
          33.96944444444444
         ],
         "y": [
          0.0,
          0.580965484419541,
          0.6744646979305956,
          0.5447546405307194,
          0.6286583015975615,
          1.3772204999360003,
          0.8534204011794337,
          0.9527128977185305,
          0.660807784270266,
          0.6775613040391854,
          0.8172250122253372,
          0.7008612927891004,
          0.9810564699656271
         ],
         "type": "scatter"
        },
        {
         "marker": {
          "color": "cyan"
         },
         "mode": "markers",
         "name": "GT4.1 Data Points",
         "x": [
          0.0,
          1.0222222222222221,
          5.81875,
          7.753472222222222,
          9.784722222222221,
          12.952777777777778,
          15.784027777777778,
          19.747916666666665,
          21.777083333333334,
          23.756944444444443,
          26.78472222222222,
          28.747916666666665,
          33.96944444444444
         ],
         "y": [
          0.0,
          0.580965484419541,
          0.6744646979305956,
          0.5447546405307194,
          0.6286583015975615,
          1.3772204999360003,
          0.8534204011794337,
          0.9527128977185305,
          0.660807784270266,
          0.6775613040391854,
          0.8172250122253372,
          0.7008612927891004,
          0.9810564699656271
         ],
         "type": "scatter"
        },
        {
         "line": {
          "color": "cyan",
          "dash": "dot"
         },
         "mode": "lines",
         "name": "GT4.2",
         "x": [
          0.0,
          1.0243055555555556,
          5.820138888888889,
          7.754166666666666,
          9.785416666666666,
          12.954166666666667,
          15.78888888888889,
          19.75347222222222,
          21.779166666666665,
          23.758333333333333,
          26.78611111111111,
          28.74861111111111,
          33.96875
         ],
         "y": [
          0.0,
          0.4585293283639102,
          0.636543900840892,
          0.4861431656096529,
          0.6082935134395878,
          1.435636125247763,
          0.8437391120552973,
          0.9381119596316765,
          0.6460195431459286,
          0.6513272764393976,
          0.7633265427233826,
          0.6293855919645694,
          0.9850393901029878
         ],
         "type": "scatter"
        },
        {
         "marker": {
          "color": "cyan"
         },
         "mode": "markers",
         "name": "GT4.2 Data Points",
         "x": [
          0.0,
          1.0243055555555556,
          5.820138888888889,
          7.754166666666666,
          9.785416666666666,
          12.954166666666667,
          15.78888888888889,
          19.75347222222222,
          21.779166666666665,
          23.758333333333333,
          26.78611111111111,
          28.74861111111111,
          33.96875
         ],
         "y": [
          0.0,
          0.4585293283639102,
          0.636543900840892,
          0.4861431656096529,
          0.6082935134395878,
          1.435636125247763,
          0.8437391120552973,
          0.9381119596316765,
          0.6460195431459286,
          0.6513272764393976,
          0.7633265427233826,
          0.6293855919645694,
          0.9850393901029878
         ],
         "type": "scatter"
        },
        {
         "line": {
          "color": "magenta",
          "dash": "solid"
         },
         "mode": "lines",
         "name": "GT5.1",
         "x": [
          0.0,
          2.0131944444444443,
          6.820138888888889,
          8.754166666666666,
          10.789583333333333,
          13.95625,
          16.7875,
          20.752083333333335,
          22.779166666666665,
          24.757638888888888,
          27.785416666666666,
          29.749305555555555,
          34.97152777777778
         ],
         "y": [
          0.0,
          1.309273609148227,
          1.1815248889223184,
          0.7946842419143831,
          1.371218972269844,
          0.730947282482725,
          0.9674642529261732,
          0.7534870296970948,
          1.6734213810177063,
          1.07913243853115,
          0.6101571497135408,
          0.9556988746642966,
          0.8979213108083269
         ],
         "type": "scatter"
        },
        {
         "marker": {
          "color": "magenta"
         },
         "mode": "markers",
         "name": "GT5.1 Data Points",
         "x": [
          0.0,
          2.0131944444444443,
          6.820138888888889,
          8.754166666666666,
          10.789583333333333,
          13.95625,
          16.7875,
          20.752083333333335,
          22.779166666666665,
          24.757638888888888,
          27.785416666666666,
          29.749305555555555,
          34.97152777777778
         ],
         "y": [
          0.0,
          1.309273609148227,
          1.1815248889223184,
          0.7946842419143831,
          1.371218972269844,
          0.730947282482725,
          0.9674642529261732,
          0.7534870296970948,
          1.6734213810177063,
          1.07913243853115,
          0.6101571497135408,
          0.9556988746642966,
          0.8979213108083269
         ],
         "type": "scatter"
        },
        {
         "line": {
          "color": "magenta",
          "dash": "dot"
         },
         "mode": "lines",
         "name": "GT5.2",
         "x": [
          0.0,
          2.0145833333333334,
          6.821527777777778,
          8.755555555555556,
          10.790277777777778,
          13.956944444444444,
          16.788888888888888,
          20.752083333333335,
          22.78263888888889,
          24.763194444444444,
          27.790277777777778,
          29.75,
          34.97291666666667
         ],
         "y": [
          0.0,
          0.7523715068496655,
          1.0056929061535669,
          0.7060499946460862,
          1.2689198886080522,
          1.5162903633771612,
          1.1429889789061944,
          0.7455531393097219,
          1.107024026702497,
          0.5601783416567944,
          0.909658079308093,
          0.5027106505904176,
          0.7596002095659763
         ],
         "type": "scatter"
        },
        {
         "marker": {
          "color": "magenta"
         },
         "mode": "markers",
         "name": "GT5.2 Data Points",
         "x": [
          0.0,
          2.0145833333333334,
          6.821527777777778,
          8.755555555555556,
          10.790277777777778,
          13.956944444444444,
          16.788888888888888,
          20.752083333333335,
          22.78263888888889,
          24.763194444444444,
          27.790277777777778,
          29.75,
          34.97291666666667
         ],
         "y": [
          0.0,
          0.7523715068496655,
          1.0056929061535669,
          0.7060499946460862,
          1.2689198886080522,
          1.5162903633771612,
          1.1429889789061944,
          0.7455531393097219,
          1.107024026702497,
          0.5601783416567944,
          0.909658079308093,
          0.5027106505904176,
          0.7596002095659763
         ],
         "type": "scatter"
        },
        {
         "line": {
          "color": "lime",
          "dash": "solid"
         },
         "mode": "lines",
         "name": "GT6.1",
         "x": [
          0.0,
          1.0229166666666667,
          5.823611111111111,
          7.760416666666667,
          9.790972222222223,
          12.957638888888889,
          15.789583333333333,
          19.752777777777776,
          21.783333333333335,
          23.76388888888889,
          26.790277777777778,
          28.749305555555555,
          33.97222222222222
         ],
         "y": [
          0.0,
          2.9804011758696087,
          1.0080996423748136,
          1.0512323663272138,
          0.9617866174120221,
          0.8550250988030996,
          0.9372038607560987,
          0.903653634632886,
          0.8271695280920803,
          0.9255260359717551,
          0.9374670945154767,
          0.9042091045526714,
          0.9160414722437886
         ],
         "type": "scatter"
        },
        {
         "marker": {
          "color": "lime"
         },
         "mode": "markers",
         "name": "GT6.1 Data Points",
         "x": [
          0.0,
          1.0229166666666667,
          5.823611111111111,
          7.760416666666667,
          9.790972222222223,
          12.957638888888889,
          15.789583333333333,
          19.752777777777776,
          21.783333333333335,
          23.76388888888889,
          26.790277777777778,
          28.749305555555555,
          33.97222222222222
         ],
         "y": [
          0.0,
          2.9804011758696087,
          1.0080996423748136,
          1.0512323663272138,
          0.9617866174120221,
          0.8550250988030996,
          0.9372038607560987,
          0.903653634632886,
          0.8271695280920803,
          0.9255260359717551,
          0.9374670945154767,
          0.9042091045526714,
          0.9160414722437886
         ],
         "type": "scatter"
        },
        {
         "line": {
          "color": "lime",
          "dash": "dot"
         },
         "mode": "lines",
         "name": "GT6.2",
         "x": [
          0.0,
          1.0256944444444445,
          5.825,
          7.761805555555555,
          9.79375,
          12.959722222222222,
          15.790972222222223,
          19.75486111111111,
          21.788888888888888,
          23.76527777777778,
          26.791666666666668,
          28.75625,
          33.975
         ],
         "y": [
          0.0,
          1.727631969959554,
          1.0744281775647075,
          0.9320165307676811,
          0.9287714169572229,
          0.9060123523509639,
          0.8712491678866061,
          0.8165578142771522,
          0.7781750109215961,
          0.7667698299472172,
          0.781712803730641,
          0.7428073576269206,
          0.7567006096338791
         ],
         "type": "scatter"
        },
        {
         "marker": {
          "color": "lime"
         },
         "mode": "markers",
         "name": "GT6.2 Data Points",
         "x": [
          0.0,
          1.0256944444444445,
          5.825,
          7.761805555555555,
          9.79375,
          12.959722222222222,
          15.790972222222223,
          19.75486111111111,
          21.788888888888888,
          23.76527777777778,
          26.791666666666668,
          28.75625,
          33.975
         ],
         "y": [
          0.0,
          1.727631969959554,
          1.0744281775647075,
          0.9320165307676811,
          0.9287714169572229,
          0.9060123523509639,
          0.8712491678866061,
          0.8165578142771522,
          0.7781750109215961,
          0.7667698299472172,
          0.781712803730641,
          0.7428073576269206,
          0.7567006096338791
         ],
         "type": "scatter"
        },
        {
         "line": {
          "color": "gold",
          "dash": "solid"
         },
         "mode": "lines",
         "name": "GT7.1",
         "x": [
          0.0,
          2.0145833333333334,
          6.854166666666667,
          8.763194444444444,
          10.79513888888889,
          13.960416666666667,
          16.792361111111113,
          20.75625,
          22.789583333333333,
          24.766666666666666,
          27.793055555555554,
          29.75625,
          34.97847222222222
         ],
         "y": [
          0.0,
          5.647937510372514,
          2.1096326136663066,
          2.6147193452989343,
          2.0920778599455185,
          0.09194014963495736,
          0.8742612794433777,
          0.9111170728841803,
          0.8240733057379119,
          0.9109603777525446,
          1.2409743995046183,
          0.8645984606796376,
          1.1863942975766282
         ],
         "type": "scatter"
        },
        {
         "marker": {
          "color": "gold"
         },
         "mode": "markers",
         "name": "GT7.1 Data Points",
         "x": [
          0.0,
          2.0145833333333334,
          6.854166666666667,
          8.763194444444444,
          10.79513888888889,
          13.960416666666667,
          16.792361111111113,
          20.75625,
          22.789583333333333,
          24.766666666666666,
          27.793055555555554,
          29.75625,
          34.97847222222222
         ],
         "y": [
          0.0,
          5.647937510372514,
          2.1096326136663066,
          2.6147193452989343,
          2.0920778599455185,
          0.09194014963495736,
          0.8742612794433777,
          0.9111170728841803,
          0.8240733057379119,
          0.9109603777525446,
          1.2409743995046183,
          0.8645984606796376,
          1.1863942975766282
         ],
         "type": "scatter"
        },
        {
         "line": {
          "color": "gold",
          "dash": "dot"
         },
         "mode": "lines",
         "name": "GT7.2",
         "x": [
          0.0,
          1.0256944444444445,
          5.854166666666667,
          7.763888888888889,
          9.79513888888889,
          12.963888888888889,
          15.795833333333333,
          19.75625,
          21.790277777777778,
          23.76597222222222,
          26.79375,
          28.760416666666668,
          33.97847222222222
         ],
         "y": [
          0.0,
          1.7766435295137308,
          1.6938993309024595,
          1.2369457542780933,
          1.4611373175343187,
          1.049559676940686,
          0.8650713360261314,
          0.7902874299796531,
          0.7961967158443943,
          0.8019972693165281,
          0.9002411648327482,
          0.843852006329354,
          0.9120732536612488
         ],
         "type": "scatter"
        },
        {
         "marker": {
          "color": "gold"
         },
         "mode": "markers",
         "name": "GT7.2 Data Points",
         "x": [
          0.0,
          1.0256944444444445,
          5.854166666666667,
          7.763888888888889,
          9.79513888888889,
          12.963888888888889,
          15.795833333333333,
          19.75625,
          21.790277777777778,
          23.76597222222222,
          26.79375,
          28.760416666666668,
          33.97847222222222
         ],
         "y": [
          0.0,
          1.7766435295137308,
          1.6938993309024595,
          1.2369457542780933,
          1.4611373175343187,
          1.049559676940686,
          0.8650713360261314,
          0.7902874299796531,
          0.7961967158443943,
          0.8019972693165281,
          0.9002411648327482,
          0.843852006329354,
          0.9120732536612488
         ],
         "type": "scatter"
        },
        {
         "line": {
          "color": "blue",
          "dash": "solid"
         },
         "mode": "lines",
         "name": "GT8.1",
         "x": [
          0.0,
          1.0277777777777777,
          5.855555555555555,
          7.7652777777777775,
          12.965277777777779,
          15.797222222222222,
          19.761805555555554,
          21.790972222222223,
          23.76736111111111,
          26.79513888888889,
          28.761805555555554,
          33.97986111111111
         ],
         "y": [
          0.0,
          1.0028818010363378,
          1.0547085591979055,
          0.7019514134968873,
          0.8617099017471216,
          0.7860017376673648,
          0.8643006357535422,
          0.6749651810860126,
          0.8540934807073022,
          1.309482851656251,
          0.6834101628638456,
          0.8636561321314838
         ],
         "type": "scatter"
        },
        {
         "marker": {
          "color": "blue"
         },
         "mode": "markers",
         "name": "GT8.1 Data Points",
         "x": [
          0.0,
          1.0277777777777777,
          5.855555555555555,
          7.7652777777777775,
          12.965277777777779,
          15.797222222222222,
          19.761805555555554,
          21.790972222222223,
          23.76736111111111,
          26.79513888888889,
          28.761805555555554,
          33.97986111111111
         ],
         "y": [
          0.0,
          1.0028818010363378,
          1.0547085591979055,
          0.7019514134968873,
          0.8617099017471216,
          0.7860017376673648,
          0.8643006357535422,
          0.6749651810860126,
          0.8540934807073022,
          1.309482851656251,
          0.6834101628638456,
          0.8636561321314838
         ],
         "type": "scatter"
        },
        {
         "line": {
          "color": "blue",
          "dash": "dot"
         },
         "mode": "lines",
         "name": "GT8.2",
         "x": [
          0.0,
          1.0284722222222222,
          5.855555555555555,
          7.7652777777777775,
          12.965277777777779,
          15.797222222222222,
          19.761111111111113,
          21.791666666666668,
          23.768055555555556,
          26.79513888888889,
          28.76597222222222,
          33.980555555555554
         ],
         "y": [
          0.0,
          1.320309714654801,
          0.9939737177751539,
          0.7084983264564969,
          0.8485678483150267,
          0.8152548998959305,
          0.9105972689121355,
          0.73613829634247,
          0.9345139013393025,
          1.2147266698227486,
          0.7027019537910687,
          1.1508778716972914
         ],
         "type": "scatter"
        },
        {
         "marker": {
          "color": "blue"
         },
         "mode": "markers",
         "name": "GT8.2 Data Points",
         "x": [
          0.0,
          1.0284722222222222,
          5.855555555555555,
          7.7652777777777775,
          12.965277777777779,
          15.797222222222222,
          19.761111111111113,
          21.791666666666668,
          23.768055555555556,
          26.79513888888889,
          28.76597222222222,
          33.980555555555554
         ],
         "y": [
          0.0,
          1.320309714654801,
          0.9939737177751539,
          0.7084983264564969,
          0.8485678483150267,
          0.8152548998959305,
          0.9105972689121355,
          0.73613829634247,
          0.9345139013393025,
          1.2147266698227486,
          0.7027019537910687,
          1.1508778716972914
         ],
         "type": "scatter"
        }
       ],
       "layout": {
        "template": {
         "data": {
          "histogram2dcontour": [
           {
            "type": "histogram2dcontour",
            "colorbar": {
             "outlinewidth": 0,
             "ticks": ""
            },
            "colorscale": [
             [
              0.0,
              "#0d0887"
             ],
             [
              0.1111111111111111,
              "#46039f"
             ],
             [
              0.2222222222222222,
              "#7201a8"
             ],
             [
              0.3333333333333333,
              "#9c179e"
             ],
             [
              0.4444444444444444,
              "#bd3786"
             ],
             [
              0.5555555555555556,
              "#d8576b"
             ],
             [
              0.6666666666666666,
              "#ed7953"
             ],
             [
              0.7777777777777778,
              "#fb9f3a"
             ],
             [
              0.8888888888888888,
              "#fdca26"
             ],
             [
              1.0,
              "#f0f921"
             ]
            ]
           }
          ],
          "choropleth": [
           {
            "type": "choropleth",
            "colorbar": {
             "outlinewidth": 0,
             "ticks": ""
            }
           }
          ],
          "histogram2d": [
           {
            "type": "histogram2d",
            "colorbar": {
             "outlinewidth": 0,
             "ticks": ""
            },
            "colorscale": [
             [
              0.0,
              "#0d0887"
             ],
             [
              0.1111111111111111,
              "#46039f"
             ],
             [
              0.2222222222222222,
              "#7201a8"
             ],
             [
              0.3333333333333333,
              "#9c179e"
             ],
             [
              0.4444444444444444,
              "#bd3786"
             ],
             [
              0.5555555555555556,
              "#d8576b"
             ],
             [
              0.6666666666666666,
              "#ed7953"
             ],
             [
              0.7777777777777778,
              "#fb9f3a"
             ],
             [
              0.8888888888888888,
              "#fdca26"
             ],
             [
              1.0,
              "#f0f921"
             ]
            ]
           }
          ],
          "heatmap": [
           {
            "type": "heatmap",
            "colorbar": {
             "outlinewidth": 0,
             "ticks": ""
            },
            "colorscale": [
             [
              0.0,
              "#0d0887"
             ],
             [
              0.1111111111111111,
              "#46039f"
             ],
             [
              0.2222222222222222,
              "#7201a8"
             ],
             [
              0.3333333333333333,
              "#9c179e"
             ],
             [
              0.4444444444444444,
              "#bd3786"
             ],
             [
              0.5555555555555556,
              "#d8576b"
             ],
             [
              0.6666666666666666,
              "#ed7953"
             ],
             [
              0.7777777777777778,
              "#fb9f3a"
             ],
             [
              0.8888888888888888,
              "#fdca26"
             ],
             [
              1.0,
              "#f0f921"
             ]
            ]
           }
          ],
          "heatmapgl": [
           {
            "type": "heatmapgl",
            "colorbar": {
             "outlinewidth": 0,
             "ticks": ""
            },
            "colorscale": [
             [
              0.0,
              "#0d0887"
             ],
             [
              0.1111111111111111,
              "#46039f"
             ],
             [
              0.2222222222222222,
              "#7201a8"
             ],
             [
              0.3333333333333333,
              "#9c179e"
             ],
             [
              0.4444444444444444,
              "#bd3786"
             ],
             [
              0.5555555555555556,
              "#d8576b"
             ],
             [
              0.6666666666666666,
              "#ed7953"
             ],
             [
              0.7777777777777778,
              "#fb9f3a"
             ],
             [
              0.8888888888888888,
              "#fdca26"
             ],
             [
              1.0,
              "#f0f921"
             ]
            ]
           }
          ],
          "contourcarpet": [
           {
            "type": "contourcarpet",
            "colorbar": {
             "outlinewidth": 0,
             "ticks": ""
            }
           }
          ],
          "contour": [
           {
            "type": "contour",
            "colorbar": {
             "outlinewidth": 0,
             "ticks": ""
            },
            "colorscale": [
             [
              0.0,
              "#0d0887"
             ],
             [
              0.1111111111111111,
              "#46039f"
             ],
             [
              0.2222222222222222,
              "#7201a8"
             ],
             [
              0.3333333333333333,
              "#9c179e"
             ],
             [
              0.4444444444444444,
              "#bd3786"
             ],
             [
              0.5555555555555556,
              "#d8576b"
             ],
             [
              0.6666666666666666,
              "#ed7953"
             ],
             [
              0.7777777777777778,
              "#fb9f3a"
             ],
             [
              0.8888888888888888,
              "#fdca26"
             ],
             [
              1.0,
              "#f0f921"
             ]
            ]
           }
          ],
          "surface": [
           {
            "type": "surface",
            "colorbar": {
             "outlinewidth": 0,
             "ticks": ""
            },
            "colorscale": [
             [
              0.0,
              "#0d0887"
             ],
             [
              0.1111111111111111,
              "#46039f"
             ],
             [
              0.2222222222222222,
              "#7201a8"
             ],
             [
              0.3333333333333333,
              "#9c179e"
             ],
             [
              0.4444444444444444,
              "#bd3786"
             ],
             [
              0.5555555555555556,
              "#d8576b"
             ],
             [
              0.6666666666666666,
              "#ed7953"
             ],
             [
              0.7777777777777778,
              "#fb9f3a"
             ],
             [
              0.8888888888888888,
              "#fdca26"
             ],
             [
              1.0,
              "#f0f921"
             ]
            ]
           }
          ],
          "mesh3d": [
           {
            "type": "mesh3d",
            "colorbar": {
             "outlinewidth": 0,
             "ticks": ""
            }
           }
          ],
          "scatter": [
           {
            "marker": {
             "line": {
              "color": "#283442"
             }
            },
            "type": "scatter"
           }
          ],
          "parcoords": [
           {
            "type": "parcoords",
            "line": {
             "colorbar": {
              "outlinewidth": 0,
              "ticks": ""
             }
            }
           }
          ],
          "scatterpolargl": [
           {
            "type": "scatterpolargl",
            "marker": {
             "colorbar": {
              "outlinewidth": 0,
              "ticks": ""
             }
            }
           }
          ],
          "bar": [
           {
            "error_x": {
             "color": "#f2f5fa"
            },
            "error_y": {
             "color": "#f2f5fa"
            },
            "marker": {
             "line": {
              "color": "rgb(17,17,17)",
              "width": 0.5
             },
             "pattern": {
              "fillmode": "overlay",
              "size": 10,
              "solidity": 0.2
             }
            },
            "type": "bar"
           }
          ],
          "scattergeo": [
           {
            "type": "scattergeo",
            "marker": {
             "colorbar": {
              "outlinewidth": 0,
              "ticks": ""
             }
            }
           }
          ],
          "scatterpolar": [
           {
            "type": "scatterpolar",
            "marker": {
             "colorbar": {
              "outlinewidth": 0,
              "ticks": ""
             }
            }
           }
          ],
          "histogram": [
           {
            "marker": {
             "pattern": {
              "fillmode": "overlay",
              "size": 10,
              "solidity": 0.2
             }
            },
            "type": "histogram"
           }
          ],
          "scattergl": [
           {
            "marker": {
             "line": {
              "color": "#283442"
             }
            },
            "type": "scattergl"
           }
          ],
          "scatter3d": [
           {
            "type": "scatter3d",
            "line": {
             "colorbar": {
              "outlinewidth": 0,
              "ticks": ""
             }
            },
            "marker": {
             "colorbar": {
              "outlinewidth": 0,
              "ticks": ""
             }
            }
           }
          ],
          "scattermapbox": [
           {
            "type": "scattermapbox",
            "marker": {
             "colorbar": {
              "outlinewidth": 0,
              "ticks": ""
             }
            }
           }
          ],
          "scatterternary": [
           {
            "type": "scatterternary",
            "marker": {
             "colorbar": {
              "outlinewidth": 0,
              "ticks": ""
             }
            }
           }
          ],
          "scattercarpet": [
           {
            "type": "scattercarpet",
            "marker": {
             "colorbar": {
              "outlinewidth": 0,
              "ticks": ""
             }
            }
           }
          ],
          "carpet": [
           {
            "aaxis": {
             "endlinecolor": "#A2B1C6",
             "gridcolor": "#506784",
             "linecolor": "#506784",
             "minorgridcolor": "#506784",
             "startlinecolor": "#A2B1C6"
            },
            "baxis": {
             "endlinecolor": "#A2B1C6",
             "gridcolor": "#506784",
             "linecolor": "#506784",
             "minorgridcolor": "#506784",
             "startlinecolor": "#A2B1C6"
            },
            "type": "carpet"
           }
          ],
          "table": [
           {
            "cells": {
             "fill": {
              "color": "#506784"
             },
             "line": {
              "color": "rgb(17,17,17)"
             }
            },
            "header": {
             "fill": {
              "color": "#2a3f5f"
             },
             "line": {
              "color": "rgb(17,17,17)"
             }
            },
            "type": "table"
           }
          ],
          "barpolar": [
           {
            "marker": {
             "line": {
              "color": "rgb(17,17,17)",
              "width": 0.5
             },
             "pattern": {
              "fillmode": "overlay",
              "size": 10,
              "solidity": 0.2
             }
            },
            "type": "barpolar"
           }
          ],
          "pie": [
           {
            "automargin": true,
            "type": "pie"
           }
          ]
         },
         "layout": {
          "autotypenumbers": "strict",
          "colorway": [
           "#636efa",
           "#EF553B",
           "#00cc96",
           "#ab63fa",
           "#FFA15A",
           "#19d3f3",
           "#FF6692",
           "#B6E880",
           "#FF97FF",
           "#FECB52"
          ],
          "font": {
           "color": "#f2f5fa"
          },
          "hovermode": "closest",
          "hoverlabel": {
           "align": "left"
          },
          "paper_bgcolor": "rgb(17,17,17)",
          "plot_bgcolor": "rgb(17,17,17)",
          "polar": {
           "bgcolor": "rgb(17,17,17)",
           "angularaxis": {
            "gridcolor": "#506784",
            "linecolor": "#506784",
            "ticks": ""
           },
           "radialaxis": {
            "gridcolor": "#506784",
            "linecolor": "#506784",
            "ticks": ""
           }
          },
          "ternary": {
           "bgcolor": "rgb(17,17,17)",
           "aaxis": {
            "gridcolor": "#506784",
            "linecolor": "#506784",
            "ticks": ""
           },
           "baxis": {
            "gridcolor": "#506784",
            "linecolor": "#506784",
            "ticks": ""
           },
           "caxis": {
            "gridcolor": "#506784",
            "linecolor": "#506784",
            "ticks": ""
           }
          },
          "coloraxis": {
           "colorbar": {
            "outlinewidth": 0,
            "ticks": ""
           }
          },
          "colorscale": {
           "sequential": [
            [
             0.0,
             "#0d0887"
            ],
            [
             0.1111111111111111,
             "#46039f"
            ],
            [
             0.2222222222222222,
             "#7201a8"
            ],
            [
             0.3333333333333333,
             "#9c179e"
            ],
            [
             0.4444444444444444,
             "#bd3786"
            ],
            [
             0.5555555555555556,
             "#d8576b"
            ],
            [
             0.6666666666666666,
             "#ed7953"
            ],
            [
             0.7777777777777778,
             "#fb9f3a"
            ],
            [
             0.8888888888888888,
             "#fdca26"
            ],
            [
             1.0,
             "#f0f921"
            ]
           ],
           "sequentialminus": [
            [
             0.0,
             "#0d0887"
            ],
            [
             0.1111111111111111,
             "#46039f"
            ],
            [
             0.2222222222222222,
             "#7201a8"
            ],
            [
             0.3333333333333333,
             "#9c179e"
            ],
            [
             0.4444444444444444,
             "#bd3786"
            ],
            [
             0.5555555555555556,
             "#d8576b"
            ],
            [
             0.6666666666666666,
             "#ed7953"
            ],
            [
             0.7777777777777778,
             "#fb9f3a"
            ],
            [
             0.8888888888888888,
             "#fdca26"
            ],
            [
             1.0,
             "#f0f921"
            ]
           ],
           "diverging": [
            [
             0,
             "#8e0152"
            ],
            [
             0.1,
             "#c51b7d"
            ],
            [
             0.2,
             "#de77ae"
            ],
            [
             0.3,
             "#f1b6da"
            ],
            [
             0.4,
             "#fde0ef"
            ],
            [
             0.5,
             "#f7f7f7"
            ],
            [
             0.6,
             "#e6f5d0"
            ],
            [
             0.7,
             "#b8e186"
            ],
            [
             0.8,
             "#7fbc41"
            ],
            [
             0.9,
             "#4d9221"
            ],
            [
             1,
             "#276419"
            ]
           ]
          },
          "xaxis": {
           "gridcolor": "#283442",
           "linecolor": "#506784",
           "ticks": "",
           "title": {
            "standoff": 15
           },
           "zerolinecolor": "#283442",
           "automargin": true,
           "zerolinewidth": 2
          },
          "yaxis": {
           "gridcolor": "#283442",
           "linecolor": "#506784",
           "ticks": "",
           "title": {
            "standoff": 15
           },
           "zerolinecolor": "#283442",
           "automargin": true,
           "zerolinewidth": 2
          },
          "scene": {
           "xaxis": {
            "backgroundcolor": "rgb(17,17,17)",
            "gridcolor": "#506784",
            "linecolor": "#506784",
            "showbackground": true,
            "ticks": "",
            "zerolinecolor": "#C8D4E3",
            "gridwidth": 2
           },
           "yaxis": {
            "backgroundcolor": "rgb(17,17,17)",
            "gridcolor": "#506784",
            "linecolor": "#506784",
            "showbackground": true,
            "ticks": "",
            "zerolinecolor": "#C8D4E3",
            "gridwidth": 2
           },
           "zaxis": {
            "backgroundcolor": "rgb(17,17,17)",
            "gridcolor": "#506784",
            "linecolor": "#506784",
            "showbackground": true,
            "ticks": "",
            "zerolinecolor": "#C8D4E3",
            "gridwidth": 2
           }
          },
          "shapedefaults": {
           "line": {
            "color": "#f2f5fa"
           }
          },
          "annotationdefaults": {
           "arrowcolor": "#f2f5fa",
           "arrowhead": 0,
           "arrowwidth": 1
          },
          "geo": {
           "bgcolor": "rgb(17,17,17)",
           "landcolor": "rgb(17,17,17)",
           "subunitcolor": "#506784",
           "showland": true,
           "showlakes": true,
           "lakecolor": "rgb(17,17,17)"
          },
          "title": {
           "x": 0.05
          },
          "updatemenudefaults": {
           "bgcolor": "#506784",
           "borderwidth": 0
          },
          "sliderdefaults": {
           "bgcolor": "#C8D4E3",
           "borderwidth": 1,
           "bordercolor": "rgb(17,17,17)",
           "tickwidth": 0
          },
          "mapbox": {
           "style": "dark"
          }
         }
        },
        "shapes": [
         {
          "line": {
           "color": "black",
           "dash": "dash"
          },
          "type": "line",
          "x0": -1,
          "x1": 40,
          "y0": 1,
          "y1": 1
         }
        ],
        "legend": {
         "x": 1.05,
         "y": 1,
         "title": {
          "text": "Legend"
         }
        },
        "margin": {
         "l": 20,
         "r": 20,
         "t": 60,
         "b": 20
        },
        "title": {
         "text": "Ratio O2/CO2"
        },
        "xaxis": {
         "title": {
          "text": "Day"
         }
        },
        "yaxis": {
         "title": {
          "text": "ratio [-]"
         },
         "range": [
          -0.5,
          2
         ]
        },
        "showlegend": true,
        "plot_bgcolor": "grey"
       },
       "config": {
        "plotlyServerURL": "https://plot.ly"
       }
      },
      "text/html": "<div>                            <div id=\"6e337615-51ae-4cc9-a95e-6af5519ca8a7\" class=\"plotly-graph-div\" style=\"height:525px; width:100%;\"></div>            <script type=\"text/javascript\">                require([\"plotly\"], function(Plotly) {                    window.PLOTLYENV=window.PLOTLYENV || {};                                    if (document.getElementById(\"6e337615-51ae-4cc9-a95e-6af5519ca8a7\")) {                    Plotly.newPlot(                        \"6e337615-51ae-4cc9-a95e-6af5519ca8a7\",                        [{\"line\":{\"color\":\"green\",\"dash\":\"solid\"},\"mode\":\"lines\",\"name\":\"GT1.1\",\"x\":[0.0,2.0,6.8180555555555555,8.756944444444445,10.79375,13.963888888888889,16.780555555555555,20.74861111111111,22.786805555555556,24.76875,27.783333333333335,29.756944444444443,34.97847222222222],\"y\":[0.0,6.808472762858926,0.34840115566367996,3.7095378263987686,1.4112591268049521,0.2714472250893865,1.0105185898038616,0.9998626567243883,0.9221770539090672,0.954334366501155,0.9676433296682654,0.8614288031856469,0.7935073739764299],\"type\":\"scatter\"},{\"marker\":{\"color\":\"green\"},\"mode\":\"markers\",\"name\":\"GT1.1 Data Points\",\"x\":[0.0,2.0,6.8180555555555555,8.756944444444445,10.79375,13.963888888888889,16.780555555555555,20.74861111111111,22.786805555555556,24.76875,27.783333333333335,29.756944444444443,34.97847222222222],\"y\":[0.0,6.808472762858926,0.34840115566367996,3.7095378263987686,1.4112591268049521,0.2714472250893865,1.0105185898038616,0.9998626567243883,0.9221770539090672,0.954334366501155,0.9676433296682654,0.8614288031856469,0.7935073739764299],\"type\":\"scatter\"},{\"line\":{\"color\":\"green\",\"dash\":\"dot\"},\"mode\":\"lines\",\"name\":\"GT1.2\",\"x\":[0.0,1.9902777777777778,6.805555555555555,8.745138888888889,10.78125,13.95138888888889,16.783333333333335,20.73611111111111,22.773611111111112,24.755555555555556,27.784027777777776,29.744444444444444,34.96597222222222],\"y\":[0.0,22.89847319532358,0.40696119473609976,6.110395353886036,1.7584083852338062,0.026026060261634808,1.150330560851035,1.1005835791248062,1.037406628331805,1.1116367535782528,1.1132284571081912,0.967337776962666,1.0452241367312187],\"type\":\"scatter\"},{\"marker\":{\"color\":\"green\"},\"mode\":\"markers\",\"name\":\"GT1.2 Data Points\",\"x\":[0.0,1.9902777777777778,6.805555555555555,8.745138888888889,10.78125,13.95138888888889,16.783333333333335,20.73611111111111,22.773611111111112,24.755555555555556,27.784027777777776,29.744444444444444,34.96597222222222],\"y\":[0.0,22.89847319532358,0.40696119473609976,6.110395353886036,1.7584083852338062,0.026026060261634808,1.150330560851035,1.1005835791248062,1.037406628331805,1.1116367535782528,1.1132284571081912,0.967337776962666,1.0452241367312187],\"type\":\"scatter\"},{\"line\":{\"color\":\"orange\",\"dash\":\"solid\"},\"mode\":\"lines\",\"name\":\"GT2.1\",\"x\":[0.0,1.9909722222222221,6.805555555555555,8.744444444444444,10.738888888888889,13.950694444444444,16.781944444444445,20.74375,22.772916666666667,24.754166666666666,27.783333333333335,29.743055555555557,34.96527777777778],\"y\":[0.0,20.38491988127941,0.22864667432414756,4.731009380605716,1.692564303782729,-0.1029663706959156,1.2993158794698767,1.1809903305963307,1.107216998958056,1.1260921909498696,1.0642925206009872,0.9978321485450524,0.9994234539161415],\"type\":\"scatter\"},{\"marker\":{\"color\":\"orange\"},\"mode\":\"markers\",\"name\":\"GT2.1 Data Points\",\"x\":[0.0,1.9909722222222221,6.805555555555555,8.744444444444444,10.738888888888889,13.950694444444444,16.781944444444445,20.74375,22.772916666666667,24.754166666666666,27.783333333333335,29.743055555555557,34.96527777777778],\"y\":[0.0,20.38491988127941,0.22864667432414756,4.731009380605716,1.692564303782729,-0.1029663706959156,1.2993158794698767,1.1809903305963307,1.107216998958056,1.1260921909498696,1.0642925206009872,0.9978321485450524,0.9994234539161415],\"type\":\"scatter\"},{\"line\":{\"color\":\"orange\",\"dash\":\"dot\"},\"mode\":\"lines\",\"name\":\"GT2.2\",\"x\":[0.0,1.992361111111111,6.811805555555556,8.744444444444444,10.780555555555555,13.95,16.781944444444445,20.74375,22.775,24.754166666666666,27.77638888888889,29.744444444444444,34.96458333333333],\"y\":[0.0,7.8594155797103,2.384327878807881,5.446675955497311,2.660743726587427,1.9587165391505985,2.0796001181576633,1.7488377503275792,2.1851037401543976,1.6598989885491615,1.5844294755190147,1.4544101106962504,1.305233017337235],\"type\":\"scatter\"},{\"marker\":{\"color\":\"orange\"},\"mode\":\"markers\",\"name\":\"GT2.2 Data Points\",\"x\":[0.0,1.992361111111111,6.811805555555556,8.744444444444444,10.780555555555555,13.95,16.781944444444445,20.74375,22.775,24.754166666666666,27.77638888888889,29.744444444444444,34.96458333333333],\"y\":[0.0,7.8594155797103,2.384327878807881,5.446675955497311,2.660743726587427,1.9587165391505985,2.0796001181576633,1.7488377503275792,2.1851037401543976,1.6598989885491615,1.5844294755190147,1.4544101106962504,1.305233017337235],\"type\":\"scatter\"},{\"line\":{\"color\":\"purple\",\"dash\":\"solid\"},\"mode\":\"lines\",\"name\":\"GT3.1\",\"x\":[0.0,2.0118055555555556,6.8125,8.745138888888889,10.78125,13.950694444444444,16.781944444444445,20.74375,22.775694444444444,24.75486111111111,27.78263888888889,29.744444444444444,34.96527777777778],\"y\":[0.0,2.5260282110272962,1.4558829199213434,1.2883518604048243,1.5313563951760791,2.0816196367882362,1.5844032384912206,1.4298582345740272,1.3588008522706767,1.9301700239352706,1.2615554791955568,1.2988208118418085,1.0680094910508904],\"type\":\"scatter\"},{\"marker\":{\"color\":\"purple\"},\"mode\":\"markers\",\"name\":\"GT3.1 Data Points\",\"x\":[0.0,2.0118055555555556,6.8125,8.745138888888889,10.78125,13.950694444444444,16.781944444444445,20.74375,22.775694444444444,24.75486111111111,27.78263888888889,29.744444444444444,34.96527777777778],\"y\":[0.0,2.5260282110272962,1.4558829199213434,1.2883518604048243,1.5313563951760791,2.0816196367882362,1.5844032384912206,1.4298582345740272,1.3588008522706767,1.9301700239352706,1.2615554791955568,1.2988208118418085,1.0680094910508904],\"type\":\"scatter\"},{\"line\":{\"color\":\"purple\",\"dash\":\"dot\"},\"mode\":\"lines\",\"name\":\"GT3.2\",\"x\":[0.0,2.0131944444444443,6.813194444444444,8.746527777777779,10.783333333333333,13.95138888888889,16.783333333333335,20.744444444444444,22.77638888888889,24.755555555555556,27.783333333333335,29.74513888888889,34.96597222222222],\"y\":[0.0,3.433708189922514,1.4678887260435307,1.209254210674993,1.3416341980331754,1.899908039065621,1.314105679132232,1.2611193560309046,1.2377717198094518,1.0606892909877037,0.9306092058223366,0.8315292399524445,0.6993949001782607],\"type\":\"scatter\"},{\"marker\":{\"color\":\"purple\"},\"mode\":\"markers\",\"name\":\"GT3.2 Data Points\",\"x\":[0.0,2.0131944444444443,6.813194444444444,8.746527777777779,10.783333333333333,13.95138888888889,16.783333333333335,20.744444444444444,22.77638888888889,24.755555555555556,27.783333333333335,29.74513888888889,34.96597222222222],\"y\":[0.0,3.433708189922514,1.4678887260435307,1.209254210674993,1.3416341980331754,1.899908039065621,1.314105679132232,1.2611193560309046,1.2377717198094518,1.0606892909877037,0.9306092058223366,0.8315292399524445,0.6993949001782607],\"type\":\"scatter\"},{\"line\":{\"color\":\"cyan\",\"dash\":\"solid\"},\"mode\":\"lines\",\"name\":\"GT4.1\",\"x\":[0.0,1.0222222222222221,5.81875,7.753472222222222,9.784722222222221,12.952777777777778,15.784027777777778,19.747916666666665,21.777083333333334,23.756944444444443,26.78472222222222,28.747916666666665,33.96944444444444],\"y\":[0.0,0.580965484419541,0.6744646979305956,0.5447546405307194,0.6286583015975615,1.3772204999360003,0.8534204011794337,0.9527128977185305,0.660807784270266,0.6775613040391854,0.8172250122253372,0.7008612927891004,0.9810564699656271],\"type\":\"scatter\"},{\"marker\":{\"color\":\"cyan\"},\"mode\":\"markers\",\"name\":\"GT4.1 Data Points\",\"x\":[0.0,1.0222222222222221,5.81875,7.753472222222222,9.784722222222221,12.952777777777778,15.784027777777778,19.747916666666665,21.777083333333334,23.756944444444443,26.78472222222222,28.747916666666665,33.96944444444444],\"y\":[0.0,0.580965484419541,0.6744646979305956,0.5447546405307194,0.6286583015975615,1.3772204999360003,0.8534204011794337,0.9527128977185305,0.660807784270266,0.6775613040391854,0.8172250122253372,0.7008612927891004,0.9810564699656271],\"type\":\"scatter\"},{\"line\":{\"color\":\"cyan\",\"dash\":\"dot\"},\"mode\":\"lines\",\"name\":\"GT4.2\",\"x\":[0.0,1.0243055555555556,5.820138888888889,7.754166666666666,9.785416666666666,12.954166666666667,15.78888888888889,19.75347222222222,21.779166666666665,23.758333333333333,26.78611111111111,28.74861111111111,33.96875],\"y\":[0.0,0.4585293283639102,0.636543900840892,0.4861431656096529,0.6082935134395878,1.435636125247763,0.8437391120552973,0.9381119596316765,0.6460195431459286,0.6513272764393976,0.7633265427233826,0.6293855919645694,0.9850393901029878],\"type\":\"scatter\"},{\"marker\":{\"color\":\"cyan\"},\"mode\":\"markers\",\"name\":\"GT4.2 Data Points\",\"x\":[0.0,1.0243055555555556,5.820138888888889,7.754166666666666,9.785416666666666,12.954166666666667,15.78888888888889,19.75347222222222,21.779166666666665,23.758333333333333,26.78611111111111,28.74861111111111,33.96875],\"y\":[0.0,0.4585293283639102,0.636543900840892,0.4861431656096529,0.6082935134395878,1.435636125247763,0.8437391120552973,0.9381119596316765,0.6460195431459286,0.6513272764393976,0.7633265427233826,0.6293855919645694,0.9850393901029878],\"type\":\"scatter\"},{\"line\":{\"color\":\"magenta\",\"dash\":\"solid\"},\"mode\":\"lines\",\"name\":\"GT5.1\",\"x\":[0.0,2.0131944444444443,6.820138888888889,8.754166666666666,10.789583333333333,13.95625,16.7875,20.752083333333335,22.779166666666665,24.757638888888888,27.785416666666666,29.749305555555555,34.97152777777778],\"y\":[0.0,1.309273609148227,1.1815248889223184,0.7946842419143831,1.371218972269844,0.730947282482725,0.9674642529261732,0.7534870296970948,1.6734213810177063,1.07913243853115,0.6101571497135408,0.9556988746642966,0.8979213108083269],\"type\":\"scatter\"},{\"marker\":{\"color\":\"magenta\"},\"mode\":\"markers\",\"name\":\"GT5.1 Data Points\",\"x\":[0.0,2.0131944444444443,6.820138888888889,8.754166666666666,10.789583333333333,13.95625,16.7875,20.752083333333335,22.779166666666665,24.757638888888888,27.785416666666666,29.749305555555555,34.97152777777778],\"y\":[0.0,1.309273609148227,1.1815248889223184,0.7946842419143831,1.371218972269844,0.730947282482725,0.9674642529261732,0.7534870296970948,1.6734213810177063,1.07913243853115,0.6101571497135408,0.9556988746642966,0.8979213108083269],\"type\":\"scatter\"},{\"line\":{\"color\":\"magenta\",\"dash\":\"dot\"},\"mode\":\"lines\",\"name\":\"GT5.2\",\"x\":[0.0,2.0145833333333334,6.821527777777778,8.755555555555556,10.790277777777778,13.956944444444444,16.788888888888888,20.752083333333335,22.78263888888889,24.763194444444444,27.790277777777778,29.75,34.97291666666667],\"y\":[0.0,0.7523715068496655,1.0056929061535669,0.7060499946460862,1.2689198886080522,1.5162903633771612,1.1429889789061944,0.7455531393097219,1.107024026702497,0.5601783416567944,0.909658079308093,0.5027106505904176,0.7596002095659763],\"type\":\"scatter\"},{\"marker\":{\"color\":\"magenta\"},\"mode\":\"markers\",\"name\":\"GT5.2 Data Points\",\"x\":[0.0,2.0145833333333334,6.821527777777778,8.755555555555556,10.790277777777778,13.956944444444444,16.788888888888888,20.752083333333335,22.78263888888889,24.763194444444444,27.790277777777778,29.75,34.97291666666667],\"y\":[0.0,0.7523715068496655,1.0056929061535669,0.7060499946460862,1.2689198886080522,1.5162903633771612,1.1429889789061944,0.7455531393097219,1.107024026702497,0.5601783416567944,0.909658079308093,0.5027106505904176,0.7596002095659763],\"type\":\"scatter\"},{\"line\":{\"color\":\"lime\",\"dash\":\"solid\"},\"mode\":\"lines\",\"name\":\"GT6.1\",\"x\":[0.0,1.0229166666666667,5.823611111111111,7.760416666666667,9.790972222222223,12.957638888888889,15.789583333333333,19.752777777777776,21.783333333333335,23.76388888888889,26.790277777777778,28.749305555555555,33.97222222222222],\"y\":[0.0,2.9804011758696087,1.0080996423748136,1.0512323663272138,0.9617866174120221,0.8550250988030996,0.9372038607560987,0.903653634632886,0.8271695280920803,0.9255260359717551,0.9374670945154767,0.9042091045526714,0.9160414722437886],\"type\":\"scatter\"},{\"marker\":{\"color\":\"lime\"},\"mode\":\"markers\",\"name\":\"GT6.1 Data Points\",\"x\":[0.0,1.0229166666666667,5.823611111111111,7.760416666666667,9.790972222222223,12.957638888888889,15.789583333333333,19.752777777777776,21.783333333333335,23.76388888888889,26.790277777777778,28.749305555555555,33.97222222222222],\"y\":[0.0,2.9804011758696087,1.0080996423748136,1.0512323663272138,0.9617866174120221,0.8550250988030996,0.9372038607560987,0.903653634632886,0.8271695280920803,0.9255260359717551,0.9374670945154767,0.9042091045526714,0.9160414722437886],\"type\":\"scatter\"},{\"line\":{\"color\":\"lime\",\"dash\":\"dot\"},\"mode\":\"lines\",\"name\":\"GT6.2\",\"x\":[0.0,1.0256944444444445,5.825,7.761805555555555,9.79375,12.959722222222222,15.790972222222223,19.75486111111111,21.788888888888888,23.76527777777778,26.791666666666668,28.75625,33.975],\"y\":[0.0,1.727631969959554,1.0744281775647075,0.9320165307676811,0.9287714169572229,0.9060123523509639,0.8712491678866061,0.8165578142771522,0.7781750109215961,0.7667698299472172,0.781712803730641,0.7428073576269206,0.7567006096338791],\"type\":\"scatter\"},{\"marker\":{\"color\":\"lime\"},\"mode\":\"markers\",\"name\":\"GT6.2 Data Points\",\"x\":[0.0,1.0256944444444445,5.825,7.761805555555555,9.79375,12.959722222222222,15.790972222222223,19.75486111111111,21.788888888888888,23.76527777777778,26.791666666666668,28.75625,33.975],\"y\":[0.0,1.727631969959554,1.0744281775647075,0.9320165307676811,0.9287714169572229,0.9060123523509639,0.8712491678866061,0.8165578142771522,0.7781750109215961,0.7667698299472172,0.781712803730641,0.7428073576269206,0.7567006096338791],\"type\":\"scatter\"},{\"line\":{\"color\":\"gold\",\"dash\":\"solid\"},\"mode\":\"lines\",\"name\":\"GT7.1\",\"x\":[0.0,2.0145833333333334,6.854166666666667,8.763194444444444,10.79513888888889,13.960416666666667,16.792361111111113,20.75625,22.789583333333333,24.766666666666666,27.793055555555554,29.75625,34.97847222222222],\"y\":[0.0,5.647937510372514,2.1096326136663066,2.6147193452989343,2.0920778599455185,0.09194014963495736,0.8742612794433777,0.9111170728841803,0.8240733057379119,0.9109603777525446,1.2409743995046183,0.8645984606796376,1.1863942975766282],\"type\":\"scatter\"},{\"marker\":{\"color\":\"gold\"},\"mode\":\"markers\",\"name\":\"GT7.1 Data Points\",\"x\":[0.0,2.0145833333333334,6.854166666666667,8.763194444444444,10.79513888888889,13.960416666666667,16.792361111111113,20.75625,22.789583333333333,24.766666666666666,27.793055555555554,29.75625,34.97847222222222],\"y\":[0.0,5.647937510372514,2.1096326136663066,2.6147193452989343,2.0920778599455185,0.09194014963495736,0.8742612794433777,0.9111170728841803,0.8240733057379119,0.9109603777525446,1.2409743995046183,0.8645984606796376,1.1863942975766282],\"type\":\"scatter\"},{\"line\":{\"color\":\"gold\",\"dash\":\"dot\"},\"mode\":\"lines\",\"name\":\"GT7.2\",\"x\":[0.0,1.0256944444444445,5.854166666666667,7.763888888888889,9.79513888888889,12.963888888888889,15.795833333333333,19.75625,21.790277777777778,23.76597222222222,26.79375,28.760416666666668,33.97847222222222],\"y\":[0.0,1.7766435295137308,1.6938993309024595,1.2369457542780933,1.4611373175343187,1.049559676940686,0.8650713360261314,0.7902874299796531,0.7961967158443943,0.8019972693165281,0.9002411648327482,0.843852006329354,0.9120732536612488],\"type\":\"scatter\"},{\"marker\":{\"color\":\"gold\"},\"mode\":\"markers\",\"name\":\"GT7.2 Data Points\",\"x\":[0.0,1.0256944444444445,5.854166666666667,7.763888888888889,9.79513888888889,12.963888888888889,15.795833333333333,19.75625,21.790277777777778,23.76597222222222,26.79375,28.760416666666668,33.97847222222222],\"y\":[0.0,1.7766435295137308,1.6938993309024595,1.2369457542780933,1.4611373175343187,1.049559676940686,0.8650713360261314,0.7902874299796531,0.7961967158443943,0.8019972693165281,0.9002411648327482,0.843852006329354,0.9120732536612488],\"type\":\"scatter\"},{\"line\":{\"color\":\"blue\",\"dash\":\"solid\"},\"mode\":\"lines\",\"name\":\"GT8.1\",\"x\":[0.0,1.0277777777777777,5.855555555555555,7.7652777777777775,12.965277777777779,15.797222222222222,19.761805555555554,21.790972222222223,23.76736111111111,26.79513888888889,28.761805555555554,33.97986111111111],\"y\":[0.0,1.0028818010363378,1.0547085591979055,0.7019514134968873,0.8617099017471216,0.7860017376673648,0.8643006357535422,0.6749651810860126,0.8540934807073022,1.309482851656251,0.6834101628638456,0.8636561321314838],\"type\":\"scatter\"},{\"marker\":{\"color\":\"blue\"},\"mode\":\"markers\",\"name\":\"GT8.1 Data Points\",\"x\":[0.0,1.0277777777777777,5.855555555555555,7.7652777777777775,12.965277777777779,15.797222222222222,19.761805555555554,21.790972222222223,23.76736111111111,26.79513888888889,28.761805555555554,33.97986111111111],\"y\":[0.0,1.0028818010363378,1.0547085591979055,0.7019514134968873,0.8617099017471216,0.7860017376673648,0.8643006357535422,0.6749651810860126,0.8540934807073022,1.309482851656251,0.6834101628638456,0.8636561321314838],\"type\":\"scatter\"},{\"line\":{\"color\":\"blue\",\"dash\":\"dot\"},\"mode\":\"lines\",\"name\":\"GT8.2\",\"x\":[0.0,1.0284722222222222,5.855555555555555,7.7652777777777775,12.965277777777779,15.797222222222222,19.761111111111113,21.791666666666668,23.768055555555556,26.79513888888889,28.76597222222222,33.980555555555554],\"y\":[0.0,1.320309714654801,0.9939737177751539,0.7084983264564969,0.8485678483150267,0.8152548998959305,0.9105972689121355,0.73613829634247,0.9345139013393025,1.2147266698227486,0.7027019537910687,1.1508778716972914],\"type\":\"scatter\"},{\"marker\":{\"color\":\"blue\"},\"mode\":\"markers\",\"name\":\"GT8.2 Data Points\",\"x\":[0.0,1.0284722222222222,5.855555555555555,7.7652777777777775,12.965277777777779,15.797222222222222,19.761111111111113,21.791666666666668,23.768055555555556,26.79513888888889,28.76597222222222,33.980555555555554],\"y\":[0.0,1.320309714654801,0.9939737177751539,0.7084983264564969,0.8485678483150267,0.8152548998959305,0.9105972689121355,0.73613829634247,0.9345139013393025,1.2147266698227486,0.7027019537910687,1.1508778716972914],\"type\":\"scatter\"}],                        {\"template\":{\"data\":{\"histogram2dcontour\":[{\"type\":\"histogram2dcontour\",\"colorbar\":{\"outlinewidth\":0,\"ticks\":\"\"},\"colorscale\":[[0.0,\"#0d0887\"],[0.1111111111111111,\"#46039f\"],[0.2222222222222222,\"#7201a8\"],[0.3333333333333333,\"#9c179e\"],[0.4444444444444444,\"#bd3786\"],[0.5555555555555556,\"#d8576b\"],[0.6666666666666666,\"#ed7953\"],[0.7777777777777778,\"#fb9f3a\"],[0.8888888888888888,\"#fdca26\"],[1.0,\"#f0f921\"]]}],\"choropleth\":[{\"type\":\"choropleth\",\"colorbar\":{\"outlinewidth\":0,\"ticks\":\"\"}}],\"histogram2d\":[{\"type\":\"histogram2d\",\"colorbar\":{\"outlinewidth\":0,\"ticks\":\"\"},\"colorscale\":[[0.0,\"#0d0887\"],[0.1111111111111111,\"#46039f\"],[0.2222222222222222,\"#7201a8\"],[0.3333333333333333,\"#9c179e\"],[0.4444444444444444,\"#bd3786\"],[0.5555555555555556,\"#d8576b\"],[0.6666666666666666,\"#ed7953\"],[0.7777777777777778,\"#fb9f3a\"],[0.8888888888888888,\"#fdca26\"],[1.0,\"#f0f921\"]]}],\"heatmap\":[{\"type\":\"heatmap\",\"colorbar\":{\"outlinewidth\":0,\"ticks\":\"\"},\"colorscale\":[[0.0,\"#0d0887\"],[0.1111111111111111,\"#46039f\"],[0.2222222222222222,\"#7201a8\"],[0.3333333333333333,\"#9c179e\"],[0.4444444444444444,\"#bd3786\"],[0.5555555555555556,\"#d8576b\"],[0.6666666666666666,\"#ed7953\"],[0.7777777777777778,\"#fb9f3a\"],[0.8888888888888888,\"#fdca26\"],[1.0,\"#f0f921\"]]}],\"heatmapgl\":[{\"type\":\"heatmapgl\",\"colorbar\":{\"outlinewidth\":0,\"ticks\":\"\"},\"colorscale\":[[0.0,\"#0d0887\"],[0.1111111111111111,\"#46039f\"],[0.2222222222222222,\"#7201a8\"],[0.3333333333333333,\"#9c179e\"],[0.4444444444444444,\"#bd3786\"],[0.5555555555555556,\"#d8576b\"],[0.6666666666666666,\"#ed7953\"],[0.7777777777777778,\"#fb9f3a\"],[0.8888888888888888,\"#fdca26\"],[1.0,\"#f0f921\"]]}],\"contourcarpet\":[{\"type\":\"contourcarpet\",\"colorbar\":{\"outlinewidth\":0,\"ticks\":\"\"}}],\"contour\":[{\"type\":\"contour\",\"colorbar\":{\"outlinewidth\":0,\"ticks\":\"\"},\"colorscale\":[[0.0,\"#0d0887\"],[0.1111111111111111,\"#46039f\"],[0.2222222222222222,\"#7201a8\"],[0.3333333333333333,\"#9c179e\"],[0.4444444444444444,\"#bd3786\"],[0.5555555555555556,\"#d8576b\"],[0.6666666666666666,\"#ed7953\"],[0.7777777777777778,\"#fb9f3a\"],[0.8888888888888888,\"#fdca26\"],[1.0,\"#f0f921\"]]}],\"surface\":[{\"type\":\"surface\",\"colorbar\":{\"outlinewidth\":0,\"ticks\":\"\"},\"colorscale\":[[0.0,\"#0d0887\"],[0.1111111111111111,\"#46039f\"],[0.2222222222222222,\"#7201a8\"],[0.3333333333333333,\"#9c179e\"],[0.4444444444444444,\"#bd3786\"],[0.5555555555555556,\"#d8576b\"],[0.6666666666666666,\"#ed7953\"],[0.7777777777777778,\"#fb9f3a\"],[0.8888888888888888,\"#fdca26\"],[1.0,\"#f0f921\"]]}],\"mesh3d\":[{\"type\":\"mesh3d\",\"colorbar\":{\"outlinewidth\":0,\"ticks\":\"\"}}],\"scatter\":[{\"marker\":{\"line\":{\"color\":\"#283442\"}},\"type\":\"scatter\"}],\"parcoords\":[{\"type\":\"parcoords\",\"line\":{\"colorbar\":{\"outlinewidth\":0,\"ticks\":\"\"}}}],\"scatterpolargl\":[{\"type\":\"scatterpolargl\",\"marker\":{\"colorbar\":{\"outlinewidth\":0,\"ticks\":\"\"}}}],\"bar\":[{\"error_x\":{\"color\":\"#f2f5fa\"},\"error_y\":{\"color\":\"#f2f5fa\"},\"marker\":{\"line\":{\"color\":\"rgb(17,17,17)\",\"width\":0.5},\"pattern\":{\"fillmode\":\"overlay\",\"size\":10,\"solidity\":0.2}},\"type\":\"bar\"}],\"scattergeo\":[{\"type\":\"scattergeo\",\"marker\":{\"colorbar\":{\"outlinewidth\":0,\"ticks\":\"\"}}}],\"scatterpolar\":[{\"type\":\"scatterpolar\",\"marker\":{\"colorbar\":{\"outlinewidth\":0,\"ticks\":\"\"}}}],\"histogram\":[{\"marker\":{\"pattern\":{\"fillmode\":\"overlay\",\"size\":10,\"solidity\":0.2}},\"type\":\"histogram\"}],\"scattergl\":[{\"marker\":{\"line\":{\"color\":\"#283442\"}},\"type\":\"scattergl\"}],\"scatter3d\":[{\"type\":\"scatter3d\",\"line\":{\"colorbar\":{\"outlinewidth\":0,\"ticks\":\"\"}},\"marker\":{\"colorbar\":{\"outlinewidth\":0,\"ticks\":\"\"}}}],\"scattermapbox\":[{\"type\":\"scattermapbox\",\"marker\":{\"colorbar\":{\"outlinewidth\":0,\"ticks\":\"\"}}}],\"scatterternary\":[{\"type\":\"scatterternary\",\"marker\":{\"colorbar\":{\"outlinewidth\":0,\"ticks\":\"\"}}}],\"scattercarpet\":[{\"type\":\"scattercarpet\",\"marker\":{\"colorbar\":{\"outlinewidth\":0,\"ticks\":\"\"}}}],\"carpet\":[{\"aaxis\":{\"endlinecolor\":\"#A2B1C6\",\"gridcolor\":\"#506784\",\"linecolor\":\"#506784\",\"minorgridcolor\":\"#506784\",\"startlinecolor\":\"#A2B1C6\"},\"baxis\":{\"endlinecolor\":\"#A2B1C6\",\"gridcolor\":\"#506784\",\"linecolor\":\"#506784\",\"minorgridcolor\":\"#506784\",\"startlinecolor\":\"#A2B1C6\"},\"type\":\"carpet\"}],\"table\":[{\"cells\":{\"fill\":{\"color\":\"#506784\"},\"line\":{\"color\":\"rgb(17,17,17)\"}},\"header\":{\"fill\":{\"color\":\"#2a3f5f\"},\"line\":{\"color\":\"rgb(17,17,17)\"}},\"type\":\"table\"}],\"barpolar\":[{\"marker\":{\"line\":{\"color\":\"rgb(17,17,17)\",\"width\":0.5},\"pattern\":{\"fillmode\":\"overlay\",\"size\":10,\"solidity\":0.2}},\"type\":\"barpolar\"}],\"pie\":[{\"automargin\":true,\"type\":\"pie\"}]},\"layout\":{\"autotypenumbers\":\"strict\",\"colorway\":[\"#636efa\",\"#EF553B\",\"#00cc96\",\"#ab63fa\",\"#FFA15A\",\"#19d3f3\",\"#FF6692\",\"#B6E880\",\"#FF97FF\",\"#FECB52\"],\"font\":{\"color\":\"#f2f5fa\"},\"hovermode\":\"closest\",\"hoverlabel\":{\"align\":\"left\"},\"paper_bgcolor\":\"rgb(17,17,17)\",\"plot_bgcolor\":\"rgb(17,17,17)\",\"polar\":{\"bgcolor\":\"rgb(17,17,17)\",\"angularaxis\":{\"gridcolor\":\"#506784\",\"linecolor\":\"#506784\",\"ticks\":\"\"},\"radialaxis\":{\"gridcolor\":\"#506784\",\"linecolor\":\"#506784\",\"ticks\":\"\"}},\"ternary\":{\"bgcolor\":\"rgb(17,17,17)\",\"aaxis\":{\"gridcolor\":\"#506784\",\"linecolor\":\"#506784\",\"ticks\":\"\"},\"baxis\":{\"gridcolor\":\"#506784\",\"linecolor\":\"#506784\",\"ticks\":\"\"},\"caxis\":{\"gridcolor\":\"#506784\",\"linecolor\":\"#506784\",\"ticks\":\"\"}},\"coloraxis\":{\"colorbar\":{\"outlinewidth\":0,\"ticks\":\"\"}},\"colorscale\":{\"sequential\":[[0.0,\"#0d0887\"],[0.1111111111111111,\"#46039f\"],[0.2222222222222222,\"#7201a8\"],[0.3333333333333333,\"#9c179e\"],[0.4444444444444444,\"#bd3786\"],[0.5555555555555556,\"#d8576b\"],[0.6666666666666666,\"#ed7953\"],[0.7777777777777778,\"#fb9f3a\"],[0.8888888888888888,\"#fdca26\"],[1.0,\"#f0f921\"]],\"sequentialminus\":[[0.0,\"#0d0887\"],[0.1111111111111111,\"#46039f\"],[0.2222222222222222,\"#7201a8\"],[0.3333333333333333,\"#9c179e\"],[0.4444444444444444,\"#bd3786\"],[0.5555555555555556,\"#d8576b\"],[0.6666666666666666,\"#ed7953\"],[0.7777777777777778,\"#fb9f3a\"],[0.8888888888888888,\"#fdca26\"],[1.0,\"#f0f921\"]],\"diverging\":[[0,\"#8e0152\"],[0.1,\"#c51b7d\"],[0.2,\"#de77ae\"],[0.3,\"#f1b6da\"],[0.4,\"#fde0ef\"],[0.5,\"#f7f7f7\"],[0.6,\"#e6f5d0\"],[0.7,\"#b8e186\"],[0.8,\"#7fbc41\"],[0.9,\"#4d9221\"],[1,\"#276419\"]]},\"xaxis\":{\"gridcolor\":\"#283442\",\"linecolor\":\"#506784\",\"ticks\":\"\",\"title\":{\"standoff\":15},\"zerolinecolor\":\"#283442\",\"automargin\":true,\"zerolinewidth\":2},\"yaxis\":{\"gridcolor\":\"#283442\",\"linecolor\":\"#506784\",\"ticks\":\"\",\"title\":{\"standoff\":15},\"zerolinecolor\":\"#283442\",\"automargin\":true,\"zerolinewidth\":2},\"scene\":{\"xaxis\":{\"backgroundcolor\":\"rgb(17,17,17)\",\"gridcolor\":\"#506784\",\"linecolor\":\"#506784\",\"showbackground\":true,\"ticks\":\"\",\"zerolinecolor\":\"#C8D4E3\",\"gridwidth\":2},\"yaxis\":{\"backgroundcolor\":\"rgb(17,17,17)\",\"gridcolor\":\"#506784\",\"linecolor\":\"#506784\",\"showbackground\":true,\"ticks\":\"\",\"zerolinecolor\":\"#C8D4E3\",\"gridwidth\":2},\"zaxis\":{\"backgroundcolor\":\"rgb(17,17,17)\",\"gridcolor\":\"#506784\",\"linecolor\":\"#506784\",\"showbackground\":true,\"ticks\":\"\",\"zerolinecolor\":\"#C8D4E3\",\"gridwidth\":2}},\"shapedefaults\":{\"line\":{\"color\":\"#f2f5fa\"}},\"annotationdefaults\":{\"arrowcolor\":\"#f2f5fa\",\"arrowhead\":0,\"arrowwidth\":1},\"geo\":{\"bgcolor\":\"rgb(17,17,17)\",\"landcolor\":\"rgb(17,17,17)\",\"subunitcolor\":\"#506784\",\"showland\":true,\"showlakes\":true,\"lakecolor\":\"rgb(17,17,17)\"},\"title\":{\"x\":0.05},\"updatemenudefaults\":{\"bgcolor\":\"#506784\",\"borderwidth\":0},\"sliderdefaults\":{\"bgcolor\":\"#C8D4E3\",\"borderwidth\":1,\"bordercolor\":\"rgb(17,17,17)\",\"tickwidth\":0},\"mapbox\":{\"style\":\"dark\"}}},\"shapes\":[{\"line\":{\"color\":\"black\",\"dash\":\"dash\"},\"type\":\"line\",\"x0\":-1,\"x1\":40,\"y0\":1,\"y1\":1}],\"legend\":{\"x\":1.05,\"y\":1,\"title\":{\"text\":\"Legend\"}},\"margin\":{\"l\":20,\"r\":20,\"t\":60,\"b\":20},\"title\":{\"text\":\"Ratio O2/CO2\"},\"xaxis\":{\"title\":{\"text\":\"Day\"}},\"yaxis\":{\"title\":{\"text\":\"ratio [-]\"},\"range\":[-0.5,2]},\"showlegend\":true,\"plot_bgcolor\":\"grey\"},                        {\"responsive\": true}                    ).then(function(){\n                            \nvar gd = document.getElementById('6e337615-51ae-4cc9-a95e-6af5519ca8a7');\nvar x = new MutationObserver(function (mutations, observer) {{\n        var display = window.getComputedStyle(gd).display;\n        if (!display || display === 'none') {{\n            console.log([gd, 'removed!']);\n            Plotly.purge(gd);\n            observer.disconnect();\n        }}\n}});\n\n// Listen for the removal of the full notebook cells\nvar notebookContainer = gd.closest('#notebook-container');\nif (notebookContainer) {{\n    x.observe(notebookContainer, {childList: true});\n}}\n\n// Listen for the clearing of the current output cell\nvar outputEl = gd.closest('.output');\nif (outputEl) {{\n    x.observe(outputEl, {childList: true});\n}}\n\n                        })                };                });            </script>        </div>"
     },
     "metadata": {},
     "output_type": "display_data"
    }
   ],
   "source": [
    "import plotly.graph_objects as go\n",
    "\n",
    "colors = ['green', 'green', 'orange', 'orange', 'purple', 'purple', 'cyan', 'cyan',\n",
    "          'magenta', 'magenta', 'lime', 'lime', 'gold', 'gold', 'blue', 'blue']\n",
    "line_styles = [\"solid\", \"dot\", \"solid\", \"dot\", \"solid\", \"dot\", \"solid\", \"dot\",\n",
    "               \"solid\", \"dot\", \"solid\", \"dot\", \"solid\", \"dot\", \"solid\", \"dot\"]\n",
    "\n",
    "\n",
    "fig = go.Figure()\n",
    "\n",
    "for color, sheet_name, line_style in zip(colors, sheet_names_samples, line_styles):\n",
    "    df = dict_data_frames[sheet_name]\n",
    "\n",
    "    # Drop the rows where 'CumulativeColumn' is NaN\n",
    "    df_dropped = df.dropna(subset=['Ratio O2/CO2'])\n",
    "\n",
    "    # Plot the line\n",
    "    fig.add_trace(\n",
    "        go.Scatter(\n",
    "            x=df_dropped['Day'],\n",
    "            y=df_dropped['Ratio O2/CO2'],\n",
    "            mode='lines',\n",
    "            name=f'{sheet_name}',\n",
    "            line=dict(color=color, dash=line_style)\n",
    "        )\n",
    "    )\n",
    "\n",
    "    # Plot the data points\n",
    "    fig.add_trace(\n",
    "        go.Scatter(\n",
    "            x=df_dropped['Day'],\n",
    "            y=df_dropped['Ratio O2/CO2'],\n",
    "            mode='markers',\n",
    "            name=f'{sheet_name} Data Points',\n",
    "            marker=dict(color=color)\n",
    "        )\n",
    "    )\n",
    "\n",
    "# Add a trace for y=1 line\n",
    "fig.add_shape(\n",
    "    type='line',\n",
    "    x0=-1,  # Start the line at the minimum x-value\n",
    "    y0=1,\n",
    "    x1=40,  # Extend the line to the maximum x-value\n",
    "    y1=1,\n",
    "    line=dict(color='black', dash='dash')  # Customize the line color and style\n",
    ")\n",
    "\n",
    "\n",
    "fig.update_layout(\n",
    "    title='Ratio O2/CO2',\n",
    "    xaxis=dict(title='Day'),\n",
    "    yaxis=dict(title='ratio [-]'),\n",
    "    legend=dict(x=1.05, y=1, title='Legend'),\n",
    "    margin=dict(l=20, r=20, t=60, b=20),  # Adjust the margins\n",
    "    showlegend=True,\n",
    "    plot_bgcolor='grey'  # Set the plot background color to white\n",
    ")\n",
    "\n",
    "\n",
    "\n",
    "\n",
    "fig.update_yaxes(range=[-0.5, 2])  # Set y-axis limits\n",
    "\n",
    "fig.show()\n",
    "\n"
   ],
   "metadata": {
    "collapsed": false,
    "ExecuteTime": {
     "end_time": "2023-06-27T10:25:10.010515600Z",
     "start_time": "2023-06-27T10:25:09.873221700Z"
    }
   }
  },
  {
   "cell_type": "code",
   "execution_count": 27,
   "outputs": [
    {
     "name": "stdout",
     "output_type": "stream",
     "text": [
      "{'GT1.1': [], 'GT1.2': [], 'GT2.1': [], 'GT2.2': [], 'GT3.1': [], 'GT3.2': [], 'GT4.1': [], 'GT4.2': [], 'GT5.1': [], 'GT5.2': [7], 'GT6.1': [7], 'GT6.2': [], 'GT7.1': [], 'GT7.2': [], 'GT8.1': [], 'GT8.2': []}\n"
     ]
    }
   ],
   "source": [
    "def check_cumulative_2(df, column_name):\n",
    "    if column_name not in df.columns:\n",
    "        raise ValueError(\"The dataframe does not contain the specified column.\")\n",
    "\n",
    "    false_rows = []\n",
    "    for i in range(1, len(df)):\n",
    "        if df[column_name].iloc[i] < df[column_name].iloc[i - 1]:\n",
    "            false_rows.append(i)\n",
    "\n",
    "    return false_rows\n",
    "\n",
    "\n",
    "dict_incorrect_cum = {}\n",
    "\n",
    "for sheet_name in sheet_names_samples:\n",
    "    incorrect_index_list = check_cumulative_2(df=dict_data_frames[sheet_name], column_name=\"Cgas_DM_cum\")\n",
    "    dict_incorrect_cum[sheet_name] = incorrect_index_list\n",
    "\n",
    "print(dict_incorrect_cum)"
   ],
   "metadata": {
    "collapsed": false,
    "ExecuteTime": {
     "end_time": "2023-06-27T10:21:39.452385500Z",
     "start_time": "2023-06-27T10:21:39.390794700Z"
    }
   }
  },
  {
   "cell_type": "markdown",
   "source": [
    "# Difference in Height"
   ],
   "metadata": {
    "collapsed": false
   }
  },
  {
   "cell_type": "markdown",
   "source": [
    "Drilling 3.1-1:\n",
    "GT1.1 & GT1.2 1.5m-6m\n",
    "GT2.1 & GT2.2 6m-9m\n",
    "GT3.1 & GT3.2 9m-10.5m\n",
    "\n",
    "Drilling 4.1-1:\n",
    "GT4.1 & GT4.2 1.5m-5m\n",
    "\n",
    "Drilling 4.1-2:\n",
    "GT5.1 & GT5.2 1.5m-3.5m\n",
    "\n",
    "Drilling 4.2-3:\n",
    "GT6.1 & GT6.2 1m-6m\n",
    "GT7.1 & GT7.2 6m-12m\n",
    "GT8.1 & GT8.2 12m-18m"
   ],
   "metadata": {
    "collapsed": false
   }
  },
  {
   "cell_type": "markdown",
   "source": [],
   "metadata": {
    "collapsed": false
   }
  },
  {
   "cell_type": "code",
   "execution_count": 28,
   "outputs": [],
   "source": [
    "sample_list_1m_6m = [\"GT1.1\", \"GT1.2\", \"GT4.1\", \"GT4.2\", \"GT5.1\", \"GT5.2\", \"GT6.1\", \"GT6.2\"]\n",
    "sample_list_6m_12m = [\"GT2.1\", \"GT2.2\", \"GT3.1\", \"GT3.2\", \"GT7.1\", \"GT7.2\"]\n",
    "sample_list_12m_18m = [\"GT8.1\", \"GT8.2\"]\n",
    "\n",
    "sample_list_drilling_3_1_1 = [\"GT1.1\", \"GT1.2\", \"GT2.1\", \"GT2.2\", \"GT3.1\", \"GT3.2\"]\n",
    "sample_list_drilling_4_1_1 = [\"GT4.1\", \"GT4.2\"]\n",
    "sample_list_drilling_4_1_2 = [\"GT5.1\", \"GT5.2\"]\n",
    "sample_list_drilling_4_2_3 = [\"GT6.1\", \"GT6.2\", \"GT7.1\", \"GT7.2\", \"GT8.1\", \"GT8.2\"]"
   ],
   "metadata": {
    "collapsed": false,
    "ExecuteTime": {
     "end_time": "2023-06-27T10:21:39.453387200Z",
     "start_time": "2023-06-27T10:21:39.412687500Z"
    }
   }
  },
  {
   "cell_type": "code",
   "execution_count": 44,
   "outputs": [
    {
     "data": {
      "application/vnd.plotly.v1+json": {
       "data": [
        {
         "line": {
          "color": "red",
          "dash": "solid"
         },
         "mode": "lines",
         "name": "GT1.1",
         "x": [
          0.0,
          2.0,
          6.8180555555555555,
          8.756944444444445,
          10.79375,
          13.963888888888889,
          16.780555555555555,
          20.74861111111111,
          22.786805555555556,
          24.76875,
          27.783333333333335,
          29.756944444444443,
          34.97847222222222
         ],
         "y": [
          0.0,
          0.04751356616764886,
          0.07531247377571043,
          0.1279196971976888,
          0.2405030384331635,
          0.2929803897572621,
          0.43030402439163173,
          0.6346310041551407,
          0.755748803466483,
          0.8596862524238786,
          0.9774057873319802,
          1.055203847092021,
          1.2542811133760474
         ],
         "type": "scatter"
        },
        {
         "marker": {
          "color": "red"
         },
         "mode": "markers",
         "name": "GT1.1 Data Points",
         "x": [
          0.0,
          2.0,
          6.8180555555555555,
          8.756944444444445,
          10.79375,
          13.963888888888889,
          16.780555555555555,
          20.74861111111111,
          22.786805555555556,
          24.76875,
          27.783333333333335,
          29.756944444444443,
          34.97847222222222
         ],
         "y": [
          0.0,
          0.04751356616764886,
          0.07531247377571043,
          0.1279196971976888,
          0.2405030384331635,
          0.2929803897572621,
          0.43030402439163173,
          0.6346310041551407,
          0.755748803466483,
          0.8596862524238786,
          0.9774057873319802,
          1.055203847092021,
          1.2542811133760474
         ],
         "type": "scatter"
        },
        {
         "line": {
          "color": "red",
          "dash": "dash"
         },
         "mode": "lines",
         "name": "GT1.2",
         "x": [
          0.0,
          1.9902777777777778,
          6.805555555555555,
          8.745138888888889,
          10.78125,
          13.95138888888889,
          16.783333333333335,
          20.73611111111111,
          22.773611111111112,
          24.755555555555556,
          27.784027777777776,
          29.744444444444444,
          34.96597222222222
         ],
         "y": [
          0.0,
          0.016027350886936385,
          0.03170167192036989,
          0.06161440289781902,
          0.15511304343725524,
          0.19619444677693412,
          0.2918903297000633,
          0.4116862293306712,
          0.4761055666678884,
          0.5371411495398766,
          0.6417893169559681,
          0.7120038751003286,
          0.8635300891435213
         ],
         "type": "scatter"
        },
        {
         "marker": {
          "color": "red"
         },
         "mode": "markers",
         "name": "GT1.2 Data Points",
         "x": [
          0.0,
          1.9902777777777778,
          6.805555555555555,
          8.745138888888889,
          10.78125,
          13.95138888888889,
          16.783333333333335,
          20.73611111111111,
          22.773611111111112,
          24.755555555555556,
          27.784027777777776,
          29.744444444444444,
          34.96597222222222
         ],
         "y": [
          0.0,
          0.016027350886936385,
          0.03170167192036989,
          0.06161440289781902,
          0.15511304343725524,
          0.19619444677693412,
          0.2918903297000633,
          0.4116862293306712,
          0.4761055666678884,
          0.5371411495398766,
          0.6417893169559681,
          0.7120038751003286,
          0.8635300891435213
         ],
         "type": "scatter"
        },
        {
         "line": {
          "color": "red",
          "dash": "dot"
         },
         "mode": "lines",
         "name": "GT4.1",
         "x": [
          0.0,
          1.0222222222222221,
          5.81875,
          7.753472222222222,
          9.784722222222221,
          12.952777777777778,
          15.784027777777778,
          19.747916666666665,
          21.777083333333334,
          23.756944444444443,
          26.78472222222222,
          28.747916666666665,
          33.96944444444444
         ],
         "y": [
          0.0,
          0.2799391743092849,
          0.5832781777159705,
          0.7008011119422013,
          0.7916094707967563,
          0.8226040069463356,
          0.9965429344520165,
          1.254990428155502,
          1.3753543634817302,
          1.4481410698504782,
          1.5265979372474796,
          1.5803291172388896,
          1.6776626229491256
         ],
         "type": "scatter"
        },
        {
         "marker": {
          "color": "red"
         },
         "mode": "markers",
         "name": "GT4.1 Data Points",
         "x": [
          0.0,
          1.0222222222222221,
          5.81875,
          7.753472222222222,
          9.784722222222221,
          12.952777777777778,
          15.784027777777778,
          19.747916666666665,
          21.777083333333334,
          23.756944444444443,
          26.78472222222222,
          28.747916666666665,
          33.96944444444444
         ],
         "y": [
          0.0,
          0.2799391743092849,
          0.5832781777159705,
          0.7008011119422013,
          0.7916094707967563,
          0.8226040069463356,
          0.9965429344520165,
          1.254990428155502,
          1.3753543634817302,
          1.4481410698504782,
          1.5265979372474796,
          1.5803291172388896,
          1.6776626229491256
         ],
         "type": "scatter"
        },
        {
         "line": {
          "color": "red",
          "dash": "dashdot"
         },
         "mode": "lines",
         "name": "GT4.2",
         "x": [
          0.0,
          1.0243055555555556,
          5.820138888888889,
          7.754166666666666,
          9.785416666666666,
          12.954166666666667,
          15.78888888888889,
          19.75347222222222,
          21.779166666666665,
          23.758333333333333,
          26.78611111111111,
          28.74861111111111,
          33.96875
         ],
         "y": [
          0.0,
          0.27261107269455814,
          0.559558806984984,
          0.6734839734146908,
          0.7605959244264879,
          0.7917481849527095,
          0.9721384703642957,
          1.2354899730953017,
          1.3555887486551192,
          1.4251264456636494,
          1.500736177288511,
          1.5525500317386092,
          1.624346225617279
         ],
         "type": "scatter"
        },
        {
         "marker": {
          "color": "red"
         },
         "mode": "markers",
         "name": "GT4.2 Data Points",
         "x": [
          0.0,
          1.0243055555555556,
          5.820138888888889,
          7.754166666666666,
          9.785416666666666,
          12.954166666666667,
          15.78888888888889,
          19.75347222222222,
          21.779166666666665,
          23.758333333333333,
          26.78611111111111,
          28.74861111111111,
          33.96875
         ],
         "y": [
          0.0,
          0.27261107269455814,
          0.559558806984984,
          0.6734839734146908,
          0.7605959244264879,
          0.7917481849527095,
          0.9721384703642957,
          1.2354899730953017,
          1.3555887486551192,
          1.4251264456636494,
          1.500736177288511,
          1.5525500317386092,
          1.624346225617279
         ],
         "type": "scatter"
        },
        {
         "line": {
          "color": "red",
          "dash": "longdash"
         },
         "mode": "lines",
         "name": "GT5.1",
         "x": [
          0.0,
          2.0131944444444443,
          6.820138888888889,
          8.754166666666666,
          10.789583333333333,
          13.95625,
          16.7875,
          20.752083333333335,
          22.779166666666665,
          24.757638888888888,
          27.785416666666666,
          29.749305555555555,
          34.97152777777778
         ],
         "y": [
          0.0,
          0.11248585200790066,
          0.21601115228704973,
          0.2618262551203714,
          0.2925356372039634,
          0.31753422708079276,
          0.4079713342900811,
          0.47482356725855407,
          0.4868833799497962,
          0.5061510294077219,
          0.5592483124219542,
          0.5776888005969798,
          0.63005972304894
         ],
         "type": "scatter"
        },
        {
         "marker": {
          "color": "red"
         },
         "mode": "markers",
         "name": "GT5.1 Data Points",
         "x": [
          0.0,
          2.0131944444444443,
          6.820138888888889,
          8.754166666666666,
          10.789583333333333,
          13.95625,
          16.7875,
          20.752083333333335,
          22.779166666666665,
          24.757638888888888,
          27.785416666666666,
          29.749305555555555,
          34.97152777777778
         ],
         "y": [
          0.0,
          0.11248585200790066,
          0.21601115228704973,
          0.2618262551203714,
          0.2925356372039634,
          0.31753422708079276,
          0.4079713342900811,
          0.47482356725855407,
          0.4868833799497962,
          0.5061510294077219,
          0.5592483124219542,
          0.5776888005969798,
          0.63005972304894
         ],
         "type": "scatter"
        },
        {
         "line": {
          "color": "red",
          "dash": "longdashdot"
         },
         "mode": "lines",
         "name": "GT5.2",
         "x": [
          0.0,
          2.0145833333333334,
          6.821527777777778,
          8.755555555555556,
          10.790277777777778,
          13.956944444444444,
          16.788888888888888,
          20.752083333333335,
          22.78263888888889,
          24.763194444444444,
          27.790277777777778,
          29.75,
          34.97291666666667
         ],
         "y": [
          0.0,
          0.10299379340225137,
          0.18886399366396095,
          0.2326480821012212,
          0.25509782709715273,
          0.2421760168025609,
          0.2722846378263166,
          0.3386283456193981,
          0.36011346159445895,
          0.40630599484752616,
          0.44486974763968307,
          0.4892990863711305,
          0.5618099490450795
         ],
         "type": "scatter"
        },
        {
         "marker": {
          "color": "red"
         },
         "mode": "markers",
         "name": "GT5.2 Data Points",
         "x": [
          0.0,
          2.0145833333333334,
          6.821527777777778,
          8.755555555555556,
          10.790277777777778,
          13.956944444444444,
          16.788888888888888,
          20.752083333333335,
          22.78263888888889,
          24.763194444444444,
          27.790277777777778,
          29.75,
          34.97291666666667
         ],
         "y": [
          0.0,
          0.10299379340225137,
          0.18886399366396095,
          0.2326480821012212,
          0.25509782709715273,
          0.2421760168025609,
          0.2722846378263166,
          0.3386283456193981,
          0.36011346159445895,
          0.40630599484752616,
          0.44486974763968307,
          0.4892990863711305,
          0.5618099490450795
         ],
         "type": "scatter"
        },
        {
         "line": {
          "color": "red",
          "dash": "dot"
         },
         "mode": "lines",
         "name": "GT6.1",
         "x": [
          0.0,
          1.0229166666666667,
          5.823611111111111,
          7.760416666666667,
          9.790972222222223,
          12.957638888888889,
          15.789583333333333,
          19.752777777777776,
          21.783333333333335,
          23.76388888888889,
          26.790277777777778,
          28.749305555555555,
          33.97222222222222
         ],
         "y": [
          0.0,
          0.07965718461225577,
          0.17008550957928661,
          0.3456268261017885,
          0.5413348634675669,
          0.49620456444381655,
          0.6219411841581519,
          0.7709497084473799,
          0.8487044536750074,
          0.9121294313728285,
          0.9991840957133422,
          1.0533527363119504,
          1.183801272592078
         ],
         "type": "scatter"
        },
        {
         "marker": {
          "color": "red"
         },
         "mode": "markers",
         "name": "GT6.1 Data Points",
         "x": [
          0.0,
          1.0229166666666667,
          5.823611111111111,
          7.760416666666667,
          9.790972222222223,
          12.957638888888889,
          15.789583333333333,
          19.752777777777776,
          21.783333333333335,
          23.76388888888889,
          26.790277777777778,
          28.749305555555555,
          33.97222222222222
         ],
         "y": [
          0.0,
          0.07965718461225577,
          0.17008550957928661,
          0.3456268261017885,
          0.5413348634675669,
          0.49620456444381655,
          0.6219411841581519,
          0.7709497084473799,
          0.8487044536750074,
          0.9121294313728285,
          0.9991840957133422,
          1.0533527363119504,
          1.183801272592078
         ],
         "type": "scatter"
        },
        {
         "line": {
          "color": "red",
          "dash": "dash"
         },
         "mode": "lines",
         "name": "GT6.2",
         "x": [
          0.0,
          1.0256944444444445,
          5.825,
          7.761805555555555,
          9.79375,
          12.959722222222222,
          15.790972222222223,
          19.75486111111111,
          21.788888888888888,
          23.76527777777778,
          26.791666666666668,
          28.75625,
          33.975
         ],
         "y": [
          0.0,
          0.12182464424499001,
          0.3902586776875465,
          0.5139640389939646,
          0.6050150798836824,
          0.6418907547367371,
          0.7608514357039795,
          0.9260625989761905,
          1.0177849185147858,
          1.1010357023529074,
          1.2230607781983067,
          1.3058467470257344,
          1.5183355362467839
         ],
         "type": "scatter"
        },
        {
         "marker": {
          "color": "red"
         },
         "mode": "markers",
         "name": "GT6.2 Data Points",
         "x": [
          0.0,
          1.0256944444444445,
          5.825,
          7.761805555555555,
          9.79375,
          12.959722222222222,
          15.790972222222223,
          19.75486111111111,
          21.788888888888888,
          23.76527777777778,
          26.791666666666668,
          28.75625,
          33.975
         ],
         "y": [
          0.0,
          0.12182464424499001,
          0.3902586776875465,
          0.5139640389939646,
          0.6050150798836824,
          0.6418907547367371,
          0.7608514357039795,
          0.9260625989761905,
          1.0177849185147858,
          1.1010357023529074,
          1.2230607781983067,
          1.3058467470257344,
          1.5183355362467839
         ],
         "type": "scatter"
        },
        {
         "line": {
          "color": "blue",
          "dash": "solid"
         },
         "mode": "lines",
         "name": "GT2.1",
         "x": [
          0.0,
          1.9909722222222221,
          6.805555555555555,
          8.744444444444444,
          10.738888888888889,
          13.950694444444444,
          16.781944444444445,
          20.74375,
          22.772916666666667,
          24.754166666666666,
          27.783333333333335,
          29.743055555555557,
          34.96527777777778
         ],
         "y": [
          0.0,
          0.017697482777724618,
          0.03421029978723215,
          0.07196769268592869,
          0.14820295993835025,
          0.16815107640880872,
          0.23604619528727086,
          0.3277153692843696,
          0.38288220484705143,
          0.4385570027609818,
          0.5396283662433483,
          0.6100269926267836,
          0.7840262096480398
         ],
         "type": "scatter"
        },
        {
         "marker": {
          "color": "blue"
         },
         "mode": "markers",
         "name": "GT2.1 Data Points",
         "x": [
          0.0,
          1.9909722222222221,
          6.805555555555555,
          8.744444444444444,
          10.738888888888889,
          13.950694444444444,
          16.781944444444445,
          20.74375,
          22.772916666666667,
          24.754166666666666,
          27.783333333333335,
          29.743055555555557,
          34.96527777777778
         ],
         "y": [
          0.0,
          0.017697482777724618,
          0.03421029978723215,
          0.07196769268592869,
          0.14820295993835025,
          0.16815107640880872,
          0.23604619528727086,
          0.3277153692843696,
          0.38288220484705143,
          0.4385570027609818,
          0.5396283662433483,
          0.6100269926267836,
          0.7840262096480398
         ],
         "type": "scatter"
        },
        {
         "line": {
          "color": "blue",
          "dash": "dash"
         },
         "mode": "lines",
         "name": "GT2.2",
         "x": [
          0.0,
          1.992361111111111,
          6.811805555555556,
          8.744444444444444,
          10.780555555555555,
          13.95,
          16.781944444444445,
          20.74375,
          22.775,
          24.754166666666666,
          27.77638888888889,
          29.744444444444444,
          34.96458333333333
         ],
         "y": [
          0.0,
          0.027316018422838702,
          0.07603335239255866,
          0.10103239430479286,
          0.13204018568299408,
          0.17225263174008432,
          0.20491107857399166,
          0.24837998634025865,
          0.2678237593459569,
          0.2913946524446504,
          0.3310170694536565,
          0.3576682675986032,
          0.45345054025752923
         ],
         "type": "scatter"
        },
        {
         "marker": {
          "color": "blue"
         },
         "mode": "markers",
         "name": "GT2.2 Data Points",
         "x": [
          0.0,
          1.992361111111111,
          6.811805555555556,
          8.744444444444444,
          10.780555555555555,
          13.95,
          16.781944444444445,
          20.74375,
          22.775,
          24.754166666666666,
          27.77638888888889,
          29.744444444444444,
          34.96458333333333
         ],
         "y": [
          0.0,
          0.027316018422838702,
          0.07603335239255866,
          0.10103239430479286,
          0.13204018568299408,
          0.17225263174008432,
          0.20491107857399166,
          0.24837998634025865,
          0.2678237593459569,
          0.2913946524446504,
          0.3310170694536565,
          0.3576682675986032,
          0.45345054025752923
         ],
         "type": "scatter"
        },
        {
         "line": {
          "color": "blue",
          "dash": "dot"
         },
         "mode": "lines",
         "name": "GT3.1",
         "x": [
          0.0,
          2.0118055555555556,
          6.8125,
          8.745138888888889,
          10.78125,
          13.950694444444444,
          16.781944444444445,
          20.74375,
          22.775694444444444,
          24.75486111111111,
          27.78263888888889,
          29.744444444444444,
          34.96527777777778
         ],
         "y": [
          0.0,
          0.12440583335602175,
          0.2970348388731206,
          0.361348315832221,
          0.4130225024532185,
          0.42854102620281287,
          0.4853860735777723,
          0.5806492679489266,
          0.6237167532049571,
          0.663282012707695,
          0.7277585307417537,
          0.7663018905076368,
          0.887385743061015
         ],
         "type": "scatter"
        },
        {
         "marker": {
          "color": "blue"
         },
         "mode": "markers",
         "name": "GT3.1 Data Points",
         "x": [
          0.0,
          2.0118055555555556,
          6.8125,
          8.745138888888889,
          10.78125,
          13.950694444444444,
          16.781944444444445,
          20.74375,
          22.775694444444444,
          24.75486111111111,
          27.78263888888889,
          29.744444444444444,
          34.96527777777778
         ],
         "y": [
          0.0,
          0.12440583335602175,
          0.2970348388731206,
          0.361348315832221,
          0.4130225024532185,
          0.42854102620281287,
          0.4853860735777723,
          0.5806492679489266,
          0.6237167532049571,
          0.663282012707695,
          0.7277585307417537,
          0.7663018905076368,
          0.887385743061015
         ],
         "type": "scatter"
        },
        {
         "line": {
          "color": "blue",
          "dash": "dashdot"
         },
         "mode": "lines",
         "name": "GT3.2",
         "x": [
          0.0,
          2.0131944444444443,
          6.813194444444444,
          8.746527777777779,
          10.783333333333333,
          13.95138888888889,
          16.783333333333335,
          20.744444444444444,
          22.77638888888889,
          24.755555555555556,
          27.783333333333335,
          29.74513888888889,
          34.96597222222222
         ],
         "y": [
          0.0,
          0.08340326922830413,
          0.24954465085312635,
          0.3184723649463691,
          0.37425447573874077,
          0.38915444394804655,
          0.4530351093281298,
          0.5372839600639283,
          0.5842363986693069,
          0.6395915794862415,
          0.7527263112021677,
          0.8522316089795121,
          1.2583988429749131
         ],
         "type": "scatter"
        },
        {
         "marker": {
          "color": "blue"
         },
         "mode": "markers",
         "name": "GT3.2 Data Points",
         "x": [
          0.0,
          2.0131944444444443,
          6.813194444444444,
          8.746527777777779,
          10.783333333333333,
          13.95138888888889,
          16.783333333333335,
          20.744444444444444,
          22.77638888888889,
          24.755555555555556,
          27.783333333333335,
          29.74513888888889,
          34.96597222222222
         ],
         "y": [
          0.0,
          0.08340326922830413,
          0.24954465085312635,
          0.3184723649463691,
          0.37425447573874077,
          0.38915444394804655,
          0.4530351093281298,
          0.5372839600639283,
          0.5842363986693069,
          0.6395915794862415,
          0.7527263112021677,
          0.8522316089795121,
          1.2583988429749131
         ],
         "type": "scatter"
        },
        {
         "line": {
          "color": "blue",
          "dash": "longdash"
         },
         "mode": "lines",
         "name": "GT7.1",
         "x": [
          0.0,
          2.0145833333333334,
          6.854166666666667,
          8.763194444444444,
          10.79513888888889,
          13.960416666666667,
          16.792361111111113,
          20.75625,
          22.789583333333333,
          24.766666666666666,
          27.793055555555554,
          29.75625,
          34.97847222222222
         ],
         "y": [
          0.0,
          0.04789998799781799,
          0.08237115066421627,
          0.11835579539310888,
          0.14632077354417938,
          0.261803097122637,
          0.4662284556425536,
          0.6152878294703957,
          0.6761154699786699,
          0.7248134876246257,
          0.7683506971152128,
          0.8099468296648603,
          0.8730873621997655
         ],
         "type": "scatter"
        },
        {
         "marker": {
          "color": "blue"
         },
         "mode": "markers",
         "name": "GT7.1 Data Points",
         "x": [
          0.0,
          2.0145833333333334,
          6.854166666666667,
          8.763194444444444,
          10.79513888888889,
          13.960416666666667,
          16.792361111111113,
          20.75625,
          22.789583333333333,
          24.766666666666666,
          27.793055555555554,
          29.75625,
          34.97847222222222
         ],
         "y": [
          0.0,
          0.04789998799781799,
          0.08237115066421627,
          0.11835579539310888,
          0.14632077354417938,
          0.261803097122637,
          0.4662284556425536,
          0.6152878294703957,
          0.6761154699786699,
          0.7248134876246257,
          0.7683506971152128,
          0.8099468296648603,
          0.8730873621997655
         ],
         "type": "scatter"
        },
        {
         "line": {
          "color": "blue",
          "dash": "longdashdot"
         },
         "mode": "lines",
         "name": "GT7.2",
         "x": [
          0.0,
          1.0256944444444445,
          5.854166666666667,
          7.763888888888889,
          9.79513888888889,
          12.963888888888889,
          15.795833333333333,
          19.75625,
          21.790277777777778,
          23.76597222222222,
          26.79375,
          28.760416666666668,
          33.97847222222222
         ],
         "y": [
          0.0,
          0.15046800509488223,
          0.3023771848064685,
          0.3718940977392621,
          0.4268899476134545,
          0.5341081473711217,
          0.676058127164811,
          0.8909204110215084,
          1.0048965846706643,
          1.1033156947503264,
          1.2114703150115211,
          1.2756810728277284,
          1.4122988718432892
         ],
         "type": "scatter"
        },
        {
         "marker": {
          "color": "blue"
         },
         "mode": "markers",
         "name": "GT7.2 Data Points",
         "x": [
          0.0,
          1.0256944444444445,
          5.854166666666667,
          7.763888888888889,
          9.79513888888889,
          12.963888888888889,
          15.795833333333333,
          19.75625,
          21.790277777777778,
          23.76597222222222,
          26.79375,
          28.760416666666668,
          33.97847222222222
         ],
         "y": [
          0.0,
          0.15046800509488223,
          0.3023771848064685,
          0.3718940977392621,
          0.4268899476134545,
          0.5341081473711217,
          0.676058127164811,
          0.8909204110215084,
          1.0048965846706643,
          1.1033156947503264,
          1.2114703150115211,
          1.2756810728277284,
          1.4122988718432892
         ],
         "type": "scatter"
        },
        {
         "line": {
          "color": "yellow",
          "dash": "solid"
         },
         "mode": "lines",
         "name": "GT8.1",
         "x": [
          0.0,
          1.0277777777777777,
          5.855555555555555,
          7.7652777777777775,
          12.965277777777779,
          15.797222222222222,
          19.761805555555554,
          21.790972222222223,
          23.76736111111111,
          26.79513888888889,
          28.761805555555554,
          33.97986111111111
         ],
         "y": [
          0.0,
          0.17256680274062172,
          0.3641423696687381,
          0.4715321700665902,
          0.663054372921951,
          0.7852470764434536,
          0.9018311725604484,
          0.9777554461132236,
          1.0255761495302067,
          1.0666996292117918,
          1.1259861562710434,
          1.2588947697438992
         ],
         "type": "scatter"
        },
        {
         "marker": {
          "color": "yellow"
         },
         "mode": "markers",
         "name": "GT8.1 Data Points",
         "x": [
          0.0,
          1.0277777777777777,
          5.855555555555555,
          7.7652777777777775,
          12.965277777777779,
          15.797222222222222,
          19.761805555555554,
          21.790972222222223,
          23.76736111111111,
          26.79513888888889,
          28.761805555555554,
          33.97986111111111
         ],
         "y": [
          0.0,
          0.17256680274062172,
          0.3641423696687381,
          0.4715321700665902,
          0.663054372921951,
          0.7852470764434536,
          0.9018311725604484,
          0.9777554461132236,
          1.0255761495302067,
          1.0666996292117918,
          1.1259861562710434,
          1.2588947697438992
         ],
         "type": "scatter"
        },
        {
         "line": {
          "color": "yellow",
          "dash": "dash"
         },
         "mode": "lines",
         "name": "GT8.2",
         "x": [
          0.0,
          1.0284722222222222,
          5.855555555555555,
          7.7652777777777775,
          12.965277777777779,
          15.797222222222222,
          19.761111111111113,
          21.791666666666668,
          23.768055555555556,
          26.79513888888889,
          28.76597222222222,
          33.980555555555554
         ],
         "y": [
          0.0,
          0.15461841330209175,
          0.41620143517997127,
          0.5613638770627412,
          0.7828317970623292,
          0.8956887078971596,
          1.012170598500536,
          1.0789713712394617,
          1.1221503190412443,
          1.170344029071555,
          1.2265166588105114,
          1.3038981657021456
         ],
         "type": "scatter"
        },
        {
         "marker": {
          "color": "yellow"
         },
         "mode": "markers",
         "name": "GT8.2 Data Points",
         "x": [
          0.0,
          1.0284722222222222,
          5.855555555555555,
          7.7652777777777775,
          12.965277777777779,
          15.797222222222222,
          19.761111111111113,
          21.791666666666668,
          23.768055555555556,
          26.79513888888889,
          28.76597222222222,
          33.980555555555554
         ],
         "y": [
          0.0,
          0.15461841330209175,
          0.41620143517997127,
          0.5613638770627412,
          0.7828317970623292,
          0.8956887078971596,
          1.012170598500536,
          1.0789713712394617,
          1.1221503190412443,
          1.170344029071555,
          1.2265166588105114,
          1.3038981657021456
         ],
         "type": "scatter"
        }
       ],
       "layout": {
        "template": {
         "data": {
          "histogram2dcontour": [
           {
            "type": "histogram2dcontour",
            "colorbar": {
             "outlinewidth": 0,
             "ticks": ""
            },
            "colorscale": [
             [
              0.0,
              "#0d0887"
             ],
             [
              0.1111111111111111,
              "#46039f"
             ],
             [
              0.2222222222222222,
              "#7201a8"
             ],
             [
              0.3333333333333333,
              "#9c179e"
             ],
             [
              0.4444444444444444,
              "#bd3786"
             ],
             [
              0.5555555555555556,
              "#d8576b"
             ],
             [
              0.6666666666666666,
              "#ed7953"
             ],
             [
              0.7777777777777778,
              "#fb9f3a"
             ],
             [
              0.8888888888888888,
              "#fdca26"
             ],
             [
              1.0,
              "#f0f921"
             ]
            ]
           }
          ],
          "choropleth": [
           {
            "type": "choropleth",
            "colorbar": {
             "outlinewidth": 0,
             "ticks": ""
            }
           }
          ],
          "histogram2d": [
           {
            "type": "histogram2d",
            "colorbar": {
             "outlinewidth": 0,
             "ticks": ""
            },
            "colorscale": [
             [
              0.0,
              "#0d0887"
             ],
             [
              0.1111111111111111,
              "#46039f"
             ],
             [
              0.2222222222222222,
              "#7201a8"
             ],
             [
              0.3333333333333333,
              "#9c179e"
             ],
             [
              0.4444444444444444,
              "#bd3786"
             ],
             [
              0.5555555555555556,
              "#d8576b"
             ],
             [
              0.6666666666666666,
              "#ed7953"
             ],
             [
              0.7777777777777778,
              "#fb9f3a"
             ],
             [
              0.8888888888888888,
              "#fdca26"
             ],
             [
              1.0,
              "#f0f921"
             ]
            ]
           }
          ],
          "heatmap": [
           {
            "type": "heatmap",
            "colorbar": {
             "outlinewidth": 0,
             "ticks": ""
            },
            "colorscale": [
             [
              0.0,
              "#0d0887"
             ],
             [
              0.1111111111111111,
              "#46039f"
             ],
             [
              0.2222222222222222,
              "#7201a8"
             ],
             [
              0.3333333333333333,
              "#9c179e"
             ],
             [
              0.4444444444444444,
              "#bd3786"
             ],
             [
              0.5555555555555556,
              "#d8576b"
             ],
             [
              0.6666666666666666,
              "#ed7953"
             ],
             [
              0.7777777777777778,
              "#fb9f3a"
             ],
             [
              0.8888888888888888,
              "#fdca26"
             ],
             [
              1.0,
              "#f0f921"
             ]
            ]
           }
          ],
          "heatmapgl": [
           {
            "type": "heatmapgl",
            "colorbar": {
             "outlinewidth": 0,
             "ticks": ""
            },
            "colorscale": [
             [
              0.0,
              "#0d0887"
             ],
             [
              0.1111111111111111,
              "#46039f"
             ],
             [
              0.2222222222222222,
              "#7201a8"
             ],
             [
              0.3333333333333333,
              "#9c179e"
             ],
             [
              0.4444444444444444,
              "#bd3786"
             ],
             [
              0.5555555555555556,
              "#d8576b"
             ],
             [
              0.6666666666666666,
              "#ed7953"
             ],
             [
              0.7777777777777778,
              "#fb9f3a"
             ],
             [
              0.8888888888888888,
              "#fdca26"
             ],
             [
              1.0,
              "#f0f921"
             ]
            ]
           }
          ],
          "contourcarpet": [
           {
            "type": "contourcarpet",
            "colorbar": {
             "outlinewidth": 0,
             "ticks": ""
            }
           }
          ],
          "contour": [
           {
            "type": "contour",
            "colorbar": {
             "outlinewidth": 0,
             "ticks": ""
            },
            "colorscale": [
             [
              0.0,
              "#0d0887"
             ],
             [
              0.1111111111111111,
              "#46039f"
             ],
             [
              0.2222222222222222,
              "#7201a8"
             ],
             [
              0.3333333333333333,
              "#9c179e"
             ],
             [
              0.4444444444444444,
              "#bd3786"
             ],
             [
              0.5555555555555556,
              "#d8576b"
             ],
             [
              0.6666666666666666,
              "#ed7953"
             ],
             [
              0.7777777777777778,
              "#fb9f3a"
             ],
             [
              0.8888888888888888,
              "#fdca26"
             ],
             [
              1.0,
              "#f0f921"
             ]
            ]
           }
          ],
          "surface": [
           {
            "type": "surface",
            "colorbar": {
             "outlinewidth": 0,
             "ticks": ""
            },
            "colorscale": [
             [
              0.0,
              "#0d0887"
             ],
             [
              0.1111111111111111,
              "#46039f"
             ],
             [
              0.2222222222222222,
              "#7201a8"
             ],
             [
              0.3333333333333333,
              "#9c179e"
             ],
             [
              0.4444444444444444,
              "#bd3786"
             ],
             [
              0.5555555555555556,
              "#d8576b"
             ],
             [
              0.6666666666666666,
              "#ed7953"
             ],
             [
              0.7777777777777778,
              "#fb9f3a"
             ],
             [
              0.8888888888888888,
              "#fdca26"
             ],
             [
              1.0,
              "#f0f921"
             ]
            ]
           }
          ],
          "mesh3d": [
           {
            "type": "mesh3d",
            "colorbar": {
             "outlinewidth": 0,
             "ticks": ""
            }
           }
          ],
          "scatter": [
           {
            "marker": {
             "line": {
              "color": "#283442"
             }
            },
            "type": "scatter"
           }
          ],
          "parcoords": [
           {
            "type": "parcoords",
            "line": {
             "colorbar": {
              "outlinewidth": 0,
              "ticks": ""
             }
            }
           }
          ],
          "scatterpolargl": [
           {
            "type": "scatterpolargl",
            "marker": {
             "colorbar": {
              "outlinewidth": 0,
              "ticks": ""
             }
            }
           }
          ],
          "bar": [
           {
            "error_x": {
             "color": "#f2f5fa"
            },
            "error_y": {
             "color": "#f2f5fa"
            },
            "marker": {
             "line": {
              "color": "rgb(17,17,17)",
              "width": 0.5
             },
             "pattern": {
              "fillmode": "overlay",
              "size": 10,
              "solidity": 0.2
             }
            },
            "type": "bar"
           }
          ],
          "scattergeo": [
           {
            "type": "scattergeo",
            "marker": {
             "colorbar": {
              "outlinewidth": 0,
              "ticks": ""
             }
            }
           }
          ],
          "scatterpolar": [
           {
            "type": "scatterpolar",
            "marker": {
             "colorbar": {
              "outlinewidth": 0,
              "ticks": ""
             }
            }
           }
          ],
          "histogram": [
           {
            "marker": {
             "pattern": {
              "fillmode": "overlay",
              "size": 10,
              "solidity": 0.2
             }
            },
            "type": "histogram"
           }
          ],
          "scattergl": [
           {
            "marker": {
             "line": {
              "color": "#283442"
             }
            },
            "type": "scattergl"
           }
          ],
          "scatter3d": [
           {
            "type": "scatter3d",
            "line": {
             "colorbar": {
              "outlinewidth": 0,
              "ticks": ""
             }
            },
            "marker": {
             "colorbar": {
              "outlinewidth": 0,
              "ticks": ""
             }
            }
           }
          ],
          "scattermapbox": [
           {
            "type": "scattermapbox",
            "marker": {
             "colorbar": {
              "outlinewidth": 0,
              "ticks": ""
             }
            }
           }
          ],
          "scatterternary": [
           {
            "type": "scatterternary",
            "marker": {
             "colorbar": {
              "outlinewidth": 0,
              "ticks": ""
             }
            }
           }
          ],
          "scattercarpet": [
           {
            "type": "scattercarpet",
            "marker": {
             "colorbar": {
              "outlinewidth": 0,
              "ticks": ""
             }
            }
           }
          ],
          "carpet": [
           {
            "aaxis": {
             "endlinecolor": "#A2B1C6",
             "gridcolor": "#506784",
             "linecolor": "#506784",
             "minorgridcolor": "#506784",
             "startlinecolor": "#A2B1C6"
            },
            "baxis": {
             "endlinecolor": "#A2B1C6",
             "gridcolor": "#506784",
             "linecolor": "#506784",
             "minorgridcolor": "#506784",
             "startlinecolor": "#A2B1C6"
            },
            "type": "carpet"
           }
          ],
          "table": [
           {
            "cells": {
             "fill": {
              "color": "#506784"
             },
             "line": {
              "color": "rgb(17,17,17)"
             }
            },
            "header": {
             "fill": {
              "color": "#2a3f5f"
             },
             "line": {
              "color": "rgb(17,17,17)"
             }
            },
            "type": "table"
           }
          ],
          "barpolar": [
           {
            "marker": {
             "line": {
              "color": "rgb(17,17,17)",
              "width": 0.5
             },
             "pattern": {
              "fillmode": "overlay",
              "size": 10,
              "solidity": 0.2
             }
            },
            "type": "barpolar"
           }
          ],
          "pie": [
           {
            "automargin": true,
            "type": "pie"
           }
          ]
         },
         "layout": {
          "autotypenumbers": "strict",
          "colorway": [
           "#636efa",
           "#EF553B",
           "#00cc96",
           "#ab63fa",
           "#FFA15A",
           "#19d3f3",
           "#FF6692",
           "#B6E880",
           "#FF97FF",
           "#FECB52"
          ],
          "font": {
           "color": "#f2f5fa"
          },
          "hovermode": "closest",
          "hoverlabel": {
           "align": "left"
          },
          "paper_bgcolor": "rgb(17,17,17)",
          "plot_bgcolor": "rgb(17,17,17)",
          "polar": {
           "bgcolor": "rgb(17,17,17)",
           "angularaxis": {
            "gridcolor": "#506784",
            "linecolor": "#506784",
            "ticks": ""
           },
           "radialaxis": {
            "gridcolor": "#506784",
            "linecolor": "#506784",
            "ticks": ""
           }
          },
          "ternary": {
           "bgcolor": "rgb(17,17,17)",
           "aaxis": {
            "gridcolor": "#506784",
            "linecolor": "#506784",
            "ticks": ""
           },
           "baxis": {
            "gridcolor": "#506784",
            "linecolor": "#506784",
            "ticks": ""
           },
           "caxis": {
            "gridcolor": "#506784",
            "linecolor": "#506784",
            "ticks": ""
           }
          },
          "coloraxis": {
           "colorbar": {
            "outlinewidth": 0,
            "ticks": ""
           }
          },
          "colorscale": {
           "sequential": [
            [
             0.0,
             "#0d0887"
            ],
            [
             0.1111111111111111,
             "#46039f"
            ],
            [
             0.2222222222222222,
             "#7201a8"
            ],
            [
             0.3333333333333333,
             "#9c179e"
            ],
            [
             0.4444444444444444,
             "#bd3786"
            ],
            [
             0.5555555555555556,
             "#d8576b"
            ],
            [
             0.6666666666666666,
             "#ed7953"
            ],
            [
             0.7777777777777778,
             "#fb9f3a"
            ],
            [
             0.8888888888888888,
             "#fdca26"
            ],
            [
             1.0,
             "#f0f921"
            ]
           ],
           "sequentialminus": [
            [
             0.0,
             "#0d0887"
            ],
            [
             0.1111111111111111,
             "#46039f"
            ],
            [
             0.2222222222222222,
             "#7201a8"
            ],
            [
             0.3333333333333333,
             "#9c179e"
            ],
            [
             0.4444444444444444,
             "#bd3786"
            ],
            [
             0.5555555555555556,
             "#d8576b"
            ],
            [
             0.6666666666666666,
             "#ed7953"
            ],
            [
             0.7777777777777778,
             "#fb9f3a"
            ],
            [
             0.8888888888888888,
             "#fdca26"
            ],
            [
             1.0,
             "#f0f921"
            ]
           ],
           "diverging": [
            [
             0,
             "#8e0152"
            ],
            [
             0.1,
             "#c51b7d"
            ],
            [
             0.2,
             "#de77ae"
            ],
            [
             0.3,
             "#f1b6da"
            ],
            [
             0.4,
             "#fde0ef"
            ],
            [
             0.5,
             "#f7f7f7"
            ],
            [
             0.6,
             "#e6f5d0"
            ],
            [
             0.7,
             "#b8e186"
            ],
            [
             0.8,
             "#7fbc41"
            ],
            [
             0.9,
             "#4d9221"
            ],
            [
             1,
             "#276419"
            ]
           ]
          },
          "xaxis": {
           "gridcolor": "#283442",
           "linecolor": "#506784",
           "ticks": "",
           "title": {
            "standoff": 15
           },
           "zerolinecolor": "#283442",
           "automargin": true,
           "zerolinewidth": 2
          },
          "yaxis": {
           "gridcolor": "#283442",
           "linecolor": "#506784",
           "ticks": "",
           "title": {
            "standoff": 15
           },
           "zerolinecolor": "#283442",
           "automargin": true,
           "zerolinewidth": 2
          },
          "scene": {
           "xaxis": {
            "backgroundcolor": "rgb(17,17,17)",
            "gridcolor": "#506784",
            "linecolor": "#506784",
            "showbackground": true,
            "ticks": "",
            "zerolinecolor": "#C8D4E3",
            "gridwidth": 2
           },
           "yaxis": {
            "backgroundcolor": "rgb(17,17,17)",
            "gridcolor": "#506784",
            "linecolor": "#506784",
            "showbackground": true,
            "ticks": "",
            "zerolinecolor": "#C8D4E3",
            "gridwidth": 2
           },
           "zaxis": {
            "backgroundcolor": "rgb(17,17,17)",
            "gridcolor": "#506784",
            "linecolor": "#506784",
            "showbackground": true,
            "ticks": "",
            "zerolinecolor": "#C8D4E3",
            "gridwidth": 2
           }
          },
          "shapedefaults": {
           "line": {
            "color": "#f2f5fa"
           }
          },
          "annotationdefaults": {
           "arrowcolor": "#f2f5fa",
           "arrowhead": 0,
           "arrowwidth": 1
          },
          "geo": {
           "bgcolor": "rgb(17,17,17)",
           "landcolor": "rgb(17,17,17)",
           "subunitcolor": "#506784",
           "showland": true,
           "showlakes": true,
           "lakecolor": "rgb(17,17,17)"
          },
          "title": {
           "x": 0.05
          },
          "updatemenudefaults": {
           "bgcolor": "#506784",
           "borderwidth": 0
          },
          "sliderdefaults": {
           "bgcolor": "#C8D4E3",
           "borderwidth": 1,
           "bordercolor": "rgb(17,17,17)",
           "tickwidth": 0
          },
          "mapbox": {
           "style": "dark"
          }
         }
        },
        "width": 1200,
        "height": 800,
        "annotations": [
         {
          "font": {
           "color": "red",
           "size": 14
          },
          "showarrow": false,
          "text": "red is 1 m - 6 m",
          "x": 0.02,
          "xref": "paper",
          "y": 0.98,
          "yref": "paper"
         },
         {
          "font": {
           "color": "blue",
           "size": 14
          },
          "showarrow": false,
          "text": "blue is 6 m - 12 m",
          "x": 0.02,
          "xref": "paper",
          "y": 0.92,
          "yref": "paper"
         },
         {
          "font": {
           "color": "yellow",
           "size": 14
          },
          "showarrow": false,
          "text": "Yellow is 12 m - 18 m",
          "x": 0.02,
          "xref": "paper",
          "y": 0.8,
          "yref": "paper"
         }
        ],
        "legend": {
         "x": 0,
         "y": -0.2,
         "orientation": "h",
         "traceorder": "normal"
        },
        "title": {
         "text": "Colors based on depth layer Cgas_DM_cum"
        },
        "xaxis": {
         "title": {
          "text": "Day"
         }
        },
        "yaxis": {
         "title": {
          "text": "Cgas_DM_cum"
         }
        },
        "showlegend": true,
        "plot_bgcolor": "grey"
       },
       "config": {
        "plotlyServerURL": "https://plot.ly"
       }
      },
      "text/html": "<div>                            <div id=\"1089448f-20c9-4c5d-ae27-52ddeec51a91\" class=\"plotly-graph-div\" style=\"height:800px; width:1200px;\"></div>            <script type=\"text/javascript\">                require([\"plotly\"], function(Plotly) {                    window.PLOTLYENV=window.PLOTLYENV || {};                                    if (document.getElementById(\"1089448f-20c9-4c5d-ae27-52ddeec51a91\")) {                    Plotly.newPlot(                        \"1089448f-20c9-4c5d-ae27-52ddeec51a91\",                        [{\"line\":{\"color\":\"red\",\"dash\":\"solid\"},\"mode\":\"lines\",\"name\":\"GT1.1\",\"x\":[0.0,2.0,6.8180555555555555,8.756944444444445,10.79375,13.963888888888889,16.780555555555555,20.74861111111111,22.786805555555556,24.76875,27.783333333333335,29.756944444444443,34.97847222222222],\"y\":[0.0,0.04751356616764886,0.07531247377571043,0.1279196971976888,0.2405030384331635,0.2929803897572621,0.43030402439163173,0.6346310041551407,0.755748803466483,0.8596862524238786,0.9774057873319802,1.055203847092021,1.2542811133760474],\"type\":\"scatter\"},{\"marker\":{\"color\":\"red\"},\"mode\":\"markers\",\"name\":\"GT1.1 Data Points\",\"x\":[0.0,2.0,6.8180555555555555,8.756944444444445,10.79375,13.963888888888889,16.780555555555555,20.74861111111111,22.786805555555556,24.76875,27.783333333333335,29.756944444444443,34.97847222222222],\"y\":[0.0,0.04751356616764886,0.07531247377571043,0.1279196971976888,0.2405030384331635,0.2929803897572621,0.43030402439163173,0.6346310041551407,0.755748803466483,0.8596862524238786,0.9774057873319802,1.055203847092021,1.2542811133760474],\"type\":\"scatter\"},{\"line\":{\"color\":\"red\",\"dash\":\"dash\"},\"mode\":\"lines\",\"name\":\"GT1.2\",\"x\":[0.0,1.9902777777777778,6.805555555555555,8.745138888888889,10.78125,13.95138888888889,16.783333333333335,20.73611111111111,22.773611111111112,24.755555555555556,27.784027777777776,29.744444444444444,34.96597222222222],\"y\":[0.0,0.016027350886936385,0.03170167192036989,0.06161440289781902,0.15511304343725524,0.19619444677693412,0.2918903297000633,0.4116862293306712,0.4761055666678884,0.5371411495398766,0.6417893169559681,0.7120038751003286,0.8635300891435213],\"type\":\"scatter\"},{\"marker\":{\"color\":\"red\"},\"mode\":\"markers\",\"name\":\"GT1.2 Data Points\",\"x\":[0.0,1.9902777777777778,6.805555555555555,8.745138888888889,10.78125,13.95138888888889,16.783333333333335,20.73611111111111,22.773611111111112,24.755555555555556,27.784027777777776,29.744444444444444,34.96597222222222],\"y\":[0.0,0.016027350886936385,0.03170167192036989,0.06161440289781902,0.15511304343725524,0.19619444677693412,0.2918903297000633,0.4116862293306712,0.4761055666678884,0.5371411495398766,0.6417893169559681,0.7120038751003286,0.8635300891435213],\"type\":\"scatter\"},{\"line\":{\"color\":\"red\",\"dash\":\"dot\"},\"mode\":\"lines\",\"name\":\"GT4.1\",\"x\":[0.0,1.0222222222222221,5.81875,7.753472222222222,9.784722222222221,12.952777777777778,15.784027777777778,19.747916666666665,21.777083333333334,23.756944444444443,26.78472222222222,28.747916666666665,33.96944444444444],\"y\":[0.0,0.2799391743092849,0.5832781777159705,0.7008011119422013,0.7916094707967563,0.8226040069463356,0.9965429344520165,1.254990428155502,1.3753543634817302,1.4481410698504782,1.5265979372474796,1.5803291172388896,1.6776626229491256],\"type\":\"scatter\"},{\"marker\":{\"color\":\"red\"},\"mode\":\"markers\",\"name\":\"GT4.1 Data Points\",\"x\":[0.0,1.0222222222222221,5.81875,7.753472222222222,9.784722222222221,12.952777777777778,15.784027777777778,19.747916666666665,21.777083333333334,23.756944444444443,26.78472222222222,28.747916666666665,33.96944444444444],\"y\":[0.0,0.2799391743092849,0.5832781777159705,0.7008011119422013,0.7916094707967563,0.8226040069463356,0.9965429344520165,1.254990428155502,1.3753543634817302,1.4481410698504782,1.5265979372474796,1.5803291172388896,1.6776626229491256],\"type\":\"scatter\"},{\"line\":{\"color\":\"red\",\"dash\":\"dashdot\"},\"mode\":\"lines\",\"name\":\"GT4.2\",\"x\":[0.0,1.0243055555555556,5.820138888888889,7.754166666666666,9.785416666666666,12.954166666666667,15.78888888888889,19.75347222222222,21.779166666666665,23.758333333333333,26.78611111111111,28.74861111111111,33.96875],\"y\":[0.0,0.27261107269455814,0.559558806984984,0.6734839734146908,0.7605959244264879,0.7917481849527095,0.9721384703642957,1.2354899730953017,1.3555887486551192,1.4251264456636494,1.500736177288511,1.5525500317386092,1.624346225617279],\"type\":\"scatter\"},{\"marker\":{\"color\":\"red\"},\"mode\":\"markers\",\"name\":\"GT4.2 Data Points\",\"x\":[0.0,1.0243055555555556,5.820138888888889,7.754166666666666,9.785416666666666,12.954166666666667,15.78888888888889,19.75347222222222,21.779166666666665,23.758333333333333,26.78611111111111,28.74861111111111,33.96875],\"y\":[0.0,0.27261107269455814,0.559558806984984,0.6734839734146908,0.7605959244264879,0.7917481849527095,0.9721384703642957,1.2354899730953017,1.3555887486551192,1.4251264456636494,1.500736177288511,1.5525500317386092,1.624346225617279],\"type\":\"scatter\"},{\"line\":{\"color\":\"red\",\"dash\":\"longdash\"},\"mode\":\"lines\",\"name\":\"GT5.1\",\"x\":[0.0,2.0131944444444443,6.820138888888889,8.754166666666666,10.789583333333333,13.95625,16.7875,20.752083333333335,22.779166666666665,24.757638888888888,27.785416666666666,29.749305555555555,34.97152777777778],\"y\":[0.0,0.11248585200790066,0.21601115228704973,0.2618262551203714,0.2925356372039634,0.31753422708079276,0.4079713342900811,0.47482356725855407,0.4868833799497962,0.5061510294077219,0.5592483124219542,0.5776888005969798,0.63005972304894],\"type\":\"scatter\"},{\"marker\":{\"color\":\"red\"},\"mode\":\"markers\",\"name\":\"GT5.1 Data Points\",\"x\":[0.0,2.0131944444444443,6.820138888888889,8.754166666666666,10.789583333333333,13.95625,16.7875,20.752083333333335,22.779166666666665,24.757638888888888,27.785416666666666,29.749305555555555,34.97152777777778],\"y\":[0.0,0.11248585200790066,0.21601115228704973,0.2618262551203714,0.2925356372039634,0.31753422708079276,0.4079713342900811,0.47482356725855407,0.4868833799497962,0.5061510294077219,0.5592483124219542,0.5776888005969798,0.63005972304894],\"type\":\"scatter\"},{\"line\":{\"color\":\"red\",\"dash\":\"longdashdot\"},\"mode\":\"lines\",\"name\":\"GT5.2\",\"x\":[0.0,2.0145833333333334,6.821527777777778,8.755555555555556,10.790277777777778,13.956944444444444,16.788888888888888,20.752083333333335,22.78263888888889,24.763194444444444,27.790277777777778,29.75,34.97291666666667],\"y\":[0.0,0.10299379340225137,0.18886399366396095,0.2326480821012212,0.25509782709715273,0.2421760168025609,0.2722846378263166,0.3386283456193981,0.36011346159445895,0.40630599484752616,0.44486974763968307,0.4892990863711305,0.5618099490450795],\"type\":\"scatter\"},{\"marker\":{\"color\":\"red\"},\"mode\":\"markers\",\"name\":\"GT5.2 Data Points\",\"x\":[0.0,2.0145833333333334,6.821527777777778,8.755555555555556,10.790277777777778,13.956944444444444,16.788888888888888,20.752083333333335,22.78263888888889,24.763194444444444,27.790277777777778,29.75,34.97291666666667],\"y\":[0.0,0.10299379340225137,0.18886399366396095,0.2326480821012212,0.25509782709715273,0.2421760168025609,0.2722846378263166,0.3386283456193981,0.36011346159445895,0.40630599484752616,0.44486974763968307,0.4892990863711305,0.5618099490450795],\"type\":\"scatter\"},{\"line\":{\"color\":\"red\",\"dash\":\"dot\"},\"mode\":\"lines\",\"name\":\"GT6.1\",\"x\":[0.0,1.0229166666666667,5.823611111111111,7.760416666666667,9.790972222222223,12.957638888888889,15.789583333333333,19.752777777777776,21.783333333333335,23.76388888888889,26.790277777777778,28.749305555555555,33.97222222222222],\"y\":[0.0,0.07965718461225577,0.17008550957928661,0.3456268261017885,0.5413348634675669,0.49620456444381655,0.6219411841581519,0.7709497084473799,0.8487044536750074,0.9121294313728285,0.9991840957133422,1.0533527363119504,1.183801272592078],\"type\":\"scatter\"},{\"marker\":{\"color\":\"red\"},\"mode\":\"markers\",\"name\":\"GT6.1 Data Points\",\"x\":[0.0,1.0229166666666667,5.823611111111111,7.760416666666667,9.790972222222223,12.957638888888889,15.789583333333333,19.752777777777776,21.783333333333335,23.76388888888889,26.790277777777778,28.749305555555555,33.97222222222222],\"y\":[0.0,0.07965718461225577,0.17008550957928661,0.3456268261017885,0.5413348634675669,0.49620456444381655,0.6219411841581519,0.7709497084473799,0.8487044536750074,0.9121294313728285,0.9991840957133422,1.0533527363119504,1.183801272592078],\"type\":\"scatter\"},{\"line\":{\"color\":\"red\",\"dash\":\"dash\"},\"mode\":\"lines\",\"name\":\"GT6.2\",\"x\":[0.0,1.0256944444444445,5.825,7.761805555555555,9.79375,12.959722222222222,15.790972222222223,19.75486111111111,21.788888888888888,23.76527777777778,26.791666666666668,28.75625,33.975],\"y\":[0.0,0.12182464424499001,0.3902586776875465,0.5139640389939646,0.6050150798836824,0.6418907547367371,0.7608514357039795,0.9260625989761905,1.0177849185147858,1.1010357023529074,1.2230607781983067,1.3058467470257344,1.5183355362467839],\"type\":\"scatter\"},{\"marker\":{\"color\":\"red\"},\"mode\":\"markers\",\"name\":\"GT6.2 Data Points\",\"x\":[0.0,1.0256944444444445,5.825,7.761805555555555,9.79375,12.959722222222222,15.790972222222223,19.75486111111111,21.788888888888888,23.76527777777778,26.791666666666668,28.75625,33.975],\"y\":[0.0,0.12182464424499001,0.3902586776875465,0.5139640389939646,0.6050150798836824,0.6418907547367371,0.7608514357039795,0.9260625989761905,1.0177849185147858,1.1010357023529074,1.2230607781983067,1.3058467470257344,1.5183355362467839],\"type\":\"scatter\"},{\"line\":{\"color\":\"blue\",\"dash\":\"solid\"},\"mode\":\"lines\",\"name\":\"GT2.1\",\"x\":[0.0,1.9909722222222221,6.805555555555555,8.744444444444444,10.738888888888889,13.950694444444444,16.781944444444445,20.74375,22.772916666666667,24.754166666666666,27.783333333333335,29.743055555555557,34.96527777777778],\"y\":[0.0,0.017697482777724618,0.03421029978723215,0.07196769268592869,0.14820295993835025,0.16815107640880872,0.23604619528727086,0.3277153692843696,0.38288220484705143,0.4385570027609818,0.5396283662433483,0.6100269926267836,0.7840262096480398],\"type\":\"scatter\"},{\"marker\":{\"color\":\"blue\"},\"mode\":\"markers\",\"name\":\"GT2.1 Data Points\",\"x\":[0.0,1.9909722222222221,6.805555555555555,8.744444444444444,10.738888888888889,13.950694444444444,16.781944444444445,20.74375,22.772916666666667,24.754166666666666,27.783333333333335,29.743055555555557,34.96527777777778],\"y\":[0.0,0.017697482777724618,0.03421029978723215,0.07196769268592869,0.14820295993835025,0.16815107640880872,0.23604619528727086,0.3277153692843696,0.38288220484705143,0.4385570027609818,0.5396283662433483,0.6100269926267836,0.7840262096480398],\"type\":\"scatter\"},{\"line\":{\"color\":\"blue\",\"dash\":\"dash\"},\"mode\":\"lines\",\"name\":\"GT2.2\",\"x\":[0.0,1.992361111111111,6.811805555555556,8.744444444444444,10.780555555555555,13.95,16.781944444444445,20.74375,22.775,24.754166666666666,27.77638888888889,29.744444444444444,34.96458333333333],\"y\":[0.0,0.027316018422838702,0.07603335239255866,0.10103239430479286,0.13204018568299408,0.17225263174008432,0.20491107857399166,0.24837998634025865,0.2678237593459569,0.2913946524446504,0.3310170694536565,0.3576682675986032,0.45345054025752923],\"type\":\"scatter\"},{\"marker\":{\"color\":\"blue\"},\"mode\":\"markers\",\"name\":\"GT2.2 Data Points\",\"x\":[0.0,1.992361111111111,6.811805555555556,8.744444444444444,10.780555555555555,13.95,16.781944444444445,20.74375,22.775,24.754166666666666,27.77638888888889,29.744444444444444,34.96458333333333],\"y\":[0.0,0.027316018422838702,0.07603335239255866,0.10103239430479286,0.13204018568299408,0.17225263174008432,0.20491107857399166,0.24837998634025865,0.2678237593459569,0.2913946524446504,0.3310170694536565,0.3576682675986032,0.45345054025752923],\"type\":\"scatter\"},{\"line\":{\"color\":\"blue\",\"dash\":\"dot\"},\"mode\":\"lines\",\"name\":\"GT3.1\",\"x\":[0.0,2.0118055555555556,6.8125,8.745138888888889,10.78125,13.950694444444444,16.781944444444445,20.74375,22.775694444444444,24.75486111111111,27.78263888888889,29.744444444444444,34.96527777777778],\"y\":[0.0,0.12440583335602175,0.2970348388731206,0.361348315832221,0.4130225024532185,0.42854102620281287,0.4853860735777723,0.5806492679489266,0.6237167532049571,0.663282012707695,0.7277585307417537,0.7663018905076368,0.887385743061015],\"type\":\"scatter\"},{\"marker\":{\"color\":\"blue\"},\"mode\":\"markers\",\"name\":\"GT3.1 Data Points\",\"x\":[0.0,2.0118055555555556,6.8125,8.745138888888889,10.78125,13.950694444444444,16.781944444444445,20.74375,22.775694444444444,24.75486111111111,27.78263888888889,29.744444444444444,34.96527777777778],\"y\":[0.0,0.12440583335602175,0.2970348388731206,0.361348315832221,0.4130225024532185,0.42854102620281287,0.4853860735777723,0.5806492679489266,0.6237167532049571,0.663282012707695,0.7277585307417537,0.7663018905076368,0.887385743061015],\"type\":\"scatter\"},{\"line\":{\"color\":\"blue\",\"dash\":\"dashdot\"},\"mode\":\"lines\",\"name\":\"GT3.2\",\"x\":[0.0,2.0131944444444443,6.813194444444444,8.746527777777779,10.783333333333333,13.95138888888889,16.783333333333335,20.744444444444444,22.77638888888889,24.755555555555556,27.783333333333335,29.74513888888889,34.96597222222222],\"y\":[0.0,0.08340326922830413,0.24954465085312635,0.3184723649463691,0.37425447573874077,0.38915444394804655,0.4530351093281298,0.5372839600639283,0.5842363986693069,0.6395915794862415,0.7527263112021677,0.8522316089795121,1.2583988429749131],\"type\":\"scatter\"},{\"marker\":{\"color\":\"blue\"},\"mode\":\"markers\",\"name\":\"GT3.2 Data Points\",\"x\":[0.0,2.0131944444444443,6.813194444444444,8.746527777777779,10.783333333333333,13.95138888888889,16.783333333333335,20.744444444444444,22.77638888888889,24.755555555555556,27.783333333333335,29.74513888888889,34.96597222222222],\"y\":[0.0,0.08340326922830413,0.24954465085312635,0.3184723649463691,0.37425447573874077,0.38915444394804655,0.4530351093281298,0.5372839600639283,0.5842363986693069,0.6395915794862415,0.7527263112021677,0.8522316089795121,1.2583988429749131],\"type\":\"scatter\"},{\"line\":{\"color\":\"blue\",\"dash\":\"longdash\"},\"mode\":\"lines\",\"name\":\"GT7.1\",\"x\":[0.0,2.0145833333333334,6.854166666666667,8.763194444444444,10.79513888888889,13.960416666666667,16.792361111111113,20.75625,22.789583333333333,24.766666666666666,27.793055555555554,29.75625,34.97847222222222],\"y\":[0.0,0.04789998799781799,0.08237115066421627,0.11835579539310888,0.14632077354417938,0.261803097122637,0.4662284556425536,0.6152878294703957,0.6761154699786699,0.7248134876246257,0.7683506971152128,0.8099468296648603,0.8730873621997655],\"type\":\"scatter\"},{\"marker\":{\"color\":\"blue\"},\"mode\":\"markers\",\"name\":\"GT7.1 Data Points\",\"x\":[0.0,2.0145833333333334,6.854166666666667,8.763194444444444,10.79513888888889,13.960416666666667,16.792361111111113,20.75625,22.789583333333333,24.766666666666666,27.793055555555554,29.75625,34.97847222222222],\"y\":[0.0,0.04789998799781799,0.08237115066421627,0.11835579539310888,0.14632077354417938,0.261803097122637,0.4662284556425536,0.6152878294703957,0.6761154699786699,0.7248134876246257,0.7683506971152128,0.8099468296648603,0.8730873621997655],\"type\":\"scatter\"},{\"line\":{\"color\":\"blue\",\"dash\":\"longdashdot\"},\"mode\":\"lines\",\"name\":\"GT7.2\",\"x\":[0.0,1.0256944444444445,5.854166666666667,7.763888888888889,9.79513888888889,12.963888888888889,15.795833333333333,19.75625,21.790277777777778,23.76597222222222,26.79375,28.760416666666668,33.97847222222222],\"y\":[0.0,0.15046800509488223,0.3023771848064685,0.3718940977392621,0.4268899476134545,0.5341081473711217,0.676058127164811,0.8909204110215084,1.0048965846706643,1.1033156947503264,1.2114703150115211,1.2756810728277284,1.4122988718432892],\"type\":\"scatter\"},{\"marker\":{\"color\":\"blue\"},\"mode\":\"markers\",\"name\":\"GT7.2 Data Points\",\"x\":[0.0,1.0256944444444445,5.854166666666667,7.763888888888889,9.79513888888889,12.963888888888889,15.795833333333333,19.75625,21.790277777777778,23.76597222222222,26.79375,28.760416666666668,33.97847222222222],\"y\":[0.0,0.15046800509488223,0.3023771848064685,0.3718940977392621,0.4268899476134545,0.5341081473711217,0.676058127164811,0.8909204110215084,1.0048965846706643,1.1033156947503264,1.2114703150115211,1.2756810728277284,1.4122988718432892],\"type\":\"scatter\"},{\"line\":{\"color\":\"yellow\",\"dash\":\"solid\"},\"mode\":\"lines\",\"name\":\"GT8.1\",\"x\":[0.0,1.0277777777777777,5.855555555555555,7.7652777777777775,12.965277777777779,15.797222222222222,19.761805555555554,21.790972222222223,23.76736111111111,26.79513888888889,28.761805555555554,33.97986111111111],\"y\":[0.0,0.17256680274062172,0.3641423696687381,0.4715321700665902,0.663054372921951,0.7852470764434536,0.9018311725604484,0.9777554461132236,1.0255761495302067,1.0666996292117918,1.1259861562710434,1.2588947697438992],\"type\":\"scatter\"},{\"marker\":{\"color\":\"yellow\"},\"mode\":\"markers\",\"name\":\"GT8.1 Data Points\",\"x\":[0.0,1.0277777777777777,5.855555555555555,7.7652777777777775,12.965277777777779,15.797222222222222,19.761805555555554,21.790972222222223,23.76736111111111,26.79513888888889,28.761805555555554,33.97986111111111],\"y\":[0.0,0.17256680274062172,0.3641423696687381,0.4715321700665902,0.663054372921951,0.7852470764434536,0.9018311725604484,0.9777554461132236,1.0255761495302067,1.0666996292117918,1.1259861562710434,1.2588947697438992],\"type\":\"scatter\"},{\"line\":{\"color\":\"yellow\",\"dash\":\"dash\"},\"mode\":\"lines\",\"name\":\"GT8.2\",\"x\":[0.0,1.0284722222222222,5.855555555555555,7.7652777777777775,12.965277777777779,15.797222222222222,19.761111111111113,21.791666666666668,23.768055555555556,26.79513888888889,28.76597222222222,33.980555555555554],\"y\":[0.0,0.15461841330209175,0.41620143517997127,0.5613638770627412,0.7828317970623292,0.8956887078971596,1.012170598500536,1.0789713712394617,1.1221503190412443,1.170344029071555,1.2265166588105114,1.3038981657021456],\"type\":\"scatter\"},{\"marker\":{\"color\":\"yellow\"},\"mode\":\"markers\",\"name\":\"GT8.2 Data Points\",\"x\":[0.0,1.0284722222222222,5.855555555555555,7.7652777777777775,12.965277777777779,15.797222222222222,19.761111111111113,21.791666666666668,23.768055555555556,26.79513888888889,28.76597222222222,33.980555555555554],\"y\":[0.0,0.15461841330209175,0.41620143517997127,0.5613638770627412,0.7828317970623292,0.8956887078971596,1.012170598500536,1.0789713712394617,1.1221503190412443,1.170344029071555,1.2265166588105114,1.3038981657021456],\"type\":\"scatter\"}],                        {\"template\":{\"data\":{\"histogram2dcontour\":[{\"type\":\"histogram2dcontour\",\"colorbar\":{\"outlinewidth\":0,\"ticks\":\"\"},\"colorscale\":[[0.0,\"#0d0887\"],[0.1111111111111111,\"#46039f\"],[0.2222222222222222,\"#7201a8\"],[0.3333333333333333,\"#9c179e\"],[0.4444444444444444,\"#bd3786\"],[0.5555555555555556,\"#d8576b\"],[0.6666666666666666,\"#ed7953\"],[0.7777777777777778,\"#fb9f3a\"],[0.8888888888888888,\"#fdca26\"],[1.0,\"#f0f921\"]]}],\"choropleth\":[{\"type\":\"choropleth\",\"colorbar\":{\"outlinewidth\":0,\"ticks\":\"\"}}],\"histogram2d\":[{\"type\":\"histogram2d\",\"colorbar\":{\"outlinewidth\":0,\"ticks\":\"\"},\"colorscale\":[[0.0,\"#0d0887\"],[0.1111111111111111,\"#46039f\"],[0.2222222222222222,\"#7201a8\"],[0.3333333333333333,\"#9c179e\"],[0.4444444444444444,\"#bd3786\"],[0.5555555555555556,\"#d8576b\"],[0.6666666666666666,\"#ed7953\"],[0.7777777777777778,\"#fb9f3a\"],[0.8888888888888888,\"#fdca26\"],[1.0,\"#f0f921\"]]}],\"heatmap\":[{\"type\":\"heatmap\",\"colorbar\":{\"outlinewidth\":0,\"ticks\":\"\"},\"colorscale\":[[0.0,\"#0d0887\"],[0.1111111111111111,\"#46039f\"],[0.2222222222222222,\"#7201a8\"],[0.3333333333333333,\"#9c179e\"],[0.4444444444444444,\"#bd3786\"],[0.5555555555555556,\"#d8576b\"],[0.6666666666666666,\"#ed7953\"],[0.7777777777777778,\"#fb9f3a\"],[0.8888888888888888,\"#fdca26\"],[1.0,\"#f0f921\"]]}],\"heatmapgl\":[{\"type\":\"heatmapgl\",\"colorbar\":{\"outlinewidth\":0,\"ticks\":\"\"},\"colorscale\":[[0.0,\"#0d0887\"],[0.1111111111111111,\"#46039f\"],[0.2222222222222222,\"#7201a8\"],[0.3333333333333333,\"#9c179e\"],[0.4444444444444444,\"#bd3786\"],[0.5555555555555556,\"#d8576b\"],[0.6666666666666666,\"#ed7953\"],[0.7777777777777778,\"#fb9f3a\"],[0.8888888888888888,\"#fdca26\"],[1.0,\"#f0f921\"]]}],\"contourcarpet\":[{\"type\":\"contourcarpet\",\"colorbar\":{\"outlinewidth\":0,\"ticks\":\"\"}}],\"contour\":[{\"type\":\"contour\",\"colorbar\":{\"outlinewidth\":0,\"ticks\":\"\"},\"colorscale\":[[0.0,\"#0d0887\"],[0.1111111111111111,\"#46039f\"],[0.2222222222222222,\"#7201a8\"],[0.3333333333333333,\"#9c179e\"],[0.4444444444444444,\"#bd3786\"],[0.5555555555555556,\"#d8576b\"],[0.6666666666666666,\"#ed7953\"],[0.7777777777777778,\"#fb9f3a\"],[0.8888888888888888,\"#fdca26\"],[1.0,\"#f0f921\"]]}],\"surface\":[{\"type\":\"surface\",\"colorbar\":{\"outlinewidth\":0,\"ticks\":\"\"},\"colorscale\":[[0.0,\"#0d0887\"],[0.1111111111111111,\"#46039f\"],[0.2222222222222222,\"#7201a8\"],[0.3333333333333333,\"#9c179e\"],[0.4444444444444444,\"#bd3786\"],[0.5555555555555556,\"#d8576b\"],[0.6666666666666666,\"#ed7953\"],[0.7777777777777778,\"#fb9f3a\"],[0.8888888888888888,\"#fdca26\"],[1.0,\"#f0f921\"]]}],\"mesh3d\":[{\"type\":\"mesh3d\",\"colorbar\":{\"outlinewidth\":0,\"ticks\":\"\"}}],\"scatter\":[{\"marker\":{\"line\":{\"color\":\"#283442\"}},\"type\":\"scatter\"}],\"parcoords\":[{\"type\":\"parcoords\",\"line\":{\"colorbar\":{\"outlinewidth\":0,\"ticks\":\"\"}}}],\"scatterpolargl\":[{\"type\":\"scatterpolargl\",\"marker\":{\"colorbar\":{\"outlinewidth\":0,\"ticks\":\"\"}}}],\"bar\":[{\"error_x\":{\"color\":\"#f2f5fa\"},\"error_y\":{\"color\":\"#f2f5fa\"},\"marker\":{\"line\":{\"color\":\"rgb(17,17,17)\",\"width\":0.5},\"pattern\":{\"fillmode\":\"overlay\",\"size\":10,\"solidity\":0.2}},\"type\":\"bar\"}],\"scattergeo\":[{\"type\":\"scattergeo\",\"marker\":{\"colorbar\":{\"outlinewidth\":0,\"ticks\":\"\"}}}],\"scatterpolar\":[{\"type\":\"scatterpolar\",\"marker\":{\"colorbar\":{\"outlinewidth\":0,\"ticks\":\"\"}}}],\"histogram\":[{\"marker\":{\"pattern\":{\"fillmode\":\"overlay\",\"size\":10,\"solidity\":0.2}},\"type\":\"histogram\"}],\"scattergl\":[{\"marker\":{\"line\":{\"color\":\"#283442\"}},\"type\":\"scattergl\"}],\"scatter3d\":[{\"type\":\"scatter3d\",\"line\":{\"colorbar\":{\"outlinewidth\":0,\"ticks\":\"\"}},\"marker\":{\"colorbar\":{\"outlinewidth\":0,\"ticks\":\"\"}}}],\"scattermapbox\":[{\"type\":\"scattermapbox\",\"marker\":{\"colorbar\":{\"outlinewidth\":0,\"ticks\":\"\"}}}],\"scatterternary\":[{\"type\":\"scatterternary\",\"marker\":{\"colorbar\":{\"outlinewidth\":0,\"ticks\":\"\"}}}],\"scattercarpet\":[{\"type\":\"scattercarpet\",\"marker\":{\"colorbar\":{\"outlinewidth\":0,\"ticks\":\"\"}}}],\"carpet\":[{\"aaxis\":{\"endlinecolor\":\"#A2B1C6\",\"gridcolor\":\"#506784\",\"linecolor\":\"#506784\",\"minorgridcolor\":\"#506784\",\"startlinecolor\":\"#A2B1C6\"},\"baxis\":{\"endlinecolor\":\"#A2B1C6\",\"gridcolor\":\"#506784\",\"linecolor\":\"#506784\",\"minorgridcolor\":\"#506784\",\"startlinecolor\":\"#A2B1C6\"},\"type\":\"carpet\"}],\"table\":[{\"cells\":{\"fill\":{\"color\":\"#506784\"},\"line\":{\"color\":\"rgb(17,17,17)\"}},\"header\":{\"fill\":{\"color\":\"#2a3f5f\"},\"line\":{\"color\":\"rgb(17,17,17)\"}},\"type\":\"table\"}],\"barpolar\":[{\"marker\":{\"line\":{\"color\":\"rgb(17,17,17)\",\"width\":0.5},\"pattern\":{\"fillmode\":\"overlay\",\"size\":10,\"solidity\":0.2}},\"type\":\"barpolar\"}],\"pie\":[{\"automargin\":true,\"type\":\"pie\"}]},\"layout\":{\"autotypenumbers\":\"strict\",\"colorway\":[\"#636efa\",\"#EF553B\",\"#00cc96\",\"#ab63fa\",\"#FFA15A\",\"#19d3f3\",\"#FF6692\",\"#B6E880\",\"#FF97FF\",\"#FECB52\"],\"font\":{\"color\":\"#f2f5fa\"},\"hovermode\":\"closest\",\"hoverlabel\":{\"align\":\"left\"},\"paper_bgcolor\":\"rgb(17,17,17)\",\"plot_bgcolor\":\"rgb(17,17,17)\",\"polar\":{\"bgcolor\":\"rgb(17,17,17)\",\"angularaxis\":{\"gridcolor\":\"#506784\",\"linecolor\":\"#506784\",\"ticks\":\"\"},\"radialaxis\":{\"gridcolor\":\"#506784\",\"linecolor\":\"#506784\",\"ticks\":\"\"}},\"ternary\":{\"bgcolor\":\"rgb(17,17,17)\",\"aaxis\":{\"gridcolor\":\"#506784\",\"linecolor\":\"#506784\",\"ticks\":\"\"},\"baxis\":{\"gridcolor\":\"#506784\",\"linecolor\":\"#506784\",\"ticks\":\"\"},\"caxis\":{\"gridcolor\":\"#506784\",\"linecolor\":\"#506784\",\"ticks\":\"\"}},\"coloraxis\":{\"colorbar\":{\"outlinewidth\":0,\"ticks\":\"\"}},\"colorscale\":{\"sequential\":[[0.0,\"#0d0887\"],[0.1111111111111111,\"#46039f\"],[0.2222222222222222,\"#7201a8\"],[0.3333333333333333,\"#9c179e\"],[0.4444444444444444,\"#bd3786\"],[0.5555555555555556,\"#d8576b\"],[0.6666666666666666,\"#ed7953\"],[0.7777777777777778,\"#fb9f3a\"],[0.8888888888888888,\"#fdca26\"],[1.0,\"#f0f921\"]],\"sequentialminus\":[[0.0,\"#0d0887\"],[0.1111111111111111,\"#46039f\"],[0.2222222222222222,\"#7201a8\"],[0.3333333333333333,\"#9c179e\"],[0.4444444444444444,\"#bd3786\"],[0.5555555555555556,\"#d8576b\"],[0.6666666666666666,\"#ed7953\"],[0.7777777777777778,\"#fb9f3a\"],[0.8888888888888888,\"#fdca26\"],[1.0,\"#f0f921\"]],\"diverging\":[[0,\"#8e0152\"],[0.1,\"#c51b7d\"],[0.2,\"#de77ae\"],[0.3,\"#f1b6da\"],[0.4,\"#fde0ef\"],[0.5,\"#f7f7f7\"],[0.6,\"#e6f5d0\"],[0.7,\"#b8e186\"],[0.8,\"#7fbc41\"],[0.9,\"#4d9221\"],[1,\"#276419\"]]},\"xaxis\":{\"gridcolor\":\"#283442\",\"linecolor\":\"#506784\",\"ticks\":\"\",\"title\":{\"standoff\":15},\"zerolinecolor\":\"#283442\",\"automargin\":true,\"zerolinewidth\":2},\"yaxis\":{\"gridcolor\":\"#283442\",\"linecolor\":\"#506784\",\"ticks\":\"\",\"title\":{\"standoff\":15},\"zerolinecolor\":\"#283442\",\"automargin\":true,\"zerolinewidth\":2},\"scene\":{\"xaxis\":{\"backgroundcolor\":\"rgb(17,17,17)\",\"gridcolor\":\"#506784\",\"linecolor\":\"#506784\",\"showbackground\":true,\"ticks\":\"\",\"zerolinecolor\":\"#C8D4E3\",\"gridwidth\":2},\"yaxis\":{\"backgroundcolor\":\"rgb(17,17,17)\",\"gridcolor\":\"#506784\",\"linecolor\":\"#506784\",\"showbackground\":true,\"ticks\":\"\",\"zerolinecolor\":\"#C8D4E3\",\"gridwidth\":2},\"zaxis\":{\"backgroundcolor\":\"rgb(17,17,17)\",\"gridcolor\":\"#506784\",\"linecolor\":\"#506784\",\"showbackground\":true,\"ticks\":\"\",\"zerolinecolor\":\"#C8D4E3\",\"gridwidth\":2}},\"shapedefaults\":{\"line\":{\"color\":\"#f2f5fa\"}},\"annotationdefaults\":{\"arrowcolor\":\"#f2f5fa\",\"arrowhead\":0,\"arrowwidth\":1},\"geo\":{\"bgcolor\":\"rgb(17,17,17)\",\"landcolor\":\"rgb(17,17,17)\",\"subunitcolor\":\"#506784\",\"showland\":true,\"showlakes\":true,\"lakecolor\":\"rgb(17,17,17)\"},\"title\":{\"x\":0.05},\"updatemenudefaults\":{\"bgcolor\":\"#506784\",\"borderwidth\":0},\"sliderdefaults\":{\"bgcolor\":\"#C8D4E3\",\"borderwidth\":1,\"bordercolor\":\"rgb(17,17,17)\",\"tickwidth\":0},\"mapbox\":{\"style\":\"dark\"}}},\"width\":1200,\"height\":800,\"annotations\":[{\"font\":{\"color\":\"red\",\"size\":14},\"showarrow\":false,\"text\":\"red is 1 m - 6 m\",\"x\":0.02,\"xref\":\"paper\",\"y\":0.98,\"yref\":\"paper\"},{\"font\":{\"color\":\"blue\",\"size\":14},\"showarrow\":false,\"text\":\"blue is 6 m - 12 m\",\"x\":0.02,\"xref\":\"paper\",\"y\":0.92,\"yref\":\"paper\"},{\"font\":{\"color\":\"yellow\",\"size\":14},\"showarrow\":false,\"text\":\"Yellow is 12 m - 18 m\",\"x\":0.02,\"xref\":\"paper\",\"y\":0.8,\"yref\":\"paper\"}],\"legend\":{\"x\":0,\"y\":-0.2,\"orientation\":\"h\",\"traceorder\":\"normal\"},\"title\":{\"text\":\"Colors based on depth layer Cgas_DM_cum\"},\"xaxis\":{\"title\":{\"text\":\"Day\"}},\"yaxis\":{\"title\":{\"text\":\"Cgas_DM_cum\"}},\"showlegend\":true,\"plot_bgcolor\":\"grey\"},                        {\"responsive\": true}                    ).then(function(){\n                            \nvar gd = document.getElementById('1089448f-20c9-4c5d-ae27-52ddeec51a91');\nvar x = new MutationObserver(function (mutations, observer) {{\n        var display = window.getComputedStyle(gd).display;\n        if (!display || display === 'none') {{\n            console.log([gd, 'removed!']);\n            Plotly.purge(gd);\n            observer.disconnect();\n        }}\n}});\n\n// Listen for the removal of the full notebook cells\nvar notebookContainer = gd.closest('#notebook-container');\nif (notebookContainer) {{\n    x.observe(notebookContainer, {childList: true});\n}}\n\n// Listen for the clearing of the current output cell\nvar outputEl = gd.closest('.output');\nif (outputEl) {{\n    x.observe(outputEl, {childList: true});\n}}\n\n                        })                };                });            </script>        </div>"
     },
     "metadata": {},
     "output_type": "display_data"
    }
   ],
   "source": [
    "import plotly.graph_objects as go\n",
    "\n",
    "# Define the line styles\n",
    "line_styles = ['solid', 'dash', 'dot', 'dashdot', 'longdash', 'longdashdot', 'dot', 'dash']\n",
    "\n",
    "# Create the figure\n",
    "fig = go.Figure()\n",
    "\n",
    "# Modify the layout with the desired figure size\n",
    "fig.update_layout(\n",
    "    width=15*80,  # 80 pixels per unit width\n",
    "    height=10*80,  # 80 pixels per unit height\n",
    ")\n",
    "\n",
    "# Iterate over sample_list_1m_6m\n",
    "for i, sheet_name in enumerate(sample_list_1m_6m):\n",
    "    df = dict_data_frames[sheet_name]\n",
    "\n",
    "    # Drop the rows where 'CumulativeColumn' is NaN\n",
    "    df_dropped = df.dropna(subset=['Cgas_DM_cum'])\n",
    "\n",
    "    # Add the line trace\n",
    "    fig.add_trace(go.Scatter(\n",
    "        x=df_dropped['Day'],\n",
    "        y=df_dropped['Cgas_DM_cum'],\n",
    "        mode='lines',\n",
    "        name=sheet_name,\n",
    "        line=dict(color='red', dash=line_styles[i])\n",
    "    ))\n",
    "\n",
    "    # Add the scatter trace\n",
    "    fig.add_trace(go.Scatter(\n",
    "        x=df_dropped['Day'],\n",
    "        y=df_dropped['Cgas_DM_cum'],\n",
    "        mode='markers',\n",
    "        name=f'{sheet_name} Data Points',\n",
    "        marker=dict(color='red')\n",
    "    ))\n",
    "\n",
    "# Iterate over sample_list_6m_12m\n",
    "for i, sheet_name in enumerate(sample_list_6m_12m):\n",
    "    df = dict_data_frames[sheet_name]\n",
    "\n",
    "    # Drop the rows where 'CumulativeColumn' is NaN\n",
    "    df_dropped = df.dropna(subset=['Cgas_DM_cum'])\n",
    "\n",
    "    # Add the line trace\n",
    "    fig.add_trace(go.Scatter(\n",
    "        x=df_dropped['Day'],\n",
    "        y=df_dropped['Cgas_DM_cum'],\n",
    "        mode='lines',\n",
    "        name=sheet_name,\n",
    "        line=dict(color='blue', dash=line_styles[i])\n",
    "    ))\n",
    "\n",
    "    # Add the scatter trace\n",
    "    fig.add_trace(go.Scatter(\n",
    "        x=df_dropped['Day'],\n",
    "        y=df_dropped['Cgas_DM_cum'],\n",
    "        mode='markers',\n",
    "        name=f'{sheet_name} Data Points',\n",
    "        marker=dict(color='blue')\n",
    "    ))\n",
    "\n",
    "# Iterate over sample_list_12m_18m\n",
    "for i, sheet_name in enumerate(sample_list_12m_18m):\n",
    "    df = dict_data_frames[sheet_name]\n",
    "\n",
    "    # Drop the rows where 'CumulativeColumn' is NaN\n",
    "    df_dropped = df.dropna(subset=['Cgas_DM_cum'])\n",
    "\n",
    "    # Add the line trace\n",
    "    fig.add_trace(go.Scatter(\n",
    "        x=df_dropped['Day'],\n",
    "        y=df_dropped['Cgas_DM_cum'],\n",
    "        mode='lines',\n",
    "        name=sheet_name,\n",
    "        line=dict(color='yellow', dash=line_styles[i])\n",
    "    ))\n",
    "\n",
    "    # Add the scatter trace\n",
    "    fig.add_trace(go.Scatter(\n",
    "        x=df_dropped['Day'],\n",
    "        y=df_dropped['Cgas_DM_cum'],\n",
    "        mode='markers',\n",
    "        name=f'{sheet_name} Data Points',\n",
    "        marker=dict(color='yellow')\n",
    "    ))\n",
    "\n",
    "# Add legend-like text annotations\n",
    "fig.add_annotation(\n",
    "    xref='paper',\n",
    "    yref='paper',\n",
    "    x=0.02,\n",
    "    y=0.98,\n",
    "    text='red is 1 m - 6 m',\n",
    "    showarrow=False,\n",
    "    font=dict(size=14, color='red')\n",
    ")\n",
    "\n",
    "# Add legend-like text annotations\n",
    "fig.add_annotation(\n",
    "    xref='paper',\n",
    "    yref='paper',\n",
    "    x=0.02,\n",
    "    y=0.92,\n",
    "    text='blue is 6 m - 12 m',\n",
    "    showarrow=False,\n",
    "    font=dict(size=14, color='blue')\n",
    ")\n",
    "\n",
    "# Add legend-like text annotations\n",
    "fig.add_annotation(\n",
    "    xref='paper',\n",
    "    yref='paper',\n",
    "    x=0.02,\n",
    "    y=0.8,\n",
    "    text='Yellow is 12 m - 18 m',\n",
    "    showarrow=False,\n",
    "    font=dict(size=14, color='yellow')\n",
    ")\n",
    "\n",
    "# Update the layout\n",
    "fig.update_layout(\n",
    "    title='Colors based on depth layer Cgas_DM_cum',\n",
    "    xaxis=dict(title='Day'),\n",
    "    yaxis=dict(title='Cgas_DM_cum'),\n",
    "    showlegend=True,\n",
    "    legend=dict(\n",
    "        x=0,\n",
    "        y=-0.2,\n",
    "        orientation='h',\n",
    "        traceorder='normal'\n",
    "    ),\n",
    "    plot_bgcolor='grey'  # Set the plot background color to white\n",
    ")\n",
    "\n",
    "# Show the chart\n",
    "fig.show()\n"
   ],
   "metadata": {
    "collapsed": false,
    "ExecuteTime": {
     "end_time": "2023-06-27T10:29:03.951310900Z",
     "start_time": "2023-06-27T10:29:03.822990300Z"
    }
   }
  },
  {
   "cell_type": "code",
   "execution_count": 51,
   "outputs": [
    {
     "data": {
      "application/vnd.plotly.v1+json": {
       "data": [
        {
         "marker": {
          "color": "red"
         },
         "mode": "markers",
         "name": "GT1.1 Data Points",
         "x": [
          0.0,
          2.0,
          6.8180555555555555,
          8.756944444444445,
          10.79375,
          13.963888888888889,
          16.780555555555555,
          20.74861111111111,
          22.786805555555556,
          24.76875,
          27.783333333333335,
          29.756944444444443,
          34.97847222222222
         ],
         "y": [
          0.0,
          6.808472762858926,
          0.34840115566367996,
          3.7095378263987686,
          1.4112591268049521,
          0.2714472250893865,
          1.0105185898038616,
          0.9998626567243883,
          0.9221770539090672,
          0.954334366501155,
          0.9676433296682654,
          0.8614288031856469,
          0.7935073739764299
         ],
         "type": "scatter"
        },
        {
         "marker": {
          "color": "red"
         },
         "mode": "markers",
         "name": "GT1.2 Data Points",
         "x": [
          0.0,
          1.9902777777777778,
          6.805555555555555,
          8.745138888888889,
          10.78125,
          13.95138888888889,
          16.783333333333335,
          20.73611111111111,
          22.773611111111112,
          24.755555555555556,
          27.784027777777776,
          29.744444444444444,
          34.96597222222222
         ],
         "y": [
          0.0,
          22.89847319532358,
          0.40696119473609976,
          6.110395353886036,
          1.7584083852338062,
          0.026026060261634808,
          1.150330560851035,
          1.1005835791248062,
          1.037406628331805,
          1.1116367535782528,
          1.1132284571081912,
          0.967337776962666,
          1.0452241367312187
         ],
         "type": "scatter"
        },
        {
         "marker": {
          "color": "red"
         },
         "mode": "markers",
         "name": "GT4.1 Data Points",
         "x": [
          0.0,
          1.0222222222222221,
          5.81875,
          7.753472222222222,
          9.784722222222221,
          12.952777777777778,
          15.784027777777778,
          19.747916666666665,
          21.777083333333334,
          23.756944444444443,
          26.78472222222222,
          28.747916666666665,
          33.96944444444444
         ],
         "y": [
          0.0,
          0.580965484419541,
          0.6744646979305956,
          0.5447546405307194,
          0.6286583015975615,
          1.3772204999360003,
          0.8534204011794337,
          0.9527128977185305,
          0.660807784270266,
          0.6775613040391854,
          0.8172250122253372,
          0.7008612927891004,
          0.9810564699656271
         ],
         "type": "scatter"
        },
        {
         "marker": {
          "color": "red"
         },
         "mode": "markers",
         "name": "GT4.2 Data Points",
         "x": [
          0.0,
          1.0243055555555556,
          5.820138888888889,
          7.754166666666666,
          9.785416666666666,
          12.954166666666667,
          15.78888888888889,
          19.75347222222222,
          21.779166666666665,
          23.758333333333333,
          26.78611111111111,
          28.74861111111111,
          33.96875
         ],
         "y": [
          0.0,
          0.4585293283639102,
          0.636543900840892,
          0.4861431656096529,
          0.6082935134395878,
          1.435636125247763,
          0.8437391120552973,
          0.9381119596316765,
          0.6460195431459286,
          0.6513272764393976,
          0.7633265427233826,
          0.6293855919645694,
          0.9850393901029878
         ],
         "type": "scatter"
        },
        {
         "marker": {
          "color": "red"
         },
         "mode": "markers",
         "name": "GT5.1 Data Points",
         "x": [
          0.0,
          2.0131944444444443,
          6.820138888888889,
          8.754166666666666,
          10.789583333333333,
          13.95625,
          16.7875,
          20.752083333333335,
          22.779166666666665,
          24.757638888888888,
          27.785416666666666,
          29.749305555555555,
          34.97152777777778
         ],
         "y": [
          0.0,
          1.309273609148227,
          1.1815248889223184,
          0.7946842419143831,
          1.371218972269844,
          0.730947282482725,
          0.9674642529261732,
          0.7534870296970948,
          1.6734213810177063,
          1.07913243853115,
          0.6101571497135408,
          0.9556988746642966,
          0.8979213108083269
         ],
         "type": "scatter"
        },
        {
         "marker": {
          "color": "red"
         },
         "mode": "markers",
         "name": "GT5.2 Data Points",
         "x": [
          0.0,
          2.0145833333333334,
          6.821527777777778,
          8.755555555555556,
          10.790277777777778,
          13.956944444444444,
          16.788888888888888,
          20.752083333333335,
          22.78263888888889,
          24.763194444444444,
          27.790277777777778,
          29.75,
          34.97291666666667
         ],
         "y": [
          0.0,
          0.7523715068496655,
          1.0056929061535669,
          0.7060499946460862,
          1.2689198886080522,
          1.5162903633771612,
          1.1429889789061944,
          0.7455531393097219,
          1.107024026702497,
          0.5601783416567944,
          0.909658079308093,
          0.5027106505904176,
          0.7596002095659763
         ],
         "type": "scatter"
        },
        {
         "marker": {
          "color": "red"
         },
         "mode": "markers",
         "name": "GT6.1 Data Points",
         "x": [
          0.0,
          1.0229166666666667,
          5.823611111111111,
          7.760416666666667,
          9.790972222222223,
          12.957638888888889,
          15.789583333333333,
          19.752777777777776,
          21.783333333333335,
          23.76388888888889,
          26.790277777777778,
          28.749305555555555,
          33.97222222222222
         ],
         "y": [
          0.0,
          2.9804011758696087,
          1.0080996423748136,
          1.0512323663272138,
          0.9617866174120221,
          0.8550250988030996,
          0.9372038607560987,
          0.903653634632886,
          0.8271695280920803,
          0.9255260359717551,
          0.9374670945154767,
          0.9042091045526714,
          0.9160414722437886
         ],
         "type": "scatter"
        },
        {
         "marker": {
          "color": "red"
         },
         "mode": "markers",
         "name": "GT6.2 Data Points",
         "x": [
          0.0,
          1.0256944444444445,
          5.825,
          7.761805555555555,
          9.79375,
          12.959722222222222,
          15.790972222222223,
          19.75486111111111,
          21.788888888888888,
          23.76527777777778,
          26.791666666666668,
          28.75625,
          33.975
         ],
         "y": [
          0.0,
          1.727631969959554,
          1.0744281775647075,
          0.9320165307676811,
          0.9287714169572229,
          0.9060123523509639,
          0.8712491678866061,
          0.8165578142771522,
          0.7781750109215961,
          0.7667698299472172,
          0.781712803730641,
          0.7428073576269206,
          0.7567006096338791
         ],
         "type": "scatter"
        },
        {
         "marker": {
          "color": "blue"
         },
         "mode": "markers",
         "name": "GT2.1 Data Points",
         "x": [
          0.0,
          1.9909722222222221,
          6.805555555555555,
          8.744444444444444,
          10.738888888888889,
          13.950694444444444,
          16.781944444444445,
          20.74375,
          22.772916666666667,
          24.754166666666666,
          27.783333333333335,
          29.743055555555557,
          34.96527777777778
         ],
         "y": [
          0.0,
          20.38491988127941,
          0.22864667432414756,
          4.731009380605716,
          1.692564303782729,
          -0.1029663706959156,
          1.2993158794698767,
          1.1809903305963307,
          1.107216998958056,
          1.1260921909498696,
          1.0642925206009872,
          0.9978321485450524,
          0.9994234539161415
         ],
         "type": "scatter"
        },
        {
         "marker": {
          "color": "blue"
         },
         "mode": "markers",
         "name": "GT2.2 Data Points",
         "x": [
          0.0,
          1.992361111111111,
          6.811805555555556,
          8.744444444444444,
          10.780555555555555,
          13.95,
          16.781944444444445,
          20.74375,
          22.775,
          24.754166666666666,
          27.77638888888889,
          29.744444444444444,
          34.96458333333333
         ],
         "y": [
          0.0,
          7.8594155797103,
          2.384327878807881,
          5.446675955497311,
          2.660743726587427,
          1.9587165391505985,
          2.0796001181576633,
          1.7488377503275792,
          2.1851037401543976,
          1.6598989885491615,
          1.5844294755190147,
          1.4544101106962504,
          1.305233017337235
         ],
         "type": "scatter"
        },
        {
         "marker": {
          "color": "blue"
         },
         "mode": "markers",
         "name": "GT3.1 Data Points",
         "x": [
          0.0,
          2.0118055555555556,
          6.8125,
          8.745138888888889,
          10.78125,
          13.950694444444444,
          16.781944444444445,
          20.74375,
          22.775694444444444,
          24.75486111111111,
          27.78263888888889,
          29.744444444444444,
          34.96527777777778
         ],
         "y": [
          0.0,
          2.5260282110272962,
          1.4558829199213434,
          1.2883518604048243,
          1.5313563951760791,
          2.0816196367882362,
          1.5844032384912206,
          1.4298582345740272,
          1.3588008522706767,
          1.9301700239352706,
          1.2615554791955568,
          1.2988208118418085,
          1.0680094910508904
         ],
         "type": "scatter"
        },
        {
         "marker": {
          "color": "blue"
         },
         "mode": "markers",
         "name": "GT3.2 Data Points",
         "x": [
          0.0,
          2.0131944444444443,
          6.813194444444444,
          8.746527777777779,
          10.783333333333333,
          13.95138888888889,
          16.783333333333335,
          20.744444444444444,
          22.77638888888889,
          24.755555555555556,
          27.783333333333335,
          29.74513888888889,
          34.96597222222222
         ],
         "y": [
          0.0,
          3.433708189922514,
          1.4678887260435307,
          1.209254210674993,
          1.3416341980331754,
          1.899908039065621,
          1.314105679132232,
          1.2611193560309046,
          1.2377717198094518,
          1.0606892909877037,
          0.9306092058223366,
          0.8315292399524445,
          0.6993949001782607
         ],
         "type": "scatter"
        },
        {
         "marker": {
          "color": "blue"
         },
         "mode": "markers",
         "name": "GT7.1 Data Points",
         "x": [
          0.0,
          2.0145833333333334,
          6.854166666666667,
          8.763194444444444,
          10.79513888888889,
          13.960416666666667,
          16.792361111111113,
          20.75625,
          22.789583333333333,
          24.766666666666666,
          27.793055555555554,
          29.75625,
          34.97847222222222
         ],
         "y": [
          0.0,
          5.647937510372514,
          2.1096326136663066,
          2.6147193452989343,
          2.0920778599455185,
          0.09194014963495736,
          0.8742612794433777,
          0.9111170728841803,
          0.8240733057379119,
          0.9109603777525446,
          1.2409743995046183,
          0.8645984606796376,
          1.1863942975766282
         ],
         "type": "scatter"
        },
        {
         "marker": {
          "color": "blue"
         },
         "mode": "markers",
         "name": "GT7.2 Data Points",
         "x": [
          0.0,
          1.0256944444444445,
          5.854166666666667,
          7.763888888888889,
          9.79513888888889,
          12.963888888888889,
          15.795833333333333,
          19.75625,
          21.790277777777778,
          23.76597222222222,
          26.79375,
          28.760416666666668,
          33.97847222222222
         ],
         "y": [
          0.0,
          1.7766435295137308,
          1.6938993309024595,
          1.2369457542780933,
          1.4611373175343187,
          1.049559676940686,
          0.8650713360261314,
          0.7902874299796531,
          0.7961967158443943,
          0.8019972693165281,
          0.9002411648327482,
          0.843852006329354,
          0.9120732536612488
         ],
         "type": "scatter"
        },
        {
         "marker": {
          "color": "yellow"
         },
         "mode": "markers",
         "name": "GT8.1 Data Points",
         "x": [
          0.0,
          1.0277777777777777,
          5.855555555555555,
          7.7652777777777775,
          12.965277777777779,
          15.797222222222222,
          19.761805555555554,
          21.790972222222223,
          23.76736111111111,
          26.79513888888889,
          28.761805555555554,
          33.97986111111111
         ],
         "y": [
          0.0,
          1.0028818010363378,
          1.0547085591979055,
          0.7019514134968873,
          0.8617099017471216,
          0.7860017376673648,
          0.8643006357535422,
          0.6749651810860126,
          0.8540934807073022,
          1.309482851656251,
          0.6834101628638456,
          0.8636561321314838
         ],
         "type": "scatter"
        },
        {
         "marker": {
          "color": "yellow"
         },
         "mode": "markers",
         "name": "GT8.2 Data Points",
         "x": [
          0.0,
          1.0284722222222222,
          5.855555555555555,
          7.7652777777777775,
          12.965277777777779,
          15.797222222222222,
          19.761111111111113,
          21.791666666666668,
          23.768055555555556,
          26.79513888888889,
          28.76597222222222,
          33.980555555555554
         ],
         "y": [
          0.0,
          1.320309714654801,
          0.9939737177751539,
          0.7084983264564969,
          0.8485678483150267,
          0.8152548998959305,
          0.9105972689121355,
          0.73613829634247,
          0.9345139013393025,
          1.2147266698227486,
          0.7027019537910687,
          1.1508778716972914
         ],
         "type": "scatter"
        }
       ],
       "layout": {
        "template": {
         "data": {
          "histogram2dcontour": [
           {
            "type": "histogram2dcontour",
            "colorbar": {
             "outlinewidth": 0,
             "ticks": ""
            },
            "colorscale": [
             [
              0.0,
              "#0d0887"
             ],
             [
              0.1111111111111111,
              "#46039f"
             ],
             [
              0.2222222222222222,
              "#7201a8"
             ],
             [
              0.3333333333333333,
              "#9c179e"
             ],
             [
              0.4444444444444444,
              "#bd3786"
             ],
             [
              0.5555555555555556,
              "#d8576b"
             ],
             [
              0.6666666666666666,
              "#ed7953"
             ],
             [
              0.7777777777777778,
              "#fb9f3a"
             ],
             [
              0.8888888888888888,
              "#fdca26"
             ],
             [
              1.0,
              "#f0f921"
             ]
            ]
           }
          ],
          "choropleth": [
           {
            "type": "choropleth",
            "colorbar": {
             "outlinewidth": 0,
             "ticks": ""
            }
           }
          ],
          "histogram2d": [
           {
            "type": "histogram2d",
            "colorbar": {
             "outlinewidth": 0,
             "ticks": ""
            },
            "colorscale": [
             [
              0.0,
              "#0d0887"
             ],
             [
              0.1111111111111111,
              "#46039f"
             ],
             [
              0.2222222222222222,
              "#7201a8"
             ],
             [
              0.3333333333333333,
              "#9c179e"
             ],
             [
              0.4444444444444444,
              "#bd3786"
             ],
             [
              0.5555555555555556,
              "#d8576b"
             ],
             [
              0.6666666666666666,
              "#ed7953"
             ],
             [
              0.7777777777777778,
              "#fb9f3a"
             ],
             [
              0.8888888888888888,
              "#fdca26"
             ],
             [
              1.0,
              "#f0f921"
             ]
            ]
           }
          ],
          "heatmap": [
           {
            "type": "heatmap",
            "colorbar": {
             "outlinewidth": 0,
             "ticks": ""
            },
            "colorscale": [
             [
              0.0,
              "#0d0887"
             ],
             [
              0.1111111111111111,
              "#46039f"
             ],
             [
              0.2222222222222222,
              "#7201a8"
             ],
             [
              0.3333333333333333,
              "#9c179e"
             ],
             [
              0.4444444444444444,
              "#bd3786"
             ],
             [
              0.5555555555555556,
              "#d8576b"
             ],
             [
              0.6666666666666666,
              "#ed7953"
             ],
             [
              0.7777777777777778,
              "#fb9f3a"
             ],
             [
              0.8888888888888888,
              "#fdca26"
             ],
             [
              1.0,
              "#f0f921"
             ]
            ]
           }
          ],
          "heatmapgl": [
           {
            "type": "heatmapgl",
            "colorbar": {
             "outlinewidth": 0,
             "ticks": ""
            },
            "colorscale": [
             [
              0.0,
              "#0d0887"
             ],
             [
              0.1111111111111111,
              "#46039f"
             ],
             [
              0.2222222222222222,
              "#7201a8"
             ],
             [
              0.3333333333333333,
              "#9c179e"
             ],
             [
              0.4444444444444444,
              "#bd3786"
             ],
             [
              0.5555555555555556,
              "#d8576b"
             ],
             [
              0.6666666666666666,
              "#ed7953"
             ],
             [
              0.7777777777777778,
              "#fb9f3a"
             ],
             [
              0.8888888888888888,
              "#fdca26"
             ],
             [
              1.0,
              "#f0f921"
             ]
            ]
           }
          ],
          "contourcarpet": [
           {
            "type": "contourcarpet",
            "colorbar": {
             "outlinewidth": 0,
             "ticks": ""
            }
           }
          ],
          "contour": [
           {
            "type": "contour",
            "colorbar": {
             "outlinewidth": 0,
             "ticks": ""
            },
            "colorscale": [
             [
              0.0,
              "#0d0887"
             ],
             [
              0.1111111111111111,
              "#46039f"
             ],
             [
              0.2222222222222222,
              "#7201a8"
             ],
             [
              0.3333333333333333,
              "#9c179e"
             ],
             [
              0.4444444444444444,
              "#bd3786"
             ],
             [
              0.5555555555555556,
              "#d8576b"
             ],
             [
              0.6666666666666666,
              "#ed7953"
             ],
             [
              0.7777777777777778,
              "#fb9f3a"
             ],
             [
              0.8888888888888888,
              "#fdca26"
             ],
             [
              1.0,
              "#f0f921"
             ]
            ]
           }
          ],
          "surface": [
           {
            "type": "surface",
            "colorbar": {
             "outlinewidth": 0,
             "ticks": ""
            },
            "colorscale": [
             [
              0.0,
              "#0d0887"
             ],
             [
              0.1111111111111111,
              "#46039f"
             ],
             [
              0.2222222222222222,
              "#7201a8"
             ],
             [
              0.3333333333333333,
              "#9c179e"
             ],
             [
              0.4444444444444444,
              "#bd3786"
             ],
             [
              0.5555555555555556,
              "#d8576b"
             ],
             [
              0.6666666666666666,
              "#ed7953"
             ],
             [
              0.7777777777777778,
              "#fb9f3a"
             ],
             [
              0.8888888888888888,
              "#fdca26"
             ],
             [
              1.0,
              "#f0f921"
             ]
            ]
           }
          ],
          "mesh3d": [
           {
            "type": "mesh3d",
            "colorbar": {
             "outlinewidth": 0,
             "ticks": ""
            }
           }
          ],
          "scatter": [
           {
            "marker": {
             "line": {
              "color": "#283442"
             }
            },
            "type": "scatter"
           }
          ],
          "parcoords": [
           {
            "type": "parcoords",
            "line": {
             "colorbar": {
              "outlinewidth": 0,
              "ticks": ""
             }
            }
           }
          ],
          "scatterpolargl": [
           {
            "type": "scatterpolargl",
            "marker": {
             "colorbar": {
              "outlinewidth": 0,
              "ticks": ""
             }
            }
           }
          ],
          "bar": [
           {
            "error_x": {
             "color": "#f2f5fa"
            },
            "error_y": {
             "color": "#f2f5fa"
            },
            "marker": {
             "line": {
              "color": "rgb(17,17,17)",
              "width": 0.5
             },
             "pattern": {
              "fillmode": "overlay",
              "size": 10,
              "solidity": 0.2
             }
            },
            "type": "bar"
           }
          ],
          "scattergeo": [
           {
            "type": "scattergeo",
            "marker": {
             "colorbar": {
              "outlinewidth": 0,
              "ticks": ""
             }
            }
           }
          ],
          "scatterpolar": [
           {
            "type": "scatterpolar",
            "marker": {
             "colorbar": {
              "outlinewidth": 0,
              "ticks": ""
             }
            }
           }
          ],
          "histogram": [
           {
            "marker": {
             "pattern": {
              "fillmode": "overlay",
              "size": 10,
              "solidity": 0.2
             }
            },
            "type": "histogram"
           }
          ],
          "scattergl": [
           {
            "marker": {
             "line": {
              "color": "#283442"
             }
            },
            "type": "scattergl"
           }
          ],
          "scatter3d": [
           {
            "type": "scatter3d",
            "line": {
             "colorbar": {
              "outlinewidth": 0,
              "ticks": ""
             }
            },
            "marker": {
             "colorbar": {
              "outlinewidth": 0,
              "ticks": ""
             }
            }
           }
          ],
          "scattermapbox": [
           {
            "type": "scattermapbox",
            "marker": {
             "colorbar": {
              "outlinewidth": 0,
              "ticks": ""
             }
            }
           }
          ],
          "scatterternary": [
           {
            "type": "scatterternary",
            "marker": {
             "colorbar": {
              "outlinewidth": 0,
              "ticks": ""
             }
            }
           }
          ],
          "scattercarpet": [
           {
            "type": "scattercarpet",
            "marker": {
             "colorbar": {
              "outlinewidth": 0,
              "ticks": ""
             }
            }
           }
          ],
          "carpet": [
           {
            "aaxis": {
             "endlinecolor": "#A2B1C6",
             "gridcolor": "#506784",
             "linecolor": "#506784",
             "minorgridcolor": "#506784",
             "startlinecolor": "#A2B1C6"
            },
            "baxis": {
             "endlinecolor": "#A2B1C6",
             "gridcolor": "#506784",
             "linecolor": "#506784",
             "minorgridcolor": "#506784",
             "startlinecolor": "#A2B1C6"
            },
            "type": "carpet"
           }
          ],
          "table": [
           {
            "cells": {
             "fill": {
              "color": "#506784"
             },
             "line": {
              "color": "rgb(17,17,17)"
             }
            },
            "header": {
             "fill": {
              "color": "#2a3f5f"
             },
             "line": {
              "color": "rgb(17,17,17)"
             }
            },
            "type": "table"
           }
          ],
          "barpolar": [
           {
            "marker": {
             "line": {
              "color": "rgb(17,17,17)",
              "width": 0.5
             },
             "pattern": {
              "fillmode": "overlay",
              "size": 10,
              "solidity": 0.2
             }
            },
            "type": "barpolar"
           }
          ],
          "pie": [
           {
            "automargin": true,
            "type": "pie"
           }
          ]
         },
         "layout": {
          "autotypenumbers": "strict",
          "colorway": [
           "#636efa",
           "#EF553B",
           "#00cc96",
           "#ab63fa",
           "#FFA15A",
           "#19d3f3",
           "#FF6692",
           "#B6E880",
           "#FF97FF",
           "#FECB52"
          ],
          "font": {
           "color": "#f2f5fa"
          },
          "hovermode": "closest",
          "hoverlabel": {
           "align": "left"
          },
          "paper_bgcolor": "rgb(17,17,17)",
          "plot_bgcolor": "rgb(17,17,17)",
          "polar": {
           "bgcolor": "rgb(17,17,17)",
           "angularaxis": {
            "gridcolor": "#506784",
            "linecolor": "#506784",
            "ticks": ""
           },
           "radialaxis": {
            "gridcolor": "#506784",
            "linecolor": "#506784",
            "ticks": ""
           }
          },
          "ternary": {
           "bgcolor": "rgb(17,17,17)",
           "aaxis": {
            "gridcolor": "#506784",
            "linecolor": "#506784",
            "ticks": ""
           },
           "baxis": {
            "gridcolor": "#506784",
            "linecolor": "#506784",
            "ticks": ""
           },
           "caxis": {
            "gridcolor": "#506784",
            "linecolor": "#506784",
            "ticks": ""
           }
          },
          "coloraxis": {
           "colorbar": {
            "outlinewidth": 0,
            "ticks": ""
           }
          },
          "colorscale": {
           "sequential": [
            [
             0.0,
             "#0d0887"
            ],
            [
             0.1111111111111111,
             "#46039f"
            ],
            [
             0.2222222222222222,
             "#7201a8"
            ],
            [
             0.3333333333333333,
             "#9c179e"
            ],
            [
             0.4444444444444444,
             "#bd3786"
            ],
            [
             0.5555555555555556,
             "#d8576b"
            ],
            [
             0.6666666666666666,
             "#ed7953"
            ],
            [
             0.7777777777777778,
             "#fb9f3a"
            ],
            [
             0.8888888888888888,
             "#fdca26"
            ],
            [
             1.0,
             "#f0f921"
            ]
           ],
           "sequentialminus": [
            [
             0.0,
             "#0d0887"
            ],
            [
             0.1111111111111111,
             "#46039f"
            ],
            [
             0.2222222222222222,
             "#7201a8"
            ],
            [
             0.3333333333333333,
             "#9c179e"
            ],
            [
             0.4444444444444444,
             "#bd3786"
            ],
            [
             0.5555555555555556,
             "#d8576b"
            ],
            [
             0.6666666666666666,
             "#ed7953"
            ],
            [
             0.7777777777777778,
             "#fb9f3a"
            ],
            [
             0.8888888888888888,
             "#fdca26"
            ],
            [
             1.0,
             "#f0f921"
            ]
           ],
           "diverging": [
            [
             0,
             "#8e0152"
            ],
            [
             0.1,
             "#c51b7d"
            ],
            [
             0.2,
             "#de77ae"
            ],
            [
             0.3,
             "#f1b6da"
            ],
            [
             0.4,
             "#fde0ef"
            ],
            [
             0.5,
             "#f7f7f7"
            ],
            [
             0.6,
             "#e6f5d0"
            ],
            [
             0.7,
             "#b8e186"
            ],
            [
             0.8,
             "#7fbc41"
            ],
            [
             0.9,
             "#4d9221"
            ],
            [
             1,
             "#276419"
            ]
           ]
          },
          "xaxis": {
           "gridcolor": "#283442",
           "linecolor": "#506784",
           "ticks": "",
           "title": {
            "standoff": 15
           },
           "zerolinecolor": "#283442",
           "automargin": true,
           "zerolinewidth": 2
          },
          "yaxis": {
           "gridcolor": "#283442",
           "linecolor": "#506784",
           "ticks": "",
           "title": {
            "standoff": 15
           },
           "zerolinecolor": "#283442",
           "automargin": true,
           "zerolinewidth": 2
          },
          "scene": {
           "xaxis": {
            "backgroundcolor": "rgb(17,17,17)",
            "gridcolor": "#506784",
            "linecolor": "#506784",
            "showbackground": true,
            "ticks": "",
            "zerolinecolor": "#C8D4E3",
            "gridwidth": 2
           },
           "yaxis": {
            "backgroundcolor": "rgb(17,17,17)",
            "gridcolor": "#506784",
            "linecolor": "#506784",
            "showbackground": true,
            "ticks": "",
            "zerolinecolor": "#C8D4E3",
            "gridwidth": 2
           },
           "zaxis": {
            "backgroundcolor": "rgb(17,17,17)",
            "gridcolor": "#506784",
            "linecolor": "#506784",
            "showbackground": true,
            "ticks": "",
            "zerolinecolor": "#C8D4E3",
            "gridwidth": 2
           }
          },
          "shapedefaults": {
           "line": {
            "color": "#f2f5fa"
           }
          },
          "annotationdefaults": {
           "arrowcolor": "#f2f5fa",
           "arrowhead": 0,
           "arrowwidth": 1
          },
          "geo": {
           "bgcolor": "rgb(17,17,17)",
           "landcolor": "rgb(17,17,17)",
           "subunitcolor": "#506784",
           "showland": true,
           "showlakes": true,
           "lakecolor": "rgb(17,17,17)"
          },
          "title": {
           "x": 0.05
          },
          "updatemenudefaults": {
           "bgcolor": "#506784",
           "borderwidth": 0
          },
          "sliderdefaults": {
           "bgcolor": "#C8D4E3",
           "borderwidth": 1,
           "bordercolor": "rgb(17,17,17)",
           "tickwidth": 0
          },
          "mapbox": {
           "style": "dark"
          }
         }
        },
        "width": 1200,
        "height": 800,
        "annotations": [
         {
          "font": {
           "color": "red",
           "size": 14
          },
          "showarrow": false,
          "text": "red is 1 m - 6 m",
          "x": 0.02,
          "xref": "paper",
          "y": 0.98,
          "yref": "paper"
         },
         {
          "font": {
           "color": "blue",
           "size": 14
          },
          "showarrow": false,
          "text": "blue is 6 m - 12 m",
          "x": 0.02,
          "xref": "paper",
          "y": 0.92,
          "yref": "paper"
         },
         {
          "font": {
           "color": "yellow",
           "size": 14
          },
          "showarrow": false,
          "text": "Yellow is 12 m - 18 m",
          "x": 0.02,
          "xref": "paper",
          "y": 0.8,
          "yref": "paper"
         }
        ],
        "shapes": [
         {
          "line": {
           "color": "black",
           "dash": "dash"
          },
          "type": "line",
          "x0": -1,
          "x1": 40,
          "y0": 1,
          "y1": 1
         }
        ],
        "legend": {
         "x": 0,
         "y": -0.2,
         "orientation": "h",
         "traceorder": "normal"
        },
        "title": {
         "text": "Colors based on depth layer Ratio O2/CO2"
        },
        "xaxis": {
         "title": {
          "text": "Day"
         }
        },
        "yaxis": {
         "title": {
          "text": "Ratio O2/CO2"
         }
        },
        "showlegend": true,
        "plot_bgcolor": "grey"
       },
       "config": {
        "plotlyServerURL": "https://plot.ly"
       }
      },
      "text/html": "<div>                            <div id=\"2dc23baf-e3a4-46e1-a325-171dfac203db\" class=\"plotly-graph-div\" style=\"height:800px; width:1200px;\"></div>            <script type=\"text/javascript\">                require([\"plotly\"], function(Plotly) {                    window.PLOTLYENV=window.PLOTLYENV || {};                                    if (document.getElementById(\"2dc23baf-e3a4-46e1-a325-171dfac203db\")) {                    Plotly.newPlot(                        \"2dc23baf-e3a4-46e1-a325-171dfac203db\",                        [{\"marker\":{\"color\":\"red\"},\"mode\":\"markers\",\"name\":\"GT1.1 Data Points\",\"x\":[0.0,2.0,6.8180555555555555,8.756944444444445,10.79375,13.963888888888889,16.780555555555555,20.74861111111111,22.786805555555556,24.76875,27.783333333333335,29.756944444444443,34.97847222222222],\"y\":[0.0,6.808472762858926,0.34840115566367996,3.7095378263987686,1.4112591268049521,0.2714472250893865,1.0105185898038616,0.9998626567243883,0.9221770539090672,0.954334366501155,0.9676433296682654,0.8614288031856469,0.7935073739764299],\"type\":\"scatter\"},{\"marker\":{\"color\":\"red\"},\"mode\":\"markers\",\"name\":\"GT1.2 Data Points\",\"x\":[0.0,1.9902777777777778,6.805555555555555,8.745138888888889,10.78125,13.95138888888889,16.783333333333335,20.73611111111111,22.773611111111112,24.755555555555556,27.784027777777776,29.744444444444444,34.96597222222222],\"y\":[0.0,22.89847319532358,0.40696119473609976,6.110395353886036,1.7584083852338062,0.026026060261634808,1.150330560851035,1.1005835791248062,1.037406628331805,1.1116367535782528,1.1132284571081912,0.967337776962666,1.0452241367312187],\"type\":\"scatter\"},{\"marker\":{\"color\":\"red\"},\"mode\":\"markers\",\"name\":\"GT4.1 Data Points\",\"x\":[0.0,1.0222222222222221,5.81875,7.753472222222222,9.784722222222221,12.952777777777778,15.784027777777778,19.747916666666665,21.777083333333334,23.756944444444443,26.78472222222222,28.747916666666665,33.96944444444444],\"y\":[0.0,0.580965484419541,0.6744646979305956,0.5447546405307194,0.6286583015975615,1.3772204999360003,0.8534204011794337,0.9527128977185305,0.660807784270266,0.6775613040391854,0.8172250122253372,0.7008612927891004,0.9810564699656271],\"type\":\"scatter\"},{\"marker\":{\"color\":\"red\"},\"mode\":\"markers\",\"name\":\"GT4.2 Data Points\",\"x\":[0.0,1.0243055555555556,5.820138888888889,7.754166666666666,9.785416666666666,12.954166666666667,15.78888888888889,19.75347222222222,21.779166666666665,23.758333333333333,26.78611111111111,28.74861111111111,33.96875],\"y\":[0.0,0.4585293283639102,0.636543900840892,0.4861431656096529,0.6082935134395878,1.435636125247763,0.8437391120552973,0.9381119596316765,0.6460195431459286,0.6513272764393976,0.7633265427233826,0.6293855919645694,0.9850393901029878],\"type\":\"scatter\"},{\"marker\":{\"color\":\"red\"},\"mode\":\"markers\",\"name\":\"GT5.1 Data Points\",\"x\":[0.0,2.0131944444444443,6.820138888888889,8.754166666666666,10.789583333333333,13.95625,16.7875,20.752083333333335,22.779166666666665,24.757638888888888,27.785416666666666,29.749305555555555,34.97152777777778],\"y\":[0.0,1.309273609148227,1.1815248889223184,0.7946842419143831,1.371218972269844,0.730947282482725,0.9674642529261732,0.7534870296970948,1.6734213810177063,1.07913243853115,0.6101571497135408,0.9556988746642966,0.8979213108083269],\"type\":\"scatter\"},{\"marker\":{\"color\":\"red\"},\"mode\":\"markers\",\"name\":\"GT5.2 Data Points\",\"x\":[0.0,2.0145833333333334,6.821527777777778,8.755555555555556,10.790277777777778,13.956944444444444,16.788888888888888,20.752083333333335,22.78263888888889,24.763194444444444,27.790277777777778,29.75,34.97291666666667],\"y\":[0.0,0.7523715068496655,1.0056929061535669,0.7060499946460862,1.2689198886080522,1.5162903633771612,1.1429889789061944,0.7455531393097219,1.107024026702497,0.5601783416567944,0.909658079308093,0.5027106505904176,0.7596002095659763],\"type\":\"scatter\"},{\"marker\":{\"color\":\"red\"},\"mode\":\"markers\",\"name\":\"GT6.1 Data Points\",\"x\":[0.0,1.0229166666666667,5.823611111111111,7.760416666666667,9.790972222222223,12.957638888888889,15.789583333333333,19.752777777777776,21.783333333333335,23.76388888888889,26.790277777777778,28.749305555555555,33.97222222222222],\"y\":[0.0,2.9804011758696087,1.0080996423748136,1.0512323663272138,0.9617866174120221,0.8550250988030996,0.9372038607560987,0.903653634632886,0.8271695280920803,0.9255260359717551,0.9374670945154767,0.9042091045526714,0.9160414722437886],\"type\":\"scatter\"},{\"marker\":{\"color\":\"red\"},\"mode\":\"markers\",\"name\":\"GT6.2 Data Points\",\"x\":[0.0,1.0256944444444445,5.825,7.761805555555555,9.79375,12.959722222222222,15.790972222222223,19.75486111111111,21.788888888888888,23.76527777777778,26.791666666666668,28.75625,33.975],\"y\":[0.0,1.727631969959554,1.0744281775647075,0.9320165307676811,0.9287714169572229,0.9060123523509639,0.8712491678866061,0.8165578142771522,0.7781750109215961,0.7667698299472172,0.781712803730641,0.7428073576269206,0.7567006096338791],\"type\":\"scatter\"},{\"marker\":{\"color\":\"blue\"},\"mode\":\"markers\",\"name\":\"GT2.1 Data Points\",\"x\":[0.0,1.9909722222222221,6.805555555555555,8.744444444444444,10.738888888888889,13.950694444444444,16.781944444444445,20.74375,22.772916666666667,24.754166666666666,27.783333333333335,29.743055555555557,34.96527777777778],\"y\":[0.0,20.38491988127941,0.22864667432414756,4.731009380605716,1.692564303782729,-0.1029663706959156,1.2993158794698767,1.1809903305963307,1.107216998958056,1.1260921909498696,1.0642925206009872,0.9978321485450524,0.9994234539161415],\"type\":\"scatter\"},{\"marker\":{\"color\":\"blue\"},\"mode\":\"markers\",\"name\":\"GT2.2 Data Points\",\"x\":[0.0,1.992361111111111,6.811805555555556,8.744444444444444,10.780555555555555,13.95,16.781944444444445,20.74375,22.775,24.754166666666666,27.77638888888889,29.744444444444444,34.96458333333333],\"y\":[0.0,7.8594155797103,2.384327878807881,5.446675955497311,2.660743726587427,1.9587165391505985,2.0796001181576633,1.7488377503275792,2.1851037401543976,1.6598989885491615,1.5844294755190147,1.4544101106962504,1.305233017337235],\"type\":\"scatter\"},{\"marker\":{\"color\":\"blue\"},\"mode\":\"markers\",\"name\":\"GT3.1 Data Points\",\"x\":[0.0,2.0118055555555556,6.8125,8.745138888888889,10.78125,13.950694444444444,16.781944444444445,20.74375,22.775694444444444,24.75486111111111,27.78263888888889,29.744444444444444,34.96527777777778],\"y\":[0.0,2.5260282110272962,1.4558829199213434,1.2883518604048243,1.5313563951760791,2.0816196367882362,1.5844032384912206,1.4298582345740272,1.3588008522706767,1.9301700239352706,1.2615554791955568,1.2988208118418085,1.0680094910508904],\"type\":\"scatter\"},{\"marker\":{\"color\":\"blue\"},\"mode\":\"markers\",\"name\":\"GT3.2 Data Points\",\"x\":[0.0,2.0131944444444443,6.813194444444444,8.746527777777779,10.783333333333333,13.95138888888889,16.783333333333335,20.744444444444444,22.77638888888889,24.755555555555556,27.783333333333335,29.74513888888889,34.96597222222222],\"y\":[0.0,3.433708189922514,1.4678887260435307,1.209254210674993,1.3416341980331754,1.899908039065621,1.314105679132232,1.2611193560309046,1.2377717198094518,1.0606892909877037,0.9306092058223366,0.8315292399524445,0.6993949001782607],\"type\":\"scatter\"},{\"marker\":{\"color\":\"blue\"},\"mode\":\"markers\",\"name\":\"GT7.1 Data Points\",\"x\":[0.0,2.0145833333333334,6.854166666666667,8.763194444444444,10.79513888888889,13.960416666666667,16.792361111111113,20.75625,22.789583333333333,24.766666666666666,27.793055555555554,29.75625,34.97847222222222],\"y\":[0.0,5.647937510372514,2.1096326136663066,2.6147193452989343,2.0920778599455185,0.09194014963495736,0.8742612794433777,0.9111170728841803,0.8240733057379119,0.9109603777525446,1.2409743995046183,0.8645984606796376,1.1863942975766282],\"type\":\"scatter\"},{\"marker\":{\"color\":\"blue\"},\"mode\":\"markers\",\"name\":\"GT7.2 Data Points\",\"x\":[0.0,1.0256944444444445,5.854166666666667,7.763888888888889,9.79513888888889,12.963888888888889,15.795833333333333,19.75625,21.790277777777778,23.76597222222222,26.79375,28.760416666666668,33.97847222222222],\"y\":[0.0,1.7766435295137308,1.6938993309024595,1.2369457542780933,1.4611373175343187,1.049559676940686,0.8650713360261314,0.7902874299796531,0.7961967158443943,0.8019972693165281,0.9002411648327482,0.843852006329354,0.9120732536612488],\"type\":\"scatter\"},{\"marker\":{\"color\":\"yellow\"},\"mode\":\"markers\",\"name\":\"GT8.1 Data Points\",\"x\":[0.0,1.0277777777777777,5.855555555555555,7.7652777777777775,12.965277777777779,15.797222222222222,19.761805555555554,21.790972222222223,23.76736111111111,26.79513888888889,28.761805555555554,33.97986111111111],\"y\":[0.0,1.0028818010363378,1.0547085591979055,0.7019514134968873,0.8617099017471216,0.7860017376673648,0.8643006357535422,0.6749651810860126,0.8540934807073022,1.309482851656251,0.6834101628638456,0.8636561321314838],\"type\":\"scatter\"},{\"marker\":{\"color\":\"yellow\"},\"mode\":\"markers\",\"name\":\"GT8.2 Data Points\",\"x\":[0.0,1.0284722222222222,5.855555555555555,7.7652777777777775,12.965277777777779,15.797222222222222,19.761111111111113,21.791666666666668,23.768055555555556,26.79513888888889,28.76597222222222,33.980555555555554],\"y\":[0.0,1.320309714654801,0.9939737177751539,0.7084983264564969,0.8485678483150267,0.8152548998959305,0.9105972689121355,0.73613829634247,0.9345139013393025,1.2147266698227486,0.7027019537910687,1.1508778716972914],\"type\":\"scatter\"}],                        {\"template\":{\"data\":{\"histogram2dcontour\":[{\"type\":\"histogram2dcontour\",\"colorbar\":{\"outlinewidth\":0,\"ticks\":\"\"},\"colorscale\":[[0.0,\"#0d0887\"],[0.1111111111111111,\"#46039f\"],[0.2222222222222222,\"#7201a8\"],[0.3333333333333333,\"#9c179e\"],[0.4444444444444444,\"#bd3786\"],[0.5555555555555556,\"#d8576b\"],[0.6666666666666666,\"#ed7953\"],[0.7777777777777778,\"#fb9f3a\"],[0.8888888888888888,\"#fdca26\"],[1.0,\"#f0f921\"]]}],\"choropleth\":[{\"type\":\"choropleth\",\"colorbar\":{\"outlinewidth\":0,\"ticks\":\"\"}}],\"histogram2d\":[{\"type\":\"histogram2d\",\"colorbar\":{\"outlinewidth\":0,\"ticks\":\"\"},\"colorscale\":[[0.0,\"#0d0887\"],[0.1111111111111111,\"#46039f\"],[0.2222222222222222,\"#7201a8\"],[0.3333333333333333,\"#9c179e\"],[0.4444444444444444,\"#bd3786\"],[0.5555555555555556,\"#d8576b\"],[0.6666666666666666,\"#ed7953\"],[0.7777777777777778,\"#fb9f3a\"],[0.8888888888888888,\"#fdca26\"],[1.0,\"#f0f921\"]]}],\"heatmap\":[{\"type\":\"heatmap\",\"colorbar\":{\"outlinewidth\":0,\"ticks\":\"\"},\"colorscale\":[[0.0,\"#0d0887\"],[0.1111111111111111,\"#46039f\"],[0.2222222222222222,\"#7201a8\"],[0.3333333333333333,\"#9c179e\"],[0.4444444444444444,\"#bd3786\"],[0.5555555555555556,\"#d8576b\"],[0.6666666666666666,\"#ed7953\"],[0.7777777777777778,\"#fb9f3a\"],[0.8888888888888888,\"#fdca26\"],[1.0,\"#f0f921\"]]}],\"heatmapgl\":[{\"type\":\"heatmapgl\",\"colorbar\":{\"outlinewidth\":0,\"ticks\":\"\"},\"colorscale\":[[0.0,\"#0d0887\"],[0.1111111111111111,\"#46039f\"],[0.2222222222222222,\"#7201a8\"],[0.3333333333333333,\"#9c179e\"],[0.4444444444444444,\"#bd3786\"],[0.5555555555555556,\"#d8576b\"],[0.6666666666666666,\"#ed7953\"],[0.7777777777777778,\"#fb9f3a\"],[0.8888888888888888,\"#fdca26\"],[1.0,\"#f0f921\"]]}],\"contourcarpet\":[{\"type\":\"contourcarpet\",\"colorbar\":{\"outlinewidth\":0,\"ticks\":\"\"}}],\"contour\":[{\"type\":\"contour\",\"colorbar\":{\"outlinewidth\":0,\"ticks\":\"\"},\"colorscale\":[[0.0,\"#0d0887\"],[0.1111111111111111,\"#46039f\"],[0.2222222222222222,\"#7201a8\"],[0.3333333333333333,\"#9c179e\"],[0.4444444444444444,\"#bd3786\"],[0.5555555555555556,\"#d8576b\"],[0.6666666666666666,\"#ed7953\"],[0.7777777777777778,\"#fb9f3a\"],[0.8888888888888888,\"#fdca26\"],[1.0,\"#f0f921\"]]}],\"surface\":[{\"type\":\"surface\",\"colorbar\":{\"outlinewidth\":0,\"ticks\":\"\"},\"colorscale\":[[0.0,\"#0d0887\"],[0.1111111111111111,\"#46039f\"],[0.2222222222222222,\"#7201a8\"],[0.3333333333333333,\"#9c179e\"],[0.4444444444444444,\"#bd3786\"],[0.5555555555555556,\"#d8576b\"],[0.6666666666666666,\"#ed7953\"],[0.7777777777777778,\"#fb9f3a\"],[0.8888888888888888,\"#fdca26\"],[1.0,\"#f0f921\"]]}],\"mesh3d\":[{\"type\":\"mesh3d\",\"colorbar\":{\"outlinewidth\":0,\"ticks\":\"\"}}],\"scatter\":[{\"marker\":{\"line\":{\"color\":\"#283442\"}},\"type\":\"scatter\"}],\"parcoords\":[{\"type\":\"parcoords\",\"line\":{\"colorbar\":{\"outlinewidth\":0,\"ticks\":\"\"}}}],\"scatterpolargl\":[{\"type\":\"scatterpolargl\",\"marker\":{\"colorbar\":{\"outlinewidth\":0,\"ticks\":\"\"}}}],\"bar\":[{\"error_x\":{\"color\":\"#f2f5fa\"},\"error_y\":{\"color\":\"#f2f5fa\"},\"marker\":{\"line\":{\"color\":\"rgb(17,17,17)\",\"width\":0.5},\"pattern\":{\"fillmode\":\"overlay\",\"size\":10,\"solidity\":0.2}},\"type\":\"bar\"}],\"scattergeo\":[{\"type\":\"scattergeo\",\"marker\":{\"colorbar\":{\"outlinewidth\":0,\"ticks\":\"\"}}}],\"scatterpolar\":[{\"type\":\"scatterpolar\",\"marker\":{\"colorbar\":{\"outlinewidth\":0,\"ticks\":\"\"}}}],\"histogram\":[{\"marker\":{\"pattern\":{\"fillmode\":\"overlay\",\"size\":10,\"solidity\":0.2}},\"type\":\"histogram\"}],\"scattergl\":[{\"marker\":{\"line\":{\"color\":\"#283442\"}},\"type\":\"scattergl\"}],\"scatter3d\":[{\"type\":\"scatter3d\",\"line\":{\"colorbar\":{\"outlinewidth\":0,\"ticks\":\"\"}},\"marker\":{\"colorbar\":{\"outlinewidth\":0,\"ticks\":\"\"}}}],\"scattermapbox\":[{\"type\":\"scattermapbox\",\"marker\":{\"colorbar\":{\"outlinewidth\":0,\"ticks\":\"\"}}}],\"scatterternary\":[{\"type\":\"scatterternary\",\"marker\":{\"colorbar\":{\"outlinewidth\":0,\"ticks\":\"\"}}}],\"scattercarpet\":[{\"type\":\"scattercarpet\",\"marker\":{\"colorbar\":{\"outlinewidth\":0,\"ticks\":\"\"}}}],\"carpet\":[{\"aaxis\":{\"endlinecolor\":\"#A2B1C6\",\"gridcolor\":\"#506784\",\"linecolor\":\"#506784\",\"minorgridcolor\":\"#506784\",\"startlinecolor\":\"#A2B1C6\"},\"baxis\":{\"endlinecolor\":\"#A2B1C6\",\"gridcolor\":\"#506784\",\"linecolor\":\"#506784\",\"minorgridcolor\":\"#506784\",\"startlinecolor\":\"#A2B1C6\"},\"type\":\"carpet\"}],\"table\":[{\"cells\":{\"fill\":{\"color\":\"#506784\"},\"line\":{\"color\":\"rgb(17,17,17)\"}},\"header\":{\"fill\":{\"color\":\"#2a3f5f\"},\"line\":{\"color\":\"rgb(17,17,17)\"}},\"type\":\"table\"}],\"barpolar\":[{\"marker\":{\"line\":{\"color\":\"rgb(17,17,17)\",\"width\":0.5},\"pattern\":{\"fillmode\":\"overlay\",\"size\":10,\"solidity\":0.2}},\"type\":\"barpolar\"}],\"pie\":[{\"automargin\":true,\"type\":\"pie\"}]},\"layout\":{\"autotypenumbers\":\"strict\",\"colorway\":[\"#636efa\",\"#EF553B\",\"#00cc96\",\"#ab63fa\",\"#FFA15A\",\"#19d3f3\",\"#FF6692\",\"#B6E880\",\"#FF97FF\",\"#FECB52\"],\"font\":{\"color\":\"#f2f5fa\"},\"hovermode\":\"closest\",\"hoverlabel\":{\"align\":\"left\"},\"paper_bgcolor\":\"rgb(17,17,17)\",\"plot_bgcolor\":\"rgb(17,17,17)\",\"polar\":{\"bgcolor\":\"rgb(17,17,17)\",\"angularaxis\":{\"gridcolor\":\"#506784\",\"linecolor\":\"#506784\",\"ticks\":\"\"},\"radialaxis\":{\"gridcolor\":\"#506784\",\"linecolor\":\"#506784\",\"ticks\":\"\"}},\"ternary\":{\"bgcolor\":\"rgb(17,17,17)\",\"aaxis\":{\"gridcolor\":\"#506784\",\"linecolor\":\"#506784\",\"ticks\":\"\"},\"baxis\":{\"gridcolor\":\"#506784\",\"linecolor\":\"#506784\",\"ticks\":\"\"},\"caxis\":{\"gridcolor\":\"#506784\",\"linecolor\":\"#506784\",\"ticks\":\"\"}},\"coloraxis\":{\"colorbar\":{\"outlinewidth\":0,\"ticks\":\"\"}},\"colorscale\":{\"sequential\":[[0.0,\"#0d0887\"],[0.1111111111111111,\"#46039f\"],[0.2222222222222222,\"#7201a8\"],[0.3333333333333333,\"#9c179e\"],[0.4444444444444444,\"#bd3786\"],[0.5555555555555556,\"#d8576b\"],[0.6666666666666666,\"#ed7953\"],[0.7777777777777778,\"#fb9f3a\"],[0.8888888888888888,\"#fdca26\"],[1.0,\"#f0f921\"]],\"sequentialminus\":[[0.0,\"#0d0887\"],[0.1111111111111111,\"#46039f\"],[0.2222222222222222,\"#7201a8\"],[0.3333333333333333,\"#9c179e\"],[0.4444444444444444,\"#bd3786\"],[0.5555555555555556,\"#d8576b\"],[0.6666666666666666,\"#ed7953\"],[0.7777777777777778,\"#fb9f3a\"],[0.8888888888888888,\"#fdca26\"],[1.0,\"#f0f921\"]],\"diverging\":[[0,\"#8e0152\"],[0.1,\"#c51b7d\"],[0.2,\"#de77ae\"],[0.3,\"#f1b6da\"],[0.4,\"#fde0ef\"],[0.5,\"#f7f7f7\"],[0.6,\"#e6f5d0\"],[0.7,\"#b8e186\"],[0.8,\"#7fbc41\"],[0.9,\"#4d9221\"],[1,\"#276419\"]]},\"xaxis\":{\"gridcolor\":\"#283442\",\"linecolor\":\"#506784\",\"ticks\":\"\",\"title\":{\"standoff\":15},\"zerolinecolor\":\"#283442\",\"automargin\":true,\"zerolinewidth\":2},\"yaxis\":{\"gridcolor\":\"#283442\",\"linecolor\":\"#506784\",\"ticks\":\"\",\"title\":{\"standoff\":15},\"zerolinecolor\":\"#283442\",\"automargin\":true,\"zerolinewidth\":2},\"scene\":{\"xaxis\":{\"backgroundcolor\":\"rgb(17,17,17)\",\"gridcolor\":\"#506784\",\"linecolor\":\"#506784\",\"showbackground\":true,\"ticks\":\"\",\"zerolinecolor\":\"#C8D4E3\",\"gridwidth\":2},\"yaxis\":{\"backgroundcolor\":\"rgb(17,17,17)\",\"gridcolor\":\"#506784\",\"linecolor\":\"#506784\",\"showbackground\":true,\"ticks\":\"\",\"zerolinecolor\":\"#C8D4E3\",\"gridwidth\":2},\"zaxis\":{\"backgroundcolor\":\"rgb(17,17,17)\",\"gridcolor\":\"#506784\",\"linecolor\":\"#506784\",\"showbackground\":true,\"ticks\":\"\",\"zerolinecolor\":\"#C8D4E3\",\"gridwidth\":2}},\"shapedefaults\":{\"line\":{\"color\":\"#f2f5fa\"}},\"annotationdefaults\":{\"arrowcolor\":\"#f2f5fa\",\"arrowhead\":0,\"arrowwidth\":1},\"geo\":{\"bgcolor\":\"rgb(17,17,17)\",\"landcolor\":\"rgb(17,17,17)\",\"subunitcolor\":\"#506784\",\"showland\":true,\"showlakes\":true,\"lakecolor\":\"rgb(17,17,17)\"},\"title\":{\"x\":0.05},\"updatemenudefaults\":{\"bgcolor\":\"#506784\",\"borderwidth\":0},\"sliderdefaults\":{\"bgcolor\":\"#C8D4E3\",\"borderwidth\":1,\"bordercolor\":\"rgb(17,17,17)\",\"tickwidth\":0},\"mapbox\":{\"style\":\"dark\"}}},\"width\":1200,\"height\":800,\"annotations\":[{\"font\":{\"color\":\"red\",\"size\":14},\"showarrow\":false,\"text\":\"red is 1 m - 6 m\",\"x\":0.02,\"xref\":\"paper\",\"y\":0.98,\"yref\":\"paper\"},{\"font\":{\"color\":\"blue\",\"size\":14},\"showarrow\":false,\"text\":\"blue is 6 m - 12 m\",\"x\":0.02,\"xref\":\"paper\",\"y\":0.92,\"yref\":\"paper\"},{\"font\":{\"color\":\"yellow\",\"size\":14},\"showarrow\":false,\"text\":\"Yellow is 12 m - 18 m\",\"x\":0.02,\"xref\":\"paper\",\"y\":0.8,\"yref\":\"paper\"}],\"shapes\":[{\"line\":{\"color\":\"black\",\"dash\":\"dash\"},\"type\":\"line\",\"x0\":-1,\"x1\":40,\"y0\":1,\"y1\":1}],\"legend\":{\"x\":0,\"y\":-0.2,\"orientation\":\"h\",\"traceorder\":\"normal\"},\"title\":{\"text\":\"Colors based on depth layer Ratio O2/CO2\"},\"xaxis\":{\"title\":{\"text\":\"Day\"}},\"yaxis\":{\"title\":{\"text\":\"Ratio O2/CO2\"}},\"showlegend\":true,\"plot_bgcolor\":\"grey\"},                        {\"responsive\": true}                    ).then(function(){\n                            \nvar gd = document.getElementById('2dc23baf-e3a4-46e1-a325-171dfac203db');\nvar x = new MutationObserver(function (mutations, observer) {{\n        var display = window.getComputedStyle(gd).display;\n        if (!display || display === 'none') {{\n            console.log([gd, 'removed!']);\n            Plotly.purge(gd);\n            observer.disconnect();\n        }}\n}});\n\n// Listen for the removal of the full notebook cells\nvar notebookContainer = gd.closest('#notebook-container');\nif (notebookContainer) {{\n    x.observe(notebookContainer, {childList: true});\n}}\n\n// Listen for the clearing of the current output cell\nvar outputEl = gd.closest('.output');\nif (outputEl) {{\n    x.observe(outputEl, {childList: true});\n}}\n\n                        })                };                });            </script>        </div>"
     },
     "metadata": {},
     "output_type": "display_data"
    }
   ],
   "source": [
    "import plotly.graph_objects as go\n",
    "\n",
    "# Define the line styles\n",
    "line_styles = ['solid', 'dash', 'dot', 'dashdot', 'longdash', 'longdashdot', 'dot', 'dash']\n",
    "\n",
    "# Create the figure\n",
    "fig = go.Figure()\n",
    "\n",
    "# Modify the layout with the desired figure size\n",
    "fig.update_layout(\n",
    "    width=15*80,  # 80 pixels per unit width\n",
    "    height=10*80,  # 80 pixels per unit height\n",
    ")\n",
    "\n",
    "# Iterate over sample_list_1m_6m\n",
    "for i, sheet_name in enumerate(sample_list_1m_6m):\n",
    "    df = dict_data_frames[sheet_name]\n",
    "\n",
    "    # Drop the rows where 'CumulativeColumn' is NaN\n",
    "    df_dropped = df.dropna(subset=['Ratio O2/CO2'])\n",
    "\n",
    "    # # Add the line trace\n",
    "    # fig.add_trace(go.Scatter(\n",
    "    #     x=df_dropped['Day'],\n",
    "    #     y=df_dropped['Ratio O2/CO2'],\n",
    "    #     mode='lines',\n",
    "    #     name=sheet_name,\n",
    "    #     line=dict(color='red', dash=line_styles[i])\n",
    "    # ))\n",
    "\n",
    "    # Add the scatter trace\n",
    "    fig.add_trace(go.Scatter(\n",
    "        x=df_dropped['Day'],\n",
    "        y=df_dropped['Ratio O2/CO2'],\n",
    "        mode='markers',\n",
    "        name=f'{sheet_name} Data Points',\n",
    "        marker=dict(color='red')\n",
    "    ))\n",
    "\n",
    "# Iterate over sample_list_6m_12m\n",
    "for i, sheet_name in enumerate(sample_list_6m_12m):\n",
    "    df = dict_data_frames[sheet_name]\n",
    "\n",
    "    # Drop the rows where 'CumulativeColumn' is NaN\n",
    "    df_dropped = df.dropna(subset=['Ratio O2/CO2'])\n",
    "\n",
    "    # # Add the line trace\n",
    "    # fig.add_trace(go.Scatter(\n",
    "    #     x=df_dropped['Day'],\n",
    "    #     y=df_dropped['Ratio O2/CO2'],\n",
    "    #     mode='lines',\n",
    "    #     name=sheet_name,\n",
    "    #     line=dict(color='blue', dash=line_styles[i])\n",
    "    # ))\n",
    "\n",
    "    # Add the scatter trace\n",
    "    fig.add_trace(go.Scatter(\n",
    "        x=df_dropped['Day'],\n",
    "        y=df_dropped['Ratio O2/CO2'],\n",
    "        mode='markers',\n",
    "        name=f'{sheet_name} Data Points',\n",
    "        marker=dict(color='blue')\n",
    "    ))\n",
    "\n",
    "# Iterate over sample_list_12m_18m\n",
    "for i, sheet_name in enumerate(sample_list_12m_18m):\n",
    "    df = dict_data_frames[sheet_name]\n",
    "\n",
    "    # Drop the rows where 'CumulativeColumn' is NaN\n",
    "    df_dropped = df.dropna(subset=['Ratio O2/CO2'])\n",
    "\n",
    "    # # Add the line trace\n",
    "    # fig.add_trace(go.Scatter(\n",
    "    #     x=df_dropped['Day'],\n",
    "    #     y=df_dropped['Ratio O2/CO2'],\n",
    "    #     mode='lines',\n",
    "    #     name=sheet_name,\n",
    "    #     line=dict(color='yellow', dash=line_styles[i])\n",
    "    # ))\n",
    "\n",
    "    # Add the scatter trace\n",
    "    fig.add_trace(go.Scatter(\n",
    "        x=df_dropped['Day'],\n",
    "        y=df_dropped['Ratio O2/CO2'],\n",
    "        mode='markers',\n",
    "        name=f'{sheet_name} Data Points',\n",
    "        marker=dict(color='yellow')\n",
    "    ))\n",
    "\n",
    "# Add legend-like text annotations\n",
    "fig.add_annotation(\n",
    "    xref='paper',\n",
    "    yref='paper',\n",
    "    x=0.02,\n",
    "    y=0.98,\n",
    "    text='red is 1 m - 6 m',\n",
    "    showarrow=False,\n",
    "    font=dict(size=14, color='red')\n",
    ")\n",
    "\n",
    "# Add legend-like text annotations\n",
    "fig.add_annotation(\n",
    "    xref='paper',\n",
    "    yref='paper',\n",
    "    x=0.02,\n",
    "    y=0.92,\n",
    "    text='blue is 6 m - 12 m',\n",
    "    showarrow=False,\n",
    "    font=dict(size=14, color='blue')\n",
    ")\n",
    "\n",
    "# Add legend-like text annotations\n",
    "fig.add_annotation(\n",
    "    xref='paper',\n",
    "    yref='paper',\n",
    "    x=0.02,\n",
    "    y=0.8,\n",
    "    text='Yellow is 12 m - 18 m',\n",
    "    showarrow=False,\n",
    "    font=dict(size=14, color='yellow')\n",
    ")\n",
    "\n",
    "# Add a trace for y=1 line\n",
    "fig.add_shape(\n",
    "    type='line',\n",
    "    x0=-1,  # Start the line at the minimum x-value\n",
    "    y0=1,\n",
    "    x1=40,  # Extend the line to the maximum x-value\n",
    "    y1=1,\n",
    "    line=dict(color='black', dash='dash')  # Customize the line color and style\n",
    ")\n",
    "\n",
    "# Update the layout\n",
    "fig.update_layout(\n",
    "    title='Colors based on depth layer Ratio O2/CO2',\n",
    "    xaxis=dict(title='Day'),\n",
    "    yaxis=dict(title='Ratio O2/CO2'),\n",
    "    showlegend=True,\n",
    "    legend=dict(\n",
    "        x=0,\n",
    "        y=-0.2,\n",
    "        orientation='h',\n",
    "        traceorder='normal'\n",
    "    ),\n",
    "    plot_bgcolor='grey'  # Set the plot background color to white\n",
    ")\n",
    "\n",
    "# fig.update_yaxes(range=[-0.5, 2])  # Set y-axis limits\n",
    "\n",
    "# Show the chart\n",
    "fig.show()\n"
   ],
   "metadata": {
    "collapsed": false,
    "ExecuteTime": {
     "end_time": "2023-06-27T10:36:47.905303300Z",
     "start_time": "2023-06-27T10:36:47.820158700Z"
    }
   }
  },
  {
   "cell_type": "code",
   "execution_count": 50,
   "outputs": [
    {
     "data": {
      "application/vnd.plotly.v1+json": {
       "data": [
        {
         "line": {
          "color": "red",
          "dash": "solid"
         },
         "mode": "lines",
         "name": "GT1.1",
         "x": [
          0.0,
          2.0,
          6.8180555555555555,
          8.756944444444445,
          10.79375,
          13.963888888888889,
          16.780555555555555,
          20.74861111111111,
          22.786805555555556,
          24.76875,
          27.783333333333335,
          29.756944444444443,
          34.97847222222222
         ],
         "y": [
          0.0,
          0.04751356616764886,
          0.07531247377571043,
          0.1279196971976888,
          0.2405030384331635,
          0.2929803897572621,
          0.43030402439163173,
          0.6346310041551407,
          0.755748803466483,
          0.8596862524238786,
          0.9774057873319802,
          1.055203847092021,
          1.2542811133760474
         ],
         "type": "scatter"
        },
        {
         "marker": {
          "color": "red"
         },
         "mode": "markers",
         "name": "GT1.1 Data Points",
         "x": [
          0.0,
          2.0,
          6.8180555555555555,
          8.756944444444445,
          10.79375,
          13.963888888888889,
          16.780555555555555,
          20.74861111111111,
          22.786805555555556,
          24.76875,
          27.783333333333335,
          29.756944444444443,
          34.97847222222222
         ],
         "y": [
          0.0,
          0.04751356616764886,
          0.07531247377571043,
          0.1279196971976888,
          0.2405030384331635,
          0.2929803897572621,
          0.43030402439163173,
          0.6346310041551407,
          0.755748803466483,
          0.8596862524238786,
          0.9774057873319802,
          1.055203847092021,
          1.2542811133760474
         ],
         "type": "scatter"
        },
        {
         "line": {
          "color": "red",
          "dash": "dash"
         },
         "mode": "lines",
         "name": "GT1.2",
         "x": [
          0.0,
          1.9902777777777778,
          6.805555555555555,
          8.745138888888889,
          10.78125,
          13.95138888888889,
          16.783333333333335,
          20.73611111111111,
          22.773611111111112,
          24.755555555555556,
          27.784027777777776,
          29.744444444444444,
          34.96597222222222
         ],
         "y": [
          0.0,
          0.016027350886936385,
          0.03170167192036989,
          0.06161440289781902,
          0.15511304343725524,
          0.19619444677693412,
          0.2918903297000633,
          0.4116862293306712,
          0.4761055666678884,
          0.5371411495398766,
          0.6417893169559681,
          0.7120038751003286,
          0.8635300891435213
         ],
         "type": "scatter"
        },
        {
         "marker": {
          "color": "red"
         },
         "mode": "markers",
         "name": "GT1.2 Data Points",
         "x": [
          0.0,
          1.9902777777777778,
          6.805555555555555,
          8.745138888888889,
          10.78125,
          13.95138888888889,
          16.783333333333335,
          20.73611111111111,
          22.773611111111112,
          24.755555555555556,
          27.784027777777776,
          29.744444444444444,
          34.96597222222222
         ],
         "y": [
          0.0,
          0.016027350886936385,
          0.03170167192036989,
          0.06161440289781902,
          0.15511304343725524,
          0.19619444677693412,
          0.2918903297000633,
          0.4116862293306712,
          0.4761055666678884,
          0.5371411495398766,
          0.6417893169559681,
          0.7120038751003286,
          0.8635300891435213
         ],
         "type": "scatter"
        },
        {
         "line": {
          "color": "red",
          "dash": "dot"
         },
         "mode": "lines",
         "name": "GT2.1",
         "x": [
          0.0,
          1.9909722222222221,
          6.805555555555555,
          8.744444444444444,
          10.738888888888889,
          13.950694444444444,
          16.781944444444445,
          20.74375,
          22.772916666666667,
          24.754166666666666,
          27.783333333333335,
          29.743055555555557,
          34.96527777777778
         ],
         "y": [
          0.0,
          0.017697482777724618,
          0.03421029978723215,
          0.07196769268592869,
          0.14820295993835025,
          0.16815107640880872,
          0.23604619528727086,
          0.3277153692843696,
          0.38288220484705143,
          0.4385570027609818,
          0.5396283662433483,
          0.6100269926267836,
          0.7840262096480398
         ],
         "type": "scatter"
        },
        {
         "marker": {
          "color": "red"
         },
         "mode": "markers",
         "name": "GT2.1 Data Points",
         "x": [
          0.0,
          1.9909722222222221,
          6.805555555555555,
          8.744444444444444,
          10.738888888888889,
          13.950694444444444,
          16.781944444444445,
          20.74375,
          22.772916666666667,
          24.754166666666666,
          27.783333333333335,
          29.743055555555557,
          34.96527777777778
         ],
         "y": [
          0.0,
          0.017697482777724618,
          0.03421029978723215,
          0.07196769268592869,
          0.14820295993835025,
          0.16815107640880872,
          0.23604619528727086,
          0.3277153692843696,
          0.38288220484705143,
          0.4385570027609818,
          0.5396283662433483,
          0.6100269926267836,
          0.7840262096480398
         ],
         "type": "scatter"
        },
        {
         "line": {
          "color": "red",
          "dash": "dashdot"
         },
         "mode": "lines",
         "name": "GT2.2",
         "x": [
          0.0,
          1.992361111111111,
          6.811805555555556,
          8.744444444444444,
          10.780555555555555,
          13.95,
          16.781944444444445,
          20.74375,
          22.775,
          24.754166666666666,
          27.77638888888889,
          29.744444444444444,
          34.96458333333333
         ],
         "y": [
          0.0,
          0.027316018422838702,
          0.07603335239255866,
          0.10103239430479286,
          0.13204018568299408,
          0.17225263174008432,
          0.20491107857399166,
          0.24837998634025865,
          0.2678237593459569,
          0.2913946524446504,
          0.3310170694536565,
          0.3576682675986032,
          0.45345054025752923
         ],
         "type": "scatter"
        },
        {
         "marker": {
          "color": "red"
         },
         "mode": "markers",
         "name": "GT2.2 Data Points",
         "x": [
          0.0,
          1.992361111111111,
          6.811805555555556,
          8.744444444444444,
          10.780555555555555,
          13.95,
          16.781944444444445,
          20.74375,
          22.775,
          24.754166666666666,
          27.77638888888889,
          29.744444444444444,
          34.96458333333333
         ],
         "y": [
          0.0,
          0.027316018422838702,
          0.07603335239255866,
          0.10103239430479286,
          0.13204018568299408,
          0.17225263174008432,
          0.20491107857399166,
          0.24837998634025865,
          0.2678237593459569,
          0.2913946524446504,
          0.3310170694536565,
          0.3576682675986032,
          0.45345054025752923
         ],
         "type": "scatter"
        },
        {
         "line": {
          "color": "red",
          "dash": "longdash"
         },
         "mode": "lines",
         "name": "GT3.1",
         "x": [
          0.0,
          2.0118055555555556,
          6.8125,
          8.745138888888889,
          10.78125,
          13.950694444444444,
          16.781944444444445,
          20.74375,
          22.775694444444444,
          24.75486111111111,
          27.78263888888889,
          29.744444444444444,
          34.96527777777778
         ],
         "y": [
          0.0,
          0.12440583335602175,
          0.2970348388731206,
          0.361348315832221,
          0.4130225024532185,
          0.42854102620281287,
          0.4853860735777723,
          0.5806492679489266,
          0.6237167532049571,
          0.663282012707695,
          0.7277585307417537,
          0.7663018905076368,
          0.887385743061015
         ],
         "type": "scatter"
        },
        {
         "marker": {
          "color": "red"
         },
         "mode": "markers",
         "name": "GT3.1 Data Points",
         "x": [
          0.0,
          2.0118055555555556,
          6.8125,
          8.745138888888889,
          10.78125,
          13.950694444444444,
          16.781944444444445,
          20.74375,
          22.775694444444444,
          24.75486111111111,
          27.78263888888889,
          29.744444444444444,
          34.96527777777778
         ],
         "y": [
          0.0,
          0.12440583335602175,
          0.2970348388731206,
          0.361348315832221,
          0.4130225024532185,
          0.42854102620281287,
          0.4853860735777723,
          0.5806492679489266,
          0.6237167532049571,
          0.663282012707695,
          0.7277585307417537,
          0.7663018905076368,
          0.887385743061015
         ],
         "type": "scatter"
        },
        {
         "line": {
          "color": "red",
          "dash": "longdashdot"
         },
         "mode": "lines",
         "name": "GT3.2",
         "x": [
          0.0,
          2.0131944444444443,
          6.813194444444444,
          8.746527777777779,
          10.783333333333333,
          13.95138888888889,
          16.783333333333335,
          20.744444444444444,
          22.77638888888889,
          24.755555555555556,
          27.783333333333335,
          29.74513888888889,
          34.96597222222222
         ],
         "y": [
          0.0,
          0.08340326922830413,
          0.24954465085312635,
          0.3184723649463691,
          0.37425447573874077,
          0.38915444394804655,
          0.4530351093281298,
          0.5372839600639283,
          0.5842363986693069,
          0.6395915794862415,
          0.7527263112021677,
          0.8522316089795121,
          1.2583988429749131
         ],
         "type": "scatter"
        },
        {
         "marker": {
          "color": "red"
         },
         "mode": "markers",
         "name": "GT3.2 Data Points",
         "x": [
          0.0,
          2.0131944444444443,
          6.813194444444444,
          8.746527777777779,
          10.783333333333333,
          13.95138888888889,
          16.783333333333335,
          20.744444444444444,
          22.77638888888889,
          24.755555555555556,
          27.783333333333335,
          29.74513888888889,
          34.96597222222222
         ],
         "y": [
          0.0,
          0.08340326922830413,
          0.24954465085312635,
          0.3184723649463691,
          0.37425447573874077,
          0.38915444394804655,
          0.4530351093281298,
          0.5372839600639283,
          0.5842363986693069,
          0.6395915794862415,
          0.7527263112021677,
          0.8522316089795121,
          1.2583988429749131
         ],
         "type": "scatter"
        },
        {
         "line": {
          "color": "blue",
          "dash": "solid"
         },
         "mode": "lines",
         "name": "GT4.1",
         "x": [
          0.0,
          1.0222222222222221,
          5.81875,
          7.753472222222222,
          9.784722222222221,
          12.952777777777778,
          15.784027777777778,
          19.747916666666665,
          21.777083333333334,
          23.756944444444443,
          26.78472222222222,
          28.747916666666665,
          33.96944444444444
         ],
         "y": [
          0.0,
          0.2799391743092849,
          0.5832781777159705,
          0.7008011119422013,
          0.7916094707967563,
          0.8226040069463356,
          0.9965429344520165,
          1.254990428155502,
          1.3753543634817302,
          1.4481410698504782,
          1.5265979372474796,
          1.5803291172388896,
          1.6776626229491256
         ],
         "type": "scatter"
        },
        {
         "marker": {
          "color": "blue"
         },
         "mode": "markers",
         "name": "GT4.1 Data Points",
         "x": [
          0.0,
          1.0222222222222221,
          5.81875,
          7.753472222222222,
          9.784722222222221,
          12.952777777777778,
          15.784027777777778,
          19.747916666666665,
          21.777083333333334,
          23.756944444444443,
          26.78472222222222,
          28.747916666666665,
          33.96944444444444
         ],
         "y": [
          0.0,
          0.2799391743092849,
          0.5832781777159705,
          0.7008011119422013,
          0.7916094707967563,
          0.8226040069463356,
          0.9965429344520165,
          1.254990428155502,
          1.3753543634817302,
          1.4481410698504782,
          1.5265979372474796,
          1.5803291172388896,
          1.6776626229491256
         ],
         "type": "scatter"
        },
        {
         "line": {
          "color": "blue",
          "dash": "dash"
         },
         "mode": "lines",
         "name": "GT4.2",
         "x": [
          0.0,
          1.0243055555555556,
          5.820138888888889,
          7.754166666666666,
          9.785416666666666,
          12.954166666666667,
          15.78888888888889,
          19.75347222222222,
          21.779166666666665,
          23.758333333333333,
          26.78611111111111,
          28.74861111111111,
          33.96875
         ],
         "y": [
          0.0,
          0.27261107269455814,
          0.559558806984984,
          0.6734839734146908,
          0.7605959244264879,
          0.7917481849527095,
          0.9721384703642957,
          1.2354899730953017,
          1.3555887486551192,
          1.4251264456636494,
          1.500736177288511,
          1.5525500317386092,
          1.624346225617279
         ],
         "type": "scatter"
        },
        {
         "marker": {
          "color": "blue"
         },
         "mode": "markers",
         "name": "GT4.2 Data Points",
         "x": [
          0.0,
          1.0243055555555556,
          5.820138888888889,
          7.754166666666666,
          9.785416666666666,
          12.954166666666667,
          15.78888888888889,
          19.75347222222222,
          21.779166666666665,
          23.758333333333333,
          26.78611111111111,
          28.74861111111111,
          33.96875
         ],
         "y": [
          0.0,
          0.27261107269455814,
          0.559558806984984,
          0.6734839734146908,
          0.7605959244264879,
          0.7917481849527095,
          0.9721384703642957,
          1.2354899730953017,
          1.3555887486551192,
          1.4251264456636494,
          1.500736177288511,
          1.5525500317386092,
          1.624346225617279
         ],
         "type": "scatter"
        },
        {
         "line": {
          "color": "pink",
          "dash": "solid"
         },
         "mode": "lines",
         "name": "GT5.1",
         "x": [
          0.0,
          2.0131944444444443,
          6.820138888888889,
          8.754166666666666,
          10.789583333333333,
          13.95625,
          16.7875,
          20.752083333333335,
          22.779166666666665,
          24.757638888888888,
          27.785416666666666,
          29.749305555555555,
          34.97152777777778
         ],
         "y": [
          0.0,
          0.11248585200790066,
          0.21601115228704973,
          0.2618262551203714,
          0.2925356372039634,
          0.31753422708079276,
          0.4079713342900811,
          0.47482356725855407,
          0.4868833799497962,
          0.5061510294077219,
          0.5592483124219542,
          0.5776888005969798,
          0.63005972304894
         ],
         "type": "scatter"
        },
        {
         "marker": {
          "color": "pink"
         },
         "mode": "markers",
         "name": "GT5.1 Data Points",
         "x": [
          0.0,
          2.0131944444444443,
          6.820138888888889,
          8.754166666666666,
          10.789583333333333,
          13.95625,
          16.7875,
          20.752083333333335,
          22.779166666666665,
          24.757638888888888,
          27.785416666666666,
          29.749305555555555,
          34.97152777777778
         ],
         "y": [
          0.0,
          0.11248585200790066,
          0.21601115228704973,
          0.2618262551203714,
          0.2925356372039634,
          0.31753422708079276,
          0.4079713342900811,
          0.47482356725855407,
          0.4868833799497962,
          0.5061510294077219,
          0.5592483124219542,
          0.5776888005969798,
          0.63005972304894
         ],
         "type": "scatter"
        },
        {
         "line": {
          "color": "pink",
          "dash": "dash"
         },
         "mode": "lines",
         "name": "GT5.2",
         "x": [
          0.0,
          2.0145833333333334,
          6.821527777777778,
          8.755555555555556,
          10.790277777777778,
          13.956944444444444,
          16.788888888888888,
          20.752083333333335,
          22.78263888888889,
          24.763194444444444,
          27.790277777777778,
          29.75,
          34.97291666666667
         ],
         "y": [
          0.0,
          0.10299379340225137,
          0.18886399366396095,
          0.2326480821012212,
          0.25509782709715273,
          0.2421760168025609,
          0.2722846378263166,
          0.3386283456193981,
          0.36011346159445895,
          0.40630599484752616,
          0.44486974763968307,
          0.4892990863711305,
          0.5618099490450795
         ],
         "type": "scatter"
        },
        {
         "marker": {
          "color": "pink"
         },
         "mode": "markers",
         "name": "GT5.2 Data Points",
         "x": [
          0.0,
          2.0145833333333334,
          6.821527777777778,
          8.755555555555556,
          10.790277777777778,
          13.956944444444444,
          16.788888888888888,
          20.752083333333335,
          22.78263888888889,
          24.763194444444444,
          27.790277777777778,
          29.75,
          34.97291666666667
         ],
         "y": [
          0.0,
          0.10299379340225137,
          0.18886399366396095,
          0.2326480821012212,
          0.25509782709715273,
          0.2421760168025609,
          0.2722846378263166,
          0.3386283456193981,
          0.36011346159445895,
          0.40630599484752616,
          0.44486974763968307,
          0.4892990863711305,
          0.5618099490450795
         ],
         "type": "scatter"
        },
        {
         "line": {
          "color": "yellow",
          "dash": "solid"
         },
         "mode": "lines",
         "name": "GT6.1",
         "x": [
          0.0,
          1.0229166666666667,
          5.823611111111111,
          7.760416666666667,
          9.790972222222223,
          12.957638888888889,
          15.789583333333333,
          19.752777777777776,
          21.783333333333335,
          23.76388888888889,
          26.790277777777778,
          28.749305555555555,
          33.97222222222222
         ],
         "y": [
          0.0,
          0.07965718461225577,
          0.17008550957928661,
          0.3456268261017885,
          0.5413348634675669,
          0.49620456444381655,
          0.6219411841581519,
          0.7709497084473799,
          0.8487044536750074,
          0.9121294313728285,
          0.9991840957133422,
          1.0533527363119504,
          1.183801272592078
         ],
         "type": "scatter"
        },
        {
         "marker": {
          "color": "yellow"
         },
         "mode": "markers",
         "name": "GT6.1 Data Points",
         "x": [
          0.0,
          1.0229166666666667,
          5.823611111111111,
          7.760416666666667,
          9.790972222222223,
          12.957638888888889,
          15.789583333333333,
          19.752777777777776,
          21.783333333333335,
          23.76388888888889,
          26.790277777777778,
          28.749305555555555,
          33.97222222222222
         ],
         "y": [
          0.0,
          0.07965718461225577,
          0.17008550957928661,
          0.3456268261017885,
          0.5413348634675669,
          0.49620456444381655,
          0.6219411841581519,
          0.7709497084473799,
          0.8487044536750074,
          0.9121294313728285,
          0.9991840957133422,
          1.0533527363119504,
          1.183801272592078
         ],
         "type": "scatter"
        },
        {
         "line": {
          "color": "yellow",
          "dash": "dash"
         },
         "mode": "lines",
         "name": "GT6.2",
         "x": [
          0.0,
          1.0256944444444445,
          5.825,
          7.761805555555555,
          9.79375,
          12.959722222222222,
          15.790972222222223,
          19.75486111111111,
          21.788888888888888,
          23.76527777777778,
          26.791666666666668,
          28.75625,
          33.975
         ],
         "y": [
          0.0,
          0.12182464424499001,
          0.3902586776875465,
          0.5139640389939646,
          0.6050150798836824,
          0.6418907547367371,
          0.7608514357039795,
          0.9260625989761905,
          1.0177849185147858,
          1.1010357023529074,
          1.2230607781983067,
          1.3058467470257344,
          1.5183355362467839
         ],
         "type": "scatter"
        },
        {
         "marker": {
          "color": "yellow"
         },
         "mode": "markers",
         "name": "GT6.2 Data Points",
         "x": [
          0.0,
          1.0256944444444445,
          5.825,
          7.761805555555555,
          9.79375,
          12.959722222222222,
          15.790972222222223,
          19.75486111111111,
          21.788888888888888,
          23.76527777777778,
          26.791666666666668,
          28.75625,
          33.975
         ],
         "y": [
          0.0,
          0.12182464424499001,
          0.3902586776875465,
          0.5139640389939646,
          0.6050150798836824,
          0.6418907547367371,
          0.7608514357039795,
          0.9260625989761905,
          1.0177849185147858,
          1.1010357023529074,
          1.2230607781983067,
          1.3058467470257344,
          1.5183355362467839
         ],
         "type": "scatter"
        },
        {
         "line": {
          "color": "yellow",
          "dash": "dot"
         },
         "mode": "lines",
         "name": "GT7.1",
         "x": [
          0.0,
          2.0145833333333334,
          6.854166666666667,
          8.763194444444444,
          10.79513888888889,
          13.960416666666667,
          16.792361111111113,
          20.75625,
          22.789583333333333,
          24.766666666666666,
          27.793055555555554,
          29.75625,
          34.97847222222222
         ],
         "y": [
          0.0,
          0.04789998799781799,
          0.08237115066421627,
          0.11835579539310888,
          0.14632077354417938,
          0.261803097122637,
          0.4662284556425536,
          0.6152878294703957,
          0.6761154699786699,
          0.7248134876246257,
          0.7683506971152128,
          0.8099468296648603,
          0.8730873621997655
         ],
         "type": "scatter"
        },
        {
         "marker": {
          "color": "yellow"
         },
         "mode": "markers",
         "name": "GT7.1 Data Points",
         "x": [
          0.0,
          2.0145833333333334,
          6.854166666666667,
          8.763194444444444,
          10.79513888888889,
          13.960416666666667,
          16.792361111111113,
          20.75625,
          22.789583333333333,
          24.766666666666666,
          27.793055555555554,
          29.75625,
          34.97847222222222
         ],
         "y": [
          0.0,
          0.04789998799781799,
          0.08237115066421627,
          0.11835579539310888,
          0.14632077354417938,
          0.261803097122637,
          0.4662284556425536,
          0.6152878294703957,
          0.6761154699786699,
          0.7248134876246257,
          0.7683506971152128,
          0.8099468296648603,
          0.8730873621997655
         ],
         "type": "scatter"
        },
        {
         "line": {
          "color": "yellow",
          "dash": "dashdot"
         },
         "mode": "lines",
         "name": "GT7.2",
         "x": [
          0.0,
          1.0256944444444445,
          5.854166666666667,
          7.763888888888889,
          9.79513888888889,
          12.963888888888889,
          15.795833333333333,
          19.75625,
          21.790277777777778,
          23.76597222222222,
          26.79375,
          28.760416666666668,
          33.97847222222222
         ],
         "y": [
          0.0,
          0.15046800509488223,
          0.3023771848064685,
          0.3718940977392621,
          0.4268899476134545,
          0.5341081473711217,
          0.676058127164811,
          0.8909204110215084,
          1.0048965846706643,
          1.1033156947503264,
          1.2114703150115211,
          1.2756810728277284,
          1.4122988718432892
         ],
         "type": "scatter"
        },
        {
         "marker": {
          "color": "yellow"
         },
         "mode": "markers",
         "name": "GT7.2 Data Points",
         "x": [
          0.0,
          1.0256944444444445,
          5.854166666666667,
          7.763888888888889,
          9.79513888888889,
          12.963888888888889,
          15.795833333333333,
          19.75625,
          21.790277777777778,
          23.76597222222222,
          26.79375,
          28.760416666666668,
          33.97847222222222
         ],
         "y": [
          0.0,
          0.15046800509488223,
          0.3023771848064685,
          0.3718940977392621,
          0.4268899476134545,
          0.5341081473711217,
          0.676058127164811,
          0.8909204110215084,
          1.0048965846706643,
          1.1033156947503264,
          1.2114703150115211,
          1.2756810728277284,
          1.4122988718432892
         ],
         "type": "scatter"
        },
        {
         "line": {
          "color": "yellow",
          "dash": "longdash"
         },
         "mode": "lines",
         "name": "GT8.1",
         "x": [
          0.0,
          1.0277777777777777,
          5.855555555555555,
          7.7652777777777775,
          12.965277777777779,
          15.797222222222222,
          19.761805555555554,
          21.790972222222223,
          23.76736111111111,
          26.79513888888889,
          28.761805555555554,
          33.97986111111111
         ],
         "y": [
          0.0,
          0.17256680274062172,
          0.3641423696687381,
          0.4715321700665902,
          0.663054372921951,
          0.7852470764434536,
          0.9018311725604484,
          0.9777554461132236,
          1.0255761495302067,
          1.0666996292117918,
          1.1259861562710434,
          1.2588947697438992
         ],
         "type": "scatter"
        },
        {
         "marker": {
          "color": "yellow"
         },
         "mode": "markers",
         "name": "GT8.1 Data Points",
         "x": [
          0.0,
          1.0277777777777777,
          5.855555555555555,
          7.7652777777777775,
          12.965277777777779,
          15.797222222222222,
          19.761805555555554,
          21.790972222222223,
          23.76736111111111,
          26.79513888888889,
          28.761805555555554,
          33.97986111111111
         ],
         "y": [
          0.0,
          0.17256680274062172,
          0.3641423696687381,
          0.4715321700665902,
          0.663054372921951,
          0.7852470764434536,
          0.9018311725604484,
          0.9777554461132236,
          1.0255761495302067,
          1.0666996292117918,
          1.1259861562710434,
          1.2588947697438992
         ],
         "type": "scatter"
        },
        {
         "line": {
          "color": "yellow",
          "dash": "longdashdot"
         },
         "mode": "lines",
         "name": "GT8.2",
         "x": [
          0.0,
          1.0284722222222222,
          5.855555555555555,
          7.7652777777777775,
          12.965277777777779,
          15.797222222222222,
          19.761111111111113,
          21.791666666666668,
          23.768055555555556,
          26.79513888888889,
          28.76597222222222,
          33.980555555555554
         ],
         "y": [
          0.0,
          0.15461841330209175,
          0.41620143517997127,
          0.5613638770627412,
          0.7828317970623292,
          0.8956887078971596,
          1.012170598500536,
          1.0789713712394617,
          1.1221503190412443,
          1.170344029071555,
          1.2265166588105114,
          1.3038981657021456
         ],
         "type": "scatter"
        },
        {
         "marker": {
          "color": "yellow"
         },
         "mode": "markers",
         "name": "GT8.2 Data Points",
         "x": [
          0.0,
          1.0284722222222222,
          5.855555555555555,
          7.7652777777777775,
          12.965277777777779,
          15.797222222222222,
          19.761111111111113,
          21.791666666666668,
          23.768055555555556,
          26.79513888888889,
          28.76597222222222,
          33.980555555555554
         ],
         "y": [
          0.0,
          0.15461841330209175,
          0.41620143517997127,
          0.5613638770627412,
          0.7828317970623292,
          0.8956887078971596,
          1.012170598500536,
          1.0789713712394617,
          1.1221503190412443,
          1.170344029071555,
          1.2265166588105114,
          1.3038981657021456
         ],
         "type": "scatter"
        }
       ],
       "layout": {
        "template": {
         "data": {
          "histogram2dcontour": [
           {
            "type": "histogram2dcontour",
            "colorbar": {
             "outlinewidth": 0,
             "ticks": ""
            },
            "colorscale": [
             [
              0.0,
              "#0d0887"
             ],
             [
              0.1111111111111111,
              "#46039f"
             ],
             [
              0.2222222222222222,
              "#7201a8"
             ],
             [
              0.3333333333333333,
              "#9c179e"
             ],
             [
              0.4444444444444444,
              "#bd3786"
             ],
             [
              0.5555555555555556,
              "#d8576b"
             ],
             [
              0.6666666666666666,
              "#ed7953"
             ],
             [
              0.7777777777777778,
              "#fb9f3a"
             ],
             [
              0.8888888888888888,
              "#fdca26"
             ],
             [
              1.0,
              "#f0f921"
             ]
            ]
           }
          ],
          "choropleth": [
           {
            "type": "choropleth",
            "colorbar": {
             "outlinewidth": 0,
             "ticks": ""
            }
           }
          ],
          "histogram2d": [
           {
            "type": "histogram2d",
            "colorbar": {
             "outlinewidth": 0,
             "ticks": ""
            },
            "colorscale": [
             [
              0.0,
              "#0d0887"
             ],
             [
              0.1111111111111111,
              "#46039f"
             ],
             [
              0.2222222222222222,
              "#7201a8"
             ],
             [
              0.3333333333333333,
              "#9c179e"
             ],
             [
              0.4444444444444444,
              "#bd3786"
             ],
             [
              0.5555555555555556,
              "#d8576b"
             ],
             [
              0.6666666666666666,
              "#ed7953"
             ],
             [
              0.7777777777777778,
              "#fb9f3a"
             ],
             [
              0.8888888888888888,
              "#fdca26"
             ],
             [
              1.0,
              "#f0f921"
             ]
            ]
           }
          ],
          "heatmap": [
           {
            "type": "heatmap",
            "colorbar": {
             "outlinewidth": 0,
             "ticks": ""
            },
            "colorscale": [
             [
              0.0,
              "#0d0887"
             ],
             [
              0.1111111111111111,
              "#46039f"
             ],
             [
              0.2222222222222222,
              "#7201a8"
             ],
             [
              0.3333333333333333,
              "#9c179e"
             ],
             [
              0.4444444444444444,
              "#bd3786"
             ],
             [
              0.5555555555555556,
              "#d8576b"
             ],
             [
              0.6666666666666666,
              "#ed7953"
             ],
             [
              0.7777777777777778,
              "#fb9f3a"
             ],
             [
              0.8888888888888888,
              "#fdca26"
             ],
             [
              1.0,
              "#f0f921"
             ]
            ]
           }
          ],
          "heatmapgl": [
           {
            "type": "heatmapgl",
            "colorbar": {
             "outlinewidth": 0,
             "ticks": ""
            },
            "colorscale": [
             [
              0.0,
              "#0d0887"
             ],
             [
              0.1111111111111111,
              "#46039f"
             ],
             [
              0.2222222222222222,
              "#7201a8"
             ],
             [
              0.3333333333333333,
              "#9c179e"
             ],
             [
              0.4444444444444444,
              "#bd3786"
             ],
             [
              0.5555555555555556,
              "#d8576b"
             ],
             [
              0.6666666666666666,
              "#ed7953"
             ],
             [
              0.7777777777777778,
              "#fb9f3a"
             ],
             [
              0.8888888888888888,
              "#fdca26"
             ],
             [
              1.0,
              "#f0f921"
             ]
            ]
           }
          ],
          "contourcarpet": [
           {
            "type": "contourcarpet",
            "colorbar": {
             "outlinewidth": 0,
             "ticks": ""
            }
           }
          ],
          "contour": [
           {
            "type": "contour",
            "colorbar": {
             "outlinewidth": 0,
             "ticks": ""
            },
            "colorscale": [
             [
              0.0,
              "#0d0887"
             ],
             [
              0.1111111111111111,
              "#46039f"
             ],
             [
              0.2222222222222222,
              "#7201a8"
             ],
             [
              0.3333333333333333,
              "#9c179e"
             ],
             [
              0.4444444444444444,
              "#bd3786"
             ],
             [
              0.5555555555555556,
              "#d8576b"
             ],
             [
              0.6666666666666666,
              "#ed7953"
             ],
             [
              0.7777777777777778,
              "#fb9f3a"
             ],
             [
              0.8888888888888888,
              "#fdca26"
             ],
             [
              1.0,
              "#f0f921"
             ]
            ]
           }
          ],
          "surface": [
           {
            "type": "surface",
            "colorbar": {
             "outlinewidth": 0,
             "ticks": ""
            },
            "colorscale": [
             [
              0.0,
              "#0d0887"
             ],
             [
              0.1111111111111111,
              "#46039f"
             ],
             [
              0.2222222222222222,
              "#7201a8"
             ],
             [
              0.3333333333333333,
              "#9c179e"
             ],
             [
              0.4444444444444444,
              "#bd3786"
             ],
             [
              0.5555555555555556,
              "#d8576b"
             ],
             [
              0.6666666666666666,
              "#ed7953"
             ],
             [
              0.7777777777777778,
              "#fb9f3a"
             ],
             [
              0.8888888888888888,
              "#fdca26"
             ],
             [
              1.0,
              "#f0f921"
             ]
            ]
           }
          ],
          "mesh3d": [
           {
            "type": "mesh3d",
            "colorbar": {
             "outlinewidth": 0,
             "ticks": ""
            }
           }
          ],
          "scatter": [
           {
            "marker": {
             "line": {
              "color": "#283442"
             }
            },
            "type": "scatter"
           }
          ],
          "parcoords": [
           {
            "type": "parcoords",
            "line": {
             "colorbar": {
              "outlinewidth": 0,
              "ticks": ""
             }
            }
           }
          ],
          "scatterpolargl": [
           {
            "type": "scatterpolargl",
            "marker": {
             "colorbar": {
              "outlinewidth": 0,
              "ticks": ""
             }
            }
           }
          ],
          "bar": [
           {
            "error_x": {
             "color": "#f2f5fa"
            },
            "error_y": {
             "color": "#f2f5fa"
            },
            "marker": {
             "line": {
              "color": "rgb(17,17,17)",
              "width": 0.5
             },
             "pattern": {
              "fillmode": "overlay",
              "size": 10,
              "solidity": 0.2
             }
            },
            "type": "bar"
           }
          ],
          "scattergeo": [
           {
            "type": "scattergeo",
            "marker": {
             "colorbar": {
              "outlinewidth": 0,
              "ticks": ""
             }
            }
           }
          ],
          "scatterpolar": [
           {
            "type": "scatterpolar",
            "marker": {
             "colorbar": {
              "outlinewidth": 0,
              "ticks": ""
             }
            }
           }
          ],
          "histogram": [
           {
            "marker": {
             "pattern": {
              "fillmode": "overlay",
              "size": 10,
              "solidity": 0.2
             }
            },
            "type": "histogram"
           }
          ],
          "scattergl": [
           {
            "marker": {
             "line": {
              "color": "#283442"
             }
            },
            "type": "scattergl"
           }
          ],
          "scatter3d": [
           {
            "type": "scatter3d",
            "line": {
             "colorbar": {
              "outlinewidth": 0,
              "ticks": ""
             }
            },
            "marker": {
             "colorbar": {
              "outlinewidth": 0,
              "ticks": ""
             }
            }
           }
          ],
          "scattermapbox": [
           {
            "type": "scattermapbox",
            "marker": {
             "colorbar": {
              "outlinewidth": 0,
              "ticks": ""
             }
            }
           }
          ],
          "scatterternary": [
           {
            "type": "scatterternary",
            "marker": {
             "colorbar": {
              "outlinewidth": 0,
              "ticks": ""
             }
            }
           }
          ],
          "scattercarpet": [
           {
            "type": "scattercarpet",
            "marker": {
             "colorbar": {
              "outlinewidth": 0,
              "ticks": ""
             }
            }
           }
          ],
          "carpet": [
           {
            "aaxis": {
             "endlinecolor": "#A2B1C6",
             "gridcolor": "#506784",
             "linecolor": "#506784",
             "minorgridcolor": "#506784",
             "startlinecolor": "#A2B1C6"
            },
            "baxis": {
             "endlinecolor": "#A2B1C6",
             "gridcolor": "#506784",
             "linecolor": "#506784",
             "minorgridcolor": "#506784",
             "startlinecolor": "#A2B1C6"
            },
            "type": "carpet"
           }
          ],
          "table": [
           {
            "cells": {
             "fill": {
              "color": "#506784"
             },
             "line": {
              "color": "rgb(17,17,17)"
             }
            },
            "header": {
             "fill": {
              "color": "#2a3f5f"
             },
             "line": {
              "color": "rgb(17,17,17)"
             }
            },
            "type": "table"
           }
          ],
          "barpolar": [
           {
            "marker": {
             "line": {
              "color": "rgb(17,17,17)",
              "width": 0.5
             },
             "pattern": {
              "fillmode": "overlay",
              "size": 10,
              "solidity": 0.2
             }
            },
            "type": "barpolar"
           }
          ],
          "pie": [
           {
            "automargin": true,
            "type": "pie"
           }
          ]
         },
         "layout": {
          "autotypenumbers": "strict",
          "colorway": [
           "#636efa",
           "#EF553B",
           "#00cc96",
           "#ab63fa",
           "#FFA15A",
           "#19d3f3",
           "#FF6692",
           "#B6E880",
           "#FF97FF",
           "#FECB52"
          ],
          "font": {
           "color": "#f2f5fa"
          },
          "hovermode": "closest",
          "hoverlabel": {
           "align": "left"
          },
          "paper_bgcolor": "rgb(17,17,17)",
          "plot_bgcolor": "rgb(17,17,17)",
          "polar": {
           "bgcolor": "rgb(17,17,17)",
           "angularaxis": {
            "gridcolor": "#506784",
            "linecolor": "#506784",
            "ticks": ""
           },
           "radialaxis": {
            "gridcolor": "#506784",
            "linecolor": "#506784",
            "ticks": ""
           }
          },
          "ternary": {
           "bgcolor": "rgb(17,17,17)",
           "aaxis": {
            "gridcolor": "#506784",
            "linecolor": "#506784",
            "ticks": ""
           },
           "baxis": {
            "gridcolor": "#506784",
            "linecolor": "#506784",
            "ticks": ""
           },
           "caxis": {
            "gridcolor": "#506784",
            "linecolor": "#506784",
            "ticks": ""
           }
          },
          "coloraxis": {
           "colorbar": {
            "outlinewidth": 0,
            "ticks": ""
           }
          },
          "colorscale": {
           "sequential": [
            [
             0.0,
             "#0d0887"
            ],
            [
             0.1111111111111111,
             "#46039f"
            ],
            [
             0.2222222222222222,
             "#7201a8"
            ],
            [
             0.3333333333333333,
             "#9c179e"
            ],
            [
             0.4444444444444444,
             "#bd3786"
            ],
            [
             0.5555555555555556,
             "#d8576b"
            ],
            [
             0.6666666666666666,
             "#ed7953"
            ],
            [
             0.7777777777777778,
             "#fb9f3a"
            ],
            [
             0.8888888888888888,
             "#fdca26"
            ],
            [
             1.0,
             "#f0f921"
            ]
           ],
           "sequentialminus": [
            [
             0.0,
             "#0d0887"
            ],
            [
             0.1111111111111111,
             "#46039f"
            ],
            [
             0.2222222222222222,
             "#7201a8"
            ],
            [
             0.3333333333333333,
             "#9c179e"
            ],
            [
             0.4444444444444444,
             "#bd3786"
            ],
            [
             0.5555555555555556,
             "#d8576b"
            ],
            [
             0.6666666666666666,
             "#ed7953"
            ],
            [
             0.7777777777777778,
             "#fb9f3a"
            ],
            [
             0.8888888888888888,
             "#fdca26"
            ],
            [
             1.0,
             "#f0f921"
            ]
           ],
           "diverging": [
            [
             0,
             "#8e0152"
            ],
            [
             0.1,
             "#c51b7d"
            ],
            [
             0.2,
             "#de77ae"
            ],
            [
             0.3,
             "#f1b6da"
            ],
            [
             0.4,
             "#fde0ef"
            ],
            [
             0.5,
             "#f7f7f7"
            ],
            [
             0.6,
             "#e6f5d0"
            ],
            [
             0.7,
             "#b8e186"
            ],
            [
             0.8,
             "#7fbc41"
            ],
            [
             0.9,
             "#4d9221"
            ],
            [
             1,
             "#276419"
            ]
           ]
          },
          "xaxis": {
           "gridcolor": "#283442",
           "linecolor": "#506784",
           "ticks": "",
           "title": {
            "standoff": 15
           },
           "zerolinecolor": "#283442",
           "automargin": true,
           "zerolinewidth": 2
          },
          "yaxis": {
           "gridcolor": "#283442",
           "linecolor": "#506784",
           "ticks": "",
           "title": {
            "standoff": 15
           },
           "zerolinecolor": "#283442",
           "automargin": true,
           "zerolinewidth": 2
          },
          "scene": {
           "xaxis": {
            "backgroundcolor": "rgb(17,17,17)",
            "gridcolor": "#506784",
            "linecolor": "#506784",
            "showbackground": true,
            "ticks": "",
            "zerolinecolor": "#C8D4E3",
            "gridwidth": 2
           },
           "yaxis": {
            "backgroundcolor": "rgb(17,17,17)",
            "gridcolor": "#506784",
            "linecolor": "#506784",
            "showbackground": true,
            "ticks": "",
            "zerolinecolor": "#C8D4E3",
            "gridwidth": 2
           },
           "zaxis": {
            "backgroundcolor": "rgb(17,17,17)",
            "gridcolor": "#506784",
            "linecolor": "#506784",
            "showbackground": true,
            "ticks": "",
            "zerolinecolor": "#C8D4E3",
            "gridwidth": 2
           }
          },
          "shapedefaults": {
           "line": {
            "color": "#f2f5fa"
           }
          },
          "annotationdefaults": {
           "arrowcolor": "#f2f5fa",
           "arrowhead": 0,
           "arrowwidth": 1
          },
          "geo": {
           "bgcolor": "rgb(17,17,17)",
           "landcolor": "rgb(17,17,17)",
           "subunitcolor": "#506784",
           "showland": true,
           "showlakes": true,
           "lakecolor": "rgb(17,17,17)"
          },
          "title": {
           "x": 0.05
          },
          "updatemenudefaults": {
           "bgcolor": "#506784",
           "borderwidth": 0
          },
          "sliderdefaults": {
           "bgcolor": "#C8D4E3",
           "borderwidth": 1,
           "bordercolor": "rgb(17,17,17)",
           "tickwidth": 0
          },
          "mapbox": {
           "style": "dark"
          }
         }
        },
        "width": 1200,
        "height": 800,
        "annotations": [
         {
          "font": {
           "color": "red",
           "size": 14
          },
          "showarrow": false,
          "text": "red is drill 3-1-1",
          "x": 0.02,
          "xref": "paper",
          "y": 0.98,
          "yref": "paper"
         },
         {
          "font": {
           "color": "blue",
           "size": 14
          },
          "showarrow": false,
          "text": "blue is drill 4-1-1",
          "x": 0.02,
          "xref": "paper",
          "y": 0.92,
          "yref": "paper"
         },
         {
          "font": {
           "color": "pink",
           "size": 14
          },
          "showarrow": false,
          "text": "pink is drill 4-1-2",
          "x": 0.02,
          "xref": "paper",
          "y": 0.86,
          "yref": "paper"
         },
         {
          "font": {
           "color": "yellow",
           "size": 14
          },
          "showarrow": false,
          "text": "Yellow is drill 4-2-3",
          "x": 0.02,
          "xref": "paper",
          "y": 0.8,
          "yref": "paper"
         }
        ],
        "legend": {
         "x": 0,
         "y": -0.2,
         "orientation": "h",
         "traceorder": "normal"
        },
        "title": {
         "text": "colors based on drill"
        },
        "xaxis": {
         "title": {
          "text": "Day"
         }
        },
        "yaxis": {
         "title": {
          "text": "Cgas_DM_cum"
         }
        },
        "showlegend": true,
        "plot_bgcolor": "grey"
       },
       "config": {
        "plotlyServerURL": "https://plot.ly"
       }
      },
      "text/html": "<div>                            <div id=\"42c308bd-d650-4a79-ba54-ef8ea966441c\" class=\"plotly-graph-div\" style=\"height:800px; width:1200px;\"></div>            <script type=\"text/javascript\">                require([\"plotly\"], function(Plotly) {                    window.PLOTLYENV=window.PLOTLYENV || {};                                    if (document.getElementById(\"42c308bd-d650-4a79-ba54-ef8ea966441c\")) {                    Plotly.newPlot(                        \"42c308bd-d650-4a79-ba54-ef8ea966441c\",                        [{\"line\":{\"color\":\"red\",\"dash\":\"solid\"},\"mode\":\"lines\",\"name\":\"GT1.1\",\"x\":[0.0,2.0,6.8180555555555555,8.756944444444445,10.79375,13.963888888888889,16.780555555555555,20.74861111111111,22.786805555555556,24.76875,27.783333333333335,29.756944444444443,34.97847222222222],\"y\":[0.0,0.04751356616764886,0.07531247377571043,0.1279196971976888,0.2405030384331635,0.2929803897572621,0.43030402439163173,0.6346310041551407,0.755748803466483,0.8596862524238786,0.9774057873319802,1.055203847092021,1.2542811133760474],\"type\":\"scatter\"},{\"marker\":{\"color\":\"red\"},\"mode\":\"markers\",\"name\":\"GT1.1 Data Points\",\"x\":[0.0,2.0,6.8180555555555555,8.756944444444445,10.79375,13.963888888888889,16.780555555555555,20.74861111111111,22.786805555555556,24.76875,27.783333333333335,29.756944444444443,34.97847222222222],\"y\":[0.0,0.04751356616764886,0.07531247377571043,0.1279196971976888,0.2405030384331635,0.2929803897572621,0.43030402439163173,0.6346310041551407,0.755748803466483,0.8596862524238786,0.9774057873319802,1.055203847092021,1.2542811133760474],\"type\":\"scatter\"},{\"line\":{\"color\":\"red\",\"dash\":\"dash\"},\"mode\":\"lines\",\"name\":\"GT1.2\",\"x\":[0.0,1.9902777777777778,6.805555555555555,8.745138888888889,10.78125,13.95138888888889,16.783333333333335,20.73611111111111,22.773611111111112,24.755555555555556,27.784027777777776,29.744444444444444,34.96597222222222],\"y\":[0.0,0.016027350886936385,0.03170167192036989,0.06161440289781902,0.15511304343725524,0.19619444677693412,0.2918903297000633,0.4116862293306712,0.4761055666678884,0.5371411495398766,0.6417893169559681,0.7120038751003286,0.8635300891435213],\"type\":\"scatter\"},{\"marker\":{\"color\":\"red\"},\"mode\":\"markers\",\"name\":\"GT1.2 Data Points\",\"x\":[0.0,1.9902777777777778,6.805555555555555,8.745138888888889,10.78125,13.95138888888889,16.783333333333335,20.73611111111111,22.773611111111112,24.755555555555556,27.784027777777776,29.744444444444444,34.96597222222222],\"y\":[0.0,0.016027350886936385,0.03170167192036989,0.06161440289781902,0.15511304343725524,0.19619444677693412,0.2918903297000633,0.4116862293306712,0.4761055666678884,0.5371411495398766,0.6417893169559681,0.7120038751003286,0.8635300891435213],\"type\":\"scatter\"},{\"line\":{\"color\":\"red\",\"dash\":\"dot\"},\"mode\":\"lines\",\"name\":\"GT2.1\",\"x\":[0.0,1.9909722222222221,6.805555555555555,8.744444444444444,10.738888888888889,13.950694444444444,16.781944444444445,20.74375,22.772916666666667,24.754166666666666,27.783333333333335,29.743055555555557,34.96527777777778],\"y\":[0.0,0.017697482777724618,0.03421029978723215,0.07196769268592869,0.14820295993835025,0.16815107640880872,0.23604619528727086,0.3277153692843696,0.38288220484705143,0.4385570027609818,0.5396283662433483,0.6100269926267836,0.7840262096480398],\"type\":\"scatter\"},{\"marker\":{\"color\":\"red\"},\"mode\":\"markers\",\"name\":\"GT2.1 Data Points\",\"x\":[0.0,1.9909722222222221,6.805555555555555,8.744444444444444,10.738888888888889,13.950694444444444,16.781944444444445,20.74375,22.772916666666667,24.754166666666666,27.783333333333335,29.743055555555557,34.96527777777778],\"y\":[0.0,0.017697482777724618,0.03421029978723215,0.07196769268592869,0.14820295993835025,0.16815107640880872,0.23604619528727086,0.3277153692843696,0.38288220484705143,0.4385570027609818,0.5396283662433483,0.6100269926267836,0.7840262096480398],\"type\":\"scatter\"},{\"line\":{\"color\":\"red\",\"dash\":\"dashdot\"},\"mode\":\"lines\",\"name\":\"GT2.2\",\"x\":[0.0,1.992361111111111,6.811805555555556,8.744444444444444,10.780555555555555,13.95,16.781944444444445,20.74375,22.775,24.754166666666666,27.77638888888889,29.744444444444444,34.96458333333333],\"y\":[0.0,0.027316018422838702,0.07603335239255866,0.10103239430479286,0.13204018568299408,0.17225263174008432,0.20491107857399166,0.24837998634025865,0.2678237593459569,0.2913946524446504,0.3310170694536565,0.3576682675986032,0.45345054025752923],\"type\":\"scatter\"},{\"marker\":{\"color\":\"red\"},\"mode\":\"markers\",\"name\":\"GT2.2 Data Points\",\"x\":[0.0,1.992361111111111,6.811805555555556,8.744444444444444,10.780555555555555,13.95,16.781944444444445,20.74375,22.775,24.754166666666666,27.77638888888889,29.744444444444444,34.96458333333333],\"y\":[0.0,0.027316018422838702,0.07603335239255866,0.10103239430479286,0.13204018568299408,0.17225263174008432,0.20491107857399166,0.24837998634025865,0.2678237593459569,0.2913946524446504,0.3310170694536565,0.3576682675986032,0.45345054025752923],\"type\":\"scatter\"},{\"line\":{\"color\":\"red\",\"dash\":\"longdash\"},\"mode\":\"lines\",\"name\":\"GT3.1\",\"x\":[0.0,2.0118055555555556,6.8125,8.745138888888889,10.78125,13.950694444444444,16.781944444444445,20.74375,22.775694444444444,24.75486111111111,27.78263888888889,29.744444444444444,34.96527777777778],\"y\":[0.0,0.12440583335602175,0.2970348388731206,0.361348315832221,0.4130225024532185,0.42854102620281287,0.4853860735777723,0.5806492679489266,0.6237167532049571,0.663282012707695,0.7277585307417537,0.7663018905076368,0.887385743061015],\"type\":\"scatter\"},{\"marker\":{\"color\":\"red\"},\"mode\":\"markers\",\"name\":\"GT3.1 Data Points\",\"x\":[0.0,2.0118055555555556,6.8125,8.745138888888889,10.78125,13.950694444444444,16.781944444444445,20.74375,22.775694444444444,24.75486111111111,27.78263888888889,29.744444444444444,34.96527777777778],\"y\":[0.0,0.12440583335602175,0.2970348388731206,0.361348315832221,0.4130225024532185,0.42854102620281287,0.4853860735777723,0.5806492679489266,0.6237167532049571,0.663282012707695,0.7277585307417537,0.7663018905076368,0.887385743061015],\"type\":\"scatter\"},{\"line\":{\"color\":\"red\",\"dash\":\"longdashdot\"},\"mode\":\"lines\",\"name\":\"GT3.2\",\"x\":[0.0,2.0131944444444443,6.813194444444444,8.746527777777779,10.783333333333333,13.95138888888889,16.783333333333335,20.744444444444444,22.77638888888889,24.755555555555556,27.783333333333335,29.74513888888889,34.96597222222222],\"y\":[0.0,0.08340326922830413,0.24954465085312635,0.3184723649463691,0.37425447573874077,0.38915444394804655,0.4530351093281298,0.5372839600639283,0.5842363986693069,0.6395915794862415,0.7527263112021677,0.8522316089795121,1.2583988429749131],\"type\":\"scatter\"},{\"marker\":{\"color\":\"red\"},\"mode\":\"markers\",\"name\":\"GT3.2 Data Points\",\"x\":[0.0,2.0131944444444443,6.813194444444444,8.746527777777779,10.783333333333333,13.95138888888889,16.783333333333335,20.744444444444444,22.77638888888889,24.755555555555556,27.783333333333335,29.74513888888889,34.96597222222222],\"y\":[0.0,0.08340326922830413,0.24954465085312635,0.3184723649463691,0.37425447573874077,0.38915444394804655,0.4530351093281298,0.5372839600639283,0.5842363986693069,0.6395915794862415,0.7527263112021677,0.8522316089795121,1.2583988429749131],\"type\":\"scatter\"},{\"line\":{\"color\":\"blue\",\"dash\":\"solid\"},\"mode\":\"lines\",\"name\":\"GT4.1\",\"x\":[0.0,1.0222222222222221,5.81875,7.753472222222222,9.784722222222221,12.952777777777778,15.784027777777778,19.747916666666665,21.777083333333334,23.756944444444443,26.78472222222222,28.747916666666665,33.96944444444444],\"y\":[0.0,0.2799391743092849,0.5832781777159705,0.7008011119422013,0.7916094707967563,0.8226040069463356,0.9965429344520165,1.254990428155502,1.3753543634817302,1.4481410698504782,1.5265979372474796,1.5803291172388896,1.6776626229491256],\"type\":\"scatter\"},{\"marker\":{\"color\":\"blue\"},\"mode\":\"markers\",\"name\":\"GT4.1 Data Points\",\"x\":[0.0,1.0222222222222221,5.81875,7.753472222222222,9.784722222222221,12.952777777777778,15.784027777777778,19.747916666666665,21.777083333333334,23.756944444444443,26.78472222222222,28.747916666666665,33.96944444444444],\"y\":[0.0,0.2799391743092849,0.5832781777159705,0.7008011119422013,0.7916094707967563,0.8226040069463356,0.9965429344520165,1.254990428155502,1.3753543634817302,1.4481410698504782,1.5265979372474796,1.5803291172388896,1.6776626229491256],\"type\":\"scatter\"},{\"line\":{\"color\":\"blue\",\"dash\":\"dash\"},\"mode\":\"lines\",\"name\":\"GT4.2\",\"x\":[0.0,1.0243055555555556,5.820138888888889,7.754166666666666,9.785416666666666,12.954166666666667,15.78888888888889,19.75347222222222,21.779166666666665,23.758333333333333,26.78611111111111,28.74861111111111,33.96875],\"y\":[0.0,0.27261107269455814,0.559558806984984,0.6734839734146908,0.7605959244264879,0.7917481849527095,0.9721384703642957,1.2354899730953017,1.3555887486551192,1.4251264456636494,1.500736177288511,1.5525500317386092,1.624346225617279],\"type\":\"scatter\"},{\"marker\":{\"color\":\"blue\"},\"mode\":\"markers\",\"name\":\"GT4.2 Data Points\",\"x\":[0.0,1.0243055555555556,5.820138888888889,7.754166666666666,9.785416666666666,12.954166666666667,15.78888888888889,19.75347222222222,21.779166666666665,23.758333333333333,26.78611111111111,28.74861111111111,33.96875],\"y\":[0.0,0.27261107269455814,0.559558806984984,0.6734839734146908,0.7605959244264879,0.7917481849527095,0.9721384703642957,1.2354899730953017,1.3555887486551192,1.4251264456636494,1.500736177288511,1.5525500317386092,1.624346225617279],\"type\":\"scatter\"},{\"line\":{\"color\":\"pink\",\"dash\":\"solid\"},\"mode\":\"lines\",\"name\":\"GT5.1\",\"x\":[0.0,2.0131944444444443,6.820138888888889,8.754166666666666,10.789583333333333,13.95625,16.7875,20.752083333333335,22.779166666666665,24.757638888888888,27.785416666666666,29.749305555555555,34.97152777777778],\"y\":[0.0,0.11248585200790066,0.21601115228704973,0.2618262551203714,0.2925356372039634,0.31753422708079276,0.4079713342900811,0.47482356725855407,0.4868833799497962,0.5061510294077219,0.5592483124219542,0.5776888005969798,0.63005972304894],\"type\":\"scatter\"},{\"marker\":{\"color\":\"pink\"},\"mode\":\"markers\",\"name\":\"GT5.1 Data Points\",\"x\":[0.0,2.0131944444444443,6.820138888888889,8.754166666666666,10.789583333333333,13.95625,16.7875,20.752083333333335,22.779166666666665,24.757638888888888,27.785416666666666,29.749305555555555,34.97152777777778],\"y\":[0.0,0.11248585200790066,0.21601115228704973,0.2618262551203714,0.2925356372039634,0.31753422708079276,0.4079713342900811,0.47482356725855407,0.4868833799497962,0.5061510294077219,0.5592483124219542,0.5776888005969798,0.63005972304894],\"type\":\"scatter\"},{\"line\":{\"color\":\"pink\",\"dash\":\"dash\"},\"mode\":\"lines\",\"name\":\"GT5.2\",\"x\":[0.0,2.0145833333333334,6.821527777777778,8.755555555555556,10.790277777777778,13.956944444444444,16.788888888888888,20.752083333333335,22.78263888888889,24.763194444444444,27.790277777777778,29.75,34.97291666666667],\"y\":[0.0,0.10299379340225137,0.18886399366396095,0.2326480821012212,0.25509782709715273,0.2421760168025609,0.2722846378263166,0.3386283456193981,0.36011346159445895,0.40630599484752616,0.44486974763968307,0.4892990863711305,0.5618099490450795],\"type\":\"scatter\"},{\"marker\":{\"color\":\"pink\"},\"mode\":\"markers\",\"name\":\"GT5.2 Data Points\",\"x\":[0.0,2.0145833333333334,6.821527777777778,8.755555555555556,10.790277777777778,13.956944444444444,16.788888888888888,20.752083333333335,22.78263888888889,24.763194444444444,27.790277777777778,29.75,34.97291666666667],\"y\":[0.0,0.10299379340225137,0.18886399366396095,0.2326480821012212,0.25509782709715273,0.2421760168025609,0.2722846378263166,0.3386283456193981,0.36011346159445895,0.40630599484752616,0.44486974763968307,0.4892990863711305,0.5618099490450795],\"type\":\"scatter\"},{\"line\":{\"color\":\"yellow\",\"dash\":\"solid\"},\"mode\":\"lines\",\"name\":\"GT6.1\",\"x\":[0.0,1.0229166666666667,5.823611111111111,7.760416666666667,9.790972222222223,12.957638888888889,15.789583333333333,19.752777777777776,21.783333333333335,23.76388888888889,26.790277777777778,28.749305555555555,33.97222222222222],\"y\":[0.0,0.07965718461225577,0.17008550957928661,0.3456268261017885,0.5413348634675669,0.49620456444381655,0.6219411841581519,0.7709497084473799,0.8487044536750074,0.9121294313728285,0.9991840957133422,1.0533527363119504,1.183801272592078],\"type\":\"scatter\"},{\"marker\":{\"color\":\"yellow\"},\"mode\":\"markers\",\"name\":\"GT6.1 Data Points\",\"x\":[0.0,1.0229166666666667,5.823611111111111,7.760416666666667,9.790972222222223,12.957638888888889,15.789583333333333,19.752777777777776,21.783333333333335,23.76388888888889,26.790277777777778,28.749305555555555,33.97222222222222],\"y\":[0.0,0.07965718461225577,0.17008550957928661,0.3456268261017885,0.5413348634675669,0.49620456444381655,0.6219411841581519,0.7709497084473799,0.8487044536750074,0.9121294313728285,0.9991840957133422,1.0533527363119504,1.183801272592078],\"type\":\"scatter\"},{\"line\":{\"color\":\"yellow\",\"dash\":\"dash\"},\"mode\":\"lines\",\"name\":\"GT6.2\",\"x\":[0.0,1.0256944444444445,5.825,7.761805555555555,9.79375,12.959722222222222,15.790972222222223,19.75486111111111,21.788888888888888,23.76527777777778,26.791666666666668,28.75625,33.975],\"y\":[0.0,0.12182464424499001,0.3902586776875465,0.5139640389939646,0.6050150798836824,0.6418907547367371,0.7608514357039795,0.9260625989761905,1.0177849185147858,1.1010357023529074,1.2230607781983067,1.3058467470257344,1.5183355362467839],\"type\":\"scatter\"},{\"marker\":{\"color\":\"yellow\"},\"mode\":\"markers\",\"name\":\"GT6.2 Data Points\",\"x\":[0.0,1.0256944444444445,5.825,7.761805555555555,9.79375,12.959722222222222,15.790972222222223,19.75486111111111,21.788888888888888,23.76527777777778,26.791666666666668,28.75625,33.975],\"y\":[0.0,0.12182464424499001,0.3902586776875465,0.5139640389939646,0.6050150798836824,0.6418907547367371,0.7608514357039795,0.9260625989761905,1.0177849185147858,1.1010357023529074,1.2230607781983067,1.3058467470257344,1.5183355362467839],\"type\":\"scatter\"},{\"line\":{\"color\":\"yellow\",\"dash\":\"dot\"},\"mode\":\"lines\",\"name\":\"GT7.1\",\"x\":[0.0,2.0145833333333334,6.854166666666667,8.763194444444444,10.79513888888889,13.960416666666667,16.792361111111113,20.75625,22.789583333333333,24.766666666666666,27.793055555555554,29.75625,34.97847222222222],\"y\":[0.0,0.04789998799781799,0.08237115066421627,0.11835579539310888,0.14632077354417938,0.261803097122637,0.4662284556425536,0.6152878294703957,0.6761154699786699,0.7248134876246257,0.7683506971152128,0.8099468296648603,0.8730873621997655],\"type\":\"scatter\"},{\"marker\":{\"color\":\"yellow\"},\"mode\":\"markers\",\"name\":\"GT7.1 Data Points\",\"x\":[0.0,2.0145833333333334,6.854166666666667,8.763194444444444,10.79513888888889,13.960416666666667,16.792361111111113,20.75625,22.789583333333333,24.766666666666666,27.793055555555554,29.75625,34.97847222222222],\"y\":[0.0,0.04789998799781799,0.08237115066421627,0.11835579539310888,0.14632077354417938,0.261803097122637,0.4662284556425536,0.6152878294703957,0.6761154699786699,0.7248134876246257,0.7683506971152128,0.8099468296648603,0.8730873621997655],\"type\":\"scatter\"},{\"line\":{\"color\":\"yellow\",\"dash\":\"dashdot\"},\"mode\":\"lines\",\"name\":\"GT7.2\",\"x\":[0.0,1.0256944444444445,5.854166666666667,7.763888888888889,9.79513888888889,12.963888888888889,15.795833333333333,19.75625,21.790277777777778,23.76597222222222,26.79375,28.760416666666668,33.97847222222222],\"y\":[0.0,0.15046800509488223,0.3023771848064685,0.3718940977392621,0.4268899476134545,0.5341081473711217,0.676058127164811,0.8909204110215084,1.0048965846706643,1.1033156947503264,1.2114703150115211,1.2756810728277284,1.4122988718432892],\"type\":\"scatter\"},{\"marker\":{\"color\":\"yellow\"},\"mode\":\"markers\",\"name\":\"GT7.2 Data Points\",\"x\":[0.0,1.0256944444444445,5.854166666666667,7.763888888888889,9.79513888888889,12.963888888888889,15.795833333333333,19.75625,21.790277777777778,23.76597222222222,26.79375,28.760416666666668,33.97847222222222],\"y\":[0.0,0.15046800509488223,0.3023771848064685,0.3718940977392621,0.4268899476134545,0.5341081473711217,0.676058127164811,0.8909204110215084,1.0048965846706643,1.1033156947503264,1.2114703150115211,1.2756810728277284,1.4122988718432892],\"type\":\"scatter\"},{\"line\":{\"color\":\"yellow\",\"dash\":\"longdash\"},\"mode\":\"lines\",\"name\":\"GT8.1\",\"x\":[0.0,1.0277777777777777,5.855555555555555,7.7652777777777775,12.965277777777779,15.797222222222222,19.761805555555554,21.790972222222223,23.76736111111111,26.79513888888889,28.761805555555554,33.97986111111111],\"y\":[0.0,0.17256680274062172,0.3641423696687381,0.4715321700665902,0.663054372921951,0.7852470764434536,0.9018311725604484,0.9777554461132236,1.0255761495302067,1.0666996292117918,1.1259861562710434,1.2588947697438992],\"type\":\"scatter\"},{\"marker\":{\"color\":\"yellow\"},\"mode\":\"markers\",\"name\":\"GT8.1 Data Points\",\"x\":[0.0,1.0277777777777777,5.855555555555555,7.7652777777777775,12.965277777777779,15.797222222222222,19.761805555555554,21.790972222222223,23.76736111111111,26.79513888888889,28.761805555555554,33.97986111111111],\"y\":[0.0,0.17256680274062172,0.3641423696687381,0.4715321700665902,0.663054372921951,0.7852470764434536,0.9018311725604484,0.9777554461132236,1.0255761495302067,1.0666996292117918,1.1259861562710434,1.2588947697438992],\"type\":\"scatter\"},{\"line\":{\"color\":\"yellow\",\"dash\":\"longdashdot\"},\"mode\":\"lines\",\"name\":\"GT8.2\",\"x\":[0.0,1.0284722222222222,5.855555555555555,7.7652777777777775,12.965277777777779,15.797222222222222,19.761111111111113,21.791666666666668,23.768055555555556,26.79513888888889,28.76597222222222,33.980555555555554],\"y\":[0.0,0.15461841330209175,0.41620143517997127,0.5613638770627412,0.7828317970623292,0.8956887078971596,1.012170598500536,1.0789713712394617,1.1221503190412443,1.170344029071555,1.2265166588105114,1.3038981657021456],\"type\":\"scatter\"},{\"marker\":{\"color\":\"yellow\"},\"mode\":\"markers\",\"name\":\"GT8.2 Data Points\",\"x\":[0.0,1.0284722222222222,5.855555555555555,7.7652777777777775,12.965277777777779,15.797222222222222,19.761111111111113,21.791666666666668,23.768055555555556,26.79513888888889,28.76597222222222,33.980555555555554],\"y\":[0.0,0.15461841330209175,0.41620143517997127,0.5613638770627412,0.7828317970623292,0.8956887078971596,1.012170598500536,1.0789713712394617,1.1221503190412443,1.170344029071555,1.2265166588105114,1.3038981657021456],\"type\":\"scatter\"}],                        {\"template\":{\"data\":{\"histogram2dcontour\":[{\"type\":\"histogram2dcontour\",\"colorbar\":{\"outlinewidth\":0,\"ticks\":\"\"},\"colorscale\":[[0.0,\"#0d0887\"],[0.1111111111111111,\"#46039f\"],[0.2222222222222222,\"#7201a8\"],[0.3333333333333333,\"#9c179e\"],[0.4444444444444444,\"#bd3786\"],[0.5555555555555556,\"#d8576b\"],[0.6666666666666666,\"#ed7953\"],[0.7777777777777778,\"#fb9f3a\"],[0.8888888888888888,\"#fdca26\"],[1.0,\"#f0f921\"]]}],\"choropleth\":[{\"type\":\"choropleth\",\"colorbar\":{\"outlinewidth\":0,\"ticks\":\"\"}}],\"histogram2d\":[{\"type\":\"histogram2d\",\"colorbar\":{\"outlinewidth\":0,\"ticks\":\"\"},\"colorscale\":[[0.0,\"#0d0887\"],[0.1111111111111111,\"#46039f\"],[0.2222222222222222,\"#7201a8\"],[0.3333333333333333,\"#9c179e\"],[0.4444444444444444,\"#bd3786\"],[0.5555555555555556,\"#d8576b\"],[0.6666666666666666,\"#ed7953\"],[0.7777777777777778,\"#fb9f3a\"],[0.8888888888888888,\"#fdca26\"],[1.0,\"#f0f921\"]]}],\"heatmap\":[{\"type\":\"heatmap\",\"colorbar\":{\"outlinewidth\":0,\"ticks\":\"\"},\"colorscale\":[[0.0,\"#0d0887\"],[0.1111111111111111,\"#46039f\"],[0.2222222222222222,\"#7201a8\"],[0.3333333333333333,\"#9c179e\"],[0.4444444444444444,\"#bd3786\"],[0.5555555555555556,\"#d8576b\"],[0.6666666666666666,\"#ed7953\"],[0.7777777777777778,\"#fb9f3a\"],[0.8888888888888888,\"#fdca26\"],[1.0,\"#f0f921\"]]}],\"heatmapgl\":[{\"type\":\"heatmapgl\",\"colorbar\":{\"outlinewidth\":0,\"ticks\":\"\"},\"colorscale\":[[0.0,\"#0d0887\"],[0.1111111111111111,\"#46039f\"],[0.2222222222222222,\"#7201a8\"],[0.3333333333333333,\"#9c179e\"],[0.4444444444444444,\"#bd3786\"],[0.5555555555555556,\"#d8576b\"],[0.6666666666666666,\"#ed7953\"],[0.7777777777777778,\"#fb9f3a\"],[0.8888888888888888,\"#fdca26\"],[1.0,\"#f0f921\"]]}],\"contourcarpet\":[{\"type\":\"contourcarpet\",\"colorbar\":{\"outlinewidth\":0,\"ticks\":\"\"}}],\"contour\":[{\"type\":\"contour\",\"colorbar\":{\"outlinewidth\":0,\"ticks\":\"\"},\"colorscale\":[[0.0,\"#0d0887\"],[0.1111111111111111,\"#46039f\"],[0.2222222222222222,\"#7201a8\"],[0.3333333333333333,\"#9c179e\"],[0.4444444444444444,\"#bd3786\"],[0.5555555555555556,\"#d8576b\"],[0.6666666666666666,\"#ed7953\"],[0.7777777777777778,\"#fb9f3a\"],[0.8888888888888888,\"#fdca26\"],[1.0,\"#f0f921\"]]}],\"surface\":[{\"type\":\"surface\",\"colorbar\":{\"outlinewidth\":0,\"ticks\":\"\"},\"colorscale\":[[0.0,\"#0d0887\"],[0.1111111111111111,\"#46039f\"],[0.2222222222222222,\"#7201a8\"],[0.3333333333333333,\"#9c179e\"],[0.4444444444444444,\"#bd3786\"],[0.5555555555555556,\"#d8576b\"],[0.6666666666666666,\"#ed7953\"],[0.7777777777777778,\"#fb9f3a\"],[0.8888888888888888,\"#fdca26\"],[1.0,\"#f0f921\"]]}],\"mesh3d\":[{\"type\":\"mesh3d\",\"colorbar\":{\"outlinewidth\":0,\"ticks\":\"\"}}],\"scatter\":[{\"marker\":{\"line\":{\"color\":\"#283442\"}},\"type\":\"scatter\"}],\"parcoords\":[{\"type\":\"parcoords\",\"line\":{\"colorbar\":{\"outlinewidth\":0,\"ticks\":\"\"}}}],\"scatterpolargl\":[{\"type\":\"scatterpolargl\",\"marker\":{\"colorbar\":{\"outlinewidth\":0,\"ticks\":\"\"}}}],\"bar\":[{\"error_x\":{\"color\":\"#f2f5fa\"},\"error_y\":{\"color\":\"#f2f5fa\"},\"marker\":{\"line\":{\"color\":\"rgb(17,17,17)\",\"width\":0.5},\"pattern\":{\"fillmode\":\"overlay\",\"size\":10,\"solidity\":0.2}},\"type\":\"bar\"}],\"scattergeo\":[{\"type\":\"scattergeo\",\"marker\":{\"colorbar\":{\"outlinewidth\":0,\"ticks\":\"\"}}}],\"scatterpolar\":[{\"type\":\"scatterpolar\",\"marker\":{\"colorbar\":{\"outlinewidth\":0,\"ticks\":\"\"}}}],\"histogram\":[{\"marker\":{\"pattern\":{\"fillmode\":\"overlay\",\"size\":10,\"solidity\":0.2}},\"type\":\"histogram\"}],\"scattergl\":[{\"marker\":{\"line\":{\"color\":\"#283442\"}},\"type\":\"scattergl\"}],\"scatter3d\":[{\"type\":\"scatter3d\",\"line\":{\"colorbar\":{\"outlinewidth\":0,\"ticks\":\"\"}},\"marker\":{\"colorbar\":{\"outlinewidth\":0,\"ticks\":\"\"}}}],\"scattermapbox\":[{\"type\":\"scattermapbox\",\"marker\":{\"colorbar\":{\"outlinewidth\":0,\"ticks\":\"\"}}}],\"scatterternary\":[{\"type\":\"scatterternary\",\"marker\":{\"colorbar\":{\"outlinewidth\":0,\"ticks\":\"\"}}}],\"scattercarpet\":[{\"type\":\"scattercarpet\",\"marker\":{\"colorbar\":{\"outlinewidth\":0,\"ticks\":\"\"}}}],\"carpet\":[{\"aaxis\":{\"endlinecolor\":\"#A2B1C6\",\"gridcolor\":\"#506784\",\"linecolor\":\"#506784\",\"minorgridcolor\":\"#506784\",\"startlinecolor\":\"#A2B1C6\"},\"baxis\":{\"endlinecolor\":\"#A2B1C6\",\"gridcolor\":\"#506784\",\"linecolor\":\"#506784\",\"minorgridcolor\":\"#506784\",\"startlinecolor\":\"#A2B1C6\"},\"type\":\"carpet\"}],\"table\":[{\"cells\":{\"fill\":{\"color\":\"#506784\"},\"line\":{\"color\":\"rgb(17,17,17)\"}},\"header\":{\"fill\":{\"color\":\"#2a3f5f\"},\"line\":{\"color\":\"rgb(17,17,17)\"}},\"type\":\"table\"}],\"barpolar\":[{\"marker\":{\"line\":{\"color\":\"rgb(17,17,17)\",\"width\":0.5},\"pattern\":{\"fillmode\":\"overlay\",\"size\":10,\"solidity\":0.2}},\"type\":\"barpolar\"}],\"pie\":[{\"automargin\":true,\"type\":\"pie\"}]},\"layout\":{\"autotypenumbers\":\"strict\",\"colorway\":[\"#636efa\",\"#EF553B\",\"#00cc96\",\"#ab63fa\",\"#FFA15A\",\"#19d3f3\",\"#FF6692\",\"#B6E880\",\"#FF97FF\",\"#FECB52\"],\"font\":{\"color\":\"#f2f5fa\"},\"hovermode\":\"closest\",\"hoverlabel\":{\"align\":\"left\"},\"paper_bgcolor\":\"rgb(17,17,17)\",\"plot_bgcolor\":\"rgb(17,17,17)\",\"polar\":{\"bgcolor\":\"rgb(17,17,17)\",\"angularaxis\":{\"gridcolor\":\"#506784\",\"linecolor\":\"#506784\",\"ticks\":\"\"},\"radialaxis\":{\"gridcolor\":\"#506784\",\"linecolor\":\"#506784\",\"ticks\":\"\"}},\"ternary\":{\"bgcolor\":\"rgb(17,17,17)\",\"aaxis\":{\"gridcolor\":\"#506784\",\"linecolor\":\"#506784\",\"ticks\":\"\"},\"baxis\":{\"gridcolor\":\"#506784\",\"linecolor\":\"#506784\",\"ticks\":\"\"},\"caxis\":{\"gridcolor\":\"#506784\",\"linecolor\":\"#506784\",\"ticks\":\"\"}},\"coloraxis\":{\"colorbar\":{\"outlinewidth\":0,\"ticks\":\"\"}},\"colorscale\":{\"sequential\":[[0.0,\"#0d0887\"],[0.1111111111111111,\"#46039f\"],[0.2222222222222222,\"#7201a8\"],[0.3333333333333333,\"#9c179e\"],[0.4444444444444444,\"#bd3786\"],[0.5555555555555556,\"#d8576b\"],[0.6666666666666666,\"#ed7953\"],[0.7777777777777778,\"#fb9f3a\"],[0.8888888888888888,\"#fdca26\"],[1.0,\"#f0f921\"]],\"sequentialminus\":[[0.0,\"#0d0887\"],[0.1111111111111111,\"#46039f\"],[0.2222222222222222,\"#7201a8\"],[0.3333333333333333,\"#9c179e\"],[0.4444444444444444,\"#bd3786\"],[0.5555555555555556,\"#d8576b\"],[0.6666666666666666,\"#ed7953\"],[0.7777777777777778,\"#fb9f3a\"],[0.8888888888888888,\"#fdca26\"],[1.0,\"#f0f921\"]],\"diverging\":[[0,\"#8e0152\"],[0.1,\"#c51b7d\"],[0.2,\"#de77ae\"],[0.3,\"#f1b6da\"],[0.4,\"#fde0ef\"],[0.5,\"#f7f7f7\"],[0.6,\"#e6f5d0\"],[0.7,\"#b8e186\"],[0.8,\"#7fbc41\"],[0.9,\"#4d9221\"],[1,\"#276419\"]]},\"xaxis\":{\"gridcolor\":\"#283442\",\"linecolor\":\"#506784\",\"ticks\":\"\",\"title\":{\"standoff\":15},\"zerolinecolor\":\"#283442\",\"automargin\":true,\"zerolinewidth\":2},\"yaxis\":{\"gridcolor\":\"#283442\",\"linecolor\":\"#506784\",\"ticks\":\"\",\"title\":{\"standoff\":15},\"zerolinecolor\":\"#283442\",\"automargin\":true,\"zerolinewidth\":2},\"scene\":{\"xaxis\":{\"backgroundcolor\":\"rgb(17,17,17)\",\"gridcolor\":\"#506784\",\"linecolor\":\"#506784\",\"showbackground\":true,\"ticks\":\"\",\"zerolinecolor\":\"#C8D4E3\",\"gridwidth\":2},\"yaxis\":{\"backgroundcolor\":\"rgb(17,17,17)\",\"gridcolor\":\"#506784\",\"linecolor\":\"#506784\",\"showbackground\":true,\"ticks\":\"\",\"zerolinecolor\":\"#C8D4E3\",\"gridwidth\":2},\"zaxis\":{\"backgroundcolor\":\"rgb(17,17,17)\",\"gridcolor\":\"#506784\",\"linecolor\":\"#506784\",\"showbackground\":true,\"ticks\":\"\",\"zerolinecolor\":\"#C8D4E3\",\"gridwidth\":2}},\"shapedefaults\":{\"line\":{\"color\":\"#f2f5fa\"}},\"annotationdefaults\":{\"arrowcolor\":\"#f2f5fa\",\"arrowhead\":0,\"arrowwidth\":1},\"geo\":{\"bgcolor\":\"rgb(17,17,17)\",\"landcolor\":\"rgb(17,17,17)\",\"subunitcolor\":\"#506784\",\"showland\":true,\"showlakes\":true,\"lakecolor\":\"rgb(17,17,17)\"},\"title\":{\"x\":0.05},\"updatemenudefaults\":{\"bgcolor\":\"#506784\",\"borderwidth\":0},\"sliderdefaults\":{\"bgcolor\":\"#C8D4E3\",\"borderwidth\":1,\"bordercolor\":\"rgb(17,17,17)\",\"tickwidth\":0},\"mapbox\":{\"style\":\"dark\"}}},\"width\":1200,\"height\":800,\"annotations\":[{\"font\":{\"color\":\"red\",\"size\":14},\"showarrow\":false,\"text\":\"red is drill 3-1-1\",\"x\":0.02,\"xref\":\"paper\",\"y\":0.98,\"yref\":\"paper\"},{\"font\":{\"color\":\"blue\",\"size\":14},\"showarrow\":false,\"text\":\"blue is drill 4-1-1\",\"x\":0.02,\"xref\":\"paper\",\"y\":0.92,\"yref\":\"paper\"},{\"font\":{\"color\":\"pink\",\"size\":14},\"showarrow\":false,\"text\":\"pink is drill 4-1-2\",\"x\":0.02,\"xref\":\"paper\",\"y\":0.86,\"yref\":\"paper\"},{\"font\":{\"color\":\"yellow\",\"size\":14},\"showarrow\":false,\"text\":\"Yellow is drill 4-2-3\",\"x\":0.02,\"xref\":\"paper\",\"y\":0.8,\"yref\":\"paper\"}],\"legend\":{\"x\":0,\"y\":-0.2,\"orientation\":\"h\",\"traceorder\":\"normal\"},\"title\":{\"text\":\"colors based on drill\"},\"xaxis\":{\"title\":{\"text\":\"Day\"}},\"yaxis\":{\"title\":{\"text\":\"Cgas_DM_cum\"}},\"showlegend\":true,\"plot_bgcolor\":\"grey\"},                        {\"responsive\": true}                    ).then(function(){\n                            \nvar gd = document.getElementById('42c308bd-d650-4a79-ba54-ef8ea966441c');\nvar x = new MutationObserver(function (mutations, observer) {{\n        var display = window.getComputedStyle(gd).display;\n        if (!display || display === 'none') {{\n            console.log([gd, 'removed!']);\n            Plotly.purge(gd);\n            observer.disconnect();\n        }}\n}});\n\n// Listen for the removal of the full notebook cells\nvar notebookContainer = gd.closest('#notebook-container');\nif (notebookContainer) {{\n    x.observe(notebookContainer, {childList: true});\n}}\n\n// Listen for the clearing of the current output cell\nvar outputEl = gd.closest('.output');\nif (outputEl) {{\n    x.observe(outputEl, {childList: true});\n}}\n\n                        })                };                });            </script>        </div>"
     },
     "metadata": {},
     "output_type": "display_data"
    }
   ],
   "source": [
    "# sample_list_drilling_3_1_1 = [\"GT1.1\", \"GT1.2\", \"GT2.1\", \"GT2.2\", \"GT3.1\", \"GT3.2\"]\n",
    "# sample_list_drilling_4_1_1 = [\"GT4.1\", \"GT4.2\"]\n",
    "# sample_list_drilling_4_1_2 = [\"GT5.1\", \"GT5.2\"]\n",
    "# sample_list_drilling_4_2_3 = [\"GT6.1\", \"GT6.2\", \"GT7.1\", \"GT7.2\", \"GT8.1\", \"GT8.2\"]\n",
    "\n",
    "import plotly.graph_objects as go\n",
    "\n",
    "# Define the line styles\n",
    "line_styles = ['solid', 'dash', 'dot', 'dashdot', 'longdash', 'longdashdot', 'dot', 'dash']\n",
    "\n",
    "# Create the figure\n",
    "fig = go.Figure()\n",
    "\n",
    "# Modify the layout with the desired figure size\n",
    "fig.update_layout(\n",
    "    width=15*80,  # 80 pixels per unit width\n",
    "    height=10*80,  # 80 pixels per unit height\n",
    ")\n",
    "\n",
    "\n",
    "# Iterate over sample_list_drilling_3_1_1\n",
    "for i, sheet_name in enumerate(sample_list_drilling_3_1_1):\n",
    "    df = dict_data_frames[sheet_name]\n",
    "\n",
    "    # Drop the rows where 'CumulativeColumn' is NaN\n",
    "    df_dropped = df.dropna(subset=['Cgas_DM_cum'])\n",
    "\n",
    "    # Add the line trace\n",
    "    fig.add_trace(go.Scatter(\n",
    "        x=df_dropped['Day'],\n",
    "        y=df_dropped['Cgas_DM_cum'],\n",
    "        mode='lines',\n",
    "        name=sheet_name,\n",
    "        line=dict(color='red', dash=line_styles[i])\n",
    "    ))\n",
    "\n",
    "    # Add the scatter trace\n",
    "    fig.add_trace(go.Scatter(\n",
    "        x=df_dropped['Day'],\n",
    "        y=df_dropped['Cgas_DM_cum'],\n",
    "        mode='markers',\n",
    "        name=f'{sheet_name} Data Points',\n",
    "        marker=dict(color='red')\n",
    "    ))\n",
    "\n",
    "# Iterate over sample_list_drilling_4_1_1\n",
    "for i, sheet_name in enumerate(sample_list_drilling_4_1_1):\n",
    "    df = dict_data_frames[sheet_name]\n",
    "\n",
    "    # Drop the rows where 'CumulativeColumn' is NaN\n",
    "    df_dropped = df.dropna(subset=['Cgas_DM_cum'])\n",
    "\n",
    "    # Add the line trace\n",
    "    fig.add_trace(go.Scatter(\n",
    "        x=df_dropped['Day'],\n",
    "        y=df_dropped['Cgas_DM_cum'],\n",
    "        mode='lines',\n",
    "        name=sheet_name,\n",
    "        line=dict(color='blue', dash=line_styles[i])\n",
    "    ))\n",
    "\n",
    "    # Add the scatter trace\n",
    "    fig.add_trace(go.Scatter(\n",
    "        x=df_dropped['Day'],\n",
    "        y=df_dropped['Cgas_DM_cum'],\n",
    "        mode='markers',\n",
    "        name=f'{sheet_name} Data Points',\n",
    "        marker=dict(color='blue')\n",
    "    ))\n",
    "\n",
    "# Iterate over sample_list_drilling_4_1_2\n",
    "for i, sheet_name in enumerate(sample_list_drilling_4_1_2):\n",
    "    df = dict_data_frames[sheet_name]\n",
    "\n",
    "    # Drop the rows where 'CumulativeColumn' is NaN\n",
    "    df_dropped = df.dropna(subset=['Cgas_DM_cum'])\n",
    "\n",
    "    # Add the line trace\n",
    "    fig.add_trace(go.Scatter(\n",
    "        x=df_dropped['Day'],\n",
    "        y=df_dropped['Cgas_DM_cum'],\n",
    "        mode='lines',\n",
    "        name=sheet_name,\n",
    "        line=dict(color='pink', dash=line_styles[i])\n",
    "    ))\n",
    "\n",
    "    # Add the scatter trace\n",
    "    fig.add_trace(go.Scatter(\n",
    "        x=df_dropped['Day'],\n",
    "        y=df_dropped['Cgas_DM_cum'],\n",
    "        mode='markers',\n",
    "        name=f'{sheet_name} Data Points',\n",
    "        marker=dict(color='pink')\n",
    "    ))\n",
    "\n",
    "# Iterate over sample_list_drilling_4_2_3\n",
    "for i, sheet_name in enumerate(sample_list_drilling_4_2_3):\n",
    "    df = dict_data_frames[sheet_name]\n",
    "\n",
    "    # Drop the rows where 'CumulativeColumn' is NaN\n",
    "    df_dropped = df.dropna(subset=['Cgas_DM_cum'])\n",
    "\n",
    "    # Add the line trace\n",
    "    fig.add_trace(go.Scatter(\n",
    "        x=df_dropped['Day'],\n",
    "        y=df_dropped['Cgas_DM_cum'],\n",
    "        mode='lines',\n",
    "        name=sheet_name,\n",
    "        line=dict(color='yellow', dash=line_styles[i])\n",
    "    ))\n",
    "\n",
    "    # Add the scatter trace\n",
    "    fig.add_trace(go.Scatter(\n",
    "        x=df_dropped['Day'],\n",
    "        y=df_dropped['Cgas_DM_cum'],\n",
    "        mode='markers',\n",
    "        name=f'{sheet_name} Data Points',\n",
    "        marker=dict(color='yellow')\n",
    "    ))\n",
    "\n",
    "\n",
    "# Add legend-like text annotations\n",
    "fig.add_annotation(\n",
    "    xref='paper',\n",
    "    yref='paper',\n",
    "    x=0.02,\n",
    "    y=0.98,\n",
    "    text='red is drill 3-1-1',\n",
    "    showarrow=False,\n",
    "    font=dict(size=14, color='red')\n",
    ")\n",
    "\n",
    "# Add legend-like text annotations\n",
    "fig.add_annotation(\n",
    "    xref='paper',\n",
    "    yref='paper',\n",
    "    x=0.02,\n",
    "    y=0.92,\n",
    "    text='blue is drill 4-1-1',\n",
    "    showarrow=False,\n",
    "    font=dict(size=14, color='blue')\n",
    ")\n",
    "\n",
    "# Add legend-like text annotations\n",
    "fig.add_annotation(\n",
    "    xref='paper',\n",
    "    yref='paper',\n",
    "    x=0.02,\n",
    "    y=0.86,\n",
    "    text='pink is drill 4-1-2',\n",
    "    showarrow=False,\n",
    "    font=dict(size=14, color='pink')\n",
    ")\n",
    "\n",
    "# Add legend-like text annotations\n",
    "fig.add_annotation(\n",
    "    xref='paper',\n",
    "    yref='paper',\n",
    "    x=0.02,\n",
    "    y=0.8,\n",
    "    text='Yellow is drill 4-2-3',\n",
    "    showarrow=False,\n",
    "    font=dict(size=14, color='yellow')\n",
    ")\n",
    "\n",
    "# Update the layout\n",
    "fig.update_layout(\n",
    "    title='colors based on drill',\n",
    "    xaxis=dict(title='Day'),\n",
    "    yaxis=dict(title='Cgas_DM_cum'),\n",
    "    showlegend=True,\n",
    "    legend=dict(\n",
    "        x=0,\n",
    "        y=-0.2,\n",
    "        orientation='h',\n",
    "        traceorder='normal'\n",
    "    ),\n",
    "    plot_bgcolor='grey'  # Set the plot background color to white\n",
    ")\n",
    "\n",
    "# Show the chart\n",
    "fig.show()\n"
   ],
   "metadata": {
    "collapsed": false,
    "ExecuteTime": {
     "end_time": "2023-06-27T10:35:23.857035Z",
     "start_time": "2023-06-27T10:35:23.724429200Z"
    }
   }
  },
  {
   "cell_type": "code",
   "execution_count": 57,
   "outputs": [
    {
     "data": {
      "application/vnd.plotly.v1+json": {
       "data": [
        {
         "marker": {
          "color": "red"
         },
         "mode": "markers",
         "name": "GT1.1 Data Points",
         "x": [
          0.0,
          2.0,
          6.8180555555555555,
          8.756944444444445,
          10.79375,
          13.963888888888889,
          16.780555555555555,
          20.74861111111111,
          22.786805555555556,
          24.76875,
          27.783333333333335,
          29.756944444444443,
          34.97847222222222
         ],
         "y": [
          0.0,
          6.808472762858926,
          0.34840115566367996,
          3.7095378263987686,
          1.4112591268049521,
          0.2714472250893865,
          1.0105185898038616,
          0.9998626567243883,
          0.9221770539090672,
          0.954334366501155,
          0.9676433296682654,
          0.8614288031856469,
          0.7935073739764299
         ],
         "type": "scatter"
        },
        {
         "marker": {
          "color": "red"
         },
         "mode": "markers",
         "name": "GT1.2 Data Points",
         "x": [
          0.0,
          1.9902777777777778,
          6.805555555555555,
          8.745138888888889,
          10.78125,
          13.95138888888889,
          16.783333333333335,
          20.73611111111111,
          22.773611111111112,
          24.755555555555556,
          27.784027777777776,
          29.744444444444444,
          34.96597222222222
         ],
         "y": [
          0.0,
          22.89847319532358,
          0.40696119473609976,
          6.110395353886036,
          1.7584083852338062,
          0.026026060261634808,
          1.150330560851035,
          1.1005835791248062,
          1.037406628331805,
          1.1116367535782528,
          1.1132284571081912,
          0.967337776962666,
          1.0452241367312187
         ],
         "type": "scatter"
        },
        {
         "marker": {
          "color": "red"
         },
         "mode": "markers",
         "name": "GT2.1 Data Points",
         "x": [
          0.0,
          1.9909722222222221,
          6.805555555555555,
          8.744444444444444,
          10.738888888888889,
          13.950694444444444,
          16.781944444444445,
          20.74375,
          22.772916666666667,
          24.754166666666666,
          27.783333333333335,
          29.743055555555557,
          34.96527777777778
         ],
         "y": [
          0.0,
          20.38491988127941,
          0.22864667432414756,
          4.731009380605716,
          1.692564303782729,
          -0.1029663706959156,
          1.2993158794698767,
          1.1809903305963307,
          1.107216998958056,
          1.1260921909498696,
          1.0642925206009872,
          0.9978321485450524,
          0.9994234539161415
         ],
         "type": "scatter"
        },
        {
         "marker": {
          "color": "red"
         },
         "mode": "markers",
         "name": "GT2.2 Data Points",
         "x": [
          0.0,
          1.992361111111111,
          6.811805555555556,
          8.744444444444444,
          10.780555555555555,
          13.95,
          16.781944444444445,
          20.74375,
          22.775,
          24.754166666666666,
          27.77638888888889,
          29.744444444444444,
          34.96458333333333
         ],
         "y": [
          0.0,
          7.8594155797103,
          2.384327878807881,
          5.446675955497311,
          2.660743726587427,
          1.9587165391505985,
          2.0796001181576633,
          1.7488377503275792,
          2.1851037401543976,
          1.6598989885491615,
          1.5844294755190147,
          1.4544101106962504,
          1.305233017337235
         ],
         "type": "scatter"
        },
        {
         "marker": {
          "color": "red"
         },
         "mode": "markers",
         "name": "GT3.1 Data Points",
         "x": [
          0.0,
          2.0118055555555556,
          6.8125,
          8.745138888888889,
          10.78125,
          13.950694444444444,
          16.781944444444445,
          20.74375,
          22.775694444444444,
          24.75486111111111,
          27.78263888888889,
          29.744444444444444,
          34.96527777777778
         ],
         "y": [
          0.0,
          2.5260282110272962,
          1.4558829199213434,
          1.2883518604048243,
          1.5313563951760791,
          2.0816196367882362,
          1.5844032384912206,
          1.4298582345740272,
          1.3588008522706767,
          1.9301700239352706,
          1.2615554791955568,
          1.2988208118418085,
          1.0680094910508904
         ],
         "type": "scatter"
        },
        {
         "marker": {
          "color": "red"
         },
         "mode": "markers",
         "name": "GT3.2 Data Points",
         "x": [
          0.0,
          2.0131944444444443,
          6.813194444444444,
          8.746527777777779,
          10.783333333333333,
          13.95138888888889,
          16.783333333333335,
          20.744444444444444,
          22.77638888888889,
          24.755555555555556,
          27.783333333333335,
          29.74513888888889,
          34.96597222222222
         ],
         "y": [
          0.0,
          3.433708189922514,
          1.4678887260435307,
          1.209254210674993,
          1.3416341980331754,
          1.899908039065621,
          1.314105679132232,
          1.2611193560309046,
          1.2377717198094518,
          1.0606892909877037,
          0.9306092058223366,
          0.8315292399524445,
          0.6993949001782607
         ],
         "type": "scatter"
        },
        {
         "marker": {
          "color": "blue"
         },
         "mode": "markers",
         "name": "GT4.1 Data Points",
         "x": [
          0.0,
          1.0222222222222221,
          5.81875,
          7.753472222222222,
          9.784722222222221,
          12.952777777777778,
          15.784027777777778,
          19.747916666666665,
          21.777083333333334,
          23.756944444444443,
          26.78472222222222,
          28.747916666666665,
          33.96944444444444
         ],
         "y": [
          0.0,
          0.580965484419541,
          0.6744646979305956,
          0.5447546405307194,
          0.6286583015975615,
          1.3772204999360003,
          0.8534204011794337,
          0.9527128977185305,
          0.660807784270266,
          0.6775613040391854,
          0.8172250122253372,
          0.7008612927891004,
          0.9810564699656271
         ],
         "type": "scatter"
        },
        {
         "marker": {
          "color": "blue"
         },
         "mode": "markers",
         "name": "GT4.2 Data Points",
         "x": [
          0.0,
          1.0243055555555556,
          5.820138888888889,
          7.754166666666666,
          9.785416666666666,
          12.954166666666667,
          15.78888888888889,
          19.75347222222222,
          21.779166666666665,
          23.758333333333333,
          26.78611111111111,
          28.74861111111111,
          33.96875
         ],
         "y": [
          0.0,
          0.4585293283639102,
          0.636543900840892,
          0.4861431656096529,
          0.6082935134395878,
          1.435636125247763,
          0.8437391120552973,
          0.9381119596316765,
          0.6460195431459286,
          0.6513272764393976,
          0.7633265427233826,
          0.6293855919645694,
          0.9850393901029878
         ],
         "type": "scatter"
        },
        {
         "marker": {
          "color": "pink"
         },
         "mode": "markers",
         "name": "GT5.1 Data Points",
         "x": [
          0.0,
          2.0131944444444443,
          6.820138888888889,
          8.754166666666666,
          10.789583333333333,
          13.95625,
          16.7875,
          20.752083333333335,
          22.779166666666665,
          24.757638888888888,
          27.785416666666666,
          29.749305555555555,
          34.97152777777778
         ],
         "y": [
          0.0,
          1.309273609148227,
          1.1815248889223184,
          0.7946842419143831,
          1.371218972269844,
          0.730947282482725,
          0.9674642529261732,
          0.7534870296970948,
          1.6734213810177063,
          1.07913243853115,
          0.6101571497135408,
          0.9556988746642966,
          0.8979213108083269
         ],
         "type": "scatter"
        },
        {
         "marker": {
          "color": "pink"
         },
         "mode": "markers",
         "name": "GT5.2 Data Points",
         "x": [
          0.0,
          2.0145833333333334,
          6.821527777777778,
          8.755555555555556,
          10.790277777777778,
          13.956944444444444,
          16.788888888888888,
          20.752083333333335,
          22.78263888888889,
          24.763194444444444,
          27.790277777777778,
          29.75,
          34.97291666666667
         ],
         "y": [
          0.0,
          0.7523715068496655,
          1.0056929061535669,
          0.7060499946460862,
          1.2689198886080522,
          1.5162903633771612,
          1.1429889789061944,
          0.7455531393097219,
          1.107024026702497,
          0.5601783416567944,
          0.909658079308093,
          0.5027106505904176,
          0.7596002095659763
         ],
         "type": "scatter"
        },
        {
         "marker": {
          "color": "yellow"
         },
         "mode": "markers",
         "name": "GT6.1 Data Points",
         "x": [
          0.0,
          1.0229166666666667,
          5.823611111111111,
          7.760416666666667,
          9.790972222222223,
          12.957638888888889,
          15.789583333333333,
          19.752777777777776,
          21.783333333333335,
          23.76388888888889,
          26.790277777777778,
          28.749305555555555,
          33.97222222222222
         ],
         "y": [
          0.0,
          2.9804011758696087,
          1.0080996423748136,
          1.0512323663272138,
          0.9617866174120221,
          0.8550250988030996,
          0.9372038607560987,
          0.903653634632886,
          0.8271695280920803,
          0.9255260359717551,
          0.9374670945154767,
          0.9042091045526714,
          0.9160414722437886
         ],
         "type": "scatter"
        },
        {
         "marker": {
          "color": "yellow"
         },
         "mode": "markers",
         "name": "GT6.2 Data Points",
         "x": [
          0.0,
          1.0256944444444445,
          5.825,
          7.761805555555555,
          9.79375,
          12.959722222222222,
          15.790972222222223,
          19.75486111111111,
          21.788888888888888,
          23.76527777777778,
          26.791666666666668,
          28.75625,
          33.975
         ],
         "y": [
          0.0,
          1.727631969959554,
          1.0744281775647075,
          0.9320165307676811,
          0.9287714169572229,
          0.9060123523509639,
          0.8712491678866061,
          0.8165578142771522,
          0.7781750109215961,
          0.7667698299472172,
          0.781712803730641,
          0.7428073576269206,
          0.7567006096338791
         ],
         "type": "scatter"
        },
        {
         "marker": {
          "color": "yellow"
         },
         "mode": "markers",
         "name": "GT7.1 Data Points",
         "x": [
          0.0,
          2.0145833333333334,
          6.854166666666667,
          8.763194444444444,
          10.79513888888889,
          13.960416666666667,
          16.792361111111113,
          20.75625,
          22.789583333333333,
          24.766666666666666,
          27.793055555555554,
          29.75625,
          34.97847222222222
         ],
         "y": [
          0.0,
          5.647937510372514,
          2.1096326136663066,
          2.6147193452989343,
          2.0920778599455185,
          0.09194014963495736,
          0.8742612794433777,
          0.9111170728841803,
          0.8240733057379119,
          0.9109603777525446,
          1.2409743995046183,
          0.8645984606796376,
          1.1863942975766282
         ],
         "type": "scatter"
        },
        {
         "marker": {
          "color": "yellow"
         },
         "mode": "markers",
         "name": "GT7.2 Data Points",
         "x": [
          0.0,
          1.0256944444444445,
          5.854166666666667,
          7.763888888888889,
          9.79513888888889,
          12.963888888888889,
          15.795833333333333,
          19.75625,
          21.790277777777778,
          23.76597222222222,
          26.79375,
          28.760416666666668,
          33.97847222222222
         ],
         "y": [
          0.0,
          1.7766435295137308,
          1.6938993309024595,
          1.2369457542780933,
          1.4611373175343187,
          1.049559676940686,
          0.8650713360261314,
          0.7902874299796531,
          0.7961967158443943,
          0.8019972693165281,
          0.9002411648327482,
          0.843852006329354,
          0.9120732536612488
         ],
         "type": "scatter"
        },
        {
         "marker": {
          "color": "yellow"
         },
         "mode": "markers",
         "name": "GT8.1 Data Points",
         "x": [
          0.0,
          1.0277777777777777,
          5.855555555555555,
          7.7652777777777775,
          12.965277777777779,
          15.797222222222222,
          19.761805555555554,
          21.790972222222223,
          23.76736111111111,
          26.79513888888889,
          28.761805555555554,
          33.97986111111111
         ],
         "y": [
          0.0,
          1.0028818010363378,
          1.0547085591979055,
          0.7019514134968873,
          0.8617099017471216,
          0.7860017376673648,
          0.8643006357535422,
          0.6749651810860126,
          0.8540934807073022,
          1.309482851656251,
          0.6834101628638456,
          0.8636561321314838
         ],
         "type": "scatter"
        },
        {
         "marker": {
          "color": "yellow"
         },
         "mode": "markers",
         "name": "GT8.2 Data Points",
         "x": [
          0.0,
          1.0284722222222222,
          5.855555555555555,
          7.7652777777777775,
          12.965277777777779,
          15.797222222222222,
          19.761111111111113,
          21.791666666666668,
          23.768055555555556,
          26.79513888888889,
          28.76597222222222,
          33.980555555555554
         ],
         "y": [
          0.0,
          1.320309714654801,
          0.9939737177751539,
          0.7084983264564969,
          0.8485678483150267,
          0.8152548998959305,
          0.9105972689121355,
          0.73613829634247,
          0.9345139013393025,
          1.2147266698227486,
          0.7027019537910687,
          1.1508778716972914
         ],
         "type": "scatter"
        }
       ],
       "layout": {
        "template": {
         "data": {
          "histogram2dcontour": [
           {
            "type": "histogram2dcontour",
            "colorbar": {
             "outlinewidth": 0,
             "ticks": ""
            },
            "colorscale": [
             [
              0.0,
              "#0d0887"
             ],
             [
              0.1111111111111111,
              "#46039f"
             ],
             [
              0.2222222222222222,
              "#7201a8"
             ],
             [
              0.3333333333333333,
              "#9c179e"
             ],
             [
              0.4444444444444444,
              "#bd3786"
             ],
             [
              0.5555555555555556,
              "#d8576b"
             ],
             [
              0.6666666666666666,
              "#ed7953"
             ],
             [
              0.7777777777777778,
              "#fb9f3a"
             ],
             [
              0.8888888888888888,
              "#fdca26"
             ],
             [
              1.0,
              "#f0f921"
             ]
            ]
           }
          ],
          "choropleth": [
           {
            "type": "choropleth",
            "colorbar": {
             "outlinewidth": 0,
             "ticks": ""
            }
           }
          ],
          "histogram2d": [
           {
            "type": "histogram2d",
            "colorbar": {
             "outlinewidth": 0,
             "ticks": ""
            },
            "colorscale": [
             [
              0.0,
              "#0d0887"
             ],
             [
              0.1111111111111111,
              "#46039f"
             ],
             [
              0.2222222222222222,
              "#7201a8"
             ],
             [
              0.3333333333333333,
              "#9c179e"
             ],
             [
              0.4444444444444444,
              "#bd3786"
             ],
             [
              0.5555555555555556,
              "#d8576b"
             ],
             [
              0.6666666666666666,
              "#ed7953"
             ],
             [
              0.7777777777777778,
              "#fb9f3a"
             ],
             [
              0.8888888888888888,
              "#fdca26"
             ],
             [
              1.0,
              "#f0f921"
             ]
            ]
           }
          ],
          "heatmap": [
           {
            "type": "heatmap",
            "colorbar": {
             "outlinewidth": 0,
             "ticks": ""
            },
            "colorscale": [
             [
              0.0,
              "#0d0887"
             ],
             [
              0.1111111111111111,
              "#46039f"
             ],
             [
              0.2222222222222222,
              "#7201a8"
             ],
             [
              0.3333333333333333,
              "#9c179e"
             ],
             [
              0.4444444444444444,
              "#bd3786"
             ],
             [
              0.5555555555555556,
              "#d8576b"
             ],
             [
              0.6666666666666666,
              "#ed7953"
             ],
             [
              0.7777777777777778,
              "#fb9f3a"
             ],
             [
              0.8888888888888888,
              "#fdca26"
             ],
             [
              1.0,
              "#f0f921"
             ]
            ]
           }
          ],
          "heatmapgl": [
           {
            "type": "heatmapgl",
            "colorbar": {
             "outlinewidth": 0,
             "ticks": ""
            },
            "colorscale": [
             [
              0.0,
              "#0d0887"
             ],
             [
              0.1111111111111111,
              "#46039f"
             ],
             [
              0.2222222222222222,
              "#7201a8"
             ],
             [
              0.3333333333333333,
              "#9c179e"
             ],
             [
              0.4444444444444444,
              "#bd3786"
             ],
             [
              0.5555555555555556,
              "#d8576b"
             ],
             [
              0.6666666666666666,
              "#ed7953"
             ],
             [
              0.7777777777777778,
              "#fb9f3a"
             ],
             [
              0.8888888888888888,
              "#fdca26"
             ],
             [
              1.0,
              "#f0f921"
             ]
            ]
           }
          ],
          "contourcarpet": [
           {
            "type": "contourcarpet",
            "colorbar": {
             "outlinewidth": 0,
             "ticks": ""
            }
           }
          ],
          "contour": [
           {
            "type": "contour",
            "colorbar": {
             "outlinewidth": 0,
             "ticks": ""
            },
            "colorscale": [
             [
              0.0,
              "#0d0887"
             ],
             [
              0.1111111111111111,
              "#46039f"
             ],
             [
              0.2222222222222222,
              "#7201a8"
             ],
             [
              0.3333333333333333,
              "#9c179e"
             ],
             [
              0.4444444444444444,
              "#bd3786"
             ],
             [
              0.5555555555555556,
              "#d8576b"
             ],
             [
              0.6666666666666666,
              "#ed7953"
             ],
             [
              0.7777777777777778,
              "#fb9f3a"
             ],
             [
              0.8888888888888888,
              "#fdca26"
             ],
             [
              1.0,
              "#f0f921"
             ]
            ]
           }
          ],
          "surface": [
           {
            "type": "surface",
            "colorbar": {
             "outlinewidth": 0,
             "ticks": ""
            },
            "colorscale": [
             [
              0.0,
              "#0d0887"
             ],
             [
              0.1111111111111111,
              "#46039f"
             ],
             [
              0.2222222222222222,
              "#7201a8"
             ],
             [
              0.3333333333333333,
              "#9c179e"
             ],
             [
              0.4444444444444444,
              "#bd3786"
             ],
             [
              0.5555555555555556,
              "#d8576b"
             ],
             [
              0.6666666666666666,
              "#ed7953"
             ],
             [
              0.7777777777777778,
              "#fb9f3a"
             ],
             [
              0.8888888888888888,
              "#fdca26"
             ],
             [
              1.0,
              "#f0f921"
             ]
            ]
           }
          ],
          "mesh3d": [
           {
            "type": "mesh3d",
            "colorbar": {
             "outlinewidth": 0,
             "ticks": ""
            }
           }
          ],
          "scatter": [
           {
            "marker": {
             "line": {
              "color": "#283442"
             }
            },
            "type": "scatter"
           }
          ],
          "parcoords": [
           {
            "type": "parcoords",
            "line": {
             "colorbar": {
              "outlinewidth": 0,
              "ticks": ""
             }
            }
           }
          ],
          "scatterpolargl": [
           {
            "type": "scatterpolargl",
            "marker": {
             "colorbar": {
              "outlinewidth": 0,
              "ticks": ""
             }
            }
           }
          ],
          "bar": [
           {
            "error_x": {
             "color": "#f2f5fa"
            },
            "error_y": {
             "color": "#f2f5fa"
            },
            "marker": {
             "line": {
              "color": "rgb(17,17,17)",
              "width": 0.5
             },
             "pattern": {
              "fillmode": "overlay",
              "size": 10,
              "solidity": 0.2
             }
            },
            "type": "bar"
           }
          ],
          "scattergeo": [
           {
            "type": "scattergeo",
            "marker": {
             "colorbar": {
              "outlinewidth": 0,
              "ticks": ""
             }
            }
           }
          ],
          "scatterpolar": [
           {
            "type": "scatterpolar",
            "marker": {
             "colorbar": {
              "outlinewidth": 0,
              "ticks": ""
             }
            }
           }
          ],
          "histogram": [
           {
            "marker": {
             "pattern": {
              "fillmode": "overlay",
              "size": 10,
              "solidity": 0.2
             }
            },
            "type": "histogram"
           }
          ],
          "scattergl": [
           {
            "marker": {
             "line": {
              "color": "#283442"
             }
            },
            "type": "scattergl"
           }
          ],
          "scatter3d": [
           {
            "type": "scatter3d",
            "line": {
             "colorbar": {
              "outlinewidth": 0,
              "ticks": ""
             }
            },
            "marker": {
             "colorbar": {
              "outlinewidth": 0,
              "ticks": ""
             }
            }
           }
          ],
          "scattermapbox": [
           {
            "type": "scattermapbox",
            "marker": {
             "colorbar": {
              "outlinewidth": 0,
              "ticks": ""
             }
            }
           }
          ],
          "scatterternary": [
           {
            "type": "scatterternary",
            "marker": {
             "colorbar": {
              "outlinewidth": 0,
              "ticks": ""
             }
            }
           }
          ],
          "scattercarpet": [
           {
            "type": "scattercarpet",
            "marker": {
             "colorbar": {
              "outlinewidth": 0,
              "ticks": ""
             }
            }
           }
          ],
          "carpet": [
           {
            "aaxis": {
             "endlinecolor": "#A2B1C6",
             "gridcolor": "#506784",
             "linecolor": "#506784",
             "minorgridcolor": "#506784",
             "startlinecolor": "#A2B1C6"
            },
            "baxis": {
             "endlinecolor": "#A2B1C6",
             "gridcolor": "#506784",
             "linecolor": "#506784",
             "minorgridcolor": "#506784",
             "startlinecolor": "#A2B1C6"
            },
            "type": "carpet"
           }
          ],
          "table": [
           {
            "cells": {
             "fill": {
              "color": "#506784"
             },
             "line": {
              "color": "rgb(17,17,17)"
             }
            },
            "header": {
             "fill": {
              "color": "#2a3f5f"
             },
             "line": {
              "color": "rgb(17,17,17)"
             }
            },
            "type": "table"
           }
          ],
          "barpolar": [
           {
            "marker": {
             "line": {
              "color": "rgb(17,17,17)",
              "width": 0.5
             },
             "pattern": {
              "fillmode": "overlay",
              "size": 10,
              "solidity": 0.2
             }
            },
            "type": "barpolar"
           }
          ],
          "pie": [
           {
            "automargin": true,
            "type": "pie"
           }
          ]
         },
         "layout": {
          "autotypenumbers": "strict",
          "colorway": [
           "#636efa",
           "#EF553B",
           "#00cc96",
           "#ab63fa",
           "#FFA15A",
           "#19d3f3",
           "#FF6692",
           "#B6E880",
           "#FF97FF",
           "#FECB52"
          ],
          "font": {
           "color": "#f2f5fa"
          },
          "hovermode": "closest",
          "hoverlabel": {
           "align": "left"
          },
          "paper_bgcolor": "rgb(17,17,17)",
          "plot_bgcolor": "rgb(17,17,17)",
          "polar": {
           "bgcolor": "rgb(17,17,17)",
           "angularaxis": {
            "gridcolor": "#506784",
            "linecolor": "#506784",
            "ticks": ""
           },
           "radialaxis": {
            "gridcolor": "#506784",
            "linecolor": "#506784",
            "ticks": ""
           }
          },
          "ternary": {
           "bgcolor": "rgb(17,17,17)",
           "aaxis": {
            "gridcolor": "#506784",
            "linecolor": "#506784",
            "ticks": ""
           },
           "baxis": {
            "gridcolor": "#506784",
            "linecolor": "#506784",
            "ticks": ""
           },
           "caxis": {
            "gridcolor": "#506784",
            "linecolor": "#506784",
            "ticks": ""
           }
          },
          "coloraxis": {
           "colorbar": {
            "outlinewidth": 0,
            "ticks": ""
           }
          },
          "colorscale": {
           "sequential": [
            [
             0.0,
             "#0d0887"
            ],
            [
             0.1111111111111111,
             "#46039f"
            ],
            [
             0.2222222222222222,
             "#7201a8"
            ],
            [
             0.3333333333333333,
             "#9c179e"
            ],
            [
             0.4444444444444444,
             "#bd3786"
            ],
            [
             0.5555555555555556,
             "#d8576b"
            ],
            [
             0.6666666666666666,
             "#ed7953"
            ],
            [
             0.7777777777777778,
             "#fb9f3a"
            ],
            [
             0.8888888888888888,
             "#fdca26"
            ],
            [
             1.0,
             "#f0f921"
            ]
           ],
           "sequentialminus": [
            [
             0.0,
             "#0d0887"
            ],
            [
             0.1111111111111111,
             "#46039f"
            ],
            [
             0.2222222222222222,
             "#7201a8"
            ],
            [
             0.3333333333333333,
             "#9c179e"
            ],
            [
             0.4444444444444444,
             "#bd3786"
            ],
            [
             0.5555555555555556,
             "#d8576b"
            ],
            [
             0.6666666666666666,
             "#ed7953"
            ],
            [
             0.7777777777777778,
             "#fb9f3a"
            ],
            [
             0.8888888888888888,
             "#fdca26"
            ],
            [
             1.0,
             "#f0f921"
            ]
           ],
           "diverging": [
            [
             0,
             "#8e0152"
            ],
            [
             0.1,
             "#c51b7d"
            ],
            [
             0.2,
             "#de77ae"
            ],
            [
             0.3,
             "#f1b6da"
            ],
            [
             0.4,
             "#fde0ef"
            ],
            [
             0.5,
             "#f7f7f7"
            ],
            [
             0.6,
             "#e6f5d0"
            ],
            [
             0.7,
             "#b8e186"
            ],
            [
             0.8,
             "#7fbc41"
            ],
            [
             0.9,
             "#4d9221"
            ],
            [
             1,
             "#276419"
            ]
           ]
          },
          "xaxis": {
           "gridcolor": "#283442",
           "linecolor": "#506784",
           "ticks": "",
           "title": {
            "standoff": 15
           },
           "zerolinecolor": "#283442",
           "automargin": true,
           "zerolinewidth": 2
          },
          "yaxis": {
           "gridcolor": "#283442",
           "linecolor": "#506784",
           "ticks": "",
           "title": {
            "standoff": 15
           },
           "zerolinecolor": "#283442",
           "automargin": true,
           "zerolinewidth": 2
          },
          "scene": {
           "xaxis": {
            "backgroundcolor": "rgb(17,17,17)",
            "gridcolor": "#506784",
            "linecolor": "#506784",
            "showbackground": true,
            "ticks": "",
            "zerolinecolor": "#C8D4E3",
            "gridwidth": 2
           },
           "yaxis": {
            "backgroundcolor": "rgb(17,17,17)",
            "gridcolor": "#506784",
            "linecolor": "#506784",
            "showbackground": true,
            "ticks": "",
            "zerolinecolor": "#C8D4E3",
            "gridwidth": 2
           },
           "zaxis": {
            "backgroundcolor": "rgb(17,17,17)",
            "gridcolor": "#506784",
            "linecolor": "#506784",
            "showbackground": true,
            "ticks": "",
            "zerolinecolor": "#C8D4E3",
            "gridwidth": 2
           }
          },
          "shapedefaults": {
           "line": {
            "color": "#f2f5fa"
           }
          },
          "annotationdefaults": {
           "arrowcolor": "#f2f5fa",
           "arrowhead": 0,
           "arrowwidth": 1
          },
          "geo": {
           "bgcolor": "rgb(17,17,17)",
           "landcolor": "rgb(17,17,17)",
           "subunitcolor": "#506784",
           "showland": true,
           "showlakes": true,
           "lakecolor": "rgb(17,17,17)"
          },
          "title": {
           "x": 0.05
          },
          "updatemenudefaults": {
           "bgcolor": "#506784",
           "borderwidth": 0
          },
          "sliderdefaults": {
           "bgcolor": "#C8D4E3",
           "borderwidth": 1,
           "bordercolor": "rgb(17,17,17)",
           "tickwidth": 0
          },
          "mapbox": {
           "style": "dark"
          }
         }
        },
        "width": 1200,
        "height": 800,
        "annotations": [
         {
          "font": {
           "color": "red",
           "size": 14
          },
          "showarrow": false,
          "text": "red is drill 3-1-1",
          "x": 0.92,
          "xref": "paper",
          "y": 0.98,
          "yref": "paper"
         },
         {
          "font": {
           "color": "blue",
           "size": 14
          },
          "showarrow": false,
          "text": "blue is drill 4-1-1",
          "x": 0.92,
          "xref": "paper",
          "y": 0.92,
          "yref": "paper"
         },
         {
          "font": {
           "color": "pink",
           "size": 14
          },
          "showarrow": false,
          "text": "pink is drill 4-1-2",
          "x": 0.92,
          "xref": "paper",
          "y": 0.86,
          "yref": "paper"
         },
         {
          "font": {
           "color": "yellow",
           "size": 14
          },
          "showarrow": false,
          "text": "Yellow is drill 4-2-3",
          "x": 0.92,
          "xref": "paper",
          "y": 0.8,
          "yref": "paper"
         }
        ],
        "shapes": [
         {
          "line": {
           "color": "black",
           "dash": "dash"
          },
          "type": "line",
          "x0": -1,
          "x1": 40,
          "y0": 1,
          "y1": 1
         }
        ],
        "legend": {
         "x": 0,
         "y": -0.2,
         "orientation": "h",
         "traceorder": "normal"
        },
        "title": {
         "text": "colors based on drill Ratio O2/CO2"
        },
        "xaxis": {
         "title": {
          "text": "Day"
         }
        },
        "yaxis": {
         "title": {
          "text": "Ratio O2/CO2"
         },
         "range": [
          -0.5,
          2
         ]
        },
        "showlegend": true,
        "plot_bgcolor": "grey"
       },
       "config": {
        "plotlyServerURL": "https://plot.ly"
       }
      },
      "text/html": "<div>                            <div id=\"d07ded82-3295-451d-868d-6557023bf25a\" class=\"plotly-graph-div\" style=\"height:800px; width:1200px;\"></div>            <script type=\"text/javascript\">                require([\"plotly\"], function(Plotly) {                    window.PLOTLYENV=window.PLOTLYENV || {};                                    if (document.getElementById(\"d07ded82-3295-451d-868d-6557023bf25a\")) {                    Plotly.newPlot(                        \"d07ded82-3295-451d-868d-6557023bf25a\",                        [{\"marker\":{\"color\":\"red\"},\"mode\":\"markers\",\"name\":\"GT1.1 Data Points\",\"x\":[0.0,2.0,6.8180555555555555,8.756944444444445,10.79375,13.963888888888889,16.780555555555555,20.74861111111111,22.786805555555556,24.76875,27.783333333333335,29.756944444444443,34.97847222222222],\"y\":[0.0,6.808472762858926,0.34840115566367996,3.7095378263987686,1.4112591268049521,0.2714472250893865,1.0105185898038616,0.9998626567243883,0.9221770539090672,0.954334366501155,0.9676433296682654,0.8614288031856469,0.7935073739764299],\"type\":\"scatter\"},{\"marker\":{\"color\":\"red\"},\"mode\":\"markers\",\"name\":\"GT1.2 Data Points\",\"x\":[0.0,1.9902777777777778,6.805555555555555,8.745138888888889,10.78125,13.95138888888889,16.783333333333335,20.73611111111111,22.773611111111112,24.755555555555556,27.784027777777776,29.744444444444444,34.96597222222222],\"y\":[0.0,22.89847319532358,0.40696119473609976,6.110395353886036,1.7584083852338062,0.026026060261634808,1.150330560851035,1.1005835791248062,1.037406628331805,1.1116367535782528,1.1132284571081912,0.967337776962666,1.0452241367312187],\"type\":\"scatter\"},{\"marker\":{\"color\":\"red\"},\"mode\":\"markers\",\"name\":\"GT2.1 Data Points\",\"x\":[0.0,1.9909722222222221,6.805555555555555,8.744444444444444,10.738888888888889,13.950694444444444,16.781944444444445,20.74375,22.772916666666667,24.754166666666666,27.783333333333335,29.743055555555557,34.96527777777778],\"y\":[0.0,20.38491988127941,0.22864667432414756,4.731009380605716,1.692564303782729,-0.1029663706959156,1.2993158794698767,1.1809903305963307,1.107216998958056,1.1260921909498696,1.0642925206009872,0.9978321485450524,0.9994234539161415],\"type\":\"scatter\"},{\"marker\":{\"color\":\"red\"},\"mode\":\"markers\",\"name\":\"GT2.2 Data Points\",\"x\":[0.0,1.992361111111111,6.811805555555556,8.744444444444444,10.780555555555555,13.95,16.781944444444445,20.74375,22.775,24.754166666666666,27.77638888888889,29.744444444444444,34.96458333333333],\"y\":[0.0,7.8594155797103,2.384327878807881,5.446675955497311,2.660743726587427,1.9587165391505985,2.0796001181576633,1.7488377503275792,2.1851037401543976,1.6598989885491615,1.5844294755190147,1.4544101106962504,1.305233017337235],\"type\":\"scatter\"},{\"marker\":{\"color\":\"red\"},\"mode\":\"markers\",\"name\":\"GT3.1 Data Points\",\"x\":[0.0,2.0118055555555556,6.8125,8.745138888888889,10.78125,13.950694444444444,16.781944444444445,20.74375,22.775694444444444,24.75486111111111,27.78263888888889,29.744444444444444,34.96527777777778],\"y\":[0.0,2.5260282110272962,1.4558829199213434,1.2883518604048243,1.5313563951760791,2.0816196367882362,1.5844032384912206,1.4298582345740272,1.3588008522706767,1.9301700239352706,1.2615554791955568,1.2988208118418085,1.0680094910508904],\"type\":\"scatter\"},{\"marker\":{\"color\":\"red\"},\"mode\":\"markers\",\"name\":\"GT3.2 Data Points\",\"x\":[0.0,2.0131944444444443,6.813194444444444,8.746527777777779,10.783333333333333,13.95138888888889,16.783333333333335,20.744444444444444,22.77638888888889,24.755555555555556,27.783333333333335,29.74513888888889,34.96597222222222],\"y\":[0.0,3.433708189922514,1.4678887260435307,1.209254210674993,1.3416341980331754,1.899908039065621,1.314105679132232,1.2611193560309046,1.2377717198094518,1.0606892909877037,0.9306092058223366,0.8315292399524445,0.6993949001782607],\"type\":\"scatter\"},{\"marker\":{\"color\":\"blue\"},\"mode\":\"markers\",\"name\":\"GT4.1 Data Points\",\"x\":[0.0,1.0222222222222221,5.81875,7.753472222222222,9.784722222222221,12.952777777777778,15.784027777777778,19.747916666666665,21.777083333333334,23.756944444444443,26.78472222222222,28.747916666666665,33.96944444444444],\"y\":[0.0,0.580965484419541,0.6744646979305956,0.5447546405307194,0.6286583015975615,1.3772204999360003,0.8534204011794337,0.9527128977185305,0.660807784270266,0.6775613040391854,0.8172250122253372,0.7008612927891004,0.9810564699656271],\"type\":\"scatter\"},{\"marker\":{\"color\":\"blue\"},\"mode\":\"markers\",\"name\":\"GT4.2 Data Points\",\"x\":[0.0,1.0243055555555556,5.820138888888889,7.754166666666666,9.785416666666666,12.954166666666667,15.78888888888889,19.75347222222222,21.779166666666665,23.758333333333333,26.78611111111111,28.74861111111111,33.96875],\"y\":[0.0,0.4585293283639102,0.636543900840892,0.4861431656096529,0.6082935134395878,1.435636125247763,0.8437391120552973,0.9381119596316765,0.6460195431459286,0.6513272764393976,0.7633265427233826,0.6293855919645694,0.9850393901029878],\"type\":\"scatter\"},{\"marker\":{\"color\":\"pink\"},\"mode\":\"markers\",\"name\":\"GT5.1 Data Points\",\"x\":[0.0,2.0131944444444443,6.820138888888889,8.754166666666666,10.789583333333333,13.95625,16.7875,20.752083333333335,22.779166666666665,24.757638888888888,27.785416666666666,29.749305555555555,34.97152777777778],\"y\":[0.0,1.309273609148227,1.1815248889223184,0.7946842419143831,1.371218972269844,0.730947282482725,0.9674642529261732,0.7534870296970948,1.6734213810177063,1.07913243853115,0.6101571497135408,0.9556988746642966,0.8979213108083269],\"type\":\"scatter\"},{\"marker\":{\"color\":\"pink\"},\"mode\":\"markers\",\"name\":\"GT5.2 Data Points\",\"x\":[0.0,2.0145833333333334,6.821527777777778,8.755555555555556,10.790277777777778,13.956944444444444,16.788888888888888,20.752083333333335,22.78263888888889,24.763194444444444,27.790277777777778,29.75,34.97291666666667],\"y\":[0.0,0.7523715068496655,1.0056929061535669,0.7060499946460862,1.2689198886080522,1.5162903633771612,1.1429889789061944,0.7455531393097219,1.107024026702497,0.5601783416567944,0.909658079308093,0.5027106505904176,0.7596002095659763],\"type\":\"scatter\"},{\"marker\":{\"color\":\"yellow\"},\"mode\":\"markers\",\"name\":\"GT6.1 Data Points\",\"x\":[0.0,1.0229166666666667,5.823611111111111,7.760416666666667,9.790972222222223,12.957638888888889,15.789583333333333,19.752777777777776,21.783333333333335,23.76388888888889,26.790277777777778,28.749305555555555,33.97222222222222],\"y\":[0.0,2.9804011758696087,1.0080996423748136,1.0512323663272138,0.9617866174120221,0.8550250988030996,0.9372038607560987,0.903653634632886,0.8271695280920803,0.9255260359717551,0.9374670945154767,0.9042091045526714,0.9160414722437886],\"type\":\"scatter\"},{\"marker\":{\"color\":\"yellow\"},\"mode\":\"markers\",\"name\":\"GT6.2 Data Points\",\"x\":[0.0,1.0256944444444445,5.825,7.761805555555555,9.79375,12.959722222222222,15.790972222222223,19.75486111111111,21.788888888888888,23.76527777777778,26.791666666666668,28.75625,33.975],\"y\":[0.0,1.727631969959554,1.0744281775647075,0.9320165307676811,0.9287714169572229,0.9060123523509639,0.8712491678866061,0.8165578142771522,0.7781750109215961,0.7667698299472172,0.781712803730641,0.7428073576269206,0.7567006096338791],\"type\":\"scatter\"},{\"marker\":{\"color\":\"yellow\"},\"mode\":\"markers\",\"name\":\"GT7.1 Data Points\",\"x\":[0.0,2.0145833333333334,6.854166666666667,8.763194444444444,10.79513888888889,13.960416666666667,16.792361111111113,20.75625,22.789583333333333,24.766666666666666,27.793055555555554,29.75625,34.97847222222222],\"y\":[0.0,5.647937510372514,2.1096326136663066,2.6147193452989343,2.0920778599455185,0.09194014963495736,0.8742612794433777,0.9111170728841803,0.8240733057379119,0.9109603777525446,1.2409743995046183,0.8645984606796376,1.1863942975766282],\"type\":\"scatter\"},{\"marker\":{\"color\":\"yellow\"},\"mode\":\"markers\",\"name\":\"GT7.2 Data Points\",\"x\":[0.0,1.0256944444444445,5.854166666666667,7.763888888888889,9.79513888888889,12.963888888888889,15.795833333333333,19.75625,21.790277777777778,23.76597222222222,26.79375,28.760416666666668,33.97847222222222],\"y\":[0.0,1.7766435295137308,1.6938993309024595,1.2369457542780933,1.4611373175343187,1.049559676940686,0.8650713360261314,0.7902874299796531,0.7961967158443943,0.8019972693165281,0.9002411648327482,0.843852006329354,0.9120732536612488],\"type\":\"scatter\"},{\"marker\":{\"color\":\"yellow\"},\"mode\":\"markers\",\"name\":\"GT8.1 Data Points\",\"x\":[0.0,1.0277777777777777,5.855555555555555,7.7652777777777775,12.965277777777779,15.797222222222222,19.761805555555554,21.790972222222223,23.76736111111111,26.79513888888889,28.761805555555554,33.97986111111111],\"y\":[0.0,1.0028818010363378,1.0547085591979055,0.7019514134968873,0.8617099017471216,0.7860017376673648,0.8643006357535422,0.6749651810860126,0.8540934807073022,1.309482851656251,0.6834101628638456,0.8636561321314838],\"type\":\"scatter\"},{\"marker\":{\"color\":\"yellow\"},\"mode\":\"markers\",\"name\":\"GT8.2 Data Points\",\"x\":[0.0,1.0284722222222222,5.855555555555555,7.7652777777777775,12.965277777777779,15.797222222222222,19.761111111111113,21.791666666666668,23.768055555555556,26.79513888888889,28.76597222222222,33.980555555555554],\"y\":[0.0,1.320309714654801,0.9939737177751539,0.7084983264564969,0.8485678483150267,0.8152548998959305,0.9105972689121355,0.73613829634247,0.9345139013393025,1.2147266698227486,0.7027019537910687,1.1508778716972914],\"type\":\"scatter\"}],                        {\"template\":{\"data\":{\"histogram2dcontour\":[{\"type\":\"histogram2dcontour\",\"colorbar\":{\"outlinewidth\":0,\"ticks\":\"\"},\"colorscale\":[[0.0,\"#0d0887\"],[0.1111111111111111,\"#46039f\"],[0.2222222222222222,\"#7201a8\"],[0.3333333333333333,\"#9c179e\"],[0.4444444444444444,\"#bd3786\"],[0.5555555555555556,\"#d8576b\"],[0.6666666666666666,\"#ed7953\"],[0.7777777777777778,\"#fb9f3a\"],[0.8888888888888888,\"#fdca26\"],[1.0,\"#f0f921\"]]}],\"choropleth\":[{\"type\":\"choropleth\",\"colorbar\":{\"outlinewidth\":0,\"ticks\":\"\"}}],\"histogram2d\":[{\"type\":\"histogram2d\",\"colorbar\":{\"outlinewidth\":0,\"ticks\":\"\"},\"colorscale\":[[0.0,\"#0d0887\"],[0.1111111111111111,\"#46039f\"],[0.2222222222222222,\"#7201a8\"],[0.3333333333333333,\"#9c179e\"],[0.4444444444444444,\"#bd3786\"],[0.5555555555555556,\"#d8576b\"],[0.6666666666666666,\"#ed7953\"],[0.7777777777777778,\"#fb9f3a\"],[0.8888888888888888,\"#fdca26\"],[1.0,\"#f0f921\"]]}],\"heatmap\":[{\"type\":\"heatmap\",\"colorbar\":{\"outlinewidth\":0,\"ticks\":\"\"},\"colorscale\":[[0.0,\"#0d0887\"],[0.1111111111111111,\"#46039f\"],[0.2222222222222222,\"#7201a8\"],[0.3333333333333333,\"#9c179e\"],[0.4444444444444444,\"#bd3786\"],[0.5555555555555556,\"#d8576b\"],[0.6666666666666666,\"#ed7953\"],[0.7777777777777778,\"#fb9f3a\"],[0.8888888888888888,\"#fdca26\"],[1.0,\"#f0f921\"]]}],\"heatmapgl\":[{\"type\":\"heatmapgl\",\"colorbar\":{\"outlinewidth\":0,\"ticks\":\"\"},\"colorscale\":[[0.0,\"#0d0887\"],[0.1111111111111111,\"#46039f\"],[0.2222222222222222,\"#7201a8\"],[0.3333333333333333,\"#9c179e\"],[0.4444444444444444,\"#bd3786\"],[0.5555555555555556,\"#d8576b\"],[0.6666666666666666,\"#ed7953\"],[0.7777777777777778,\"#fb9f3a\"],[0.8888888888888888,\"#fdca26\"],[1.0,\"#f0f921\"]]}],\"contourcarpet\":[{\"type\":\"contourcarpet\",\"colorbar\":{\"outlinewidth\":0,\"ticks\":\"\"}}],\"contour\":[{\"type\":\"contour\",\"colorbar\":{\"outlinewidth\":0,\"ticks\":\"\"},\"colorscale\":[[0.0,\"#0d0887\"],[0.1111111111111111,\"#46039f\"],[0.2222222222222222,\"#7201a8\"],[0.3333333333333333,\"#9c179e\"],[0.4444444444444444,\"#bd3786\"],[0.5555555555555556,\"#d8576b\"],[0.6666666666666666,\"#ed7953\"],[0.7777777777777778,\"#fb9f3a\"],[0.8888888888888888,\"#fdca26\"],[1.0,\"#f0f921\"]]}],\"surface\":[{\"type\":\"surface\",\"colorbar\":{\"outlinewidth\":0,\"ticks\":\"\"},\"colorscale\":[[0.0,\"#0d0887\"],[0.1111111111111111,\"#46039f\"],[0.2222222222222222,\"#7201a8\"],[0.3333333333333333,\"#9c179e\"],[0.4444444444444444,\"#bd3786\"],[0.5555555555555556,\"#d8576b\"],[0.6666666666666666,\"#ed7953\"],[0.7777777777777778,\"#fb9f3a\"],[0.8888888888888888,\"#fdca26\"],[1.0,\"#f0f921\"]]}],\"mesh3d\":[{\"type\":\"mesh3d\",\"colorbar\":{\"outlinewidth\":0,\"ticks\":\"\"}}],\"scatter\":[{\"marker\":{\"line\":{\"color\":\"#283442\"}},\"type\":\"scatter\"}],\"parcoords\":[{\"type\":\"parcoords\",\"line\":{\"colorbar\":{\"outlinewidth\":0,\"ticks\":\"\"}}}],\"scatterpolargl\":[{\"type\":\"scatterpolargl\",\"marker\":{\"colorbar\":{\"outlinewidth\":0,\"ticks\":\"\"}}}],\"bar\":[{\"error_x\":{\"color\":\"#f2f5fa\"},\"error_y\":{\"color\":\"#f2f5fa\"},\"marker\":{\"line\":{\"color\":\"rgb(17,17,17)\",\"width\":0.5},\"pattern\":{\"fillmode\":\"overlay\",\"size\":10,\"solidity\":0.2}},\"type\":\"bar\"}],\"scattergeo\":[{\"type\":\"scattergeo\",\"marker\":{\"colorbar\":{\"outlinewidth\":0,\"ticks\":\"\"}}}],\"scatterpolar\":[{\"type\":\"scatterpolar\",\"marker\":{\"colorbar\":{\"outlinewidth\":0,\"ticks\":\"\"}}}],\"histogram\":[{\"marker\":{\"pattern\":{\"fillmode\":\"overlay\",\"size\":10,\"solidity\":0.2}},\"type\":\"histogram\"}],\"scattergl\":[{\"marker\":{\"line\":{\"color\":\"#283442\"}},\"type\":\"scattergl\"}],\"scatter3d\":[{\"type\":\"scatter3d\",\"line\":{\"colorbar\":{\"outlinewidth\":0,\"ticks\":\"\"}},\"marker\":{\"colorbar\":{\"outlinewidth\":0,\"ticks\":\"\"}}}],\"scattermapbox\":[{\"type\":\"scattermapbox\",\"marker\":{\"colorbar\":{\"outlinewidth\":0,\"ticks\":\"\"}}}],\"scatterternary\":[{\"type\":\"scatterternary\",\"marker\":{\"colorbar\":{\"outlinewidth\":0,\"ticks\":\"\"}}}],\"scattercarpet\":[{\"type\":\"scattercarpet\",\"marker\":{\"colorbar\":{\"outlinewidth\":0,\"ticks\":\"\"}}}],\"carpet\":[{\"aaxis\":{\"endlinecolor\":\"#A2B1C6\",\"gridcolor\":\"#506784\",\"linecolor\":\"#506784\",\"minorgridcolor\":\"#506784\",\"startlinecolor\":\"#A2B1C6\"},\"baxis\":{\"endlinecolor\":\"#A2B1C6\",\"gridcolor\":\"#506784\",\"linecolor\":\"#506784\",\"minorgridcolor\":\"#506784\",\"startlinecolor\":\"#A2B1C6\"},\"type\":\"carpet\"}],\"table\":[{\"cells\":{\"fill\":{\"color\":\"#506784\"},\"line\":{\"color\":\"rgb(17,17,17)\"}},\"header\":{\"fill\":{\"color\":\"#2a3f5f\"},\"line\":{\"color\":\"rgb(17,17,17)\"}},\"type\":\"table\"}],\"barpolar\":[{\"marker\":{\"line\":{\"color\":\"rgb(17,17,17)\",\"width\":0.5},\"pattern\":{\"fillmode\":\"overlay\",\"size\":10,\"solidity\":0.2}},\"type\":\"barpolar\"}],\"pie\":[{\"automargin\":true,\"type\":\"pie\"}]},\"layout\":{\"autotypenumbers\":\"strict\",\"colorway\":[\"#636efa\",\"#EF553B\",\"#00cc96\",\"#ab63fa\",\"#FFA15A\",\"#19d3f3\",\"#FF6692\",\"#B6E880\",\"#FF97FF\",\"#FECB52\"],\"font\":{\"color\":\"#f2f5fa\"},\"hovermode\":\"closest\",\"hoverlabel\":{\"align\":\"left\"},\"paper_bgcolor\":\"rgb(17,17,17)\",\"plot_bgcolor\":\"rgb(17,17,17)\",\"polar\":{\"bgcolor\":\"rgb(17,17,17)\",\"angularaxis\":{\"gridcolor\":\"#506784\",\"linecolor\":\"#506784\",\"ticks\":\"\"},\"radialaxis\":{\"gridcolor\":\"#506784\",\"linecolor\":\"#506784\",\"ticks\":\"\"}},\"ternary\":{\"bgcolor\":\"rgb(17,17,17)\",\"aaxis\":{\"gridcolor\":\"#506784\",\"linecolor\":\"#506784\",\"ticks\":\"\"},\"baxis\":{\"gridcolor\":\"#506784\",\"linecolor\":\"#506784\",\"ticks\":\"\"},\"caxis\":{\"gridcolor\":\"#506784\",\"linecolor\":\"#506784\",\"ticks\":\"\"}},\"coloraxis\":{\"colorbar\":{\"outlinewidth\":0,\"ticks\":\"\"}},\"colorscale\":{\"sequential\":[[0.0,\"#0d0887\"],[0.1111111111111111,\"#46039f\"],[0.2222222222222222,\"#7201a8\"],[0.3333333333333333,\"#9c179e\"],[0.4444444444444444,\"#bd3786\"],[0.5555555555555556,\"#d8576b\"],[0.6666666666666666,\"#ed7953\"],[0.7777777777777778,\"#fb9f3a\"],[0.8888888888888888,\"#fdca26\"],[1.0,\"#f0f921\"]],\"sequentialminus\":[[0.0,\"#0d0887\"],[0.1111111111111111,\"#46039f\"],[0.2222222222222222,\"#7201a8\"],[0.3333333333333333,\"#9c179e\"],[0.4444444444444444,\"#bd3786\"],[0.5555555555555556,\"#d8576b\"],[0.6666666666666666,\"#ed7953\"],[0.7777777777777778,\"#fb9f3a\"],[0.8888888888888888,\"#fdca26\"],[1.0,\"#f0f921\"]],\"diverging\":[[0,\"#8e0152\"],[0.1,\"#c51b7d\"],[0.2,\"#de77ae\"],[0.3,\"#f1b6da\"],[0.4,\"#fde0ef\"],[0.5,\"#f7f7f7\"],[0.6,\"#e6f5d0\"],[0.7,\"#b8e186\"],[0.8,\"#7fbc41\"],[0.9,\"#4d9221\"],[1,\"#276419\"]]},\"xaxis\":{\"gridcolor\":\"#283442\",\"linecolor\":\"#506784\",\"ticks\":\"\",\"title\":{\"standoff\":15},\"zerolinecolor\":\"#283442\",\"automargin\":true,\"zerolinewidth\":2},\"yaxis\":{\"gridcolor\":\"#283442\",\"linecolor\":\"#506784\",\"ticks\":\"\",\"title\":{\"standoff\":15},\"zerolinecolor\":\"#283442\",\"automargin\":true,\"zerolinewidth\":2},\"scene\":{\"xaxis\":{\"backgroundcolor\":\"rgb(17,17,17)\",\"gridcolor\":\"#506784\",\"linecolor\":\"#506784\",\"showbackground\":true,\"ticks\":\"\",\"zerolinecolor\":\"#C8D4E3\",\"gridwidth\":2},\"yaxis\":{\"backgroundcolor\":\"rgb(17,17,17)\",\"gridcolor\":\"#506784\",\"linecolor\":\"#506784\",\"showbackground\":true,\"ticks\":\"\",\"zerolinecolor\":\"#C8D4E3\",\"gridwidth\":2},\"zaxis\":{\"backgroundcolor\":\"rgb(17,17,17)\",\"gridcolor\":\"#506784\",\"linecolor\":\"#506784\",\"showbackground\":true,\"ticks\":\"\",\"zerolinecolor\":\"#C8D4E3\",\"gridwidth\":2}},\"shapedefaults\":{\"line\":{\"color\":\"#f2f5fa\"}},\"annotationdefaults\":{\"arrowcolor\":\"#f2f5fa\",\"arrowhead\":0,\"arrowwidth\":1},\"geo\":{\"bgcolor\":\"rgb(17,17,17)\",\"landcolor\":\"rgb(17,17,17)\",\"subunitcolor\":\"#506784\",\"showland\":true,\"showlakes\":true,\"lakecolor\":\"rgb(17,17,17)\"},\"title\":{\"x\":0.05},\"updatemenudefaults\":{\"bgcolor\":\"#506784\",\"borderwidth\":0},\"sliderdefaults\":{\"bgcolor\":\"#C8D4E3\",\"borderwidth\":1,\"bordercolor\":\"rgb(17,17,17)\",\"tickwidth\":0},\"mapbox\":{\"style\":\"dark\"}}},\"width\":1200,\"height\":800,\"annotations\":[{\"font\":{\"color\":\"red\",\"size\":14},\"showarrow\":false,\"text\":\"red is drill 3-1-1\",\"x\":0.92,\"xref\":\"paper\",\"y\":0.98,\"yref\":\"paper\"},{\"font\":{\"color\":\"blue\",\"size\":14},\"showarrow\":false,\"text\":\"blue is drill 4-1-1\",\"x\":0.92,\"xref\":\"paper\",\"y\":0.92,\"yref\":\"paper\"},{\"font\":{\"color\":\"pink\",\"size\":14},\"showarrow\":false,\"text\":\"pink is drill 4-1-2\",\"x\":0.92,\"xref\":\"paper\",\"y\":0.86,\"yref\":\"paper\"},{\"font\":{\"color\":\"yellow\",\"size\":14},\"showarrow\":false,\"text\":\"Yellow is drill 4-2-3\",\"x\":0.92,\"xref\":\"paper\",\"y\":0.8,\"yref\":\"paper\"}],\"shapes\":[{\"line\":{\"color\":\"black\",\"dash\":\"dash\"},\"type\":\"line\",\"x0\":-1,\"x1\":40,\"y0\":1,\"y1\":1}],\"legend\":{\"x\":0,\"y\":-0.2,\"orientation\":\"h\",\"traceorder\":\"normal\"},\"title\":{\"text\":\"colors based on drill Ratio O2/CO2\"},\"xaxis\":{\"title\":{\"text\":\"Day\"}},\"yaxis\":{\"title\":{\"text\":\"Ratio O2/CO2\"},\"range\":[-0.5,2]},\"showlegend\":true,\"plot_bgcolor\":\"grey\"},                        {\"responsive\": true}                    ).then(function(){\n                            \nvar gd = document.getElementById('d07ded82-3295-451d-868d-6557023bf25a');\nvar x = new MutationObserver(function (mutations, observer) {{\n        var display = window.getComputedStyle(gd).display;\n        if (!display || display === 'none') {{\n            console.log([gd, 'removed!']);\n            Plotly.purge(gd);\n            observer.disconnect();\n        }}\n}});\n\n// Listen for the removal of the full notebook cells\nvar notebookContainer = gd.closest('#notebook-container');\nif (notebookContainer) {{\n    x.observe(notebookContainer, {childList: true});\n}}\n\n// Listen for the clearing of the current output cell\nvar outputEl = gd.closest('.output');\nif (outputEl) {{\n    x.observe(outputEl, {childList: true});\n}}\n\n                        })                };                });            </script>        </div>"
     },
     "metadata": {},
     "output_type": "display_data"
    }
   ],
   "source": [
    "# sample_list_drilling_3_1_1 = [\"GT1.1\", \"GT1.2\", \"GT2.1\", \"GT2.2\", \"GT3.1\", \"GT3.2\"]\n",
    "# sample_list_drilling_4_1_1 = [\"GT4.1\", \"GT4.2\"]\n",
    "# sample_list_drilling_4_1_2 = [\"GT5.1\", \"GT5.2\"]\n",
    "# sample_list_drilling_4_2_3 = [\"GT6.1\", \"GT6.2\", \"GT7.1\", \"GT7.2\", \"GT8.1\", \"GT8.2\"]\n",
    "\n",
    "import plotly.graph_objects as go\n",
    "\n",
    "# Define the line styles\n",
    "line_styles = ['solid', 'dash', 'dot', 'dashdot', 'longdash', 'longdashdot', 'dot', 'dash']\n",
    "\n",
    "# Create the figure\n",
    "fig = go.Figure()\n",
    "\n",
    "# Modify the layout with the desired figure size\n",
    "fig.update_layout(\n",
    "    width=15*80,  # 80 pixels per unit width\n",
    "    height=10*80,  # 80 pixels per unit height\n",
    ")\n",
    "\n",
    "\n",
    "# Iterate over sample_list_drilling_3_1_1\n",
    "for i, sheet_name in enumerate(sample_list_drilling_3_1_1):\n",
    "    df = dict_data_frames[sheet_name]\n",
    "\n",
    "    # Drop the rows where 'CumulativeColumn' is NaN\n",
    "    df_dropped = df.dropna(subset=['Ratio O2/CO2'])\n",
    "\n",
    "    # Add the line trace\n",
    "    # fig.add_trace(go.Scatter(\n",
    "    #     x=df_dropped['Day'],\n",
    "    #     y=df_dropped['Ratio O2/CO2'],\n",
    "    #     mode='lines',\n",
    "    #     name=sheet_name,\n",
    "    #     line=dict(color='red', dash=line_styles[i])\n",
    "    # ))\n",
    "\n",
    "    # Add the scatter trace\n",
    "    fig.add_trace(go.Scatter(\n",
    "        x=df_dropped['Day'],\n",
    "        y=df_dropped['Ratio O2/CO2'],\n",
    "        mode='markers',\n",
    "        name=f'{sheet_name} Data Points',\n",
    "        marker=dict(color='red')\n",
    "    ))\n",
    "\n",
    "# Iterate over sample_list_drilling_4_1_1\n",
    "for i, sheet_name in enumerate(sample_list_drilling_4_1_1):\n",
    "    df = dict_data_frames[sheet_name]\n",
    "\n",
    "    # Drop the rows where 'CumulativeColumn' is NaN\n",
    "    df_dropped = df.dropna(subset=['Ratio O2/CO2'])\n",
    "\n",
    "    # Add the line trace\n",
    "    # fig.add_trace(go.Scatter(\n",
    "    #     x=df_dropped['Day'],\n",
    "    #     y=df_dropped['Ratio O2/CO2'],\n",
    "    #     mode='lines',\n",
    "    #     name=sheet_name,\n",
    "    #     line=dict(color='blue', dash=line_styles[i])\n",
    "    # ))\n",
    "\n",
    "    # Add the scatter trace\n",
    "    fig.add_trace(go.Scatter(\n",
    "        x=df_dropped['Day'],\n",
    "        y=df_dropped['Ratio O2/CO2'],\n",
    "        mode='markers',\n",
    "        name=f'{sheet_name} Data Points',\n",
    "        marker=dict(color='blue')\n",
    "    ))\n",
    "\n",
    "# Iterate over sample_list_drilling_4_1_2\n",
    "for i, sheet_name in enumerate(sample_list_drilling_4_1_2):\n",
    "    df = dict_data_frames[sheet_name]\n",
    "\n",
    "    # Drop the rows where 'CumulativeColumn' is NaN\n",
    "    df_dropped = df.dropna(subset=['Ratio O2/CO2'])\n",
    "\n",
    "    # Add the line trace\n",
    "    # fig.add_trace(go.Scatter(\n",
    "    #     x=df_dropped['Day'],\n",
    "    #     y=df_dropped['Ratio O2/CO2'],\n",
    "    #     mode='lines',\n",
    "    #     name=sheet_name,\n",
    "    #     line=dict(color='pink', dash=line_styles[i])\n",
    "    # ))\n",
    "\n",
    "    # Add the scatter trace\n",
    "    fig.add_trace(go.Scatter(\n",
    "        x=df_dropped['Day'],\n",
    "        y=df_dropped['Ratio O2/CO2'],\n",
    "        mode='markers',\n",
    "        name=f'{sheet_name} Data Points',\n",
    "        marker=dict(color='pink')\n",
    "    ))\n",
    "\n",
    "# Iterate over sample_list_drilling_4_2_3\n",
    "for i, sheet_name in enumerate(sample_list_drilling_4_2_3):\n",
    "    df = dict_data_frames[sheet_name]\n",
    "\n",
    "    # Drop the rows where 'CumulativeColumn' is NaN\n",
    "    df_dropped = df.dropna(subset=['Ratio O2/CO2'])\n",
    "\n",
    "    # Add the line trace\n",
    "    # fig.add_trace(go.Scatter(\n",
    "    #     x=df_dropped['Day'],\n",
    "    #     y=df_dropped['Ratio O2/CO2'],\n",
    "    #     mode='lines',\n",
    "    #     name=sheet_name,\n",
    "    #     line=dict(color='yellow', dash=line_styles[i])\n",
    "    # ))\n",
    "\n",
    "    # Add the scatter trace\n",
    "    fig.add_trace(go.Scatter(\n",
    "        x=df_dropped['Day'],\n",
    "        y=df_dropped['Ratio O2/CO2'],\n",
    "        mode='markers',\n",
    "        name=f'{sheet_name} Data Points',\n",
    "        marker=dict(color='yellow')\n",
    "    ))\n",
    "\n",
    "\n",
    "# Add legend-like text annotations\n",
    "fig.add_annotation(\n",
    "    xref='paper',\n",
    "    yref='paper',\n",
    "    x=0.92,\n",
    "    y=0.98,\n",
    "    text='red is drill 3-1-1',\n",
    "    showarrow=False,\n",
    "    font=dict(size=14, color='red')\n",
    ")\n",
    "\n",
    "# Add legend-like text annotations\n",
    "fig.add_annotation(\n",
    "    xref='paper',\n",
    "    yref='paper',\n",
    "    x=0.92,\n",
    "    y=0.92,\n",
    "    text='blue is drill 4-1-1',\n",
    "    showarrow=False,\n",
    "    font=dict(size=14, color='blue')\n",
    ")\n",
    "\n",
    "# Add legend-like text annotations\n",
    "fig.add_annotation(\n",
    "    xref='paper',\n",
    "    yref='paper',\n",
    "    x=0.92,\n",
    "    y=0.86,\n",
    "    text='pink is drill 4-1-2',\n",
    "    showarrow=False,\n",
    "    font=dict(size=14, color='pink')\n",
    ")\n",
    "\n",
    "# Add legend-like text annotations\n",
    "fig.add_annotation(\n",
    "    xref='paper',\n",
    "    yref='paper',\n",
    "    x=0.92,\n",
    "    y=0.8,\n",
    "    text='Yellow is drill 4-2-3',\n",
    "    showarrow=False,\n",
    "    font=dict(size=14, color='yellow')\n",
    ")\n",
    "\n",
    "# Add a trace for y=1 line\n",
    "fig.add_shape(\n",
    "    type='line',\n",
    "    x0=-1,  # Start the line at the minimum x-value\n",
    "    y0=1,\n",
    "    x1=40,  # Extend the line to the maximum x-value\n",
    "    y1=1,\n",
    "    line=dict(color='black', dash='dash')  # Customize the line color and style\n",
    ")\n",
    "\n",
    "# Update the layout\n",
    "fig.update_layout(\n",
    "    title='colors based on drill Ratio O2/CO2',\n",
    "    xaxis=dict(title='Day'),\n",
    "    yaxis=dict(title='Ratio O2/CO2'),\n",
    "    showlegend=True,\n",
    "    legend=dict(\n",
    "        x=0,\n",
    "        y=-0.2,\n",
    "        orientation='h',\n",
    "        traceorder='normal'\n",
    "    ),\n",
    "    plot_bgcolor='grey'  # Set the plot background color to white\n",
    ")\n",
    "\n",
    "\n",
    "fig.update_yaxes(range=[-0.5, 2])  # Set y-axis limits\n",
    "\n",
    "\n",
    "# Show the chart\n",
    "fig.show()\n"
   ],
   "metadata": {
    "collapsed": false,
    "ExecuteTime": {
     "end_time": "2023-06-27T10:40:17.203827600Z",
     "start_time": "2023-06-27T10:40:17.103453200Z"
    }
   }
  },
  {
   "cell_type": "code",
   "execution_count": 30,
   "outputs": [],
   "source": [],
   "metadata": {
    "collapsed": false,
    "ExecuteTime": {
     "end_time": "2023-06-27T10:21:39.765003Z",
     "start_time": "2023-06-27T10:21:39.707079300Z"
    }
   }
  },
  {
   "cell_type": "code",
   "execution_count": 30,
   "outputs": [],
   "source": [],
   "metadata": {
    "collapsed": false,
    "ExecuteTime": {
     "end_time": "2023-06-27T10:21:39.780573900Z",
     "start_time": "2023-06-27T10:21:39.725268900Z"
    }
   }
  },
  {
   "cell_type": "code",
   "execution_count": null,
   "outputs": [],
   "source": [],
   "metadata": {
    "collapsed": false
   }
  }
 ],
 "metadata": {
  "kernelspec": {
   "display_name": "Python 3",
   "language": "python",
   "name": "python3"
  },
  "language_info": {
   "codemirror_mode": {
    "name": "ipython",
    "version": 2
   },
   "file_extension": ".py",
   "mimetype": "text/x-python",
   "name": "python",
   "nbconvert_exporter": "python",
   "pygments_lexer": "ipython2",
   "version": "2.7.6"
  }
 },
 "nbformat": 4,
 "nbformat_minor": 0
}
