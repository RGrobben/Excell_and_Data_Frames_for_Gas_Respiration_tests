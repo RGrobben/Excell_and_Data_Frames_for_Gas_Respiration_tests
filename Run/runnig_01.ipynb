{
 "cells": [
  {
   "cell_type": "code",
   "execution_count": 1,
   "metadata": {
    "collapsed": true,
    "ExecuteTime": {
     "end_time": "2023-06-08T09:17:32.672566100Z",
     "start_time": "2023-06-08T09:17:31.716484600Z"
    }
   },
   "outputs": [],
   "source": [
    "import pandas as pd\n",
    "import matplotlib.pyplot as plt\n",
    "import plotly.express as px\n",
    "\n",
    "from openpyxl.chart import BarChart, Reference\n",
    "\n",
    "from excel_manager import ExcelManager, NiceExcelFunction, NicePandaFrameFunctions\n",
    "from run_data_frame_calculations import RunDataFrameCalculationsForOneDataFrame\n"
   ]
  },
  {
   "cell_type": "markdown",
   "source": [],
   "metadata": {
    "collapsed": false
   }
  },
  {
   "cell_type": "code",
   "execution_count": 2,
   "outputs": [],
   "source": [
    "\n",
    "path_input_excel = r\"C:\\Users\\robbe\\Downloads\\python\\python_plain_data.xlsx\"\n",
    "\n",
    "#make instance of excel manger\n",
    "manager = ExcelManager(path_input_excel)\n",
    "\n",
    "# load the workbook in\n",
    "manager.load_workbook()"
   ],
   "metadata": {
    "collapsed": false,
    "ExecuteTime": {
     "end_time": "2023-06-08T09:17:32.738443700Z",
     "start_time": "2023-06-08T09:17:32.670576200Z"
    }
   }
  },
  {
   "cell_type": "code",
   "execution_count": 3,
   "outputs": [
    {
     "name": "stdout",
     "output_type": "stream",
     "text": [
      "['GT1.1', 'GT1.2', 'GT2.1', 'GT2.2']\n"
     ]
    }
   ],
   "source": [
    "# check the sheet names\n",
    "sheet_names = manager.get_sheet_names()\n",
    "print(sheet_names)"
   ],
   "metadata": {
    "collapsed": false,
    "ExecuteTime": {
     "end_time": "2023-06-08T09:17:32.749398500Z",
     "start_time": "2023-06-08T09:17:32.735439700Z"
    }
   }
  },
  {
   "cell_type": "code",
   "execution_count": 4,
   "outputs": [],
   "source": [
    "column_names = ['Sample ID', 'Parallel', 'Date', 'Time', 'P atm', 'P sample before gc', 'P sample after gc', 'CH4', 'CO2', 'O2', 'N2', 'Flush (1=yes; 0=no)', 'Comments', 'GC method', 'Weight', 'Date + Time', 'Day', 'Sum', 'CH4-corr', 'CO2-corr', 'O2-corr', 'N2-corr', 'Sum-corr', 'mg_bs', 'mCO2_b', 'mCH4_b', 'mO2_b', 'mN2_b', 'mCTot_b', 'mg_as', 'mCO2_a', 'mCH4_a', 'mO2_a', 'mN2_a', 'mCTot_a', 'mCTot_produced', 'O2 consumed', 'CO2 produced', 'O2 consumed_cum', 'CO2 produced_cum', 'mCTot_produced_cum', 'Cgas_DM_cum', 'PP CO2_b', 'CO2_aq [mol/m3]', 'CO2_aq [mol]', 'CO2_produced_aq', 'DIC_cum', 'Ctot_DM', 'Ratio O2/CO2']\n",
    "\n",
    "basic_column_names = ['Sample ID', 'Parallel', 'Date', 'Time', 'P atm', 'P sample before gc', 'P sample after gc', 'CH4', 'CO2', 'O2', 'N2', 'Flush (1=yes; 0=no)', 'Comments', 'GC method', 'Weight']"
   ],
   "metadata": {
    "collapsed": false,
    "ExecuteTime": {
     "end_time": "2023-06-08T09:17:32.764517600Z",
     "start_time": "2023-06-08T09:17:32.748400100Z"
    }
   }
  },
  {
   "cell_type": "code",
   "execution_count": 5,
   "outputs": [
    {
     "data": {
      "text/plain": "   Sample ID  Parallel       Date      Time  P atm [hPa]   \n0        GT1         1 2023-04-17  14:42:00       1025.1  \\\n1        GT1         1 2023-04-19  14:42:00       1023.1   \n2        GT1         1 2023-04-24  10:20:00       1002.3   \n3        GT1         1 2023-04-24  11:25:00       1003.3   \n4        GT1         1 2023-04-26  08:52:00       1017.0   \n5        GT1         1 2023-04-26  09:53:00       1017.2   \n6        GT1         1 2023-04-28  09:45:00       1006.8   \n7        GT1         1 2023-05-01  13:50:00       1013.1   \n8        GT1         1 2023-05-01  14:49:00       1013.3   \n9        GT1         1 2023-05-04  09:26:00       1017.9   \n10       GT1         1 2023-05-04  10:46:00       1017.2   \n11       GT1         1 2023-05-08  08:40:00       1018.7   \n12       GT1         1 2023-05-08  09:47:00       1018.7   \n13       GT1         1 2023-05-10  09:35:00       1007.5   \n14       GT1         1 2023-05-10  10:40:00       1008.0   \n15       GT1         1 2023-05-12  09:09:00       1014.4   \n16       GT1         1 2023-05-12  10:10:00       1014.9   \n17       GT1         1 2023-05-15  09:30:00       1012.5   \n18       GT1         1 2023-05-15  10:38:00       1012.8   \n19       GT1         1 2023-05-17  08:52:00       1025.0   \n20       GT1         1 2023-05-17  09:57:00       1025.6   \n21       GT1         1 2023-05-22  14:11:00       1013.1   \n22       GT1         1 2023-05-22  15:08:00       1013.6   \n\n    P sample before gc [hPa]  P sample after gc [hPa]  CH4 [%]  CO2 [%]   \n0                    1117.44                      NaN     0.00     0.03  \\\n1                     960.00                    958.1     0.12     1.53   \n2                     962.20                    959.8     0.25     2.41   \n3                    1104.60                   1085.8     0.00     0.74   \n4                     954.00                    951.0     0.03     2.72   \n5                    1120.80                   1105.6     0.00     0.63   \n6                    1029.20                   1025.8     0.00     4.52   \n7                    1042.70                   1039.9     0.00     5.74   \n8                    1114.60                   1110.6     0.00     0.78   \n9                    1050.60                   1046.6     0.00     5.34   \n10                   1122.10                   1119.1     0.00     0.50   \n11                   1037.50                   1035.2     0.00     6.98   \n12                   1123.20                   1120.3     0.00     0.57   \n13                   1073.00                   1070.6     0.00     4.77   \n14                   1112.40                   1109.9     0.00     0.40   \n15                   1068.80                   1066.2     0.00     3.70   \n16                   1118.60                   1115.3     0.00     0.41   \n17                   1068.20                   1061.9     0.00     4.43   \n18                   1117.10                   1113.5     0.00     0.42   \n19                   1088.60                   1086.7     0.00     3.02   \n20                   1129.00                   1125.8     0.00     0.29   \n21                   1074.80                   1072.5     0.00     7.08   \n22                   1112.00                   1108.6     0.00     0.64   \n\n    O2 [%]  N2 [%]  Flush (1=yes; 0=no)          Comments GC method   \n0    21.90   78.07                  NaN  start expiriment      None  \\\n1     2.21   96.64                  0.0              None        LM   \n2     1.59   99.14                  0.0              None        LM   \n3    19.79   76.88                  1.0              None        LM   \n4     8.46   92.37                  0.0              None        LM   \n5    20.51   76.51                  1.0              None        LM   \n6    11.77   90.20                  0.0              None        LM   \n7     9.74   83.32                  0.0              None        LM   \n8    20.50   76.25                  1.0              None        LM   \n9    12.97   86.62                  0.0              None        LM   \n10   20.32   75.56                  1.0              None        LM   \n11    8.07   85.33                  0.0              None        LM   \n12   20.11   74.92                  1.0              None        LM   \n13   15.79   90.70                  0.0              None        LM   \n14   20.24   75.24                  1.0              None        LM   \n15   15.45   83.90                  0.0              None        LM   \n16   20.26   75.22                  1.0              None        LM   \n17   15.52   90.13                  0.0              None        LM   \n18   20.54   76.23                  1.0              None        LM   \n19   18.61   87.70                  0.0              None        LM   \n20   20.55   76.21                  1.0              None        Lm   \n21   12.54   92.29                  0.0           Funges         LM   \n22   20.31   75.55                  1.0              None        LM   \n\n    Weight [g]  \n0       793.46  \n1          NaN  \n2          NaN  \n3       793.54  \n4          NaN  \n5       793.55  \n6          NaN  \n7          NaN  \n8       793.43  \n9          NaN  \n10      793.32  \n11         NaN  \n12      793.27  \n13         NaN  \n14      793.20  \n15         NaN  \n16      793.12  \n17         NaN  \n18      793.04  \n19         NaN  \n20      792.91  \n21         NaN  \n22      792.80  ",
      "text/html": "<div>\n<style scoped>\n    .dataframe tbody tr th:only-of-type {\n        vertical-align: middle;\n    }\n\n    .dataframe tbody tr th {\n        vertical-align: top;\n    }\n\n    .dataframe thead th {\n        text-align: right;\n    }\n</style>\n<table border=\"1\" class=\"dataframe\">\n  <thead>\n    <tr style=\"text-align: right;\">\n      <th></th>\n      <th>Sample ID</th>\n      <th>Parallel</th>\n      <th>Date</th>\n      <th>Time</th>\n      <th>P atm [hPa]</th>\n      <th>P sample before gc [hPa]</th>\n      <th>P sample after gc [hPa]</th>\n      <th>CH4 [%]</th>\n      <th>CO2 [%]</th>\n      <th>O2 [%]</th>\n      <th>N2 [%]</th>\n      <th>Flush (1=yes; 0=no)</th>\n      <th>Comments</th>\n      <th>GC method</th>\n      <th>Weight [g]</th>\n    </tr>\n  </thead>\n  <tbody>\n    <tr>\n      <th>0</th>\n      <td>GT1</td>\n      <td>1</td>\n      <td>2023-04-17</td>\n      <td>14:42:00</td>\n      <td>1025.1</td>\n      <td>1117.44</td>\n      <td>NaN</td>\n      <td>0.00</td>\n      <td>0.03</td>\n      <td>21.90</td>\n      <td>78.07</td>\n      <td>NaN</td>\n      <td>start expiriment</td>\n      <td>None</td>\n      <td>793.46</td>\n    </tr>\n    <tr>\n      <th>1</th>\n      <td>GT1</td>\n      <td>1</td>\n      <td>2023-04-19</td>\n      <td>14:42:00</td>\n      <td>1023.1</td>\n      <td>960.00</td>\n      <td>958.1</td>\n      <td>0.12</td>\n      <td>1.53</td>\n      <td>2.21</td>\n      <td>96.64</td>\n      <td>0.0</td>\n      <td>None</td>\n      <td>LM</td>\n      <td>NaN</td>\n    </tr>\n    <tr>\n      <th>2</th>\n      <td>GT1</td>\n      <td>1</td>\n      <td>2023-04-24</td>\n      <td>10:20:00</td>\n      <td>1002.3</td>\n      <td>962.20</td>\n      <td>959.8</td>\n      <td>0.25</td>\n      <td>2.41</td>\n      <td>1.59</td>\n      <td>99.14</td>\n      <td>0.0</td>\n      <td>None</td>\n      <td>LM</td>\n      <td>NaN</td>\n    </tr>\n    <tr>\n      <th>3</th>\n      <td>GT1</td>\n      <td>1</td>\n      <td>2023-04-24</td>\n      <td>11:25:00</td>\n      <td>1003.3</td>\n      <td>1104.60</td>\n      <td>1085.8</td>\n      <td>0.00</td>\n      <td>0.74</td>\n      <td>19.79</td>\n      <td>76.88</td>\n      <td>1.0</td>\n      <td>None</td>\n      <td>LM</td>\n      <td>793.54</td>\n    </tr>\n    <tr>\n      <th>4</th>\n      <td>GT1</td>\n      <td>1</td>\n      <td>2023-04-26</td>\n      <td>08:52:00</td>\n      <td>1017.0</td>\n      <td>954.00</td>\n      <td>951.0</td>\n      <td>0.03</td>\n      <td>2.72</td>\n      <td>8.46</td>\n      <td>92.37</td>\n      <td>0.0</td>\n      <td>None</td>\n      <td>LM</td>\n      <td>NaN</td>\n    </tr>\n    <tr>\n      <th>5</th>\n      <td>GT1</td>\n      <td>1</td>\n      <td>2023-04-26</td>\n      <td>09:53:00</td>\n      <td>1017.2</td>\n      <td>1120.80</td>\n      <td>1105.6</td>\n      <td>0.00</td>\n      <td>0.63</td>\n      <td>20.51</td>\n      <td>76.51</td>\n      <td>1.0</td>\n      <td>None</td>\n      <td>LM</td>\n      <td>793.55</td>\n    </tr>\n    <tr>\n      <th>6</th>\n      <td>GT1</td>\n      <td>1</td>\n      <td>2023-04-28</td>\n      <td>09:45:00</td>\n      <td>1006.8</td>\n      <td>1029.20</td>\n      <td>1025.8</td>\n      <td>0.00</td>\n      <td>4.52</td>\n      <td>11.77</td>\n      <td>90.20</td>\n      <td>0.0</td>\n      <td>None</td>\n      <td>LM</td>\n      <td>NaN</td>\n    </tr>\n    <tr>\n      <th>7</th>\n      <td>GT1</td>\n      <td>1</td>\n      <td>2023-05-01</td>\n      <td>13:50:00</td>\n      <td>1013.1</td>\n      <td>1042.70</td>\n      <td>1039.9</td>\n      <td>0.00</td>\n      <td>5.74</td>\n      <td>9.74</td>\n      <td>83.32</td>\n      <td>0.0</td>\n      <td>None</td>\n      <td>LM</td>\n      <td>NaN</td>\n    </tr>\n    <tr>\n      <th>8</th>\n      <td>GT1</td>\n      <td>1</td>\n      <td>2023-05-01</td>\n      <td>14:49:00</td>\n      <td>1013.3</td>\n      <td>1114.60</td>\n      <td>1110.6</td>\n      <td>0.00</td>\n      <td>0.78</td>\n      <td>20.50</td>\n      <td>76.25</td>\n      <td>1.0</td>\n      <td>None</td>\n      <td>LM</td>\n      <td>793.43</td>\n    </tr>\n    <tr>\n      <th>9</th>\n      <td>GT1</td>\n      <td>1</td>\n      <td>2023-05-04</td>\n      <td>09:26:00</td>\n      <td>1017.9</td>\n      <td>1050.60</td>\n      <td>1046.6</td>\n      <td>0.00</td>\n      <td>5.34</td>\n      <td>12.97</td>\n      <td>86.62</td>\n      <td>0.0</td>\n      <td>None</td>\n      <td>LM</td>\n      <td>NaN</td>\n    </tr>\n    <tr>\n      <th>10</th>\n      <td>GT1</td>\n      <td>1</td>\n      <td>2023-05-04</td>\n      <td>10:46:00</td>\n      <td>1017.2</td>\n      <td>1122.10</td>\n      <td>1119.1</td>\n      <td>0.00</td>\n      <td>0.50</td>\n      <td>20.32</td>\n      <td>75.56</td>\n      <td>1.0</td>\n      <td>None</td>\n      <td>LM</td>\n      <td>793.32</td>\n    </tr>\n    <tr>\n      <th>11</th>\n      <td>GT1</td>\n      <td>1</td>\n      <td>2023-05-08</td>\n      <td>08:40:00</td>\n      <td>1018.7</td>\n      <td>1037.50</td>\n      <td>1035.2</td>\n      <td>0.00</td>\n      <td>6.98</td>\n      <td>8.07</td>\n      <td>85.33</td>\n      <td>0.0</td>\n      <td>None</td>\n      <td>LM</td>\n      <td>NaN</td>\n    </tr>\n    <tr>\n      <th>12</th>\n      <td>GT1</td>\n      <td>1</td>\n      <td>2023-05-08</td>\n      <td>09:47:00</td>\n      <td>1018.7</td>\n      <td>1123.20</td>\n      <td>1120.3</td>\n      <td>0.00</td>\n      <td>0.57</td>\n      <td>20.11</td>\n      <td>74.92</td>\n      <td>1.0</td>\n      <td>None</td>\n      <td>LM</td>\n      <td>793.27</td>\n    </tr>\n    <tr>\n      <th>13</th>\n      <td>GT1</td>\n      <td>1</td>\n      <td>2023-05-10</td>\n      <td>09:35:00</td>\n      <td>1007.5</td>\n      <td>1073.00</td>\n      <td>1070.6</td>\n      <td>0.00</td>\n      <td>4.77</td>\n      <td>15.79</td>\n      <td>90.70</td>\n      <td>0.0</td>\n      <td>None</td>\n      <td>LM</td>\n      <td>NaN</td>\n    </tr>\n    <tr>\n      <th>14</th>\n      <td>GT1</td>\n      <td>1</td>\n      <td>2023-05-10</td>\n      <td>10:40:00</td>\n      <td>1008.0</td>\n      <td>1112.40</td>\n      <td>1109.9</td>\n      <td>0.00</td>\n      <td>0.40</td>\n      <td>20.24</td>\n      <td>75.24</td>\n      <td>1.0</td>\n      <td>None</td>\n      <td>LM</td>\n      <td>793.20</td>\n    </tr>\n    <tr>\n      <th>15</th>\n      <td>GT1</td>\n      <td>1</td>\n      <td>2023-05-12</td>\n      <td>09:09:00</td>\n      <td>1014.4</td>\n      <td>1068.80</td>\n      <td>1066.2</td>\n      <td>0.00</td>\n      <td>3.70</td>\n      <td>15.45</td>\n      <td>83.90</td>\n      <td>0.0</td>\n      <td>None</td>\n      <td>LM</td>\n      <td>NaN</td>\n    </tr>\n    <tr>\n      <th>16</th>\n      <td>GT1</td>\n      <td>1</td>\n      <td>2023-05-12</td>\n      <td>10:10:00</td>\n      <td>1014.9</td>\n      <td>1118.60</td>\n      <td>1115.3</td>\n      <td>0.00</td>\n      <td>0.41</td>\n      <td>20.26</td>\n      <td>75.22</td>\n      <td>1.0</td>\n      <td>None</td>\n      <td>LM</td>\n      <td>793.12</td>\n    </tr>\n    <tr>\n      <th>17</th>\n      <td>GT1</td>\n      <td>1</td>\n      <td>2023-05-15</td>\n      <td>09:30:00</td>\n      <td>1012.5</td>\n      <td>1068.20</td>\n      <td>1061.9</td>\n      <td>0.00</td>\n      <td>4.43</td>\n      <td>15.52</td>\n      <td>90.13</td>\n      <td>0.0</td>\n      <td>None</td>\n      <td>LM</td>\n      <td>NaN</td>\n    </tr>\n    <tr>\n      <th>18</th>\n      <td>GT1</td>\n      <td>1</td>\n      <td>2023-05-15</td>\n      <td>10:38:00</td>\n      <td>1012.8</td>\n      <td>1117.10</td>\n      <td>1113.5</td>\n      <td>0.00</td>\n      <td>0.42</td>\n      <td>20.54</td>\n      <td>76.23</td>\n      <td>1.0</td>\n      <td>None</td>\n      <td>LM</td>\n      <td>793.04</td>\n    </tr>\n    <tr>\n      <th>19</th>\n      <td>GT1</td>\n      <td>1</td>\n      <td>2023-05-17</td>\n      <td>08:52:00</td>\n      <td>1025.0</td>\n      <td>1088.60</td>\n      <td>1086.7</td>\n      <td>0.00</td>\n      <td>3.02</td>\n      <td>18.61</td>\n      <td>87.70</td>\n      <td>0.0</td>\n      <td>None</td>\n      <td>LM</td>\n      <td>NaN</td>\n    </tr>\n    <tr>\n      <th>20</th>\n      <td>GT1</td>\n      <td>1</td>\n      <td>2023-05-17</td>\n      <td>09:57:00</td>\n      <td>1025.6</td>\n      <td>1129.00</td>\n      <td>1125.8</td>\n      <td>0.00</td>\n      <td>0.29</td>\n      <td>20.55</td>\n      <td>76.21</td>\n      <td>1.0</td>\n      <td>None</td>\n      <td>Lm</td>\n      <td>792.91</td>\n    </tr>\n    <tr>\n      <th>21</th>\n      <td>GT1</td>\n      <td>1</td>\n      <td>2023-05-22</td>\n      <td>14:11:00</td>\n      <td>1013.1</td>\n      <td>1074.80</td>\n      <td>1072.5</td>\n      <td>0.00</td>\n      <td>7.08</td>\n      <td>12.54</td>\n      <td>92.29</td>\n      <td>0.0</td>\n      <td>Funges</td>\n      <td>LM</td>\n      <td>NaN</td>\n    </tr>\n    <tr>\n      <th>22</th>\n      <td>GT1</td>\n      <td>1</td>\n      <td>2023-05-22</td>\n      <td>15:08:00</td>\n      <td>1013.6</td>\n      <td>1112.00</td>\n      <td>1108.6</td>\n      <td>0.00</td>\n      <td>0.64</td>\n      <td>20.31</td>\n      <td>75.55</td>\n      <td>1.0</td>\n      <td>None</td>\n      <td>LM</td>\n      <td>792.80</td>\n    </tr>\n  </tbody>\n</table>\n</div>"
     },
     "metadata": {},
     "output_type": "display_data"
    },
    {
     "name": "stdout",
     "output_type": "stream",
     "text": [
      " As you can see now the full sheet is shown\n"
     ]
    }
   ],
   "source": [
    "# check if you can see the data_frame\n",
    "full_sheet = manager.load_sheet_table(sheet_name=\"GT1.1\", start_row=13)\n",
    "\n",
    "display(full_sheet)\n",
    "print(f' As you can see now the full sheet is shown')"
   ],
   "metadata": {
    "collapsed": false,
    "ExecuteTime": {
     "end_time": "2023-06-08T09:17:32.815306Z",
     "start_time": "2023-06-08T09:17:32.762522300Z"
    }
   }
  },
  {
   "cell_type": "code",
   "execution_count": 6,
   "outputs": [
    {
     "name": "stdout",
     "output_type": "stream",
     "text": [
      "Show process: GT1.1 is done\n",
      "Show process: GT1.1 is done\n",
      "Show process: GT1.2 is done\n",
      "Show process: GT1.2 is done\n",
      "Show process: GT2.1 is done\n",
      "Show process: GT2.1 is done\n",
      "Show process: GT2.2 is done\n",
      "Show process: GT2.2 is done\n"
     ]
    }
   ],
   "source": [
    "# fil in the dict with constants for the samples\n",
    "sheet_names_samples = sheet_names[:]\n",
    "for sheet_name in sheet_names_samples:\n",
    "    # loading the panda data frame for the sample\n",
    "    constants_data_frame = manager.load_constants_as_data_frame(sheet_name=sheet_name, start_row=1, end_row=7, start_col=3)\n",
    "\n",
    "    constants_data_class = manager.load_constants_as_data_class(sheet_name=sheet_name, start_row=1, end_row=7, start_col=3)\n",
    "\n",
    "    # fill the dictionary\n",
    "    manager.fill_dict_constants_data_frames(data_frame=constants_data_frame, sheets=[sheet_name])\n",
    "\n",
    "    manager.fill_dict_constants_data_classes(data_class=constants_data_class, sheets=[sheet_name])\n",
    "\n",
    "dict_constants = manager.get_dict_constants_data_frames()\n",
    "dict_constants_data_classes = manager.get_dict_constants_data_classes()"
   ],
   "metadata": {
    "collapsed": false,
    "ExecuteTime": {
     "end_time": "2023-06-08T09:17:32.815306Z",
     "start_time": "2023-06-08T09:17:32.804504600Z"
    }
   }
  },
  {
   "cell_type": "code",
   "execution_count": 7,
   "outputs": [
    {
     "data": {
      "text/plain": "     Rgas  expTemp  volume_headspace  MM_C  water_volume  dry_mass_sample   \n0  8314.5   293.15             0.961    12         0.098       153.607785  \\\n\n   henryeff_20  \n0      0.00523  ",
      "text/html": "<div>\n<style scoped>\n    .dataframe tbody tr th:only-of-type {\n        vertical-align: middle;\n    }\n\n    .dataframe tbody tr th {\n        vertical-align: top;\n    }\n\n    .dataframe thead th {\n        text-align: right;\n    }\n</style>\n<table border=\"1\" class=\"dataframe\">\n  <thead>\n    <tr style=\"text-align: right;\">\n      <th></th>\n      <th>Rgas</th>\n      <th>expTemp</th>\n      <th>volume_headspace</th>\n      <th>MM_C</th>\n      <th>water_volume</th>\n      <th>dry_mass_sample</th>\n      <th>henryeff_20</th>\n    </tr>\n  </thead>\n  <tbody>\n    <tr>\n      <th>0</th>\n      <td>8314.5</td>\n      <td>293.15</td>\n      <td>0.961</td>\n      <td>12</td>\n      <td>0.098</td>\n      <td>153.607785</td>\n      <td>0.00523</td>\n    </tr>\n  </tbody>\n</table>\n</div>"
     },
     "metadata": {},
     "output_type": "display_data"
    },
    {
     "name": "stdout",
     "output_type": "stream",
     "text": [
      "293.15\n"
     ]
    }
   ],
   "source": [
    "display(dict_constants[\"GT1.1\"])\n",
    "con = dict_constants_data_classes[\"GT1.1\"]\n",
    "print(con.expTemp)"
   ],
   "metadata": {
    "collapsed": false,
    "ExecuteTime": {
     "end_time": "2023-06-08T09:17:32.824792600Z",
     "start_time": "2023-06-08T09:17:32.810296800Z"
    }
   }
  },
  {
   "cell_type": "code",
   "execution_count": 8,
   "outputs": [
    {
     "name": "stdout",
     "output_type": "stream",
     "text": [
      "finished calculations GT1.1\n",
      "Show process: GT1.1 is done\n",
      "filled dictionary for GT1.1\n",
      "finished calculations GT1.2\n",
      "Show process: GT1.2 is done\n",
      "filled dictionary for GT1.2\n",
      "finished calculations GT2.1\n",
      "Show process: GT2.1 is done\n",
      "filled dictionary for GT2.1\n",
      "finished calculations GT2.2\n",
      "Show process: GT2.2 is done\n",
      "filled dictionary for GT2.2\n"
     ]
    },
    {
     "name": "stderr",
     "output_type": "stream",
     "text": [
      "C:\\Users\\robbe\\Desktop\\Q4 2022-2023\\Bachelor Eind Werk\\Geotechnical\\Python-tool\\openpyxl Code\\data_frame_calculations.py:317: SettingWithCopyWarning: \n",
      "A value is trying to be set on a copy of a slice from a DataFrame\n",
      "\n",
      "See the caveats in the documentation: https://pandas.pydata.org/pandas-docs/stable/user_guide/indexing.html#returning-a-view-versus-a-copy\n",
      "  data_frame[name_column][1:] = (data_frame[column_name_CO2_aq_in_mol_per_m3][1:] * constant) - data_frame[name_column].at[0]\n",
      "C:\\Users\\robbe\\Desktop\\Q4 2022-2023\\Bachelor Eind Werk\\Geotechnical\\Python-tool\\openpyxl Code\\data_frame_calculations.py:329: SettingWithCopyWarning: \n",
      "A value is trying to be set on a copy of a slice from a DataFrame\n",
      "\n",
      "See the caveats in the documentation: https://pandas.pydata.org/pandas-docs/stable/user_guide/indexing.html#returning-a-view-versus-a-copy\n",
      "  data_frame[name_column][1:] = data_frame[name_column_C_gas_dry_mass_cum][1:] + data_frame[name_column_DIC_cum][1:]\n",
      "C:\\Users\\robbe\\Desktop\\Q4 2022-2023\\Bachelor Eind Werk\\Geotechnical\\Python-tool\\openpyxl Code\\data_frame_calculations.py:317: SettingWithCopyWarning: \n",
      "A value is trying to be set on a copy of a slice from a DataFrame\n",
      "\n",
      "See the caveats in the documentation: https://pandas.pydata.org/pandas-docs/stable/user_guide/indexing.html#returning-a-view-versus-a-copy\n",
      "  data_frame[name_column][1:] = (data_frame[column_name_CO2_aq_in_mol_per_m3][1:] * constant) - data_frame[name_column].at[0]\n",
      "C:\\Users\\robbe\\Desktop\\Q4 2022-2023\\Bachelor Eind Werk\\Geotechnical\\Python-tool\\openpyxl Code\\data_frame_calculations.py:329: SettingWithCopyWarning: \n",
      "A value is trying to be set on a copy of a slice from a DataFrame\n",
      "\n",
      "See the caveats in the documentation: https://pandas.pydata.org/pandas-docs/stable/user_guide/indexing.html#returning-a-view-versus-a-copy\n",
      "  data_frame[name_column][1:] = data_frame[name_column_C_gas_dry_mass_cum][1:] + data_frame[name_column_DIC_cum][1:]\n",
      "C:\\Users\\robbe\\Desktop\\Q4 2022-2023\\Bachelor Eind Werk\\Geotechnical\\Python-tool\\openpyxl Code\\data_frame_calculations.py:317: SettingWithCopyWarning: \n",
      "A value is trying to be set on a copy of a slice from a DataFrame\n",
      "\n",
      "See the caveats in the documentation: https://pandas.pydata.org/pandas-docs/stable/user_guide/indexing.html#returning-a-view-versus-a-copy\n",
      "  data_frame[name_column][1:] = (data_frame[column_name_CO2_aq_in_mol_per_m3][1:] * constant) - data_frame[name_column].at[0]\n",
      "C:\\Users\\robbe\\Desktop\\Q4 2022-2023\\Bachelor Eind Werk\\Geotechnical\\Python-tool\\openpyxl Code\\data_frame_calculations.py:329: SettingWithCopyWarning: \n",
      "A value is trying to be set on a copy of a slice from a DataFrame\n",
      "\n",
      "See the caveats in the documentation: https://pandas.pydata.org/pandas-docs/stable/user_guide/indexing.html#returning-a-view-versus-a-copy\n",
      "  data_frame[name_column][1:] = data_frame[name_column_C_gas_dry_mass_cum][1:] + data_frame[name_column_DIC_cum][1:]\n",
      "C:\\Users\\robbe\\Desktop\\Q4 2022-2023\\Bachelor Eind Werk\\Geotechnical\\Python-tool\\openpyxl Code\\data_frame_calculations.py:317: SettingWithCopyWarning: \n",
      "A value is trying to be set on a copy of a slice from a DataFrame\n",
      "\n",
      "See the caveats in the documentation: https://pandas.pydata.org/pandas-docs/stable/user_guide/indexing.html#returning-a-view-versus-a-copy\n",
      "  data_frame[name_column][1:] = (data_frame[column_name_CO2_aq_in_mol_per_m3][1:] * constant) - data_frame[name_column].at[0]\n",
      "C:\\Users\\robbe\\Desktop\\Q4 2022-2023\\Bachelor Eind Werk\\Geotechnical\\Python-tool\\openpyxl Code\\data_frame_calculations.py:329: SettingWithCopyWarning: \n",
      "A value is trying to be set on a copy of a slice from a DataFrame\n",
      "\n",
      "See the caveats in the documentation: https://pandas.pydata.org/pandas-docs/stable/user_guide/indexing.html#returning-a-view-versus-a-copy\n",
      "  data_frame[name_column][1:] = data_frame[name_column_C_gas_dry_mass_cum][1:] + data_frame[name_column_DIC_cum][1:]\n"
     ]
    }
   ],
   "source": [
    "# Now all the data frames are read in, calculated and returned in to the excell_file\n",
    "sheet_names_samples = sheet_names[:]\n",
    "for sheet_name in sheet_names_samples:\n",
    "    # loading the data frame\n",
    "    column_end = NiceExcelFunction.get_column_index(column_letter=\"O\")\n",
    "    data_frame = manager.load_sheet_table(sheet_name=sheet_name, start_row=13, end_column=column_end)\n",
    "\n",
    "\n",
    "    constants_data_class = dict_constants_data_classes[sheet_name]\n",
    "\n",
    "    # adding date and do the gas composition corrections.\n",
    "    RunDataFrameCalculationsForOneDataFrame(data_frame=data_frame).run_data_frame_processor_calculations()\n",
    "    RunDataFrameCalculationsForOneDataFrame(data_frame=data_frame).run_gas_composition_calculations()\n",
    "\n",
    "    # calculations for moles before and after sampling\n",
    "    RunDataFrameCalculationsForOneDataFrame(data_frame=data_frame).run_mol_gases_before_and_after_sampling(Rgas=constants_data_class.Rgas,\n",
    "                                                                                                           exp_temperature=constants_data_class.expTemp,\n",
    "                                                                                                           volume_headspace=constants_data_class.volume_headspace)\n",
    "\n",
    "    # correcting the mg_bs for the first measurement\n",
    "    data_frame.loc[0, \"mg_as\"] = data_frame.loc[0, \"mg_bs\"]\n",
    "\n",
    "\n",
    "    # run mol gas composition\n",
    "    RunDataFrameCalculationsForOneDataFrame(data_frame=data_frame).run_mol_gas_composition_calculation()\n",
    "    # run moles produced\n",
    "    RunDataFrameCalculationsForOneDataFrame(data_frame=data_frame).run_moles_produced()\n",
    "    # run cumulative calculations carbon in gas phase\n",
    "    RunDataFrameCalculationsForOneDataFrame(data_frame=data_frame).run_cumulative_production_in_the_gas_phase(molar_mass_carbon=constants_data_class.molar_mass_carbon,\n",
    "                                                                                                              dry_mass_sample=constants_data_class.dry_mass_sample)\n",
    "\n",
    "    # run calculation carbon in the aqueous phase\n",
    "    RunDataFrameCalculationsForOneDataFrame(data_frame=data_frame).run_carbon_in_aqueous_phase(water_volume_in_liters=constants_data_class.water_volume,\n",
    "                                                                                    dry_mass_sample=constants_data_class.dry_mass_sample)\n",
    "\n",
    "    # run results interpretations\n",
    "    RunDataFrameCalculationsForOneDataFrame(data_frame=data_frame).run_results_Interpretations()\n",
    "\n",
    "    print(f\"finished calculations {sheet_name}\")\n",
    "\n",
    "    manager.fill_dict_panda_data_frames(data_frame=data_frame, sheets=[sheet_name])\n",
    "\n",
    "    print(f\"filled dictionary for {sheet_name}\")\n",
    "\n",
    "\n",
    "\n",
    "\n",
    "\n",
    "    # manager.replace_table_in_specific_sheet_with_data_frame(excel_file_path=path_input_excel,\n",
    "    #                                                         sheet_name=sheet_name,\n",
    "    #                                                         start_row=13,\n",
    "    #                                                         data_frame=data_frame,\n",
    "    #                                                         header=True\n",
    "    #                                                         )\n",
    "    # print(f\"replaced table for {sheet_name}\")"
   ],
   "metadata": {
    "collapsed": false,
    "ExecuteTime": {
     "end_time": "2023-06-08T09:17:33.043304600Z",
     "start_time": "2023-06-08T09:17:32.827784700Z"
    }
   }
  },
  {
   "cell_type": "code",
   "execution_count": 9,
   "outputs": [
    {
     "data": {
      "text/plain": "   Sample ID  Parallel       Date      Time  P atm [hPa]   \n0        GT1         1 2023-04-17  14:42:00       1025.1  \\\n1        GT1         1 2023-04-19  14:42:00       1023.1   \n2        GT1         1 2023-04-24  10:20:00       1002.3   \n3        GT1         1 2023-04-24  11:25:00       1003.3   \n4        GT1         1 2023-04-26  08:52:00       1017.0   \n5        GT1         1 2023-04-26  09:53:00       1017.2   \n6        GT1         1 2023-04-28  09:45:00       1006.8   \n7        GT1         1 2023-05-01  13:50:00       1013.1   \n8        GT1         1 2023-05-01  14:49:00       1013.3   \n9        GT1         1 2023-05-04  09:26:00       1017.9   \n10       GT1         1 2023-05-04  10:46:00       1017.2   \n11       GT1         1 2023-05-08  08:40:00       1018.7   \n12       GT1         1 2023-05-08  09:47:00       1018.7   \n13       GT1         1 2023-05-10  09:35:00       1007.5   \n14       GT1         1 2023-05-10  10:40:00       1008.0   \n15       GT1         1 2023-05-12  09:09:00       1014.4   \n16       GT1         1 2023-05-12  10:10:00       1014.9   \n17       GT1         1 2023-05-15  09:30:00       1012.5   \n18       GT1         1 2023-05-15  10:38:00       1012.8   \n19       GT1         1 2023-05-17  08:52:00       1025.0   \n20       GT1         1 2023-05-17  09:57:00       1025.6   \n21       GT1         1 2023-05-22  14:11:00       1013.1   \n22       GT1         1 2023-05-22  15:08:00       1013.6   \n\n    P sample before gc [hPa]  P sample after gc [hPa]  CH4 [%]  CO2 [%]   \n0                    1117.44                      NaN     0.00     0.03  \\\n1                     960.00                    958.1     0.12     1.53   \n2                     962.20                    959.8     0.25     2.41   \n3                    1104.60                   1085.8     0.00     0.74   \n4                     954.00                    951.0     0.03     2.72   \n5                    1120.80                   1105.6     0.00     0.63   \n6                    1029.20                   1025.8     0.00     4.52   \n7                    1042.70                   1039.9     0.00     5.74   \n8                    1114.60                   1110.6     0.00     0.78   \n9                    1050.60                   1046.6     0.00     5.34   \n10                   1122.10                   1119.1     0.00     0.50   \n11                   1037.50                   1035.2     0.00     6.98   \n12                   1123.20                   1120.3     0.00     0.57   \n13                   1073.00                   1070.6     0.00     4.77   \n14                   1112.40                   1109.9     0.00     0.40   \n15                   1068.80                   1066.2     0.00     3.70   \n16                   1118.60                   1115.3     0.00     0.41   \n17                   1068.20                   1061.9     0.00     4.43   \n18                   1117.10                   1113.5     0.00     0.42   \n19                   1088.60                   1086.7     0.00     3.02   \n20                   1129.00                   1125.8     0.00     0.29   \n21                   1074.80                   1072.5     0.00     7.08   \n22                   1112.00                   1108.6     0.00     0.64   \n\n    O2 [%]  ...  CO2 produced_cum  mCTot_produced_cum Cgas_DM_cum    \n0    21.90  ...          0.000000            0.000000     0.000000  \\\n1     2.21  ...          0.000563            0.000608     0.047514   \n2     1.59  ...          0.000872            0.000964     0.075312   \n3    19.79  ...               NaN                 NaN          NaN   \n4     8.46  ...          0.001535            0.001637     0.127920   \n5    20.51  ...               NaN                 NaN          NaN   \n6    11.77  ...          0.002976            0.003079     0.240503   \n7     9.74  ...          0.003648            0.003750     0.292980   \n8    20.50  ...               NaN                 NaN          NaN   \n9    12.97  ...          0.005405            0.005508     0.430304   \n10   20.32  ...               NaN                 NaN          NaN   \n11    8.07  ...          0.008021            0.008124     0.634631   \n12   20.11  ...               NaN                 NaN          NaN   \n13   15.79  ...          0.009571            0.009674     0.755749   \n14   20.24  ...               NaN                 NaN          NaN   \n15   15.45  ...          0.010902            0.011005     0.859686   \n16   20.26  ...               NaN                 NaN          NaN   \n17   15.52  ...          0.012409            0.012511     0.977406   \n18   20.54  ...               NaN                 NaN          NaN   \n19   18.61  ...          0.013405            0.013507     1.055204   \n20   20.55  ...               NaN                 NaN          NaN   \n21   12.54  ...          0.015953            0.016056     1.254281   \n22   20.31  ...               NaN                 NaN          NaN   \n\n      PP CO2_b   CO2_aq [mol/m3] CO2_aq [mol]  CO2_produced_aq   DIC_cum   \n0     33.523200         0.175326     0.000017         0.000000  0.001342  \\\n1   1461.492537         7.643606     0.000749         0.000732  0.057176   \n2   2242.868749        11.730204     0.001150         0.000400  0.088463   \n3    839.137666         4.388690     0.000430        -0.000719  0.032257   \n4   2505.194053        13.102165     0.001284         0.000854  0.098966   \n5    723.096774         3.781796     0.000371        -0.000913  0.027611   \n6   4368.470279        22.847100     0.002239         0.001868  0.173572   \n7   6057.791498        31.682250     0.003105         0.000866  0.241213   \n8    891.405721         4.662052     0.000457        -0.002648  0.034350   \n9   5346.615839        27.962801     0.002740         0.002283  0.212737   \n10   582.122847         3.044502     0.000298        -0.002442  0.021966   \n11  7214.335525        37.730975     0.003698         0.003399  0.287521   \n12   669.690377         3.502481     0.000343        -0.003354  0.025472   \n13  4600.224699        24.059175     0.002358         0.002015  0.182851   \n14   464.080100         2.427139     0.000238        -0.002120  0.017240   \n15  3837.515769        20.070207     0.001967         0.001729  0.152312   \n16   478.283450         2.501422     0.000245        -0.001722  0.017808   \n17  4298.806323        22.482757     0.002203         0.001958  0.170783   \n18   482.747196         2.524768     0.000247        -0.001956  0.017987   \n19  3007.017287        15.726700     0.001541         0.001294  0.119059   \n20   337.362184         1.764404     0.000173        -0.001368  0.012166   \n21  6799.735502        35.562617     0.003485         0.003312  0.270920   \n22   737.492228         3.857084     0.000378        -0.003107  0.028187   \n\n    Ctot_DM [mg C/gDW]  Ratio O2/CO2  \n0             0.000000      0.000000  \n1             0.104690      6.808473  \n2             0.163775      0.348401  \n3                  NaN           NaN  \n4             0.226886      3.709538  \n5                  NaN           NaN  \n6             0.414075      1.411259  \n7             0.534193      0.271447  \n8                  NaN           NaN  \n9             0.643041      1.010519  \n10                 NaN           NaN  \n11            0.922152      0.999863  \n12                 NaN           NaN  \n13            0.938600      0.922177  \n14                 NaN           NaN  \n15            1.011999      0.954334  \n16                 NaN           NaN  \n17            1.148188      0.967643  \n18                 NaN           NaN  \n19            1.174263      0.861429  \n20                 NaN           NaN  \n21            1.525201      0.793507  \n22                 NaN           NaN  \n\n[23 rows x 48 columns]",
      "text/html": "<div>\n<style scoped>\n    .dataframe tbody tr th:only-of-type {\n        vertical-align: middle;\n    }\n\n    .dataframe tbody tr th {\n        vertical-align: top;\n    }\n\n    .dataframe thead th {\n        text-align: right;\n    }\n</style>\n<table border=\"1\" class=\"dataframe\">\n  <thead>\n    <tr style=\"text-align: right;\">\n      <th></th>\n      <th>Sample ID</th>\n      <th>Parallel</th>\n      <th>Date</th>\n      <th>Time</th>\n      <th>P atm [hPa]</th>\n      <th>P sample before gc [hPa]</th>\n      <th>P sample after gc [hPa]</th>\n      <th>CH4 [%]</th>\n      <th>CO2 [%]</th>\n      <th>O2 [%]</th>\n      <th>...</th>\n      <th>CO2 produced_cum</th>\n      <th>mCTot_produced_cum</th>\n      <th>Cgas_DM_cum</th>\n      <th>PP CO2_b</th>\n      <th>CO2_aq [mol/m3]</th>\n      <th>CO2_aq [mol]</th>\n      <th>CO2_produced_aq</th>\n      <th>DIC_cum</th>\n      <th>Ctot_DM [mg C/gDW]</th>\n      <th>Ratio O2/CO2</th>\n    </tr>\n  </thead>\n  <tbody>\n    <tr>\n      <th>0</th>\n      <td>GT1</td>\n      <td>1</td>\n      <td>2023-04-17</td>\n      <td>14:42:00</td>\n      <td>1025.1</td>\n      <td>1117.44</td>\n      <td>NaN</td>\n      <td>0.00</td>\n      <td>0.03</td>\n      <td>21.90</td>\n      <td>...</td>\n      <td>0.000000</td>\n      <td>0.000000</td>\n      <td>0.000000</td>\n      <td>33.523200</td>\n      <td>0.175326</td>\n      <td>0.000017</td>\n      <td>0.000000</td>\n      <td>0.001342</td>\n      <td>0.000000</td>\n      <td>0.000000</td>\n    </tr>\n    <tr>\n      <th>1</th>\n      <td>GT1</td>\n      <td>1</td>\n      <td>2023-04-19</td>\n      <td>14:42:00</td>\n      <td>1023.1</td>\n      <td>960.00</td>\n      <td>958.1</td>\n      <td>0.12</td>\n      <td>1.53</td>\n      <td>2.21</td>\n      <td>...</td>\n      <td>0.000563</td>\n      <td>0.000608</td>\n      <td>0.047514</td>\n      <td>1461.492537</td>\n      <td>7.643606</td>\n      <td>0.000749</td>\n      <td>0.000732</td>\n      <td>0.057176</td>\n      <td>0.104690</td>\n      <td>6.808473</td>\n    </tr>\n    <tr>\n      <th>2</th>\n      <td>GT1</td>\n      <td>1</td>\n      <td>2023-04-24</td>\n      <td>10:20:00</td>\n      <td>1002.3</td>\n      <td>962.20</td>\n      <td>959.8</td>\n      <td>0.25</td>\n      <td>2.41</td>\n      <td>1.59</td>\n      <td>...</td>\n      <td>0.000872</td>\n      <td>0.000964</td>\n      <td>0.075312</td>\n      <td>2242.868749</td>\n      <td>11.730204</td>\n      <td>0.001150</td>\n      <td>0.000400</td>\n      <td>0.088463</td>\n      <td>0.163775</td>\n      <td>0.348401</td>\n    </tr>\n    <tr>\n      <th>3</th>\n      <td>GT1</td>\n      <td>1</td>\n      <td>2023-04-24</td>\n      <td>11:25:00</td>\n      <td>1003.3</td>\n      <td>1104.60</td>\n      <td>1085.8</td>\n      <td>0.00</td>\n      <td>0.74</td>\n      <td>19.79</td>\n      <td>...</td>\n      <td>NaN</td>\n      <td>NaN</td>\n      <td>NaN</td>\n      <td>839.137666</td>\n      <td>4.388690</td>\n      <td>0.000430</td>\n      <td>-0.000719</td>\n      <td>0.032257</td>\n      <td>NaN</td>\n      <td>NaN</td>\n    </tr>\n    <tr>\n      <th>4</th>\n      <td>GT1</td>\n      <td>1</td>\n      <td>2023-04-26</td>\n      <td>08:52:00</td>\n      <td>1017.0</td>\n      <td>954.00</td>\n      <td>951.0</td>\n      <td>0.03</td>\n      <td>2.72</td>\n      <td>8.46</td>\n      <td>...</td>\n      <td>0.001535</td>\n      <td>0.001637</td>\n      <td>0.127920</td>\n      <td>2505.194053</td>\n      <td>13.102165</td>\n      <td>0.001284</td>\n      <td>0.000854</td>\n      <td>0.098966</td>\n      <td>0.226886</td>\n      <td>3.709538</td>\n    </tr>\n    <tr>\n      <th>5</th>\n      <td>GT1</td>\n      <td>1</td>\n      <td>2023-04-26</td>\n      <td>09:53:00</td>\n      <td>1017.2</td>\n      <td>1120.80</td>\n      <td>1105.6</td>\n      <td>0.00</td>\n      <td>0.63</td>\n      <td>20.51</td>\n      <td>...</td>\n      <td>NaN</td>\n      <td>NaN</td>\n      <td>NaN</td>\n      <td>723.096774</td>\n      <td>3.781796</td>\n      <td>0.000371</td>\n      <td>-0.000913</td>\n      <td>0.027611</td>\n      <td>NaN</td>\n      <td>NaN</td>\n    </tr>\n    <tr>\n      <th>6</th>\n      <td>GT1</td>\n      <td>1</td>\n      <td>2023-04-28</td>\n      <td>09:45:00</td>\n      <td>1006.8</td>\n      <td>1029.20</td>\n      <td>1025.8</td>\n      <td>0.00</td>\n      <td>4.52</td>\n      <td>11.77</td>\n      <td>...</td>\n      <td>0.002976</td>\n      <td>0.003079</td>\n      <td>0.240503</td>\n      <td>4368.470279</td>\n      <td>22.847100</td>\n      <td>0.002239</td>\n      <td>0.001868</td>\n      <td>0.173572</td>\n      <td>0.414075</td>\n      <td>1.411259</td>\n    </tr>\n    <tr>\n      <th>7</th>\n      <td>GT1</td>\n      <td>1</td>\n      <td>2023-05-01</td>\n      <td>13:50:00</td>\n      <td>1013.1</td>\n      <td>1042.70</td>\n      <td>1039.9</td>\n      <td>0.00</td>\n      <td>5.74</td>\n      <td>9.74</td>\n      <td>...</td>\n      <td>0.003648</td>\n      <td>0.003750</td>\n      <td>0.292980</td>\n      <td>6057.791498</td>\n      <td>31.682250</td>\n      <td>0.003105</td>\n      <td>0.000866</td>\n      <td>0.241213</td>\n      <td>0.534193</td>\n      <td>0.271447</td>\n    </tr>\n    <tr>\n      <th>8</th>\n      <td>GT1</td>\n      <td>1</td>\n      <td>2023-05-01</td>\n      <td>14:49:00</td>\n      <td>1013.3</td>\n      <td>1114.60</td>\n      <td>1110.6</td>\n      <td>0.00</td>\n      <td>0.78</td>\n      <td>20.50</td>\n      <td>...</td>\n      <td>NaN</td>\n      <td>NaN</td>\n      <td>NaN</td>\n      <td>891.405721</td>\n      <td>4.662052</td>\n      <td>0.000457</td>\n      <td>-0.002648</td>\n      <td>0.034350</td>\n      <td>NaN</td>\n      <td>NaN</td>\n    </tr>\n    <tr>\n      <th>9</th>\n      <td>GT1</td>\n      <td>1</td>\n      <td>2023-05-04</td>\n      <td>09:26:00</td>\n      <td>1017.9</td>\n      <td>1050.60</td>\n      <td>1046.6</td>\n      <td>0.00</td>\n      <td>5.34</td>\n      <td>12.97</td>\n      <td>...</td>\n      <td>0.005405</td>\n      <td>0.005508</td>\n      <td>0.430304</td>\n      <td>5346.615839</td>\n      <td>27.962801</td>\n      <td>0.002740</td>\n      <td>0.002283</td>\n      <td>0.212737</td>\n      <td>0.643041</td>\n      <td>1.010519</td>\n    </tr>\n    <tr>\n      <th>10</th>\n      <td>GT1</td>\n      <td>1</td>\n      <td>2023-05-04</td>\n      <td>10:46:00</td>\n      <td>1017.2</td>\n      <td>1122.10</td>\n      <td>1119.1</td>\n      <td>0.00</td>\n      <td>0.50</td>\n      <td>20.32</td>\n      <td>...</td>\n      <td>NaN</td>\n      <td>NaN</td>\n      <td>NaN</td>\n      <td>582.122847</td>\n      <td>3.044502</td>\n      <td>0.000298</td>\n      <td>-0.002442</td>\n      <td>0.021966</td>\n      <td>NaN</td>\n      <td>NaN</td>\n    </tr>\n    <tr>\n      <th>11</th>\n      <td>GT1</td>\n      <td>1</td>\n      <td>2023-05-08</td>\n      <td>08:40:00</td>\n      <td>1018.7</td>\n      <td>1037.50</td>\n      <td>1035.2</td>\n      <td>0.00</td>\n      <td>6.98</td>\n      <td>8.07</td>\n      <td>...</td>\n      <td>0.008021</td>\n      <td>0.008124</td>\n      <td>0.634631</td>\n      <td>7214.335525</td>\n      <td>37.730975</td>\n      <td>0.003698</td>\n      <td>0.003399</td>\n      <td>0.287521</td>\n      <td>0.922152</td>\n      <td>0.999863</td>\n    </tr>\n    <tr>\n      <th>12</th>\n      <td>GT1</td>\n      <td>1</td>\n      <td>2023-05-08</td>\n      <td>09:47:00</td>\n      <td>1018.7</td>\n      <td>1123.20</td>\n      <td>1120.3</td>\n      <td>0.00</td>\n      <td>0.57</td>\n      <td>20.11</td>\n      <td>...</td>\n      <td>NaN</td>\n      <td>NaN</td>\n      <td>NaN</td>\n      <td>669.690377</td>\n      <td>3.502481</td>\n      <td>0.000343</td>\n      <td>-0.003354</td>\n      <td>0.025472</td>\n      <td>NaN</td>\n      <td>NaN</td>\n    </tr>\n    <tr>\n      <th>13</th>\n      <td>GT1</td>\n      <td>1</td>\n      <td>2023-05-10</td>\n      <td>09:35:00</td>\n      <td>1007.5</td>\n      <td>1073.00</td>\n      <td>1070.6</td>\n      <td>0.00</td>\n      <td>4.77</td>\n      <td>15.79</td>\n      <td>...</td>\n      <td>0.009571</td>\n      <td>0.009674</td>\n      <td>0.755749</td>\n      <td>4600.224699</td>\n      <td>24.059175</td>\n      <td>0.002358</td>\n      <td>0.002015</td>\n      <td>0.182851</td>\n      <td>0.938600</td>\n      <td>0.922177</td>\n    </tr>\n    <tr>\n      <th>14</th>\n      <td>GT1</td>\n      <td>1</td>\n      <td>2023-05-10</td>\n      <td>10:40:00</td>\n      <td>1008.0</td>\n      <td>1112.40</td>\n      <td>1109.9</td>\n      <td>0.00</td>\n      <td>0.40</td>\n      <td>20.24</td>\n      <td>...</td>\n      <td>NaN</td>\n      <td>NaN</td>\n      <td>NaN</td>\n      <td>464.080100</td>\n      <td>2.427139</td>\n      <td>0.000238</td>\n      <td>-0.002120</td>\n      <td>0.017240</td>\n      <td>NaN</td>\n      <td>NaN</td>\n    </tr>\n    <tr>\n      <th>15</th>\n      <td>GT1</td>\n      <td>1</td>\n      <td>2023-05-12</td>\n      <td>09:09:00</td>\n      <td>1014.4</td>\n      <td>1068.80</td>\n      <td>1066.2</td>\n      <td>0.00</td>\n      <td>3.70</td>\n      <td>15.45</td>\n      <td>...</td>\n      <td>0.010902</td>\n      <td>0.011005</td>\n      <td>0.859686</td>\n      <td>3837.515769</td>\n      <td>20.070207</td>\n      <td>0.001967</td>\n      <td>0.001729</td>\n      <td>0.152312</td>\n      <td>1.011999</td>\n      <td>0.954334</td>\n    </tr>\n    <tr>\n      <th>16</th>\n      <td>GT1</td>\n      <td>1</td>\n      <td>2023-05-12</td>\n      <td>10:10:00</td>\n      <td>1014.9</td>\n      <td>1118.60</td>\n      <td>1115.3</td>\n      <td>0.00</td>\n      <td>0.41</td>\n      <td>20.26</td>\n      <td>...</td>\n      <td>NaN</td>\n      <td>NaN</td>\n      <td>NaN</td>\n      <td>478.283450</td>\n      <td>2.501422</td>\n      <td>0.000245</td>\n      <td>-0.001722</td>\n      <td>0.017808</td>\n      <td>NaN</td>\n      <td>NaN</td>\n    </tr>\n    <tr>\n      <th>17</th>\n      <td>GT1</td>\n      <td>1</td>\n      <td>2023-05-15</td>\n      <td>09:30:00</td>\n      <td>1012.5</td>\n      <td>1068.20</td>\n      <td>1061.9</td>\n      <td>0.00</td>\n      <td>4.43</td>\n      <td>15.52</td>\n      <td>...</td>\n      <td>0.012409</td>\n      <td>0.012511</td>\n      <td>0.977406</td>\n      <td>4298.806323</td>\n      <td>22.482757</td>\n      <td>0.002203</td>\n      <td>0.001958</td>\n      <td>0.170783</td>\n      <td>1.148188</td>\n      <td>0.967643</td>\n    </tr>\n    <tr>\n      <th>18</th>\n      <td>GT1</td>\n      <td>1</td>\n      <td>2023-05-15</td>\n      <td>10:38:00</td>\n      <td>1012.8</td>\n      <td>1117.10</td>\n      <td>1113.5</td>\n      <td>0.00</td>\n      <td>0.42</td>\n      <td>20.54</td>\n      <td>...</td>\n      <td>NaN</td>\n      <td>NaN</td>\n      <td>NaN</td>\n      <td>482.747196</td>\n      <td>2.524768</td>\n      <td>0.000247</td>\n      <td>-0.001956</td>\n      <td>0.017987</td>\n      <td>NaN</td>\n      <td>NaN</td>\n    </tr>\n    <tr>\n      <th>19</th>\n      <td>GT1</td>\n      <td>1</td>\n      <td>2023-05-17</td>\n      <td>08:52:00</td>\n      <td>1025.0</td>\n      <td>1088.60</td>\n      <td>1086.7</td>\n      <td>0.00</td>\n      <td>3.02</td>\n      <td>18.61</td>\n      <td>...</td>\n      <td>0.013405</td>\n      <td>0.013507</td>\n      <td>1.055204</td>\n      <td>3007.017287</td>\n      <td>15.726700</td>\n      <td>0.001541</td>\n      <td>0.001294</td>\n      <td>0.119059</td>\n      <td>1.174263</td>\n      <td>0.861429</td>\n    </tr>\n    <tr>\n      <th>20</th>\n      <td>GT1</td>\n      <td>1</td>\n      <td>2023-05-17</td>\n      <td>09:57:00</td>\n      <td>1025.6</td>\n      <td>1129.00</td>\n      <td>1125.8</td>\n      <td>0.00</td>\n      <td>0.29</td>\n      <td>20.55</td>\n      <td>...</td>\n      <td>NaN</td>\n      <td>NaN</td>\n      <td>NaN</td>\n      <td>337.362184</td>\n      <td>1.764404</td>\n      <td>0.000173</td>\n      <td>-0.001368</td>\n      <td>0.012166</td>\n      <td>NaN</td>\n      <td>NaN</td>\n    </tr>\n    <tr>\n      <th>21</th>\n      <td>GT1</td>\n      <td>1</td>\n      <td>2023-05-22</td>\n      <td>14:11:00</td>\n      <td>1013.1</td>\n      <td>1074.80</td>\n      <td>1072.5</td>\n      <td>0.00</td>\n      <td>7.08</td>\n      <td>12.54</td>\n      <td>...</td>\n      <td>0.015953</td>\n      <td>0.016056</td>\n      <td>1.254281</td>\n      <td>6799.735502</td>\n      <td>35.562617</td>\n      <td>0.003485</td>\n      <td>0.003312</td>\n      <td>0.270920</td>\n      <td>1.525201</td>\n      <td>0.793507</td>\n    </tr>\n    <tr>\n      <th>22</th>\n      <td>GT1</td>\n      <td>1</td>\n      <td>2023-05-22</td>\n      <td>15:08:00</td>\n      <td>1013.6</td>\n      <td>1112.00</td>\n      <td>1108.6</td>\n      <td>0.00</td>\n      <td>0.64</td>\n      <td>20.31</td>\n      <td>...</td>\n      <td>NaN</td>\n      <td>NaN</td>\n      <td>NaN</td>\n      <td>737.492228</td>\n      <td>3.857084</td>\n      <td>0.000378</td>\n      <td>-0.003107</td>\n      <td>0.028187</td>\n      <td>NaN</td>\n      <td>NaN</td>\n    </tr>\n  </tbody>\n</table>\n<p>23 rows × 48 columns</p>\n</div>"
     },
     "metadata": {},
     "output_type": "display_data"
    }
   ],
   "source": [
    "dict_data_frames = manager.get_dict_panda_data_frames()\n",
    "display(dict_data_frames[\"GT1.1\"])\n",
    "# Set the display options\n",
    "pd.set_option('display.max_rows', None)  # Display all rows\n",
    "pd.set_option('display.max_columns', None)  # Display all columns\n",
    "pd.set_option('display.width', None)  # Automatically adjust the column width to fit the contents"
   ],
   "metadata": {
    "collapsed": false,
    "ExecuteTime": {
     "end_time": "2023-06-08T09:17:33.102171500Z",
     "start_time": "2023-06-08T09:17:33.032333600Z"
    }
   }
  },
  {
   "cell_type": "code",
   "execution_count": 10,
   "outputs": [
    {
     "data": {
      "text/plain": "     Rgas  expTemp  volume_headspace  MM_C  water_volume  dry_mass_sample   \n0  8314.5   293.15             0.961    12         0.098       153.607785  \\\n\n   henryeff_20  \n0      0.00523  ",
      "text/html": "<div>\n<style scoped>\n    .dataframe tbody tr th:only-of-type {\n        vertical-align: middle;\n    }\n\n    .dataframe tbody tr th {\n        vertical-align: top;\n    }\n\n    .dataframe thead th {\n        text-align: right;\n    }\n</style>\n<table border=\"1\" class=\"dataframe\">\n  <thead>\n    <tr style=\"text-align: right;\">\n      <th></th>\n      <th>Rgas</th>\n      <th>expTemp</th>\n      <th>volume_headspace</th>\n      <th>MM_C</th>\n      <th>water_volume</th>\n      <th>dry_mass_sample</th>\n      <th>henryeff_20</th>\n    </tr>\n  </thead>\n  <tbody>\n    <tr>\n      <th>0</th>\n      <td>8314.5</td>\n      <td>293.15</td>\n      <td>0.961</td>\n      <td>12</td>\n      <td>0.098</td>\n      <td>153.607785</td>\n      <td>0.00523</td>\n    </tr>\n  </tbody>\n</table>\n</div>"
     },
     "metadata": {},
     "output_type": "display_data"
    }
   ],
   "source": [
    "dict_constants = manager.get_dict_constants_data_frames()\n",
    "display(dict_constants[\"GT1.1\"])"
   ],
   "metadata": {
    "collapsed": false,
    "ExecuteTime": {
     "end_time": "2023-06-08T09:17:33.103145100Z",
     "start_time": "2023-06-08T09:17:33.077214Z"
    }
   }
  },
  {
   "cell_type": "code",
   "execution_count": 10,
   "outputs": [],
   "source": [],
   "metadata": {
    "collapsed": false,
    "ExecuteTime": {
     "end_time": "2023-06-08T09:17:33.133676800Z",
     "start_time": "2023-06-08T09:17:33.090178300Z"
    }
   }
  }
 ],
 "metadata": {
  "kernelspec": {
   "display_name": "Python 3",
   "language": "python",
   "name": "python3"
  },
  "language_info": {
   "codemirror_mode": {
    "name": "ipython",
    "version": 2
   },
   "file_extension": ".py",
   "mimetype": "text/x-python",
   "name": "python",
   "nbconvert_exporter": "python",
   "pygments_lexer": "ipython2",
   "version": "2.7.6"
  }
 },
 "nbformat": 4,
 "nbformat_minor": 0
}
