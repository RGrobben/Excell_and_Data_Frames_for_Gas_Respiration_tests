{
 "cells": [
  {
   "cell_type": "code",
   "execution_count": null,
   "metadata": {
    "collapsed": true,
    "ExecuteTime": {
     "end_time": "2023-06-08T19:32:46.319668900Z",
     "start_time": "2023-06-08T19:32:46.313944500Z"
    }
   },
   "outputs": [],
   "source": []
  },
  {
   "cell_type": "code",
   "execution_count": 1,
   "outputs": [
    {
     "data": {
      "text/plain": "   DateColumn another\n0  2022-01-01       3\n1  2022-02-01       4\n2  2022-03-01       5\n3    2023-4-5   jajaj",
      "text/html": "<div>\n<style scoped>\n    .dataframe tbody tr th:only-of-type {\n        vertical-align: middle;\n    }\n\n    .dataframe tbody tr th {\n        vertical-align: top;\n    }\n\n    .dataframe thead th {\n        text-align: right;\n    }\n</style>\n<table border=\"1\" class=\"dataframe\">\n  <thead>\n    <tr style=\"text-align: right;\">\n      <th></th>\n      <th>DateColumn</th>\n      <th>another</th>\n    </tr>\n  </thead>\n  <tbody>\n    <tr>\n      <th>0</th>\n      <td>2022-01-01</td>\n      <td>3</td>\n    </tr>\n    <tr>\n      <th>1</th>\n      <td>2022-02-01</td>\n      <td>4</td>\n    </tr>\n    <tr>\n      <th>2</th>\n      <td>2022-03-01</td>\n      <td>5</td>\n    </tr>\n    <tr>\n      <th>3</th>\n      <td>2023-4-5</td>\n      <td>jajaj</td>\n    </tr>\n  </tbody>\n</table>\n</div>"
     },
     "metadata": {},
     "output_type": "display_data"
    }
   ],
   "source": [
    "import pandas as pd\n",
    "# Create a sample DataFrame for testing\n",
    "date_column = \"DateColumn\"\n",
    "another_column = \"another\"\n",
    "data_frame = pd.DataFrame({\n",
    "date_column: ['2022-01-01', '2022-02-01', '2022-03-01', \"2023-4-5\"],\n",
    "another_column: [3, 4, 5, \"jajaj\" ]\n",
    "})\n",
    "\n",
    "display(data_frame)"
   ],
   "metadata": {
    "collapsed": false,
    "ExecuteTime": {
     "end_time": "2023-06-08T19:32:46.892519900Z",
     "start_time": "2023-06-08T19:32:46.328632100Z"
    }
   }
  },
  {
   "cell_type": "code",
   "execution_count": 2,
   "outputs": [],
   "source": [
    "# from datetime import datetime\n",
    "# data_frame[date_column] = pd.to_datetime(datetime[date_column].astype(str))\n",
    "# print(isinstance(data_frame[date_column][0], datetime))\n",
    "# print(isinstance(1, int))\n",
    "#\n",
    "# mask = data_frame[date_column].apply(lambda x: isinstance(x, datetime))"
   ],
   "metadata": {
    "collapsed": false,
    "ExecuteTime": {
     "end_time": "2023-06-08T19:32:46.910250900Z",
     "start_time": "2023-06-08T19:32:46.894953500Z"
    }
   }
  },
  {
   "cell_type": "code",
   "execution_count": 2,
   "outputs": [],
   "source": [],
   "metadata": {
    "collapsed": false,
    "ExecuteTime": {
     "end_time": "2023-06-08T19:32:46.967321800Z",
     "start_time": "2023-06-08T19:32:46.915275300Z"
    }
   }
  },
  {
   "cell_type": "code",
   "execution_count": 2,
   "outputs": [],
   "source": [],
   "metadata": {
    "collapsed": false,
    "ExecuteTime": {
     "end_time": "2023-06-08T19:32:47.030021800Z",
     "start_time": "2023-06-08T19:32:46.927773600Z"
    }
   }
  },
  {
   "cell_type": "code",
   "execution_count": 3,
   "outputs": [
    {
     "name": "stdout",
     "output_type": "stream",
     "text": [
      "   DateColumn another\n",
      "0  2022-01-01       3\n",
      "1  2022-02-01       4\n",
      "2  2022-03-01       5\n",
      "3    2023-4-5   jajaj\n"
     ]
    }
   ],
   "source": [
    "# a = data_frame.index[data_frame[\"another\"] != int][0]\n",
    "# print(a)\n",
    "\n",
    "print(data_frame)"
   ],
   "metadata": {
    "collapsed": false,
    "ExecuteTime": {
     "end_time": "2023-06-08T19:32:47.060286Z",
     "start_time": "2023-06-08T19:32:46.942310500Z"
    }
   }
  },
  {
   "cell_type": "code",
   "execution_count": 18,
   "outputs": [
    {
     "name": "stdout",
     "output_type": "stream",
     "text": [
      "[3]\n"
     ]
    }
   ],
   "source": [
    "# wrong_index = []\n",
    "# invalid_rows = []\n",
    "#\n",
    "# column_in_data_frame_to_be_checked = data_frame[another_column]\n",
    "#\n",
    "# for index, row in column_in_data_frame_to_be_checked.iterrows():\n",
    "#     value = row\n",
    "#     if not isinstance(value, (float, int)):\n",
    "#         invalid_rows.append(index)\n",
    "#\n",
    "# print(invalid_rows)\n",
    "\n",
    "\n",
    "invalid_rows = []\n",
    "\n",
    "column_in_data_frame_to_be_checked = data_frame[another_column]\n",
    "\n",
    "for index in column_in_data_frame_to_be_checked.index:\n",
    "    value = column_in_data_frame_to_be_checked[index]\n",
    "    if not isinstance(value, (float, int)):\n",
    "        invalid_rows.append(index)\n",
    "\n",
    "# Print the indices of invalid rows\n",
    "print(invalid_rows)"
   ],
   "metadata": {
    "collapsed": false,
    "ExecuteTime": {
     "end_time": "2023-06-08T19:40:10.417883800Z",
     "start_time": "2023-06-08T19:40:10.371210300Z"
    }
   }
  },
  {
   "cell_type": "code",
   "execution_count": 5,
   "outputs": [
    {
     "data": {
      "text/plain": "   DateColumn  another\n0       False    False\n1       False    False\n2       False    False\n3       False    False",
      "text/html": "<div>\n<style scoped>\n    .dataframe tbody tr th:only-of-type {\n        vertical-align: middle;\n    }\n\n    .dataframe tbody tr th {\n        vertical-align: top;\n    }\n\n    .dataframe thead th {\n        text-align: right;\n    }\n</style>\n<table border=\"1\" class=\"dataframe\">\n  <thead>\n    <tr style=\"text-align: right;\">\n      <th></th>\n      <th>DateColumn</th>\n      <th>another</th>\n    </tr>\n  </thead>\n  <tbody>\n    <tr>\n      <th>0</th>\n      <td>False</td>\n      <td>False</td>\n    </tr>\n    <tr>\n      <th>1</th>\n      <td>False</td>\n      <td>False</td>\n    </tr>\n    <tr>\n      <th>2</th>\n      <td>False</td>\n      <td>False</td>\n    </tr>\n    <tr>\n      <th>3</th>\n      <td>False</td>\n      <td>False</td>\n    </tr>\n  </tbody>\n</table>\n</div>"
     },
     "execution_count": 5,
     "metadata": {},
     "output_type": "execute_result"
    }
   ],
   "source": [
    "\n",
    "data_frame.isin([float or int])"
   ],
   "metadata": {
    "collapsed": false,
    "ExecuteTime": {
     "end_time": "2023-06-08T19:32:47.207164800Z",
     "start_time": "2023-06-08T19:32:46.997157100Z"
    }
   }
  },
  {
   "cell_type": "code",
   "execution_count": 5,
   "outputs": [],
   "source": [],
   "metadata": {
    "collapsed": false,
    "ExecuteTime": {
     "end_time": "2023-06-08T19:32:47.208161100Z",
     "start_time": "2023-06-08T19:32:47.019415700Z"
    }
   }
  }
 ],
 "metadata": {
  "kernelspec": {
   "display_name": "Python 3",
   "language": "python",
   "name": "python3"
  },
  "language_info": {
   "codemirror_mode": {
    "name": "ipython",
    "version": 2
   },
   "file_extension": ".py",
   "mimetype": "text/x-python",
   "name": "python",
   "nbconvert_exporter": "python",
   "pygments_lexer": "ipython2",
   "version": "2.7.6"
  }
 },
 "nbformat": 4,
 "nbformat_minor": 0
}
