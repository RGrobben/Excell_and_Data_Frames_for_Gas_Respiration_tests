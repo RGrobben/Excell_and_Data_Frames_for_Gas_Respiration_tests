{
 "cells": [
  {
   "cell_type": "code",
   "execution_count": 21,
   "metadata": {
    "collapsed": true,
    "ExecuteTime": {
     "start_time": "2023-06-05T10:46:04.687759Z",
     "end_time": "2023-06-05T10:46:04.708422Z"
    }
   },
   "outputs": [],
   "source": [
    "import xlwings as xw\n",
    "from xlwings import view\n",
    "import pandas as pd"
   ]
  },
  {
   "cell_type": "code",
   "execution_count": 22,
   "outputs": [],
   "source": [
    "path = r\"C:\\Users\\robbe\\Downloads\\Gas_production_KRA_BEP_R.Grobben_plain_data.xlsx\""
   ],
   "metadata": {
    "collapsed": false,
    "ExecuteTime": {
     "start_time": "2023-06-05T10:46:04.961295Z",
     "end_time": "2023-06-05T10:46:04.976049Z"
    }
   }
  },
  {
   "cell_type": "code",
   "execution_count": 23,
   "outputs": [],
   "source": [
    "wb = xw.Book(fullname=path)"
   ],
   "metadata": {
    "collapsed": false,
    "ExecuteTime": {
     "start_time": "2023-06-05T10:46:05.133801Z",
     "end_time": "2023-06-05T10:46:05.172642Z"
    }
   }
  },
  {
   "cell_type": "code",
   "execution_count": 24,
   "outputs": [
    {
     "data": {
      "text/plain": "<Book [Gas_production_KRA_BEP_R.Grobben_plain_data.xlsx]>"
     },
     "execution_count": 24,
     "metadata": {},
     "output_type": "execute_result"
    }
   ],
   "source": [
    "wb #as you can see it is an opject"
   ],
   "metadata": {
    "collapsed": false,
    "ExecuteTime": {
     "start_time": "2023-06-05T10:46:05.294424Z",
     "end_time": "2023-06-05T10:46:05.316795Z"
    }
   }
  },
  {
   "cell_type": "code",
   "execution_count": 25,
   "outputs": [],
   "source": [
    "sheet_names = wb.sheet_names"
   ],
   "metadata": {
    "collapsed": false,
    "ExecuteTime": {
     "start_time": "2023-06-05T10:46:05.467919Z",
     "end_time": "2023-06-05T10:46:05.543054Z"
    }
   }
  },
  {
   "cell_type": "code",
   "execution_count": 26,
   "outputs": [],
   "source": [
    "sheet_sample_GT1_1 = wb.sheets[\"GT1.1\"]\n",
    "column_names = ['Sample ID', 'Parallel', 'Date', 'Time', 'P atm', 'P sample before gc', 'P sample after gc', 'CH4', 'CO2', 'O2', 'N2', 'Flush (1=yes; 0=no)', 'Comments', 'GC method', 'Weight', 'Date + Time', 'Day', 'Sum', 'CH4-corr', 'CO2-corr', 'O2-corr', 'N2-corr', 'Sum-corr', 'mg_bs', 'mCO2_b', 'mCH4_b', 'mO2_b', 'mN2_b', 'mCTot_b', 'mg_as', 'mCO2_a', 'mCH4_a', 'mO2_a', 'mN2_a', 'mCTot_a', 'mCTot_produced', 'O2 consumed', 'CO2 produced', 'O2 consumed_cum', 'CO2 produced_cum', 'mCTot_produced_cum', 'Cgas_DM_cum', 'PP CO2_b', 'CO2_aq [mol/m3]', 'CO2_aq [mol]', 'CO2_produced_aq', 'DIC_cum', 'Ctot_DM', 'Ratio O2/CO2']\n",
    "\n",
    "basic_column_names = ['Sample ID', 'Parallel', 'Date', 'Time', 'P atm', 'P sample before gc', 'P sample after gc', 'CH4', 'CO2', 'O2', 'N2', 'Flush (1=yes; 0=no)', 'Comments', 'GC method', 'Weight']\n"
   ],
   "metadata": {
    "collapsed": false,
    "ExecuteTime": {
     "start_time": "2023-06-05T10:46:05.850334Z",
     "end_time": "2023-06-05T10:46:05.874353Z"
    }
   }
  },
  {
   "cell_type": "code",
   "execution_count": 27,
   "outputs": [
    {
     "data": {
      "text/plain": "   Sample ID  Parallel       Date      Time   P atm  P sample before gc   \n0        GT1       1.0 2023-04-24  0.430556  1002.3               962.2  \\\n1        GT1       1.0 2023-04-24  0.475694  1003.3              1104.6   \n2        GT1       1.0 2023-04-26  0.369444  1017.0               954.0   \n3        GT1       1.0 2023-04-26  0.411806  1017.2              1120.8   \n4        GT1       1.0 2023-04-28  0.406250  1006.8              1029.2   \n5        GT1       1.0 2023-05-01  0.576389  1013.1              1042.7   \n6        GT1       1.0 2023-05-01  0.617361  1013.3              1114.6   \n7        GT1       1.0 2023-05-04  0.393056  1017.9              1050.6   \n8        GT1       1.0 2023-05-04  0.448611  1017.2              1122.1   \n9        GT1       1.0 2023-05-08  0.361111  1018.7              1037.5   \n10       GT1       1.0 2023-05-08  0.407639  1018.7              1123.2   \n11       GT1       1.0 2023-05-10  0.399306  1007.5              1073.0   \n12       GT1       1.0 2023-05-10  0.444444  1008.0              1112.4   \n13       GT1       1.0 2023-05-12  0.381250  1014.4              1068.8   \n14       GT1       1.0 2023-05-12  0.423611  1014.9              1118.6   \n15       GT1       1.0 2023-05-15  0.395833  1012.5              1068.2   \n16       GT1       1.0 2023-05-15  0.443056  1012.8              1117.1   \n17       GT1       1.0 2023-05-17  0.369444  1025.0              1088.6   \n18       GT1       1.0 2023-05-17  0.414583  1025.6              1129.0   \n19       GT1       1.0 2023-05-22  0.590972  1013.1              1074.8   \n20       GT1       1.0 2023-05-22  0.630556  1013.6              1112.0   \n21       GT1       1.0 2023-05-22  0.630556  1013.6              1112.0   \n\n    P sample after gc   CH4   CO2     O2  ...  CO2 produced_cum   \n0               959.8  0.25  2.41   1.59  ...              None  \\\n1              1085.8  0.00  0.74  19.79  ...              None   \n2               951.0  0.03  2.72   8.46  ...              None   \n3              1105.6  0.00  0.63  20.51  ...              None   \n4              1025.8  0.00  4.52  11.77  ...              None   \n5              1039.9  0.00  5.74   9.74  ...              None   \n6              1110.6  0.00  0.78  20.50  ...              None   \n7              1046.6  0.00  5.34  12.97  ...              None   \n8              1119.1  0.00  0.50  20.32  ...              None   \n9              1035.2  0.00  6.98   8.07  ...              None   \n10             1120.3  0.00  0.57  20.11  ...              None   \n11             1070.6  0.00  4.77  15.79  ...              None   \n12             1109.9  0.00  0.40  20.24  ...              None   \n13             1066.2  0.00  3.70  15.45  ...              None   \n14             1115.3  0.00  0.41  20.26  ...              None   \n15             1061.9  0.00  4.43  15.52  ...              None   \n16             1113.5  0.00  0.42  20.54  ...              None   \n17             1086.7  0.00  3.02  18.61  ...              None   \n18             1125.8  0.00  0.29  20.55  ...              None   \n19             1072.5  0.00  7.08  12.54  ...              None   \n20             1108.6  0.00  0.64  20.31  ...              None   \n21             1108.6  0.00  0.64  20.31  ...              None   \n\n    mCTot_produced_cum Cgas_DM_cum PP CO2_b  CO2_aq [mol/m3] CO2_aq [mol]   \n0                 None        None     None             None         None  \\\n1                 None        None     None             None         None   \n2                 None        None     None             None         None   \n3                 None        None     None             None         None   \n4                 None        None     None             None         None   \n5                 None        None     None             None         None   \n6                 None        None     None             None         None   \n7                 None        None     None             None         None   \n8                 None        None     None             None         None   \n9                 None        None     None             None         None   \n10                None        None     None             None         None   \n11                None        None     None             None         None   \n12                None        None     None             None         None   \n13                None        None     None             None         None   \n14                None        None     None             None         None   \n15                None        None     None             None         None   \n16                None        None     None             None         None   \n17                None        None     None             None         None   \n18                None        None     None             None         None   \n19                None        None     None             None         None   \n20                None        None     None             None         None   \n21                None        None     None             None         None   \n\n   CO2_produced_aq DIC_cum Ctot_DM Ratio O2/CO2  \n0             None    None    None         None  \n1             None    None    None         None  \n2             None    None    None         None  \n3             None    None    None         None  \n4             None    None    None         None  \n5             None    None    None         None  \n6             None    None    None         None  \n7             None    None    None         None  \n8             None    None    None         None  \n9             None    None    None         None  \n10            None    None    None         None  \n11            None    None    None         None  \n12            None    None    None         None  \n13            None    None    None         None  \n14            None    None    None         None  \n15            None    None    None         None  \n16            None    None    None         None  \n17            None    None    None         None  \n18            None    None    None         None  \n19            None    None    None         None  \n20            None    None    None         None  \n21            None    None    None         None  \n\n[22 rows x 49 columns]",
      "text/html": "<div>\n<style scoped>\n    .dataframe tbody tr th:only-of-type {\n        vertical-align: middle;\n    }\n\n    .dataframe tbody tr th {\n        vertical-align: top;\n    }\n\n    .dataframe thead th {\n        text-align: right;\n    }\n</style>\n<table border=\"1\" class=\"dataframe\">\n  <thead>\n    <tr style=\"text-align: right;\">\n      <th></th>\n      <th>Sample ID</th>\n      <th>Parallel</th>\n      <th>Date</th>\n      <th>Time</th>\n      <th>P atm</th>\n      <th>P sample before gc</th>\n      <th>P sample after gc</th>\n      <th>CH4</th>\n      <th>CO2</th>\n      <th>O2</th>\n      <th>...</th>\n      <th>CO2 produced_cum</th>\n      <th>mCTot_produced_cum</th>\n      <th>Cgas_DM_cum</th>\n      <th>PP CO2_b</th>\n      <th>CO2_aq [mol/m3]</th>\n      <th>CO2_aq [mol]</th>\n      <th>CO2_produced_aq</th>\n      <th>DIC_cum</th>\n      <th>Ctot_DM</th>\n      <th>Ratio O2/CO2</th>\n    </tr>\n  </thead>\n  <tbody>\n    <tr>\n      <th>0</th>\n      <td>GT1</td>\n      <td>1.0</td>\n      <td>2023-04-24</td>\n      <td>0.430556</td>\n      <td>1002.3</td>\n      <td>962.2</td>\n      <td>959.8</td>\n      <td>0.25</td>\n      <td>2.41</td>\n      <td>1.59</td>\n      <td>...</td>\n      <td>None</td>\n      <td>None</td>\n      <td>None</td>\n      <td>None</td>\n      <td>None</td>\n      <td>None</td>\n      <td>None</td>\n      <td>None</td>\n      <td>None</td>\n      <td>None</td>\n    </tr>\n    <tr>\n      <th>1</th>\n      <td>GT1</td>\n      <td>1.0</td>\n      <td>2023-04-24</td>\n      <td>0.475694</td>\n      <td>1003.3</td>\n      <td>1104.6</td>\n      <td>1085.8</td>\n      <td>0.00</td>\n      <td>0.74</td>\n      <td>19.79</td>\n      <td>...</td>\n      <td>None</td>\n      <td>None</td>\n      <td>None</td>\n      <td>None</td>\n      <td>None</td>\n      <td>None</td>\n      <td>None</td>\n      <td>None</td>\n      <td>None</td>\n      <td>None</td>\n    </tr>\n    <tr>\n      <th>2</th>\n      <td>GT1</td>\n      <td>1.0</td>\n      <td>2023-04-26</td>\n      <td>0.369444</td>\n      <td>1017.0</td>\n      <td>954.0</td>\n      <td>951.0</td>\n      <td>0.03</td>\n      <td>2.72</td>\n      <td>8.46</td>\n      <td>...</td>\n      <td>None</td>\n      <td>None</td>\n      <td>None</td>\n      <td>None</td>\n      <td>None</td>\n      <td>None</td>\n      <td>None</td>\n      <td>None</td>\n      <td>None</td>\n      <td>None</td>\n    </tr>\n    <tr>\n      <th>3</th>\n      <td>GT1</td>\n      <td>1.0</td>\n      <td>2023-04-26</td>\n      <td>0.411806</td>\n      <td>1017.2</td>\n      <td>1120.8</td>\n      <td>1105.6</td>\n      <td>0.00</td>\n      <td>0.63</td>\n      <td>20.51</td>\n      <td>...</td>\n      <td>None</td>\n      <td>None</td>\n      <td>None</td>\n      <td>None</td>\n      <td>None</td>\n      <td>None</td>\n      <td>None</td>\n      <td>None</td>\n      <td>None</td>\n      <td>None</td>\n    </tr>\n    <tr>\n      <th>4</th>\n      <td>GT1</td>\n      <td>1.0</td>\n      <td>2023-04-28</td>\n      <td>0.406250</td>\n      <td>1006.8</td>\n      <td>1029.2</td>\n      <td>1025.8</td>\n      <td>0.00</td>\n      <td>4.52</td>\n      <td>11.77</td>\n      <td>...</td>\n      <td>None</td>\n      <td>None</td>\n      <td>None</td>\n      <td>None</td>\n      <td>None</td>\n      <td>None</td>\n      <td>None</td>\n      <td>None</td>\n      <td>None</td>\n      <td>None</td>\n    </tr>\n    <tr>\n      <th>5</th>\n      <td>GT1</td>\n      <td>1.0</td>\n      <td>2023-05-01</td>\n      <td>0.576389</td>\n      <td>1013.1</td>\n      <td>1042.7</td>\n      <td>1039.9</td>\n      <td>0.00</td>\n      <td>5.74</td>\n      <td>9.74</td>\n      <td>...</td>\n      <td>None</td>\n      <td>None</td>\n      <td>None</td>\n      <td>None</td>\n      <td>None</td>\n      <td>None</td>\n      <td>None</td>\n      <td>None</td>\n      <td>None</td>\n      <td>None</td>\n    </tr>\n    <tr>\n      <th>6</th>\n      <td>GT1</td>\n      <td>1.0</td>\n      <td>2023-05-01</td>\n      <td>0.617361</td>\n      <td>1013.3</td>\n      <td>1114.6</td>\n      <td>1110.6</td>\n      <td>0.00</td>\n      <td>0.78</td>\n      <td>20.50</td>\n      <td>...</td>\n      <td>None</td>\n      <td>None</td>\n      <td>None</td>\n      <td>None</td>\n      <td>None</td>\n      <td>None</td>\n      <td>None</td>\n      <td>None</td>\n      <td>None</td>\n      <td>None</td>\n    </tr>\n    <tr>\n      <th>7</th>\n      <td>GT1</td>\n      <td>1.0</td>\n      <td>2023-05-04</td>\n      <td>0.393056</td>\n      <td>1017.9</td>\n      <td>1050.6</td>\n      <td>1046.6</td>\n      <td>0.00</td>\n      <td>5.34</td>\n      <td>12.97</td>\n      <td>...</td>\n      <td>None</td>\n      <td>None</td>\n      <td>None</td>\n      <td>None</td>\n      <td>None</td>\n      <td>None</td>\n      <td>None</td>\n      <td>None</td>\n      <td>None</td>\n      <td>None</td>\n    </tr>\n    <tr>\n      <th>8</th>\n      <td>GT1</td>\n      <td>1.0</td>\n      <td>2023-05-04</td>\n      <td>0.448611</td>\n      <td>1017.2</td>\n      <td>1122.1</td>\n      <td>1119.1</td>\n      <td>0.00</td>\n      <td>0.50</td>\n      <td>20.32</td>\n      <td>...</td>\n      <td>None</td>\n      <td>None</td>\n      <td>None</td>\n      <td>None</td>\n      <td>None</td>\n      <td>None</td>\n      <td>None</td>\n      <td>None</td>\n      <td>None</td>\n      <td>None</td>\n    </tr>\n    <tr>\n      <th>9</th>\n      <td>GT1</td>\n      <td>1.0</td>\n      <td>2023-05-08</td>\n      <td>0.361111</td>\n      <td>1018.7</td>\n      <td>1037.5</td>\n      <td>1035.2</td>\n      <td>0.00</td>\n      <td>6.98</td>\n      <td>8.07</td>\n      <td>...</td>\n      <td>None</td>\n      <td>None</td>\n      <td>None</td>\n      <td>None</td>\n      <td>None</td>\n      <td>None</td>\n      <td>None</td>\n      <td>None</td>\n      <td>None</td>\n      <td>None</td>\n    </tr>\n    <tr>\n      <th>10</th>\n      <td>GT1</td>\n      <td>1.0</td>\n      <td>2023-05-08</td>\n      <td>0.407639</td>\n      <td>1018.7</td>\n      <td>1123.2</td>\n      <td>1120.3</td>\n      <td>0.00</td>\n      <td>0.57</td>\n      <td>20.11</td>\n      <td>...</td>\n      <td>None</td>\n      <td>None</td>\n      <td>None</td>\n      <td>None</td>\n      <td>None</td>\n      <td>None</td>\n      <td>None</td>\n      <td>None</td>\n      <td>None</td>\n      <td>None</td>\n    </tr>\n    <tr>\n      <th>11</th>\n      <td>GT1</td>\n      <td>1.0</td>\n      <td>2023-05-10</td>\n      <td>0.399306</td>\n      <td>1007.5</td>\n      <td>1073.0</td>\n      <td>1070.6</td>\n      <td>0.00</td>\n      <td>4.77</td>\n      <td>15.79</td>\n      <td>...</td>\n      <td>None</td>\n      <td>None</td>\n      <td>None</td>\n      <td>None</td>\n      <td>None</td>\n      <td>None</td>\n      <td>None</td>\n      <td>None</td>\n      <td>None</td>\n      <td>None</td>\n    </tr>\n    <tr>\n      <th>12</th>\n      <td>GT1</td>\n      <td>1.0</td>\n      <td>2023-05-10</td>\n      <td>0.444444</td>\n      <td>1008.0</td>\n      <td>1112.4</td>\n      <td>1109.9</td>\n      <td>0.00</td>\n      <td>0.40</td>\n      <td>20.24</td>\n      <td>...</td>\n      <td>None</td>\n      <td>None</td>\n      <td>None</td>\n      <td>None</td>\n      <td>None</td>\n      <td>None</td>\n      <td>None</td>\n      <td>None</td>\n      <td>None</td>\n      <td>None</td>\n    </tr>\n    <tr>\n      <th>13</th>\n      <td>GT1</td>\n      <td>1.0</td>\n      <td>2023-05-12</td>\n      <td>0.381250</td>\n      <td>1014.4</td>\n      <td>1068.8</td>\n      <td>1066.2</td>\n      <td>0.00</td>\n      <td>3.70</td>\n      <td>15.45</td>\n      <td>...</td>\n      <td>None</td>\n      <td>None</td>\n      <td>None</td>\n      <td>None</td>\n      <td>None</td>\n      <td>None</td>\n      <td>None</td>\n      <td>None</td>\n      <td>None</td>\n      <td>None</td>\n    </tr>\n    <tr>\n      <th>14</th>\n      <td>GT1</td>\n      <td>1.0</td>\n      <td>2023-05-12</td>\n      <td>0.423611</td>\n      <td>1014.9</td>\n      <td>1118.6</td>\n      <td>1115.3</td>\n      <td>0.00</td>\n      <td>0.41</td>\n      <td>20.26</td>\n      <td>...</td>\n      <td>None</td>\n      <td>None</td>\n      <td>None</td>\n      <td>None</td>\n      <td>None</td>\n      <td>None</td>\n      <td>None</td>\n      <td>None</td>\n      <td>None</td>\n      <td>None</td>\n    </tr>\n    <tr>\n      <th>15</th>\n      <td>GT1</td>\n      <td>1.0</td>\n      <td>2023-05-15</td>\n      <td>0.395833</td>\n      <td>1012.5</td>\n      <td>1068.2</td>\n      <td>1061.9</td>\n      <td>0.00</td>\n      <td>4.43</td>\n      <td>15.52</td>\n      <td>...</td>\n      <td>None</td>\n      <td>None</td>\n      <td>None</td>\n      <td>None</td>\n      <td>None</td>\n      <td>None</td>\n      <td>None</td>\n      <td>None</td>\n      <td>None</td>\n      <td>None</td>\n    </tr>\n    <tr>\n      <th>16</th>\n      <td>GT1</td>\n      <td>1.0</td>\n      <td>2023-05-15</td>\n      <td>0.443056</td>\n      <td>1012.8</td>\n      <td>1117.1</td>\n      <td>1113.5</td>\n      <td>0.00</td>\n      <td>0.42</td>\n      <td>20.54</td>\n      <td>...</td>\n      <td>None</td>\n      <td>None</td>\n      <td>None</td>\n      <td>None</td>\n      <td>None</td>\n      <td>None</td>\n      <td>None</td>\n      <td>None</td>\n      <td>None</td>\n      <td>None</td>\n    </tr>\n    <tr>\n      <th>17</th>\n      <td>GT1</td>\n      <td>1.0</td>\n      <td>2023-05-17</td>\n      <td>0.369444</td>\n      <td>1025.0</td>\n      <td>1088.6</td>\n      <td>1086.7</td>\n      <td>0.00</td>\n      <td>3.02</td>\n      <td>18.61</td>\n      <td>...</td>\n      <td>None</td>\n      <td>None</td>\n      <td>None</td>\n      <td>None</td>\n      <td>None</td>\n      <td>None</td>\n      <td>None</td>\n      <td>None</td>\n      <td>None</td>\n      <td>None</td>\n    </tr>\n    <tr>\n      <th>18</th>\n      <td>GT1</td>\n      <td>1.0</td>\n      <td>2023-05-17</td>\n      <td>0.414583</td>\n      <td>1025.6</td>\n      <td>1129.0</td>\n      <td>1125.8</td>\n      <td>0.00</td>\n      <td>0.29</td>\n      <td>20.55</td>\n      <td>...</td>\n      <td>None</td>\n      <td>None</td>\n      <td>None</td>\n      <td>None</td>\n      <td>None</td>\n      <td>None</td>\n      <td>None</td>\n      <td>None</td>\n      <td>None</td>\n      <td>None</td>\n    </tr>\n    <tr>\n      <th>19</th>\n      <td>GT1</td>\n      <td>1.0</td>\n      <td>2023-05-22</td>\n      <td>0.590972</td>\n      <td>1013.1</td>\n      <td>1074.8</td>\n      <td>1072.5</td>\n      <td>0.00</td>\n      <td>7.08</td>\n      <td>12.54</td>\n      <td>...</td>\n      <td>None</td>\n      <td>None</td>\n      <td>None</td>\n      <td>None</td>\n      <td>None</td>\n      <td>None</td>\n      <td>None</td>\n      <td>None</td>\n      <td>None</td>\n      <td>None</td>\n    </tr>\n    <tr>\n      <th>20</th>\n      <td>GT1</td>\n      <td>1.0</td>\n      <td>2023-05-22</td>\n      <td>0.630556</td>\n      <td>1013.6</td>\n      <td>1112.0</td>\n      <td>1108.6</td>\n      <td>0.00</td>\n      <td>0.64</td>\n      <td>20.31</td>\n      <td>...</td>\n      <td>None</td>\n      <td>None</td>\n      <td>None</td>\n      <td>None</td>\n      <td>None</td>\n      <td>None</td>\n      <td>None</td>\n      <td>None</td>\n      <td>None</td>\n      <td>None</td>\n    </tr>\n    <tr>\n      <th>21</th>\n      <td>GT1</td>\n      <td>1.0</td>\n      <td>2023-05-22</td>\n      <td>0.630556</td>\n      <td>1013.6</td>\n      <td>1112.0</td>\n      <td>1108.6</td>\n      <td>0.00</td>\n      <td>0.64</td>\n      <td>20.31</td>\n      <td>...</td>\n      <td>None</td>\n      <td>None</td>\n      <td>None</td>\n      <td>None</td>\n      <td>None</td>\n      <td>None</td>\n      <td>None</td>\n      <td>None</td>\n      <td>None</td>\n      <td>None</td>\n    </tr>\n  </tbody>\n</table>\n<p>22 rows × 49 columns</p>\n</div>"
     },
     "metadata": {},
     "output_type": "display_data"
    }
   ],
   "source": [
    "data_frame = sheet_sample_GT1_1[\"A13:AW35\"].options(pd.DataFrame, index=False).value\n",
    "data_frame.columns = column_names\n",
    "display(data_frame)"
   ],
   "metadata": {
    "collapsed": false,
    "ExecuteTime": {
     "start_time": "2023-06-05T10:46:06.079353Z",
     "end_time": "2023-06-05T10:46:06.141473Z"
    }
   }
  },
  {
   "cell_type": "code",
   "execution_count": 45,
   "outputs": [],
   "source": [],
   "metadata": {
    "collapsed": false,
    "ExecuteTime": {
     "start_time": "2023-06-05T11:13:00.423384Z",
     "end_time": "2023-06-05T11:13:00.476653Z"
    }
   }
  }
 ],
 "metadata": {
  "kernelspec": {
   "display_name": "Python 3",
   "language": "python",
   "name": "python3"
  },
  "language_info": {
   "codemirror_mode": {
    "name": "ipython",
    "version": 2
   },
   "file_extension": ".py",
   "mimetype": "text/x-python",
   "name": "python",
   "nbconvert_exporter": "python",
   "pygments_lexer": "ipython2",
   "version": "2.7.6"
  }
 },
 "nbformat": 4,
 "nbformat_minor": 0
}
