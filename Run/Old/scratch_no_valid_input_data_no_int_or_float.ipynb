{
 "cells": [
  {
   "cell_type": "code",
   "execution_count": 1,
   "metadata": {
    "collapsed": true,
    "ExecuteTime": {
     "end_time": "2023-06-15T11:28:53.815162900Z",
     "start_time": "2023-06-15T11:28:53.229949900Z"
    }
   },
   "outputs": [],
   "source": [
    "# from data_classes import OwnColors, FillType\n",
    "from excel_manager import ExcelManager\n",
    "from nice_functions import NiceExcelFunction\n",
    "from validation_input_data.validate_input_data import validate_if_all_cells_are_correctly_filled\n"
   ]
  },
  {
   "cell_type": "code",
   "execution_count": 2,
   "outputs": [],
   "source": [
    "\n",
    "path = r\"C:\\Users\\robbe\\Downloads\\python\\checking validate input sheets\\python_plain_data_wrong_input_cells_like_no_float_or_int - Copy.xlsx\""
   ],
   "metadata": {
    "collapsed": false,
    "ExecuteTime": {
     "end_time": "2023-06-15T11:28:53.830521500Z",
     "start_time": "2023-06-15T11:28:53.816620300Z"
    }
   }
  },
  {
   "cell_type": "code",
   "execution_count": 3,
   "outputs": [
    {
     "name": "stdout",
     "output_type": "stream",
     "text": [
      "['GT1.1', 'GT1.2', 'GT2.1', 'GT2.2']\n"
     ]
    }
   ],
   "source": [
    "#make instance of excel manger\n",
    "manager = ExcelManager(path)\n",
    "\n",
    "# load the workbook in\n",
    "manager.load_workbook()\n",
    "\n",
    "# check the sheet names\n",
    "sheet_names = manager.get_sheet_names()\n",
    "print(sheet_names)"
   ],
   "metadata": {
    "collapsed": false,
    "ExecuteTime": {
     "end_time": "2023-06-15T11:28:53.970152100Z",
     "start_time": "2023-06-15T11:28:53.832517600Z"
    }
   }
  },
  {
   "cell_type": "code",
   "execution_count": 4,
   "outputs": [
    {
     "ename": "TypeError",
     "evalue": "must be called with a dataclass type or instance",
     "output_type": "error",
     "traceback": [
      "\u001B[1;31m---------------------------------------------------------------------------\u001B[0m",
      "\u001B[1;31mAttributeError\u001B[0m                            Traceback (most recent call last)",
      "File \u001B[1;32m~\\AppData\\Local\\Programs\\Python\\Python310\\lib\\dataclasses.py:1197\u001B[0m, in \u001B[0;36mfields\u001B[1;34m(class_or_instance)\u001B[0m\n\u001B[0;32m   1196\u001B[0m \u001B[38;5;28;01mtry\u001B[39;00m:\n\u001B[1;32m-> 1197\u001B[0m     fields \u001B[38;5;241m=\u001B[39m \u001B[38;5;28;43mgetattr\u001B[39;49m\u001B[43m(\u001B[49m\u001B[43mclass_or_instance\u001B[49m\u001B[43m,\u001B[49m\u001B[43m \u001B[49m\u001B[43m_FIELDS\u001B[49m\u001B[43m)\u001B[49m\n\u001B[0;32m   1198\u001B[0m \u001B[38;5;28;01mexcept\u001B[39;00m \u001B[38;5;167;01mAttributeError\u001B[39;00m:\n",
      "\u001B[1;31mAttributeError\u001B[0m: type object 'ConstantsSample' has no attribute '__dataclass_fields__'",
      "\nDuring handling of the above exception, another exception occurred:\n",
      "\u001B[1;31mTypeError\u001B[0m                                 Traceback (most recent call last)",
      "Cell \u001B[1;32mIn[4], line 7\u001B[0m\n\u001B[0;32m      3\u001B[0m \u001B[38;5;28;01mfor\u001B[39;00m sheet_name \u001B[38;5;129;01min\u001B[39;00m sheet_names_samples:\n\u001B[0;32m      4\u001B[0m     \u001B[38;5;66;03m# loading the panda data frame for the sample\u001B[39;00m\n\u001B[0;32m      5\u001B[0m     constants_data_frame \u001B[38;5;241m=\u001B[39m manager\u001B[38;5;241m.\u001B[39mload_constants_as_data_frame(sheet_name\u001B[38;5;241m=\u001B[39msheet_name, start_row\u001B[38;5;241m=\u001B[39m\u001B[38;5;241m1\u001B[39m, end_row\u001B[38;5;241m=\u001B[39m\u001B[38;5;241m7\u001B[39m, start_col\u001B[38;5;241m=\u001B[39m\u001B[38;5;241m3\u001B[39m)\n\u001B[1;32m----> 7\u001B[0m     constants_data_class \u001B[38;5;241m=\u001B[39m \u001B[43mmanager\u001B[49m\u001B[38;5;241;43m.\u001B[39;49m\u001B[43mload_constants_as_data_class\u001B[49m\u001B[43m(\u001B[49m\u001B[43msheet_name\u001B[49m\u001B[38;5;241;43m=\u001B[39;49m\u001B[43msheet_name\u001B[49m\u001B[43m,\u001B[49m\u001B[43m \u001B[49m\u001B[43mstart_row\u001B[49m\u001B[38;5;241;43m=\u001B[39;49m\u001B[38;5;241;43m1\u001B[39;49m\u001B[43m,\u001B[49m\u001B[43m \u001B[49m\u001B[43mend_row\u001B[49m\u001B[38;5;241;43m=\u001B[39;49m\u001B[38;5;241;43m7\u001B[39;49m\u001B[43m,\u001B[49m\u001B[43m \u001B[49m\u001B[43mstart_col\u001B[49m\u001B[38;5;241;43m=\u001B[39;49m\u001B[38;5;241;43m3\u001B[39;49m\u001B[43m)\u001B[49m\n\u001B[0;32m      9\u001B[0m     \u001B[38;5;66;03m# fill the dictionary\u001B[39;00m\n\u001B[0;32m     10\u001B[0m     manager\u001B[38;5;241m.\u001B[39mfill_dict_constants_data_frames(data_frame\u001B[38;5;241m=\u001B[39mconstants_data_frame, sheets\u001B[38;5;241m=\u001B[39m[sheet_name])\n",
      "File \u001B[1;32m~\\Desktop\\Q4 2022-2023\\Bachelor Eind Werk\\Geotechnical\\Python-tool\\openpyxl Code\\excel_manager.py:253\u001B[0m, in \u001B[0;36mExcelManager.load_constants_as_data_class\u001B[1;34m(self, sheet_name, start_row, start_col, end_row, values_only, data_only)\u001B[0m\n\u001B[0;32m    250\u001B[0m data_class_instance \u001B[38;5;241m=\u001B[39m ConstantsSample\n\u001B[0;32m    252\u001B[0m \u001B[38;5;66;03m# Assign the constants to the data class fields\u001B[39;00m\n\u001B[1;32m--> 253\u001B[0m \u001B[38;5;28;01mfor\u001B[39;00m field \u001B[38;5;129;01min\u001B[39;00m \u001B[43mdataclasses\u001B[49m\u001B[38;5;241;43m.\u001B[39;49m\u001B[43mfields\u001B[49m\u001B[43m(\u001B[49m\u001B[43mdata_class_instance\u001B[49m\u001B[43m)\u001B[49m:\n\u001B[0;32m    254\u001B[0m     \u001B[38;5;28;01mif\u001B[39;00m field\u001B[38;5;241m.\u001B[39mname \u001B[38;5;129;01min\u001B[39;00m constants_dict:\n\u001B[0;32m    255\u001B[0m         \u001B[38;5;28msetattr\u001B[39m(data_class_instance, field\u001B[38;5;241m.\u001B[39mname, constants_dict[field\u001B[38;5;241m.\u001B[39mname])\n",
      "File \u001B[1;32m~\\AppData\\Local\\Programs\\Python\\Python310\\lib\\dataclasses.py:1199\u001B[0m, in \u001B[0;36mfields\u001B[1;34m(class_or_instance)\u001B[0m\n\u001B[0;32m   1197\u001B[0m     fields \u001B[38;5;241m=\u001B[39m \u001B[38;5;28mgetattr\u001B[39m(class_or_instance, _FIELDS)\n\u001B[0;32m   1198\u001B[0m \u001B[38;5;28;01mexcept\u001B[39;00m \u001B[38;5;167;01mAttributeError\u001B[39;00m:\n\u001B[1;32m-> 1199\u001B[0m     \u001B[38;5;28;01mraise\u001B[39;00m \u001B[38;5;167;01mTypeError\u001B[39;00m(\u001B[38;5;124m'\u001B[39m\u001B[38;5;124mmust be called with a dataclass type or instance\u001B[39m\u001B[38;5;124m'\u001B[39m)\n\u001B[0;32m   1201\u001B[0m \u001B[38;5;66;03m# Exclude pseudo-fields.  Note that fields is sorted by insertion\u001B[39;00m\n\u001B[0;32m   1202\u001B[0m \u001B[38;5;66;03m# order, so the order of the tuple is as the fields were defined.\u001B[39;00m\n\u001B[0;32m   1203\u001B[0m \u001B[38;5;28;01mreturn\u001B[39;00m \u001B[38;5;28mtuple\u001B[39m(f \u001B[38;5;28;01mfor\u001B[39;00m f \u001B[38;5;129;01min\u001B[39;00m fields\u001B[38;5;241m.\u001B[39mvalues() \u001B[38;5;28;01mif\u001B[39;00m f\u001B[38;5;241m.\u001B[39m_field_type \u001B[38;5;129;01mis\u001B[39;00m _FIELD)\n",
      "\u001B[1;31mTypeError\u001B[0m: must be called with a dataclass type or instance"
     ]
    }
   ],
   "source": [
    "# fil in the dict with constants for the samples\n",
    "sheet_names_samples = manager.get_sheet_names()\n",
    "for sheet_name in sheet_names_samples:\n",
    "    # loading the panda data frame for the sample\n",
    "    constants_data_frame = manager.load_constants_as_data_frame(sheet_name=sheet_name, start_row=1, end_row=7, start_col=3)\n",
    "\n",
    "    constants_data_class = manager.load_constants_as_data_class(sheet_name=sheet_name, start_row=1, end_row=7, start_col=3)\n",
    "\n",
    "    # fill the dictionary\n",
    "    manager.fill_dict_constants_data_frames(data_frame=constants_data_frame, sheets=[sheet_name])\n",
    "\n",
    "    manager.fill_dict_constants_data_classes(data_class=constants_data_class, sheets=[sheet_name])\n",
    "\n",
    "    print(f\"loading {sheet_name} is done\")\n",
    "\n",
    "dict_constants = manager.get_dict_constants_data_frames()\n",
    "dict_constants_data_classes = manager.get_dict_constants_data_classes()\n",
    "print(dict_constants_data_classes)"
   ],
   "metadata": {
    "collapsed": false,
    "ExecuteTime": {
     "end_time": "2023-06-15T11:28:54.490880500Z",
     "start_time": "2023-06-15T11:28:53.975172Z"
    }
   }
  },
  {
   "cell_type": "code",
   "execution_count": null,
   "outputs": [],
   "source": [
    "start_row_table = 13\n",
    "column_end = NiceExcelFunction.get_column_index_from_letter(column_letter=\"O\")\n",
    "\n",
    "\n",
    "sheet_names_samples = sheet_names[:]\n",
    "for sheet_name in sheet_names_samples:\n",
    "    print(f\"started with sheet: {sheet_name}\")\n",
    "    # loading the data frame\n",
    "    data_frame = manager.load_sheet_table(sheet_name=sheet_name, start_row=start_row_table, end_column=column_end)\n",
    "\n",
    "    manager.fill_dict_panda_data_frames(data_frame=data_frame, sheets=[sheet_name])"
   ],
   "metadata": {
    "collapsed": false
   }
  },
  {
   "cell_type": "code",
   "execution_count": null,
   "outputs": [],
   "source": [
    "dict_data_frames = manager.get_dict_panda_data_frames()"
   ],
   "metadata": {
    "collapsed": false
   }
  },
  {
   "cell_type": "markdown",
   "source": [],
   "metadata": {
    "collapsed": false
   }
  },
  {
   "cell_type": "code",
   "execution_count": null,
   "outputs": [],
   "source": [
    "list_column_names_to_be_checked = ['P atm [hPa]', 'P sample before gc [hPa]', 'P sample after gc [hPa]', 'CH4 [%]', 'CO2 [%]', 'O2 [%]', 'N2 [%]', 'Flush (1=yes; 0=no)']\n",
    "header_row = 13\n",
    "start_row_table = header_row + 1\n",
    "workbook_copy_for_wrong_data= manager.create_new_workbook()\n",
    "path_directory_for_new_excel = r\"C:\\Users\\robbe\\Downloads\\python\\checking validate input sheets\\output\"\n",
    "file_name_new_excel_file = \"output_check5\"\n",
    "\n",
    "sample_id_multiple_list = [\"GT1.1\", \"GT1.2\", \"GT2.1\", \"GT2.2\", \"GT3.1\", \"GT3.2\", \"GT4.1\", \"GT4.2\", \"GT5.1\", \"GT5.2\", \"GT6.1\", \"GT6.2\", \"GT7.1\", \"GT7.2\", \"GT8.1\", \"GT8.2\"]\n",
    "list_parallel = [1, 2, 1, 2, 1, 2, 1, 2, 1, 2, 1, 2, 1, 2, 1, 2,]\n",
    "\n",
    "instance_of_class_validation = validate_if_all_cells_are_correctly_filled(dict_data_frames=dict_data_frames, dict_constants_data_classes=dict_constants_data_classes)\n",
    "\n",
    "print(f\"fill in the dict:\")\n",
    "instance_of_class_validation.fill_dict_indexes_as_panda_indexes_no_int_or_float(list_column_names_to_be_checked=list_column_names_to_be_checked, show_process=True)\n",
    "instance_of_class_validation.fill_dict_indexes_as_pandas_incorrect_sample_id(column_name_to_be_checked=\"Sample ID\", list_specific_string=sample_id_multiple_list, show_process=True)\n",
    "instance_of_class_validation.fill_dict_indexes_as_pandas_incorrect_parallel(column_name_to_be_checked=\"Parallel\", list_specific_float_or_integer=list_parallel, show_process=True)\n",
    "instance_of_class_validation.fill_dict_indexes_as_pandas_incorrect_gc_method(column_name_to_be_checked=\"GC method\", show_process=True)\n",
    "instance_of_class_validation.fill_dict_indexes_as_pandas_no_weight_when_flush(column_name_to_be_checked=\"Weight [g]\", column_name_flush=\"Flush (1=yes; 0=no)\", show_process=True)\n",
    "instance_of_class_validation.fill_dict_indexes_as_pandas_incorrect_date(column_name_date=\"Date\", show_process=True)\n",
    "instance_of_class_validation.fill_dict_indexes_as_pandas_incorrect_time(column_name_time=\"Time\", show_process=True)\n",
    "\n",
    "print(f\"fill the cells in the workbook:\")\n",
    "instance_of_class_validation.fill_wrong_cells_in_excel_no_int_or_float(workbook=workbook_copy_for_wrong_data, header_row=header_row, start_row_values_table_in_excel=start_row_table, show_process=True)\n",
    "instance_of_class_validation.fill_wrong_cells_in_excel_no_or_no_specific_string_or_wrong_parallel(workbook=workbook_copy_for_wrong_data, header_row=header_row, start_row_values_table_in_excel=start_row_table, show_process=True)\n",
    "instance_of_class_validation.fill_wrong_cells_in_excel_no_weight_when_flush(workbook=workbook_copy_for_wrong_data, header_row=header_row, start_row_values_table_in_excel=start_row_table, show_process=True)\n",
    "instance_of_class_validation.fill_wrong_cells_no_correct_date_and_time(workbook=workbook_copy_for_wrong_data, header_row=header_row, start_row_values_table_in_excel=start_row_table, show_process=True)\n",
    "\n",
    "\n",
    "print(f\"created excel file with workbook\")\n",
    "ExcelManager.make_excel_based_on_workbook(workbook=workbook_copy_for_wrong_data, path_directory=path_directory_for_new_excel, filename=file_name_new_excel_file)\n",
    "\n"
   ],
   "metadata": {
    "collapsed": false
   }
  },
  {
   "cell_type": "code",
   "execution_count": null,
   "outputs": [],
   "source": [
    "instance_of_class_validation.fill_dict_with_indexes_when_constants_is_incorrect()"
   ],
   "metadata": {
    "collapsed": false
   }
  },
  {
   "cell_type": "code",
   "execution_count": null,
   "outputs": [],
   "source": [],
   "metadata": {
    "collapsed": false
   }
  },
  {
   "cell_type": "code",
   "execution_count": null,
   "outputs": [],
   "source": [],
   "metadata": {
    "collapsed": false
   }
  },
  {
   "cell_type": "code",
   "execution_count": null,
   "outputs": [],
   "source": [],
   "metadata": {
    "collapsed": false
   }
  }
 ],
 "metadata": {
  "kernelspec": {
   "display_name": "Python 3",
   "language": "python",
   "name": "python3"
  },
  "language_info": {
   "codemirror_mode": {
    "name": "ipython",
    "version": 2
   },
   "file_extension": ".py",
   "mimetype": "text/x-python",
   "name": "python",
   "nbconvert_exporter": "python",
   "pygments_lexer": "ipython2",
   "version": "2.7.6"
  }
 },
 "nbformat": 4,
 "nbformat_minor": 0
}
