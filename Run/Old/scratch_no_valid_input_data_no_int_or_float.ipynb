{
 "cells": [
  {
   "cell_type": "code",
   "execution_count": 1,
   "metadata": {
    "collapsed": true,
    "ExecuteTime": {
     "end_time": "2023-06-12T13:06:58.300143Z",
     "start_time": "2023-06-12T13:06:57.463837300Z"
    }
   },
   "outputs": [],
   "source": [
    "# from data_classes import OwnColors, FillType\n",
    "from excel_manager import ExcelManager\n",
    "from nice_functions import NiceExcelFunction\n",
    "from validate_input_data import validate_if_there_is_a_float_or_integer_in_cell, style_color_cells_with_given_indexes, \\\n",
    "    validate_if_all_cells_are_correctly_filled"
   ]
  },
  {
   "cell_type": "code",
   "execution_count": 2,
   "outputs": [],
   "source": [
    "\n",
    "path = r\"C:\\Users\\robbe\\Downloads\\python\\checking validate input sheets\\python_plain_data_wrong_input_cells_like_no_float_or_int - Copy.xlsx\""
   ],
   "metadata": {
    "collapsed": false,
    "ExecuteTime": {
     "end_time": "2023-06-12T13:06:58.317097100Z",
     "start_time": "2023-06-12T13:06:58.302646200Z"
    }
   }
  },
  {
   "cell_type": "code",
   "execution_count": 3,
   "outputs": [
    {
     "name": "stdout",
     "output_type": "stream",
     "text": [
      "['GT1.1', 'GT1.2', 'GT2.1', 'GT2.2']\n"
     ]
    }
   ],
   "source": [
    "#make instance of excel manger\n",
    "manager = ExcelManager(path)\n",
    "\n",
    "# load the workbook in\n",
    "manager.load_workbook()\n",
    "\n",
    "# check the sheet names\n",
    "sheet_names = manager.get_sheet_names()\n",
    "print(sheet_names)"
   ],
   "metadata": {
    "collapsed": false,
    "ExecuteTime": {
     "end_time": "2023-06-12T13:06:58.522070800Z",
     "start_time": "2023-06-12T13:06:58.323949900Z"
    }
   }
  },
  {
   "cell_type": "code",
   "execution_count": 4,
   "outputs": [
    {
     "name": "stdout",
     "output_type": "stream",
     "text": [
      "started with sheet: GT1.1\n"
     ]
    }
   ],
   "source": [
    "start_row_table = 13\n",
    "column_end = NiceExcelFunction.get_column_index_from_letter(column_letter=\"O\")\n",
    "\n",
    "\n",
    "sheet_names_samples = sheet_names[:1]\n",
    "for sheet_name in sheet_names_samples:\n",
    "    print(f\"started with sheet: {sheet_name}\")\n",
    "    # loading the data frame\n",
    "    data_frame = manager.load_sheet_table(sheet_name=sheet_name, start_row=start_row_table, end_column=column_end)\n",
    "\n",
    "    manager.fill_dict_panda_data_frames(data_frame=data_frame, sheets=[sheet_name])"
   ],
   "metadata": {
    "collapsed": false,
    "ExecuteTime": {
     "end_time": "2023-06-12T13:06:58.580509Z",
     "start_time": "2023-06-12T13:06:58.528706300Z"
    }
   }
  },
  {
   "cell_type": "code",
   "execution_count": 5,
   "outputs": [],
   "source": [
    "dict_data_frames = manager.get_dict_panda_data_frames()"
   ],
   "metadata": {
    "collapsed": false,
    "ExecuteTime": {
     "end_time": "2023-06-12T13:06:58.581745700Z",
     "start_time": "2023-06-12T13:06:58.540140800Z"
    }
   }
  },
  {
   "cell_type": "markdown",
   "source": [],
   "metadata": {
    "collapsed": false
   }
  },
  {
   "cell_type": "code",
   "execution_count": 6,
   "outputs": [],
   "source": [
    "# dict_sheet_name_column_names_indexes = {}\n",
    "# list_column_names_to_be_checked = ['P atm [hPa]', 'P sample before gc [hPa]', 'P sample after gc [hPa]', 'CH4 [%]', 'CO2 [%]', 'O2 [%]', 'N2 [%]', 'Flush (1=yes; 0=no)']\n",
    "#\n",
    "# for sheet_name in sheet_names_samples:\n",
    "#     dict_sheet_name_column_names_indexes[sheet_name]= {}\n",
    "#     data_frame = dict_data_frames[sheet_name]\n",
    "#     for column_name in list_column_names_to_be_checked:\n",
    "#         indexes = validate_if_there_is_a_float_or_integer_in_cell(data_frame=data_frame, column_name=column_name)\n",
    "#         if indexes[1] is not True:\n",
    "#             dict_sheet_name_column_names_indexes[sheet_name][column_name] = indexes[1]\n",
    "#\n",
    "# print(dict_sheet_name_column_names_indexes)"
   ],
   "metadata": {
    "collapsed": false,
    "ExecuteTime": {
     "end_time": "2023-06-12T13:06:58.595997200Z",
     "start_time": "2023-06-12T13:06:58.557640800Z"
    }
   }
  },
  {
   "cell_type": "code",
   "execution_count": 7,
   "outputs": [
    {
     "data": {
      "text/plain": "{'GT1.1': {'P atm [hPa]': [6, 12, 15],\n  'P sample before gc [hPa]': [5, 18, 21],\n  'P sample after gc [hPa]': [0, 10, 12, 14, 17, 22],\n  'CH4 [%]': [8, 11, 14, 19],\n  'CO2 [%]': [8, 15],\n  'O2 [%]': [5, 15, 17, 20],\n  'N2 [%]': [8, 12],\n  'Flush (1=yes; 0=no)': [0]}}"
     },
     "execution_count": 7,
     "metadata": {},
     "output_type": "execute_result"
    }
   ],
   "source": [
    "list_column_names_to_be_checked = ['P atm [hPa]', 'P sample before gc [hPa]', 'P sample after gc [hPa]', 'CH4 [%]', 'CO2 [%]', 'O2 [%]', 'N2 [%]', 'Flush (1=yes; 0=no)']\n",
    "\n",
    "validate_if_all_cells_are_correctly_filled(dict_data_frames=dict_data_frames).fill_dict_indexes_in_panda_no_int_or_float(list_column_names_to_be_checked=list_column_names_to_be_checked)\n"
   ],
   "metadata": {
    "collapsed": false,
    "ExecuteTime": {
     "end_time": "2023-06-12T13:06:58.596997600Z",
     "start_time": "2023-06-12T13:06:58.580509Z"
    }
   }
  },
  {
   "cell_type": "code",
   "execution_count": 7,
   "outputs": [],
   "source": [],
   "metadata": {
    "collapsed": false,
    "ExecuteTime": {
     "end_time": "2023-06-12T13:06:58.607437600Z",
     "start_time": "2023-06-12T13:06:58.584504900Z"
    }
   }
  },
  {
   "cell_type": "code",
   "execution_count": 8,
   "outputs": [
    {
     "ename": "NameError",
     "evalue": "name 'dict_sheet_name_column_names_indexes' is not defined",
     "output_type": "error",
     "traceback": [
      "\u001B[1;31m---------------------------------------------------------------------------\u001B[0m",
      "\u001B[1;31mNameError\u001B[0m                                 Traceback (most recent call last)",
      "Cell \u001B[1;32mIn[8], line 5\u001B[0m\n\u001B[0;32m      1\u001B[0m \u001B[38;5;28;01mfrom\u001B[39;00m \u001B[38;5;21;01mdata_classes\u001B[39;00m \u001B[38;5;28;01mimport\u001B[39;00m OwnColors, FillType\n\u001B[0;32m      3\u001B[0m workbook_copy_for_wrong_data\u001B[38;5;241m=\u001B[39m manager\u001B[38;5;241m.\u001B[39mcreate_new_workbook()\n\u001B[1;32m----> 5\u001B[0m style_color_cells_with_given_indexes(workbook\u001B[38;5;241m=\u001B[39mworkbook_copy_for_wrong_data, dict_sheet_name_column_names_indexes\u001B[38;5;241m=\u001B[39m\u001B[43mdict_sheet_name_column_names_indexes\u001B[49m,\n\u001B[0;32m      6\u001B[0m                                      header_row\u001B[38;5;241m=\u001B[39mstart_row_table, color\u001B[38;5;241m=\u001B[39m\u001B[38;5;124m\"\u001B[39m\u001B[38;5;124mFFFF00\u001B[39m\u001B[38;5;124m\"\u001B[39m, fill_type\u001B[38;5;241m=\u001B[39m\u001B[38;5;124m\"\u001B[39m\u001B[38;5;124msolid\u001B[39m\u001B[38;5;124m\"\u001B[39m,start_row_values_table_in_excel\u001B[38;5;241m=\u001B[39mstart_row_table\u001B[38;5;241m+\u001B[39m\u001B[38;5;241m1\u001B[39m, show_process\u001B[38;5;241m=\u001B[39m\u001B[38;5;28;01mTrue\u001B[39;00m)\n\u001B[0;32m      9\u001B[0m ExcelManager\u001B[38;5;241m.\u001B[39mmake_excel_based_on_workbook(workbook\u001B[38;5;241m=\u001B[39mworkbook_copy_for_wrong_data, path_directory\u001B[38;5;241m=\u001B[39m\u001B[38;5;124mr\u001B[39m\u001B[38;5;124m\"\u001B[39m\u001B[38;5;124mC:\u001B[39m\u001B[38;5;124m\\\u001B[39m\u001B[38;5;124mUsers\u001B[39m\u001B[38;5;124m\\\u001B[39m\u001B[38;5;124mrobbe\u001B[39m\u001B[38;5;124m\\\u001B[39m\u001B[38;5;124mDownloads\u001B[39m\u001B[38;5;124m\\\u001B[39m\u001B[38;5;124mpython\u001B[39m\u001B[38;5;124m\\\u001B[39m\u001B[38;5;124mchecking validate input sheets\u001B[39m\u001B[38;5;124m\\\u001B[39m\u001B[38;5;124moutput\u001B[39m\u001B[38;5;124m\"\u001B[39m, filename\u001B[38;5;241m=\u001B[39m\u001B[38;5;124m\"\u001B[39m\u001B[38;5;124moutput_check2\u001B[39m\u001B[38;5;124m\"\u001B[39m)\n",
      "\u001B[1;31mNameError\u001B[0m: name 'dict_sheet_name_column_names_indexes' is not defined"
     ]
    }
   ],
   "source": [
    "from data_classes import OwnColors, FillType\n",
    "\n",
    "workbook_copy_for_wrong_data= manager.create_new_workbook()\n",
    "\n",
    "style_color_cells_with_given_indexes(workbook=workbook_copy_for_wrong_data, dict_sheet_name_column_names_indexes=dict_sheet_name_column_names_indexes,\n",
    "                                     header_row=start_row_table, color=\"FFFF00\", fill_type=\"solid\",start_row_values_table_in_excel=start_row_table+1, show_process=True)\n",
    "\n",
    "\n",
    "ExcelManager.make_excel_based_on_workbook(workbook=workbook_copy_for_wrong_data, path_directory=r\"C:\\Users\\robbe\\Downloads\\python\\checking validate input sheets\\output\", filename=\"output_check2\")\n"
   ],
   "metadata": {
    "collapsed": false,
    "ExecuteTime": {
     "end_time": "2023-06-12T13:06:59.211477500Z",
     "start_time": "2023-06-12T13:06:58.600287600Z"
    }
   }
  },
  {
   "cell_type": "code",
   "execution_count": null,
   "outputs": [],
   "source": [],
   "metadata": {
    "collapsed": false
   }
  }
 ],
 "metadata": {
  "kernelspec": {
   "display_name": "Python 3",
   "language": "python",
   "name": "python3"
  },
  "language_info": {
   "codemirror_mode": {
    "name": "ipython",
    "version": 2
   },
   "file_extension": ".py",
   "mimetype": "text/x-python",
   "name": "python",
   "nbconvert_exporter": "python",
   "pygments_lexer": "ipython2",
   "version": "2.7.6"
  }
 },
 "nbformat": 4,
 "nbformat_minor": 0
}
