{
 "cells": [
  {
   "cell_type": "code",
   "execution_count": 1,
   "metadata": {
    "collapsed": true,
    "ExecuteTime": {
     "end_time": "2023-06-16T12:00:27.171333500Z",
     "start_time": "2023-06-16T12:00:26.404790300Z"
    }
   },
   "outputs": [],
   "source": [
    "# from data_classes import OwnColors, FillType\n",
    "from excel_manager import ExcelManager\n",
    "from nice_functions import NiceExcelFunction\n",
    "from validation_input_data.validate_input_data import validate_if_all_cells_are_correctly_filled, \\\n",
    "    ValidateInputDataStatistics\n"
   ]
  },
  {
   "cell_type": "code",
   "execution_count": 2,
   "outputs": [],
   "source": [
    "\n",
    "path = r\"C:\\Users\\robbe\\Downloads\\python\\checking validate input sheets\\python_plain_data_wrong_input_cells_like_no_float_or_int - Copy.xlsx\""
   ],
   "metadata": {
    "collapsed": false,
    "ExecuteTime": {
     "end_time": "2023-06-16T12:00:27.190185800Z",
     "start_time": "2023-06-16T12:00:27.175261900Z"
    }
   }
  },
  {
   "cell_type": "code",
   "execution_count": 3,
   "outputs": [
    {
     "name": "stdout",
     "output_type": "stream",
     "text": [
      "['GT1.1', 'GT1.2', 'GT2.1', 'GT2.2']\n"
     ]
    }
   ],
   "source": [
    "#make instance of excel manger\n",
    "manager = ExcelManager(path)\n",
    "\n",
    "# load the workbook in\n",
    "manager.load_workbook()\n",
    "\n",
    "# check the sheet names\n",
    "sheet_names = manager.get_sheet_names()\n",
    "print(sheet_names)"
   ],
   "metadata": {
    "collapsed": false,
    "ExecuteTime": {
     "end_time": "2023-06-16T12:00:27.374522900Z",
     "start_time": "2023-06-16T12:00:27.194364500Z"
    }
   }
  },
  {
   "cell_type": "code",
   "execution_count": 4,
   "outputs": [
    {
     "name": "stdout",
     "output_type": "stream",
     "text": [
      "started with sheet: GT1.1\n",
      "started with sheet: GT1.2\n",
      "started with sheet: GT2.1\n",
      "started with sheet: GT2.2\n"
     ]
    }
   ],
   "source": [
    "start_row_table = 13\n",
    "column_end = NiceExcelFunction.get_column_index_from_letter(column_letter=\"O\")\n",
    "\n",
    "\n",
    "sheet_names_samples = sheet_names[:]\n",
    "for sheet_name in sheet_names_samples:\n",
    "    print(f\"started with sheet: {sheet_name}\")\n",
    "    # loading the data frame\n",
    "    data_frame = manager.load_sheet_table(sheet_name=sheet_name, start_row=start_row_table, end_column=column_end)\n",
    "\n",
    "    manager.fill_dict_panda_data_frames(data_frame=data_frame, sheets=[sheet_name])"
   ],
   "metadata": {
    "collapsed": false,
    "ExecuteTime": {
     "end_time": "2023-06-16T12:00:27.464245100Z",
     "start_time": "2023-06-16T12:00:27.379372300Z"
    }
   }
  },
  {
   "cell_type": "code",
   "execution_count": 5,
   "outputs": [],
   "source": [
    "dict_data_frames = manager.get_dict_panda_data_frames()"
   ],
   "metadata": {
    "collapsed": false,
    "ExecuteTime": {
     "end_time": "2023-06-16T12:00:27.480204300Z",
     "start_time": "2023-06-16T12:00:27.411766800Z"
    }
   }
  },
  {
   "cell_type": "markdown",
   "source": [],
   "metadata": {
    "collapsed": false
   }
  },
  {
   "cell_type": "code",
   "execution_count": 6,
   "outputs": [
    {
     "name": "stdout",
     "output_type": "stream",
     "text": [
      "fill in the dict:\n",
      "GT1.1  with column P atm [hPa] is done\n",
      "GT1.1  with column P sample before gc [hPa] is done\n",
      "GT1.1  with column P sample after gc [hPa] is done\n",
      "GT1.1  with column CH4 [%] is done\n",
      "GT1.1  with column CO2 [%] is done\n",
      "GT1.1  with column O2 [%] is done\n",
      "GT1.1  with column N2 [%] is done\n",
      "GT1.1  with column Flush (1=yes; 0=no) is done\n",
      "GT1.2  with column P atm [hPa] is done\n",
      "GT1.2  with column P sample before gc [hPa] is done\n",
      "GT1.2  with column P sample after gc [hPa] is done\n",
      "GT1.2  with column CH4 [%] is done\n",
      "GT1.2  with column CO2 [%] is done\n",
      "GT1.2  with column O2 [%] is done\n",
      "GT1.2  with column N2 [%] is done\n",
      "GT1.2  with column Flush (1=yes; 0=no) is done\n",
      "GT2.1  with column P atm [hPa] is done\n",
      "GT2.1  with column P sample before gc [hPa] is done\n",
      "GT2.1  with column P sample after gc [hPa] is done\n",
      "GT2.1  with column CH4 [%] is done\n",
      "GT2.1  with column CO2 [%] is done\n",
      "GT2.1  with column O2 [%] is done\n",
      "GT2.1  with column N2 [%] is done\n",
      "GT2.1  with column Flush (1=yes; 0=no) is done\n",
      "GT2.2  with column P atm [hPa] is done\n",
      "GT2.2  with column P sample before gc [hPa] is done\n",
      "GT2.2  with column P sample after gc [hPa] is done\n",
      "GT2.2  with column CH4 [%] is done\n",
      "GT2.2  with column CO2 [%] is done\n",
      "GT2.2  with column O2 [%] is done\n",
      "GT2.2  with column N2 [%] is done\n",
      "GT2.2  with column Flush (1=yes; 0=no) is done\n",
      "GT1.1  with column Sample ID is done\n",
      "GT1.2  with column Sample ID is done\n",
      "GT2.1  with column Sample ID is done\n",
      "GT2.2  with column Sample ID is done\n",
      "GT1.1  with column Parallel is done\n",
      "GT1.2  with column Parallel is done\n",
      "GT2.1  with column Parallel is done\n",
      "GT2.2  with column Parallel is done\n",
      "GT1.1  with column GC method is done\n",
      "GT1.2  with column GC method is done\n",
      "GT2.1  with column GC method is done\n",
      "GT2.2  with column GC method is done\n",
      "GT1.1  with column Weight [g] is done\n",
      "GT1.2  with column Weight [g] is done\n",
      "GT2.1  with column Weight [g] is done\n",
      "GT2.2  with column Weight [g] is done\n",
      "GT1.1  with column Date is done\n",
      "GT1.2  with column Date is done\n",
      "GT2.1  with column Date is done\n",
      "GT2.2  with column Date is done\n",
      "GT1.1  with column Time is done\n",
      "GT1.2  with column Time is done\n",
      "GT2.1  with column Time is done\n",
      "GT2.2  with column Time is done\n",
      "fill the cells in the workbook:\n",
      "Finished with coloring GT1.1\n",
      "Finished with coloring GT1.2\n",
      "Finished with coloring GT2.1\n",
      "Finished with coloring GT2.2\n",
      "{'GT1.1': {'Sample ID': [0, 7, 11, 15, 17, 21]}, 'GT1.2': {'Sample ID': [2, 6, 10, 19]}, 'GT2.1': {'Sample ID': [2, 5, 9, 10, 11, 12, 15]}, 'GT2.2': {'Sample ID': [1, 4, 5, 8, 9]}}\n",
      "Finished with coloring GT1.1\n",
      "Finished with coloring GT1.2\n",
      "Finished with coloring GT2.1\n",
      "Finished with coloring GT2.2\n",
      "{'GT1.1': {'Parallel': [0, 6, 7, 10, 22]}, 'GT1.2': {'Parallel': [4, 11, 18]}, 'GT2.1': {'Parallel': [4, 8, 19, 20, 21]}, 'GT2.2': {'Parallel': [3, 5, 8, 13, 16]}}\n",
      "Finished with coloring GT1.1\n",
      "Finished with coloring GT1.2\n",
      "Finished with coloring GT2.1\n",
      "Finished with coloring GT2.2\n",
      "{'GT1.1': {'GC method': [0, 1, 8, 14, 16, 20]}, 'GT1.2': {'GC method': [0, 2, 9, 13, 20]}, 'GT2.1': {'GC method': [0, 2, 3, 9, 10, 11, 12, 13, 19]}, 'GT2.2': {'GC method': [0, 4, 9, 10, 14, 16, 17]}}\n",
      "Finished with coloring GT1.1\n",
      "Finished with coloring GT1.2\n",
      "Finished with coloring GT2.1\n",
      "Finished with coloring GT2.2\n",
      "Finished with coloring GT1.1\n",
      "Finished with coloring GT1.2\n",
      "Finished with coloring GT2.1\n",
      "Finished with coloring GT2.2\n",
      "Finished with coloring GT1.1\n",
      "Finished with coloring GT1.2\n",
      "Finished with coloring GT2.1\n",
      "Finished with coloring GT2.2\n",
      "Finished with coloring GT1.1\n",
      "Finished with coloring GT1.2\n",
      "Finished with coloring GT2.1\n",
      "Finished with coloring GT2.2\n",
      "started with GT1.1\n",
      "started with GT1.2\n",
      "started with GT2.1\n"
     ]
    }
   ],
   "source": [
    "list_column_names_to_be_checked = ['P atm [hPa]', 'P sample before gc [hPa]', 'P sample after gc [hPa]', 'CH4 [%]', 'CO2 [%]', 'O2 [%]', 'N2 [%]', 'Flush (1=yes; 0=no)']\n",
    "header_row = 13\n",
    "start_row_table = header_row + 1\n",
    "column_letter_constants_values = \"C\"\n",
    "workbook_copy_for_wrong_data= manager.create_new_workbook()\n",
    "path_directory_for_new_excel = r\"C:\\Users\\robbe\\Downloads\\python\\checking validate input sheets\\output\"\n",
    "file_name_new_excel_file = \"output_check_meeting_today\"\n",
    "\n",
    "sample_id_multiple_list = [\"GT1.1\", \"GT1.2\", \"GT2.1\", \"GT2.2\", \"GT3.1\", \"GT3.2\", \"GT4.1\", \"GT4.2\", \"GT5.1\", \"GT5.2\", \"GT6.1\", \"GT6.2\", \"GT7.1\", \"GT7.2\", \"GT8.1\", \"GT8.2\"]\n",
    "list_parallel = [1, 2, 1, 2, 1, 2, 1, 2, 1, 2, 1, 2, 1, 2, 1, 2,]\n",
    "\n",
    "instance_of_class_validation = validate_if_all_cells_are_correctly_filled(dict_data_frames=dict_data_frames)\n",
    "\n",
    "print(f\"fill in the dict:\")\n",
    "instance_of_class_validation.fill_dict_indexes_as_panda_indexes_no_int_or_float(list_column_names_to_be_checked=list_column_names_to_be_checked, show_process=True)\n",
    "instance_of_class_validation.fill_dict_indexes_as_pandas_incorrect_sample_id(column_name_to_be_checked=\"Sample ID\", list_specific_string=sample_id_multiple_list, show_process=True)\n",
    "instance_of_class_validation.fill_dict_indexes_as_pandas_incorrect_parallel(column_name_to_be_checked=\"Parallel\", list_specific_float_or_integer=list_parallel, show_process=True)\n",
    "instance_of_class_validation.fill_dict_indexes_as_pandas_incorrect_gc_method(column_name_to_be_checked=\"GC method\", show_process=True)\n",
    "instance_of_class_validation.fill_dict_indexes_as_pandas_no_weight_when_flush(column_name_to_be_checked=\"Weight [g]\", column_name_flush=\"Flush (1=yes; 0=no)\", show_process=True)\n",
    "instance_of_class_validation.fill_dict_indexes_as_pandas_incorrect_date(column_name_date=\"Date\", show_process=True)\n",
    "instance_of_class_validation.fill_dict_indexes_as_pandas_incorrect_time(column_name_time=\"Time\", show_process=True)\n",
    "instance_of_class_validation.fill_dict_with_indexes_as_excel_when_constants_is_not_filled(workbook=workbook_copy_for_wrong_data, start_row_constants_value=1, end_row_constants_value=7, column_letter_values=column_letter_constants_values)\n",
    "\n",
    "print(f\"fill the cells in the workbook:\")\n",
    "instance_of_class_validation.fill_wrong_cells_in_excel_no_int_or_float(workbook=workbook_copy_for_wrong_data, header_row=header_row, start_row_values_table_in_excel=start_row_table, show_process=True)\n",
    "instance_of_class_validation.fill_wrong_cells_in_excel_no_or_no_specific_string_or_wrong_parallel(workbook=workbook_copy_for_wrong_data, header_row=header_row, start_row_values_table_in_excel=start_row_table, show_process=True)\n",
    "instance_of_class_validation.fill_wrong_cells_in_excel_no_weight_when_flush(workbook=workbook_copy_for_wrong_data, header_row=header_row, start_row_values_table_in_excel=start_row_table, show_process=True)\n",
    "instance_of_class_validation.fill_wrong_cells_no_correct_date_and_time(workbook=workbook_copy_for_wrong_data, header_row=header_row, start_row_values_table_in_excel=start_row_table, show_process=True)\n",
    "instance_of_class_validation.fil_wrong_cells_constants_incorrect_constants(workbook=workbook_copy_for_wrong_data, column_letter_values=column_letter_constants_values, show_process=True)\n",
    "\n",
    "\n",
    "# print(f\"created excel file with workbook\")\n",
    "# ExcelManager.make_excel_based_on_workbook(workbook=workbook_copy_for_wrong_data, path_directory=path_directory_for_new_excel, filename=file_name_new_excel_file)\n",
    "\n"
   ],
   "metadata": {
    "collapsed": false,
    "ExecuteTime": {
     "end_time": "2023-06-16T12:00:27.548529600Z",
     "start_time": "2023-06-16T12:00:27.440420900Z"
    }
   }
  },
  {
   "cell_type": "markdown",
   "source": [
    "Outliers"
   ],
   "metadata": {
    "collapsed": false
   }
  },
  {
   "cell_type": "code",
   "execution_count": 6,
   "outputs": [],
   "source": [],
   "metadata": {
    "collapsed": false,
    "ExecuteTime": {
     "end_time": "2023-06-16T12:00:27.589833800Z",
     "start_time": "2023-06-16T12:00:27.549068500Z"
    }
   }
  },
  {
   "cell_type": "code",
   "execution_count": 7,
   "outputs": [
    {
     "name": "stdout",
     "output_type": "stream",
     "text": [
      "dict outliers for sheet GT1.1 is filled\n",
      "dict outliers for sheet GT1.2 is filled\n",
      "dict outliers for sheet GT2.1 is filled\n",
      "dict outliers for sheet GT2.2 is filled\n",
      "Finished with coloring GT1.1\n",
      "Finished with coloring GT1.2\n",
      "Finished with coloring GT2.1\n",
      "Finished with coloring GT2.2\n"
     ]
    }
   ],
   "source": [
    "instance_for_outliers = ValidateInputDataStatistics(dict_sheet_name_with_panda_data_frames=dict_data_frames)\n",
    "list_column_names_to_be_checked_outliers = ['P atm [hPa]', 'P sample before gc [hPa]', 'P sample after gc [hPa]', 'CH4 [%]', 'CO2 [%]', 'O2 [%]', 'N2 [%]']\n",
    "\n",
    "instance_for_outliers.fill_dict_outliers_indexes_as_pandas(list_column_names_to_be_checked=list_column_names_to_be_checked_outliers, show_process=True)\n",
    "instance_for_outliers.fill_outliers_in_excel(workbook=workbook_copy_for_wrong_data, header_row=header_row, start_row_values_table_in_excel=start_row_table, show_process=True)\n",
    "\n",
    "# print(f\"created excel file with workbook\")\n",
    "# ExcelManager.make_excel_based_on_workbook(workbook=workbook_copy_for_wrong_data, path_directory=path_directory_for_new_excel, filename=file_name_new_excel_file)"
   ],
   "metadata": {
    "collapsed": false,
    "ExecuteTime": {
     "end_time": "2023-06-16T12:00:27.640749100Z",
     "start_time": "2023-06-16T12:00:27.564959Z"
    }
   }
  },
  {
   "cell_type": "code",
   "execution_count": 7,
   "outputs": [],
   "source": [],
   "metadata": {
    "collapsed": false,
    "ExecuteTime": {
     "end_time": "2023-06-16T12:00:27.699565700Z",
     "start_time": "2023-06-16T12:00:27.642798100Z"
    }
   }
  },
  {
   "cell_type": "code",
   "execution_count": 7,
   "outputs": [],
   "source": [],
   "metadata": {
    "collapsed": false,
    "ExecuteTime": {
     "end_time": "2023-06-16T12:00:27.720388600Z",
     "start_time": "2023-06-16T12:00:27.664873700Z"
    }
   }
  }
 ],
 "metadata": {
  "kernelspec": {
   "display_name": "Python 3",
   "language": "python",
   "name": "python3"
  },
  "language_info": {
   "codemirror_mode": {
    "name": "ipython",
    "version": 2
   },
   "file_extension": ".py",
   "mimetype": "text/x-python",
   "name": "python",
   "nbconvert_exporter": "python",
   "pygments_lexer": "ipython2",
   "version": "2.7.6"
  }
 },
 "nbformat": 4,
 "nbformat_minor": 0
}
