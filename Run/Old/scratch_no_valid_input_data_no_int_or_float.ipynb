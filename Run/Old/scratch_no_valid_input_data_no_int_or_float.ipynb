{
 "cells": [
  {
   "cell_type": "code",
   "execution_count": 1,
   "metadata": {
    "collapsed": true,
    "ExecuteTime": {
     "end_time": "2023-06-13T15:01:39.416599400Z",
     "start_time": "2023-06-13T15:01:38.512355300Z"
    }
   },
   "outputs": [],
   "source": [
    "# from data_classes import OwnColors, FillType\n",
    "from excel_manager import ExcelManager\n",
    "from nice_functions import NiceExcelFunction\n",
    "from validate_input_data import validate_if_there_is_a_float_or_integer_in_cell, style_color_cells_with_given_indexes, \\\n",
    "    validate_if_all_cells_are_correctly_filled"
   ]
  },
  {
   "cell_type": "code",
   "execution_count": 2,
   "outputs": [],
   "source": [
    "\n",
    "path = r\"C:\\Users\\robbe\\Downloads\\python\\checking validate input sheets\\python_plain_data_wrong_input_cells_like_no_float_or_int - Copy.xlsx\""
   ],
   "metadata": {
    "collapsed": false,
    "ExecuteTime": {
     "end_time": "2023-06-13T15:01:39.432054700Z",
     "start_time": "2023-06-13T15:01:39.411937600Z"
    }
   }
  },
  {
   "cell_type": "code",
   "execution_count": 3,
   "outputs": [
    {
     "name": "stdout",
     "output_type": "stream",
     "text": [
      "['GT1.1', 'GT1.2', 'GT2.1', 'GT2.2']\n"
     ]
    }
   ],
   "source": [
    "#make instance of excel manger\n",
    "manager = ExcelManager(path)\n",
    "\n",
    "# load the workbook in\n",
    "manager.load_workbook()\n",
    "\n",
    "# check the sheet names\n",
    "sheet_names = manager.get_sheet_names()\n",
    "print(sheet_names)"
   ],
   "metadata": {
    "collapsed": false,
    "ExecuteTime": {
     "end_time": "2023-06-13T15:01:39.596037300Z",
     "start_time": "2023-06-13T15:01:39.425832300Z"
    }
   }
  },
  {
   "cell_type": "code",
   "execution_count": 4,
   "outputs": [
    {
     "name": "stdout",
     "output_type": "stream",
     "text": [
      "started with sheet: GT1.1\n",
      "started with sheet: GT1.2\n",
      "started with sheet: GT2.1\n",
      "started with sheet: GT2.2\n"
     ]
    }
   ],
   "source": [
    "start_row_table = 13\n",
    "column_end = NiceExcelFunction.get_column_index_from_letter(column_letter=\"O\")\n",
    "\n",
    "\n",
    "sheet_names_samples = sheet_names[:]\n",
    "for sheet_name in sheet_names_samples:\n",
    "    print(f\"started with sheet: {sheet_name}\")\n",
    "    # loading the data frame\n",
    "    data_frame = manager.load_sheet_table(sheet_name=sheet_name, start_row=start_row_table, end_column=column_end)\n",
    "\n",
    "    manager.fill_dict_panda_data_frames(data_frame=data_frame, sheets=[sheet_name])"
   ],
   "metadata": {
    "collapsed": false,
    "ExecuteTime": {
     "end_time": "2023-06-13T15:01:39.614769400Z",
     "start_time": "2023-06-13T15:01:39.606496Z"
    }
   }
  },
  {
   "cell_type": "code",
   "execution_count": 5,
   "outputs": [],
   "source": [
    "dict_data_frames = manager.get_dict_panda_data_frames()"
   ],
   "metadata": {
    "collapsed": false,
    "ExecuteTime": {
     "end_time": "2023-06-13T15:01:39.718731700Z",
     "start_time": "2023-06-13T15:01:39.615274700Z"
    }
   }
  },
  {
   "cell_type": "markdown",
   "source": [],
   "metadata": {
    "collapsed": false
   }
  },
  {
   "cell_type": "code",
   "execution_count": 6,
   "outputs": [],
   "source": [
    "# dict_sheet_name_column_names_indexes = {}\n",
    "# list_column_names_to_be_checked = ['P atm [hPa]', 'P sample before gc [hPa]', 'P sample after gc [hPa]', 'CH4 [%]', 'CO2 [%]', 'O2 [%]', 'N2 [%]', 'Flush (1=yes; 0=no)']\n",
    "#\n",
    "# for sheet_name in sheet_names_samples:\n",
    "#     dict_sheet_name_column_names_indexes[sheet_name]= {}\n",
    "#     data_frame = dict_data_frames[sheet_name]\n",
    "#     for column_name in list_column_names_to_be_checked:\n",
    "#         indexes = validate_if_there_is_a_float_or_integer_in_cell(data_frame=data_frame, column_name=column_name)\n",
    "#         if indexes[1] is not True:\n",
    "#             dict_sheet_name_column_names_indexes[sheet_name][column_name] = indexes[1]\n",
    "#\n",
    "# print(dict_sheet_name_column_names_indexes)"
   ],
   "metadata": {
    "collapsed": false,
    "ExecuteTime": {
     "end_time": "2023-06-13T15:01:39.728482600Z",
     "start_time": "2023-06-13T15:01:39.630917800Z"
    }
   }
  },
  {
   "cell_type": "code",
   "execution_count": 7,
   "outputs": [
    {
     "name": "stdout",
     "output_type": "stream",
     "text": [
      "GT1.1  with column P atm [hPa] is done\n",
      "GT1.1  with column P sample before gc [hPa] is done\n",
      "GT1.1  with column P sample after gc [hPa] is done\n",
      "GT1.1  with column CH4 [%] is done\n",
      "GT1.1  with column CO2 [%] is done\n",
      "GT1.1  with column O2 [%] is done\n",
      "GT1.1  with column N2 [%] is done\n",
      "GT1.1  with column Flush (1=yes; 0=no) is done\n",
      "GT1.2  with column P atm [hPa] is done\n",
      "GT1.2  with column P sample before gc [hPa] is done\n",
      "GT1.2  with column P sample after gc [hPa] is done\n",
      "GT1.2  with column CH4 [%] is done\n",
      "GT1.2  with column CO2 [%] is done\n",
      "GT1.2  with column O2 [%] is done\n",
      "GT1.2  with column N2 [%] is done\n",
      "GT1.2  with column Flush (1=yes; 0=no) is done\n",
      "GT2.1  with column P atm [hPa] is done\n",
      "GT2.1  with column P sample before gc [hPa] is done\n",
      "GT2.1  with column P sample after gc [hPa] is done\n",
      "GT2.1  with column CH4 [%] is done\n",
      "GT2.1  with column CO2 [%] is done\n",
      "GT2.1  with column O2 [%] is done\n",
      "GT2.1  with column N2 [%] is done\n",
      "GT2.1  with column Flush (1=yes; 0=no) is done\n",
      "GT2.2  with column P atm [hPa] is done\n",
      "GT2.2  with column P sample before gc [hPa] is done\n",
      "GT2.2  with column P sample after gc [hPa] is done\n",
      "GT2.2  with column CH4 [%] is done\n",
      "GT2.2  with column CO2 [%] is done\n",
      "GT2.2  with column O2 [%] is done\n",
      "GT2.2  with column N2 [%] is done\n",
      "GT2.2  with column Flush (1=yes; 0=no) is done\n",
      "fill in the dict:\n",
      "GT1.1  with column Sample ID is done\n",
      "GT1.2  with column Sample ID is done\n",
      "GT2.1  with column Sample ID is done\n",
      "GT2.2  with column Sample ID is done\n",
      "GT1.1  with column Parallel is done\n",
      "GT1.2  with column Parallel is done\n",
      "GT2.1  with column Parallel is done\n",
      "GT2.2  with column Parallel is done\n",
      "GT1.1  with column GC method is done\n",
      "GT1.2  with column GC method is done\n",
      "GT2.1  with column GC method is done\n",
      "GT2.2  with column GC method is done\n",
      "GT1.1  with column Weight [g] is done\n",
      "GT1.2  with column Weight [g] is done\n",
      "GT2.1  with column Weight [g] is done\n",
      "GT2.2  with column Weight [g] is done\n",
      "fill the cells in the workbook:\n",
      "started with GT1.1\n",
      "started with GT1.2\n",
      "started with GT2.1\n",
      "started with GT2.2\n",
      "{'GT1.1': {'Sample ID': [0, 7, 11, 15, 17, 21]}, 'GT1.2': {'Sample ID': [2, 6, 10, 19]}, 'GT2.1': {'Sample ID': [2, 5, 9, 10, 11, 12, 15]}, 'GT2.2': {'Sample ID': [1, 4, 5, 8, 9]}}\n",
      "started with GT1.1\n",
      "started with GT1.2\n",
      "started with GT2.1\n",
      "started with GT2.2\n",
      "{'GT1.1': {'Parallel': [0, 6, 7, 10, 22]}, 'GT1.2': {'Parallel': [4, 11, 18]}, 'GT2.1': {'Parallel': [4, 8, 19, 20, 21]}, 'GT2.2': {'Parallel': [3, 5, 8, 13, 16]}}\n",
      "started with GT1.1\n",
      "started with GT1.2\n",
      "started with GT2.1\n",
      "started with GT2.2\n",
      "{'GT1.1': {'GC method': [0, 1, 8, 14, 16, 20]}, 'GT1.2': {'GC method': [0, 2, 9, 13, 20]}, 'GT2.1': {'GC method': [0, 2, 3, 9, 10, 11, 12, 13, 19]}, 'GT2.2': {'GC method': [0, 4, 9, 10, 14, 16, 17]}}\n",
      "started with GT1.1\n",
      "started with GT1.2\n",
      "started with GT2.1\n",
      "started with GT2.2\n",
      "started with GT1.1\n",
      "started with GT1.2\n",
      "started with GT2.1\n",
      "started with GT2.2\n",
      "created excel file with workbook\n"
     ]
    }
   ],
   "source": [
    "list_column_names_to_be_checked = ['P atm [hPa]', 'P sample before gc [hPa]', 'P sample after gc [hPa]', 'CH4 [%]', 'CO2 [%]', 'O2 [%]', 'N2 [%]', 'Flush (1=yes; 0=no)']\n",
    "header_row = 13\n",
    "start_row_table = header_row + 1\n",
    "workbook_copy_for_wrong_data= manager.create_new_workbook()\n",
    "path_directory_for_new_excel = r\"C:\\Users\\robbe\\Downloads\\python\\checking validate input sheets\\output\"\n",
    "file_name_new_excel_file = \"output_check5\"\n",
    "\n",
    "sample_id_multiple_list = [\"GT1.1\", \"GT1.2\", \"GT2.1\", \"GT2.2\", \"GT3.1\", \"GT3.2\", \"GT4.1\", \"GT4.2\", \"GT5.1\", \"GT5.2\", \"GT6.1\", \"GT6.2\", \"GT7.1\", \"GT7.2\", \"GT8.1\", \"GT8.2\"]\n",
    "list_parallel = [1, 2, 1, 2, 1, 2, 1, 2, 1, 2, 1, 2, 1, 2, 1, 2,]\n",
    "\n",
    "instance_of_class_validation = validate_if_all_cells_are_correctly_filled(dict_data_frames=dict_data_frames)\n",
    "instance_of_class_validation.fill_dict_indexes_as_panda_indexes_no_int_or_float(list_column_names_to_be_checked=list_column_names_to_be_checked, show_process=True)\n",
    "print(f\"fill in the dict:\")\n",
    "instance_of_class_validation.fill_dict_indexes_as_pandas_incorrect_sample_id(column_name_to_be_checked=\"Sample ID\", list_specific_string=sample_id_multiple_list, show_process=True)\n",
    "instance_of_class_validation.fill_dict_indexes_as_pandas_incorrect_parallel(column_name_to_be_checked=\"Parallel\", list_specific_float_or_integer=list_parallel, show_process=True)\n",
    "instance_of_class_validation.fill_dict_indexes_as_pandas_incorrect_gc_method(column_name_to_be_checked=\"GC method\", show_process=True)\n",
    "instance_of_class_validation.fill_dict_indexes_as_pandas_no_weight_when_flush(column_name_to_be_checked=\"Weight [g]\", column_name_flush=\"Flush (1=yes; 0=no)\", show_process=True)\n",
    "\n",
    "print(f\"fill the cells in the workbook:\")\n",
    "instance_of_class_validation.fill_wrong_cells_in_excel_no_int_or_float(workbook=workbook_copy_for_wrong_data, header_row=header_row, start_row_values_table_in_excel=start_row_table, show_process=True)\n",
    "instance_of_class_validation.fill_wrong_cells_in_excel_no_or_no_specific_string_or_wrong_parallel(workbook=workbook_copy_for_wrong_data, header_row=header_row, start_row_values_table_in_excel=start_row_table, show_process=True)\n",
    "instance_of_class_validation.fill_wrong_cells_in_excel_no_weight_when_flush(workbook=workbook_copy_for_wrong_data, header_row=header_row, start_row_values_table_in_excel=start_row_table, show_process=True)\n",
    "print(f\"created excel file with workbook\")\n",
    "ExcelManager.make_excel_based_on_workbook(workbook=workbook_copy_for_wrong_data, path_directory=path_directory_for_new_excel, filename=file_name_new_excel_file)\n",
    "\n"
   ],
   "metadata": {
    "collapsed": false,
    "ExecuteTime": {
     "end_time": "2023-06-13T15:01:39.893055Z",
     "start_time": "2023-06-13T15:01:39.651115400Z"
    }
   }
  },
  {
   "cell_type": "code",
   "execution_count": 8,
   "outputs": [
    {
     "data": {
      "text/plain": "   Sample ID  Parallel        Date      Time  P atm [hPa]   \n0       None       NaN  2023-04-17  14:42:00       1025.1  \\\n1        GT1       1.0  2023-04-19  14:42:00       1023.1   \n2        GT1       1.0  2023-04-24  10:20:00       1002.3   \n3        GT1       1.0  2023-04-24  11:25:00       1003.3   \n4        GT1       1.0  2023-04-26  08:52:00       1017.0   \n5        GT1       1.0  2023-04-26  09:53:00       1017.2   \n6        GT1       NaN  2023-04-28  09:45:00          NaN   \n7       None       NaN  2023-05-01  13:50:00       1013.1   \n8        GT1       1.0  2023-05-01  14:49:00       1013.3   \n9        GT1       1.0  2023-05-04  09:26:00       1017.9   \n10       GT1       NaN  2023-05-04  10:46:00       1017.2   \n11      None       1.0  2023-05-08  08:40:00       1018.7   \n12       GT1       1.0  2023-05-08  09:47:00          NaN   \n13       GT1       1.0  2023-05-10  09:35:00       1007.5   \n14       GT1       1.0  2023-05-10  10:40:00       1008.0   \n15      None       1.0  2023-05-12  09:09:00          NaN   \n16       GT1       1.0  2023-05-12  10:10:00       1014.9   \n17      None       1.0  2023-05-15  09:30:00       1012.5   \n18       GT1       1.0  2023-05-15  10:38:00       1012.8   \n19       GT1       1.0  2023-05-17  08:52:00       1025.0   \n20       GT1       1.0  2023-05-17  09:57:00       1025.6   \n21      None       1.0  2023-05-22  14:11:00       1013.1   \n22       GT1       NaN  2023-05-22  15:08:00       1013.6   \n\n    P sample before gc [hPa]  P sample after gc [hPa]  CH4 [%]  CO2 [%]   \n0                    1117.44                      NaN     0.00     0.03  \\\n1                     960.00                    958.1     0.12     1.53   \n2                     962.20                    959.8     0.25     2.41   \n3                    1104.60                   1085.8     0.00     0.74   \n4                     954.00                    951.0     0.03     2.72   \n5                        NaN                   1105.6     0.00     0.63   \n6                    1029.20                   1025.8     0.00     4.52   \n7                    1042.70                   1039.9     0.00     5.74   \n8                    1114.60                   1110.6      NaN      NaN   \n9                    1050.60                   1046.6     0.00     5.34   \n10                   1122.10                      NaN     0.00     0.50   \n11                   1037.50                   1035.2      NaN     6.98   \n12                   1123.20                      NaN     0.00     0.57   \n13                   1073.00                   1070.6     0.00     4.77   \n14                   1112.40                      NaN      NaN     0.40   \n15                   1068.80                   1066.2     0.00      NaN   \n16                   1118.60                   1115.3     0.00     0.41   \n17                   1068.20                      NaN     0.00     4.43   \n18                       NaN                   1113.5     0.00     0.42   \n19                   1088.60                   1086.7      NaN     3.02   \n20                   1129.00                   1125.8     0.00     0.29   \n21                       NaN                   1072.5     0.00     7.08   \n22                   1112.00                      NaN     0.00     0.64   \n\n    O2 [%]  N2 [%]  Flush (1=yes; 0=no)          Comments GC method   \n0    21.90   78.07                  NaN  start expiriment      None  \\\n1     2.21   96.64                  0.0              None      None   \n2     1.59   99.14                  0.0              None        LM   \n3    19.79   76.88                  1.0              None        LM   \n4     8.46   92.37                  0.0              None        LM   \n5      NaN   76.51                  1.0              None        LM   \n6    11.77   90.20                  0.0              None        LM   \n7     9.74   83.32                  0.0              None        LM   \n8    20.50     NaN                  1.0              None      None   \n9    12.97   86.62                  0.0              None        LM   \n10   20.32   75.56                  1.0              None        LM   \n11    8.07   85.33                  0.0              None        LM   \n12   20.11     NaN                  1.0              None        LM   \n13   15.79   90.70                  0.0              None        LM   \n14   20.24   75.24                  1.0              None      None   \n15     NaN   83.90                  0.0              None        LM   \n16   20.26   75.22                  1.0              None      None   \n17     NaN   90.13                  0.0              None        LM   \n18   20.54   76.23                  1.0              None        LM   \n19   18.61   87.70                  0.0              None        LM   \n20     NaN   76.21                  1.0              None      None   \n21   12.54   92.29                  0.0           Funges         LM   \n22   20.31   75.55                  1.0              None        LM   \n\n    Weight [g]  \n0       793.46  \n1          NaN  \n2          NaN  \n3       793.54  \n4          NaN  \n5          NaN  \n6          NaN  \n7          NaN  \n8          NaN  \n9          NaN  \n10      793.32  \n11         NaN  \n12      793.27  \n13         NaN  \n14      793.20  \n15         NaN  \n16      793.12  \n17         NaN  \n18         NaN  \n19         NaN  \n20      792.91  \n21         NaN  \n22         NaN  ",
      "text/html": "<div>\n<style scoped>\n    .dataframe tbody tr th:only-of-type {\n        vertical-align: middle;\n    }\n\n    .dataframe tbody tr th {\n        vertical-align: top;\n    }\n\n    .dataframe thead th {\n        text-align: right;\n    }\n</style>\n<table border=\"1\" class=\"dataframe\">\n  <thead>\n    <tr style=\"text-align: right;\">\n      <th></th>\n      <th>Sample ID</th>\n      <th>Parallel</th>\n      <th>Date</th>\n      <th>Time</th>\n      <th>P atm [hPa]</th>\n      <th>P sample before gc [hPa]</th>\n      <th>P sample after gc [hPa]</th>\n      <th>CH4 [%]</th>\n      <th>CO2 [%]</th>\n      <th>O2 [%]</th>\n      <th>N2 [%]</th>\n      <th>Flush (1=yes; 0=no)</th>\n      <th>Comments</th>\n      <th>GC method</th>\n      <th>Weight [g]</th>\n    </tr>\n  </thead>\n  <tbody>\n    <tr>\n      <th>0</th>\n      <td>None</td>\n      <td>NaN</td>\n      <td>2023-04-17</td>\n      <td>14:42:00</td>\n      <td>1025.1</td>\n      <td>1117.44</td>\n      <td>NaN</td>\n      <td>0.00</td>\n      <td>0.03</td>\n      <td>21.90</td>\n      <td>78.07</td>\n      <td>NaN</td>\n      <td>start expiriment</td>\n      <td>None</td>\n      <td>793.46</td>\n    </tr>\n    <tr>\n      <th>1</th>\n      <td>GT1</td>\n      <td>1.0</td>\n      <td>2023-04-19</td>\n      <td>14:42:00</td>\n      <td>1023.1</td>\n      <td>960.00</td>\n      <td>958.1</td>\n      <td>0.12</td>\n      <td>1.53</td>\n      <td>2.21</td>\n      <td>96.64</td>\n      <td>0.0</td>\n      <td>None</td>\n      <td>None</td>\n      <td>NaN</td>\n    </tr>\n    <tr>\n      <th>2</th>\n      <td>GT1</td>\n      <td>1.0</td>\n      <td>2023-04-24</td>\n      <td>10:20:00</td>\n      <td>1002.3</td>\n      <td>962.20</td>\n      <td>959.8</td>\n      <td>0.25</td>\n      <td>2.41</td>\n      <td>1.59</td>\n      <td>99.14</td>\n      <td>0.0</td>\n      <td>None</td>\n      <td>LM</td>\n      <td>NaN</td>\n    </tr>\n    <tr>\n      <th>3</th>\n      <td>GT1</td>\n      <td>1.0</td>\n      <td>2023-04-24</td>\n      <td>11:25:00</td>\n      <td>1003.3</td>\n      <td>1104.60</td>\n      <td>1085.8</td>\n      <td>0.00</td>\n      <td>0.74</td>\n      <td>19.79</td>\n      <td>76.88</td>\n      <td>1.0</td>\n      <td>None</td>\n      <td>LM</td>\n      <td>793.54</td>\n    </tr>\n    <tr>\n      <th>4</th>\n      <td>GT1</td>\n      <td>1.0</td>\n      <td>2023-04-26</td>\n      <td>08:52:00</td>\n      <td>1017.0</td>\n      <td>954.00</td>\n      <td>951.0</td>\n      <td>0.03</td>\n      <td>2.72</td>\n      <td>8.46</td>\n      <td>92.37</td>\n      <td>0.0</td>\n      <td>None</td>\n      <td>LM</td>\n      <td>NaN</td>\n    </tr>\n    <tr>\n      <th>5</th>\n      <td>GT1</td>\n      <td>1.0</td>\n      <td>2023-04-26</td>\n      <td>09:53:00</td>\n      <td>1017.2</td>\n      <td>NaN</td>\n      <td>1105.6</td>\n      <td>0.00</td>\n      <td>0.63</td>\n      <td>NaN</td>\n      <td>76.51</td>\n      <td>1.0</td>\n      <td>None</td>\n      <td>LM</td>\n      <td>NaN</td>\n    </tr>\n    <tr>\n      <th>6</th>\n      <td>GT1</td>\n      <td>NaN</td>\n      <td>2023-04-28</td>\n      <td>09:45:00</td>\n      <td>NaN</td>\n      <td>1029.20</td>\n      <td>1025.8</td>\n      <td>0.00</td>\n      <td>4.52</td>\n      <td>11.77</td>\n      <td>90.20</td>\n      <td>0.0</td>\n      <td>None</td>\n      <td>LM</td>\n      <td>NaN</td>\n    </tr>\n    <tr>\n      <th>7</th>\n      <td>None</td>\n      <td>NaN</td>\n      <td>2023-05-01</td>\n      <td>13:50:00</td>\n      <td>1013.1</td>\n      <td>1042.70</td>\n      <td>1039.9</td>\n      <td>0.00</td>\n      <td>5.74</td>\n      <td>9.74</td>\n      <td>83.32</td>\n      <td>0.0</td>\n      <td>None</td>\n      <td>LM</td>\n      <td>NaN</td>\n    </tr>\n    <tr>\n      <th>8</th>\n      <td>GT1</td>\n      <td>1.0</td>\n      <td>2023-05-01</td>\n      <td>14:49:00</td>\n      <td>1013.3</td>\n      <td>1114.60</td>\n      <td>1110.6</td>\n      <td>NaN</td>\n      <td>NaN</td>\n      <td>20.50</td>\n      <td>NaN</td>\n      <td>1.0</td>\n      <td>None</td>\n      <td>None</td>\n      <td>NaN</td>\n    </tr>\n    <tr>\n      <th>9</th>\n      <td>GT1</td>\n      <td>1.0</td>\n      <td>2023-05-04</td>\n      <td>09:26:00</td>\n      <td>1017.9</td>\n      <td>1050.60</td>\n      <td>1046.6</td>\n      <td>0.00</td>\n      <td>5.34</td>\n      <td>12.97</td>\n      <td>86.62</td>\n      <td>0.0</td>\n      <td>None</td>\n      <td>LM</td>\n      <td>NaN</td>\n    </tr>\n    <tr>\n      <th>10</th>\n      <td>GT1</td>\n      <td>NaN</td>\n      <td>2023-05-04</td>\n      <td>10:46:00</td>\n      <td>1017.2</td>\n      <td>1122.10</td>\n      <td>NaN</td>\n      <td>0.00</td>\n      <td>0.50</td>\n      <td>20.32</td>\n      <td>75.56</td>\n      <td>1.0</td>\n      <td>None</td>\n      <td>LM</td>\n      <td>793.32</td>\n    </tr>\n    <tr>\n      <th>11</th>\n      <td>None</td>\n      <td>1.0</td>\n      <td>2023-05-08</td>\n      <td>08:40:00</td>\n      <td>1018.7</td>\n      <td>1037.50</td>\n      <td>1035.2</td>\n      <td>NaN</td>\n      <td>6.98</td>\n      <td>8.07</td>\n      <td>85.33</td>\n      <td>0.0</td>\n      <td>None</td>\n      <td>LM</td>\n      <td>NaN</td>\n    </tr>\n    <tr>\n      <th>12</th>\n      <td>GT1</td>\n      <td>1.0</td>\n      <td>2023-05-08</td>\n      <td>09:47:00</td>\n      <td>NaN</td>\n      <td>1123.20</td>\n      <td>NaN</td>\n      <td>0.00</td>\n      <td>0.57</td>\n      <td>20.11</td>\n      <td>NaN</td>\n      <td>1.0</td>\n      <td>None</td>\n      <td>LM</td>\n      <td>793.27</td>\n    </tr>\n    <tr>\n      <th>13</th>\n      <td>GT1</td>\n      <td>1.0</td>\n      <td>2023-05-10</td>\n      <td>09:35:00</td>\n      <td>1007.5</td>\n      <td>1073.00</td>\n      <td>1070.6</td>\n      <td>0.00</td>\n      <td>4.77</td>\n      <td>15.79</td>\n      <td>90.70</td>\n      <td>0.0</td>\n      <td>None</td>\n      <td>LM</td>\n      <td>NaN</td>\n    </tr>\n    <tr>\n      <th>14</th>\n      <td>GT1</td>\n      <td>1.0</td>\n      <td>2023-05-10</td>\n      <td>10:40:00</td>\n      <td>1008.0</td>\n      <td>1112.40</td>\n      <td>NaN</td>\n      <td>NaN</td>\n      <td>0.40</td>\n      <td>20.24</td>\n      <td>75.24</td>\n      <td>1.0</td>\n      <td>None</td>\n      <td>None</td>\n      <td>793.20</td>\n    </tr>\n    <tr>\n      <th>15</th>\n      <td>None</td>\n      <td>1.0</td>\n      <td>2023-05-12</td>\n      <td>09:09:00</td>\n      <td>NaN</td>\n      <td>1068.80</td>\n      <td>1066.2</td>\n      <td>0.00</td>\n      <td>NaN</td>\n      <td>NaN</td>\n      <td>83.90</td>\n      <td>0.0</td>\n      <td>None</td>\n      <td>LM</td>\n      <td>NaN</td>\n    </tr>\n    <tr>\n      <th>16</th>\n      <td>GT1</td>\n      <td>1.0</td>\n      <td>2023-05-12</td>\n      <td>10:10:00</td>\n      <td>1014.9</td>\n      <td>1118.60</td>\n      <td>1115.3</td>\n      <td>0.00</td>\n      <td>0.41</td>\n      <td>20.26</td>\n      <td>75.22</td>\n      <td>1.0</td>\n      <td>None</td>\n      <td>None</td>\n      <td>793.12</td>\n    </tr>\n    <tr>\n      <th>17</th>\n      <td>None</td>\n      <td>1.0</td>\n      <td>2023-05-15</td>\n      <td>09:30:00</td>\n      <td>1012.5</td>\n      <td>1068.20</td>\n      <td>NaN</td>\n      <td>0.00</td>\n      <td>4.43</td>\n      <td>NaN</td>\n      <td>90.13</td>\n      <td>0.0</td>\n      <td>None</td>\n      <td>LM</td>\n      <td>NaN</td>\n    </tr>\n    <tr>\n      <th>18</th>\n      <td>GT1</td>\n      <td>1.0</td>\n      <td>2023-05-15</td>\n      <td>10:38:00</td>\n      <td>1012.8</td>\n      <td>NaN</td>\n      <td>1113.5</td>\n      <td>0.00</td>\n      <td>0.42</td>\n      <td>20.54</td>\n      <td>76.23</td>\n      <td>1.0</td>\n      <td>None</td>\n      <td>LM</td>\n      <td>NaN</td>\n    </tr>\n    <tr>\n      <th>19</th>\n      <td>GT1</td>\n      <td>1.0</td>\n      <td>2023-05-17</td>\n      <td>08:52:00</td>\n      <td>1025.0</td>\n      <td>1088.60</td>\n      <td>1086.7</td>\n      <td>NaN</td>\n      <td>3.02</td>\n      <td>18.61</td>\n      <td>87.70</td>\n      <td>0.0</td>\n      <td>None</td>\n      <td>LM</td>\n      <td>NaN</td>\n    </tr>\n    <tr>\n      <th>20</th>\n      <td>GT1</td>\n      <td>1.0</td>\n      <td>2023-05-17</td>\n      <td>09:57:00</td>\n      <td>1025.6</td>\n      <td>1129.00</td>\n      <td>1125.8</td>\n      <td>0.00</td>\n      <td>0.29</td>\n      <td>NaN</td>\n      <td>76.21</td>\n      <td>1.0</td>\n      <td>None</td>\n      <td>None</td>\n      <td>792.91</td>\n    </tr>\n    <tr>\n      <th>21</th>\n      <td>None</td>\n      <td>1.0</td>\n      <td>2023-05-22</td>\n      <td>14:11:00</td>\n      <td>1013.1</td>\n      <td>NaN</td>\n      <td>1072.5</td>\n      <td>0.00</td>\n      <td>7.08</td>\n      <td>12.54</td>\n      <td>92.29</td>\n      <td>0.0</td>\n      <td>Funges</td>\n      <td>LM</td>\n      <td>NaN</td>\n    </tr>\n    <tr>\n      <th>22</th>\n      <td>GT1</td>\n      <td>NaN</td>\n      <td>2023-05-22</td>\n      <td>15:08:00</td>\n      <td>1013.6</td>\n      <td>1112.00</td>\n      <td>NaN</td>\n      <td>0.00</td>\n      <td>0.64</td>\n      <td>20.31</td>\n      <td>75.55</td>\n      <td>1.0</td>\n      <td>None</td>\n      <td>LM</td>\n      <td>NaN</td>\n    </tr>\n  </tbody>\n</table>\n</div>"
     },
     "metadata": {},
     "output_type": "display_data"
    }
   ],
   "source": [
    "display(instance_of_class_validation.dict_data_frames[\"GT1.1\"])"
   ],
   "metadata": {
    "collapsed": false,
    "ExecuteTime": {
     "end_time": "2023-06-13T15:01:39.954397300Z",
     "start_time": "2023-06-13T15:01:39.896056200Z"
    }
   }
  },
  {
   "cell_type": "code",
   "execution_count": 9,
   "outputs": [
    {
     "name": "stdout",
     "output_type": "stream",
     "text": [
      "{'GT1.1': {'Weight [g]': [5, 8, 18, 22]}, 'GT1.2': {'Weight [g]': [5, 12, 18, 22]}, 'GT2.1': {'Weight [g]': [3, 10, 15]}, 'GT2.2': {'Weight [g]': [8, 19]}}\n"
     ]
    }
   ],
   "source": [
    "print(instance_of_class_validation.dict_indexes_as_pandas_no_weight_when_flush)"
   ],
   "metadata": {
    "collapsed": false,
    "ExecuteTime": {
     "end_time": "2023-06-13T15:01:39.997148400Z",
     "start_time": "2023-06-13T15:01:39.956508900Z"
    }
   }
  },
  {
   "cell_type": "code",
   "execution_count": 9,
   "outputs": [],
   "source": [],
   "metadata": {
    "collapsed": false,
    "ExecuteTime": {
     "end_time": "2023-06-13T15:01:40.030668Z",
     "start_time": "2023-06-13T15:01:39.971451Z"
    }
   }
  }
 ],
 "metadata": {
  "kernelspec": {
   "display_name": "Python 3",
   "language": "python",
   "name": "python3"
  },
  "language_info": {
   "codemirror_mode": {
    "name": "ipython",
    "version": 2
   },
   "file_extension": ".py",
   "mimetype": "text/x-python",
   "name": "python",
   "nbconvert_exporter": "python",
   "pygments_lexer": "ipython2",
   "version": "2.7.6"
  }
 },
 "nbformat": 4,
 "nbformat_minor": 0
}
