{
 "cells": [
  {
   "cell_type": "code",
   "execution_count": 1,
   "metadata": {
    "collapsed": true,
    "ExecuteTime": {
     "end_time": "2023-06-12T12:32:59.985345400Z",
     "start_time": "2023-06-12T12:32:59.093597Z"
    }
   },
   "outputs": [],
   "source": [
    "# from data_classes import OwnColors, FillType\n",
    "from excel_manager import ExcelManager\n",
    "from nice_functions import NiceExcelFunction\n",
    "from validate_input_data import validate_if_there_is_a_float_or_integer_in_cell, style_color_cells_with_given_indexes"
   ]
  },
  {
   "cell_type": "code",
   "execution_count": 2,
   "outputs": [],
   "source": [
    "\n",
    "path = r\"C:\\Users\\robbe\\Downloads\\python\\checking validate input sheets\\python_plain_data_wrong_input_cells_like_no_float_or_int - Copy.xlsx\""
   ],
   "metadata": {
    "collapsed": false,
    "ExecuteTime": {
     "end_time": "2023-06-12T12:32:59.998966400Z",
     "start_time": "2023-06-12T12:32:59.988046500Z"
    }
   }
  },
  {
   "cell_type": "code",
   "execution_count": 3,
   "outputs": [
    {
     "name": "stdout",
     "output_type": "stream",
     "text": [
      "['GT1.1', 'GT1.2', 'GT2.1', 'GT2.2']\n"
     ]
    }
   ],
   "source": [
    "#make instance of excel manger\n",
    "manager = ExcelManager(path)\n",
    "\n",
    "# load the workbook in\n",
    "manager.load_workbook()\n",
    "\n",
    "# check the sheet names\n",
    "sheet_names = manager.get_sheet_names()\n",
    "print(sheet_names)"
   ],
   "metadata": {
    "collapsed": false,
    "ExecuteTime": {
     "end_time": "2023-06-12T12:33:00.199193300Z",
     "start_time": "2023-06-12T12:33:00.004371400Z"
    }
   }
  },
  {
   "cell_type": "code",
   "execution_count": 4,
   "outputs": [
    {
     "name": "stdout",
     "output_type": "stream",
     "text": [
      "started with sheet: GT1.1\n"
     ]
    }
   ],
   "source": [
    "start_row_table = 13\n",
    "column_end = NiceExcelFunction.get_column_index_from_letter(column_letter=\"O\")\n",
    "\n",
    "\n",
    "sheet_names_samples = sheet_names[:1]\n",
    "for sheet_name in sheet_names_samples:\n",
    "    print(f\"started with sheet: {sheet_name}\")\n",
    "    # loading the data frame\n",
    "    data_frame = manager.load_sheet_table(sheet_name=sheet_name, start_row=start_row_table, end_column=column_end)\n",
    "\n",
    "    manager.fill_dict_panda_data_frames(data_frame=data_frame, sheets=[sheet_name])"
   ],
   "metadata": {
    "collapsed": false,
    "ExecuteTime": {
     "end_time": "2023-06-12T12:33:00.215778700Z",
     "start_time": "2023-06-12T12:33:00.203081900Z"
    }
   }
  },
  {
   "cell_type": "code",
   "execution_count": 5,
   "outputs": [],
   "source": [
    "dict_data_frames = manager.get_dict_panda_data_frames()"
   ],
   "metadata": {
    "collapsed": false,
    "ExecuteTime": {
     "end_time": "2023-06-12T12:33:00.275571200Z",
     "start_time": "2023-06-12T12:33:00.219473700Z"
    }
   }
  },
  {
   "cell_type": "markdown",
   "source": [],
   "metadata": {
    "collapsed": false
   }
  },
  {
   "cell_type": "code",
   "execution_count": 6,
   "outputs": [
    {
     "name": "stdout",
     "output_type": "stream",
     "text": [
      "{'GT1.1': {'P atm [hPa]': [6, 12, 15], 'P sample before gc [hPa]': [5, 18, 21], 'P sample after gc [hPa]': [0, 10, 12, 14, 17, 22], 'CH4 [%]': [8, 11, 14, 19], 'CO2 [%]': [8, 15], 'O2 [%]': [5, 15, 17, 20], 'N2 [%]': [8, 12], 'Flush (1=yes; 0=no)': [0]}}\n"
     ]
    }
   ],
   "source": [
    "dict_sheet_name_column_names_indexes = {}\n",
    "list_column_names_to_be_checked = ['P atm [hPa]', 'P sample before gc [hPa]', 'P sample after gc [hPa]', 'CH4 [%]', 'CO2 [%]', 'O2 [%]', 'N2 [%]', 'Flush (1=yes; 0=no)']\n",
    "\n",
    "for sheet_name in sheet_names_samples:\n",
    "    dict_sheet_name_column_names_indexes[sheet_name]= {}\n",
    "    data_frame = dict_data_frames[sheet_name]\n",
    "    for column_name in list_column_names_to_be_checked:\n",
    "        indexes = validate_if_there_is_a_float_or_integer_in_cell(data_frame=data_frame, column_name=column_name)\n",
    "        if indexes[1] is not True:\n",
    "            dict_sheet_name_column_names_indexes[sheet_name][column_name] = indexes[1]\n",
    "\n",
    "print(dict_sheet_name_column_names_indexes)"
   ],
   "metadata": {
    "collapsed": false,
    "ExecuteTime": {
     "end_time": "2023-06-12T12:33:00.290159600Z",
     "start_time": "2023-06-12T12:33:00.237108Z"
    }
   }
  },
  {
   "cell_type": "code",
   "execution_count": 7,
   "outputs": [
    {
     "data": {
      "text/plain": "{'P atm [hPa]': [6, 12, 15],\n 'P sample before gc [hPa]': [5, 18, 21],\n 'P sample after gc [hPa]': [0, 10, 12, 14, 17, 22],\n 'CH4 [%]': [8, 11, 14, 19],\n 'CO2 [%]': [8, 15],\n 'O2 [%]': [5, 15, 17, 20],\n 'N2 [%]': [8, 12],\n 'Flush (1=yes; 0=no)': [0]}"
     },
     "execution_count": 7,
     "metadata": {},
     "output_type": "execute_result"
    }
   ],
   "source": [
    "dict_sheet_name_column_names_indexes[\"GT1.1\"]"
   ],
   "metadata": {
    "collapsed": false,
    "ExecuteTime": {
     "end_time": "2023-06-12T12:33:00.290159600Z",
     "start_time": "2023-06-12T12:33:00.247779600Z"
    }
   }
  },
  {
   "cell_type": "code",
   "execution_count": 8,
   "outputs": [
    {
     "name": "stdout",
     "output_type": "stream",
     "text": [
      "started with GT1.1\n",
      "P atm [hPa]\n",
      "E\n",
      "P atm [hPa] is done\n",
      "P sample before gc [hPa]\n",
      "F\n",
      "P sample before gc [hPa] is done\n",
      "P sample after gc [hPa]\n",
      "G\n",
      "P sample after gc [hPa] is done\n",
      "CH4 [%]\n",
      "H\n",
      "CH4 [%] is done\n",
      "CO2 [%]\n",
      "I\n",
      "CO2 [%] is done\n",
      "O2 [%]\n",
      "J\n",
      "O2 [%] is done\n",
      "N2 [%]\n",
      "K\n",
      "N2 [%] is done\n",
      "Flush (1=yes; 0=no)\n",
      "L\n",
      "Flush (1=yes; 0=no) is done\n"
     ]
    }
   ],
   "source": [
    "from data_classes import OwnColors, FillType\n",
    "\n",
    "workbook_copy_for_wrong_data= manager.create_new_workbook()\n",
    "\n",
    "style_color_cells_with_given_indexes(workbook=workbook_copy_for_wrong_data, dict_sheet_name_column_names_indexes=dict_sheet_name_column_names_indexes,\n",
    "                                     header_row=start_row_table, color=\"FFFF00\", fill_type=\"solid\",start_row_values_table_in_excel=start_row_table+1, show_process=True)\n",
    "\n",
    "\n",
    "ExcelManager.make_excel_based_on_workbook(workbook=workbook_copy_for_wrong_data, path_directory=r\"C:\\Users\\robbe\\Downloads\\python\\checking validate input sheets\\output\", filename=\"output_check2\")\n"
   ],
   "metadata": {
    "collapsed": false,
    "ExecuteTime": {
     "end_time": "2023-06-12T12:33:00.513427900Z",
     "start_time": "2023-06-12T12:33:00.275571200Z"
    }
   }
  },
  {
   "cell_type": "code",
   "execution_count": 8,
   "outputs": [],
   "source": [],
   "metadata": {
    "collapsed": false,
    "ExecuteTime": {
     "end_time": "2023-06-12T12:33:00.533128Z",
     "start_time": "2023-06-12T12:33:00.513427900Z"
    }
   }
  }
 ],
 "metadata": {
  "kernelspec": {
   "display_name": "Python 3",
   "language": "python",
   "name": "python3"
  },
  "language_info": {
   "codemirror_mode": {
    "name": "ipython",
    "version": 2
   },
   "file_extension": ".py",
   "mimetype": "text/x-python",
   "name": "python",
   "nbconvert_exporter": "python",
   "pygments_lexer": "ipython2",
   "version": "2.7.6"
  }
 },
 "nbformat": 4,
 "nbformat_minor": 0
}
