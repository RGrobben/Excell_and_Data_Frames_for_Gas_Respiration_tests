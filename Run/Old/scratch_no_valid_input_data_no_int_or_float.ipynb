{
 "cells": [
  {
   "cell_type": "code",
   "execution_count": 1,
   "metadata": {
    "collapsed": true
   },
   "outputs": [],
   "source": [
    "# from data_classes import OwnColors, FillType\n",
    "from excel_manager import ExcelManager\n",
    "from nice_functions import NiceExcelFunction\n",
    "from validate_input_data import validate_if_there_is_a_float_or_integer_in_cell, style_color_cells_with_given_indexes, \\\n",
    "    validate_if_all_cells_are_correctly_filled"
   ]
  },
  {
   "cell_type": "code",
   "execution_count": 2,
   "outputs": [],
   "source": [
    "\n",
    "path = r\"C:\\Users\\robbe\\Downloads\\python\\checking validate input sheets\\python_plain_data_wrong_input_cells_like_no_float_or_int - Copy.xlsx\""
   ],
   "metadata": {
    "collapsed": false
   }
  },
  {
   "cell_type": "code",
   "execution_count": 3,
   "outputs": [
    {
     "name": "stdout",
     "output_type": "stream",
     "text": [
      "['GT1.1', 'GT1.2', 'GT2.1', 'GT2.2']\n"
     ]
    }
   ],
   "source": [
    "#make instance of excel manger\n",
    "manager = ExcelManager(path)\n",
    "\n",
    "# load the workbook in\n",
    "manager.load_workbook()\n",
    "\n",
    "# check the sheet names\n",
    "sheet_names = manager.get_sheet_names()\n",
    "print(sheet_names)"
   ],
   "metadata": {
    "collapsed": false
   }
  },
  {
   "cell_type": "code",
   "execution_count": 4,
   "outputs": [
    {
     "name": "stdout",
     "output_type": "stream",
     "text": [
      "started with sheet: GT1.1\n",
      "started with sheet: GT1.2\n",
      "started with sheet: GT2.1\n",
      "started with sheet: GT2.2\n"
     ]
    }
   ],
   "source": [
    "start_row_table = 13\n",
    "column_end = NiceExcelFunction.get_column_index_from_letter(column_letter=\"O\")\n",
    "\n",
    "\n",
    "sheet_names_samples = sheet_names[:]\n",
    "for sheet_name in sheet_names_samples:\n",
    "    print(f\"started with sheet: {sheet_name}\")\n",
    "    # loading the data frame\n",
    "    data_frame = manager.load_sheet_table(sheet_name=sheet_name, start_row=start_row_table, end_column=column_end)\n",
    "\n",
    "    manager.fill_dict_panda_data_frames(data_frame=data_frame, sheets=[sheet_name])"
   ],
   "metadata": {
    "collapsed": false
   }
  },
  {
   "cell_type": "code",
   "execution_count": 5,
   "outputs": [],
   "source": [
    "dict_data_frames = manager.get_dict_panda_data_frames()"
   ],
   "metadata": {
    "collapsed": false
   }
  },
  {
   "cell_type": "markdown",
   "source": [],
   "metadata": {
    "collapsed": false
   }
  },
  {
   "cell_type": "code",
   "execution_count": 10,
   "outputs": [],
   "source": [
    "# dict_sheet_name_column_names_indexes = {}\n",
    "# list_column_names_to_be_checked = ['P atm [hPa]', 'P sample before gc [hPa]', 'P sample after gc [hPa]', 'CH4 [%]', 'CO2 [%]', 'O2 [%]', 'N2 [%]', 'Flush (1=yes; 0=no)']\n",
    "#\n",
    "# for sheet_name in sheet_names_samples:\n",
    "#     dict_sheet_name_column_names_indexes[sheet_name]= {}\n",
    "#     data_frame = dict_data_frames[sheet_name]\n",
    "#     for column_name in list_column_names_to_be_checked:\n",
    "#         indexes = validate_if_there_is_a_float_or_integer_in_cell(data_frame=data_frame, column_name=column_name)\n",
    "#         if indexes[1] is not True:\n",
    "#             dict_sheet_name_column_names_indexes[sheet_name][column_name] = indexes[1]\n",
    "#\n",
    "# print(dict_sheet_name_column_names_indexes)"
   ],
   "metadata": {
    "collapsed": false,
    "ExecuteTime": {
     "end_time": "2023-06-12T13:46:21.109714400Z",
     "start_time": "2023-06-12T13:46:21.095630Z"
    }
   }
  },
  {
   "cell_type": "code",
   "execution_count": 13,
   "outputs": [
    {
     "name": "stdout",
     "output_type": "stream",
     "text": [
      "fill in the dict\n",
      "GT1.1  with column P atm [hPa] is done\n",
      "GT1.1  with column P sample before gc [hPa] is done\n",
      "GT1.1  with column P sample after gc [hPa] is done\n",
      "GT1.1  with column CH4 [%] is done\n",
      "GT1.1  with column CO2 [%] is done\n",
      "GT1.1  with column O2 [%] is done\n",
      "GT1.1  with column N2 [%] is done\n",
      "GT1.1  with column Flush (1=yes; 0=no) is done\n",
      "GT1.2  with column P atm [hPa] is done\n",
      "GT1.2  with column P sample before gc [hPa] is done\n",
      "GT1.2  with column P sample after gc [hPa] is done\n",
      "GT1.2  with column CH4 [%] is done\n",
      "GT1.2  with column CO2 [%] is done\n",
      "GT1.2  with column O2 [%] is done\n",
      "GT1.2  with column N2 [%] is done\n",
      "GT1.2  with column Flush (1=yes; 0=no) is done\n",
      "GT2.1  with column P atm [hPa] is done\n",
      "GT2.1  with column P sample before gc [hPa] is done\n",
      "GT2.1  with column P sample after gc [hPa] is done\n",
      "GT2.1  with column CH4 [%] is done\n",
      "GT2.1  with column CO2 [%] is done\n",
      "GT2.1  with column O2 [%] is done\n",
      "GT2.1  with column N2 [%] is done\n",
      "GT2.1  with column Flush (1=yes; 0=no) is done\n",
      "GT2.2  with column P atm [hPa] is done\n",
      "GT2.2  with column P sample before gc [hPa] is done\n",
      "GT2.2  with column P sample after gc [hPa] is done\n",
      "GT2.2  with column CH4 [%] is done\n",
      "GT2.2  with column CO2 [%] is done\n",
      "GT2.2  with column O2 [%] is done\n",
      "GT2.2  with column N2 [%] is done\n",
      "GT2.2  with column Flush (1=yes; 0=no) is done\n",
      "fill the cells in the workbook\n",
      "started with GT1.1\n",
      "started with GT1.2\n",
      "started with GT2.1\n",
      "started with GT2.2\n",
      "greate excel file with workbook\n"
     ]
    }
   ],
   "source": [
    "list_column_names_to_be_checked = ['P atm [hPa]', 'P sample before gc [hPa]', 'P sample after gc [hPa]', 'CH4 [%]', 'CO2 [%]', 'O2 [%]', 'N2 [%]', 'Flush (1=yes; 0=no)']\n",
    "header_row = 13\n",
    "start_row_table = header_row + 1\n",
    "workbook_copy_for_wrong_data= manager.create_new_workbook()\n",
    "path_directory_for_new_excel = r\"C:\\Users\\robbe\\Downloads\\python\\checking validate input sheets\\output\"\n",
    "file_name_new_excel_file = \"output_check3\"\n",
    "\n",
    "\n",
    "\n",
    "instance_of_class_validation = validate_if_all_cells_are_correctly_filled(dict_data_frames=dict_data_frames)\n",
    "print(f\"fill in the dict\")\n",
    "instance_of_class_validation.fill_dict_indexes_as_panda_indexes_no_int_or_float(list_column_names_to_be_checked=list_column_names_to_be_checked, show_process=True)\n",
    "print(f\"fill the cells in the workbook\")\n",
    "instance_of_class_validation.fill_wrong_cells_in_excel_no_int_or_float(workbook=workbook_copy_for_wrong_data, header_row=header_row, start_row_values_table_in_excel=start_row_table, show_process=True)\n",
    "print(f\"greate excel file with workbook\")\n",
    "ExcelManager.make_excel_based_on_workbook(workbook=workbook_copy_for_wrong_data, path_directory=path_directory_for_new_excel, filename=file_name_new_excel_file)\n",
    "\n"
   ],
   "metadata": {
    "collapsed": false,
    "ExecuteTime": {
     "end_time": "2023-06-12T13:48:46.702179100Z",
     "start_time": "2023-06-12T13:48:46.434853400Z"
    }
   }
  },
  {
   "cell_type": "code",
   "execution_count": null,
   "outputs": [],
   "source": [],
   "metadata": {
    "collapsed": false
   }
  },
  {
   "cell_type": "code",
   "execution_count": null,
   "outputs": [],
   "source": [],
   "metadata": {
    "collapsed": false
   }
  },
  {
   "cell_type": "code",
   "execution_count": null,
   "outputs": [],
   "source": [],
   "metadata": {
    "collapsed": false
   }
  }
 ],
 "metadata": {
  "kernelspec": {
   "display_name": "Python 3",
   "language": "python",
   "name": "python3"
  },
  "language_info": {
   "codemirror_mode": {
    "name": "ipython",
    "version": 2
   },
   "file_extension": ".py",
   "mimetype": "text/x-python",
   "name": "python",
   "nbconvert_exporter": "python",
   "pygments_lexer": "ipython2",
   "version": "2.7.6"
  }
 },
 "nbformat": 4,
 "nbformat_minor": 0
}
